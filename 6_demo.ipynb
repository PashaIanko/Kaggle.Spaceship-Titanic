{
  "nbformat": 4,
  "nbformat_minor": 0,
  "metadata": {
    "colab": {
      "provenance": [],
      "toc_visible": true,
      "authorship_tag": "ABX9TyNWirRy9OAouM//FF8Eupf1",
      "include_colab_link": true
    },
    "kernelspec": {
      "name": "python3",
      "display_name": "Python 3"
    },
    "language_info": {
      "name": "python"
    }
  },
  "cells": [
    {
      "cell_type": "markdown",
      "metadata": {
        "id": "view-in-github",
        "colab_type": "text"
      },
      "source": [
        "<a href=\"https://colab.research.google.com/github/PashaIanko/Kaggle.Spaceship-Titanic/blob/main/6_demo.ipynb\" target=\"_parent\"><img src=\"https://colab.research.google.com/assets/colab-badge.svg\" alt=\"Open In Colab\"/></a>"
      ]
    },
    {
      "cell_type": "markdown",
      "source": [
        "# Kaggle series. Spaceship titanic"
      ],
      "metadata": {
        "id": "Ali8e9Zp6ftm"
      }
    },
    {
      "cell_type": "markdown",
      "source": [
        "# Imports\n"
      ],
      "metadata": {
        "id": "hYSL-hUG6nKf"
      }
    },
    {
      "cell_type": "markdown",
      "source": [
        "## Packages"
      ],
      "metadata": {
        "id": "QY8S9CIe6r1o"
      }
    },
    {
      "cell_type": "code",
      "execution_count": 94,
      "metadata": {
        "id": "At-y9x-O6YZo"
      },
      "outputs": [],
      "source": [
        "# colab\n",
        "from google.colab import drive\n",
        "\n",
        "# data\n",
        "import pandas as pd\n",
        "pd.set_option('display.max_columns', None)\n",
        "\n",
        "# math\n",
        "import numpy as np\n",
        "\n",
        "# preprocessing\n",
        "from sklearn.pipeline import Pipeline\n",
        "from sklearn.compose import ColumnTransformer\n",
        "from sklearn.preprocessing import MinMaxScaler\n",
        "\n",
        "from sklearn.preprocessing import StandardScaler\n",
        "from sklearn.preprocessing import OneHotEncoder\n",
        "from sklearn.preprocessing import OrdinalEncoder\n",
        "from sklearn.impute import SimpleImputer\n",
        "\n",
        "from sklearn.model_selection import train_test_split\n",
        "\n",
        "# visualization\n",
        "import matplotlib.pyplot as plt"
      ]
    },
    {
      "cell_type": "markdown",
      "source": [
        "## PEP8 code standard"
      ],
      "metadata": {
        "id": "XgXTpVe86qYj"
      }
    },
    {
      "cell_type": "code",
      "source": [
        "%%capture\n",
        "!pip install pycodestyle\n",
        "!pip install --index-url https://test.pypi.org/simple/ nbpep8\n",
        "\n",
        "from nbpep8.nbpep8 import pep8"
      ],
      "metadata": {
        "id": "35uFqeJX6phb"
      },
      "execution_count": 2,
      "outputs": []
    },
    {
      "cell_type": "markdown",
      "source": [
        "## Importing custom packages"
      ],
      "metadata": {
        "id": "UVpZms7Z6x56"
      }
    },
    {
      "cell_type": "code",
      "source": [
        "%%capture\n",
        "def download_files(url_dict):\n",
        "    for file, url in url_dict.items():\n",
        "        !wget -O {file} {url} {file}\n",
        "\n",
        "git_download_path = \\\n",
        "    'https://raw.githubusercontent.com/PashaIanko/Sklearn-Utils/main/'\n",
        "\n",
        "files = [\n",
        "    'path_manager.py',\n",
        "    'sklearn_transformers.py',\n",
        "    'sklearn_utils.py'\n",
        "]\n",
        "\n",
        "url_dict = {file: git_download_path + file for file in files}\n",
        "download_files(url_dict)"
      ],
      "metadata": {
        "id": "avQCsUiO6xWD"
      },
      "execution_count": 3,
      "outputs": []
    },
    {
      "cell_type": "code",
      "source": [
        "import importlib\n",
        "import path_manager\n",
        "import sklearn_utils\n",
        "import sklearn_transformers\n",
        "\n",
        "def reload_modules(modules):\n",
        "    for module in modules:\n",
        "        importlib.reload(module)\n",
        "\n",
        "reload_modules(\n",
        "    [\n",
        "        path_manager,\n",
        "        sklearn_transformers,\n",
        "        sklearn_utils\n",
        "    ]\n",
        ")\n",
        "\n",
        "from path_manager import PathManager\n",
        "from sklearn_transformers import ColumnDropper\n",
        "from sklearn_utils import inf_statistics\n",
        "from sklearn_transformers import OutlierCleaner"
      ],
      "metadata": {
        "id": "fiiUcS8C604t"
      },
      "execution_count": 4,
      "outputs": []
    },
    {
      "cell_type": "markdown",
      "source": [
        "# Set up paths"
      ],
      "metadata": {
        "id": "I0_QbCRr64vM"
      }
    },
    {
      "cell_type": "code",
      "source": [
        "drive.mount('/content/gdrive')\n",
        "gdrive_path = '/content/gdrive/MyDrive/'\n",
        "\n",
        "PREPROC_TRIAL = 'Demo'\n",
        "MODELS_TRIAL = 'Demo'\n",
        "COMPETITION_PATH = gdrive_path + 'ML/Competitions/6.SpaceshipTitanic/'\n",
        "\n",
        "manager = PathManager(\n",
        "    competition_path=COMPETITION_PATH,\n",
        "    preprocessing_trial=PREPROC_TRIAL,\n",
        "    models_trial=MODELS_TRIAL\n",
        ")\n",
        "manager.setup_paths()"
      ],
      "metadata": {
        "colab": {
          "base_uri": "https://localhost:8080/"
        },
        "id": "6StB9puy629n",
        "outputId": "d996a228-93a0-4138-be9a-14240f5566b2"
      },
      "execution_count": 5,
      "outputs": [
        {
          "output_type": "stream",
          "name": "stdout",
          "text": [
            "Mounted at /content/gdrive\n"
          ]
        }
      ]
    },
    {
      "cell_type": "markdown",
      "source": [
        "# Download the data"
      ],
      "metadata": {
        "id": "XQliqwkO7E7K"
      }
    },
    {
      "cell_type": "code",
      "source": [
        "df_train = pd.read_csv(manager.train_path, index_col='Unnamed: 0')\n",
        "df_test = pd.read_csv(manager.test_path, index_col='Unnamed: 0')"
      ],
      "metadata": {
        "id": "6oKtZhS-6-_8"
      },
      "execution_count": 6,
      "outputs": []
    },
    {
      "cell_type": "markdown",
      "source": [
        "# Checking NAN & Infinity values"
      ],
      "metadata": {
        "id": "cduF9qWB7IZB"
      }
    },
    {
      "cell_type": "code",
      "source": [
        "from sklearn_utils import (\n",
        "    nan_statistics,\n",
        "    inf_statistics\n",
        ")"
      ],
      "metadata": {
        "id": "_9P8ejPs7G83"
      },
      "execution_count": 7,
      "outputs": []
    },
    {
      "cell_type": "code",
      "source": [
        "_ = nan_statistics(df_train)\n",
        "print('')\n",
        "_ = nan_statistics(df_test)"
      ],
      "metadata": {
        "colab": {
          "base_uri": "https://localhost:8080/"
        },
        "id": "CuATmMEK7Oc5",
        "outputId": "4bf07138-1006-402d-e3f5-34f3b1c2bd34"
      },
      "execution_count": 9,
      "outputs": [
        {
          "output_type": "stream",
          "name": "stdout",
          "text": [
            "Col -- Nan percentage\n",
            "CryoSleep 2.4962613597147127\n",
            "ShoppingMall 2.392729782583688\n",
            "VIP 2.3352122397331185\n",
            "HomePlanet 2.312205222592891\n",
            "Name 2.300701714022777\n",
            "Cabin 2.289198205452663\n",
            "VRDeck 2.1626596111814105\n",
            "FoodCourt 2.105142068330841\n",
            "Spa 2.105142068330841\n",
            "Destination 2.093638559760727\n",
            "RoomService 2.082135051190613\n",
            "Age 2.0591280340503855\n",
            "\n",
            "Col -- Nan percentage\n",
            "FoodCourt 2.4783726911386488\n",
            "Spa 2.3614683189151275\n",
            "Cabin 2.338087444470423\n",
            "ShoppingMall 2.2913256955810146\n",
            "Name 2.197802197802198\n",
            "CryoSleep 2.1744213233574934\n",
            "VIP 2.1744213233574934\n",
            "Destination 2.1510404489127897\n",
            "Age 2.127659574468085\n",
            "HomePlanet 2.034136076689268\n",
            "RoomService 1.917231704465747\n",
            "VRDeck 1.8704699555763384\n"
          ]
        }
      ]
    },
    {
      "cell_type": "code",
      "source": [
        "_ = inf_statistics(df_train)\n",
        "print('')\n",
        "_ = inf_statistics(df_test)"
      ],
      "metadata": {
        "colab": {
          "base_uri": "https://localhost:8080/"
        },
        "id": "Lq-u0pST7SV0",
        "outputId": "6850d785-160e-4ef4-a816-e0bc3260f76c"
      },
      "execution_count": 10,
      "outputs": [
        {
          "output_type": "stream",
          "name": "stdout",
          "text": [
            "Age             0\n",
            "RoomService     0\n",
            "FoodCourt       0\n",
            "ShoppingMall    0\n",
            "Spa             0\n",
            "VRDeck          0\n",
            "gender          0\n",
            "dtype: int64\n",
            "\n",
            "Age             0\n",
            "RoomService     0\n",
            "FoodCourt       0\n",
            "ShoppingMall    0\n",
            "Spa             0\n",
            "VRDeck          0\n",
            "gender          0\n",
            "dtype: int64\n"
          ]
        }
      ]
    },
    {
      "cell_type": "markdown",
      "source": [
        "# Feature engineering"
      ],
      "metadata": {
        "id": "EimCO1nF7bOv"
      }
    },
    {
      "cell_type": "markdown",
      "source": [
        "## Has someone bought any luxury service?"
      ],
      "metadata": {
        "id": "vBMY_V317hYY"
      }
    },
    {
      "cell_type": "code",
      "source": [
        "from sklearn.base import BaseEstimator, TransformerMixin\n",
        "\n",
        "\n",
        "class BoughtLuxuryItems(BaseEstimator, TransformerMixin):\n",
        "    def __init__(self):\n",
        "        super().__init__()\n",
        "\n",
        "    def fit(self, X, y=None):\n",
        "        return self\n",
        "\n",
        "    def transform(self, X, y=None):\n",
        "        transformed_df = X.copy()\n",
        "        transformed_df['BoughtAnyLuxury'] = \\\n",
        "            (transformed_df['ShoppingMall'] > 0.0) \\\n",
        "            | (transformed_df['FoodCourt'] > 0.0) \\\n",
        "            | (transformed_df['VRDeck'] > 0.0) \\\n",
        "            | (transformed_df['Spa'] > 0.0) \\\n",
        "            | (transformed_df['RoomService'] > 0.0)\n",
        "        transformed_df['BoughtAnyLuxury'] = \\\n",
        "            transformed_df['BoughtAnyLuxury'].astype('int')\n",
        "        return transformed_df\n",
        "\n",
        "\n",
        "pep8(_ih)"
      ],
      "metadata": {
        "colab": {
          "base_uri": "https://localhost:8080/"
        },
        "id": "dyLOKYzg7ZOW",
        "outputId": "4cd16a13-5fd5-469e-c32f-ac1a9ce7fd48"
      },
      "execution_count": 11,
      "outputs": [
        {
          "output_type": "stream",
          "name": "stdout",
          "text": [
            "\n"
          ]
        }
      ]
    },
    {
      "cell_type": "code",
      "source": [
        "bought_luxury_items = BoughtLuxuryItems()\n",
        "\n",
        "df_train = bought_luxury_items.fit_transform(df_train)\n",
        "df_test = bought_luxury_items.transform(df_test)"
      ],
      "metadata": {
        "id": "jG6z_VMV7k7p"
      },
      "execution_count": 12,
      "outputs": []
    },
    {
      "cell_type": "markdown",
      "source": [
        "## DeckNum, DeckSide, Deck"
      ],
      "metadata": {
        "id": "Gwh1i-Zv7n64"
      }
    },
    {
      "cell_type": "code",
      "source": [
        "from sklearn.base import TransformerMixin, BaseEstimator\n",
        "\n",
        "\n",
        "class DeckNumAdder(TransformerMixin, BaseEstimator):\n",
        "    def __init__(self):\n",
        "        super().__init__()\n",
        "\n",
        "    def fit(self, X, y=None):\n",
        "        return self\n",
        "\n",
        "    def get_deck_num(self, deck):\n",
        "        if type(deck) is str:\n",
        "            split_items = deck.split('/')\n",
        "            return int(split_items[1])\n",
        "        else:\n",
        "            return np.nan\n",
        "\n",
        "    def transform(self, X, y=None):\n",
        "        df_transformed = X.copy()\n",
        "        df_transformed['DeckNum'] = df_transformed['Cabin'] \\\n",
        "            .map(self.get_deck_num)\n",
        "        return df_transformed\n",
        "\n",
        "\n",
        "pep8(_ih)"
      ],
      "metadata": {
        "colab": {
          "base_uri": "https://localhost:8080/"
        },
        "id": "_apjupPD7nUO",
        "outputId": "8b87b549-667b-4159-e487-516fbd913932"
      },
      "execution_count": 13,
      "outputs": [
        {
          "output_type": "stream",
          "name": "stdout",
          "text": [
            "\n"
          ]
        }
      ]
    },
    {
      "cell_type": "code",
      "source": [
        "from sklearn.base import TransformerMixin, BaseEstimator\n",
        "\n",
        "\n",
        "class DeckSideAdder(TransformerMixin, BaseEstimator):\n",
        "    def __init__(self):\n",
        "        super().__init__()\n",
        "\n",
        "    def fit(self, X, y=None):\n",
        "        return self\n",
        "\n",
        "    def add_deck_side(self, val):\n",
        "        if type(val) is str:\n",
        "            return val.split('/')[2]\n",
        "        else:\n",
        "            return np.nan\n",
        "\n",
        "    def transform(self, X, y=None):\n",
        "        df_transformed = X.copy()\n",
        "        df_transformed['DeckSide'] = df_transformed['Cabin'].map(\n",
        "            self.add_deck_side)\n",
        "\n",
        "        del X\n",
        "        return df_transformed\n",
        "\n",
        "\n",
        "pep8(_ih)"
      ],
      "metadata": {
        "colab": {
          "base_uri": "https://localhost:8080/"
        },
        "id": "PLvo33J37wyW",
        "outputId": "918027fc-c9bd-42bf-86b5-b3f6ad27cd0c"
      },
      "execution_count": 15,
      "outputs": [
        {
          "output_type": "stream",
          "name": "stdout",
          "text": [
            "\n"
          ]
        }
      ]
    },
    {
      "cell_type": "code",
      "source": [
        "from sklearn.base import TransformerMixin, BaseEstimator\n",
        "\n",
        "\n",
        "class DeckAdder(TransformerMixin, BaseEstimator):\n",
        "    def __init__(self):\n",
        "        super().__init__()\n",
        "\n",
        "    def fit(self, X, y=None):\n",
        "        return self\n",
        "\n",
        "    def add_deck(self, val):\n",
        "        if type(val) is str:\n",
        "            return val.split('/')[0]\n",
        "        else:\n",
        "            return np.nan\n",
        "\n",
        "    def transform(self, X, y=None):\n",
        "        transformed_df = X.copy()\n",
        "        transformed_df['Deck'] = transformed_df['Cabin'].map(\n",
        "            self.add_deck\n",
        "        )\n",
        "        del X\n",
        "        return transformed_df\n",
        "\n",
        "\n",
        "pep8(_ih)"
      ],
      "metadata": {
        "colab": {
          "base_uri": "https://localhost:8080/"
        },
        "id": "imdn1WS-70vo",
        "outputId": "38872502-1ef8-4c2b-89a1-48e8be860ac6"
      },
      "execution_count": 16,
      "outputs": [
        {
          "output_type": "stream",
          "name": "stdout",
          "text": [
            "\n"
          ]
        }
      ]
    },
    {
      "cell_type": "code",
      "source": [
        "deck_num_adder = DeckNumAdder()\n",
        "\n",
        "df_train = deck_num_adder.fit_transform(df_train)\n",
        "df_test = deck_num_adder.transform(df_test)"
      ],
      "metadata": {
        "id": "J74Zuc4n7shR"
      },
      "execution_count": 17,
      "outputs": []
    },
    {
      "cell_type": "code",
      "source": [
        "deck_side_adder = DeckSideAdder()\n",
        "\n",
        "df_train = deck_side_adder.fit_transform(df_train)\n",
        "df_test = deck_side_adder.transform(df_test)"
      ],
      "metadata": {
        "id": "mUlmA4WG7yWL"
      },
      "execution_count": 18,
      "outputs": []
    },
    {
      "cell_type": "code",
      "source": [
        "deck_adder = DeckAdder()\n",
        "\n",
        "df_train = deck_adder.fit_transform(df_train)\n",
        "df_test = deck_adder.transform(df_test)"
      ],
      "metadata": {
        "id": "NYtAQU_v74M2"
      },
      "execution_count": 19,
      "outputs": []
    },
    {
      "cell_type": "markdown",
      "source": [
        "## Passenger group, passenger position. Is a passenger single in the group? What is the group size?"
      ],
      "metadata": {
        "id": "iZ09_eOf78kP"
      }
    },
    {
      "cell_type": "code",
      "source": [
        "from sklearn.base import TransformerMixin, BaseEstimator\n",
        "\n",
        "\n",
        "class PassengerGroupAdder(TransformerMixin, BaseEstimator):\n",
        "    def __init__(self):\n",
        "        super().__init__()\n",
        "\n",
        "    def fit(self, X, y=None):\n",
        "        return self\n",
        "\n",
        "    def get_passenger_group(self, val):\n",
        "        if val is not np.nan:\n",
        "            return int(val.split('_')[0])\n",
        "        else:\n",
        "            return val\n",
        "\n",
        "    def transform(self, X, y=None):\n",
        "        transformed_df = X.copy()\n",
        "        transformed_df['PassengerGroup'] = \\\n",
        "            X['PassengerId'].map(self.get_passenger_group)\n",
        "        del X\n",
        "        return transformed_df\n",
        "\n",
        "\n",
        "pep8(_ih)"
      ],
      "metadata": {
        "colab": {
          "base_uri": "https://localhost:8080/"
        },
        "id": "5ZaorWXc8E7W",
        "outputId": "16d25c24-712d-43a6-a472-29cfdcc0e260"
      },
      "execution_count": 20,
      "outputs": [
        {
          "output_type": "stream",
          "name": "stdout",
          "text": [
            "\n"
          ]
        }
      ]
    },
    {
      "cell_type": "code",
      "source": [
        "from sklearn.base import TransformerMixin, BaseEstimator\n",
        "\n",
        "\n",
        "class PassengerPositionAdder(TransformerMixin, BaseEstimator):\n",
        "    def __init__(self):\n",
        "        super().__init__()\n",
        "\n",
        "    def fit(self, X, y=None):\n",
        "        return self\n",
        "\n",
        "    def get_position(self, val):\n",
        "        if type(val) is str:\n",
        "            return int(val.split('_')[1])\n",
        "        else:\n",
        "            return np.nan\n",
        "\n",
        "    def transform(self, X, y=None):\n",
        "        # df_transformed = X.copy()\n",
        "        # del X\n",
        "        X['PassengerGroupPosition'] = \\\n",
        "            X['PassengerId'].map(self.get_position)\n",
        "        return X\n",
        "\n",
        "\n",
        "pep8(_ih)"
      ],
      "metadata": {
        "colab": {
          "base_uri": "https://localhost:8080/"
        },
        "id": "jayBRB818LWS",
        "outputId": "582f677f-7366-4a6f-a09d-2d21fb61d339"
      },
      "execution_count": 24,
      "outputs": [
        {
          "output_type": "stream",
          "name": "stdout",
          "text": [
            "\n"
          ]
        }
      ]
    },
    {
      "cell_type": "code",
      "source": [
        "from sklearn.base import TransformerMixin, BaseEstimator\n",
        "\n",
        "\n",
        "class GroupSizeAdder(BaseEstimator, TransformerMixin):\n",
        "    def __init__(self):\n",
        "        super().__init__()\n",
        "        self.value_counts = None\n",
        "\n",
        "    def fit(self, X, y=None):\n",
        "        self.value_counts = X['PassengerGroup'].value_counts()\n",
        "        return self\n",
        "\n",
        "    def get_group_size(self, val):\n",
        "        return self.value_counts.loc[val]\n",
        "\n",
        "    def transform(self, X, y=None):\n",
        "        X['GroupSize'] = \\\n",
        "            X['PassengerGroup'].map(self.get_group_size)\n",
        "        X['AloneInGroup'] = (X['GroupSize'] == 1).astype('int')\n",
        "        return X\n",
        "\n",
        "\n",
        "pep8(_ih)"
      ],
      "metadata": {
        "colab": {
          "base_uri": "https://localhost:8080/"
        },
        "id": "nwKtwAuJ8U_J",
        "outputId": "65d0f5c7-4b4f-4b05-f042-fadeaef2f8de"
      },
      "execution_count": 30,
      "outputs": [
        {
          "output_type": "stream",
          "name": "stdout",
          "text": [
            "\n"
          ]
        }
      ]
    },
    {
      "cell_type": "code",
      "source": [
        "group_adder = PassengerGroupAdder()\n",
        "\n",
        "df_train = group_adder.fit_transform(df_train)\n",
        "df_test = group_adder.transform(df_test)"
      ],
      "metadata": {
        "id": "lb1JUEtX8HSr"
      },
      "execution_count": 31,
      "outputs": []
    },
    {
      "cell_type": "code",
      "source": [
        "position_adder = PassengerPositionAdder()\n",
        "\n",
        "df_train = position_adder.fit_transform(df_train)\n",
        "df_test = position_adder.transform(df_test)"
      ],
      "metadata": {
        "id": "dZpZcwwW8Sbv"
      },
      "execution_count": 32,
      "outputs": []
    },
    {
      "cell_type": "code",
      "source": [
        "adder = GroupSizeAdder()\n",
        "df_train = adder.fit_transform(df_train)\n",
        "\n",
        "# Fit transform on test, because\n",
        "# contains group numbers, not present in df_train\n",
        "df_test = adder.fit_transform(df_test)"
      ],
      "metadata": {
        "id": "ABSDQLL78alv"
      },
      "execution_count": 33,
      "outputs": []
    },
    {
      "cell_type": "markdown",
      "source": [
        "## Total spend"
      ],
      "metadata": {
        "id": "IX7BGNFT8cw1"
      }
    },
    {
      "cell_type": "code",
      "source": [
        "from sklearn.base import BaseEstimator, TransformerMixin\n",
        "\n",
        "\n",
        "class TotalSpender(BaseEstimator, TransformerMixin):\n",
        "    def __init__(self):\n",
        "        super().__init__()\n",
        "\n",
        "    def fit(self, X, y=None):\n",
        "        return self\n",
        "\n",
        "    def transform(self, X, y=None):\n",
        "        cols_list = [\n",
        "            'Spa',\n",
        "            'FoodCourt',\n",
        "            'VRDeck',\n",
        "            'RoomService',\n",
        "            'ShoppingMall'\n",
        "        ]\n",
        "        X_temp = X \\\n",
        "            .loc[:, cols_list] \\\n",
        "            .fillna(X.loc[:, cols_list].median())\n",
        "\n",
        "        X['TotalSpend'] = \\\n",
        "            X_temp['Spa'] \\\n",
        "            + X_temp['FoodCourt'] \\\n",
        "            + X_temp['VRDeck'] \\\n",
        "            + X_temp['RoomService'] \\\n",
        "            + X_temp['ShoppingMall']\n",
        "        X['ZeroSpend'] = (X['TotalSpend'] <= 0).astype('int')\n",
        "        return X\n",
        "\n",
        "\n",
        "pep8(_ih)"
      ],
      "metadata": {
        "colab": {
          "base_uri": "https://localhost:8080/"
        },
        "id": "A71S0MTL8e-v",
        "outputId": "3d833b20-3101-4819-d38f-a70ed1d33454"
      },
      "execution_count": 36,
      "outputs": [
        {
          "output_type": "stream",
          "name": "stdout",
          "text": [
            "\n"
          ]
        }
      ]
    },
    {
      "cell_type": "code",
      "source": [
        "total_spend_adder = TotalSpender()\n",
        "\n",
        "df_train = total_spend_adder.fit_transform(df_train)\n",
        "df_test = total_spend_adder.transform(df_test)"
      ],
      "metadata": {
        "id": "LHo0TN-r8dsX"
      },
      "execution_count": 37,
      "outputs": []
    },
    {
      "cell_type": "markdown",
      "source": [
        "## Total spend categorization (binning)"
      ],
      "metadata": {
        "id": "XTt2f_7L-SAM"
      }
    },
    {
      "cell_type": "code",
      "source": [
        "\n",
        "def categorize_total_spend(dfs_):\n",
        "    for df_ in dfs_:\n",
        "        df_['SpendCategory'] = ''\n",
        "        df_.loc[df_['TotalSpend'].between(-1, 1, 'left'), 'SpendCategory'] = \\\n",
        "            'ZeroSpend'\n",
        "        df_.loc[df_['TotalSpend'].between(1, 800, 'both'), 'SpendCategory'] = \\\n",
        "            'Under800'\n",
        "        df_.loc[df_['TotalSpend'].between(800, 1200, 'right'), 'SpendCategory'] = \\\n",
        "            'Median1200'\n",
        "        df_.loc[df_['TotalSpend'].between(1200, 2700, 'right'), 'SpendCategory'] = \\\n",
        "            'Upper2700'\n",
        "        df_.loc[df_['TotalSpend'].between(2700, 100000, 'right'), 'SpendCategory'] = \\\n",
        "            'BigSpender'\n",
        "\n",
        "        df_['SpendCategory'] = \\\n",
        "            df_['SpendCategory'].astype('category')\n",
        "\n",
        "categorize_total_spend([df_train, df_test])"
      ],
      "metadata": {
        "id": "nTWjB2v480MW"
      },
      "execution_count": 38,
      "outputs": []
    },
    {
      "cell_type": "code",
      "source": [
        "df_train.SpendCategory.value_counts(dropna=False)"
      ],
      "metadata": {
        "colab": {
          "base_uri": "https://localhost:8080/"
        },
        "id": "GO_AYHRy-Z-p",
        "outputId": "b9cc94ef-29d1-4b84-82ae-b39a7126a4ce"
      },
      "execution_count": 39,
      "outputs": [
        {
          "output_type": "execute_result",
          "data": {
            "text/plain": [
              "ZeroSpend     3653\n",
              "Under800      1274\n",
              "Upper2700     1274\n",
              "Median1200    1261\n",
              "BigSpender    1231\n",
              "Name: SpendCategory, dtype: int64"
            ]
          },
          "metadata": {},
          "execution_count": 39
        }
      ]
    },
    {
      "cell_type": "markdown",
      "source": [
        "## Age categorization (binning)"
      ],
      "metadata": {
        "id": "lujPOxun-bVQ"
      }
    },
    {
      "cell_type": "code",
      "source": [
        "def categorize_age(dfs_):\n",
        "    # -1, 5 - is a specific range,\n",
        "    # 70% probability of being transported\n",
        "    # for the kids in this range\n",
        "    bins = [-1, 5, 18, 30, 50, 100]\n",
        "    labels = [i for i in range(len(bins) - 1)]\n",
        "    for df in dfs_:\n",
        "        df['AgeGroup'] = pd.cut(\n",
        "            df['Age'].fillna(df['Age'].median()),\n",
        "            bins=bins,\n",
        "            labels=labels,\n",
        "            duplicates='drop'\n",
        "        )\n",
        "\n",
        "categorize_age([df_train, df_test])"
      ],
      "metadata": {
        "id": "PXFIFXn--ePK"
      },
      "execution_count": 40,
      "outputs": []
    },
    {
      "cell_type": "code",
      "source": [
        "assert 'AgeGroup' in df_train.columns and 'AgeGroup' in df_test.columns\n",
        "\n",
        "df_train.AgeGroup.value_counts(normalize=True, dropna=False)"
      ],
      "metadata": {
        "colab": {
          "base_uri": "https://localhost:8080/"
        },
        "id": "XO9mySIg-jMU",
        "outputId": "f8cfa4d9-953b-462d-9463-317960e7cf19"
      },
      "execution_count": 42,
      "outputs": [
        {
          "output_type": "execute_result",
          "data": {
            "text/plain": [
              "2    0.393075\n",
              "3    0.307604\n",
              "1    0.157138\n",
              "4    0.084781\n",
              "0    0.057403\n",
              "Name: AgeGroup, dtype: float64"
            ]
          },
          "metadata": {},
          "execution_count": 42
        }
      ]
    },
    {
      "cell_type": "markdown",
      "source": [
        "## Total spend per group"
      ],
      "metadata": {
        "id": "YZ8j28d3-pUh"
      }
    },
    {
      "cell_type": "code",
      "source": [
        "from sklearn.base import BaseEstimator, TransformerMixin\n",
        "\n",
        "\n",
        "class PerGroupSpender(BaseEstimator, TransformerMixin):\n",
        "    def __init__(self):\n",
        "        super().__init__()\n",
        "        self.total_spend_per_group_data = {}\n",
        "\n",
        "    def fit(self, X, y=None):\n",
        "        # self.total_spend_per_group_data = \\\n",
        "        #     X \\\n",
        "        #     .groupby('PassengerGroup') \\\n",
        "        #     .aggregate('sum') \\\n",
        "        #     .loc[:, ['TotalSpend']]\n",
        "        unique_groups = X['PassengerGroup'].unique()\n",
        "\n",
        "        for unique_group in unique_groups:\n",
        "            group_subset = X.loc[\n",
        "                X['PassengerGroup'] == unique_group,\n",
        "                ['TotalSpend']\n",
        "            ]\n",
        "            total_spend_per_group = \\\n",
        "                group_subset.fillna(group_subset.median()).sum() \\\n",
        "                / len(group_subset)\n",
        "\n",
        "            self.total_spend_per_group_data[unique_group] = \\\n",
        "                total_spend_per_group\n",
        "        return self\n",
        "\n",
        "    def transform(self, X, y=None):\n",
        "        X['TotalSpendPerGroup'] = \\\n",
        "            X['PassengerGroup'].map(\n",
        "                lambda val: self.total_spend_per_group_data[val][0])\n",
        "        return X\n",
        "\n",
        "\n",
        "pep8(_ih)"
      ],
      "metadata": {
        "colab": {
          "base_uri": "https://localhost:8080/"
        },
        "id": "iZccBuxF-lSO",
        "outputId": "91dd011f-6a82-48ca-e10f-b0b72126a510"
      },
      "execution_count": 43,
      "outputs": [
        {
          "output_type": "stream",
          "name": "stdout",
          "text": [
            "\n"
          ]
        }
      ]
    },
    {
      "cell_type": "code",
      "source": [
        "per_group_spender = PerGroupSpender()\n",
        "\n",
        "df_train = per_group_spender.fit_transform(df_train)\n",
        "\n",
        "# Yes, fit_transform on the test data, because\n",
        "# test set can contain other groups\n",
        "df_test = per_group_spender.fit_transform(df_test)"
      ],
      "metadata": {
        "id": "HuPRRKWb-sKc"
      },
      "execution_count": 44,
      "outputs": []
    },
    {
      "cell_type": "markdown",
      "source": [
        "## Does a person come from a spendless group?"
      ],
      "metadata": {
        "id": "iNVzKlDT-xkJ"
      }
    },
    {
      "cell_type": "code",
      "source": [
        "feature = 'IsFromSpendlessGroup'\n",
        "df_train[feature] = (df_train['TotalSpendPerGroup'] == 0).astype('int')\n",
        "df_test[feature] = (df_test['TotalSpendPerGroup'] == 0).astype('int')"
      ],
      "metadata": {
        "id": "piuovJic-w1_"
      },
      "execution_count": 45,
      "outputs": []
    },
    {
      "cell_type": "markdown",
      "source": [
        "## Group size categorization (binning)"
      ],
      "metadata": {
        "id": "fPpEAG9t-77e"
      }
    },
    {
      "cell_type": "code",
      "source": [
        "\n",
        "def categorize(dfs_):\n",
        "    bins = [0, 3, 6, 10]\n",
        "    labels = [i for i in range(len(bins) - 1)]\n",
        "    for df in dfs_:\n",
        "        df['GroupSizeCat'] = \\\n",
        "            pd.cut(\n",
        "                df['GroupSize'],\n",
        "                bins=bins,\n",
        "                labels=labels,\n",
        "                duplicates='drop')\n",
        "\n",
        "\n",
        "categorize([df_train, df_test])\n",
        "pep8(_ih)"
      ],
      "metadata": {
        "colab": {
          "base_uri": "https://localhost:8080/"
        },
        "id": "e-Dp9R_n-6BJ",
        "outputId": "f477bffd-4edf-492a-b0ed-c9e86e5e6ab2"
      },
      "execution_count": 48,
      "outputs": [
        {
          "output_type": "stream",
          "name": "stdout",
          "text": [
            "\n"
          ]
        }
      ]
    },
    {
      "cell_type": "markdown",
      "source": [
        "# Clean outliers"
      ],
      "metadata": {
        "id": "oQuG4i6__DuP"
      }
    },
    {
      "cell_type": "code",
      "source": [
        "from sklearn_transformers import OutlierCleaner\n",
        "\n",
        "columns_to_clean = [\n",
        "        'VRDeck',\n",
        "        'Spa',\n",
        "        'RoomService',\n",
        "        'FoodCourt',\n",
        "        'ShoppingMall',\n",
        "        'TotalSpend',\n",
        "        'TotalSpendPerGroup',\n",
        "        'Age'\n",
        "]\n",
        "\n",
        "cleaner = OutlierCleaner(\n",
        "    columns_to_clean,\n",
        "    lower_quantile_=0.05,\n",
        "    upper_quantile_=0.95\n",
        ")"
      ],
      "metadata": {
        "id": "fuys8hW3_Ei7"
      },
      "execution_count": 49,
      "outputs": []
    },
    {
      "cell_type": "code",
      "source": [
        "df_result = cleaner.fit_transform(df_train)\n",
        "\n",
        "for column in columns_to_clean:\n",
        "    fig, ax = plt.subplots(1, 2, figsize=(5, 2.5))\n",
        "    df_train.boxplot([column], ax=ax[0])\n",
        "    df_result.boxplot([column], ax=ax[1])"
      ],
      "metadata": {
        "colab": {
          "base_uri": "https://localhost:8080/",
          "height": 1000
        },
        "id": "QuLSrFFG_G6B",
        "outputId": "baf6789b-93b7-4d25-8152-a8a46144c073"
      },
      "execution_count": 60,
      "outputs": [
        {
          "output_type": "display_data",
          "data": {
            "text/plain": [
              "<Figure size 360x180 with 2 Axes>"
            ],
            "image/png": "[encoded data removed]"
          },
          "metadata": {
            "needs_background": "light"
          }
        },
        {
          "output_type": "display_data",
          "data": {
            "text/plain": [
              "<Figure size 360x180 with 2 Axes>"
            ],
            "image/png": "[encoded data removed]"
          },
          "metadata": {
            "needs_background": "light"
          }
        },
        {
          "output_type": "display_data",
          "data": {
            "text/plain": [
              "<Figure size 360x180 with 2 Axes>"
            ],
            "image/png": "[encoded data removed]"
          },
          "metadata": {
            "needs_background": "light"
          }
        },
        {
          "output_type": "display_data",
          "data": {
            "text/plain": [
              "<Figure size 360x180 with 2 Axes>"
            ],
            "image/png": "[encoded data removed]"
          },
          "metadata": {
            "needs_background": "light"
          }
        },
        {
          "output_type": "display_data",
          "data": {
            "text/plain": [
              "<Figure size 360x180 with 2 Axes>"
            ],
            "image/png": "[encoded data removed]"
          },
          "metadata": {
            "needs_background": "light"
          }
        },
        {
          "output_type": "display_data",
          "data": {
            "text/plain": [
              "<Figure size 360x180 with 2 Axes>"
            ],
            "image/png": "[encoded data removed]"
          },
          "metadata": {
            "needs_background": "light"
          }
        },
        {
          "output_type": "display_data",
          "data": {
            "text/plain": [
              "<Figure size 360x180 with 2 Axes>"
            ],
            "image/png": "[encoded data removed]"
          },
          "metadata": {
            "needs_background": "light"
          }
        },
        {
          "output_type": "display_data",
          "data": {
            "text/plain": [
              "<Figure size 360x180 with 2 Axes>"
            ],
            "image/png": "[encoded data removed]"
          },
          "metadata": {
            "needs_background": "light"
          }
        }
      ]
    },
    {
      "cell_type": "code",
      "source": [
        "df_train = cleaner.fit_transform(df_train)\n",
        "df_test = cleaner.transform(df_test)"
      ],
      "metadata": {
        "id": "X1tZtwCn_oEA"
      },
      "execution_count": 61,
      "outputs": []
    },
    {
      "cell_type": "markdown",
      "source": [
        "# Reducing number precision"
      ],
      "metadata": {
        "id": "X2dW8lvL_tNu"
      }
    },
    {
      "cell_type": "code",
      "source": [
        "\n",
        "def reduce_precision(\n",
        "    df_,\n",
        "    original_dtypes_=['float64'],\n",
        "    transcription_dict_={\n",
        "        'float64': 'float32',\n",
        "        'int64': 'int32'\n",
        "    }\n",
        "):\n",
        "    '''\n",
        "    For every column, that has a dtype in original_dtypes\n",
        "    list --> it changes the original dtype, according to\n",
        "    the transcription_dict_\n",
        "    '''\n",
        "    for numeric_type in original_dtypes_:\n",
        "        mask = np.isin(df_.dtypes, [numeric_type])\n",
        "        df_.loc[:, mask] = \\\n",
        "            df_.loc[:, mask].astype(transcription_dict_[numeric_type])\n",
        "    return df_\n",
        "\n",
        "\n",
        "pep8(_ih)"
      ],
      "metadata": {
        "colab": {
          "base_uri": "https://localhost:8080/"
        },
        "id": "ng6wgJmr_x6i",
        "outputId": "35ad0a84-1931-40b4-8f31-f9dc7e011cde"
      },
      "execution_count": 63,
      "outputs": [
        {
          "output_type": "stream",
          "name": "stdout",
          "text": [
            "\n"
          ]
        }
      ]
    },
    {
      "cell_type": "markdown",
      "source": [
        "- Was not considered for this task"
      ],
      "metadata": {
        "id": "tyBDpyeh_vQ3"
      }
    },
    {
      "cell_type": "markdown",
      "source": [
        "# Removing NaN / Inf columns"
      ],
      "metadata": {
        "id": "dX1RdLmpAFPe"
      }
    },
    {
      "cell_type": "markdown",
      "source": [
        "None of the columns contain significant percentage of NaN / Inf values, hence removal was not considered for this task"
      ],
      "metadata": {
        "id": "nutkzvTcAOHg"
      }
    },
    {
      "cell_type": "code",
      "source": [
        "_ = nan_statistics(df_train)\n",
        "print()\n",
        "_ = nan_statistics(df_test)"
      ],
      "metadata": {
        "colab": {
          "base_uri": "https://localhost:8080/"
        },
        "id": "KReo2lre_pRP",
        "outputId": "a44b5bb8-a5f1-4aa1-bdff-c341dafa8f31"
      },
      "execution_count": 65,
      "outputs": [
        {
          "output_type": "stream",
          "name": "stdout",
          "text": [
            "Col -- Nan percentage\n",
            "CryoSleep 2.4962613597147127\n",
            "ShoppingMall 2.392729782583688\n",
            "VIP 2.3352122397331185\n",
            "HomePlanet 2.312205222592891\n",
            "Name 2.300701714022777\n",
            "Cabin 2.289198205452663\n",
            "DeckNum 2.289198205452663\n",
            "DeckSide 2.289198205452663\n",
            "Deck 2.289198205452663\n",
            "VRDeck 2.1626596111814105\n",
            "FoodCourt 2.105142068330841\n",
            "Spa 2.105142068330841\n",
            "Destination 2.093638559760727\n",
            "RoomService 2.082135051190613\n",
            "Age 2.0591280340503855\n",
            "\n",
            "Col -- Nan percentage\n",
            "FoodCourt 2.4783726911386488\n",
            "Spa 2.3614683189151275\n",
            "Cabin 2.338087444470423\n",
            "DeckNum 2.338087444470423\n",
            "DeckSide 2.338087444470423\n",
            "Deck 2.338087444470423\n",
            "ShoppingMall 2.2913256955810146\n",
            "Name 2.197802197802198\n",
            "CryoSleep 2.1744213233574934\n",
            "VIP 2.1744213233574934\n",
            "Destination 2.1510404489127897\n",
            "Age 2.127659574468085\n",
            "HomePlanet 2.034136076689268\n",
            "RoomService 1.917231704465747\n",
            "VRDeck 1.8704699555763384\n"
          ]
        }
      ]
    },
    {
      "cell_type": "markdown",
      "source": [
        "# Data processing pipeline"
      ],
      "metadata": {
        "id": "n5zQtS9AAeEQ"
      }
    },
    {
      "cell_type": "code",
      "source": [
        "luxury_columns = [\n",
        "    'RoomService',\n",
        "    'FoodCourt',\n",
        "    'ShoppingMall',\n",
        "    'Spa',\n",
        "    'VRDeck',\n",
        "    'TotalSpend',\n",
        "    'TotalSpendPerGroup'\n",
        "]\n",
        "\n",
        "luxury_pipeline = Pipeline(\n",
        "    [\n",
        "        ('impute', SimpleImputer(strategy='median')),\n",
        "        ('standardize', StandardScaler())\n",
        "    ]\n",
        ")"
      ],
      "metadata": {
        "id": "oZTtS6NbAf9a"
      },
      "execution_count": 90,
      "outputs": []
    },
    {
      "cell_type": "code",
      "source": [
        "spend_category_columns = [\n",
        "    'SpendCategory'\n",
        "]\n",
        "\n",
        "spend_category_pipeline = Pipeline(\n",
        "    [\n",
        "        ('encode', OrdinalEncoder(\n",
        "            categories = [\n",
        "                [\n",
        "                    'ZeroSpend',\n",
        "                    'Under800',\n",
        "                    'Median1200',\n",
        "                    'Upper2700',\n",
        "                    'BigSpender'\n",
        "                ]\n",
        "            ]\n",
        "        )),\n",
        "        ('scale', MinMaxScaler())\n",
        "    ]\n",
        ")"
      ],
      "metadata": {
        "id": "1JtElomEApM2"
      },
      "execution_count": 67,
      "outputs": []
    },
    {
      "cell_type": "code",
      "source": [
        "age_group_columns = [\n",
        "    'AgeGroup'\n",
        "]\n",
        "\n",
        "age_group_pipeline = Pipeline(\n",
        "    [\n",
        "        ('impute', SimpleImputer(strategy='most_frequent')),\n",
        "        ('Scale', MinMaxScaler())\n",
        "    ]\n",
        ")"
      ],
      "metadata": {
        "id": "bOFtBddEAr1J"
      },
      "execution_count": 68,
      "outputs": []
    },
    {
      "cell_type": "code",
      "source": [
        "is_from_spendless_group_columns = [\n",
        "    'IsFromSpendlessGroup'\n",
        "]\n",
        "\n",
        "is_from_spendless_group_pipeline = Pipeline(\n",
        "    [\n",
        "        ('impute', SimpleImputer(strategy='most_frequent'))\n",
        "    ]\n",
        ")"
      ],
      "metadata": {
        "id": "6zcX6RAxAuGe"
      },
      "execution_count": 69,
      "outputs": []
    },
    {
      "cell_type": "code",
      "source": [
        "name_columns = [\n",
        "    'Name'\n",
        "]\n",
        "\n",
        "name_pipeline = Pipeline(\n",
        "    [\n",
        "        ('drop', ColumnDropper(name_columns))\n",
        "    ]\n",
        ")"
      ],
      "metadata": {
        "id": "GDcz0PvuAvgi"
      },
      "execution_count": 70,
      "outputs": []
    },
    {
      "cell_type": "code",
      "source": [
        "age_columns = [\n",
        "    'Age'\n",
        "]\n",
        "\n",
        "age_pipeline = Pipeline(\n",
        "    [\n",
        "        ('impute', SimpleImputer(strategy='median')),\n",
        "        ('standardize', StandardScaler())\n",
        "    ]\n",
        ")"
      ],
      "metadata": {
        "id": "jC83vz9tAw6g"
      },
      "execution_count": 71,
      "outputs": []
    },
    {
      "cell_type": "code",
      "source": [
        "home_planet_columns = [\n",
        "    'HomePlanet'\n",
        "]\n",
        "\n",
        "home_planet_pipeline = Pipeline(\n",
        "    [\n",
        "        # ('impute', SimpleImputer(missing_values=np.nan, strategy='constant')),\n",
        "        ('one-hot', OneHotEncoder(handle_unknown='ignore'))\n",
        "    ]\n",
        ")"
      ],
      "metadata": {
        "id": "qMBjVfreAyFn"
      },
      "execution_count": 72,
      "outputs": []
    },
    {
      "cell_type": "code",
      "source": [
        "destination_columns = [\n",
        "    'Destination'\n",
        "]\n",
        "\n",
        "destination_pipeline = Pipeline(\n",
        "    [\n",
        "        # ('impute', SimpleImputer(strategy='median')),\n",
        "        ('one-hot', OneHotEncoder(handle_unknown='ignore'))\n",
        "    ]\n",
        ")"
      ],
      "metadata": {
        "id": "A6i7m2sVAzMz"
      },
      "execution_count": 73,
      "outputs": []
    },
    {
      "cell_type": "code",
      "source": [
        "passenger_id_columns = [\n",
        "    'PassengerId'\n",
        "]\n",
        "\n",
        "passenger_id_pipeline = Pipeline(\n",
        "    [\n",
        "        # ('impute', SimpleImputer(strategy='median')),\n",
        "        ('drop', ColumnDropper(passenger_id_columns))\n",
        "    ]\n",
        ")"
      ],
      "metadata": {
        "id": "K8Gs27nlA0fU"
      },
      "execution_count": 74,
      "outputs": []
    },
    {
      "cell_type": "code",
      "source": [
        "cabin_columns = [\n",
        "    'Cabin'\n",
        "]\n",
        "\n",
        "cabin_pipeline = Pipeline(\n",
        "    [\n",
        "        ('drop', ColumnDropper(cabin_columns))\n",
        "    ]\n",
        ")"
      ],
      "metadata": {
        "id": "jZFaCw7bA1p4"
      },
      "execution_count": 75,
      "outputs": []
    },
    {
      "cell_type": "code",
      "source": [
        "cryo_sleep_columns = [\n",
        "    'CryoSleep'\n",
        "]\n",
        "\n",
        "cryo_sleep_pipeline = Pipeline(\n",
        "    [\n",
        "        ('impute', SimpleImputer(strategy='most_frequent'))\n",
        "    ]\n",
        ")"
      ],
      "metadata": {
        "id": "clvh8fxFA4ks"
      },
      "execution_count": 76,
      "outputs": []
    },
    {
      "cell_type": "code",
      "source": [
        "vip_columns = [\n",
        "    'VIP'\n",
        "]\n",
        "\n",
        "vip_pipeline = Pipeline(\n",
        "    [\n",
        "        ('impute', SimpleImputer(strategy='most_frequent'))\n",
        "    ]\n",
        ")"
      ],
      "metadata": {
        "id": "3qXNUpfBA6Cn"
      },
      "execution_count": 77,
      "outputs": []
    },
    {
      "cell_type": "code",
      "source": [
        "bought_any_luxury_columns = [\n",
        "    'BoughtAnyLuxury'\n",
        "]\n",
        "\n",
        "bought_any_luxury_pipeline = Pipeline(\n",
        "    [\n",
        "        ('impute', SimpleImputer(strategy='most_frequent')),\n",
        "    ]\n",
        ")"
      ],
      "metadata": {
        "id": "ralFrUo-A7XI"
      },
      "execution_count": 78,
      "outputs": []
    },
    {
      "cell_type": "code",
      "source": [
        "deck_columns = [\n",
        "    'Deck'\n",
        "]\n",
        "\n",
        "deck_pipeline = Pipeline(\n",
        "    [\n",
        "        ('impute', SimpleImputer(strategy='most_frequent')),\n",
        "        (\n",
        "            'encode',\n",
        "            OrdinalEncoder(\n",
        "                categories=[\n",
        "                    ['A', 'B', 'C', 'D', 'E', 'F', 'G', 'T']\n",
        "                ]\n",
        "            )\n",
        "        ),\n",
        "        ('scale', MinMaxScaler())\n",
        "    ]\n",
        ")"
      ],
      "metadata": {
        "id": "JA1-t5vXA8-6"
      },
      "execution_count": 79,
      "outputs": []
    },
    {
      "cell_type": "code",
      "source": [
        "deck_num_columns = [\n",
        "    'DeckNum'\n",
        "]\n",
        "\n",
        "deck_num_pipeline = Pipeline(\n",
        "    [\n",
        "        ('impute', SimpleImputer(strategy='median')),\n",
        "        ('scale', StandardScaler())\n",
        "    ]\n",
        ")"
      ],
      "metadata": {
        "id": "6kovZBPPA_CJ"
      },
      "execution_count": 80,
      "outputs": []
    },
    {
      "cell_type": "code",
      "source": [
        "deck_size_columns = [\n",
        "    'DeckSide'\n",
        "]\n",
        "\n",
        "deck_side_pipeline = Pipeline(\n",
        "    [\n",
        "        ('impute', SimpleImputer(strategy='most_frequent')),\n",
        "        ('encode', OneHotEncoder(handle_unknown='ignore'))\n",
        "    ]\n",
        ")"
      ],
      "metadata": {
        "id": "1uqOE5J1BAuo"
      },
      "execution_count": 81,
      "outputs": []
    },
    {
      "cell_type": "code",
      "source": [
        "alone_columns = ['AloneInGroup']\n",
        "alone_pipeline = Pipeline(\n",
        "    [('impute', SimpleImputer(strategy='most_frequent'))]\n",
        ")"
      ],
      "metadata": {
        "id": "D56hE48tBB7e"
      },
      "execution_count": 82,
      "outputs": []
    },
    {
      "cell_type": "code",
      "source": [
        "group_position_columns = ['PassengerGroupPosition']\n",
        "group_position_pipeline = Pipeline(\n",
        "    [\n",
        "        ('impute', SimpleImputer(strategy='most_frequent')),\n",
        "        ('scale', StandardScaler())\n",
        "    ]\n",
        ")"
      ],
      "metadata": {
        "id": "UBK2DPV4BDLS"
      },
      "execution_count": 83,
      "outputs": []
    },
    {
      "cell_type": "code",
      "source": [
        "group_size_columns = ['GroupSize']\n",
        "group_size_pipeline = Pipeline(\n",
        "    [\n",
        "        ('impute', SimpleImputer(strategy='median')),\n",
        "        ('scale', StandardScaler())\n",
        "    ]\n",
        ")"
      ],
      "metadata": {
        "id": "bIMnf-IgBET-"
      },
      "execution_count": 84,
      "outputs": []
    },
    {
      "cell_type": "code",
      "source": [
        "passenger_group_columns = ['PassengerGroup']\n",
        "passenger_group_pipeline = Pipeline(\n",
        "    [\n",
        "        ('impute', SimpleImputer(strategy='median')),\n",
        "        ('scale', StandardScaler())\n",
        "    ]\n",
        ")"
      ],
      "metadata": {
        "id": "e344QVC-BFrA"
      },
      "execution_count": 85,
      "outputs": []
    },
    {
      "cell_type": "code",
      "source": [
        "gender_columns = ['gender']\n",
        "gender_pipeline = Pipeline(\n",
        "    [\n",
        "        ('impute', SimpleImputer(strategy='most_frequent'))\n",
        "    ]\n",
        ")"
      ],
      "metadata": {
        "id": "2UbRMooiBG5M"
      },
      "execution_count": 86,
      "outputs": []
    },
    {
      "cell_type": "code",
      "source": [
        "group_size_cat_columns = [\n",
        "    'GroupSizeCat'\n",
        "]\n",
        "\n",
        "group_size_cat_pipeline = Pipeline(\n",
        "    [\n",
        "        ('impute', SimpleImputer(strategy='most_frequent')),\n",
        "        ('scale', MinMaxScaler())\n",
        "        # ('encode', )  # already encoded\n",
        "    ]\n",
        ")"
      ],
      "metadata": {
        "id": "qcKMnCbQBGyI"
      },
      "execution_count": 87,
      "outputs": []
    },
    {
      "cell_type": "code",
      "source": [
        "zero_spend_columns = [\n",
        "    'ZeroSpend'\n",
        "]\n",
        "\n",
        "zero_spend_pipeline = Pipeline(\n",
        "    [\n",
        "        ('impute', SimpleImputer(strategy='most_frequent'))\n",
        "    ]\n",
        ")"
      ],
      "metadata": {
        "id": "34J3fdw8BJn5"
      },
      "execution_count": 88,
      "outputs": []
    },
    {
      "cell_type": "code",
      "source": [
        "all_columns = set(\n",
        "    [\n",
        "        *luxury_columns,\n",
        "        *name_columns,\n",
        "        *age_columns,\n",
        "        *home_planet_columns,\n",
        "        *destination_columns,\n",
        "        *passenger_id_columns,\n",
        "        *cabin_columns,\n",
        "        *vip_columns,\n",
        "        *cryo_sleep_columns,\n",
        "        *bought_any_luxury_columns,\n",
        "        *deck_columns,\n",
        "        *deck_num_columns,\n",
        "        *deck_size_columns,\n",
        "     \n",
        "        *alone_columns,\n",
        "        *group_position_columns,\n",
        "        *group_size_columns,\n",
        "        *passenger_group_columns,\n",
        "        *gender_columns,\n",
        "     \n",
        "        *spend_category_columns,\n",
        "        *age_group_columns,\n",
        "        *is_from_spendless_group_columns,\n",
        "     \n",
        "        *group_size_cat_columns,\n",
        "        *zero_spend_columns\n",
        "    ]\n",
        ")\n",
        "\n",
        "# print(df_train.columns)\n",
        "assert (set(df_train.columns) - all_columns) == {'Transported'}, \\\n",
        "    print(set(df_train.columns) - all_columns)"
      ],
      "metadata": {
        "id": "soy2nEJLBJkY"
      },
      "execution_count": 91,
      "outputs": []
    },
    {
      "cell_type": "code",
      "source": [
        "from sklearn_transformers import ColumnDropper\n",
        "\n",
        "\n",
        "preprocessor = ColumnTransformer(\n",
        "    [\n",
        "        ('luxury', luxury_pipeline, luxury_columns),\n",
        "        ('drop', name_pipeline, name_columns),\n",
        "        ('age', age_pipeline, age_columns),\n",
        "        ('home_planet', home_planet_pipeline, home_planet_columns),\n",
        "        ('destination', destination_pipeline, destination_columns),\n",
        "        ('passenger_id', passenger_id_pipeline, passenger_id_columns),\n",
        "        ('name', name_pipeline, name_columns),\n",
        "        ('vip', vip_pipeline, vip_columns),\n",
        "        ('cryo_sleep', cryo_sleep_pipeline, cryo_sleep_columns),\n",
        "        ('cabin', cabin_pipeline, cabin_columns),\n",
        "        \n",
        "        ('bought_any_luxury', bought_any_luxury_pipeline, bought_any_luxury_columns),\n",
        "        ('deck', deck_pipeline, deck_columns),\n",
        "        ('deck_num', deck_num_pipeline, deck_num_columns),\n",
        "        ('deck_side', deck_side_pipeline, deck_size_columns),\n",
        "        \n",
        "        ('alone_in_group', alone_pipeline, alone_columns),\n",
        "        ('passenger_group_position', group_position_pipeline, group_position_columns),\n",
        "        ('passenger_group', passenger_group_pipeline, passenger_group_columns),\n",
        "        ('gender', gender_pipeline, gender_columns),\n",
        "     \n",
        "        ('group_size', group_size_pipeline, group_size_columns),\n",
        "        ('group_size_cat', group_size_cat_pipeline, group_size_cat_columns),\n",
        "        ('zero_spend', zero_spend_pipeline, zero_spend_columns),\n",
        "        ('spend_category', spend_category_pipeline, spend_category_columns),\n",
        "        ('age_group', age_group_pipeline, age_group_columns),\n",
        "        ('is_from_spendless_group', is_from_spendless_group_pipeline,\n",
        "            is_from_spendless_group_columns),\n",
        "\n",
        "        ('transported', 'passthrough', ['Transported'])\n",
        "    ],\n",
        "    remainder='drop'\n",
        ")"
      ],
      "metadata": {
        "id": "o4sWiL_vBJid"
      },
      "execution_count": 92,
      "outputs": []
    },
    {
      "cell_type": "markdown",
      "source": [
        "# Split data into train, validation and test sets"
      ],
      "metadata": {
        "id": "C4yiON2LBWjh"
      }
    },
    {
      "cell_type": "markdown",
      "source": [
        "## Split"
      ],
      "metadata": {
        "id": "yu4mYuIEB_dt"
      }
    },
    {
      "cell_type": "code",
      "source": [
        "TRAIN_VAL_PERCENTAGE = 0.8\n",
        "RANDOM_STATE = 42\n",
        "\n",
        "df_trainval, df_test_sample = train_test_split(\n",
        "    df_train,\n",
        "    train_size=TRAIN_VAL_PERCENTAGE,\n",
        "    random_state=RANDOM_STATE,\n",
        "    stratify=df_train['Transported']\n",
        ")\n",
        "\n",
        "df_trainval.shape, df_test_sample.shape"
      ],
      "metadata": {
        "colab": {
          "base_uri": "https://localhost:8080/"
        },
        "id": "HAl9OKb3BJez",
        "outputId": "a046b9c3-8098-4911-8283-c8752d5be166"
      },
      "execution_count": 95,
      "outputs": [
        {
          "output_type": "execute_result",
          "data": {
            "text/plain": [
              "((6954, 30), (1739, 30))"
            ]
          },
          "metadata": {},
          "execution_count": 95
        }
      ]
    },
    {
      "cell_type": "markdown",
      "source": [
        "## Check class and feature distribution"
      ],
      "metadata": {
        "id": "W3GglDIwB8lI"
      }
    },
    {
      "cell_type": "code",
      "source": [
        "_, ax = plt.subplots(1, 2)\n",
        "df_trainval.Transported.value_counts().plot(ax=ax[0], kind='bar')\n",
        "df_test_sample.Transported.value_counts().plot(ax=ax[1], kind='bar')"
      ],
      "metadata": {
        "colab": {
          "base_uri": "https://localhost:8080/",
          "height": 298
        },
        "id": "esUK3m7UBJb9",
        "outputId": "92909f08-5ebd-4d49-a84e-b76137bbcbb4"
      },
      "execution_count": 100,
      "outputs": [
        {
          "output_type": "execute_result",
          "data": {
            "text/plain": [
              "<matplotlib.axes._subplots.AxesSubplot at 0x7f4c612d7110>"
            ]
          },
          "metadata": {},
          "execution_count": 100
        },
        {
          "output_type": "display_data",
          "data": {
            "text/plain": [
              "<Figure size 432x288 with 2 Axes>"
            ],
            "image/png": "[encoded data removed]"
          },
          "metadata": {
            "needs_background": "light"
          }
        }
      ]
    },
    {
      "cell_type": "code",
      "source": [
        "df_trainval.dtypes"
      ],
      "metadata": {
        "colab": {
          "base_uri": "https://localhost:8080/"
        },
        "id": "XbCSQvR-CLdU",
        "outputId": "6b71cd63-205a-4fe5-8f9b-05d334aa9b3b"
      },
      "execution_count": 102,
      "outputs": [
        {
          "output_type": "execute_result",
          "data": {
            "text/plain": [
              "PassengerId                 object\n",
              "HomePlanet                  object\n",
              "CryoSleep                   object\n",
              "Cabin                       object\n",
              "Destination                 object\n",
              "Age                        float64\n",
              "VIP                         object\n",
              "RoomService                float64\n",
              "FoodCourt                  float64\n",
              "ShoppingMall               float64\n",
              "Spa                        float64\n",
              "VRDeck                     float64\n",
              "Name                        object\n",
              "Transported                   bool\n",
              "gender                       int64\n",
              "BoughtAnyLuxury              int64\n",
              "DeckNum                    float64\n",
              "DeckSide                    object\n",
              "Deck                        object\n",
              "PassengerGroup               int64\n",
              "PassengerGroupPosition       int64\n",
              "GroupSize                    int64\n",
              "AloneInGroup                 int64\n",
              "TotalSpend                 float64\n",
              "ZeroSpend                    int64\n",
              "SpendCategory             category\n",
              "AgeGroup                  category\n",
              "TotalSpendPerGroup         float64\n",
              "IsFromSpendlessGroup         int64\n",
              "GroupSizeCat              category\n",
              "dtype: object"
            ]
          },
          "metadata": {},
          "execution_count": 102
        }
      ]
    },
    {
      "cell_type": "code",
      "source": [
        "from sklearn_utils import visualize_datasets_distributions\n",
        "\n",
        "\n",
        "visualize_datasets_distributions(\n",
        "    dataframes_dict_={\n",
        "        'trainval': df_trainval,\n",
        "        'test_sample': df_test_sample\n",
        "    },\n",
        "    columns_=df_trainval.columns[np.isin(df_trainval.dtypes, ['float32', 'int', ''])]\n",
        ")"
      ],
      "metadata": {
        "colab": {
          "base_uri": "https://localhost:8080/",
          "height": 570
        },
        "id": "P6QJbVhHBJYW",
        "outputId": "4dc6c85e-1a66-4fa2-9aad-3b0660971c7b"
      },
      "execution_count": 101,
      "outputs": [
        {
          "output_type": "stream",
          "name": "stdout",
          "text": [
            "Visualizing datasets distributions\n"
          ]
        },
        {
          "output_type": "display_data",
          "data": {
            "text/plain": [
              "<Figure size 720x648 with 9 Axes>"
            ],
            "image/png": "[encoded data removed]"
          },
          "metadata": {
            "needs_background": "light"
          }
        }
      ]
    },
    {
      "cell_type": "markdown",
      "source": [
        "# Process the datasets"
      ],
      "metadata": {
        "id": "JVcRsyoKCS2_"
      }
    },
    {
      "cell_type": "code",
      "source": [
        "df_trainval_processed = preprocessor \\\n",
        "    .fit_transform(df_trainval) \\\n",
        "    .astype('float64')\n",
        "\n",
        "col_n = -1\n",
        "assert (df_trainval_processed[:, col_n] == df_trainval['Transported']).all()"
      ],
      "metadata": {
        "id": "Lm7Yy97dBJVQ"
      },
      "execution_count": 103,
      "outputs": []
    },
    {
      "cell_type": "code",
      "source": [
        "pd.DataFrame(df_trainval_processed).head(5)"
      ],
      "metadata": {
        "colab": {
          "base_uri": "https://localhost:8080/",
          "height": 270
        },
        "id": "gRcWkj25BJQa",
        "outputId": "786cad61-1c6b-4f01-add3-1f7e11703725"
      },
      "execution_count": 104,
      "outputs": [
        {
          "output_type": "execute_result",
          "data": {
            "text/plain": [
              "         0         1         2         3         4         5         6   \\\n",
              "0 -0.459516 -0.409755 -0.441999 -0.429520 -0.426892 -0.689617 -0.587588   \n",
              "1 -0.459516 -0.409755 -0.441999 -0.429520 -0.426892 -0.689617 -0.806212   \n",
              "2 -0.459516 -0.409755 -0.441999 -0.429520 -0.426892 -0.689617 -0.806212   \n",
              "3 -0.459516 -0.409755 -0.441999 -0.429520 -0.426892 -0.689617 -0.806212   \n",
              "4 -0.459516 -0.409755 -0.214310 -0.427099  3.432164  2.296368  2.496800   \n",
              "\n",
              "         7    8    9    10   11   12   13   14   15   16   17   18        19  \\\n",
              "0 -1.826866  1.0  0.0  0.0  0.0  0.0  0.0  1.0  0.0  0.0  0.0  0.0  0.857143   \n",
              "1 -0.857321  1.0  0.0  0.0  0.0  0.0  0.0  1.0  0.0  0.0  1.0  0.0  0.857143   \n",
              "2  0.485127  1.0  0.0  0.0  0.0  0.0  1.0  0.0  0.0  0.0  0.0  0.0  0.857143   \n",
              "3 -0.186097  0.0  1.0  0.0  0.0  1.0  0.0  0.0  0.0  0.0  1.0  0.0  0.428571   \n",
              "4 -1.155642  1.0  0.0  0.0  0.0  0.0  0.0  1.0  0.0  0.0  0.0  1.0  0.857143   \n",
              "\n",
              "         20   21   22   23        24        25   26        27   28   29   30  \\\n",
              "0  0.071038  0.0  1.0  0.0  2.392570 -0.277637  1.0  3.130413  1.0  1.0  0.0   \n",
              "1 -0.777867  0.0  1.0  1.0 -0.490454 -1.226031  1.0 -0.650221  0.0  1.0  0.0   \n",
              "2  1.758954  0.0  1.0  1.0 -0.490454  1.716911  0.0 -0.650221  0.0  1.0  0.0   \n",
              "3 -0.851082  0.0  1.0  1.0 -0.490454  0.304434  1.0 -0.650221  0.0  1.0  0.0   \n",
              "4  0.443052  1.0  0.0  1.0 -0.490454  0.174835  1.0 -0.650221  0.0  0.0  1.0   \n",
              "\n",
              "     31   32   33  \n",
              "0  0.00  0.0  1.0  \n",
              "1  0.25  1.0  1.0  \n",
              "2  0.75  1.0  0.0  \n",
              "3  0.50  1.0  1.0  \n",
              "4  0.25  0.0  0.0  "
            ],
            "text/html": [
              "\n",
              "  <div id=\"df-15721ddd-5282-4a45-9160-cc0c30d4b18e\">\n",
              "    <div class=\"colab-df-container\">\n",
              "      <div>\n",
              "<style scoped>\n",
              "    .dataframe tbody tr th:only-of-type {\n",
              "        vertical-align: middle;\n",
              "    }\n",
              "\n",
              "    .dataframe tbody tr th {\n",
              "        vertical-align: top;\n",
              "    }\n",
              "\n",
              "    .dataframe thead th {\n",
              "        text-align: right;\n",
              "    }\n",
              "</style>\n",
              "<table border=\"1\" class=\"dataframe\">\n",
              "  <thead>\n",
              "    <tr style=\"text-align: right;\">\n",
              "      <th></th>\n",
              "      <th>0</th>\n",
              "      <th>1</th>\n",
              "      <th>2</th>\n",
              "      <th>3</th>\n",
              "      <th>4</th>\n",
              "      <th>5</th>\n",
              "      <th>6</th>\n",
              "      <th>7</th>\n",
              "      <th>8</th>\n",
              "      <th>9</th>\n",
              "      <th>10</th>\n",
              "      <th>11</th>\n",
              "      <th>12</th>\n",
              "      <th>13</th>\n",
              "      <th>14</th>\n",
              "      <th>15</th>\n",
              "      <th>16</th>\n",
              "      <th>17</th>\n",
              "      <th>18</th>\n",
              "      <th>19</th>\n",
              "      <th>20</th>\n",
              "      <th>21</th>\n",
              "      <th>22</th>\n",
              "      <th>23</th>\n",
              "      <th>24</th>\n",
              "      <th>25</th>\n",
              "      <th>26</th>\n",
              "      <th>27</th>\n",
              "      <th>28</th>\n",
              "      <th>29</th>\n",
              "      <th>30</th>\n",
              "      <th>31</th>\n",
              "      <th>32</th>\n",
              "      <th>33</th>\n",
              "    </tr>\n",
              "  </thead>\n",
              "  <tbody>\n",
              "    <tr>\n",
              "      <th>0</th>\n",
              "      <td>-0.459516</td>\n",
              "      <td>-0.409755</td>\n",
              "      <td>-0.441999</td>\n",
              "      <td>-0.429520</td>\n",
              "      <td>-0.426892</td>\n",
              "      <td>-0.689617</td>\n",
              "      <td>-0.587588</td>\n",
              "      <td>-1.826866</td>\n",
              "      <td>1.0</td>\n",
              "      <td>0.0</td>\n",
              "      <td>0.0</td>\n",
              "      <td>0.0</td>\n",
              "      <td>0.0</td>\n",
              "      <td>0.0</td>\n",
              "      <td>1.0</td>\n",
              "      <td>0.0</td>\n",
              "      <td>0.0</td>\n",
              "      <td>0.0</td>\n",
              "      <td>0.0</td>\n",
              "      <td>0.857143</td>\n",
              "      <td>0.071038</td>\n",
              "      <td>0.0</td>\n",
              "      <td>1.0</td>\n",
              "      <td>0.0</td>\n",
              "      <td>2.392570</td>\n",
              "      <td>-0.277637</td>\n",
              "      <td>1.0</td>\n",
              "      <td>3.130413</td>\n",
              "      <td>1.0</td>\n",
              "      <td>1.0</td>\n",
              "      <td>0.0</td>\n",
              "      <td>0.00</td>\n",
              "      <td>0.0</td>\n",
              "      <td>1.0</td>\n",
              "    </tr>\n",
              "    <tr>\n",
              "      <th>1</th>\n",
              "      <td>-0.459516</td>\n",
              "      <td>-0.409755</td>\n",
              "      <td>-0.441999</td>\n",
              "      <td>-0.429520</td>\n",
              "      <td>-0.426892</td>\n",
              "      <td>-0.689617</td>\n",
              "      <td>-0.806212</td>\n",
              "      <td>-0.857321</td>\n",
              "      <td>1.0</td>\n",
              "      <td>0.0</td>\n",
              "      <td>0.0</td>\n",
              "      <td>0.0</td>\n",
              "      <td>0.0</td>\n",
              "      <td>0.0</td>\n",
              "      <td>1.0</td>\n",
              "      <td>0.0</td>\n",
              "      <td>0.0</td>\n",
              "      <td>1.0</td>\n",
              "      <td>0.0</td>\n",
              "      <td>0.857143</td>\n",
              "      <td>-0.777867</td>\n",
              "      <td>0.0</td>\n",
              "      <td>1.0</td>\n",
              "      <td>1.0</td>\n",
              "      <td>-0.490454</td>\n",
              "      <td>-1.226031</td>\n",
              "      <td>1.0</td>\n",
              "      <td>-0.650221</td>\n",
              "      <td>0.0</td>\n",
              "      <td>1.0</td>\n",
              "      <td>0.0</td>\n",
              "      <td>0.25</td>\n",
              "      <td>1.0</td>\n",
              "      <td>1.0</td>\n",
              "    </tr>\n",
              "    <tr>\n",
              "      <th>2</th>\n",
              "      <td>-0.459516</td>\n",
              "      <td>-0.409755</td>\n",
              "      <td>-0.441999</td>\n",
              "      <td>-0.429520</td>\n",
              "      <td>-0.426892</td>\n",
              "      <td>-0.689617</td>\n",
              "      <td>-0.806212</td>\n",
              "      <td>0.485127</td>\n",
              "      <td>1.0</td>\n",
              "      <td>0.0</td>\n",
              "      <td>0.0</td>\n",
              "      <td>0.0</td>\n",
              "      <td>0.0</td>\n",
              "      <td>1.0</td>\n",
              "      <td>0.0</td>\n",
              "      <td>0.0</td>\n",
              "      <td>0.0</td>\n",
              "      <td>0.0</td>\n",
              "      <td>0.0</td>\n",
              "      <td>0.857143</td>\n",
              "      <td>1.758954</td>\n",
              "      <td>0.0</td>\n",
              "      <td>1.0</td>\n",
              "      <td>1.0</td>\n",
              "      <td>-0.490454</td>\n",
              "      <td>1.716911</td>\n",
              "      <td>0.0</td>\n",
              "      <td>-0.650221</td>\n",
              "      <td>0.0</td>\n",
              "      <td>1.0</td>\n",
              "      <td>0.0</td>\n",
              "      <td>0.75</td>\n",
              "      <td>1.0</td>\n",
              "      <td>0.0</td>\n",
              "    </tr>\n",
              "    <tr>\n",
              "      <th>3</th>\n",
              "      <td>-0.459516</td>\n",
              "      <td>-0.409755</td>\n",
              "      <td>-0.441999</td>\n",
              "      <td>-0.429520</td>\n",
              "      <td>-0.426892</td>\n",
              "      <td>-0.689617</td>\n",
              "      <td>-0.806212</td>\n",
              "      <td>-0.186097</td>\n",
              "      <td>0.0</td>\n",
              "      <td>1.0</td>\n",
              "      <td>0.0</td>\n",
              "      <td>0.0</td>\n",
              "      <td>1.0</td>\n",
              "      <td>0.0</td>\n",
              "      <td>0.0</td>\n",
              "      <td>0.0</td>\n",
              "      <td>0.0</td>\n",
              "      <td>1.0</td>\n",
              "      <td>0.0</td>\n",
              "      <td>0.428571</td>\n",
              "      <td>-0.851082</td>\n",
              "      <td>0.0</td>\n",
              "      <td>1.0</td>\n",
              "      <td>1.0</td>\n",
              "      <td>-0.490454</td>\n",
              "      <td>0.304434</td>\n",
              "      <td>1.0</td>\n",
              "      <td>-0.650221</td>\n",
              "      <td>0.0</td>\n",
              "      <td>1.0</td>\n",
              "      <td>0.0</td>\n",
              "      <td>0.50</td>\n",
              "      <td>1.0</td>\n",
              "      <td>1.0</td>\n",
              "    </tr>\n",
              "    <tr>\n",
              "      <th>4</th>\n",
              "      <td>-0.459516</td>\n",
              "      <td>-0.409755</td>\n",
              "      <td>-0.214310</td>\n",
              "      <td>-0.427099</td>\n",
              "      <td>3.432164</td>\n",
              "      <td>2.296368</td>\n",
              "      <td>2.496800</td>\n",
              "      <td>-1.155642</td>\n",
              "      <td>1.0</td>\n",
              "      <td>0.0</td>\n",
              "      <td>0.0</td>\n",
              "      <td>0.0</td>\n",
              "      <td>0.0</td>\n",
              "      <td>0.0</td>\n",
              "      <td>1.0</td>\n",
              "      <td>0.0</td>\n",
              "      <td>0.0</td>\n",
              "      <td>0.0</td>\n",
              "      <td>1.0</td>\n",
              "      <td>0.857143</td>\n",
              "      <td>0.443052</td>\n",
              "      <td>1.0</td>\n",
              "      <td>0.0</td>\n",
              "      <td>1.0</td>\n",
              "      <td>-0.490454</td>\n",
              "      <td>0.174835</td>\n",
              "      <td>1.0</td>\n",
              "      <td>-0.650221</td>\n",
              "      <td>0.0</td>\n",
              "      <td>0.0</td>\n",
              "      <td>1.0</td>\n",
              "      <td>0.25</td>\n",
              "      <td>0.0</td>\n",
              "      <td>0.0</td>\n",
              "    </tr>\n",
              "  </tbody>\n",
              "</table>\n",
              "</div>\n",
              "      <button class=\"colab-df-convert\" onclick=\"convertToInteractive('df-15721ddd-5282-4a45-9160-cc0c30d4b18e')\"\n",
              "              title=\"Convert this dataframe to an interactive table.\"\n",
              "              style=\"display:none;\">\n",
              "        \n",
              "  <svg xmlns=\"http://www.w3.org/2000/svg\" height=\"24px\"viewBox=\"0 0 24 24\"\n",
              "       width=\"24px\">\n",
              "    <path d=\"M0 0h24v24H0V0z\" fill=\"none\"/>\n",
              "    <path d=\"M18.56 5.44l.94 2.06.94-2.06 2.06-.94-2.06-.94-.94-2.06-.94 2.06-2.06.94zm-11 1L8.5 8.5l.94-2.06 2.06-.94-2.06-.94L8.5 2.5l-.94 2.06-2.06.94zm10 10l.94 2.06.94-2.06 2.06-.94-2.06-.94-.94-2.06-.94 2.06-2.06.94z\"/><path d=\"M17.41 7.96l-1.37-1.37c-.4-.4-.92-.59-1.43-.59-.52 0-1.04.2-1.43.59L10.3 9.45l-7.72 7.72c-.78.78-.78 2.05 0 2.83L4 21.41c.39.39.9.59 1.41.59.51 0 1.02-.2 1.41-.59l7.78-7.78 2.81-2.81c.8-.78.8-2.07 0-2.86zM5.41 20L4 18.59l7.72-7.72 1.47 1.35L5.41 20z\"/>\n",
              "  </svg>\n",
              "      </button>\n",
              "      \n",
              "  <style>\n",
              "    .colab-df-container {\n",
              "      display:flex;\n",
              "      flex-wrap:wrap;\n",
              "      gap: 12px;\n",
              "    }\n",
              "\n",
              "    .colab-df-convert {\n",
              "      background-color: #E8F0FE;\n",
              "      border: none;\n",
              "      border-radius: 50%;\n",
              "      cursor: pointer;\n",
              "      display: none;\n",
              "      fill: #1967D2;\n",
              "      height: 32px;\n",
              "      padding: 0 0 0 0;\n",
              "      width: 32px;\n",
              "    }\n",
              "\n",
              "    .colab-df-convert:hover {\n",
              "      background-color: #E2EBFA;\n",
              "      box-shadow: 0px 1px 2px rgba(60, 64, 67, 0.3), 0px 1px 3px 1px rgba(60, 64, 67, 0.15);\n",
              "      fill: #174EA6;\n",
              "    }\n",
              "\n",
              "    [theme=dark] .colab-df-convert {\n",
              "      background-color: #3B4455;\n",
              "      fill: #D2E3FC;\n",
              "    }\n",
              "\n",
              "    [theme=dark] .colab-df-convert:hover {\n",
              "      background-color: #434B5C;\n",
              "      box-shadow: 0px 1px 3px 1px rgba(0, 0, 0, 0.15);\n",
              "      filter: drop-shadow(0px 1px 2px rgba(0, 0, 0, 0.3));\n",
              "      fill: #FFFFFF;\n",
              "    }\n",
              "  </style>\n",
              "\n",
              "      <script>\n",
              "        const buttonEl =\n",
              "          document.querySelector('#df-15721ddd-5282-4a45-9160-cc0c30d4b18e button.colab-df-convert');\n",
              "        buttonEl.style.display =\n",
              "          google.colab.kernel.accessAllowed ? 'block' : 'none';\n",
              "\n",
              "        async function convertToInteractive(key) {\n",
              "          const element = document.querySelector('#df-15721ddd-5282-4a45-9160-cc0c30d4b18e');\n",
              "          const dataTable =\n",
              "            await google.colab.kernel.invokeFunction('convertToInteractive',\n",
              "                                                     [key], {});\n",
              "          if (!dataTable) return;\n",
              "\n",
              "          const docLinkHtml = 'Like what you see? Visit the ' +\n",
              "            '<a target=\"_blank\" href=https://colab.research.google.com/notebooks/data_table.ipynb>data table notebook</a>'\n",
              "            + ' to learn more about interactive tables.';\n",
              "          element.innerHTML = '';\n",
              "          dataTable['output_type'] = 'display_data';\n",
              "          await google.colab.output.renderOutput(dataTable, element);\n",
              "          const docLink = document.createElement('div');\n",
              "          docLink.innerHTML = docLinkHtml;\n",
              "          element.appendChild(docLink);\n",
              "        }\n",
              "      </script>\n",
              "    </div>\n",
              "  </div>\n",
              "  "
            ]
          },
          "metadata": {},
          "execution_count": 104
        }
      ]
    },
    {
      "cell_type": "code",
      "source": [
        "df_test_sample_processed = preprocessor \\\n",
        "    .transform(df_test_sample) \\\n",
        "    .astype('float64')\n",
        "\n",
        "assert (df_test_sample_processed[:, -1] == df_test_sample['Transported']).all()"
      ],
      "metadata": {
        "id": "IJNxQ1XBCrx1"
      },
      "execution_count": 105,
      "outputs": []
    },
    {
      "cell_type": "code",
      "source": [
        "df_test['Transported'] = np.zeros(len(df_test))\n",
        "df_test_processed = preprocessor \\\n",
        "    .transform(df_test) \\\n",
        "    .astype('float64')\n",
        "\n",
        "# removing fake \"Transported\" column\n",
        "df_test_processed = df_test_processed[:, :-1]"
      ],
      "metadata": {
        "id": "17gqeKnmCyZ2"
      },
      "execution_count": 106,
      "outputs": []
    },
    {
      "cell_type": "code",
      "source": [
        "assert (df_trainval_processed.dtype == 'float64') \\\n",
        "    & (df_test_sample_processed.dtype == 'float64') \\\n",
        "    & (df_test_processed.dtype == 'float64'), \\\n",
        "    print(\n",
        "        df_trainval_processed.dtype,\n",
        "        df_test_sample_processed.dtype,\n",
        "        df_test_processed.dtype\n",
        "    )"
      ],
      "metadata": {
        "id": "DDbABUJCC2SD"
      },
      "execution_count": 107,
      "outputs": []
    },
    {
      "cell_type": "markdown",
      "source": [],
      "metadata": {
        "id": "_h-NJT38AZ1s"
      }
    }
  ]
}