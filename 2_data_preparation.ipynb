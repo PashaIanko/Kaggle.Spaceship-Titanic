{
  "nbformat": 4,
  "nbformat_minor": 0,
  "metadata": {
    "colab": {
      "provenance": [],
      "toc_visible": true,
      "authorship_tag": "ABX9TyPg0+VAdsjnEQaxLzJnwJKe",
      "include_colab_link": true
    },
    "kernelspec": {
      "name": "python3",
      "display_name": "Python 3"
    },
    "language_info": {
      "name": "python"
    }
  },
  "cells": [
    {
      "cell_type": "markdown",
      "metadata": {
        "id": "view-in-github",
        "colab_type": "text"
      },
      "source": [
        "<a href=\"https://colab.research.google.com/github/PashaIanko/Kaggle.Spaceship-Titanic/blob/additional_features/2_data_preparation.ipynb\" target=\"_parent\"><img src=\"https://colab.research.google.com/assets/colab-badge.svg\" alt=\"Open In Colab\"/></a>"
      ]
    },
    {
      "cell_type": "markdown",
      "source": [
        "# Imports"
      ],
      "metadata": {
        "id": "tfTSuABhcdzf"
      }
    },
    {
      "cell_type": "code",
      "execution_count": 124,
      "metadata": {
        "id": "TbElZ_JOcVn8"
      },
      "outputs": [],
      "source": [
        "# colab\n",
        "from google.colab import drive\n",
        "\n",
        "# data\n",
        "import pandas as pd\n",
        "pd.set_option('display.max_columns', None)\n",
        "\n",
        "# math\n",
        "import numpy as np\n",
        "\n",
        "# preprocessing\n",
        "from sklearn.pipeline import Pipeline\n",
        "from sklearn.compose import ColumnTransformer\n",
        "from sklearn.preprocessing import MinMaxScaler\n",
        "\n",
        "from sklearn.preprocessing import StandardScaler\n",
        "from sklearn.preprocessing import OneHotEncoder\n",
        "from sklearn.impute import SimpleImputer"
      ]
    },
    {
      "cell_type": "markdown",
      "source": [
        "## PEP8 code standard"
      ],
      "metadata": {
        "id": "G6UylN1y0SkN"
      }
    },
    {
      "cell_type": "code",
      "source": [
        "%%capture\n",
        "!pip install pycodestyle\n",
        "!pip install --index-url https://test.pypi.org/simple/ nbpep8\n",
        "\n",
        "from nbpep8.nbpep8 import pep8"
      ],
      "metadata": {
        "id": "jd7pxnxC0U7d"
      },
      "execution_count": 125,
      "outputs": []
    },
    {
      "cell_type": "markdown",
      "source": [
        "## Importing custom packages"
      ],
      "metadata": {
        "id": "xhXhFcJc0ziD"
      }
    },
    {
      "cell_type": "code",
      "source": [
        "%%capture\n",
        "def download_files(url_dict):\n",
        "    for file, url in url_dict.items():\n",
        "        !wget -O {file} {url} {file}\n",
        "\n",
        "git_download_path = \\\n",
        "    'https://raw.githubusercontent.com/PashaIanko/Sklearn-Utils/main/'\n",
        "\n",
        "files = [\n",
        "    'path_manager.py',\n",
        "    'sklearn_transformers.py',\n",
        "    'sklearn_utils.py'\n",
        "]\n",
        "\n",
        "url_dict = {file: git_download_path + file for file in files}\n",
        "download_files(url_dict)"
      ],
      "metadata": {
        "id": "2Edswwkj0yy2"
      },
      "execution_count": 126,
      "outputs": []
    },
    {
      "cell_type": "code",
      "source": [
        "import importlib\n",
        "import path_manager\n",
        "import sklearn_utils\n",
        "import sklearn_transformers\n",
        "\n",
        "def reload_modules(modules):\n",
        "    for module in modules:\n",
        "        importlib.reload(module)\n",
        "\n",
        "reload_modules(\n",
        "    [\n",
        "        path_manager,\n",
        "        sklearn_transformers,\n",
        "        sklearn_utils\n",
        "    ]\n",
        ")\n",
        "\n",
        "from path_manager import PathManager\n",
        "from sklearn_transformers import ColumnDropper\n",
        "from sklearn_utils import inf_statistics\n",
        "from sklearn_transformers import OutlierCleaner"
      ],
      "metadata": {
        "id": "JgYOe2C01Kz_"
      },
      "execution_count": 127,
      "outputs": []
    },
    {
      "cell_type": "markdown",
      "source": [
        "# Set up paths"
      ],
      "metadata": {
        "id": "Qp68wJ03chy1"
      }
    },
    {
      "cell_type": "code",
      "source": [
        "drive.mount('/content/gdrive')\n",
        "gdrive_path = '/content/gdrive/MyDrive/'\n",
        "\n",
        "PREPROC_TRIAL = 9\n",
        "MODELS_TRIAL = 4\n",
        "COMPETITION_PATH = gdrive_path + 'ML/Competitions/6.SpaceshipTitanic/'\n",
        "\n",
        "manager = PathManager(\n",
        "    competition_path=COMPETITION_PATH,\n",
        "    preprocessing_trial=PREPROC_TRIAL,\n",
        "    models_trial=MODELS_TRIAL\n",
        ")\n",
        "manager.setup_paths()"
      ],
      "metadata": {
        "id": "3lZ9wP2ScdMn",
        "colab": {
          "base_uri": "https://localhost:8080/"
        },
        "outputId": "26c8ec18-a841-44d6-a3d6-9e3e3ce37abc"
      },
      "execution_count": 128,
      "outputs": [
        {
          "output_type": "stream",
          "name": "stdout",
          "text": [
            "Drive already mounted at /content/gdrive; to attempt to forcibly remount, call drive.mount(\"/content/gdrive\", force_remount=True).\n",
            "/content/gdrive/MyDrive/ML/Competitions/6.SpaceshipTitanic/Data/preproc_trial_9 already exists\n",
            "/content/gdrive/MyDrive/ML/Competitions/6.SpaceshipTitanic/Models/trial_4 already exists\n"
          ]
        }
      ]
    },
    {
      "cell_type": "markdown",
      "source": [
        "# Download the data"
      ],
      "metadata": {
        "id": "icar5WRwCS97"
      }
    },
    {
      "cell_type": "code",
      "source": [
        "df_train = pd.read_csv(manager.train_path, index_col='Unnamed: 0')\n",
        "df_test = pd.read_csv(manager.test_path, index_col='Unnamed: 0')"
      ],
      "metadata": {
        "id": "Fb9XiK_GCVkh"
      },
      "execution_count": 129,
      "outputs": []
    },
    {
      "cell_type": "code",
      "source": [
        "df_train.columns, df_test.columns"
      ],
      "metadata": {
        "id": "fOcD_bHGRamz",
        "outputId": "6344aee1-49ac-4589-fbdf-8086769f2545",
        "colab": {
          "base_uri": "https://localhost:8080/"
        }
      },
      "execution_count": 130,
      "outputs": [
        {
          "output_type": "execute_result",
          "data": {
            "text/plain": [
              "(Index(['PassengerId', 'HomePlanet', 'CryoSleep', 'Cabin', 'Destination', 'Age',\n",
              "        'VIP', 'RoomService', 'FoodCourt', 'ShoppingMall', 'Spa', 'VRDeck',\n",
              "        'Name', 'Transported', 'gender'],\n",
              "       dtype='object'),\n",
              " Index(['PassengerId', 'HomePlanet', 'CryoSleep', 'Cabin', 'Destination', 'Age',\n",
              "        'VIP', 'RoomService', 'FoodCourt', 'ShoppingMall', 'Spa', 'VRDeck',\n",
              "        'Name', 'gender'],\n",
              "       dtype='object'))"
            ]
          },
          "metadata": {},
          "execution_count": 130
        }
      ]
    },
    {
      "cell_type": "markdown",
      "source": [
        "# Checking NAN"
      ],
      "metadata": {
        "id": "zDMBBUJUDkg6"
      }
    },
    {
      "cell_type": "code",
      "source": [
        "from sklearn_utils import nan_statistics\n",
        "\n",
        "\n",
        "_ = nan_statistics(df_train)"
      ],
      "metadata": {
        "colab": {
          "base_uri": "https://localhost:8080/"
        },
        "id": "k7BBSgXxDj25",
        "outputId": "cde19a96-47c9-477a-ae8a-1e54c007a0b8"
      },
      "execution_count": 131,
      "outputs": [
        {
          "output_type": "stream",
          "name": "stdout",
          "text": [
            "Col -- Nan percentage\n",
            "CryoSleep 2.4962613597147127\n",
            "ShoppingMall 2.392729782583688\n",
            "VIP 2.3352122397331185\n",
            "HomePlanet 2.312205222592891\n",
            "Name 2.300701714022777\n",
            "Cabin 2.289198205452663\n",
            "VRDeck 2.1626596111814105\n",
            "FoodCourt 2.105142068330841\n",
            "Spa 2.105142068330841\n",
            "Destination 2.093638559760727\n",
            "RoomService 2.082135051190613\n",
            "Age 2.0591280340503855\n"
          ]
        }
      ]
    },
    {
      "cell_type": "code",
      "source": [
        "_ = nan_statistics(df_test)"
      ],
      "metadata": {
        "colab": {
          "base_uri": "https://localhost:8080/"
        },
        "id": "IdxOYXpqDr9s",
        "outputId": "d6a35e2a-bcd1-4a32-bdfb-9d1f8c23faaf"
      },
      "execution_count": 132,
      "outputs": [
        {
          "output_type": "stream",
          "name": "stdout",
          "text": [
            "Col -- Nan percentage\n",
            "FoodCourt 2.4783726911386488\n",
            "Spa 2.3614683189151275\n",
            "Cabin 2.338087444470423\n",
            "ShoppingMall 2.2913256955810146\n",
            "Name 2.197802197802198\n",
            "CryoSleep 2.1744213233574934\n",
            "VIP 2.1744213233574934\n",
            "Destination 2.1510404489127897\n",
            "Age 2.127659574468085\n",
            "HomePlanet 2.034136076689268\n",
            "RoomService 1.917231704465747\n",
            "VRDeck 1.8704699555763384\n"
          ]
        }
      ]
    },
    {
      "cell_type": "markdown",
      "source": [
        "# Check infinity values"
      ],
      "metadata": {
        "id": "UgATQKhiD1r6"
      }
    },
    {
      "cell_type": "code",
      "source": [
        "from sklearn_utils import inf_statistics\n",
        "\n",
        "\n",
        "inf_statistics(df_train)"
      ],
      "metadata": {
        "colab": {
          "base_uri": "https://localhost:8080/"
        },
        "id": "fYepxFaSHWBX",
        "outputId": "d3866ca9-0d3c-4db9-9b41-b6cf52be06a5"
      },
      "execution_count": 133,
      "outputs": [
        {
          "output_type": "stream",
          "name": "stdout",
          "text": [
            "Age             0\n",
            "RoomService     0\n",
            "FoodCourt       0\n",
            "ShoppingMall    0\n",
            "Spa             0\n",
            "VRDeck          0\n",
            "gender          0\n",
            "dtype: int64\n"
          ]
        },
        {
          "output_type": "execute_result",
          "data": {
            "text/plain": [
              "Age             0\n",
              "RoomService     0\n",
              "FoodCourt       0\n",
              "ShoppingMall    0\n",
              "Spa             0\n",
              "VRDeck          0\n",
              "gender          0\n",
              "dtype: int64"
            ]
          },
          "metadata": {},
          "execution_count": 133
        }
      ]
    },
    {
      "cell_type": "code",
      "source": [
        "inf_statistics(df_test)"
      ],
      "metadata": {
        "colab": {
          "base_uri": "https://localhost:8080/"
        },
        "id": "a4gnAaNdHa79",
        "outputId": "65e62f95-cef7-4df3-dc03-6cdfff4468f6"
      },
      "execution_count": 134,
      "outputs": [
        {
          "output_type": "stream",
          "name": "stdout",
          "text": [
            "Age             0\n",
            "RoomService     0\n",
            "FoodCourt       0\n",
            "ShoppingMall    0\n",
            "Spa             0\n",
            "VRDeck          0\n",
            "gender          0\n",
            "dtype: int64\n"
          ]
        },
        {
          "output_type": "execute_result",
          "data": {
            "text/plain": [
              "Age             0\n",
              "RoomService     0\n",
              "FoodCourt       0\n",
              "ShoppingMall    0\n",
              "Spa             0\n",
              "VRDeck          0\n",
              "gender          0\n",
              "dtype: int64"
            ]
          },
          "metadata": {},
          "execution_count": 134
        }
      ]
    },
    {
      "cell_type": "code",
      "source": [
        "df_train.dtypes"
      ],
      "metadata": {
        "colab": {
          "base_uri": "https://localhost:8080/"
        },
        "id": "NTam716lHxSu",
        "outputId": "8e967d57-81dd-4a46-dbcd-1588fa49d0f8"
      },
      "execution_count": 135,
      "outputs": [
        {
          "output_type": "execute_result",
          "data": {
            "text/plain": [
              "PassengerId      object\n",
              "HomePlanet       object\n",
              "CryoSleep        object\n",
              "Cabin            object\n",
              "Destination      object\n",
              "Age             float64\n",
              "VIP              object\n",
              "RoomService     float64\n",
              "FoodCourt       float64\n",
              "ShoppingMall    float64\n",
              "Spa             float64\n",
              "VRDeck          float64\n",
              "Name             object\n",
              "Transported        bool\n",
              "gender            int64\n",
              "dtype: object"
            ]
          },
          "metadata": {},
          "execution_count": 135
        }
      ]
    },
    {
      "cell_type": "markdown",
      "source": [
        "# Engineer new features"
      ],
      "metadata": {
        "id": "4kXo0uEftoJ7"
      }
    },
    {
      "cell_type": "markdown",
      "source": [
        "## Did a person buy any luxury service?"
      ],
      "metadata": {
        "id": "letMnuUcvzyv"
      }
    },
    {
      "cell_type": "code",
      "source": [
        "from sklearn.base import BaseEstimator, TransformerMixin\n",
        "\n",
        "\n",
        "class BoughtLuxuryItems(BaseEstimator, TransformerMixin):\n",
        "    def __init__(self):\n",
        "        super().__init__()\n",
        "\n",
        "    def fit(self, X, y=None):\n",
        "        return self\n",
        "\n",
        "    def transform(self, X, y=None):\n",
        "        transformed_df = X.copy()\n",
        "        transformed_df['BoughtAnyLuxury'] = \\\n",
        "            (transformed_df['ShoppingMall'] > 0.0) \\\n",
        "            | (transformed_df['FoodCourt'] > 0.0) \\\n",
        "            | (transformed_df['VRDeck'] > 0.0) \\\n",
        "            | (transformed_df['Spa'] > 0.0) \\\n",
        "            | (transformed_df['RoomService'] > 0.0)\n",
        "        transformed_df['BoughtAnyLuxury'] = \\\n",
        "            transformed_df['BoughtAnyLuxury'].astype('int')\n",
        "        return transformed_df\n",
        "\n",
        "\n",
        "pep8(_ih)"
      ],
      "metadata": {
        "id": "9SheE52xt7t0",
        "outputId": "db18d0c3-d9d5-440c-9662-7c9cc4ea2124",
        "colab": {
          "base_uri": "https://localhost:8080/"
        }
      },
      "execution_count": 136,
      "outputs": [
        {
          "output_type": "stream",
          "name": "stdout",
          "text": [
            "\n"
          ]
        }
      ]
    },
    {
      "cell_type": "code",
      "source": [
        "bought_luxury_items = BoughtLuxuryItems()\n",
        "\n",
        "df_train = bought_luxury_items.fit_transform(df_train)\n",
        "df_test = bought_luxury_items.transform(df_test)"
      ],
      "metadata": {
        "id": "d-xmG0yOvDDq"
      },
      "execution_count": 137,
      "outputs": []
    },
    {
      "cell_type": "markdown",
      "source": [
        "## DeckNum, DeckSide, Deck"
      ],
      "metadata": {
        "id": "rauJCcGiv3uP"
      }
    },
    {
      "cell_type": "code",
      "source": [
        "from sklearn.base import TransformerMixin, BaseEstimator\n",
        "\n",
        "\n",
        "class DeckNumAdder(TransformerMixin, BaseEstimator):\n",
        "    def __init__(self):\n",
        "        super().__init__()\n",
        "\n",
        "    def fit(self, X, y=None):\n",
        "        return self\n",
        "\n",
        "    def get_deck_num(self, deck):\n",
        "        if type(deck) is str:\n",
        "            split_items = deck.split('/')\n",
        "            return int(split_items[1])\n",
        "        else:\n",
        "            return np.nan\n",
        "\n",
        "    def transform(self, X, y=None):\n",
        "        df_transformed = X.copy()\n",
        "        df_transformed['DeckNum'] = df_transformed['Cabin'] \\\n",
        "            .map(self.get_deck_num)\n",
        "        return df_transformed\n",
        "\n",
        "\n",
        "pep8(_ih)"
      ],
      "metadata": {
        "id": "1VxWAFHiv73P",
        "outputId": "f24bde68-5488-4019-fae8-aefc62f45a0e",
        "colab": {
          "base_uri": "https://localhost:8080/"
        }
      },
      "execution_count": 138,
      "outputs": [
        {
          "output_type": "stream",
          "name": "stdout",
          "text": [
            "\n"
          ]
        }
      ]
    },
    {
      "cell_type": "code",
      "source": [
        "deck_num_adder = DeckNumAdder()\n",
        "df_train = deck_num_adder.fit_transform(df_train)\n",
        "df_test = deck_num_adder.transform(df_test)"
      ],
      "metadata": {
        "id": "WIUi4mQGwiiF"
      },
      "execution_count": 139,
      "outputs": []
    },
    {
      "cell_type": "code",
      "source": [
        "from sklearn_utils import nan_statistics\n",
        "\n",
        "nan_statistics(df_train)"
      ],
      "metadata": {
        "colab": {
          "base_uri": "https://localhost:8080/"
        },
        "id": "BQ85c5F7Jye7",
        "outputId": "346688f7-0e40-4eb8-f317-26993f918b16"
      },
      "execution_count": 140,
      "outputs": [
        {
          "output_type": "stream",
          "name": "stdout",
          "text": [
            "Col -- Nan percentage\n",
            "CryoSleep 2.4962613597147127\n",
            "ShoppingMall 2.392729782583688\n",
            "VIP 2.3352122397331185\n",
            "HomePlanet 2.312205222592891\n",
            "Name 2.300701714022777\n",
            "Cabin 2.289198205452663\n",
            "DeckNum 2.289198205452663\n",
            "VRDeck 2.1626596111814105\n",
            "FoodCourt 2.105142068330841\n",
            "Spa 2.105142068330841\n",
            "Destination 2.093638559760727\n",
            "RoomService 2.082135051190613\n",
            "Age 2.0591280340503855\n"
          ]
        },
        {
          "output_type": "execute_result",
          "data": {
            "text/plain": [
              "{'HomePlanet': 2.312205222592891,\n",
              " 'CryoSleep': 2.4962613597147127,\n",
              " 'Cabin': 2.289198205452663,\n",
              " 'Destination': 2.093638559760727,\n",
              " 'Age': 2.0591280340503855,\n",
              " 'VIP': 2.3352122397331185,\n",
              " 'RoomService': 2.082135051190613,\n",
              " 'FoodCourt': 2.105142068330841,\n",
              " 'ShoppingMall': 2.392729782583688,\n",
              " 'Spa': 2.105142068330841,\n",
              " 'VRDeck': 2.1626596111814105,\n",
              " 'Name': 2.300701714022777,\n",
              " 'DeckNum': 2.289198205452663}"
            ]
          },
          "metadata": {},
          "execution_count": 140
        }
      ]
    },
    {
      "cell_type": "code",
      "source": [
        "from sklearn.base import TransformerMixin, BaseEstimator\n",
        "\n",
        "\n",
        "class DeckSideAdder(TransformerMixin, BaseEstimator):\n",
        "    def __init__(self):\n",
        "        super().__init__()\n",
        "\n",
        "    def fit(self, X, y=None):\n",
        "        return self\n",
        "\n",
        "    def add_deck_side(self, val):\n",
        "        if type(val) is str:\n",
        "            return val.split('/')[2]\n",
        "        else:\n",
        "            return np.nan\n",
        "\n",
        "    def transform(self, X, y=None):\n",
        "        df_transformed = X.copy()\n",
        "        df_transformed['DeckSide'] = df_transformed['Cabin'].map(\n",
        "            self.add_deck_side)\n",
        "\n",
        "        del X\n",
        "        return df_transformed\n",
        "\n",
        "\n",
        "pep8(_ih)"
      ],
      "metadata": {
        "id": "1Nn7q4ySxqwY",
        "outputId": "7294299d-c723-4dbe-ed52-878224264930",
        "colab": {
          "base_uri": "https://localhost:8080/"
        }
      },
      "execution_count": 141,
      "outputs": [
        {
          "output_type": "stream",
          "name": "stdout",
          "text": [
            "\n"
          ]
        }
      ]
    },
    {
      "cell_type": "code",
      "source": [
        "deck_side_adder = DeckSideAdder()\n",
        "\n",
        "df_train = deck_side_adder.fit_transform(df_train)\n",
        "df_test = deck_side_adder.transform(df_test)"
      ],
      "metadata": {
        "id": "CXIJ8ZEBybuB"
      },
      "execution_count": 142,
      "outputs": []
    },
    {
      "cell_type": "code",
      "source": [
        "from sklearn.base import TransformerMixin, BaseEstimator\n",
        "\n",
        "\n",
        "class DeckAdder(TransformerMixin, BaseEstimator):\n",
        "    def __init__(self):\n",
        "        super().__init__()\n",
        "\n",
        "    def fit(self, X, y=None):\n",
        "        return self\n",
        "\n",
        "    def add_deck(self, val):\n",
        "        if type(val) is str:\n",
        "            return val.split('/')[0]\n",
        "        else:\n",
        "            return np.nan\n",
        "\n",
        "    def transform(self, X, y=None):\n",
        "        transformed_df = X.copy()\n",
        "        transformed_df['Deck'] = transformed_df['Cabin'].map(\n",
        "            self.add_deck\n",
        "        )\n",
        "        del X\n",
        "        return transformed_df\n",
        "\n",
        "\n",
        "pep8(_ih)"
      ],
      "metadata": {
        "id": "ZcGKlYMo0ZvK",
        "outputId": "308f7b8c-7933-4f3f-bb51-a5da245085d2",
        "colab": {
          "base_uri": "https://localhost:8080/"
        }
      },
      "execution_count": 143,
      "outputs": [
        {
          "output_type": "stream",
          "name": "stdout",
          "text": [
            "\n"
          ]
        }
      ]
    },
    {
      "cell_type": "code",
      "source": [
        "deck_adder = DeckAdder()\n",
        "df_train = deck_adder.fit_transform(df_train)\n",
        "df_test = deck_adder.transform(df_test)"
      ],
      "metadata": {
        "id": "GW6PEcNc1Elp"
      },
      "execution_count": 144,
      "outputs": []
    },
    {
      "cell_type": "markdown",
      "source": [
        "## PassengerGroup, PassengerPosition, SingleInGroup, GroupSize\n",
        "\n"
      ],
      "metadata": {
        "id": "aOoMckukLruj"
      }
    },
    {
      "cell_type": "code",
      "source": [
        "from sklearn.base import TransformerMixin, BaseEstimator\n",
        "\n",
        "\n",
        "class PassengerGroupAdder(TransformerMixin, BaseEstimator):\n",
        "    def __init__(self):\n",
        "        super().__init__()\n",
        "\n",
        "    def fit(self, X, y=None):\n",
        "        return self\n",
        "\n",
        "    def get_passenger_group(self, val):\n",
        "        if val is not np.nan:\n",
        "            return int(val.split('_')[0])\n",
        "        else:\n",
        "            return val\n",
        "\n",
        "    def transform(self, X, y=None):\n",
        "        transformed_df = X.copy()\n",
        "        transformed_df['PassengerGroup'] = \\\n",
        "            X['PassengerId'].map(self.get_passenger_group)\n",
        "        del X\n",
        "        return transformed_df\n",
        "\n",
        "\n",
        "pep8(_ih)"
      ],
      "metadata": {
        "id": "Nr0rLxreL3F8",
        "outputId": "4fd215d9-853f-42d1-a8da-d38ae0d250d6",
        "colab": {
          "base_uri": "https://localhost:8080/"
        }
      },
      "execution_count": 145,
      "outputs": [
        {
          "output_type": "stream",
          "name": "stdout",
          "text": [
            "\n"
          ]
        }
      ]
    },
    {
      "cell_type": "code",
      "source": [
        "group_adder = PassengerGroupAdder()\n",
        "df_train = group_adder.fit_transform(df_train)\n",
        "df_test = group_adder.transform(df_test)"
      ],
      "metadata": {
        "id": "YtHbVUDrM8uK"
      },
      "execution_count": 146,
      "outputs": []
    },
    {
      "cell_type": "code",
      "source": [
        "nan_statistics(df_train[['PassengerGroup']])"
      ],
      "metadata": {
        "id": "tCqTvUxO6fAa",
        "outputId": "1c4cbde6-88ad-493b-f556-d496a0b36d97",
        "colab": {
          "base_uri": "https://localhost:8080/"
        }
      },
      "execution_count": 147,
      "outputs": [
        {
          "output_type": "stream",
          "name": "stdout",
          "text": [
            "Col -- Nan percentage\n"
          ]
        },
        {
          "output_type": "execute_result",
          "data": {
            "text/plain": [
              "{}"
            ]
          },
          "metadata": {},
          "execution_count": 147
        }
      ]
    },
    {
      "cell_type": "code",
      "source": [
        "from sklearn.base import TransformerMixin, BaseEstimator\n",
        "\n",
        "\n",
        "class PassengerPositionAdder(TransformerMixin, BaseEstimator):\n",
        "    def __init__(self):\n",
        "        super().__init__()\n",
        "\n",
        "    def fit(self, X, y=None):\n",
        "        return self\n",
        "\n",
        "    def get_position(self, val):\n",
        "        if type(val) is str:\n",
        "            return int(val.split('_')[1])\n",
        "        else:\n",
        "            return np.nan\n",
        "    \n",
        "    def transform(self, X, y=None):\n",
        "        # df_transformed = X.copy()\n",
        "        # del X\n",
        "        X['PassengerGroupPosition'] = \\\n",
        "            X['PassengerId'].map(self.get_position)\n",
        "        return X"
      ],
      "metadata": {
        "id": "WniLnAnPNGNb"
      },
      "execution_count": 148,
      "outputs": []
    },
    {
      "cell_type": "code",
      "source": [
        "position_adder = PassengerPositionAdder()\n",
        "df_train = position_adder.fit_transform(df_train)\n",
        "df_test = position_adder.transform(df_test)"
      ],
      "metadata": {
        "id": "XNLMEaPKOHOg"
      },
      "execution_count": 149,
      "outputs": []
    },
    {
      "cell_type": "code",
      "source": [
        "nan_statistics(df_train[['PassengerGroupPosition']])"
      ],
      "metadata": {
        "id": "vm-lqx366w_R",
        "outputId": "04c00920-18c1-4fc8-9468-dd7695da3795",
        "colab": {
          "base_uri": "https://localhost:8080/"
        }
      },
      "execution_count": 150,
      "outputs": [
        {
          "output_type": "stream",
          "name": "stdout",
          "text": [
            "Col -- Nan percentage\n"
          ]
        },
        {
          "output_type": "execute_result",
          "data": {
            "text/plain": [
              "{}"
            ]
          },
          "metadata": {},
          "execution_count": 150
        }
      ]
    },
    {
      "cell_type": "code",
      "source": [
        "from sklearn.base import TransformerMixin, BaseEstimator\n",
        "\n",
        "\n",
        "class GroupSizeAdder(BaseEstimator, TransformerMixin):\n",
        "    def __init__(self):\n",
        "        super().__init__()\n",
        "        self.value_counts = None\n",
        "\n",
        "    def fit(self, X, y=None):\n",
        "        self.value_counts = X['PassengerGroup'].value_counts()\n",
        "        return self\n",
        "\n",
        "    def get_group_size(self, val):\n",
        "        return self.value_counts.loc[val]\n",
        "\n",
        "    def transform(self, X, y=None):\n",
        "        X['GroupSize'] = \\\n",
        "            X['PassengerGroup'].map(self.get_group_size)\n",
        "        X['AloneInGroup'] = (X['GroupSize'] == 1).astype('int')\n",
        "        return X\n",
        "    "
      ],
      "metadata": {
        "id": "BRtbjS_pOfsf"
      },
      "execution_count": 151,
      "outputs": []
    },
    {
      "cell_type": "code",
      "source": [
        "adder = GroupSizeAdder()\n",
        "df_train = adder.fit_transform(df_train)\n",
        "\n",
        "# Fit transform on test, because\n",
        "# contains group numbers, not present in df_train\n",
        "df_test = adder.fit_transform(df_test)"
      ],
      "metadata": {
        "id": "9Nl0foY7PIiQ"
      },
      "execution_count": 152,
      "outputs": []
    },
    {
      "cell_type": "markdown",
      "source": [
        "## Total spend"
      ],
      "metadata": {
        "id": "QXSNQ_aDmF2R"
      }
    },
    {
      "cell_type": "code",
      "source": [
        "from sklearn.base import BaseEstimator, TransformerMixin\n",
        "\n",
        "\n",
        "class TotalSpender(BaseEstimator, TransformerMixin):\n",
        "    def __init__(self):\n",
        "        super().__init__()\n",
        "\n",
        "    def fit(self, X, y=None):\n",
        "        return self\n",
        "    \n",
        "    def transform(self, X, y=None):\n",
        "        X_temp = X \\\n",
        "            .loc[:, ['Spa', 'FoodCourt', 'VRDeck', 'RoomService', 'ShoppingMall']] \\\n",
        "            .fillna(X.median())\n",
        "\n",
        "        X['TotalSpend'] = \\\n",
        "            X_temp['Spa'] \\\n",
        "            + X_temp['FoodCourt'] \\\n",
        "            + X_temp['VRDeck'] \\\n",
        "            + X_temp['RoomService'] \\\n",
        "            + X_temp['ShoppingMall']\n",
        "        X['ZeroSpend'] = (X['TotalSpend'] <= 0).astype('int')\n",
        "        return X"
      ],
      "metadata": {
        "id": "M8y64qD9mJ6y"
      },
      "execution_count": 153,
      "outputs": []
    },
    {
      "cell_type": "code",
      "source": [
        "total_spend_adder = TotalSpender()\n",
        "\n",
        "df_train = total_spend_adder.fit_transform(df_train)\n",
        "df_test = total_spend_adder.transform(df_test)"
      ],
      "metadata": {
        "id": "VKqhcYIFmm2_",
        "outputId": "2c8baa1a-da62-4632-a774-0a54bcd73b5b",
        "colab": {
          "base_uri": "https://localhost:8080/"
        }
      },
      "execution_count": 154,
      "outputs": [
        {
          "output_type": "stream",
          "name": "stderr",
          "text": [
            "/usr/local/lib/python3.7/dist-packages/ipykernel_launcher.py:14: FutureWarning: Dropping of nuisance columns in DataFrame reductions (with 'numeric_only=None') is deprecated; in a future version this will raise TypeError.  Select only valid columns before calling the reduction.\n",
            "  \n",
            "/usr/local/lib/python3.7/dist-packages/ipykernel_launcher.py:14: FutureWarning: Dropping of nuisance columns in DataFrame reductions (with 'numeric_only=None') is deprecated; in a future version this will raise TypeError.  Select only valid columns before calling the reduction.\n",
            "  \n"
          ]
        }
      ]
    },
    {
      "cell_type": "code",
      "source": [
        "nan_statistics(df_train[['TotalSpend']])"
      ],
      "metadata": {
        "id": "oaypWjf068kg",
        "outputId": "a89f8aab-7e26-4a3f-c68a-61cfe32982e6",
        "colab": {
          "base_uri": "https://localhost:8080/"
        }
      },
      "execution_count": 155,
      "outputs": [
        {
          "output_type": "stream",
          "name": "stdout",
          "text": [
            "Col -- Nan percentage\n"
          ]
        },
        {
          "output_type": "execute_result",
          "data": {
            "text/plain": [
              "{}"
            ]
          },
          "metadata": {},
          "execution_count": 155
        }
      ]
    },
    {
      "cell_type": "markdown",
      "source": [
        "## Total spend categorized"
      ],
      "metadata": {
        "id": "VwuvYBUpnJlJ"
      }
    },
    {
      "cell_type": "code",
      "source": [
        "def categorize_total_spend(dfs_):\n",
        "    for df_ in dfs_:\n",
        "        df_['SpendCategory'] = ''\n",
        "        df_.loc[df_['TotalSpend'].between(-1, 1, 'left'), 'SpendCategory'] = \\\n",
        "            'ZeroSpend'\n",
        "        df_.loc[df_['TotalSpend'].between(1, 800, 'both'), 'SpendCategory'] = \\\n",
        "            'Under800'\n",
        "        df_.loc[df_['TotalSpend'].between(800, 1200, 'right'), 'SpendCategory'] = \\\n",
        "            'Median1200'\n",
        "        df_.loc[df_['TotalSpend'].between(1200, 2700, 'right'), 'SpendCategory'] = \\\n",
        "            'Upper2700'\n",
        "        df_.loc[df_['TotalSpend'].between(2700, 100000, 'right'), 'SpendCategory'] = \\\n",
        "            'BigSpender'\n",
        "\n",
        "        df_['SpendCategory'] = \\\n",
        "            df_['SpendCategory'].astype('category')\n",
        "\n",
        "categorize_total_spend([df_train, df_test])"
      ],
      "metadata": {
        "id": "ct5is2W_nM1z"
      },
      "execution_count": 156,
      "outputs": []
    },
    {
      "cell_type": "code",
      "source": [
        "df_train.SpendCategory.value_counts(dropna=False)"
      ],
      "metadata": {
        "id": "ocX54OIn77fl",
        "outputId": "13852e3a-7f64-4a64-cf10-bbe376b0ecff",
        "colab": {
          "base_uri": "https://localhost:8080/"
        }
      },
      "execution_count": 157,
      "outputs": [
        {
          "output_type": "execute_result",
          "data": {
            "text/plain": [
              "ZeroSpend     3653\n",
              "Under800      1274\n",
              "Upper2700     1274\n",
              "Median1200    1261\n",
              "BigSpender    1231\n",
              "Name: SpendCategory, dtype: int64"
            ]
          },
          "metadata": {},
          "execution_count": 157
        }
      ]
    },
    {
      "cell_type": "markdown",
      "source": [
        "## Categorized Age"
      ],
      "metadata": {
        "id": "9u5HyuydoNyg"
      }
    },
    {
      "cell_type": "code",
      "source": [
        "def categorize_age(dfs_):\n",
        "    # -1, 5 - is a specific range,\n",
        "    # 70% probability of being transported\n",
        "    # for the kids in this range\n",
        "    bins = [-1, 5, 18, 30, 50, 100]\n",
        "    labels = [i for i in range(len(bins) - 1)]\n",
        "    for df in dfs_:\n",
        "        df['AgeGroup'] = pd.cut(\n",
        "            df['Age'].fillna(df['Age'].median()),\n",
        "            bins=bins,\n",
        "            labels=labels,\n",
        "            duplicates='drop'\n",
        "        )\n",
        "        # df.loc[df['Age'].between(0, 10, 'both'), 'AgeGroup'] = 'Kids'\n",
        "        # df.loc[df['Age'].between(10, 18, 'right'), 'AgeGroup'] = 'Teens'\n",
        "        # df.loc[df['Age'].between(18, 35, 'right'), 'AgeGroup'] = 'Middle'\n",
        "        # df.loc[df['Age'].between(35, 50, 'right'), 'AgeGroup'] = 'Senior'\n",
        "        # df.loc[df['Age'].between(50, 100, 'right'), 'AgeGroup'] = 'Old'\n",
        "\n",
        "categorize_age(\n",
        "    [df_train, df_test]\n",
        ")"
      ],
      "metadata": {
        "id": "H8lS6fProP5p"
      },
      "execution_count": 158,
      "outputs": []
    },
    {
      "cell_type": "code",
      "source": [
        "assert 'AgeGroup' in df_train.columns and 'AgeGroup' in df_test.columns\n",
        "\n",
        "df_train.AgeGroup.value_counts(normalize=True)"
      ],
      "metadata": {
        "colab": {
          "base_uri": "https://localhost:8080/"
        },
        "id": "SsIqzt-0pJjn",
        "outputId": "9ed35ade-a808-4f5a-b6e2-ef7d4836a00f"
      },
      "execution_count": 159,
      "outputs": [
        {
          "output_type": "execute_result",
          "data": {
            "text/plain": [
              "2    0.393075\n",
              "3    0.307604\n",
              "1    0.157138\n",
              "4    0.084781\n",
              "0    0.057403\n",
              "Name: AgeGroup, dtype: float64"
            ]
          },
          "metadata": {},
          "execution_count": 159
        }
      ]
    },
    {
      "cell_type": "code",
      "source": [
        "from sklearn_utils import nan_statistics\n",
        "\n",
        "nan_statistics(df_train[['AgeGroup']])"
      ],
      "metadata": {
        "colab": {
          "base_uri": "https://localhost:8080/"
        },
        "id": "wfAdwli6pgA0",
        "outputId": "99e71a61-b7a8-40c4-f57f-3b7082015d5d"
      },
      "execution_count": 160,
      "outputs": [
        {
          "output_type": "stream",
          "name": "stdout",
          "text": [
            "Col -- Nan percentage\n"
          ]
        },
        {
          "output_type": "execute_result",
          "data": {
            "text/plain": [
              "{}"
            ]
          },
          "metadata": {},
          "execution_count": 160
        }
      ]
    },
    {
      "cell_type": "markdown",
      "source": [
        "## Total spend per group"
      ],
      "metadata": {
        "id": "Ycrerii7q-Wj"
      }
    },
    {
      "cell_type": "code",
      "source": [
        "from sklearn.base import BaseEstimator, TransformerMixin\n",
        "\n",
        "\n",
        "class PerGroupSpender(BaseEstimator, TransformerMixin):\n",
        "    def __init__(self):\n",
        "        super().__init__()\n",
        "        self.total_spend_per_group_data = {}\n",
        "\n",
        "    def fit(self, X, y=None):\n",
        "        # self.total_spend_per_group_data = \\\n",
        "        #     X \\\n",
        "        #     .groupby('PassengerGroup') \\\n",
        "        #     .aggregate('sum') \\\n",
        "        #     .loc[:, ['TotalSpend']]\n",
        "        unique_groups = X['PassengerGroup'].unique()\n",
        "\n",
        "        for unique_group in unique_groups:\n",
        "            group_subset = X.loc[\n",
        "                X['PassengerGroup'] == unique_group,\n",
        "                ['TotalSpend']\n",
        "            ]\n",
        "            total_spend_per_group = \\\n",
        "                group_subset.fillna(group_subset.median()).sum() \\\n",
        "                / len(group_subset)\n",
        "\n",
        "            self.total_spend_per_group_data[unique_group] = \\\n",
        "                total_spend_per_group\n",
        "        return self\n",
        "\n",
        "    def transform(self, X, y=None):\n",
        "        X['TotalSpendPerGroup'] = \\\n",
        "            X['PassengerGroup'].map(\n",
        "                lambda val: self.total_spend_per_group_data[val][0])\n",
        "        return X\n",
        "\n",
        "\n",
        "pep8(_ih)"
      ],
      "metadata": {
        "colab": {
          "base_uri": "https://localhost:8080/"
        },
        "id": "O4nUgQ5NrNfY",
        "outputId": "8e8e76ae-7fe7-459a-dc32-ad93942aad95"
      },
      "execution_count": 161,
      "outputs": [
        {
          "output_type": "stream",
          "name": "stdout",
          "text": [
            "\n"
          ]
        }
      ]
    },
    {
      "cell_type": "code",
      "source": [
        "per_group_spender = PerGroupSpender()\n",
        "df_train = per_group_spender.fit_transform(df_train)"
      ],
      "metadata": {
        "id": "cjFa1HFLstub"
      },
      "execution_count": 162,
      "outputs": []
    },
    {
      "cell_type": "code",
      "source": [
        "df_train['TotalSpendPerGroup'].hist(bins=25)"
      ],
      "metadata": {
        "colab": {
          "base_uri": "https://localhost:8080/",
          "height": 282
        },
        "id": "MIehWJCytLUz",
        "outputId": "18df9578-7a0f-489b-c092-808dc61fd1db"
      },
      "execution_count": 163,
      "outputs": [
        {
          "output_type": "execute_result",
          "data": {
            "text/plain": [
              "<matplotlib.axes._subplots.AxesSubplot at 0x7fba20f4da10>"
            ]
          },
          "metadata": {},
          "execution_count": 163
        },
        {
          "output_type": "display_data",
          "data": {
            "text/plain": [
              "<Figure size 432x288 with 1 Axes>"
            ],
            "image/png": "[encoded data removed]"
          },
          "metadata": {
            "needs_background": "light"
          }
        }
      ]
    },
    {
      "cell_type": "code",
      "source": [
        "# Yes, fit_transform on the test data, because\n",
        "# test set can contain other groups\n",
        "df_test = per_group_spender.fit_transform(df_test)"
      ],
      "metadata": {
        "id": "KYGRxRrVtIun"
      },
      "execution_count": 164,
      "outputs": []
    },
    {
      "cell_type": "markdown",
      "source": [
        "## Is from spendless group?"
      ],
      "metadata": {
        "id": "1qyY-uisuzCF"
      }
    },
    {
      "cell_type": "code",
      "source": [
        "feature = 'IsFromSpendlessGroup'\n",
        "df_train[feature] = (df_train['TotalSpendPerGroup'] == 0).astype('int')\n",
        "df_test[feature] = (df_test['TotalSpendPerGroup'] == 0).astype('int')"
      ],
      "metadata": {
        "id": "pazEsbHqu3fU"
      },
      "execution_count": 165,
      "outputs": []
    },
    {
      "cell_type": "markdown",
      "source": [
        "## Feature cross - VIP + CryoSleep (Not worth it, only ~20 people out of 8000 are VIP and cryo sleep)"
      ],
      "metadata": {
        "id": "7w81BdqHCuhO"
      }
    },
    {
      "cell_type": "code",
      "source": [
        "# def feature_cross(df_):\n",
        "#     df_['VIPxCryoSleep'] = \\\n",
        "#         ((df_['VIP']==1) & (df_['CryoSleep']==1)).astype(int)\n",
        "#     return df_\n",
        "\n",
        "# df_train = feature_cross(df_train)\n",
        "# df_test = feature_cross(df_test)\n",
        "\n",
        "# df_train.VIPxCryoSleep.value_counts(), \\\n",
        "#     df_test.VIPxCryoSleep.value_counts()"
      ],
      "metadata": {
        "id": "51fAiqJZCymT"
      },
      "execution_count": 166,
      "outputs": []
    },
    {
      "cell_type": "markdown",
      "source": [
        "## Categorized group size"
      ],
      "metadata": {
        "id": "3VoDOQrQFgmo"
      }
    },
    {
      "cell_type": "code",
      "source": [
        "def categorize(dfs_):\n",
        "    bins = [0, 3, 6, 10]\n",
        "    labels = [i for i in range(len(bins) - 1)]\n",
        "    for df in dfs_:\n",
        "        df['GroupSizeCat'] = \\\n",
        "            pd.cut(\n",
        "                df['GroupSize'],\n",
        "                bins=bins,\n",
        "                labels=labels,\n",
        "                duplicates='drop')\n",
        "categorize([df_train, df_test])"
      ],
      "metadata": {
        "id": "5TJIlmIzFigD"
      },
      "execution_count": 167,
      "outputs": []
    },
    {
      "cell_type": "markdown",
      "source": [
        "# Clean outliers"
      ],
      "metadata": {
        "id": "Uqant71Jqad9"
      }
    },
    {
      "cell_type": "code",
      "source": [
        "from sklearn_transformers import OutlierCleaner\n",
        "\n",
        "columns_to_clean = [\n",
        "        'VRDeck',\n",
        "        'Spa',\n",
        "        'RoomService',\n",
        "        'FoodCourt',\n",
        "        'ShoppingMall',\n",
        "        'TotalSpend',\n",
        "        'TotalSpendPerGroup',\n",
        "        'Age'\n",
        "]\n",
        "\n",
        "cleaner = OutlierCleaner(\n",
        "    columns_to_clean,\n",
        "    lower_quantile_=0.05,\n",
        "    upper_quantile_=0.95\n",
        ")"
      ],
      "metadata": {
        "id": "NNd8aE7Yto96"
      },
      "execution_count": 168,
      "outputs": []
    },
    {
      "cell_type": "code",
      "source": [
        "df_result = cleaner.fit_transform(df_train)\n",
        "\n",
        "import matplotlib.pyplot as plt\n",
        "for column in columns_to_clean:\n",
        "    fig, ax = plt.subplots(2, 1)\n",
        "    df_train.boxplot([column], ax=ax[0])\n",
        "    df_result.boxplot([column], ax=ax[1])"
      ],
      "metadata": {
        "colab": {
          "base_uri": "https://localhost:8080/",
          "height": 1000
        },
        "id": "HggHr03srpgZ",
        "outputId": "79ea47d7-9465-4c05-8ce5-e437991173f1"
      },
      "execution_count": 169,
      "outputs": [
        {
          "output_type": "display_data",
          "data": {
            "text/plain": [
              "<Figure size 432x288 with 2 Axes>"
            ],
            "image/png": "[encoded data removed]"
          },
          "metadata": {
            "needs_background": "light"
          }
        },
        {
          "output_type": "display_data",
          "data": {
            "text/plain": [
              "<Figure size 432x288 with 2 Axes>"
            ],
            "image/png": "[encoded data removed]"
          },
          "metadata": {
            "needs_background": "light"
          }
        },
        {
          "output_type": "display_data",
          "data": {
            "text/plain": [
              "<Figure size 432x288 with 2 Axes>"
            ],
            "image/png": "[encoded data removed]"
          },
          "metadata": {
            "needs_background": "light"
          }
        },
        {
          "output_type": "display_data",
          "data": {
            "text/plain": [
              "<Figure size 432x288 with 2 Axes>"
            ],
            "image/png": "[encoded data removed]"
          },
          "metadata": {
            "needs_background": "light"
          }
        },
        {
          "output_type": "display_data",
          "data": {
            "text/plain": [
              "<Figure size 432x288 with 2 Axes>"
            ],
            "image/png": "[encoded data removed]"
          },
          "metadata": {
            "needs_background": "light"
          }
        },
        {
          "output_type": "display_data",
          "data": {
            "text/plain": [
              "<Figure size 432x288 with 2 Axes>"
            ],
            "image/png": "[encoded data removed]"
          },
          "metadata": {
            "needs_background": "light"
          }
        },
        {
          "output_type": "display_data",
          "data": {
            "text/plain": [
              "<Figure size 432x288 with 2 Axes>"
            ],
            "image/png": "[encoded data removed]"
          },
          "metadata": {
            "needs_background": "light"
          }
        },
        {
          "output_type": "display_data",
          "data": {
            "text/plain": [
              "<Figure size 432x288 with 2 Axes>"
            ],
            "image/png": "[encoded data removed]"
          },
          "metadata": {
            "needs_background": "light"
          }
        }
      ]
    },
    {
      "cell_type": "code",
      "source": [
        "df_train = cleaner.fit_transform(df_train)\n",
        "df_test = cleaner.transform(df_test)"
      ],
      "metadata": {
        "id": "1QvQx86Etyy0"
      },
      "execution_count": 170,
      "outputs": []
    },
    {
      "cell_type": "markdown",
      "source": [
        "# Reduce number precision"
      ],
      "metadata": {
        "id": "_SQMqOX3IEa5"
      }
    },
    {
      "cell_type": "code",
      "source": [
        "def reduce_precision(\n",
        "    df_,\n",
        "    original_dtypes_=['float64'],\n",
        "    transcription_dict_={\n",
        "        'float64': 'float32',\n",
        "        'int64': 'int32'\n",
        "    }\n",
        "):\n",
        "    '''\n",
        "    For every column, that has a dtype in original_dtypes\n",
        "    list --> it changes the original dtype, according to\n",
        "    the transcription_dict_\n",
        "    '''\n",
        "    for numeric_type in original_dtypes_:\n",
        "        mask = np.isin(df_.dtypes, [numeric_type])\n",
        "        df_.loc[:, mask] = \\\n",
        "            df_.loc[:, mask].astype(transcription_dict_[numeric_type])\n",
        "    return df_"
      ],
      "metadata": {
        "id": "Om4WOFjbIGhu"
      },
      "execution_count": 171,
      "outputs": []
    },
    {
      "cell_type": "code",
      "source": [
        "df_train = reduce_precision(df_train)"
      ],
      "metadata": {
        "id": "w7sNrb6qKdMC"
      },
      "execution_count": 172,
      "outputs": []
    },
    {
      "cell_type": "code",
      "source": [
        "df_test = reduce_precision(df_test)"
      ],
      "metadata": {
        "id": "uX1c_63TLnf4"
      },
      "execution_count": 173,
      "outputs": []
    },
    {
      "cell_type": "code",
      "source": [
        "common_columns = set(df_train.columns).intersection(\n",
        "    df_test.columns\n",
        ")\n",
        "\n",
        "assert (df_train.loc[:, common_columns].dtypes == \\\n",
        "        df_test.loc[:, common_columns].dtypes).all()"
      ],
      "metadata": {
        "id": "PnUnnwOkLvaT"
      },
      "execution_count": 174,
      "outputs": []
    },
    {
      "cell_type": "markdown",
      "source": [
        "# Removing NAN / INF columns"
      ],
      "metadata": {
        "id": "aWJjLx1qMccw"
      }
    },
    {
      "cell_type": "markdown",
      "source": [
        "- No columns with high content of NAN / INF values encountered"
      ],
      "metadata": {
        "id": "K6ZUD_mjMfRc"
      }
    },
    {
      "cell_type": "markdown",
      "source": [
        "# Preparing processing pipelines"
      ],
      "metadata": {
        "id": "jpsOvykVcJnd"
      }
    },
    {
      "cell_type": "code",
      "source": [
        "luxury_columns = [\n",
        "    'RoomService',\n",
        "    'FoodCourt',\n",
        "    'ShoppingMall',\n",
        "    'Spa',\n",
        "    'VRDeck',\n",
        "    'TotalSpend',\n",
        "    'TotalSpendPerGroup'\n",
        "]\n",
        "\n",
        "luxury_pipeline = Pipeline(\n",
        "    [\n",
        "        ('impute', SimpleImputer(strategy='median')),\n",
        "        ('standardize', StandardScaler())\n",
        "    ]\n",
        ")"
      ],
      "metadata": {
        "id": "HfHrTrBmOvRf"
      },
      "execution_count": 261,
      "outputs": []
    },
    {
      "cell_type": "code",
      "source": [
        "from sklearn.preprocessing import OrdinalEncoder\n",
        "\n",
        "\n",
        "spend_category_columns = [\n",
        "    'SpendCategory'\n",
        "]\n",
        "\n",
        "spend_category_pipeline = Pipeline(\n",
        "    [\n",
        "        ('encode', OrdinalEncoder(\n",
        "            categories = [\n",
        "                [\n",
        "                    'ZeroSpend',\n",
        "                    'Under800',\n",
        "                    'Median1200',\n",
        "                    'Upper2700',\n",
        "                    'BigSpender'\n",
        "                ]\n",
        "            ]\n",
        "        )),\n",
        "        ('scale', MinMaxScaler())\n",
        "    ]\n",
        ")"
      ],
      "metadata": {
        "id": "vxWTq4E9z_o3"
      },
      "execution_count": 303,
      "outputs": []
    },
    {
      "cell_type": "code",
      "source": [
        "age_group_columns = [\n",
        "    'AgeGroup'\n",
        "]\n",
        "\n",
        "age_group_pipeline = Pipeline(\n",
        "    [\n",
        "        ('impute', SimpleImputer(strategy='most_frequent')),\n",
        "        ('Scale', MinMaxScaler())\n",
        "        # ('encode', OrdinalEncoder(\n",
        "        #     categories = [\n",
        "        #         [\n",
        "        #             'Kids',\n",
        "        #             'Teens',\n",
        "        #             'Middle',\n",
        "        #             'Senior',\n",
        "        #             'Old'\n",
        "        #         ]\n",
        "        #     ]\n",
        "        # ))\n",
        "    ]\n",
        ")"
      ],
      "metadata": {
        "id": "5yQBD_TR0v9x"
      },
      "execution_count": 304,
      "outputs": []
    },
    {
      "cell_type": "code",
      "source": [
        "is_from_spendless_group_columns = [\n",
        "    'IsFromSpendlessGroup'\n",
        "]\n",
        "\n",
        "is_from_spendless_group_pipeline = Pipeline(\n",
        "    [\n",
        "        ('impute', SimpleImputer(strategy='most_frequent'))\n",
        "    ]\n",
        ")"
      ],
      "metadata": {
        "id": "mDpaBgif2RDs"
      },
      "execution_count": 305,
      "outputs": []
    },
    {
      "cell_type": "code",
      "source": [
        "name_columns = [\n",
        "    'Name'\n",
        "]\n",
        "\n",
        "name_pipeline = Pipeline(\n",
        "    [\n",
        "        ('drop', ColumnDropper(name_columns))\n",
        "    ]\n",
        ")"
      ],
      "metadata": {
        "id": "3WyHfehJPdVo"
      },
      "execution_count": 306,
      "outputs": []
    },
    {
      "cell_type": "code",
      "source": [
        "age_columns = [\n",
        "    'Age'\n",
        "]\n",
        "\n",
        "age_pipeline = Pipeline(\n",
        "    [\n",
        "        ('impute', SimpleImputer(strategy='median')),\n",
        "        ('standardize', StandardScaler())\n",
        "    ]\n",
        ")"
      ],
      "metadata": {
        "id": "_YKiXBvPRkie"
      },
      "execution_count": 307,
      "outputs": []
    },
    {
      "cell_type": "code",
      "source": [
        "home_planet_columns = [\n",
        "    'HomePlanet'\n",
        "]\n",
        "\n",
        "home_planet_pipeline = Pipeline(\n",
        "    [\n",
        "        # ('impute', SimpleImputer(missing_values=np.nan, strategy='constant')),\n",
        "        ('one-hot', OneHotEncoder(handle_unknown='ignore'))\n",
        "    ]\n",
        ")"
      ],
      "metadata": {
        "id": "4MyO2bNvUf-A"
      },
      "execution_count": 308,
      "outputs": []
    },
    {
      "cell_type": "code",
      "source": [
        "destination_columns = [\n",
        "    'Destination'\n",
        "]\n",
        "\n",
        "destination_pipeline = Pipeline(\n",
        "    [\n",
        "        # ('impute', SimpleImputer(strategy='median')),\n",
        "        ('one-hot', OneHotEncoder(handle_unknown='ignore'))\n",
        "    ]\n",
        ")"
      ],
      "metadata": {
        "id": "evfwi4UNU03k"
      },
      "execution_count": 309,
      "outputs": []
    },
    {
      "cell_type": "code",
      "source": [
        "passenger_id_columns = [\n",
        "    'PassengerId'\n",
        "]\n",
        "\n",
        "passenger_id_pipeline = Pipeline(\n",
        "    [\n",
        "        # ('impute', SimpleImputer(strategy='median')),\n",
        "        ('drop', ColumnDropper(passenger_id_columns))\n",
        "    ]\n",
        ")"
      ],
      "metadata": {
        "id": "RASaH86hVZ5e"
      },
      "execution_count": 310,
      "outputs": []
    },
    {
      "cell_type": "code",
      "source": [
        "cabin_columns = [\n",
        "    'Cabin'\n",
        "]\n",
        "\n",
        "cabin_pipeline = Pipeline(\n",
        "    [\n",
        "        ('drop', ColumnDropper(cabin_columns))\n",
        "    ]\n",
        ")"
      ],
      "metadata": {
        "id": "9kXxu5O0VnPz"
      },
      "execution_count": 311,
      "outputs": []
    },
    {
      "cell_type": "code",
      "source": [
        "# Consider here also one-hot encoding, substituting\n",
        "# NAN values as \"Missing\"\n",
        "\n",
        "cryo_sleep_columns = [\n",
        "    'CryoSleep'\n",
        "]\n",
        "\n",
        "cryo_sleep_pipeline = Pipeline(\n",
        "    [\n",
        "        ('impute', SimpleImputer(strategy='most_frequent'))\n",
        "    ]\n",
        ")"
      ],
      "metadata": {
        "id": "T-NJQVfudKhi"
      },
      "execution_count": 312,
      "outputs": []
    },
    {
      "cell_type": "code",
      "source": [
        "vip_columns = [\n",
        "    'VIP'\n",
        "]\n",
        "\n",
        "vip_pipeline = Pipeline(\n",
        "    [\n",
        "        ('impute', SimpleImputer(strategy='most_frequent'))\n",
        "    ]\n",
        ")"
      ],
      "metadata": {
        "id": "-hihkjpkdYNk"
      },
      "execution_count": 313,
      "outputs": []
    },
    {
      "cell_type": "code",
      "source": [
        "bought_any_luxury_columns = [\n",
        "    'BoughtAnyLuxury'\n",
        "]\n",
        "\n",
        "bought_any_luxury_pipeline = Pipeline(\n",
        "    [\n",
        "        ('impute', SimpleImputer(strategy='most_frequent')),\n",
        "    ]\n",
        ")"
      ],
      "metadata": {
        "id": "R51fvtuP1uLN"
      },
      "execution_count": 314,
      "outputs": []
    },
    {
      "cell_type": "code",
      "source": [
        "from sklearn.preprocessing import OrdinalEncoder\n",
        "\n",
        "\n",
        "deck_columns = [\n",
        "    'Deck'\n",
        "]\n",
        "\n",
        "deck_pipeline = Pipeline(\n",
        "    [\n",
        "        ('impute', SimpleImputer(strategy='most_frequent')),\n",
        "        (\n",
        "            'encode',\n",
        "            OrdinalEncoder(\n",
        "                categories=[\n",
        "                    ['A', 'B', 'C', 'D', 'E', 'F', 'G', 'T']\n",
        "                ]\n",
        "            )\n",
        "        ),\n",
        "        ('scale', MinMaxScaler())\n",
        "    ]\n",
        ")"
      ],
      "metadata": {
        "id": "hIjStR5y1_Bm"
      },
      "execution_count": 315,
      "outputs": []
    },
    {
      "cell_type": "code",
      "source": [
        "deck_num_columns = [\n",
        "    'DeckNum'\n",
        "]\n",
        "\n",
        "deck_num_pipeline = Pipeline(\n",
        "    [\n",
        "        ('impute', SimpleImputer(strategy='median')),\n",
        "        ('scale', StandardScaler())\n",
        "    ]\n",
        ")"
      ],
      "metadata": {
        "id": "gNgJsZ_g2s6X"
      },
      "execution_count": 316,
      "outputs": []
    },
    {
      "cell_type": "code",
      "source": [
        "deck_size_columns = [\n",
        "    'DeckSide'\n",
        "]\n",
        "\n",
        "deck_side_pipeline = Pipeline(\n",
        "    [\n",
        "        ('impute', SimpleImputer(strategy='most_frequent')),\n",
        "        ('encode', OneHotEncoder(handle_unknown='ignore'))\n",
        "    ]\n",
        ")"
      ],
      "metadata": {
        "id": "S3NQdPGw24x8"
      },
      "execution_count": 317,
      "outputs": []
    },
    {
      "cell_type": "code",
      "source": [
        "alone_columns = ['AloneInGroup']\n",
        "alone_pipeline = Pipeline(\n",
        "    [('impute', SimpleImputer(strategy='most_frequent'))]\n",
        ")"
      ],
      "metadata": {
        "id": "nftDmq3LRTvJ"
      },
      "execution_count": 318,
      "outputs": []
    },
    {
      "cell_type": "code",
      "source": [
        "group_position_columns = ['PassengerGroupPosition']\n",
        "group_position_pipeline = Pipeline(\n",
        "    [\n",
        "        ('impute', SimpleImputer(strategy='most_frequent')),\n",
        "        ('scale', StandardScaler())\n",
        "    ]\n",
        ")"
      ],
      "metadata": {
        "id": "qYQ_7BNwRrHI"
      },
      "execution_count": 319,
      "outputs": []
    },
    {
      "cell_type": "code",
      "source": [
        "group_size_columns = ['GroupSize']\n",
        "group_size_pipeline = Pipeline(\n",
        "    [\n",
        "        ('impute', SimpleImputer(strategy='median')),\n",
        "        ('scale', StandardScaler())\n",
        "    ]\n",
        ")"
      ],
      "metadata": {
        "id": "aOPyE9YVSAHO"
      },
      "execution_count": 320,
      "outputs": []
    },
    {
      "cell_type": "code",
      "source": [
        "passenger_group_columns = ['PassengerGroup']\n",
        "passenger_group_pipeline = Pipeline(\n",
        "    [\n",
        "        ('impute', SimpleImputer(strategy='median')),\n",
        "        ('scale', StandardScaler())\n",
        "    ]\n",
        ")"
      ],
      "metadata": {
        "id": "yUVOunCQSPYt"
      },
      "execution_count": 321,
      "outputs": []
    },
    {
      "cell_type": "code",
      "source": [
        "gender_columns = ['gender']\n",
        "gender_pipeline = Pipeline(\n",
        "    [\n",
        "        ('impute', SimpleImputer(strategy='most_frequent'))\n",
        "    ]\n",
        ")"
      ],
      "metadata": {
        "id": "ejWa2DNgQ_TC"
      },
      "execution_count": 322,
      "outputs": []
    },
    {
      "cell_type": "code",
      "source": [
        "group_size_cat_columns = [\n",
        "    'GroupSizeCat'\n",
        "]\n",
        "\n",
        "group_size_cat_pipeline = Pipeline(\n",
        "    [\n",
        "        ('impute', SimpleImputer(strategy='most_frequent')),\n",
        "        ('scale', MinMaxScaler())\n",
        "        # ('encode', )  # already encoded\n",
        "    ]\n",
        ")"
      ],
      "metadata": {
        "id": "LMG6hEdW_iB0"
      },
      "execution_count": 323,
      "outputs": []
    },
    {
      "cell_type": "code",
      "source": [
        "zero_spend_columns = [\n",
        "    'ZeroSpend'\n",
        "]\n",
        "\n",
        "zero_spend_pipeline = Pipeline(\n",
        "    [\n",
        "        ('impute', SimpleImputer(strategy='most_frequent'))\n",
        "    ]\n",
        ")"
      ],
      "metadata": {
        "id": "WFZuXwZWBLPX"
      },
      "execution_count": 324,
      "outputs": []
    },
    {
      "cell_type": "code",
      "source": [
        "# all_columns = set()\n",
        "all_columns = set(\n",
        "    [\n",
        "        *luxury_columns,\n",
        "        *name_columns,\n",
        "        *age_columns,\n",
        "        *home_planet_columns,\n",
        "        *destination_columns,\n",
        "        *passenger_id_columns,\n",
        "        *cabin_columns,\n",
        "        *vip_columns,\n",
        "        *cryo_sleep_columns,\n",
        "        *bought_any_luxury_columns,\n",
        "        *deck_columns,\n",
        "        *deck_num_columns,\n",
        "        *deck_size_columns,\n",
        "     \n",
        "        *alone_columns,\n",
        "        *group_position_columns,\n",
        "        *group_size_columns,\n",
        "        *passenger_group_columns,\n",
        "        *gender_columns,\n",
        "     \n",
        "        *spend_category_columns,\n",
        "        *age_group_columns,\n",
        "        *is_from_spendless_group_columns,\n",
        "     \n",
        "        *group_size_cat_columns,\n",
        "        *zero_spend_columns\n",
        "    ]\n",
        ")\n",
        "\n",
        "# print(df_train.columns)\n",
        "assert (set(df_train.columns) - all_columns) == {'Transported'}, \\\n",
        "    print(set(df_train.columns) - all_columns)"
      ],
      "metadata": {
        "id": "R7YIk7Rs1shO"
      },
      "execution_count": 325,
      "outputs": []
    },
    {
      "cell_type": "code",
      "source": [
        "from sklearn_transformers import ColumnDropper\n",
        "\n",
        "\n",
        "preprocessor = ColumnTransformer(\n",
        "    [\n",
        "        ('luxury', luxury_pipeline, luxury_columns),\n",
        "        ('drop', name_pipeline, name_columns),\n",
        "        ('age', age_pipeline, age_columns),\n",
        "        ('home_planet', home_planet_pipeline, home_planet_columns),\n",
        "        ('destination', destination_pipeline, destination_columns),\n",
        "        ('passenger_id', passenger_id_pipeline, passenger_id_columns),\n",
        "        ('name', name_pipeline, name_columns),\n",
        "        ('vip', vip_pipeline, vip_columns),\n",
        "        ('cryo_sleep', cryo_sleep_pipeline, cryo_sleep_columns),\n",
        "        ('cabin', cabin_pipeline, cabin_columns),\n",
        "        \n",
        "        ('bought_any_luxury', bought_any_luxury_pipeline, bought_any_luxury_columns),\n",
        "        ('deck', deck_pipeline, deck_columns),\n",
        "        ('deck_num', deck_num_pipeline, deck_num_columns),\n",
        "        ('deck_side', deck_side_pipeline, deck_size_columns),\n",
        "        \n",
        "        ('alone_in_group', alone_pipeline, alone_columns),\n",
        "        ('passenger_group_position', group_position_pipeline, group_position_columns),\n",
        "        ('passenger_group', passenger_group_pipeline, passenger_group_columns),\n",
        "        ('gender', gender_pipeline, gender_columns),\n",
        "     \n",
        "        ('group_size', group_size_pipeline, group_size_columns),\n",
        "        ('group_size_cat', group_size_cat_pipeline, group_size_cat_columns),\n",
        "        ('zero_spend', zero_spend_pipeline, zero_spend_columns),\n",
        "        ('spend_category', spend_category_pipeline, spend_category_columns),\n",
        "        ('age_group', age_group_pipeline, age_group_columns),\n",
        "        ('is_from_spendless_group', is_from_spendless_group_pipeline,\n",
        "            is_from_spendless_group_columns),\n",
        "\n",
        "        ('transported', 'passthrough', ['Transported'])\n",
        "    ],\n",
        "    remainder='drop'\n",
        ")"
      ],
      "metadata": {
        "id": "RoJKjl1VWIQ_"
      },
      "execution_count": 326,
      "outputs": []
    },
    {
      "cell_type": "markdown",
      "source": [
        "# Splitting the training data"
      ],
      "metadata": {
        "id": "MdFCdyl-S5T3"
      }
    },
    {
      "cell_type": "markdown",
      "source": [
        "## Split the data"
      ],
      "metadata": {
        "id": "vyQ3Lc6OTjo0"
      }
    },
    {
      "cell_type": "code",
      "source": [
        "from sklearn.model_selection import train_test_split\n",
        "\n",
        "TRAIN_VAL_PERCENTAGE = 0.8\n",
        "RANDOM_STATE = 42\n",
        "\n",
        "df_trainval, df_test_sample = train_test_split(\n",
        "    df_train,\n",
        "    train_size=TRAIN_VAL_PERCENTAGE,\n",
        "    random_state=RANDOM_STATE,\n",
        "    stratify=df_train['Transported']\n",
        ")\n",
        "\n",
        "df_trainval.shape, df_test_sample.shape"
      ],
      "metadata": {
        "colab": {
          "base_uri": "https://localhost:8080/"
        },
        "id": "i0jMT3w4S8me",
        "outputId": "c7c77a6e-ccd4-4f92-daa9-0564c7396f41"
      },
      "execution_count": 327,
      "outputs": [
        {
          "output_type": "execute_result",
          "data": {
            "text/plain": [
              "((6954, 30), (1739, 30))"
            ]
          },
          "metadata": {},
          "execution_count": 327
        }
      ]
    },
    {
      "cell_type": "markdown",
      "source": [
        "## Check class balance and feature distribution after splitting"
      ],
      "metadata": {
        "id": "PGC7b7WBTlWP"
      }
    },
    {
      "cell_type": "code",
      "source": [
        "print(df_trainval.Transported.value_counts())\n",
        "print(df_test_sample.Transported.value_counts())"
      ],
      "metadata": {
        "colab": {
          "base_uri": "https://localhost:8080/"
        },
        "id": "OJfL667LTnL8",
        "outputId": "82c78241-e8cf-4326-ea23-27e11438fe8f"
      },
      "execution_count": 215,
      "outputs": [
        {
          "output_type": "stream",
          "name": "stdout",
          "text": [
            "True     3502\n",
            "False    3452\n",
            "Name: Transported, dtype: int64\n",
            "True     876\n",
            "False    863\n",
            "Name: Transported, dtype: int64\n"
          ]
        }
      ]
    },
    {
      "cell_type": "code",
      "source": [
        "from sklearn_utils import visualize_datasets_distributions\n",
        "\n",
        "visualize_datasets_distributions(\n",
        "    dataframes_dict_={\n",
        "        'trainval': df_trainval,\n",
        "        'test_sample': df_test_sample\n",
        "    },\n",
        "    columns_=df_trainval.columns[np.isin(df_trainval.dtypes, ['float32', 'int', ''])]\n",
        ")"
      ],
      "metadata": {
        "colab": {
          "base_uri": "https://localhost:8080/"
        },
        "id": "nmRlxuVqVWXV",
        "outputId": "1fa9ec0a-d6a0-4f33-ac89-51fed866936f"
      },
      "execution_count": null,
      "outputs": [
        {
          "output_type": "stream",
          "name": "stdout",
          "text": [
            "Visualizing datasets distributions\n"
          ]
        },
        {
          "output_type": "display_data",
          "data": {
            "text/plain": [
              "<Figure size 720x432 with 6 Axes>"
            ],
            "image/png": "[encoded data removed]"
          },
          "metadata": {
            "needs_background": "light"
          }
        }
      ]
    },
    {
      "cell_type": "markdown",
      "source": [
        "# Process data"
      ],
      "metadata": {
        "id": "KAjBt9JoWCnO"
      }
    },
    {
      "cell_type": "code",
      "source": [
        "df_trainval_processed = preprocessor.fit_transform(\n",
        "    df_trainval).astype('float64')\n",
        "\n",
        "col_n = -1\n",
        "assert (df_trainval_processed[:, col_n] == df_trainval['Transported']).all()"
      ],
      "metadata": {
        "id": "rpR_Oj5yWESs"
      },
      "execution_count": 328,
      "outputs": []
    },
    {
      "cell_type": "code",
      "source": [
        "pd.DataFrame(df_trainval_processed).head(10)"
      ],
      "metadata": {
        "id": "z96JfqijFKD-",
        "outputId": "3abec4ec-0245-4e4e-c8fc-2103deaab0cd",
        "colab": {
          "base_uri": "https://localhost:8080/",
          "height": 427
        }
      },
      "execution_count": 329,
      "outputs": [
        {
          "output_type": "execute_result",
          "data": {
            "text/plain": [
              "         0         1         2         3         4         5         6   \\\n",
              "0 -0.459516 -0.409755 -0.441999 -0.429520 -0.426892 -0.689617 -0.587588   \n",
              "1 -0.459516 -0.409755 -0.441999 -0.429520 -0.426892 -0.689617 -0.806213   \n",
              "2 -0.459516 -0.409755 -0.441999 -0.429520 -0.426892 -0.689617 -0.806213   \n",
              "3 -0.459516 -0.409755 -0.441999 -0.429520 -0.426892 -0.689617 -0.806213   \n",
              "4 -0.459516 -0.409755 -0.214310 -0.427099  3.432164  2.296368  2.496800   \n",
              "5 -0.459516 -0.095866 -0.441999 -0.243128  0.855939 -0.228647 -0.296300   \n",
              "6 -0.459516 -0.409755 -0.441999 -0.429520 -0.426892 -0.689617 -0.374521   \n",
              "7 -0.459516  0.517447 -0.441999 -0.424679 -0.426892 -0.320955 -0.398410   \n",
              "8 -0.459516 -0.409755 -0.441999 -0.429520 -0.426892 -0.689617 -0.806213   \n",
              "9  1.306756 -0.409755 -0.441999 -0.332693 -0.426892 -0.304902 -0.380652   \n",
              "\n",
              "         7    8    9    10   11   12   13   14   15   16   17   18        19  \\\n",
              "0 -1.826866  1.0  0.0  0.0  0.0  0.0  0.0  1.0  0.0  0.0  0.0  0.0  0.857143   \n",
              "1 -0.857321  1.0  0.0  0.0  0.0  0.0  0.0  1.0  0.0  0.0  1.0  0.0  0.857143   \n",
              "2  0.485127  1.0  0.0  0.0  0.0  0.0  1.0  0.0  0.0  0.0  0.0  0.0  0.857143   \n",
              "3 -0.186097  0.0  1.0  0.0  0.0  1.0  0.0  0.0  0.0  0.0  1.0  0.0  0.428571   \n",
              "4 -1.155642  1.0  0.0  0.0  0.0  0.0  0.0  1.0  0.0  0.0  0.0  1.0  0.857143   \n",
              "5 -0.335258  1.0  0.0  0.0  0.0  0.0  0.0  1.0  0.0  0.0  0.0  1.0  0.714286   \n",
              "6 -1.826866  0.0  0.0  1.0  0.0  0.0  0.0  1.0  0.0  0.0  0.0  0.0  0.714286   \n",
              "7 -0.260678  0.0  0.0  0.0  1.0  1.0  0.0  0.0  0.0  0.0  0.0  1.0  0.571429   \n",
              "8  0.261385  0.0  1.0  0.0  0.0  1.0  0.0  0.0  0.0  0.0  1.0  0.0  0.142857   \n",
              "9  0.037644  1.0  0.0  0.0  0.0  0.0  1.0  0.0  0.0  0.0  0.0  1.0  0.714286   \n",
              "\n",
              "         20   21   22   23        24        25   26        27   28   29    30  \\\n",
              "0  0.071038  0.0  1.0  0.0  2.392570 -0.277637  1.0  3.130413  1.0  1.0  0.00   \n",
              "1 -0.777867  0.0  1.0  1.0 -0.490454 -1.226031  1.0 -0.650221  0.0  1.0  0.00   \n",
              "2  1.758953  0.0  1.0  1.0 -0.490454  1.716911  0.0 -0.650221  0.0  1.0  0.00   \n",
              "3 -0.851082  0.0  1.0  1.0 -0.490454  0.304434  1.0 -0.650221  0.0  1.0  0.00   \n",
              "4  0.443052  1.0  0.0  1.0 -0.490454  0.174835  1.0 -0.650221  0.0  0.0  1.00   \n",
              "5  1.169271  1.0  0.0  1.0 -0.490454  0.419050  1.0 -0.650221  0.0  0.0  0.50   \n",
              "6 -0.874828  0.0  1.0  0.0  1.431562 -1.422677  0.0  0.609990  0.0  1.0  0.00   \n",
              "7 -0.821400  1.0  0.0  1.0 -0.490454 -0.620363  1.0 -0.650221  0.0  0.0  0.25   \n",
              "8 -1.112284  0.0  1.0  0.0  0.470554 -1.408443  1.0 -0.020116  0.0  1.0  0.00   \n",
              "9 -0.097160  0.0  1.0  1.0 -0.490454 -0.656321  1.0 -0.650221  0.0  0.0  0.25   \n",
              "\n",
              "     31   32   33  \n",
              "0  0.00  0.0  1.0  \n",
              "1  0.25  1.0  1.0  \n",
              "2  0.75  1.0  0.0  \n",
              "3  0.50  1.0  1.0  \n",
              "4  0.25  0.0  0.0  \n",
              "5  0.50  0.0  0.0  \n",
              "6  0.00  0.0  1.0  \n",
              "7  0.50  0.0  1.0  \n",
              "8  0.75  1.0  1.0  \n",
              "9  0.50  0.0  0.0  "
            ],
            "text/html": [
              "\n",
              "  <div id=\"df-6d6bed5b-8948-457d-a3c7-75b93604e1bd\">\n",
              "    <div class=\"colab-df-container\">\n",
              "      <div>\n",
              "<style scoped>\n",
              "    .dataframe tbody tr th:only-of-type {\n",
              "        vertical-align: middle;\n",
              "    }\n",
              "\n",
              "    .dataframe tbody tr th {\n",
              "        vertical-align: top;\n",
              "    }\n",
              "\n",
              "    .dataframe thead th {\n",
              "        text-align: right;\n",
              "    }\n",
              "</style>\n",
              "<table border=\"1\" class=\"dataframe\">\n",
              "  <thead>\n",
              "    <tr style=\"text-align: right;\">\n",
              "      <th></th>\n",
              "      <th>0</th>\n",
              "      <th>1</th>\n",
              "      <th>2</th>\n",
              "      <th>3</th>\n",
              "      <th>4</th>\n",
              "      <th>5</th>\n",
              "      <th>6</th>\n",
              "      <th>7</th>\n",
              "      <th>8</th>\n",
              "      <th>9</th>\n",
              "      <th>10</th>\n",
              "      <th>11</th>\n",
              "      <th>12</th>\n",
              "      <th>13</th>\n",
              "      <th>14</th>\n",
              "      <th>15</th>\n",
              "      <th>16</th>\n",
              "      <th>17</th>\n",
              "      <th>18</th>\n",
              "      <th>19</th>\n",
              "      <th>20</th>\n",
              "      <th>21</th>\n",
              "      <th>22</th>\n",
              "      <th>23</th>\n",
              "      <th>24</th>\n",
              "      <th>25</th>\n",
              "      <th>26</th>\n",
              "      <th>27</th>\n",
              "      <th>28</th>\n",
              "      <th>29</th>\n",
              "      <th>30</th>\n",
              "      <th>31</th>\n",
              "      <th>32</th>\n",
              "      <th>33</th>\n",
              "    </tr>\n",
              "  </thead>\n",
              "  <tbody>\n",
              "    <tr>\n",
              "      <th>0</th>\n",
              "      <td>-0.459516</td>\n",
              "      <td>-0.409755</td>\n",
              "      <td>-0.441999</td>\n",
              "      <td>-0.429520</td>\n",
              "      <td>-0.426892</td>\n",
              "      <td>-0.689617</td>\n",
              "      <td>-0.587588</td>\n",
              "      <td>-1.826866</td>\n",
              "      <td>1.0</td>\n",
              "      <td>0.0</td>\n",
              "      <td>0.0</td>\n",
              "      <td>0.0</td>\n",
              "      <td>0.0</td>\n",
              "      <td>0.0</td>\n",
              "      <td>1.0</td>\n",
              "      <td>0.0</td>\n",
              "      <td>0.0</td>\n",
              "      <td>0.0</td>\n",
              "      <td>0.0</td>\n",
              "      <td>0.857143</td>\n",
              "      <td>0.071038</td>\n",
              "      <td>0.0</td>\n",
              "      <td>1.0</td>\n",
              "      <td>0.0</td>\n",
              "      <td>2.392570</td>\n",
              "      <td>-0.277637</td>\n",
              "      <td>1.0</td>\n",
              "      <td>3.130413</td>\n",
              "      <td>1.0</td>\n",
              "      <td>1.0</td>\n",
              "      <td>0.00</td>\n",
              "      <td>0.00</td>\n",
              "      <td>0.0</td>\n",
              "      <td>1.0</td>\n",
              "    </tr>\n",
              "    <tr>\n",
              "      <th>1</th>\n",
              "      <td>-0.459516</td>\n",
              "      <td>-0.409755</td>\n",
              "      <td>-0.441999</td>\n",
              "      <td>-0.429520</td>\n",
              "      <td>-0.426892</td>\n",
              "      <td>-0.689617</td>\n",
              "      <td>-0.806213</td>\n",
              "      <td>-0.857321</td>\n",
              "      <td>1.0</td>\n",
              "      <td>0.0</td>\n",
              "      <td>0.0</td>\n",
              "      <td>0.0</td>\n",
              "      <td>0.0</td>\n",
              "      <td>0.0</td>\n",
              "      <td>1.0</td>\n",
              "      <td>0.0</td>\n",
              "      <td>0.0</td>\n",
              "      <td>1.0</td>\n",
              "      <td>0.0</td>\n",
              "      <td>0.857143</td>\n",
              "      <td>-0.777867</td>\n",
              "      <td>0.0</td>\n",
              "      <td>1.0</td>\n",
              "      <td>1.0</td>\n",
              "      <td>-0.490454</td>\n",
              "      <td>-1.226031</td>\n",
              "      <td>1.0</td>\n",
              "      <td>-0.650221</td>\n",
              "      <td>0.0</td>\n",
              "      <td>1.0</td>\n",
              "      <td>0.00</td>\n",
              "      <td>0.25</td>\n",
              "      <td>1.0</td>\n",
              "      <td>1.0</td>\n",
              "    </tr>\n",
              "    <tr>\n",
              "      <th>2</th>\n",
              "      <td>-0.459516</td>\n",
              "      <td>-0.409755</td>\n",
              "      <td>-0.441999</td>\n",
              "      <td>-0.429520</td>\n",
              "      <td>-0.426892</td>\n",
              "      <td>-0.689617</td>\n",
              "      <td>-0.806213</td>\n",
              "      <td>0.485127</td>\n",
              "      <td>1.0</td>\n",
              "      <td>0.0</td>\n",
              "      <td>0.0</td>\n",
              "      <td>0.0</td>\n",
              "      <td>0.0</td>\n",
              "      <td>1.0</td>\n",
              "      <td>0.0</td>\n",
              "      <td>0.0</td>\n",
              "      <td>0.0</td>\n",
              "      <td>0.0</td>\n",
              "      <td>0.0</td>\n",
              "      <td>0.857143</td>\n",
              "      <td>1.758953</td>\n",
              "      <td>0.0</td>\n",
              "      <td>1.0</td>\n",
              "      <td>1.0</td>\n",
              "      <td>-0.490454</td>\n",
              "      <td>1.716911</td>\n",
              "      <td>0.0</td>\n",
              "      <td>-0.650221</td>\n",
              "      <td>0.0</td>\n",
              "      <td>1.0</td>\n",
              "      <td>0.00</td>\n",
              "      <td>0.75</td>\n",
              "      <td>1.0</td>\n",
              "      <td>0.0</td>\n",
              "    </tr>\n",
              "    <tr>\n",
              "      <th>3</th>\n",
              "      <td>-0.459516</td>\n",
              "      <td>-0.409755</td>\n",
              "      <td>-0.441999</td>\n",
              "      <td>-0.429520</td>\n",
              "      <td>-0.426892</td>\n",
              "      <td>-0.689617</td>\n",
              "      <td>-0.806213</td>\n",
              "      <td>-0.186097</td>\n",
              "      <td>0.0</td>\n",
              "      <td>1.0</td>\n",
              "      <td>0.0</td>\n",
              "      <td>0.0</td>\n",
              "      <td>1.0</td>\n",
              "      <td>0.0</td>\n",
              "      <td>0.0</td>\n",
              "      <td>0.0</td>\n",
              "      <td>0.0</td>\n",
              "      <td>1.0</td>\n",
              "      <td>0.0</td>\n",
              "      <td>0.428571</td>\n",
              "      <td>-0.851082</td>\n",
              "      <td>0.0</td>\n",
              "      <td>1.0</td>\n",
              "      <td>1.0</td>\n",
              "      <td>-0.490454</td>\n",
              "      <td>0.304434</td>\n",
              "      <td>1.0</td>\n",
              "      <td>-0.650221</td>\n",
              "      <td>0.0</td>\n",
              "      <td>1.0</td>\n",
              "      <td>0.00</td>\n",
              "      <td>0.50</td>\n",
              "      <td>1.0</td>\n",
              "      <td>1.0</td>\n",
              "    </tr>\n",
              "    <tr>\n",
              "      <th>4</th>\n",
              "      <td>-0.459516</td>\n",
              "      <td>-0.409755</td>\n",
              "      <td>-0.214310</td>\n",
              "      <td>-0.427099</td>\n",
              "      <td>3.432164</td>\n",
              "      <td>2.296368</td>\n",
              "      <td>2.496800</td>\n",
              "      <td>-1.155642</td>\n",
              "      <td>1.0</td>\n",
              "      <td>0.0</td>\n",
              "      <td>0.0</td>\n",
              "      <td>0.0</td>\n",
              "      <td>0.0</td>\n",
              "      <td>0.0</td>\n",
              "      <td>1.0</td>\n",
              "      <td>0.0</td>\n",
              "      <td>0.0</td>\n",
              "      <td>0.0</td>\n",
              "      <td>1.0</td>\n",
              "      <td>0.857143</td>\n",
              "      <td>0.443052</td>\n",
              "      <td>1.0</td>\n",
              "      <td>0.0</td>\n",
              "      <td>1.0</td>\n",
              "      <td>-0.490454</td>\n",
              "      <td>0.174835</td>\n",
              "      <td>1.0</td>\n",
              "      <td>-0.650221</td>\n",
              "      <td>0.0</td>\n",
              "      <td>0.0</td>\n",
              "      <td>1.00</td>\n",
              "      <td>0.25</td>\n",
              "      <td>0.0</td>\n",
              "      <td>0.0</td>\n",
              "    </tr>\n",
              "    <tr>\n",
              "      <th>5</th>\n",
              "      <td>-0.459516</td>\n",
              "      <td>-0.095866</td>\n",
              "      <td>-0.441999</td>\n",
              "      <td>-0.243128</td>\n",
              "      <td>0.855939</td>\n",
              "      <td>-0.228647</td>\n",
              "      <td>-0.296300</td>\n",
              "      <td>-0.335258</td>\n",
              "      <td>1.0</td>\n",
              "      <td>0.0</td>\n",
              "      <td>0.0</td>\n",
              "      <td>0.0</td>\n",
              "      <td>0.0</td>\n",
              "      <td>0.0</td>\n",
              "      <td>1.0</td>\n",
              "      <td>0.0</td>\n",
              "      <td>0.0</td>\n",
              "      <td>0.0</td>\n",
              "      <td>1.0</td>\n",
              "      <td>0.714286</td>\n",
              "      <td>1.169271</td>\n",
              "      <td>1.0</td>\n",
              "      <td>0.0</td>\n",
              "      <td>1.0</td>\n",
              "      <td>-0.490454</td>\n",
              "      <td>0.419050</td>\n",
              "      <td>1.0</td>\n",
              "      <td>-0.650221</td>\n",
              "      <td>0.0</td>\n",
              "      <td>0.0</td>\n",
              "      <td>0.50</td>\n",
              "      <td>0.50</td>\n",
              "      <td>0.0</td>\n",
              "      <td>0.0</td>\n",
              "    </tr>\n",
              "    <tr>\n",
              "      <th>6</th>\n",
              "      <td>-0.459516</td>\n",
              "      <td>-0.409755</td>\n",
              "      <td>-0.441999</td>\n",
              "      <td>-0.429520</td>\n",
              "      <td>-0.426892</td>\n",
              "      <td>-0.689617</td>\n",
              "      <td>-0.374521</td>\n",
              "      <td>-1.826866</td>\n",
              "      <td>0.0</td>\n",
              "      <td>0.0</td>\n",
              "      <td>1.0</td>\n",
              "      <td>0.0</td>\n",
              "      <td>0.0</td>\n",
              "      <td>0.0</td>\n",
              "      <td>1.0</td>\n",
              "      <td>0.0</td>\n",
              "      <td>0.0</td>\n",
              "      <td>0.0</td>\n",
              "      <td>0.0</td>\n",
              "      <td>0.714286</td>\n",
              "      <td>-0.874828</td>\n",
              "      <td>0.0</td>\n",
              "      <td>1.0</td>\n",
              "      <td>0.0</td>\n",
              "      <td>1.431562</td>\n",
              "      <td>-1.422677</td>\n",
              "      <td>0.0</td>\n",
              "      <td>0.609990</td>\n",
              "      <td>0.0</td>\n",
              "      <td>1.0</td>\n",
              "      <td>0.00</td>\n",
              "      <td>0.00</td>\n",
              "      <td>0.0</td>\n",
              "      <td>1.0</td>\n",
              "    </tr>\n",
              "    <tr>\n",
              "      <th>7</th>\n",
              "      <td>-0.459516</td>\n",
              "      <td>0.517447</td>\n",
              "      <td>-0.441999</td>\n",
              "      <td>-0.424679</td>\n",
              "      <td>-0.426892</td>\n",
              "      <td>-0.320955</td>\n",
              "      <td>-0.398410</td>\n",
              "      <td>-0.260678</td>\n",
              "      <td>0.0</td>\n",
              "      <td>0.0</td>\n",
              "      <td>0.0</td>\n",
              "      <td>1.0</td>\n",
              "      <td>1.0</td>\n",
              "      <td>0.0</td>\n",
              "      <td>0.0</td>\n",
              "      <td>0.0</td>\n",
              "      <td>0.0</td>\n",
              "      <td>0.0</td>\n",
              "      <td>1.0</td>\n",
              "      <td>0.571429</td>\n",
              "      <td>-0.821400</td>\n",
              "      <td>1.0</td>\n",
              "      <td>0.0</td>\n",
              "      <td>1.0</td>\n",
              "      <td>-0.490454</td>\n",
              "      <td>-0.620363</td>\n",
              "      <td>1.0</td>\n",
              "      <td>-0.650221</td>\n",
              "      <td>0.0</td>\n",
              "      <td>0.0</td>\n",
              "      <td>0.25</td>\n",
              "      <td>0.50</td>\n",
              "      <td>0.0</td>\n",
              "      <td>1.0</td>\n",
              "    </tr>\n",
              "    <tr>\n",
              "      <th>8</th>\n",
              "      <td>-0.459516</td>\n",
              "      <td>-0.409755</td>\n",
              "      <td>-0.441999</td>\n",
              "      <td>-0.429520</td>\n",
              "      <td>-0.426892</td>\n",
              "      <td>-0.689617</td>\n",
              "      <td>-0.806213</td>\n",
              "      <td>0.261385</td>\n",
              "      <td>0.0</td>\n",
              "      <td>1.0</td>\n",
              "      <td>0.0</td>\n",
              "      <td>0.0</td>\n",
              "      <td>1.0</td>\n",
              "      <td>0.0</td>\n",
              "      <td>0.0</td>\n",
              "      <td>0.0</td>\n",
              "      <td>0.0</td>\n",
              "      <td>1.0</td>\n",
              "      <td>0.0</td>\n",
              "      <td>0.142857</td>\n",
              "      <td>-1.112284</td>\n",
              "      <td>0.0</td>\n",
              "      <td>1.0</td>\n",
              "      <td>0.0</td>\n",
              "      <td>0.470554</td>\n",
              "      <td>-1.408443</td>\n",
              "      <td>1.0</td>\n",
              "      <td>-0.020116</td>\n",
              "      <td>0.0</td>\n",
              "      <td>1.0</td>\n",
              "      <td>0.00</td>\n",
              "      <td>0.75</td>\n",
              "      <td>1.0</td>\n",
              "      <td>1.0</td>\n",
              "    </tr>\n",
              "    <tr>\n",
              "      <th>9</th>\n",
              "      <td>1.306756</td>\n",
              "      <td>-0.409755</td>\n",
              "      <td>-0.441999</td>\n",
              "      <td>-0.332693</td>\n",
              "      <td>-0.426892</td>\n",
              "      <td>-0.304902</td>\n",
              "      <td>-0.380652</td>\n",
              "      <td>0.037644</td>\n",
              "      <td>1.0</td>\n",
              "      <td>0.0</td>\n",
              "      <td>0.0</td>\n",
              "      <td>0.0</td>\n",
              "      <td>0.0</td>\n",
              "      <td>1.0</td>\n",
              "      <td>0.0</td>\n",
              "      <td>0.0</td>\n",
              "      <td>0.0</td>\n",
              "      <td>0.0</td>\n",
              "      <td>1.0</td>\n",
              "      <td>0.714286</td>\n",
              "      <td>-0.097160</td>\n",
              "      <td>0.0</td>\n",
              "      <td>1.0</td>\n",
              "      <td>1.0</td>\n",
              "      <td>-0.490454</td>\n",
              "      <td>-0.656321</td>\n",
              "      <td>1.0</td>\n",
              "      <td>-0.650221</td>\n",
              "      <td>0.0</td>\n",
              "      <td>0.0</td>\n",
              "      <td>0.25</td>\n",
              "      <td>0.50</td>\n",
              "      <td>0.0</td>\n",
              "      <td>0.0</td>\n",
              "    </tr>\n",
              "  </tbody>\n",
              "</table>\n",
              "</div>\n",
              "      <button class=\"colab-df-convert\" onclick=\"convertToInteractive('df-6d6bed5b-8948-457d-a3c7-75b93604e1bd')\"\n",
              "              title=\"Convert this dataframe to an interactive table.\"\n",
              "              style=\"display:none;\">\n",
              "        \n",
              "  <svg xmlns=\"http://www.w3.org/2000/svg\" height=\"24px\"viewBox=\"0 0 24 24\"\n",
              "       width=\"24px\">\n",
              "    <path d=\"M0 0h24v24H0V0z\" fill=\"none\"/>\n",
              "    <path d=\"M18.56 5.44l.94 2.06.94-2.06 2.06-.94-2.06-.94-.94-2.06-.94 2.06-2.06.94zm-11 1L8.5 8.5l.94-2.06 2.06-.94-2.06-.94L8.5 2.5l-.94 2.06-2.06.94zm10 10l.94 2.06.94-2.06 2.06-.94-2.06-.94-.94-2.06-.94 2.06-2.06.94z\"/><path d=\"M17.41 7.96l-1.37-1.37c-.4-.4-.92-.59-1.43-.59-.52 0-1.04.2-1.43.59L10.3 9.45l-7.72 7.72c-.78.78-.78 2.05 0 2.83L4 21.41c.39.39.9.59 1.41.59.51 0 1.02-.2 1.41-.59l7.78-7.78 2.81-2.81c.8-.78.8-2.07 0-2.86zM5.41 20L4 18.59l7.72-7.72 1.47 1.35L5.41 20z\"/>\n",
              "  </svg>\n",
              "      </button>\n",
              "      \n",
              "  <style>\n",
              "    .colab-df-container {\n",
              "      display:flex;\n",
              "      flex-wrap:wrap;\n",
              "      gap: 12px;\n",
              "    }\n",
              "\n",
              "    .colab-df-convert {\n",
              "      background-color: #E8F0FE;\n",
              "      border: none;\n",
              "      border-radius: 50%;\n",
              "      cursor: pointer;\n",
              "      display: none;\n",
              "      fill: #1967D2;\n",
              "      height: 32px;\n",
              "      padding: 0 0 0 0;\n",
              "      width: 32px;\n",
              "    }\n",
              "\n",
              "    .colab-df-convert:hover {\n",
              "      background-color: #E2EBFA;\n",
              "      box-shadow: 0px 1px 2px rgba(60, 64, 67, 0.3), 0px 1px 3px 1px rgba(60, 64, 67, 0.15);\n",
              "      fill: #174EA6;\n",
              "    }\n",
              "\n",
              "    [theme=dark] .colab-df-convert {\n",
              "      background-color: #3B4455;\n",
              "      fill: #D2E3FC;\n",
              "    }\n",
              "\n",
              "    [theme=dark] .colab-df-convert:hover {\n",
              "      background-color: #434B5C;\n",
              "      box-shadow: 0px 1px 3px 1px rgba(0, 0, 0, 0.15);\n",
              "      filter: drop-shadow(0px 1px 2px rgba(0, 0, 0, 0.3));\n",
              "      fill: #FFFFFF;\n",
              "    }\n",
              "  </style>\n",
              "\n",
              "      <script>\n",
              "        const buttonEl =\n",
              "          document.querySelector('#df-6d6bed5b-8948-457d-a3c7-75b93604e1bd button.colab-df-convert');\n",
              "        buttonEl.style.display =\n",
              "          google.colab.kernel.accessAllowed ? 'block' : 'none';\n",
              "\n",
              "        async function convertToInteractive(key) {\n",
              "          const element = document.querySelector('#df-6d6bed5b-8948-457d-a3c7-75b93604e1bd');\n",
              "          const dataTable =\n",
              "            await google.colab.kernel.invokeFunction('convertToInteractive',\n",
              "                                                     [key], {});\n",
              "          if (!dataTable) return;\n",
              "\n",
              "          const docLinkHtml = 'Like what you see? Visit the ' +\n",
              "            '<a target=\"_blank\" href=https://colab.research.google.com/notebooks/data_table.ipynb>data table notebook</a>'\n",
              "            + ' to learn more about interactive tables.';\n",
              "          element.innerHTML = '';\n",
              "          dataTable['output_type'] = 'display_data';\n",
              "          await google.colab.output.renderOutput(dataTable, element);\n",
              "          const docLink = document.createElement('div');\n",
              "          docLink.innerHTML = docLinkHtml;\n",
              "          element.appendChild(docLink);\n",
              "        }\n",
              "      </script>\n",
              "    </div>\n",
              "  </div>\n",
              "  "
            ]
          },
          "metadata": {},
          "execution_count": 329
        }
      ]
    },
    {
      "cell_type": "code",
      "source": [
        "df_test_sample_processed = preprocessor.transform(\n",
        "    df_test_sample).astype('float64')\n",
        "\n",
        "assert (df_test_sample_processed[:, -1] == df_test_sample['Transported']).all()"
      ],
      "metadata": {
        "id": "jt8EDj0fWKRE"
      },
      "execution_count": 330,
      "outputs": []
    },
    {
      "cell_type": "code",
      "source": [
        "df_test['Transported'] = np.zeros(len(df_test))\n",
        "df_test_processed = preprocessor.transform(df_test).astype('float64')\n",
        "\n",
        "# removing fake \"Transported\" column\n",
        "df_test_processed = df_test_processed[:, :-1]"
      ],
      "metadata": {
        "id": "wSBoAzsRWOWF"
      },
      "execution_count": 331,
      "outputs": []
    },
    {
      "cell_type": "code",
      "source": [
        "assert (df_trainval_processed.dtype == 'float64') \\\n",
        "    & (df_test_sample_processed.dtype == 'float64') \\\n",
        "    & (df_test_processed.dtype == 'float64'), \\\n",
        "    print(\n",
        "        df_trainval_processed.dtype,\n",
        "        df_test_sample_processed.dtype,\n",
        "        df_test_processed.dtype\n",
        "    )"
      ],
      "metadata": {
        "id": "XBwab5igdImz"
      },
      "execution_count": 332,
      "outputs": []
    },
    {
      "cell_type": "code",
      "source": [
        "print(\n",
        "    df_trainval_processed.shape,\n",
        "    df_test_sample_processed.shape,\n",
        "    df_test_processed.shape,\n",
        ")"
      ],
      "metadata": {
        "colab": {
          "base_uri": "https://localhost:8080/"
        },
        "id": "myY1CuAyaD0X",
        "outputId": "f0291e9c-eb8f-466c-b431-58f634f6c099"
      },
      "execution_count": 333,
      "outputs": [
        {
          "output_type": "stream",
          "name": "stdout",
          "text": [
            "(6954, 34) (1739, 34) (4277, 33)\n"
          ]
        }
      ]
    },
    {
      "cell_type": "code",
      "source": [
        "pd.DataFrame(df_trainval_processed).head(30)"
      ],
      "metadata": {
        "id": "vFFkENhhIwoX",
        "outputId": "990e2ec6-8fba-4ad3-80a9-b907dd72c434",
        "colab": {
          "base_uri": "https://localhost:8080/",
          "height": 1000
        }
      },
      "execution_count": 334,
      "outputs": [
        {
          "output_type": "execute_result",
          "data": {
            "text/plain": [
              "          0         1         2         3         4         5         6   \\\n",
              "0  -0.459516 -0.409755 -0.441999 -0.429520 -0.426892 -0.689617 -0.587588   \n",
              "1  -0.459516 -0.409755 -0.441999 -0.429520 -0.426892 -0.689617 -0.806213   \n",
              "2  -0.459516 -0.409755 -0.441999 -0.429520 -0.426892 -0.689617 -0.806213   \n",
              "3  -0.459516 -0.409755 -0.441999 -0.429520 -0.426892 -0.689617 -0.806213   \n",
              "4  -0.459516 -0.409755 -0.214310 -0.427099  3.432164  2.296368  2.496800   \n",
              "5  -0.459516 -0.095866 -0.441999 -0.243128  0.855939 -0.228647 -0.296300   \n",
              "6  -0.459516 -0.409755 -0.441999 -0.429520 -0.426892 -0.689617 -0.374521   \n",
              "7  -0.459516  0.517447 -0.441999 -0.424679 -0.426892 -0.320955 -0.398410   \n",
              "8  -0.459516 -0.409755 -0.441999 -0.429520 -0.426892 -0.689617 -0.806213   \n",
              "9   1.306756 -0.409755 -0.441999 -0.332693 -0.426892 -0.304902 -0.380652   \n",
              "10 -0.459516 -0.409755 -0.441999 -0.429520 -0.426892 -0.689617 -0.806213   \n",
              "11 -0.414729  2.105696 -0.407846 -0.417417 -0.406769  0.329219  0.320795   \n",
              "12 -0.459516 -0.409755 -0.441999  3.269268  2.387789  0.828030  0.872565   \n",
              "13 -0.459516 -0.409755 -0.441999 -0.429520 -0.426892 -0.689617 -0.806213   \n",
              "14 -0.459516 -0.321519  2.612825 -0.429520 -0.411800 -0.189659 -0.250002   \n",
              "15 -0.459516 -0.409755 -0.441999 -0.429520 -0.426892 -0.689617 -0.552162   \n",
              "16 -0.459516  0.069034 -0.441999 -0.429520  3.432164  0.467395  2.851170   \n",
              "17 -0.459516 -0.409755 -0.206721 -0.429520  1.814288 -0.143218 -0.014707   \n",
              "18  2.975057 -0.349003 -0.438204 -0.429520 -0.426892  0.038533 -0.416009   \n",
              "19  1.788212 -0.409755  1.015209 -0.139039 -0.426892  0.059746  0.022712   \n",
              "20 -0.459516 -0.409755 -0.441999 -0.429520 -0.426892 -0.689617 -0.416009   \n",
              "21 -0.459516 -0.409755 -0.441999 -0.429520 -0.426892 -0.689617 -0.806213   \n",
              "22 -0.459516  0.229595 -0.441999 -0.429520  0.498758 -0.225206 -0.389150   \n",
              "23 -0.459516 -0.409755 -0.441999 -0.429520 -0.426892 -0.689617 -0.806213   \n",
              "24 -0.459516  1.107616 -0.438204 -0.429520 -0.426892 -0.087604 -0.140282   \n",
              "25 -0.420327 -0.362021 -0.441999 -0.422258  0.747778 -0.393197 -0.478321   \n",
              "26 -0.459516 -0.409755 -0.441999 -0.429520 -0.426892 -0.689617 -0.806213   \n",
              "27  3.107317 -0.409755  3.078828 -0.427099 -0.401738  1.295306 -0.291861   \n",
              "28 -0.459516 -0.409755 -0.441999 -0.429520 -0.426892 -0.689617 -0.806213   \n",
              "29 -0.459516  3.565931 -0.441999 -0.422258  3.432164  3.012821  2.049169   \n",
              "\n",
              "          7    8    9    10   11   12   13   14   15   16   17   18        19  \\\n",
              "0  -1.826866  1.0  0.0  0.0  0.0  0.0  0.0  1.0  0.0  0.0  0.0  0.0  0.857143   \n",
              "1  -0.857321  1.0  0.0  0.0  0.0  0.0  0.0  1.0  0.0  0.0  1.0  0.0  0.857143   \n",
              "2   0.485127  1.0  0.0  0.0  0.0  0.0  1.0  0.0  0.0  0.0  0.0  0.0  0.857143   \n",
              "3  -0.186097  0.0  1.0  0.0  0.0  1.0  0.0  0.0  0.0  0.0  1.0  0.0  0.428571   \n",
              "4  -1.155642  1.0  0.0  0.0  0.0  0.0  0.0  1.0  0.0  0.0  0.0  1.0  0.857143   \n",
              "5  -0.335258  1.0  0.0  0.0  0.0  0.0  0.0  1.0  0.0  0.0  0.0  1.0  0.714286   \n",
              "6  -1.826866  0.0  0.0  1.0  0.0  0.0  0.0  1.0  0.0  0.0  0.0  0.0  0.714286   \n",
              "7  -0.260678  0.0  0.0  0.0  1.0  1.0  0.0  0.0  0.0  0.0  0.0  1.0  0.571429   \n",
              "8   0.261385  0.0  1.0  0.0  0.0  1.0  0.0  0.0  0.0  0.0  1.0  0.0  0.142857   \n",
              "9   0.037644  1.0  0.0  0.0  0.0  0.0  1.0  0.0  0.0  0.0  0.0  1.0  0.714286   \n",
              "10 -0.484419  0.0  0.0  1.0  0.0  0.0  0.0  1.0  0.0  0.0  0.0  0.0  0.571429   \n",
              "11 -0.708160  1.0  0.0  0.0  0.0  0.0  0.0  1.0  0.0  0.0  0.0  1.0  0.857143   \n",
              "12  0.783448  0.0  1.0  0.0  0.0  1.0  0.0  0.0  0.0  0.0  0.0  1.0  0.285714   \n",
              "13 -1.006482  0.0  1.0  0.0  0.0  1.0  0.0  0.0  0.0  0.0  1.0  0.0  0.142857   \n",
              "14  1.380091  1.0  0.0  0.0  0.0  0.0  0.0  1.0  0.0  0.0  0.0  1.0  0.714286   \n",
              "15 -1.453964  1.0  0.0  0.0  0.0  0.0  0.0  1.0  0.0  0.0  0.0  0.0  0.714286   \n",
              "16  0.858029  0.0  1.0  0.0  0.0  0.0  0.0  1.0  0.0  0.0  0.0  1.0  0.142857   \n",
              "17  0.485127  1.0  0.0  0.0  0.0  0.0  0.0  1.0  0.0  0.0  0.0  1.0  0.714286   \n",
              "18 -0.111517  0.0  0.0  1.0  0.0  0.0  0.0  1.0  0.0  0.0  0.0  1.0  0.714286   \n",
              "19  1.081770  0.0  0.0  1.0  0.0  1.0  0.0  0.0  0.0  0.0  0.0  1.0  0.714286   \n",
              "20 -1.379384  0.0  0.0  1.0  0.0  0.0  0.0  1.0  0.0  0.0  0.0  0.0  0.714286   \n",
              "21 -1.528544  1.0  0.0  0.0  0.0  0.0  1.0  0.0  0.0  0.0  0.0  0.0  0.857143   \n",
              "22 -0.484419  1.0  0.0  0.0  0.0  0.0  0.0  1.0  0.0  0.0  0.0  1.0  0.714286   \n",
              "23  0.112225  0.0  1.0  0.0  0.0  1.0  0.0  0.0  0.0  0.0  1.0  0.0  0.142857   \n",
              "24 -0.335258  1.0  0.0  0.0  0.0  0.0  0.0  1.0  0.0  0.0  0.0  1.0  0.714286   \n",
              "25 -0.558999  1.0  0.0  0.0  0.0  0.0  1.0  0.0  0.0  0.0  0.0  1.0  0.857143   \n",
              "26 -0.931901  1.0  0.0  0.0  0.0  0.0  1.0  0.0  0.0  0.0  1.0  0.0  0.857143   \n",
              "27 -1.006482  0.0  0.0  1.0  0.0  0.0  0.0  1.0  0.0  0.0  0.0  1.0  0.428571   \n",
              "28  0.112225  0.0  0.0  1.0  0.0  0.0  0.0  1.0  0.0  0.0  1.0  0.0  0.714286   \n",
              "29  0.037644  0.0  1.0  0.0  0.0  1.0  0.0  0.0  0.0  0.0  0.0  1.0  0.142857   \n",
              "\n",
              "          20   21   22   23        24        25   26        27   28   29  \\\n",
              "0   0.071038  0.0  1.0  0.0  2.392570 -0.277637  1.0  3.130413  1.0  1.0   \n",
              "1  -0.777867  0.0  1.0  1.0 -0.490454 -1.226031  1.0 -0.650221  0.0  1.0   \n",
              "2   1.758953  0.0  1.0  1.0 -0.490454  1.716911  0.0 -0.650221  0.0  1.0   \n",
              "3  -0.851082  0.0  1.0  1.0 -0.490454  0.304434  1.0 -0.650221  0.0  1.0   \n",
              "4   0.443052  1.0  0.0  1.0 -0.490454  0.174835  1.0 -0.650221  0.0  0.0   \n",
              "5   1.169271  1.0  0.0  1.0 -0.490454  0.419050  1.0 -0.650221  0.0  0.0   \n",
              "6  -0.874828  0.0  1.0  0.0  1.431562 -1.422677  0.0  0.609990  0.0  1.0   \n",
              "7  -0.821400  1.0  0.0  1.0 -0.490454 -0.620363  1.0 -0.650221  0.0  0.0   \n",
              "8  -1.112284  0.0  1.0  0.0  0.470554 -1.408443  1.0 -0.020116  0.0  1.0   \n",
              "9  -0.097160  0.0  1.0  1.0 -0.490454 -0.656321  1.0 -0.650221  0.0  0.0   \n",
              "10 -0.676948  1.0  0.0  1.0 -0.490454 -0.197481  1.0 -0.650221  0.0  1.0   \n",
              "11  1.665950  0.0  1.0  1.0 -0.490454  1.607913  1.0 -0.650221  0.0  0.0   \n",
              "12 -1.039068  1.0  0.0  1.0 -0.490454 -0.957095  0.0 -0.650221  0.0  0.0   \n",
              "13 -1.027195  0.0  1.0  1.0 -0.490454 -1.063471  1.0 -0.650221  0.0  1.0   \n",
              "14  1.861851  1.0  0.0  0.0  0.470554  1.052436  1.0 -0.020116  0.0  0.0   \n",
              "15  1.616480  1.0  0.0  0.0 -0.490454  0.815712  1.0  3.130413  1.0  1.0   \n",
              "16 -1.165711  1.0  0.0  0.0  0.470554 -1.685245  1.0  1.240096  0.5  0.0   \n",
              "17  1.865809  0.0  1.0  0.0  0.470554  1.283541  1.0 -0.020116  0.0  0.0   \n",
              "18 -0.876806  0.0  1.0  0.0  0.470554 -1.423426  1.0  1.240096  0.5  0.0   \n",
              "19 -0.111011  0.0  1.0  1.0 -0.490454 -0.673176  1.0 -0.650221  0.0  0.0   \n",
              "20 -0.876806  0.0  1.0  0.0 -0.490454 -1.423426  1.0  1.240096  0.5  1.0   \n",
              "21 -0.738291  0.0  1.0  1.0 -0.490454 -1.185204  1.0 -0.650221  0.0  1.0   \n",
              "22 -0.643308  0.0  1.0  0.0  1.431562 -1.208052  1.0  1.870201  0.5  0.0   \n",
              "23 -0.975746  1.0  0.0  1.0 -0.490454 -0.564553  0.0 -0.650221  0.0  1.0   \n",
              "24  1.398812  1.0  0.0  1.0 -0.490454  0.630678  1.0 -0.650221  0.0  0.0   \n",
              "25 -0.942107  0.0  1.0  1.0 -0.490454 -1.433914  1.0 -0.650221  0.0  0.0   \n",
              "26  0.753724  1.0  0.0  1.0 -0.490454  0.529921  0.0 -0.650221  0.0  1.0   \n",
              "27 -0.827336  0.0  1.0  0.0  4.314585  0.451262  0.0  3.130413  1.0  0.0   \n",
              "28  0.405455  1.0  0.0  1.0 -0.490454 -0.276139  1.0 -0.650221  0.0  1.0   \n",
              "29 -0.587902  1.0  0.0  0.0  3.353577  1.670465  1.0  1.870201  0.5  0.0   \n",
              "\n",
              "      30    31   32   33  \n",
              "0   0.00  0.00  0.0  1.0  \n",
              "1   0.00  0.25  1.0  1.0  \n",
              "2   0.00  0.75  1.0  0.0  \n",
              "3   0.00  0.50  1.0  1.0  \n",
              "4   1.00  0.25  0.0  0.0  \n",
              "5   0.50  0.50  0.0  0.0  \n",
              "6   0.00  0.00  0.0  1.0  \n",
              "7   0.25  0.50  0.0  1.0  \n",
              "8   0.00  0.75  1.0  1.0  \n",
              "9   0.25  0.50  0.0  0.0  \n",
              "10  0.00  0.50  1.0  0.0  \n",
              "11  0.75  0.50  0.0  1.0  \n",
              "12  0.75  0.75  0.0  0.0  \n",
              "13  0.00  0.25  1.0  1.0  \n",
              "14  0.50  0.75  0.0  1.0  \n",
              "15  0.00  0.25  0.0  1.0  \n",
              "16  0.75  0.75  0.0  0.0  \n",
              "17  0.50  0.75  0.0  0.0  \n",
              "18  0.75  0.50  0.0  0.0  \n",
              "19  0.75  0.75  0.0  1.0  \n",
              "20  0.00  0.25  0.0  1.0  \n",
              "21  0.00  0.25  1.0  1.0  \n",
              "22  0.50  0.50  0.0  1.0  \n",
              "23  0.00  0.50  1.0  1.0  \n",
              "24  0.50  0.50  0.0  0.0  \n",
              "25  0.25  0.50  0.0  0.0  \n",
              "26  0.00  0.25  1.0  1.0  \n",
              "27  1.00  0.25  0.0  0.0  \n",
              "28  0.00  0.50  1.0  1.0  \n",
              "29  1.00  0.50  0.0  0.0  "
            ],
            "text/html": [
              "\n",
              "  <div id=\"df-b4cd587e-b5bc-4378-a212-7521667e15aa\">\n",
              "    <div class=\"colab-df-container\">\n",
              "      <div>\n",
              "<style scoped>\n",
              "    .dataframe tbody tr th:only-of-type {\n",
              "        vertical-align: middle;\n",
              "    }\n",
              "\n",
              "    .dataframe tbody tr th {\n",
              "        vertical-align: top;\n",
              "    }\n",
              "\n",
              "    .dataframe thead th {\n",
              "        text-align: right;\n",
              "    }\n",
              "</style>\n",
              "<table border=\"1\" class=\"dataframe\">\n",
              "  <thead>\n",
              "    <tr style=\"text-align: right;\">\n",
              "      <th></th>\n",
              "      <th>0</th>\n",
              "      <th>1</th>\n",
              "      <th>2</th>\n",
              "      <th>3</th>\n",
              "      <th>4</th>\n",
              "      <th>5</th>\n",
              "      <th>6</th>\n",
              "      <th>7</th>\n",
              "      <th>8</th>\n",
              "      <th>9</th>\n",
              "      <th>10</th>\n",
              "      <th>11</th>\n",
              "      <th>12</th>\n",
              "      <th>13</th>\n",
              "      <th>14</th>\n",
              "      <th>15</th>\n",
              "      <th>16</th>\n",
              "      <th>17</th>\n",
              "      <th>18</th>\n",
              "      <th>19</th>\n",
              "      <th>20</th>\n",
              "      <th>21</th>\n",
              "      <th>22</th>\n",
              "      <th>23</th>\n",
              "      <th>24</th>\n",
              "      <th>25</th>\n",
              "      <th>26</th>\n",
              "      <th>27</th>\n",
              "      <th>28</th>\n",
              "      <th>29</th>\n",
              "      <th>30</th>\n",
              "      <th>31</th>\n",
              "      <th>32</th>\n",
              "      <th>33</th>\n",
              "    </tr>\n",
              "  </thead>\n",
              "  <tbody>\n",
              "    <tr>\n",
              "      <th>0</th>\n",
              "      <td>-0.459516</td>\n",
              "      <td>-0.409755</td>\n",
              "      <td>-0.441999</td>\n",
              "      <td>-0.429520</td>\n",
              "      <td>-0.426892</td>\n",
              "      <td>-0.689617</td>\n",
              "      <td>-0.587588</td>\n",
              "      <td>-1.826866</td>\n",
              "      <td>1.0</td>\n",
              "      <td>0.0</td>\n",
              "      <td>0.0</td>\n",
              "      <td>0.0</td>\n",
              "      <td>0.0</td>\n",
              "      <td>0.0</td>\n",
              "      <td>1.0</td>\n",
              "      <td>0.0</td>\n",
              "      <td>0.0</td>\n",
              "      <td>0.0</td>\n",
              "      <td>0.0</td>\n",
              "      <td>0.857143</td>\n",
              "      <td>0.071038</td>\n",
              "      <td>0.0</td>\n",
              "      <td>1.0</td>\n",
              "      <td>0.0</td>\n",
              "      <td>2.392570</td>\n",
              "      <td>-0.277637</td>\n",
              "      <td>1.0</td>\n",
              "      <td>3.130413</td>\n",
              "      <td>1.0</td>\n",
              "      <td>1.0</td>\n",
              "      <td>0.00</td>\n",
              "      <td>0.00</td>\n",
              "      <td>0.0</td>\n",
              "      <td>1.0</td>\n",
              "    </tr>\n",
              "    <tr>\n",
              "      <th>1</th>\n",
              "      <td>-0.459516</td>\n",
              "      <td>-0.409755</td>\n",
              "      <td>-0.441999</td>\n",
              "      <td>-0.429520</td>\n",
              "      <td>-0.426892</td>\n",
              "      <td>-0.689617</td>\n",
              "      <td>-0.806213</td>\n",
              "      <td>-0.857321</td>\n",
              "      <td>1.0</td>\n",
              "      <td>0.0</td>\n",
              "      <td>0.0</td>\n",
              "      <td>0.0</td>\n",
              "      <td>0.0</td>\n",
              "      <td>0.0</td>\n",
              "      <td>1.0</td>\n",
              "      <td>0.0</td>\n",
              "      <td>0.0</td>\n",
              "      <td>1.0</td>\n",
              "      <td>0.0</td>\n",
              "      <td>0.857143</td>\n",
              "      <td>-0.777867</td>\n",
              "      <td>0.0</td>\n",
              "      <td>1.0</td>\n",
              "      <td>1.0</td>\n",
              "      <td>-0.490454</td>\n",
              "      <td>-1.226031</td>\n",
              "      <td>1.0</td>\n",
              "      <td>-0.650221</td>\n",
              "      <td>0.0</td>\n",
              "      <td>1.0</td>\n",
              "      <td>0.00</td>\n",
              "      <td>0.25</td>\n",
              "      <td>1.0</td>\n",
              "      <td>1.0</td>\n",
              "    </tr>\n",
              "    <tr>\n",
              "      <th>2</th>\n",
              "      <td>-0.459516</td>\n",
              "      <td>-0.409755</td>\n",
              "      <td>-0.441999</td>\n",
              "      <td>-0.429520</td>\n",
              "      <td>-0.426892</td>\n",
              "      <td>-0.689617</td>\n",
              "      <td>-0.806213</td>\n",
              "      <td>0.485127</td>\n",
              "      <td>1.0</td>\n",
              "      <td>0.0</td>\n",
              "      <td>0.0</td>\n",
              "      <td>0.0</td>\n",
              "      <td>0.0</td>\n",
              "      <td>1.0</td>\n",
              "      <td>0.0</td>\n",
              "      <td>0.0</td>\n",
              "      <td>0.0</td>\n",
              "      <td>0.0</td>\n",
              "      <td>0.0</td>\n",
              "      <td>0.857143</td>\n",
              "      <td>1.758953</td>\n",
              "      <td>0.0</td>\n",
              "      <td>1.0</td>\n",
              "      <td>1.0</td>\n",
              "      <td>-0.490454</td>\n",
              "      <td>1.716911</td>\n",
              "      <td>0.0</td>\n",
              "      <td>-0.650221</td>\n",
              "      <td>0.0</td>\n",
              "      <td>1.0</td>\n",
              "      <td>0.00</td>\n",
              "      <td>0.75</td>\n",
              "      <td>1.0</td>\n",
              "      <td>0.0</td>\n",
              "    </tr>\n",
              "    <tr>\n",
              "      <th>3</th>\n",
              "      <td>-0.459516</td>\n",
              "      <td>-0.409755</td>\n",
              "      <td>-0.441999</td>\n",
              "      <td>-0.429520</td>\n",
              "      <td>-0.426892</td>\n",
              "      <td>-0.689617</td>\n",
              "      <td>-0.806213</td>\n",
              "      <td>-0.186097</td>\n",
              "      <td>0.0</td>\n",
              "      <td>1.0</td>\n",
              "      <td>0.0</td>\n",
              "      <td>0.0</td>\n",
              "      <td>1.0</td>\n",
              "      <td>0.0</td>\n",
              "      <td>0.0</td>\n",
              "      <td>0.0</td>\n",
              "      <td>0.0</td>\n",
              "      <td>1.0</td>\n",
              "      <td>0.0</td>\n",
              "      <td>0.428571</td>\n",
              "      <td>-0.851082</td>\n",
              "      <td>0.0</td>\n",
              "      <td>1.0</td>\n",
              "      <td>1.0</td>\n",
              "      <td>-0.490454</td>\n",
              "      <td>0.304434</td>\n",
              "      <td>1.0</td>\n",
              "      <td>-0.650221</td>\n",
              "      <td>0.0</td>\n",
              "      <td>1.0</td>\n",
              "      <td>0.00</td>\n",
              "      <td>0.50</td>\n",
              "      <td>1.0</td>\n",
              "      <td>1.0</td>\n",
              "    </tr>\n",
              "    <tr>\n",
              "      <th>4</th>\n",
              "      <td>-0.459516</td>\n",
              "      <td>-0.409755</td>\n",
              "      <td>-0.214310</td>\n",
              "      <td>-0.427099</td>\n",
              "      <td>3.432164</td>\n",
              "      <td>2.296368</td>\n",
              "      <td>2.496800</td>\n",
              "      <td>-1.155642</td>\n",
              "      <td>1.0</td>\n",
              "      <td>0.0</td>\n",
              "      <td>0.0</td>\n",
              "      <td>0.0</td>\n",
              "      <td>0.0</td>\n",
              "      <td>0.0</td>\n",
              "      <td>1.0</td>\n",
              "      <td>0.0</td>\n",
              "      <td>0.0</td>\n",
              "      <td>0.0</td>\n",
              "      <td>1.0</td>\n",
              "      <td>0.857143</td>\n",
              "      <td>0.443052</td>\n",
              "      <td>1.0</td>\n",
              "      <td>0.0</td>\n",
              "      <td>1.0</td>\n",
              "      <td>-0.490454</td>\n",
              "      <td>0.174835</td>\n",
              "      <td>1.0</td>\n",
              "      <td>-0.650221</td>\n",
              "      <td>0.0</td>\n",
              "      <td>0.0</td>\n",
              "      <td>1.00</td>\n",
              "      <td>0.25</td>\n",
              "      <td>0.0</td>\n",
              "      <td>0.0</td>\n",
              "    </tr>\n",
              "    <tr>\n",
              "      <th>5</th>\n",
              "      <td>-0.459516</td>\n",
              "      <td>-0.095866</td>\n",
              "      <td>-0.441999</td>\n",
              "      <td>-0.243128</td>\n",
              "      <td>0.855939</td>\n",
              "      <td>-0.228647</td>\n",
              "      <td>-0.296300</td>\n",
              "      <td>-0.335258</td>\n",
              "      <td>1.0</td>\n",
              "      <td>0.0</td>\n",
              "      <td>0.0</td>\n",
              "      <td>0.0</td>\n",
              "      <td>0.0</td>\n",
              "      <td>0.0</td>\n",
              "      <td>1.0</td>\n",
              "      <td>0.0</td>\n",
              "      <td>0.0</td>\n",
              "      <td>0.0</td>\n",
              "      <td>1.0</td>\n",
              "      <td>0.714286</td>\n",
              "      <td>1.169271</td>\n",
              "      <td>1.0</td>\n",
              "      <td>0.0</td>\n",
              "      <td>1.0</td>\n",
              "      <td>-0.490454</td>\n",
              "      <td>0.419050</td>\n",
              "      <td>1.0</td>\n",
              "      <td>-0.650221</td>\n",
              "      <td>0.0</td>\n",
              "      <td>0.0</td>\n",
              "      <td>0.50</td>\n",
              "      <td>0.50</td>\n",
              "      <td>0.0</td>\n",
              "      <td>0.0</td>\n",
              "    </tr>\n",
              "    <tr>\n",
              "      <th>6</th>\n",
              "      <td>-0.459516</td>\n",
              "      <td>-0.409755</td>\n",
              "      <td>-0.441999</td>\n",
              "      <td>-0.429520</td>\n",
              "      <td>-0.426892</td>\n",
              "      <td>-0.689617</td>\n",
              "      <td>-0.374521</td>\n",
              "      <td>-1.826866</td>\n",
              "      <td>0.0</td>\n",
              "      <td>0.0</td>\n",
              "      <td>1.0</td>\n",
              "      <td>0.0</td>\n",
              "      <td>0.0</td>\n",
              "      <td>0.0</td>\n",
              "      <td>1.0</td>\n",
              "      <td>0.0</td>\n",
              "      <td>0.0</td>\n",
              "      <td>0.0</td>\n",
              "      <td>0.0</td>\n",
              "      <td>0.714286</td>\n",
              "      <td>-0.874828</td>\n",
              "      <td>0.0</td>\n",
              "      <td>1.0</td>\n",
              "      <td>0.0</td>\n",
              "      <td>1.431562</td>\n",
              "      <td>-1.422677</td>\n",
              "      <td>0.0</td>\n",
              "      <td>0.609990</td>\n",
              "      <td>0.0</td>\n",
              "      <td>1.0</td>\n",
              "      <td>0.00</td>\n",
              "      <td>0.00</td>\n",
              "      <td>0.0</td>\n",
              "      <td>1.0</td>\n",
              "    </tr>\n",
              "    <tr>\n",
              "      <th>7</th>\n",
              "      <td>-0.459516</td>\n",
              "      <td>0.517447</td>\n",
              "      <td>-0.441999</td>\n",
              "      <td>-0.424679</td>\n",
              "      <td>-0.426892</td>\n",
              "      <td>-0.320955</td>\n",
              "      <td>-0.398410</td>\n",
              "      <td>-0.260678</td>\n",
              "      <td>0.0</td>\n",
              "      <td>0.0</td>\n",
              "      <td>0.0</td>\n",
              "      <td>1.0</td>\n",
              "      <td>1.0</td>\n",
              "      <td>0.0</td>\n",
              "      <td>0.0</td>\n",
              "      <td>0.0</td>\n",
              "      <td>0.0</td>\n",
              "      <td>0.0</td>\n",
              "      <td>1.0</td>\n",
              "      <td>0.571429</td>\n",
              "      <td>-0.821400</td>\n",
              "      <td>1.0</td>\n",
              "      <td>0.0</td>\n",
              "      <td>1.0</td>\n",
              "      <td>-0.490454</td>\n",
              "      <td>-0.620363</td>\n",
              "      <td>1.0</td>\n",
              "      <td>-0.650221</td>\n",
              "      <td>0.0</td>\n",
              "      <td>0.0</td>\n",
              "      <td>0.25</td>\n",
              "      <td>0.50</td>\n",
              "      <td>0.0</td>\n",
              "      <td>1.0</td>\n",
              "    </tr>\n",
              "    <tr>\n",
              "      <th>8</th>\n",
              "      <td>-0.459516</td>\n",
              "      <td>-0.409755</td>\n",
              "      <td>-0.441999</td>\n",
              "      <td>-0.429520</td>\n",
              "      <td>-0.426892</td>\n",
              "      <td>-0.689617</td>\n",
              "      <td>-0.806213</td>\n",
              "      <td>0.261385</td>\n",
              "      <td>0.0</td>\n",
              "      <td>1.0</td>\n",
              "      <td>0.0</td>\n",
              "      <td>0.0</td>\n",
              "      <td>1.0</td>\n",
              "      <td>0.0</td>\n",
              "      <td>0.0</td>\n",
              "      <td>0.0</td>\n",
              "      <td>0.0</td>\n",
              "      <td>1.0</td>\n",
              "      <td>0.0</td>\n",
              "      <td>0.142857</td>\n",
              "      <td>-1.112284</td>\n",
              "      <td>0.0</td>\n",
              "      <td>1.0</td>\n",
              "      <td>0.0</td>\n",
              "      <td>0.470554</td>\n",
              "      <td>-1.408443</td>\n",
              "      <td>1.0</td>\n",
              "      <td>-0.020116</td>\n",
              "      <td>0.0</td>\n",
              "      <td>1.0</td>\n",
              "      <td>0.00</td>\n",
              "      <td>0.75</td>\n",
              "      <td>1.0</td>\n",
              "      <td>1.0</td>\n",
              "    </tr>\n",
              "    <tr>\n",
              "      <th>9</th>\n",
              "      <td>1.306756</td>\n",
              "      <td>-0.409755</td>\n",
              "      <td>-0.441999</td>\n",
              "      <td>-0.332693</td>\n",
              "      <td>-0.426892</td>\n",
              "      <td>-0.304902</td>\n",
              "      <td>-0.380652</td>\n",
              "      <td>0.037644</td>\n",
              "      <td>1.0</td>\n",
              "      <td>0.0</td>\n",
              "      <td>0.0</td>\n",
              "      <td>0.0</td>\n",
              "      <td>0.0</td>\n",
              "      <td>1.0</td>\n",
              "      <td>0.0</td>\n",
              "      <td>0.0</td>\n",
              "      <td>0.0</td>\n",
              "      <td>0.0</td>\n",
              "      <td>1.0</td>\n",
              "      <td>0.714286</td>\n",
              "      <td>-0.097160</td>\n",
              "      <td>0.0</td>\n",
              "      <td>1.0</td>\n",
              "      <td>1.0</td>\n",
              "      <td>-0.490454</td>\n",
              "      <td>-0.656321</td>\n",
              "      <td>1.0</td>\n",
              "      <td>-0.650221</td>\n",
              "      <td>0.0</td>\n",
              "      <td>0.0</td>\n",
              "      <td>0.25</td>\n",
              "      <td>0.50</td>\n",
              "      <td>0.0</td>\n",
              "      <td>0.0</td>\n",
              "    </tr>\n",
              "    <tr>\n",
              "      <th>10</th>\n",
              "      <td>-0.459516</td>\n",
              "      <td>-0.409755</td>\n",
              "      <td>-0.441999</td>\n",
              "      <td>-0.429520</td>\n",
              "      <td>-0.426892</td>\n",
              "      <td>-0.689617</td>\n",
              "      <td>-0.806213</td>\n",
              "      <td>-0.484419</td>\n",
              "      <td>0.0</td>\n",
              "      <td>0.0</td>\n",
              "      <td>1.0</td>\n",
              "      <td>0.0</td>\n",
              "      <td>0.0</td>\n",
              "      <td>0.0</td>\n",
              "      <td>1.0</td>\n",
              "      <td>0.0</td>\n",
              "      <td>0.0</td>\n",
              "      <td>0.0</td>\n",
              "      <td>0.0</td>\n",
              "      <td>0.571429</td>\n",
              "      <td>-0.676948</td>\n",
              "      <td>1.0</td>\n",
              "      <td>0.0</td>\n",
              "      <td>1.0</td>\n",
              "      <td>-0.490454</td>\n",
              "      <td>-0.197481</td>\n",
              "      <td>1.0</td>\n",
              "      <td>-0.650221</td>\n",
              "      <td>0.0</td>\n",
              "      <td>1.0</td>\n",
              "      <td>0.00</td>\n",
              "      <td>0.50</td>\n",
              "      <td>1.0</td>\n",
              "      <td>0.0</td>\n",
              "    </tr>\n",
              "    <tr>\n",
              "      <th>11</th>\n",
              "      <td>-0.414729</td>\n",
              "      <td>2.105696</td>\n",
              "      <td>-0.407846</td>\n",
              "      <td>-0.417417</td>\n",
              "      <td>-0.406769</td>\n",
              "      <td>0.329219</td>\n",
              "      <td>0.320795</td>\n",
              "      <td>-0.708160</td>\n",
              "      <td>1.0</td>\n",
              "      <td>0.0</td>\n",
              "      <td>0.0</td>\n",
              "      <td>0.0</td>\n",
              "      <td>0.0</td>\n",
              "      <td>0.0</td>\n",
              "      <td>1.0</td>\n",
              "      <td>0.0</td>\n",
              "      <td>0.0</td>\n",
              "      <td>0.0</td>\n",
              "      <td>1.0</td>\n",
              "      <td>0.857143</td>\n",
              "      <td>1.665950</td>\n",
              "      <td>0.0</td>\n",
              "      <td>1.0</td>\n",
              "      <td>1.0</td>\n",
              "      <td>-0.490454</td>\n",
              "      <td>1.607913</td>\n",
              "      <td>1.0</td>\n",
              "      <td>-0.650221</td>\n",
              "      <td>0.0</td>\n",
              "      <td>0.0</td>\n",
              "      <td>0.75</td>\n",
              "      <td>0.50</td>\n",
              "      <td>0.0</td>\n",
              "      <td>1.0</td>\n",
              "    </tr>\n",
              "    <tr>\n",
              "      <th>12</th>\n",
              "      <td>-0.459516</td>\n",
              "      <td>-0.409755</td>\n",
              "      <td>-0.441999</td>\n",
              "      <td>3.269268</td>\n",
              "      <td>2.387789</td>\n",
              "      <td>0.828030</td>\n",
              "      <td>0.872565</td>\n",
              "      <td>0.783448</td>\n",
              "      <td>0.0</td>\n",
              "      <td>1.0</td>\n",
              "      <td>0.0</td>\n",
              "      <td>0.0</td>\n",
              "      <td>1.0</td>\n",
              "      <td>0.0</td>\n",
              "      <td>0.0</td>\n",
              "      <td>0.0</td>\n",
              "      <td>0.0</td>\n",
              "      <td>0.0</td>\n",
              "      <td>1.0</td>\n",
              "      <td>0.285714</td>\n",
              "      <td>-1.039068</td>\n",
              "      <td>1.0</td>\n",
              "      <td>0.0</td>\n",
              "      <td>1.0</td>\n",
              "      <td>-0.490454</td>\n",
              "      <td>-0.957095</td>\n",
              "      <td>0.0</td>\n",
              "      <td>-0.650221</td>\n",
              "      <td>0.0</td>\n",
              "      <td>0.0</td>\n",
              "      <td>0.75</td>\n",
              "      <td>0.75</td>\n",
              "      <td>0.0</td>\n",
              "      <td>0.0</td>\n",
              "    </tr>\n",
              "    <tr>\n",
              "      <th>13</th>\n",
              "      <td>-0.459516</td>\n",
              "      <td>-0.409755</td>\n",
              "      <td>-0.441999</td>\n",
              "      <td>-0.429520</td>\n",
              "      <td>-0.426892</td>\n",
              "      <td>-0.689617</td>\n",
              "      <td>-0.806213</td>\n",
              "      <td>-1.006482</td>\n",
              "      <td>0.0</td>\n",
              "      <td>1.0</td>\n",
              "      <td>0.0</td>\n",
              "      <td>0.0</td>\n",
              "      <td>1.0</td>\n",
              "      <td>0.0</td>\n",
              "      <td>0.0</td>\n",
              "      <td>0.0</td>\n",
              "      <td>0.0</td>\n",
              "      <td>1.0</td>\n",
              "      <td>0.0</td>\n",
              "      <td>0.142857</td>\n",
              "      <td>-1.027195</td>\n",
              "      <td>0.0</td>\n",
              "      <td>1.0</td>\n",
              "      <td>1.0</td>\n",
              "      <td>-0.490454</td>\n",
              "      <td>-1.063471</td>\n",
              "      <td>1.0</td>\n",
              "      <td>-0.650221</td>\n",
              "      <td>0.0</td>\n",
              "      <td>1.0</td>\n",
              "      <td>0.00</td>\n",
              "      <td>0.25</td>\n",
              "      <td>1.0</td>\n",
              "      <td>1.0</td>\n",
              "    </tr>\n",
              "    <tr>\n",
              "      <th>14</th>\n",
              "      <td>-0.459516</td>\n",
              "      <td>-0.321519</td>\n",
              "      <td>2.612825</td>\n",
              "      <td>-0.429520</td>\n",
              "      <td>-0.411800</td>\n",
              "      <td>-0.189659</td>\n",
              "      <td>-0.250002</td>\n",
              "      <td>1.380091</td>\n",
              "      <td>1.0</td>\n",
              "      <td>0.0</td>\n",
              "      <td>0.0</td>\n",
              "      <td>0.0</td>\n",
              "      <td>0.0</td>\n",
              "      <td>0.0</td>\n",
              "      <td>1.0</td>\n",
              "      <td>0.0</td>\n",
              "      <td>0.0</td>\n",
              "      <td>0.0</td>\n",
              "      <td>1.0</td>\n",
              "      <td>0.714286</td>\n",
              "      <td>1.861851</td>\n",
              "      <td>1.0</td>\n",
              "      <td>0.0</td>\n",
              "      <td>0.0</td>\n",
              "      <td>0.470554</td>\n",
              "      <td>1.052436</td>\n",
              "      <td>1.0</td>\n",
              "      <td>-0.020116</td>\n",
              "      <td>0.0</td>\n",
              "      <td>0.0</td>\n",
              "      <td>0.50</td>\n",
              "      <td>0.75</td>\n",
              "      <td>0.0</td>\n",
              "      <td>1.0</td>\n",
              "    </tr>\n",
              "    <tr>\n",
              "      <th>15</th>\n",
              "      <td>-0.459516</td>\n",
              "      <td>-0.409755</td>\n",
              "      <td>-0.441999</td>\n",
              "      <td>-0.429520</td>\n",
              "      <td>-0.426892</td>\n",
              "      <td>-0.689617</td>\n",
              "      <td>-0.552162</td>\n",
              "      <td>-1.453964</td>\n",
              "      <td>1.0</td>\n",
              "      <td>0.0</td>\n",
              "      <td>0.0</td>\n",
              "      <td>0.0</td>\n",
              "      <td>0.0</td>\n",
              "      <td>0.0</td>\n",
              "      <td>1.0</td>\n",
              "      <td>0.0</td>\n",
              "      <td>0.0</td>\n",
              "      <td>0.0</td>\n",
              "      <td>0.0</td>\n",
              "      <td>0.714286</td>\n",
              "      <td>1.616480</td>\n",
              "      <td>1.0</td>\n",
              "      <td>0.0</td>\n",
              "      <td>0.0</td>\n",
              "      <td>-0.490454</td>\n",
              "      <td>0.815712</td>\n",
              "      <td>1.0</td>\n",
              "      <td>3.130413</td>\n",
              "      <td>1.0</td>\n",
              "      <td>1.0</td>\n",
              "      <td>0.00</td>\n",
              "      <td>0.25</td>\n",
              "      <td>0.0</td>\n",
              "      <td>1.0</td>\n",
              "    </tr>\n",
              "    <tr>\n",
              "      <th>16</th>\n",
              "      <td>-0.459516</td>\n",
              "      <td>0.069034</td>\n",
              "      <td>-0.441999</td>\n",
              "      <td>-0.429520</td>\n",
              "      <td>3.432164</td>\n",
              "      <td>0.467395</td>\n",
              "      <td>2.851170</td>\n",
              "      <td>0.858029</td>\n",
              "      <td>0.0</td>\n",
              "      <td>1.0</td>\n",
              "      <td>0.0</td>\n",
              "      <td>0.0</td>\n",
              "      <td>0.0</td>\n",
              "      <td>0.0</td>\n",
              "      <td>1.0</td>\n",
              "      <td>0.0</td>\n",
              "      <td>0.0</td>\n",
              "      <td>0.0</td>\n",
              "      <td>1.0</td>\n",
              "      <td>0.142857</td>\n",
              "      <td>-1.165711</td>\n",
              "      <td>1.0</td>\n",
              "      <td>0.0</td>\n",
              "      <td>0.0</td>\n",
              "      <td>0.470554</td>\n",
              "      <td>-1.685245</td>\n",
              "      <td>1.0</td>\n",
              "      <td>1.240096</td>\n",
              "      <td>0.5</td>\n",
              "      <td>0.0</td>\n",
              "      <td>0.75</td>\n",
              "      <td>0.75</td>\n",
              "      <td>0.0</td>\n",
              "      <td>0.0</td>\n",
              "    </tr>\n",
              "    <tr>\n",
              "      <th>17</th>\n",
              "      <td>-0.459516</td>\n",
              "      <td>-0.409755</td>\n",
              "      <td>-0.206721</td>\n",
              "      <td>-0.429520</td>\n",
              "      <td>1.814288</td>\n",
              "      <td>-0.143218</td>\n",
              "      <td>-0.014707</td>\n",
              "      <td>0.485127</td>\n",
              "      <td>1.0</td>\n",
              "      <td>0.0</td>\n",
              "      <td>0.0</td>\n",
              "      <td>0.0</td>\n",
              "      <td>0.0</td>\n",
              "      <td>0.0</td>\n",
              "      <td>1.0</td>\n",
              "      <td>0.0</td>\n",
              "      <td>0.0</td>\n",
              "      <td>0.0</td>\n",
              "      <td>1.0</td>\n",
              "      <td>0.714286</td>\n",
              "      <td>1.865809</td>\n",
              "      <td>0.0</td>\n",
              "      <td>1.0</td>\n",
              "      <td>0.0</td>\n",
              "      <td>0.470554</td>\n",
              "      <td>1.283541</td>\n",
              "      <td>1.0</td>\n",
              "      <td>-0.020116</td>\n",
              "      <td>0.0</td>\n",
              "      <td>0.0</td>\n",
              "      <td>0.50</td>\n",
              "      <td>0.75</td>\n",
              "      <td>0.0</td>\n",
              "      <td>0.0</td>\n",
              "    </tr>\n",
              "    <tr>\n",
              "      <th>18</th>\n",
              "      <td>2.975057</td>\n",
              "      <td>-0.349003</td>\n",
              "      <td>-0.438204</td>\n",
              "      <td>-0.429520</td>\n",
              "      <td>-0.426892</td>\n",
              "      <td>0.038533</td>\n",
              "      <td>-0.416009</td>\n",
              "      <td>-0.111517</td>\n",
              "      <td>0.0</td>\n",
              "      <td>0.0</td>\n",
              "      <td>1.0</td>\n",
              "      <td>0.0</td>\n",
              "      <td>0.0</td>\n",
              "      <td>0.0</td>\n",
              "      <td>1.0</td>\n",
              "      <td>0.0</td>\n",
              "      <td>0.0</td>\n",
              "      <td>0.0</td>\n",
              "      <td>1.0</td>\n",
              "      <td>0.714286</td>\n",
              "      <td>-0.876806</td>\n",
              "      <td>0.0</td>\n",
              "      <td>1.0</td>\n",
              "      <td>0.0</td>\n",
              "      <td>0.470554</td>\n",
              "      <td>-1.423426</td>\n",
              "      <td>1.0</td>\n",
              "      <td>1.240096</td>\n",
              "      <td>0.5</td>\n",
              "      <td>0.0</td>\n",
              "      <td>0.75</td>\n",
              "      <td>0.50</td>\n",
              "      <td>0.0</td>\n",
              "      <td>0.0</td>\n",
              "    </tr>\n",
              "    <tr>\n",
              "      <th>19</th>\n",
              "      <td>1.788212</td>\n",
              "      <td>-0.409755</td>\n",
              "      <td>1.015209</td>\n",
              "      <td>-0.139039</td>\n",
              "      <td>-0.426892</td>\n",
              "      <td>0.059746</td>\n",
              "      <td>0.022712</td>\n",
              "      <td>1.081770</td>\n",
              "      <td>0.0</td>\n",
              "      <td>0.0</td>\n",
              "      <td>1.0</td>\n",
              "      <td>0.0</td>\n",
              "      <td>1.0</td>\n",
              "      <td>0.0</td>\n",
              "      <td>0.0</td>\n",
              "      <td>0.0</td>\n",
              "      <td>0.0</td>\n",
              "      <td>0.0</td>\n",
              "      <td>1.0</td>\n",
              "      <td>0.714286</td>\n",
              "      <td>-0.111011</td>\n",
              "      <td>0.0</td>\n",
              "      <td>1.0</td>\n",
              "      <td>1.0</td>\n",
              "      <td>-0.490454</td>\n",
              "      <td>-0.673176</td>\n",
              "      <td>1.0</td>\n",
              "      <td>-0.650221</td>\n",
              "      <td>0.0</td>\n",
              "      <td>0.0</td>\n",
              "      <td>0.75</td>\n",
              "      <td>0.75</td>\n",
              "      <td>0.0</td>\n",
              "      <td>1.0</td>\n",
              "    </tr>\n",
              "    <tr>\n",
              "      <th>20</th>\n",
              "      <td>-0.459516</td>\n",
              "      <td>-0.409755</td>\n",
              "      <td>-0.441999</td>\n",
              "      <td>-0.429520</td>\n",
              "      <td>-0.426892</td>\n",
              "      <td>-0.689617</td>\n",
              "      <td>-0.416009</td>\n",
              "      <td>-1.379384</td>\n",
              "      <td>0.0</td>\n",
              "      <td>0.0</td>\n",
              "      <td>1.0</td>\n",
              "      <td>0.0</td>\n",
              "      <td>0.0</td>\n",
              "      <td>0.0</td>\n",
              "      <td>1.0</td>\n",
              "      <td>0.0</td>\n",
              "      <td>0.0</td>\n",
              "      <td>0.0</td>\n",
              "      <td>0.0</td>\n",
              "      <td>0.714286</td>\n",
              "      <td>-0.876806</td>\n",
              "      <td>0.0</td>\n",
              "      <td>1.0</td>\n",
              "      <td>0.0</td>\n",
              "      <td>-0.490454</td>\n",
              "      <td>-1.423426</td>\n",
              "      <td>1.0</td>\n",
              "      <td>1.240096</td>\n",
              "      <td>0.5</td>\n",
              "      <td>1.0</td>\n",
              "      <td>0.00</td>\n",
              "      <td>0.25</td>\n",
              "      <td>0.0</td>\n",
              "      <td>1.0</td>\n",
              "    </tr>\n",
              "    <tr>\n",
              "      <th>21</th>\n",
              "      <td>-0.459516</td>\n",
              "      <td>-0.409755</td>\n",
              "      <td>-0.441999</td>\n",
              "      <td>-0.429520</td>\n",
              "      <td>-0.426892</td>\n",
              "      <td>-0.689617</td>\n",
              "      <td>-0.806213</td>\n",
              "      <td>-1.528544</td>\n",
              "      <td>1.0</td>\n",
              "      <td>0.0</td>\n",
              "      <td>0.0</td>\n",
              "      <td>0.0</td>\n",
              "      <td>0.0</td>\n",
              "      <td>1.0</td>\n",
              "      <td>0.0</td>\n",
              "      <td>0.0</td>\n",
              "      <td>0.0</td>\n",
              "      <td>0.0</td>\n",
              "      <td>0.0</td>\n",
              "      <td>0.857143</td>\n",
              "      <td>-0.738291</td>\n",
              "      <td>0.0</td>\n",
              "      <td>1.0</td>\n",
              "      <td>1.0</td>\n",
              "      <td>-0.490454</td>\n",
              "      <td>-1.185204</td>\n",
              "      <td>1.0</td>\n",
              "      <td>-0.650221</td>\n",
              "      <td>0.0</td>\n",
              "      <td>1.0</td>\n",
              "      <td>0.00</td>\n",
              "      <td>0.25</td>\n",
              "      <td>1.0</td>\n",
              "      <td>1.0</td>\n",
              "    </tr>\n",
              "    <tr>\n",
              "      <th>22</th>\n",
              "      <td>-0.459516</td>\n",
              "      <td>0.229595</td>\n",
              "      <td>-0.441999</td>\n",
              "      <td>-0.429520</td>\n",
              "      <td>0.498758</td>\n",
              "      <td>-0.225206</td>\n",
              "      <td>-0.389150</td>\n",
              "      <td>-0.484419</td>\n",
              "      <td>1.0</td>\n",
              "      <td>0.0</td>\n",
              "      <td>0.0</td>\n",
              "      <td>0.0</td>\n",
              "      <td>0.0</td>\n",
              "      <td>0.0</td>\n",
              "      <td>1.0</td>\n",
              "      <td>0.0</td>\n",
              "      <td>0.0</td>\n",
              "      <td>0.0</td>\n",
              "      <td>1.0</td>\n",
              "      <td>0.714286</td>\n",
              "      <td>-0.643308</td>\n",
              "      <td>0.0</td>\n",
              "      <td>1.0</td>\n",
              "      <td>0.0</td>\n",
              "      <td>1.431562</td>\n",
              "      <td>-1.208052</td>\n",
              "      <td>1.0</td>\n",
              "      <td>1.870201</td>\n",
              "      <td>0.5</td>\n",
              "      <td>0.0</td>\n",
              "      <td>0.50</td>\n",
              "      <td>0.50</td>\n",
              "      <td>0.0</td>\n",
              "      <td>1.0</td>\n",
              "    </tr>\n",
              "    <tr>\n",
              "      <th>23</th>\n",
              "      <td>-0.459516</td>\n",
              "      <td>-0.409755</td>\n",
              "      <td>-0.441999</td>\n",
              "      <td>-0.429520</td>\n",
              "      <td>-0.426892</td>\n",
              "      <td>-0.689617</td>\n",
              "      <td>-0.806213</td>\n",
              "      <td>0.112225</td>\n",
              "      <td>0.0</td>\n",
              "      <td>1.0</td>\n",
              "      <td>0.0</td>\n",
              "      <td>0.0</td>\n",
              "      <td>1.0</td>\n",
              "      <td>0.0</td>\n",
              "      <td>0.0</td>\n",
              "      <td>0.0</td>\n",
              "      <td>0.0</td>\n",
              "      <td>1.0</td>\n",
              "      <td>0.0</td>\n",
              "      <td>0.142857</td>\n",
              "      <td>-0.975746</td>\n",
              "      <td>1.0</td>\n",
              "      <td>0.0</td>\n",
              "      <td>1.0</td>\n",
              "      <td>-0.490454</td>\n",
              "      <td>-0.564553</td>\n",
              "      <td>0.0</td>\n",
              "      <td>-0.650221</td>\n",
              "      <td>0.0</td>\n",
              "      <td>1.0</td>\n",
              "      <td>0.00</td>\n",
              "      <td>0.50</td>\n",
              "      <td>1.0</td>\n",
              "      <td>1.0</td>\n",
              "    </tr>\n",
              "    <tr>\n",
              "      <th>24</th>\n",
              "      <td>-0.459516</td>\n",
              "      <td>1.107616</td>\n",
              "      <td>-0.438204</td>\n",
              "      <td>-0.429520</td>\n",
              "      <td>-0.426892</td>\n",
              "      <td>-0.087604</td>\n",
              "      <td>-0.140282</td>\n",
              "      <td>-0.335258</td>\n",
              "      <td>1.0</td>\n",
              "      <td>0.0</td>\n",
              "      <td>0.0</td>\n",
              "      <td>0.0</td>\n",
              "      <td>0.0</td>\n",
              "      <td>0.0</td>\n",
              "      <td>1.0</td>\n",
              "      <td>0.0</td>\n",
              "      <td>0.0</td>\n",
              "      <td>0.0</td>\n",
              "      <td>1.0</td>\n",
              "      <td>0.714286</td>\n",
              "      <td>1.398812</td>\n",
              "      <td>1.0</td>\n",
              "      <td>0.0</td>\n",
              "      <td>1.0</td>\n",
              "      <td>-0.490454</td>\n",
              "      <td>0.630678</td>\n",
              "      <td>1.0</td>\n",
              "      <td>-0.650221</td>\n",
              "      <td>0.0</td>\n",
              "      <td>0.0</td>\n",
              "      <td>0.50</td>\n",
              "      <td>0.50</td>\n",
              "      <td>0.0</td>\n",
              "      <td>0.0</td>\n",
              "    </tr>\n",
              "    <tr>\n",
              "      <th>25</th>\n",
              "      <td>-0.420327</td>\n",
              "      <td>-0.362021</td>\n",
              "      <td>-0.441999</td>\n",
              "      <td>-0.422258</td>\n",
              "      <td>0.747778</td>\n",
              "      <td>-0.393197</td>\n",
              "      <td>-0.478321</td>\n",
              "      <td>-0.558999</td>\n",
              "      <td>1.0</td>\n",
              "      <td>0.0</td>\n",
              "      <td>0.0</td>\n",
              "      <td>0.0</td>\n",
              "      <td>0.0</td>\n",
              "      <td>1.0</td>\n",
              "      <td>0.0</td>\n",
              "      <td>0.0</td>\n",
              "      <td>0.0</td>\n",
              "      <td>0.0</td>\n",
              "      <td>1.0</td>\n",
              "      <td>0.857143</td>\n",
              "      <td>-0.942107</td>\n",
              "      <td>0.0</td>\n",
              "      <td>1.0</td>\n",
              "      <td>1.0</td>\n",
              "      <td>-0.490454</td>\n",
              "      <td>-1.433914</td>\n",
              "      <td>1.0</td>\n",
              "      <td>-0.650221</td>\n",
              "      <td>0.0</td>\n",
              "      <td>0.0</td>\n",
              "      <td>0.25</td>\n",
              "      <td>0.50</td>\n",
              "      <td>0.0</td>\n",
              "      <td>0.0</td>\n",
              "    </tr>\n",
              "    <tr>\n",
              "      <th>26</th>\n",
              "      <td>-0.459516</td>\n",
              "      <td>-0.409755</td>\n",
              "      <td>-0.441999</td>\n",
              "      <td>-0.429520</td>\n",
              "      <td>-0.426892</td>\n",
              "      <td>-0.689617</td>\n",
              "      <td>-0.806213</td>\n",
              "      <td>-0.931901</td>\n",
              "      <td>1.0</td>\n",
              "      <td>0.0</td>\n",
              "      <td>0.0</td>\n",
              "      <td>0.0</td>\n",
              "      <td>0.0</td>\n",
              "      <td>1.0</td>\n",
              "      <td>0.0</td>\n",
              "      <td>0.0</td>\n",
              "      <td>0.0</td>\n",
              "      <td>1.0</td>\n",
              "      <td>0.0</td>\n",
              "      <td>0.857143</td>\n",
              "      <td>0.753724</td>\n",
              "      <td>1.0</td>\n",
              "      <td>0.0</td>\n",
              "      <td>1.0</td>\n",
              "      <td>-0.490454</td>\n",
              "      <td>0.529921</td>\n",
              "      <td>0.0</td>\n",
              "      <td>-0.650221</td>\n",
              "      <td>0.0</td>\n",
              "      <td>1.0</td>\n",
              "      <td>0.00</td>\n",
              "      <td>0.25</td>\n",
              "      <td>1.0</td>\n",
              "      <td>1.0</td>\n",
              "    </tr>\n",
              "    <tr>\n",
              "      <th>27</th>\n",
              "      <td>3.107317</td>\n",
              "      <td>-0.409755</td>\n",
              "      <td>3.078828</td>\n",
              "      <td>-0.427099</td>\n",
              "      <td>-0.401738</td>\n",
              "      <td>1.295306</td>\n",
              "      <td>-0.291861</td>\n",
              "      <td>-1.006482</td>\n",
              "      <td>0.0</td>\n",
              "      <td>0.0</td>\n",
              "      <td>1.0</td>\n",
              "      <td>0.0</td>\n",
              "      <td>0.0</td>\n",
              "      <td>0.0</td>\n",
              "      <td>1.0</td>\n",
              "      <td>0.0</td>\n",
              "      <td>0.0</td>\n",
              "      <td>0.0</td>\n",
              "      <td>1.0</td>\n",
              "      <td>0.428571</td>\n",
              "      <td>-0.827336</td>\n",
              "      <td>0.0</td>\n",
              "      <td>1.0</td>\n",
              "      <td>0.0</td>\n",
              "      <td>4.314585</td>\n",
              "      <td>0.451262</td>\n",
              "      <td>0.0</td>\n",
              "      <td>3.130413</td>\n",
              "      <td>1.0</td>\n",
              "      <td>0.0</td>\n",
              "      <td>1.00</td>\n",
              "      <td>0.25</td>\n",
              "      <td>0.0</td>\n",
              "      <td>0.0</td>\n",
              "    </tr>\n",
              "    <tr>\n",
              "      <th>28</th>\n",
              "      <td>-0.459516</td>\n",
              "      <td>-0.409755</td>\n",
              "      <td>-0.441999</td>\n",
              "      <td>-0.429520</td>\n",
              "      <td>-0.426892</td>\n",
              "      <td>-0.689617</td>\n",
              "      <td>-0.806213</td>\n",
              "      <td>0.112225</td>\n",
              "      <td>0.0</td>\n",
              "      <td>0.0</td>\n",
              "      <td>1.0</td>\n",
              "      <td>0.0</td>\n",
              "      <td>0.0</td>\n",
              "      <td>0.0</td>\n",
              "      <td>1.0</td>\n",
              "      <td>0.0</td>\n",
              "      <td>0.0</td>\n",
              "      <td>1.0</td>\n",
              "      <td>0.0</td>\n",
              "      <td>0.714286</td>\n",
              "      <td>0.405455</td>\n",
              "      <td>1.0</td>\n",
              "      <td>0.0</td>\n",
              "      <td>1.0</td>\n",
              "      <td>-0.490454</td>\n",
              "      <td>-0.276139</td>\n",
              "      <td>1.0</td>\n",
              "      <td>-0.650221</td>\n",
              "      <td>0.0</td>\n",
              "      <td>1.0</td>\n",
              "      <td>0.00</td>\n",
              "      <td>0.50</td>\n",
              "      <td>1.0</td>\n",
              "      <td>1.0</td>\n",
              "    </tr>\n",
              "    <tr>\n",
              "      <th>29</th>\n",
              "      <td>-0.459516</td>\n",
              "      <td>3.565931</td>\n",
              "      <td>-0.441999</td>\n",
              "      <td>-0.422258</td>\n",
              "      <td>3.432164</td>\n",
              "      <td>3.012821</td>\n",
              "      <td>2.049169</td>\n",
              "      <td>0.037644</td>\n",
              "      <td>0.0</td>\n",
              "      <td>1.0</td>\n",
              "      <td>0.0</td>\n",
              "      <td>0.0</td>\n",
              "      <td>1.0</td>\n",
              "      <td>0.0</td>\n",
              "      <td>0.0</td>\n",
              "      <td>0.0</td>\n",
              "      <td>0.0</td>\n",
              "      <td>0.0</td>\n",
              "      <td>1.0</td>\n",
              "      <td>0.142857</td>\n",
              "      <td>-0.587902</td>\n",
              "      <td>1.0</td>\n",
              "      <td>0.0</td>\n",
              "      <td>0.0</td>\n",
              "      <td>3.353577</td>\n",
              "      <td>1.670465</td>\n",
              "      <td>1.0</td>\n",
              "      <td>1.870201</td>\n",
              "      <td>0.5</td>\n",
              "      <td>0.0</td>\n",
              "      <td>1.00</td>\n",
              "      <td>0.50</td>\n",
              "      <td>0.0</td>\n",
              "      <td>0.0</td>\n",
              "    </tr>\n",
              "  </tbody>\n",
              "</table>\n",
              "</div>\n",
              "      <button class=\"colab-df-convert\" onclick=\"convertToInteractive('df-b4cd587e-b5bc-4378-a212-7521667e15aa')\"\n",
              "              title=\"Convert this dataframe to an interactive table.\"\n",
              "              style=\"display:none;\">\n",
              "        \n",
              "  <svg xmlns=\"http://www.w3.org/2000/svg\" height=\"24px\"viewBox=\"0 0 24 24\"\n",
              "       width=\"24px\">\n",
              "    <path d=\"M0 0h24v24H0V0z\" fill=\"none\"/>\n",
              "    <path d=\"M18.56 5.44l.94 2.06.94-2.06 2.06-.94-2.06-.94-.94-2.06-.94 2.06-2.06.94zm-11 1L8.5 8.5l.94-2.06 2.06-.94-2.06-.94L8.5 2.5l-.94 2.06-2.06.94zm10 10l.94 2.06.94-2.06 2.06-.94-2.06-.94-.94-2.06-.94 2.06-2.06.94z\"/><path d=\"M17.41 7.96l-1.37-1.37c-.4-.4-.92-.59-1.43-.59-.52 0-1.04.2-1.43.59L10.3 9.45l-7.72 7.72c-.78.78-.78 2.05 0 2.83L4 21.41c.39.39.9.59 1.41.59.51 0 1.02-.2 1.41-.59l7.78-7.78 2.81-2.81c.8-.78.8-2.07 0-2.86zM5.41 20L4 18.59l7.72-7.72 1.47 1.35L5.41 20z\"/>\n",
              "  </svg>\n",
              "      </button>\n",
              "      \n",
              "  <style>\n",
              "    .colab-df-container {\n",
              "      display:flex;\n",
              "      flex-wrap:wrap;\n",
              "      gap: 12px;\n",
              "    }\n",
              "\n",
              "    .colab-df-convert {\n",
              "      background-color: #E8F0FE;\n",
              "      border: none;\n",
              "      border-radius: 50%;\n",
              "      cursor: pointer;\n",
              "      display: none;\n",
              "      fill: #1967D2;\n",
              "      height: 32px;\n",
              "      padding: 0 0 0 0;\n",
              "      width: 32px;\n",
              "    }\n",
              "\n",
              "    .colab-df-convert:hover {\n",
              "      background-color: #E2EBFA;\n",
              "      box-shadow: 0px 1px 2px rgba(60, 64, 67, 0.3), 0px 1px 3px 1px rgba(60, 64, 67, 0.15);\n",
              "      fill: #174EA6;\n",
              "    }\n",
              "\n",
              "    [theme=dark] .colab-df-convert {\n",
              "      background-color: #3B4455;\n",
              "      fill: #D2E3FC;\n",
              "    }\n",
              "\n",
              "    [theme=dark] .colab-df-convert:hover {\n",
              "      background-color: #434B5C;\n",
              "      box-shadow: 0px 1px 3px 1px rgba(0, 0, 0, 0.15);\n",
              "      filter: drop-shadow(0px 1px 2px rgba(0, 0, 0, 0.3));\n",
              "      fill: #FFFFFF;\n",
              "    }\n",
              "  </style>\n",
              "\n",
              "      <script>\n",
              "        const buttonEl =\n",
              "          document.querySelector('#df-b4cd587e-b5bc-4378-a212-7521667e15aa button.colab-df-convert');\n",
              "        buttonEl.style.display =\n",
              "          google.colab.kernel.accessAllowed ? 'block' : 'none';\n",
              "\n",
              "        async function convertToInteractive(key) {\n",
              "          const element = document.querySelector('#df-b4cd587e-b5bc-4378-a212-7521667e15aa');\n",
              "          const dataTable =\n",
              "            await google.colab.kernel.invokeFunction('convertToInteractive',\n",
              "                                                     [key], {});\n",
              "          if (!dataTable) return;\n",
              "\n",
              "          const docLinkHtml = 'Like what you see? Visit the ' +\n",
              "            '<a target=\"_blank\" href=https://colab.research.google.com/notebooks/data_table.ipynb>data table notebook</a>'\n",
              "            + ' to learn more about interactive tables.';\n",
              "          element.innerHTML = '';\n",
              "          dataTable['output_type'] = 'display_data';\n",
              "          await google.colab.output.renderOutput(dataTable, element);\n",
              "          const docLink = document.createElement('div');\n",
              "          docLink.innerHTML = docLinkHtml;\n",
              "          element.appendChild(docLink);\n",
              "        }\n",
              "      </script>\n",
              "    </div>\n",
              "  </div>\n",
              "  "
            ]
          },
          "metadata": {},
          "execution_count": 334
        }
      ]
    },
    {
      "cell_type": "markdown",
      "source": [
        "# Feature selection"
      ],
      "metadata": {
        "id": "Xj95zBMsiYmH"
      }
    },
    {
      "cell_type": "code",
      "source": [
        "from sklearn.feature_selection import SelectPercentile\n",
        "from sklearn.feature_selection import f_classif\n",
        "import matplotlib.pyplot as plt\n",
        "\n",
        "PERCENTILE = 80\n",
        "\n",
        "feature_selector = SelectPercentile(\n",
        "    score_func=f_classif,\n",
        "    percentile=80\n",
        ")\n",
        "feature_selector.fit(\n",
        "    df_trainval_processed[:, :-1],\n",
        "    df_trainval_processed[:, -1]\n",
        ")"
      ],
      "metadata": {
        "id": "vnhw4kgHi6w_",
        "outputId": "96362792-6fa5-4bea-c081-140393370311",
        "colab": {
          "base_uri": "https://localhost:8080/"
        }
      },
      "execution_count": 335,
      "outputs": [
        {
          "output_type": "execute_result",
          "data": {
            "text/plain": [
              "SelectPercentile(percentile=80)"
            ]
          },
          "metadata": {},
          "execution_count": 335
        }
      ]
    },
    {
      "cell_type": "code",
      "source": [
        "plt.bar(\n",
        "    list(range(len(feature_selector.scores_))),\n",
        "    feature_selector.scores_,\n",
        ")"
      ],
      "metadata": {
        "id": "tfPZjkDOjbDu",
        "outputId": "407f02d6-63cb-4a1e-e3cc-7aacf5df8464",
        "colab": {
          "base_uri": "https://localhost:8080/",
          "height": 282
        }
      },
      "execution_count": 336,
      "outputs": [
        {
          "output_type": "execute_result",
          "data": {
            "text/plain": [
              "<BarContainer object of 33 artists>"
            ]
          },
          "metadata": {},
          "execution_count": 336
        },
        {
          "output_type": "display_data",
          "data": {
            "text/plain": [
              "<Figure size 432x288 with 1 Axes>"
            ],
            "image/png": "[encoded data removed]"
          },
          "metadata": {
            "needs_background": "light"
          }
        }
      ]
    },
    {
      "cell_type": "code",
      "source": [
        "X_trainval_processed = feature_selector.fit_transform(\n",
        "    df_trainval_processed[:, :-1], df_trainval_processed[:, -1])\n",
        "\n",
        "X_test_sample_processed = feature_selector.transform(\n",
        "    df_test_sample_processed[:, :-1]\n",
        ")\n",
        "\n",
        "X_test_processed = feature_selector.transform(\n",
        "    df_test_processed\n",
        ")"
      ],
      "metadata": {
        "id": "6ruNGXEwlWtc"
      },
      "execution_count": null,
      "outputs": []
    },
    {
      "cell_type": "code",
      "source": [
        "df_trainval_processed = np.hstack(\n",
        "    [\n",
        "        X_trainval_processed,\n",
        "        df_trainval_processed[:, -1].reshape(X_trainval_processed.shape[0], 1)\n",
        "    ]\n",
        ")\n",
        "\n",
        "assert (df_trainval_processed[:, -1] == df_trainval.Transported).all()"
      ],
      "metadata": {
        "id": "51FIp_EjmQsV"
      },
      "execution_count": null,
      "outputs": []
    },
    {
      "cell_type": "code",
      "source": [
        "df_test_sample_processed = np.hstack(\n",
        "    [\n",
        "        X_test_sample_processed,\n",
        "        df_test_sample_processed[:, -1].reshape(X_test_sample_processed.shape[0], 1)\n",
        "    ]\n",
        ")\n",
        "\n",
        "assert (df_test_sample_processed[:, -1] == df_test_sample.Transported).all()"
      ],
      "metadata": {
        "id": "H98Ex3UrmeYu"
      },
      "execution_count": null,
      "outputs": []
    },
    {
      "cell_type": "code",
      "source": [
        "df_test_processed = X_test_processed"
      ],
      "metadata": {
        "id": "61sAiFijmz92"
      },
      "execution_count": null,
      "outputs": []
    },
    {
      "cell_type": "markdown",
      "source": [
        "# Save the data"
      ],
      "metadata": {
        "id": "CkrGkFiTcS0v"
      }
    },
    {
      "cell_type": "code",
      "source": [
        "df_trainval_processed.shape[1]"
      ],
      "metadata": {
        "id": "o2VkqBEFSOBf",
        "outputId": "f8748b7d-a68a-42e5-f8c4-f9a481415b31",
        "colab": {
          "base_uri": "https://localhost:8080/"
        }
      },
      "execution_count": 337,
      "outputs": [
        {
          "output_type": "execute_result",
          "data": {
            "text/plain": [
              "34"
            ]
          },
          "metadata": {},
          "execution_count": 337
        }
      ]
    },
    {
      "cell_type": "code",
      "source": [
        "pd.DataFrame(df_test_processed).head(10)"
      ],
      "metadata": {
        "id": "9-D7A0-m3nlf",
        "outputId": "83668771-efb1-44e0-f882-b4473ab299cc",
        "colab": {
          "base_uri": "https://localhost:8080/",
          "height": 0
        }
      },
      "execution_count": 338,
      "outputs": [
        {
          "output_type": "execute_result",
          "data": {
            "text/plain": [
              "         0         1         2         3         4         5         6   \\\n",
              "0 -0.459516 -0.409755 -0.441999 -0.429520 -0.426892 -0.689617 -0.806213   \n",
              "1 -0.459516 -0.396737 -0.441999  3.460743 -0.426892  0.934098  0.989896   \n",
              "2 -0.459516 -0.409755 -0.441999 -0.429520 -0.426892 -0.689617 -0.806213   \n",
              "3 -0.459516  3.565931 -0.441999  0.008622  1.044590  3.012821  2.851329   \n",
              "4 -0.431524 -0.409755  1.967707 -0.429520 -0.426892 -0.319809 -0.397141   \n",
              "5 -0.459516  1.926331  0.556037 -0.155984 -0.275971  0.486316  0.494571   \n",
              "6 -0.459516 -0.409755 -0.441999 -0.429520 -0.426892 -0.689617 -0.806213   \n",
              "7 -0.459516 -0.409755 -0.441999 -0.429520 -0.426892 -0.689617 -0.806213   \n",
              "8 -0.459516 -0.409755 -0.441999 -0.429520 -0.426892 -0.689617 -0.806213   \n",
              "9 -0.459516  0.514554 -0.441999 -0.429520 -0.426892 -0.323249 -0.400946   \n",
              "\n",
              "         7    8    9    10   11   12   13   14   15   16   17   18        19  \\\n",
              "0 -0.111517  1.0  0.0  0.0  0.0  0.0  0.0  1.0  0.0  0.0  1.0  0.0  0.857143   \n",
              "1 -0.708160  1.0  0.0  0.0  0.0  0.0  0.0  1.0  0.0  0.0  0.0  1.0  0.714286   \n",
              "2  0.186805  0.0  1.0  0.0  0.0  1.0  0.0  0.0  0.0  0.0  1.0  0.0  0.285714   \n",
              "3  0.708868  0.0  1.0  0.0  0.0  0.0  0.0  1.0  0.0  0.0  0.0  1.0  0.285714   \n",
              "4 -0.633580  1.0  0.0  0.0  0.0  0.0  0.0  1.0  0.0  0.0  0.0  1.0  0.714286   \n",
              "5  0.186805  1.0  0.0  0.0  0.0  0.0  0.0  1.0  0.0  0.0  0.0  1.0  0.714286   \n",
              "6 -0.558999  0.0  1.0  0.0  0.0  1.0  0.0  0.0  0.0  0.0  1.0  0.0  0.142857   \n",
              "7 -0.633580  0.0  1.0  0.0  0.0  0.0  0.0  1.0  0.0  0.0  1.0  0.0  0.428571   \n",
              "8 -0.409838  0.0  1.0  0.0  0.0  1.0  0.0  0.0  0.0  0.0  1.0  0.0  0.428571   \n",
              "9 -0.335258  1.0  0.0  0.0  0.0  1.0  0.0  0.0  0.0  0.0  0.0  1.0  0.714286   \n",
              "\n",
              "         20   21   22   23        24        25   26        27   28   29    30  \\\n",
              "0 -1.169669  0.0  1.0  1.0 -0.490454 -1.721578  1.0 -0.650221  0.0  1.0  0.00   \n",
              "1 -1.167690  0.0  1.0  1.0 -0.490454 -1.719705  1.0 -0.650221  0.0  0.0  1.00   \n",
              "2 -1.175605  0.0  1.0  1.0 -0.490454 -1.719331  1.0 -0.650221  0.0  1.0  0.00   \n",
              "3 -1.173626  0.0  1.0  1.0 -0.490454 -1.718582  1.0 -0.650221  0.0  0.0  1.00   \n",
              "4 -1.165711  0.0  1.0  1.0 -0.490454 -1.717832  1.0 -0.650221  0.0  0.0  0.25   \n",
              "5 -1.161754  1.0  0.0  1.0 -0.490454 -1.716334  1.0 -0.650221  0.0  0.0  0.75   \n",
              "6 -1.171648  1.0  0.0  1.0 -0.490454 -1.715585  0.0 -0.650221  0.0  1.0  0.00   \n",
              "7 -1.175605  0.0  1.0  0.0 -0.490454 -1.714461  1.0 -0.020116  0.0  1.0  0.00   \n",
              "8 -1.175605  0.0  1.0  0.0  0.470554 -1.714461  1.0 -0.020116  0.0  1.0  0.00   \n",
              "9 -1.161754  0.0  1.0  1.0 -0.490454 -1.714087  1.0 -0.650221  0.0  0.0  0.25   \n",
              "\n",
              "     31   32  \n",
              "0  0.50  1.0  \n",
              "1  0.50  0.0  \n",
              "2  0.75  1.0  \n",
              "3  0.75  0.0  \n",
              "4  0.50  0.0  \n",
              "5  0.75  0.0  \n",
              "6  0.50  1.0  \n",
              "7  0.50  1.0  \n",
              "8  0.50  1.0  \n",
              "9  0.50  0.0  "
            ],
            "text/html": [
              "\n",
              "  <div id=\"df-8cb62457-e9ef-4c25-bffc-d4c897011416\">\n",
              "    <div class=\"colab-df-container\">\n",
              "      <div>\n",
              "<style scoped>\n",
              "    .dataframe tbody tr th:only-of-type {\n",
              "        vertical-align: middle;\n",
              "    }\n",
              "\n",
              "    .dataframe tbody tr th {\n",
              "        vertical-align: top;\n",
              "    }\n",
              "\n",
              "    .dataframe thead th {\n",
              "        text-align: right;\n",
              "    }\n",
              "</style>\n",
              "<table border=\"1\" class=\"dataframe\">\n",
              "  <thead>\n",
              "    <tr style=\"text-align: right;\">\n",
              "      <th></th>\n",
              "      <th>0</th>\n",
              "      <th>1</th>\n",
              "      <th>2</th>\n",
              "      <th>3</th>\n",
              "      <th>4</th>\n",
              "      <th>5</th>\n",
              "      <th>6</th>\n",
              "      <th>7</th>\n",
              "      <th>8</th>\n",
              "      <th>9</th>\n",
              "      <th>10</th>\n",
              "      <th>11</th>\n",
              "      <th>12</th>\n",
              "      <th>13</th>\n",
              "      <th>14</th>\n",
              "      <th>15</th>\n",
              "      <th>16</th>\n",
              "      <th>17</th>\n",
              "      <th>18</th>\n",
              "      <th>19</th>\n",
              "      <th>20</th>\n",
              "      <th>21</th>\n",
              "      <th>22</th>\n",
              "      <th>23</th>\n",
              "      <th>24</th>\n",
              "      <th>25</th>\n",
              "      <th>26</th>\n",
              "      <th>27</th>\n",
              "      <th>28</th>\n",
              "      <th>29</th>\n",
              "      <th>30</th>\n",
              "      <th>31</th>\n",
              "      <th>32</th>\n",
              "    </tr>\n",
              "  </thead>\n",
              "  <tbody>\n",
              "    <tr>\n",
              "      <th>0</th>\n",
              "      <td>-0.459516</td>\n",
              "      <td>-0.409755</td>\n",
              "      <td>-0.441999</td>\n",
              "      <td>-0.429520</td>\n",
              "      <td>-0.426892</td>\n",
              "      <td>-0.689617</td>\n",
              "      <td>-0.806213</td>\n",
              "      <td>-0.111517</td>\n",
              "      <td>1.0</td>\n",
              "      <td>0.0</td>\n",
              "      <td>0.0</td>\n",
              "      <td>0.0</td>\n",
              "      <td>0.0</td>\n",
              "      <td>0.0</td>\n",
              "      <td>1.0</td>\n",
              "      <td>0.0</td>\n",
              "      <td>0.0</td>\n",
              "      <td>1.0</td>\n",
              "      <td>0.0</td>\n",
              "      <td>0.857143</td>\n",
              "      <td>-1.169669</td>\n",
              "      <td>0.0</td>\n",
              "      <td>1.0</td>\n",
              "      <td>1.0</td>\n",
              "      <td>-0.490454</td>\n",
              "      <td>-1.721578</td>\n",
              "      <td>1.0</td>\n",
              "      <td>-0.650221</td>\n",
              "      <td>0.0</td>\n",
              "      <td>1.0</td>\n",
              "      <td>0.00</td>\n",
              "      <td>0.50</td>\n",
              "      <td>1.0</td>\n",
              "    </tr>\n",
              "    <tr>\n",
              "      <th>1</th>\n",
              "      <td>-0.459516</td>\n",
              "      <td>-0.396737</td>\n",
              "      <td>-0.441999</td>\n",
              "      <td>3.460743</td>\n",
              "      <td>-0.426892</td>\n",
              "      <td>0.934098</td>\n",
              "      <td>0.989896</td>\n",
              "      <td>-0.708160</td>\n",
              "      <td>1.0</td>\n",
              "      <td>0.0</td>\n",
              "      <td>0.0</td>\n",
              "      <td>0.0</td>\n",
              "      <td>0.0</td>\n",
              "      <td>0.0</td>\n",
              "      <td>1.0</td>\n",
              "      <td>0.0</td>\n",
              "      <td>0.0</td>\n",
              "      <td>0.0</td>\n",
              "      <td>1.0</td>\n",
              "      <td>0.714286</td>\n",
              "      <td>-1.167690</td>\n",
              "      <td>0.0</td>\n",
              "      <td>1.0</td>\n",
              "      <td>1.0</td>\n",
              "      <td>-0.490454</td>\n",
              "      <td>-1.719705</td>\n",
              "      <td>1.0</td>\n",
              "      <td>-0.650221</td>\n",
              "      <td>0.0</td>\n",
              "      <td>0.0</td>\n",
              "      <td>1.00</td>\n",
              "      <td>0.50</td>\n",
              "      <td>0.0</td>\n",
              "    </tr>\n",
              "    <tr>\n",
              "      <th>2</th>\n",
              "      <td>-0.459516</td>\n",
              "      <td>-0.409755</td>\n",
              "      <td>-0.441999</td>\n",
              "      <td>-0.429520</td>\n",
              "      <td>-0.426892</td>\n",
              "      <td>-0.689617</td>\n",
              "      <td>-0.806213</td>\n",
              "      <td>0.186805</td>\n",
              "      <td>0.0</td>\n",
              "      <td>1.0</td>\n",
              "      <td>0.0</td>\n",
              "      <td>0.0</td>\n",
              "      <td>1.0</td>\n",
              "      <td>0.0</td>\n",
              "      <td>0.0</td>\n",
              "      <td>0.0</td>\n",
              "      <td>0.0</td>\n",
              "      <td>1.0</td>\n",
              "      <td>0.0</td>\n",
              "      <td>0.285714</td>\n",
              "      <td>-1.175605</td>\n",
              "      <td>0.0</td>\n",
              "      <td>1.0</td>\n",
              "      <td>1.0</td>\n",
              "      <td>-0.490454</td>\n",
              "      <td>-1.719331</td>\n",
              "      <td>1.0</td>\n",
              "      <td>-0.650221</td>\n",
              "      <td>0.0</td>\n",
              "      <td>1.0</td>\n",
              "      <td>0.00</td>\n",
              "      <td>0.75</td>\n",
              "      <td>1.0</td>\n",
              "    </tr>\n",
              "    <tr>\n",
              "      <th>3</th>\n",
              "      <td>-0.459516</td>\n",
              "      <td>3.565931</td>\n",
              "      <td>-0.441999</td>\n",
              "      <td>0.008622</td>\n",
              "      <td>1.044590</td>\n",
              "      <td>3.012821</td>\n",
              "      <td>2.851329</td>\n",
              "      <td>0.708868</td>\n",
              "      <td>0.0</td>\n",
              "      <td>1.0</td>\n",
              "      <td>0.0</td>\n",
              "      <td>0.0</td>\n",
              "      <td>0.0</td>\n",
              "      <td>0.0</td>\n",
              "      <td>1.0</td>\n",
              "      <td>0.0</td>\n",
              "      <td>0.0</td>\n",
              "      <td>0.0</td>\n",
              "      <td>1.0</td>\n",
              "      <td>0.285714</td>\n",
              "      <td>-1.173626</td>\n",
              "      <td>0.0</td>\n",
              "      <td>1.0</td>\n",
              "      <td>1.0</td>\n",
              "      <td>-0.490454</td>\n",
              "      <td>-1.718582</td>\n",
              "      <td>1.0</td>\n",
              "      <td>-0.650221</td>\n",
              "      <td>0.0</td>\n",
              "      <td>0.0</td>\n",
              "      <td>1.00</td>\n",
              "      <td>0.75</td>\n",
              "      <td>0.0</td>\n",
              "    </tr>\n",
              "    <tr>\n",
              "      <th>4</th>\n",
              "      <td>-0.431524</td>\n",
              "      <td>-0.409755</td>\n",
              "      <td>1.967707</td>\n",
              "      <td>-0.429520</td>\n",
              "      <td>-0.426892</td>\n",
              "      <td>-0.319809</td>\n",
              "      <td>-0.397141</td>\n",
              "      <td>-0.633580</td>\n",
              "      <td>1.0</td>\n",
              "      <td>0.0</td>\n",
              "      <td>0.0</td>\n",
              "      <td>0.0</td>\n",
              "      <td>0.0</td>\n",
              "      <td>0.0</td>\n",
              "      <td>1.0</td>\n",
              "      <td>0.0</td>\n",
              "      <td>0.0</td>\n",
              "      <td>0.0</td>\n",
              "      <td>1.0</td>\n",
              "      <td>0.714286</td>\n",
              "      <td>-1.165711</td>\n",
              "      <td>0.0</td>\n",
              "      <td>1.0</td>\n",
              "      <td>1.0</td>\n",
              "      <td>-0.490454</td>\n",
              "      <td>-1.717832</td>\n",
              "      <td>1.0</td>\n",
              "      <td>-0.650221</td>\n",
              "      <td>0.0</td>\n",
              "      <td>0.0</td>\n",
              "      <td>0.25</td>\n",
              "      <td>0.50</td>\n",
              "      <td>0.0</td>\n",
              "    </tr>\n",
              "    <tr>\n",
              "      <th>5</th>\n",
              "      <td>-0.459516</td>\n",
              "      <td>1.926331</td>\n",
              "      <td>0.556037</td>\n",
              "      <td>-0.155984</td>\n",
              "      <td>-0.275971</td>\n",
              "      <td>0.486316</td>\n",
              "      <td>0.494571</td>\n",
              "      <td>0.186805</td>\n",
              "      <td>1.0</td>\n",
              "      <td>0.0</td>\n",
              "      <td>0.0</td>\n",
              "      <td>0.0</td>\n",
              "      <td>0.0</td>\n",
              "      <td>0.0</td>\n",
              "      <td>1.0</td>\n",
              "      <td>0.0</td>\n",
              "      <td>0.0</td>\n",
              "      <td>0.0</td>\n",
              "      <td>1.0</td>\n",
              "      <td>0.714286</td>\n",
              "      <td>-1.161754</td>\n",
              "      <td>1.0</td>\n",
              "      <td>0.0</td>\n",
              "      <td>1.0</td>\n",
              "      <td>-0.490454</td>\n",
              "      <td>-1.716334</td>\n",
              "      <td>1.0</td>\n",
              "      <td>-0.650221</td>\n",
              "      <td>0.0</td>\n",
              "      <td>0.0</td>\n",
              "      <td>0.75</td>\n",
              "      <td>0.75</td>\n",
              "      <td>0.0</td>\n",
              "    </tr>\n",
              "    <tr>\n",
              "      <th>6</th>\n",
              "      <td>-0.459516</td>\n",
              "      <td>-0.409755</td>\n",
              "      <td>-0.441999</td>\n",
              "      <td>-0.429520</td>\n",
              "      <td>-0.426892</td>\n",
              "      <td>-0.689617</td>\n",
              "      <td>-0.806213</td>\n",
              "      <td>-0.558999</td>\n",
              "      <td>0.0</td>\n",
              "      <td>1.0</td>\n",
              "      <td>0.0</td>\n",
              "      <td>0.0</td>\n",
              "      <td>1.0</td>\n",
              "      <td>0.0</td>\n",
              "      <td>0.0</td>\n",
              "      <td>0.0</td>\n",
              "      <td>0.0</td>\n",
              "      <td>1.0</td>\n",
              "      <td>0.0</td>\n",
              "      <td>0.142857</td>\n",
              "      <td>-1.171648</td>\n",
              "      <td>1.0</td>\n",
              "      <td>0.0</td>\n",
              "      <td>1.0</td>\n",
              "      <td>-0.490454</td>\n",
              "      <td>-1.715585</td>\n",
              "      <td>0.0</td>\n",
              "      <td>-0.650221</td>\n",
              "      <td>0.0</td>\n",
              "      <td>1.0</td>\n",
              "      <td>0.00</td>\n",
              "      <td>0.50</td>\n",
              "      <td>1.0</td>\n",
              "    </tr>\n",
              "    <tr>\n",
              "      <th>7</th>\n",
              "      <td>-0.459516</td>\n",
              "      <td>-0.409755</td>\n",
              "      <td>-0.441999</td>\n",
              "      <td>-0.429520</td>\n",
              "      <td>-0.426892</td>\n",
              "      <td>-0.689617</td>\n",
              "      <td>-0.806213</td>\n",
              "      <td>-0.633580</td>\n",
              "      <td>0.0</td>\n",
              "      <td>1.0</td>\n",
              "      <td>0.0</td>\n",
              "      <td>0.0</td>\n",
              "      <td>0.0</td>\n",
              "      <td>0.0</td>\n",
              "      <td>1.0</td>\n",
              "      <td>0.0</td>\n",
              "      <td>0.0</td>\n",
              "      <td>1.0</td>\n",
              "      <td>0.0</td>\n",
              "      <td>0.428571</td>\n",
              "      <td>-1.175605</td>\n",
              "      <td>0.0</td>\n",
              "      <td>1.0</td>\n",
              "      <td>0.0</td>\n",
              "      <td>-0.490454</td>\n",
              "      <td>-1.714461</td>\n",
              "      <td>1.0</td>\n",
              "      <td>-0.020116</td>\n",
              "      <td>0.0</td>\n",
              "      <td>1.0</td>\n",
              "      <td>0.00</td>\n",
              "      <td>0.50</td>\n",
              "      <td>1.0</td>\n",
              "    </tr>\n",
              "    <tr>\n",
              "      <th>8</th>\n",
              "      <td>-0.459516</td>\n",
              "      <td>-0.409755</td>\n",
              "      <td>-0.441999</td>\n",
              "      <td>-0.429520</td>\n",
              "      <td>-0.426892</td>\n",
              "      <td>-0.689617</td>\n",
              "      <td>-0.806213</td>\n",
              "      <td>-0.409838</td>\n",
              "      <td>0.0</td>\n",
              "      <td>1.0</td>\n",
              "      <td>0.0</td>\n",
              "      <td>0.0</td>\n",
              "      <td>1.0</td>\n",
              "      <td>0.0</td>\n",
              "      <td>0.0</td>\n",
              "      <td>0.0</td>\n",
              "      <td>0.0</td>\n",
              "      <td>1.0</td>\n",
              "      <td>0.0</td>\n",
              "      <td>0.428571</td>\n",
              "      <td>-1.175605</td>\n",
              "      <td>0.0</td>\n",
              "      <td>1.0</td>\n",
              "      <td>0.0</td>\n",
              "      <td>0.470554</td>\n",
              "      <td>-1.714461</td>\n",
              "      <td>1.0</td>\n",
              "      <td>-0.020116</td>\n",
              "      <td>0.0</td>\n",
              "      <td>1.0</td>\n",
              "      <td>0.00</td>\n",
              "      <td>0.50</td>\n",
              "      <td>1.0</td>\n",
              "    </tr>\n",
              "    <tr>\n",
              "      <th>9</th>\n",
              "      <td>-0.459516</td>\n",
              "      <td>0.514554</td>\n",
              "      <td>-0.441999</td>\n",
              "      <td>-0.429520</td>\n",
              "      <td>-0.426892</td>\n",
              "      <td>-0.323249</td>\n",
              "      <td>-0.400946</td>\n",
              "      <td>-0.335258</td>\n",
              "      <td>1.0</td>\n",
              "      <td>0.0</td>\n",
              "      <td>0.0</td>\n",
              "      <td>0.0</td>\n",
              "      <td>1.0</td>\n",
              "      <td>0.0</td>\n",
              "      <td>0.0</td>\n",
              "      <td>0.0</td>\n",
              "      <td>0.0</td>\n",
              "      <td>0.0</td>\n",
              "      <td>1.0</td>\n",
              "      <td>0.714286</td>\n",
              "      <td>-1.161754</td>\n",
              "      <td>0.0</td>\n",
              "      <td>1.0</td>\n",
              "      <td>1.0</td>\n",
              "      <td>-0.490454</td>\n",
              "      <td>-1.714087</td>\n",
              "      <td>1.0</td>\n",
              "      <td>-0.650221</td>\n",
              "      <td>0.0</td>\n",
              "      <td>0.0</td>\n",
              "      <td>0.25</td>\n",
              "      <td>0.50</td>\n",
              "      <td>0.0</td>\n",
              "    </tr>\n",
              "  </tbody>\n",
              "</table>\n",
              "</div>\n",
              "      <button class=\"colab-df-convert\" onclick=\"convertToInteractive('df-8cb62457-e9ef-4c25-bffc-d4c897011416')\"\n",
              "              title=\"Convert this dataframe to an interactive table.\"\n",
              "              style=\"display:none;\">\n",
              "        \n",
              "  <svg xmlns=\"http://www.w3.org/2000/svg\" height=\"24px\"viewBox=\"0 0 24 24\"\n",
              "       width=\"24px\">\n",
              "    <path d=\"M0 0h24v24H0V0z\" fill=\"none\"/>\n",
              "    <path d=\"M18.56 5.44l.94 2.06.94-2.06 2.06-.94-2.06-.94-.94-2.06-.94 2.06-2.06.94zm-11 1L8.5 8.5l.94-2.06 2.06-.94-2.06-.94L8.5 2.5l-.94 2.06-2.06.94zm10 10l.94 2.06.94-2.06 2.06-.94-2.06-.94-.94-2.06-.94 2.06-2.06.94z\"/><path d=\"M17.41 7.96l-1.37-1.37c-.4-.4-.92-.59-1.43-.59-.52 0-1.04.2-1.43.59L10.3 9.45l-7.72 7.72c-.78.78-.78 2.05 0 2.83L4 21.41c.39.39.9.59 1.41.59.51 0 1.02-.2 1.41-.59l7.78-7.78 2.81-2.81c.8-.78.8-2.07 0-2.86zM5.41 20L4 18.59l7.72-7.72 1.47 1.35L5.41 20z\"/>\n",
              "  </svg>\n",
              "      </button>\n",
              "      \n",
              "  <style>\n",
              "    .colab-df-container {\n",
              "      display:flex;\n",
              "      flex-wrap:wrap;\n",
              "      gap: 12px;\n",
              "    }\n",
              "\n",
              "    .colab-df-convert {\n",
              "      background-color: #E8F0FE;\n",
              "      border: none;\n",
              "      border-radius: 50%;\n",
              "      cursor: pointer;\n",
              "      display: none;\n",
              "      fill: #1967D2;\n",
              "      height: 32px;\n",
              "      padding: 0 0 0 0;\n",
              "      width: 32px;\n",
              "    }\n",
              "\n",
              "    .colab-df-convert:hover {\n",
              "      background-color: #E2EBFA;\n",
              "      box-shadow: 0px 1px 2px rgba(60, 64, 67, 0.3), 0px 1px 3px 1px rgba(60, 64, 67, 0.15);\n",
              "      fill: #174EA6;\n",
              "    }\n",
              "\n",
              "    [theme=dark] .colab-df-convert {\n",
              "      background-color: #3B4455;\n",
              "      fill: #D2E3FC;\n",
              "    }\n",
              "\n",
              "    [theme=dark] .colab-df-convert:hover {\n",
              "      background-color: #434B5C;\n",
              "      box-shadow: 0px 1px 3px 1px rgba(0, 0, 0, 0.15);\n",
              "      filter: drop-shadow(0px 1px 2px rgba(0, 0, 0, 0.3));\n",
              "      fill: #FFFFFF;\n",
              "    }\n",
              "  </style>\n",
              "\n",
              "      <script>\n",
              "        const buttonEl =\n",
              "          document.querySelector('#df-8cb62457-e9ef-4c25-bffc-d4c897011416 button.colab-df-convert');\n",
              "        buttonEl.style.display =\n",
              "          google.colab.kernel.accessAllowed ? 'block' : 'none';\n",
              "\n",
              "        async function convertToInteractive(key) {\n",
              "          const element = document.querySelector('#df-8cb62457-e9ef-4c25-bffc-d4c897011416');\n",
              "          const dataTable =\n",
              "            await google.colab.kernel.invokeFunction('convertToInteractive',\n",
              "                                                     [key], {});\n",
              "          if (!dataTable) return;\n",
              "\n",
              "          const docLinkHtml = 'Like what you see? Visit the ' +\n",
              "            '<a target=\"_blank\" href=https://colab.research.google.com/notebooks/data_table.ipynb>data table notebook</a>'\n",
              "            + ' to learn more about interactive tables.';\n",
              "          element.innerHTML = '';\n",
              "          dataTable['output_type'] = 'display_data';\n",
              "          await google.colab.output.renderOutput(dataTable, element);\n",
              "          const docLink = document.createElement('div');\n",
              "          docLink.innerHTML = docLinkHtml;\n",
              "          element.appendChild(docLink);\n",
              "        }\n",
              "      </script>\n",
              "    </div>\n",
              "  </div>\n",
              "  "
            ]
          },
          "metadata": {},
          "execution_count": 338
        }
      ]
    },
    {
      "cell_type": "code",
      "source": [
        "assert df_trainval_processed.shape[1] \\\n",
        "    == df_test_sample_processed.shape[1] \\\n",
        "    == df_test_processed.shape[1] + 1\n",
        "\n",
        "manager.save_to_csv(\n",
        "    df_trainval_processed,\n",
        "    manager.data_trial_path,\n",
        "    'trainval_processed.csv'\n",
        ")\n",
        "\n",
        "manager.save_to_csv(\n",
        "    df_test_sample_processed,\n",
        "    manager.data_trial_path,\n",
        "    'test_sample_processed.csv'\n",
        ")\n",
        "\n",
        "manager.save_to_csv(\n",
        "    df_test_processed,\n",
        "    manager.data_trial_path,\n",
        "    'test_processed.csv'\n",
        ")"
      ],
      "metadata": {
        "id": "2KVbR3YRdB4t"
      },
      "execution_count": 339,
      "outputs": []
    }
  ]
}