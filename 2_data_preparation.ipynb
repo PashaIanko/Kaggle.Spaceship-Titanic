{
  "nbformat": 4,
  "nbformat_minor": 0,
  "metadata": {
    "colab": {
      "provenance": [],
      "toc_visible": true,
      "authorship_tag": "ABX9TyMDu9v32NgRDuABr7d86VJP",
      "include_colab_link": true
    },
    "kernelspec": {
      "name": "python3",
      "display_name": "Python 3"
    },
    "language_info": {
      "name": "python"
    }
  },
  "cells": [
    {
      "cell_type": "markdown",
      "metadata": {
        "id": "view-in-github",
        "colab_type": "text"
      },
      "source": [
        "<a href=\"https://colab.research.google.com/github/PashaIanko/Kaggle.Spaceship-Titanic/blob/additional_features/2_data_preparation.ipynb\" target=\"_parent\"><img src=\"https://colab.research.google.com/assets/colab-badge.svg\" alt=\"Open In Colab\"/></a>"
      ]
    },
    {
      "cell_type": "markdown",
      "source": [
        "# Imports"
      ],
      "metadata": {
        "id": "tfTSuABhcdzf"
      }
    },
    {
      "cell_type": "code",
      "execution_count": 1,
      "metadata": {
        "id": "TbElZ_JOcVn8"
      },
      "outputs": [],
      "source": [
        "# colab\n",
        "from google.colab import drive\n",
        "\n",
        "# data\n",
        "import pandas as pd\n",
        "\n",
        "# math\n",
        "import numpy as np\n",
        "\n",
        "# preprocessing\n",
        "from sklearn.pipeline import Pipeline\n",
        "from sklearn.compose import ColumnTransformer\n",
        "\n",
        "from sklearn.preprocessing import StandardScaler\n",
        "from sklearn.preprocessing import OneHotEncoder\n",
        "from sklearn.impute import SimpleImputer"
      ]
    },
    {
      "cell_type": "markdown",
      "source": [
        "## PEP8 code standard"
      ],
      "metadata": {
        "id": "G6UylN1y0SkN"
      }
    },
    {
      "cell_type": "code",
      "source": [
        "%%capture\n",
        "!pip install pycodestyle\n",
        "!pip install --index-url https://test.pypi.org/simple/ nbpep8\n",
        "\n",
        "from nbpep8.nbpep8 import pep8"
      ],
      "metadata": {
        "id": "jd7pxnxC0U7d"
      },
      "execution_count": 2,
      "outputs": []
    },
    {
      "cell_type": "markdown",
      "source": [
        "## Importing custom packages"
      ],
      "metadata": {
        "id": "xhXhFcJc0ziD"
      }
    },
    {
      "cell_type": "code",
      "source": [
        "%%capture\n",
        "def download_files(url_dict):\n",
        "    for file, url in url_dict.items():\n",
        "        !wget -O {file} {url} {file}\n",
        "\n",
        "git_download_path = \\\n",
        "    'https://raw.githubusercontent.com/PashaIanko/Sklearn-Utils/main/'\n",
        "\n",
        "files = [\n",
        "    'path_manager.py',\n",
        "    'sklearn_transformers.py',\n",
        "    'sklearn_utils.py'\n",
        "]\n",
        "\n",
        "url_dict = {file: git_download_path + file for file in files}\n",
        "download_files(url_dict)"
      ],
      "metadata": {
        "id": "2Edswwkj0yy2"
      },
      "execution_count": 3,
      "outputs": []
    },
    {
      "cell_type": "code",
      "source": [
        "import importlib\n",
        "import path_manager\n",
        "import sklearn_utils\n",
        "import sklearn_transformers\n",
        "\n",
        "def reload_modules(modules):\n",
        "    for module in modules:\n",
        "        importlib.reload(module)\n",
        "\n",
        "reload_modules(\n",
        "    [\n",
        "        path_manager,\n",
        "        sklearn_transformers,\n",
        "        sklearn_utils\n",
        "    ]\n",
        ")\n",
        "\n",
        "from path_manager import PathManager\n",
        "from sklearn_transformers import ColumnDropper\n",
        "from sklearn_utils import inf_statistics\n",
        "from sklearn_transformers import OutlierCleaner"
      ],
      "metadata": {
        "id": "JgYOe2C01Kz_"
      },
      "execution_count": 4,
      "outputs": []
    },
    {
      "cell_type": "markdown",
      "source": [
        "# Set up paths"
      ],
      "metadata": {
        "id": "Qp68wJ03chy1"
      }
    },
    {
      "cell_type": "code",
      "source": [
        "drive.mount('/content/gdrive')\n",
        "gdrive_path = '/content/gdrive/MyDrive/'\n",
        "\n",
        "PREPROC_TRIAL = 8\n",
        "MODELS_TRIAL = 4\n",
        "COMPETITION_PATH = gdrive_path + 'ML/Competitions/6.SpaceshipTitanic/'\n",
        "\n",
        "manager = PathManager(\n",
        "    competition_path=COMPETITION_PATH,\n",
        "    preprocessing_trial=PREPROC_TRIAL,\n",
        "    models_trial=MODELS_TRIAL\n",
        ")\n",
        "manager.setup_paths()"
      ],
      "metadata": {
        "id": "3lZ9wP2ScdMn",
        "colab": {
          "base_uri": "https://localhost:8080/"
        },
        "outputId": "0057fdd3-9af9-4342-af71-3880a345fafe"
      },
      "execution_count": 5,
      "outputs": [
        {
          "output_type": "stream",
          "name": "stdout",
          "text": [
            "Mounted at /content/gdrive\n",
            "/content/gdrive/MyDrive/ML/Competitions/6.SpaceshipTitanic/Models/trial_4 already exists\n"
          ]
        }
      ]
    },
    {
      "cell_type": "markdown",
      "source": [
        "# Download the data"
      ],
      "metadata": {
        "id": "icar5WRwCS97"
      }
    },
    {
      "cell_type": "code",
      "source": [
        "df_train = pd.read_csv(manager.train_path, index_col='Unnamed: 0')\n",
        "df_test = pd.read_csv(manager.test_path, index_col='Unnamed: 0')"
      ],
      "metadata": {
        "id": "Fb9XiK_GCVkh"
      },
      "execution_count": 68,
      "outputs": []
    },
    {
      "cell_type": "code",
      "source": [
        "df_train.columns, df_test.columns"
      ],
      "metadata": {
        "id": "fOcD_bHGRamz",
        "outputId": "4b3d2d54-1c1d-4d66-9779-d71b80e0de93",
        "colab": {
          "base_uri": "https://localhost:8080/"
        }
      },
      "execution_count": 69,
      "outputs": [
        {
          "output_type": "execute_result",
          "data": {
            "text/plain": [
              "(Index(['PassengerId', 'HomePlanet', 'CryoSleep', 'Cabin', 'Destination', 'Age',\n",
              "        'VIP', 'RoomService', 'FoodCourt', 'ShoppingMall', 'Spa', 'VRDeck',\n",
              "        'Name', 'Transported', 'gender'],\n",
              "       dtype='object'),\n",
              " Index(['PassengerId', 'HomePlanet', 'CryoSleep', 'Cabin', 'Destination', 'Age',\n",
              "        'VIP', 'RoomService', 'FoodCourt', 'ShoppingMall', 'Spa', 'VRDeck',\n",
              "        'Name', 'gender'],\n",
              "       dtype='object'))"
            ]
          },
          "metadata": {},
          "execution_count": 69
        }
      ]
    },
    {
      "cell_type": "markdown",
      "source": [
        "# Checking NAN"
      ],
      "metadata": {
        "id": "zDMBBUJUDkg6"
      }
    },
    {
      "cell_type": "code",
      "source": [
        "from sklearn_utils import nan_statistics\n",
        "\n",
        "\n",
        "_ = nan_statistics(df_train)"
      ],
      "metadata": {
        "colab": {
          "base_uri": "https://localhost:8080/"
        },
        "id": "k7BBSgXxDj25",
        "outputId": "5614dcc6-a6c1-4600-e835-7566794423de"
      },
      "execution_count": null,
      "outputs": [
        {
          "output_type": "stream",
          "name": "stdout",
          "text": [
            "Col -- Nan percentage\n",
            "CryoSleep 2.4962613597147127\n",
            "ShoppingMall 2.392729782583688\n",
            "VIP 2.3352122397331185\n",
            "HomePlanet 2.312205222592891\n",
            "Name 2.300701714022777\n",
            "Cabin 2.289198205452663\n",
            "VRDeck 2.1626596111814105\n",
            "FoodCourt 2.105142068330841\n",
            "Spa 2.105142068330841\n",
            "Destination 2.093638559760727\n",
            "RoomService 2.082135051190613\n",
            "Age 2.0591280340503855\n"
          ]
        }
      ]
    },
    {
      "cell_type": "code",
      "source": [
        "_ = nan_statistics(df_test)"
      ],
      "metadata": {
        "colab": {
          "base_uri": "https://localhost:8080/"
        },
        "id": "IdxOYXpqDr9s",
        "outputId": "6b14cb74-d493-492a-cb23-029e38b167dd"
      },
      "execution_count": null,
      "outputs": [
        {
          "output_type": "stream",
          "name": "stdout",
          "text": [
            "Col -- Nan percentage\n",
            "FoodCourt 2.4783726911386488\n",
            "Spa 2.3614683189151275\n",
            "Cabin 2.338087444470423\n",
            "ShoppingMall 2.2913256955810146\n",
            "Name 2.197802197802198\n",
            "CryoSleep 2.1744213233574934\n",
            "VIP 2.1744213233574934\n",
            "Destination 2.1510404489127897\n",
            "Age 2.127659574468085\n",
            "HomePlanet 2.034136076689268\n",
            "RoomService 1.917231704465747\n",
            "VRDeck 1.8704699555763384\n"
          ]
        }
      ]
    },
    {
      "cell_type": "markdown",
      "source": [
        "# Check infinity values"
      ],
      "metadata": {
        "id": "UgATQKhiD1r6"
      }
    },
    {
      "cell_type": "code",
      "source": [
        "from sklearn_utils import inf_statistics\n",
        "\n",
        "\n",
        "inf_statistics(df_train)"
      ],
      "metadata": {
        "colab": {
          "base_uri": "https://localhost:8080/"
        },
        "id": "fYepxFaSHWBX",
        "outputId": "68e56c4b-af27-4668-f023-97108dd6400b"
      },
      "execution_count": null,
      "outputs": [
        {
          "output_type": "stream",
          "name": "stdout",
          "text": [
            "Age             0\n",
            "RoomService     0\n",
            "FoodCourt       0\n",
            "ShoppingMall    0\n",
            "Spa             0\n",
            "VRDeck          0\n",
            "dtype: int64\n"
          ]
        },
        {
          "output_type": "execute_result",
          "data": {
            "text/plain": [
              "Age             0\n",
              "RoomService     0\n",
              "FoodCourt       0\n",
              "ShoppingMall    0\n",
              "Spa             0\n",
              "VRDeck          0\n",
              "dtype: int64"
            ]
          },
          "metadata": {},
          "execution_count": 38
        }
      ]
    },
    {
      "cell_type": "code",
      "source": [
        "inf_statistics(df_test)"
      ],
      "metadata": {
        "colab": {
          "base_uri": "https://localhost:8080/"
        },
        "id": "a4gnAaNdHa79",
        "outputId": "aae1eb13-ae0a-4001-81e9-eac2d7373e4e"
      },
      "execution_count": null,
      "outputs": [
        {
          "output_type": "stream",
          "name": "stdout",
          "text": [
            "Age             0\n",
            "RoomService     0\n",
            "FoodCourt       0\n",
            "ShoppingMall    0\n",
            "Spa             0\n",
            "VRDeck          0\n",
            "dtype: int64\n"
          ]
        },
        {
          "output_type": "execute_result",
          "data": {
            "text/plain": [
              "Age             0\n",
              "RoomService     0\n",
              "FoodCourt       0\n",
              "ShoppingMall    0\n",
              "Spa             0\n",
              "VRDeck          0\n",
              "dtype: int64"
            ]
          },
          "metadata": {},
          "execution_count": 39
        }
      ]
    },
    {
      "cell_type": "code",
      "source": [
        "df_train.dtypes"
      ],
      "metadata": {
        "colab": {
          "base_uri": "https://localhost:8080/"
        },
        "id": "NTam716lHxSu",
        "outputId": "52022fb8-e89b-49cd-f598-1e92f034c36a"
      },
      "execution_count": null,
      "outputs": [
        {
          "output_type": "execute_result",
          "data": {
            "text/plain": [
              "PassengerId      object\n",
              "HomePlanet       object\n",
              "CryoSleep        object\n",
              "Cabin            object\n",
              "Destination      object\n",
              "Age             float64\n",
              "VIP              object\n",
              "RoomService     float64\n",
              "FoodCourt       float64\n",
              "ShoppingMall    float64\n",
              "Spa             float64\n",
              "VRDeck          float64\n",
              "Name             object\n",
              "Transported        bool\n",
              "dtype: object"
            ]
          },
          "metadata": {},
          "execution_count": 40
        }
      ]
    },
    {
      "cell_type": "markdown",
      "source": [
        "# Engineer new features"
      ],
      "metadata": {
        "id": "4kXo0uEftoJ7"
      }
    },
    {
      "cell_type": "markdown",
      "source": [
        "## Did a person buy any luxury service?"
      ],
      "metadata": {
        "id": "letMnuUcvzyv"
      }
    },
    {
      "cell_type": "code",
      "source": [
        "from sklearn.base import BaseEstimator, TransformerMixin\n",
        "\n",
        "\n",
        "class BoughtLuxuryItems(BaseEstimator, TransformerMixin):\n",
        "    def __init__(self):\n",
        "        super().__init__()\n",
        "\n",
        "    def fit(self, X, y=None):\n",
        "        return self\n",
        "\n",
        "    def transform(self, X, y=None):\n",
        "        transformed_df = X.copy()\n",
        "        transformed_df['BoughtAnyLuxury'] = \\\n",
        "            (transformed_df['ShoppingMall'] > 0.0) \\\n",
        "            | (transformed_df['FoodCourt'] > 0.0) \\\n",
        "            | (transformed_df['VRDeck'] > 0.0) \\\n",
        "            | (transformed_df['Spa'] > 0.0) \\\n",
        "            | (transformed_df['RoomService'] > 0.0)\n",
        "        return transformed_df\n",
        "\n",
        "\n",
        "pep8(_ih)"
      ],
      "metadata": {
        "id": "9SheE52xt7t0",
        "outputId": "cef318a1-fcfd-4ca6-c463-7adb982506cc",
        "colab": {
          "base_uri": "https://localhost:8080/"
        }
      },
      "execution_count": 70,
      "outputs": [
        {
          "output_type": "stream",
          "name": "stdout",
          "text": [
            "\n"
          ]
        }
      ]
    },
    {
      "cell_type": "code",
      "source": [
        "bought_luxury_items = BoughtLuxuryItems()\n",
        "\n",
        "df_train = bought_luxury_items.fit_transform(df_train)\n",
        "df_test = bought_luxury_items.transform(df_test)"
      ],
      "metadata": {
        "id": "d-xmG0yOvDDq"
      },
      "execution_count": 71,
      "outputs": []
    },
    {
      "cell_type": "markdown",
      "source": [
        "## DeckNum, DeckSide, Deck"
      ],
      "metadata": {
        "id": "rauJCcGiv3uP"
      }
    },
    {
      "cell_type": "code",
      "source": [
        "from sklearn.base import TransformerMixin, BaseEstimator\n",
        "\n",
        "\n",
        "class DeckNumAdder(TransformerMixin, BaseEstimator):\n",
        "    def __init__(self):\n",
        "        super().__init__()\n",
        "\n",
        "    def fit(self, X, y=None):\n",
        "        return self\n",
        "\n",
        "    def get_deck_num(self, deck):\n",
        "        if type(deck) is str:\n",
        "            split_items = deck.split('/')\n",
        "            return int(split_items[1])\n",
        "        else:\n",
        "            return 0\n",
        "\n",
        "    def transform(self, X, y=None):\n",
        "        df_transformed = X.copy()\n",
        "        df_transformed['DeckNum'] = df_transformed['Cabin'] \\\n",
        "            .map(self.get_deck_num)\n",
        "        return df_transformed\n",
        "\n",
        "\n",
        "pep8(_ih)"
      ],
      "metadata": {
        "id": "1VxWAFHiv73P",
        "outputId": "e304a561-eef1-4662-dfa4-d45853fa85a1",
        "colab": {
          "base_uri": "https://localhost:8080/"
        }
      },
      "execution_count": 72,
      "outputs": [
        {
          "output_type": "stream",
          "name": "stdout",
          "text": [
            "\n"
          ]
        }
      ]
    },
    {
      "cell_type": "code",
      "source": [
        "deck_num_adder = DeckNumAdder()\n",
        "df_train = deck_num_adder.fit_transform(df_train)\n",
        "df_test = deck_num_adder.transform(df_test)"
      ],
      "metadata": {
        "id": "WIUi4mQGwiiF"
      },
      "execution_count": 73,
      "outputs": []
    },
    {
      "cell_type": "code",
      "source": [
        "from sklearn.base import TransformerMixin, BaseEstimator\n",
        "\n",
        "\n",
        "class DeckSideAdder(TransformerMixin, BaseEstimator):\n",
        "    def __init__(self):\n",
        "        super().__init__()\n",
        "\n",
        "    def fit(self, X, y=None):\n",
        "        return self\n",
        "\n",
        "    def add_deck_side(self, val):\n",
        "        if type(val) is str:\n",
        "            return val.split('/')[2]\n",
        "        else:\n",
        "            return 'NOT ASSIGNED'\n",
        "\n",
        "    def transform(self, X, y=None):\n",
        "        df_transformed = X.copy()\n",
        "        df_transformed['DeckSide'] = df_transformed['Cabin'].map(\n",
        "            self.add_deck_side\n",
        "        )\n",
        "\n",
        "        del X\n",
        "        return df_transformed\n",
        "\n",
        "\n",
        "pep8(_ih)"
      ],
      "metadata": {
        "id": "1Nn7q4ySxqwY",
        "outputId": "d92c583a-1b59-4e43-c154-bf8bf8b86d15",
        "colab": {
          "base_uri": "https://localhost:8080/"
        }
      },
      "execution_count": 74,
      "outputs": [
        {
          "output_type": "stream",
          "name": "stdout",
          "text": [
            "\n"
          ]
        }
      ]
    },
    {
      "cell_type": "code",
      "source": [
        "deck_side_adder = DeckSideAdder()\n",
        "\n",
        "df_train = deck_side_adder.fit_transform(df_train)\n",
        "df_test = deck_side_adder.transform(df_test)"
      ],
      "metadata": {
        "id": "CXIJ8ZEBybuB"
      },
      "execution_count": 75,
      "outputs": []
    },
    {
      "cell_type": "code",
      "source": [
        "from sklearn.base import TransformerMixin, BaseEstimator\n",
        "\n",
        "\n",
        "class DeckAdder(TransformerMixin, BaseEstimator):\n",
        "    def __init__(self):\n",
        "        super().__init__()\n",
        "\n",
        "    def fit(self, X, y=None):\n",
        "        return self\n",
        "\n",
        "    def add_deck(self, val):\n",
        "        if type(val) is str:\n",
        "            return val.split('/')[0]\n",
        "        else:\n",
        "            return 'NOT ASSIGNED'\n",
        "\n",
        "    def transform(self, X, y=None):\n",
        "        transformed_df = X.copy()\n",
        "        transformed_df['Deck'] = transformed_df['Cabin'].map(\n",
        "            self.add_deck\n",
        "        )\n",
        "        del X\n",
        "        return transformed_df\n",
        "\n",
        "\n",
        "pep8(_ih)"
      ],
      "metadata": {
        "id": "ZcGKlYMo0ZvK",
        "outputId": "096948db-a77d-4b5a-87ce-7b4e8c7342f8",
        "colab": {
          "base_uri": "https://localhost:8080/"
        }
      },
      "execution_count": 76,
      "outputs": [
        {
          "output_type": "stream",
          "name": "stdout",
          "text": [
            "\n"
          ]
        }
      ]
    },
    {
      "cell_type": "code",
      "source": [
        "deck_adder = DeckAdder()\n",
        "df_train = deck_adder.fit_transform(df_train)\n",
        "df_test = deck_adder.transform(df_test)"
      ],
      "metadata": {
        "id": "GW6PEcNc1Elp"
      },
      "execution_count": 77,
      "outputs": []
    },
    {
      "cell_type": "markdown",
      "source": [
        "## PassengerGroup, PassengerPosition, SingleInGroup, GroupSize\n",
        "\n"
      ],
      "metadata": {
        "id": "aOoMckukLruj"
      }
    },
    {
      "cell_type": "code",
      "source": [
        "from sklearn.base import TransformerMixin, BaseEstimator\n",
        "\n",
        "\n",
        "class PassengerGroupAdder(TransformerMixin, BaseEstimator):\n",
        "    def __init__(self):\n",
        "        super().__init__()\n",
        "\n",
        "    def fit(self, X, y=None):\n",
        "        return self\n",
        "\n",
        "    def get_passenger_group(self, val):\n",
        "        if val is not np.nan:\n",
        "            return int(val.split('_')[0])\n",
        "        else:\n",
        "            return val\n",
        "\n",
        "    def transform(self, X, y=None):\n",
        "        transformed_df = X.copy()\n",
        "        transformed_df['PassengerGroup'] = \\\n",
        "            X['PassengerId'].map(self.get_passenger_group)\n",
        "        del X\n",
        "        return transformed_df\n",
        "\n",
        "\n",
        "pep8(_ih)"
      ],
      "metadata": {
        "id": "Nr0rLxreL3F8",
        "outputId": "877fcc28-530c-4864-f8e9-4dcc2dbef1a5",
        "colab": {
          "base_uri": "https://localhost:8080/"
        }
      },
      "execution_count": 78,
      "outputs": [
        {
          "output_type": "stream",
          "name": "stdout",
          "text": [
            "\n"
          ]
        }
      ]
    },
    {
      "cell_type": "code",
      "source": [
        "group_adder = PassengerGroupAdder()\n",
        "df_train = group_adder.fit_transform(df_train)\n",
        "df_test = group_adder.transform(df_test)"
      ],
      "metadata": {
        "id": "YtHbVUDrM8uK"
      },
      "execution_count": 79,
      "outputs": []
    },
    {
      "cell_type": "code",
      "source": [
        "from sklearn.base import TransformerMixin, BaseEstimator\n",
        "\n",
        "\n",
        "class PassengerPositionAdder(TransformerMixin, BaseEstimator):\n",
        "    def __init__(self):\n",
        "        super().__init__()\n",
        "\n",
        "    def fit(self, X, y=None):\n",
        "        return self\n",
        "\n",
        "    def get_position(self, val):\n",
        "        return int(val.split('_')[1])\n",
        "    \n",
        "    def transform(self, X, y=None):\n",
        "        # df_transformed = X.copy()\n",
        "        # del X\n",
        "        X['PassengerGroupPosition'] = \\\n",
        "            X['PassengerId'].map(self.get_position)\n",
        "        return X"
      ],
      "metadata": {
        "id": "WniLnAnPNGNb"
      },
      "execution_count": 80,
      "outputs": []
    },
    {
      "cell_type": "code",
      "source": [
        "position_adder = PassengerPositionAdder()\n",
        "df_train = position_adder.fit_transform(df_train)\n",
        "df_test = position_adder.transform(df_test)"
      ],
      "metadata": {
        "id": "XNLMEaPKOHOg"
      },
      "execution_count": 81,
      "outputs": []
    },
    {
      "cell_type": "code",
      "source": [
        "from sklearn.base import TransformerMixin, BaseEstimator\n",
        "\n",
        "\n",
        "class GroupSizeAdder(BaseEstimator, TransformerMixin):\n",
        "    def __init__(self):\n",
        "        super().__init__()\n",
        "        self.value_counts = None\n",
        "\n",
        "    def fit(self, X, y=None):\n",
        "        self.value_counts = X['PassengerGroup'].value_counts()\n",
        "        return self\n",
        "\n",
        "    def get_group_size(self, val):\n",
        "        return self.value_counts.loc[val]\n",
        "\n",
        "    def transform(self, X, y=None):\n",
        "        X['GroupSize'] = \\\n",
        "            X['PassengerGroup'].map(self.get_group_size)\n",
        "        X['AloneInGroup'] = X['GroupSize'] == 1\n",
        "        return X\n",
        "    "
      ],
      "metadata": {
        "id": "BRtbjS_pOfsf"
      },
      "execution_count": 82,
      "outputs": []
    },
    {
      "cell_type": "code",
      "source": [
        "adder = GroupSizeAdder()\n",
        "df_train = adder.fit_transform(df_train)\n",
        "\n",
        "# Fit transform on test, because\n",
        "# contains group numbers, not present in df_train\n",
        "df_test = adder.fit_transform(df_test)"
      ],
      "metadata": {
        "id": "9Nl0foY7PIiQ"
      },
      "execution_count": 83,
      "outputs": []
    },
    {
      "cell_type": "markdown",
      "source": [
        "## Total spend"
      ],
      "metadata": {
        "id": "QXSNQ_aDmF2R"
      }
    },
    {
      "cell_type": "code",
      "source": [
        "from sklearn.base import BaseEstimator, TransformerMixin\n",
        "\n",
        "\n",
        "class TotalSpender(BaseEstimator, TransformerMixin):\n",
        "    def __init__(self):\n",
        "        super().__init__()\n",
        "\n",
        "    def fit(self, X, y=None):\n",
        "        return self\n",
        "    \n",
        "    def transform(self, X, y=None):\n",
        "        X['TotalSpend'] = \\\n",
        "            X['Spa'] \\\n",
        "            + X['FoodCourt'] \\\n",
        "            + X['VRDeck'] \\\n",
        "            + X['RoomService'] \\\n",
        "            + X['ShoppingMall']\n",
        "        return X"
      ],
      "metadata": {
        "id": "M8y64qD9mJ6y"
      },
      "execution_count": 84,
      "outputs": []
    },
    {
      "cell_type": "code",
      "source": [
        "total_spend_adder = TotalSpender()\n",
        "\n",
        "df_train = total_spend_adder.fit_transform(df_train)\n",
        "df_test = total_spend_adder.transform(df_test)"
      ],
      "metadata": {
        "id": "VKqhcYIFmm2_"
      },
      "execution_count": 85,
      "outputs": []
    },
    {
      "cell_type": "code",
      "source": [
        "assert 'TotalSpend' in df_train.columns and 'TotalSpend' in df_test.columns\n",
        "\n",
        "df_train['TotalSpend'].head(), df_test['TotalSpend'].head()"
      ],
      "metadata": {
        "colab": {
          "base_uri": "https://localhost:8080/"
        },
        "id": "M4atxbGpm0At",
        "outputId": "5ae6a827-a6ab-41d6-a13c-d4ddf6213e9c"
      },
      "execution_count": 86,
      "outputs": [
        {
          "output_type": "execute_result",
          "data": {
            "text/plain": [
              "(0        0.0\n",
              " 1      736.0\n",
              " 2    10383.0\n",
              " 3     5176.0\n",
              " 4     1091.0\n",
              " Name: TotalSpend, dtype: float64, 0       0.0\n",
              " 1    2832.0\n",
              " 2       0.0\n",
              " 3    7418.0\n",
              " 4     645.0\n",
              " Name: TotalSpend, dtype: float64)"
            ]
          },
          "metadata": {},
          "execution_count": 86
        }
      ]
    },
    {
      "cell_type": "markdown",
      "source": [
        "## Total spend categorized"
      ],
      "metadata": {
        "id": "VwuvYBUpnJlJ"
      }
    },
    {
      "cell_type": "code",
      "source": [
        "def categorize_total_spend(dfs_):\n",
        "    for df_ in dfs_:\n",
        "        df_['Spend_Category'] = ''\n",
        "        df_.loc[df_['TotalSpend'].between(0, 1, 'left'), 'Spend_Category'] = \\\n",
        "            'Zero_Spend'\n",
        "        df_.loc[df_['TotalSpend'].between(1, 800, 'both'), 'Spend_Category'] = \\\n",
        "            'Under_800'\n",
        "        df_.loc[df_['TotalSpend'].between(800, 1200, 'right'), 'Spend_Category'] = \\\n",
        "            'Median_1200'\n",
        "        df_.loc[df_['TotalSpend'].between(1200, 2700, 'right'), 'Spend_Category'] = \\\n",
        "            'Upper_2700'\n",
        "        df_.loc[df_['TotalSpend'].between(2700, 100000, 'right'), 'Spend_Category'] = \\\n",
        "            'Big_Spender'\n",
        "\n",
        "        df_['Spend_Category'] = \\\n",
        "            df_['Spend_Category'].astype('category')\n",
        "\n",
        "categorize_total_spend([df_train, df_test])"
      ],
      "metadata": {
        "id": "ct5is2W_nM1z"
      },
      "execution_count": 87,
      "outputs": []
    },
    {
      "cell_type": "code",
      "source": [
        "df_train.Spend_Category.value_counts(), \\\n",
        "    df_test.Spend_Category.value_counts()"
      ],
      "metadata": {
        "colab": {
          "base_uri": "https://localhost:8080/"
        },
        "id": "Vjj-L-k8n5Wo",
        "outputId": "e7631695-d2bd-4dd4-b9eb-c2e2f4ae9b0e"
      },
      "execution_count": 88,
      "outputs": [
        {
          "output_type": "execute_result",
          "data": {
            "text/plain": [
              "(Zero_Spend     3247\n",
              " Upper_2700     1172\n",
              " Median_1200    1157\n",
              " Big_Spender    1134\n",
              " Under_800      1075\n",
              "                 908\n",
              " Name: Spend_Category, dtype: int64, Zero_Spend     1611\n",
              " Upper_2700      649\n",
              " Median_1200     530\n",
              " Under_800       529\n",
              " Big_Spender     503\n",
              "                 455\n",
              " Name: Spend_Category, dtype: int64)"
            ]
          },
          "metadata": {},
          "execution_count": 88
        }
      ]
    },
    {
      "cell_type": "markdown",
      "source": [
        "## Categorized Age"
      ],
      "metadata": {
        "id": "9u5HyuydoNyg"
      }
    },
    {
      "cell_type": "code",
      "source": [
        "def categorize_age(dfs_):\n",
        "    for df in dfs_:\n",
        "        df['AgeGroup'] = np.nan\n",
        "        df.loc[df['Age'].between(0, 10, 'both'), 'AgeGroup'] = 'Kids'\n",
        "        df.loc[df['Age'].between(10, 18, 'right'), 'AgeGroup'] = 'Teens'\n",
        "        df.loc[df['Age'].between(18, 35, 'right'), 'AgeGroup'] = 'Middle'\n",
        "        df.loc[df['Age'].between(35, 50, 'right'), 'AgeGroup'] = 'Senior'\n",
        "        df.loc[df['Age'].between(50, 100, 'right'), 'AgeGroup'] = 'Old'\n",
        "\n",
        "categorize_age(\n",
        "    [df_train, df_test]\n",
        ")"
      ],
      "metadata": {
        "id": "H8lS6fProP5p"
      },
      "execution_count": 89,
      "outputs": []
    },
    {
      "cell_type": "code",
      "source": [
        "assert 'AgeGroup' in df_train.columns and 'AgeGroup' in df_test.columns\n",
        "\n",
        "df_train.AgeGroup.value_counts(normalize=True)"
      ],
      "metadata": {
        "colab": {
          "base_uri": "https://localhost:8080/"
        },
        "id": "SsIqzt-0pJjn",
        "outputId": "8ce85b79-54ed-4aa5-d57c-d60552e3572c"
      },
      "execution_count": 90,
      "outputs": [
        {
          "output_type": "execute_result",
          "data": {
            "text/plain": [
              "Middle    0.485788\n",
              "Senior    0.208598\n",
              "Teens     0.134719\n",
              "Old       0.086563\n",
              "Kids      0.084332\n",
              "Name: AgeGroup, dtype: float64"
            ]
          },
          "metadata": {},
          "execution_count": 90
        }
      ]
    },
    {
      "cell_type": "code",
      "source": [
        "from sklearn_utils import nan_statistics\n",
        "\n",
        "\n",
        "_ = nan_statistics(df_train[['AgeGroup']])"
      ],
      "metadata": {
        "colab": {
          "base_uri": "https://localhost:8080/"
        },
        "id": "wfAdwli6pgA0",
        "outputId": "bf7473a4-1b2f-4b58-e9d0-f403306c1386"
      },
      "execution_count": 91,
      "outputs": [
        {
          "output_type": "stream",
          "name": "stdout",
          "text": [
            "Col -- Nan percentage\n",
            "AgeGroup 2.0591280340503855\n"
          ]
        }
      ]
    },
    {
      "cell_type": "markdown",
      "source": [
        "## Total spend per group"
      ],
      "metadata": {
        "id": "Ycrerii7q-Wj"
      }
    },
    {
      "cell_type": "code",
      "source": [
        "from sklearn.base import BaseEstimator, TransformerMixin\n",
        "\n",
        "\n",
        "class PerGroupSpender(BaseEstimator, TransformerMixin):\n",
        "    def __init__(self):\n",
        "        super().__init__()\n",
        "        self.total_spend_per_group_data = {}\n",
        "\n",
        "    def fit(self, X, y=None):\n",
        "        unique_groups = X['PassengerGroup'].unique()\n",
        "\n",
        "        for unique_group in unique_groups:\n",
        "            group_subset = X.loc[\n",
        "                X['PassengerGroup'] == unique_group,\n",
        "                ['TotalSpend']\n",
        "            ]\n",
        "            total_spend_per_group = \\\n",
        "                group_subset.fillna(group_subset.median()).sum() \\\n",
        "                / len(group_subset)\n",
        "\n",
        "            self.total_spend_per_group_data[unique_group] = \\\n",
        "                total_spend_per_group\n",
        "        return self\n",
        "\n",
        "    def transform(self, X, y=None):\n",
        "        X['TotalSpendPerGroup'] = \\\n",
        "            X['PassengerGroup'].map(\n",
        "                lambda val: self.total_spend_per_group_data[val][0])\n",
        "        return X\n",
        "\n",
        "\n",
        "pep8(_ih)"
      ],
      "metadata": {
        "id": "O4nUgQ5NrNfY",
        "outputId": "8ed57e08-4845-4ed2-de62-a8503457904f",
        "colab": {
          "base_uri": "https://localhost:8080/"
        }
      },
      "execution_count": 92,
      "outputs": [
        {
          "output_type": "stream",
          "name": "stdout",
          "text": [
            "\n"
          ]
        }
      ]
    },
    {
      "cell_type": "code",
      "source": [
        "per_group_spender = PerGroupSpender()\n",
        "df_train = per_group_spender.fit_transform(df_train)"
      ],
      "metadata": {
        "id": "cjFa1HFLstub"
      },
      "execution_count": 93,
      "outputs": []
    },
    {
      "cell_type": "code",
      "source": [
        "df_train['TotalSpendPerGroup'].hist(bins=25)"
      ],
      "metadata": {
        "id": "MIehWJCytLUz",
        "outputId": "2552a65a-a009-4b8e-cecb-6f09b8833597",
        "colab": {
          "base_uri": "https://localhost:8080/",
          "height": 283
        }
      },
      "execution_count": 95,
      "outputs": [
        {
          "output_type": "execute_result",
          "data": {
            "text/plain": [
              "<matplotlib.axes._subplots.AxesSubplot at 0x7f54e4153f90>"
            ]
          },
          "metadata": {},
          "execution_count": 95
        },
        {
          "output_type": "display_data",
          "data": {
            "text/plain": [
              "<Figure size 432x288 with 1 Axes>"
            ],
            "image/png": "[encoded data removed]"
          },
          "metadata": {
            "needs_background": "light"
          }
        }
      ]
    },
    {
      "cell_type": "code",
      "source": [
        "# Yes, fit_transform on the test data, because\n",
        "# test set can contain other groups\n",
        "df_test = per_group_spender.fit_transform(df_test)"
      ],
      "metadata": {
        "id": "KYGRxRrVtIun"
      },
      "execution_count": 96,
      "outputs": []
    },
    {
      "cell_type": "markdown",
      "source": [
        "## Is from spendless group?"
      ],
      "metadata": {
        "id": "1qyY-uisuzCF"
      }
    },
    {
      "cell_type": "code",
      "source": [
        "feature = 'IsFromSpendlessGroup'\n",
        "df_train[feature] = df_train['TotalSpendPerGroup'] == 0\n",
        "df_test[feature] = df_test['TotalSpendPerGroup'] == 0"
      ],
      "metadata": {
        "id": "pazEsbHqu3fU"
      },
      "execution_count": 97,
      "outputs": []
    },
    {
      "cell_type": "code",
      "source": [
        "df_train.head()"
      ],
      "metadata": {
        "id": "hq3GvjiEvJc-",
        "outputId": "48750e42-6db5-4ece-a950-ccf50f8eb9ca",
        "colab": {
          "base_uri": "https://localhost:8080/",
          "height": 386
        }
      },
      "execution_count": 98,
      "outputs": [
        {
          "output_type": "execute_result",
          "data": {
            "text/plain": [
              "  PassengerId HomePlanet CryoSleep  Cabin  Destination   Age    VIP  \\\n",
              "0     0001_01     Europa     False  B/0/P  TRAPPIST-1e  39.0  False   \n",
              "1     0002_01      Earth     False  F/0/S  TRAPPIST-1e  24.0  False   \n",
              "2     0003_01     Europa     False  A/0/S  TRAPPIST-1e  58.0   True   \n",
              "3     0003_02     Europa     False  A/0/S  TRAPPIST-1e  33.0  False   \n",
              "4     0004_01      Earth     False  F/1/S  TRAPPIST-1e  16.0  False   \n",
              "\n",
              "   RoomService  FoodCourt  ShoppingMall  ...  Deck  PassengerGroup  \\\n",
              "0          0.0        0.0           0.0  ...     B               1   \n",
              "1        109.0        9.0          25.0  ...     F               2   \n",
              "2         43.0     3576.0           0.0  ...     A               3   \n",
              "3          0.0     1283.0         371.0  ...     A               3   \n",
              "4        303.0       70.0         151.0  ...     F               4   \n",
              "\n",
              "  PassengerGroupPosition  GroupSize  AloneInGroup  TotalSpend  Spend_Category  \\\n",
              "0                      1          1          True         0.0      Zero_Spend   \n",
              "1                      1          1          True       736.0       Under_800   \n",
              "2                      1          2         False     10383.0     Big_Spender   \n",
              "3                      2          2         False      5176.0     Big_Spender   \n",
              "4                      1          1          True      1091.0     Median_1200   \n",
              "\n",
              "  AgeGroup TotalSpendPerGroup  IsFromSpendlessGroup  \n",
              "0   Senior                0.0                  True  \n",
              "1   Middle              736.0                 False  \n",
              "2      Old             7779.5                 False  \n",
              "3   Middle             7779.5                 False  \n",
              "4    Teens             1091.0                 False  \n",
              "\n",
              "[5 rows x 28 columns]"
            ],
            "text/html": [
              "\n",
              "  <div id=\"df-eb418cbb-027b-40b7-bee1-3f6cb3b51479\">\n",
              "    <div class=\"colab-df-container\">\n",
              "      <div>\n",
              "<style scoped>\n",
              "    .dataframe tbody tr th:only-of-type {\n",
              "        vertical-align: middle;\n",
              "    }\n",
              "\n",
              "    .dataframe tbody tr th {\n",
              "        vertical-align: top;\n",
              "    }\n",
              "\n",
              "    .dataframe thead th {\n",
              "        text-align: right;\n",
              "    }\n",
              "</style>\n",
              "<table border=\"1\" class=\"dataframe\">\n",
              "  <thead>\n",
              "    <tr style=\"text-align: right;\">\n",
              "      <th></th>\n",
              "      <th>PassengerId</th>\n",
              "      <th>HomePlanet</th>\n",
              "      <th>CryoSleep</th>\n",
              "      <th>Cabin</th>\n",
              "      <th>Destination</th>\n",
              "      <th>Age</th>\n",
              "      <th>VIP</th>\n",
              "      <th>RoomService</th>\n",
              "      <th>FoodCourt</th>\n",
              "      <th>ShoppingMall</th>\n",
              "      <th>...</th>\n",
              "      <th>Deck</th>\n",
              "      <th>PassengerGroup</th>\n",
              "      <th>PassengerGroupPosition</th>\n",
              "      <th>GroupSize</th>\n",
              "      <th>AloneInGroup</th>\n",
              "      <th>TotalSpend</th>\n",
              "      <th>Spend_Category</th>\n",
              "      <th>AgeGroup</th>\n",
              "      <th>TotalSpendPerGroup</th>\n",
              "      <th>IsFromSpendlessGroup</th>\n",
              "    </tr>\n",
              "  </thead>\n",
              "  <tbody>\n",
              "    <tr>\n",
              "      <th>0</th>\n",
              "      <td>0001_01</td>\n",
              "      <td>Europa</td>\n",
              "      <td>False</td>\n",
              "      <td>B/0/P</td>\n",
              "      <td>TRAPPIST-1e</td>\n",
              "      <td>39.0</td>\n",
              "      <td>False</td>\n",
              "      <td>0.0</td>\n",
              "      <td>0.0</td>\n",
              "      <td>0.0</td>\n",
              "      <td>...</td>\n",
              "      <td>B</td>\n",
              "      <td>1</td>\n",
              "      <td>1</td>\n",
              "      <td>1</td>\n",
              "      <td>True</td>\n",
              "      <td>0.0</td>\n",
              "      <td>Zero_Spend</td>\n",
              "      <td>Senior</td>\n",
              "      <td>0.0</td>\n",
              "      <td>True</td>\n",
              "    </tr>\n",
              "    <tr>\n",
              "      <th>1</th>\n",
              "      <td>0002_01</td>\n",
              "      <td>Earth</td>\n",
              "      <td>False</td>\n",
              "      <td>F/0/S</td>\n",
              "      <td>TRAPPIST-1e</td>\n",
              "      <td>24.0</td>\n",
              "      <td>False</td>\n",
              "      <td>109.0</td>\n",
              "      <td>9.0</td>\n",
              "      <td>25.0</td>\n",
              "      <td>...</td>\n",
              "      <td>F</td>\n",
              "      <td>2</td>\n",
              "      <td>1</td>\n",
              "      <td>1</td>\n",
              "      <td>True</td>\n",
              "      <td>736.0</td>\n",
              "      <td>Under_800</td>\n",
              "      <td>Middle</td>\n",
              "      <td>736.0</td>\n",
              "      <td>False</td>\n",
              "    </tr>\n",
              "    <tr>\n",
              "      <th>2</th>\n",
              "      <td>0003_01</td>\n",
              "      <td>Europa</td>\n",
              "      <td>False</td>\n",
              "      <td>A/0/S</td>\n",
              "      <td>TRAPPIST-1e</td>\n",
              "      <td>58.0</td>\n",
              "      <td>True</td>\n",
              "      <td>43.0</td>\n",
              "      <td>3576.0</td>\n",
              "      <td>0.0</td>\n",
              "      <td>...</td>\n",
              "      <td>A</td>\n",
              "      <td>3</td>\n",
              "      <td>1</td>\n",
              "      <td>2</td>\n",
              "      <td>False</td>\n",
              "      <td>10383.0</td>\n",
              "      <td>Big_Spender</td>\n",
              "      <td>Old</td>\n",
              "      <td>7779.5</td>\n",
              "      <td>False</td>\n",
              "    </tr>\n",
              "    <tr>\n",
              "      <th>3</th>\n",
              "      <td>0003_02</td>\n",
              "      <td>Europa</td>\n",
              "      <td>False</td>\n",
              "      <td>A/0/S</td>\n",
              "      <td>TRAPPIST-1e</td>\n",
              "      <td>33.0</td>\n",
              "      <td>False</td>\n",
              "      <td>0.0</td>\n",
              "      <td>1283.0</td>\n",
              "      <td>371.0</td>\n",
              "      <td>...</td>\n",
              "      <td>A</td>\n",
              "      <td>3</td>\n",
              "      <td>2</td>\n",
              "      <td>2</td>\n",
              "      <td>False</td>\n",
              "      <td>5176.0</td>\n",
              "      <td>Big_Spender</td>\n",
              "      <td>Middle</td>\n",
              "      <td>7779.5</td>\n",
              "      <td>False</td>\n",
              "    </tr>\n",
              "    <tr>\n",
              "      <th>4</th>\n",
              "      <td>0004_01</td>\n",
              "      <td>Earth</td>\n",
              "      <td>False</td>\n",
              "      <td>F/1/S</td>\n",
              "      <td>TRAPPIST-1e</td>\n",
              "      <td>16.0</td>\n",
              "      <td>False</td>\n",
              "      <td>303.0</td>\n",
              "      <td>70.0</td>\n",
              "      <td>151.0</td>\n",
              "      <td>...</td>\n",
              "      <td>F</td>\n",
              "      <td>4</td>\n",
              "      <td>1</td>\n",
              "      <td>1</td>\n",
              "      <td>True</td>\n",
              "      <td>1091.0</td>\n",
              "      <td>Median_1200</td>\n",
              "      <td>Teens</td>\n",
              "      <td>1091.0</td>\n",
              "      <td>False</td>\n",
              "    </tr>\n",
              "  </tbody>\n",
              "</table>\n",
              "<p>5 rows × 28 columns</p>\n",
              "</div>\n",
              "      <button class=\"colab-df-convert\" onclick=\"convertToInteractive('df-eb418cbb-027b-40b7-bee1-3f6cb3b51479')\"\n",
              "              title=\"Convert this dataframe to an interactive table.\"\n",
              "              style=\"display:none;\">\n",
              "        \n",
              "  <svg xmlns=\"http://www.w3.org/2000/svg\" height=\"24px\"viewBox=\"0 0 24 24\"\n",
              "       width=\"24px\">\n",
              "    <path d=\"M0 0h24v24H0V0z\" fill=\"none\"/>\n",
              "    <path d=\"M18.56 5.44l.94 2.06.94-2.06 2.06-.94-2.06-.94-.94-2.06-.94 2.06-2.06.94zm-11 1L8.5 8.5l.94-2.06 2.06-.94-2.06-.94L8.5 2.5l-.94 2.06-2.06.94zm10 10l.94 2.06.94-2.06 2.06-.94-2.06-.94-.94-2.06-.94 2.06-2.06.94z\"/><path d=\"M17.41 7.96l-1.37-1.37c-.4-.4-.92-.59-1.43-.59-.52 0-1.04.2-1.43.59L10.3 9.45l-7.72 7.72c-.78.78-.78 2.05 0 2.83L4 21.41c.39.39.9.59 1.41.59.51 0 1.02-.2 1.41-.59l7.78-7.78 2.81-2.81c.8-.78.8-2.07 0-2.86zM5.41 20L4 18.59l7.72-7.72 1.47 1.35L5.41 20z\"/>\n",
              "  </svg>\n",
              "      </button>\n",
              "      \n",
              "  <style>\n",
              "    .colab-df-container {\n",
              "      display:flex;\n",
              "      flex-wrap:wrap;\n",
              "      gap: 12px;\n",
              "    }\n",
              "\n",
              "    .colab-df-convert {\n",
              "      background-color: #E8F0FE;\n",
              "      border: none;\n",
              "      border-radius: 50%;\n",
              "      cursor: pointer;\n",
              "      display: none;\n",
              "      fill: #1967D2;\n",
              "      height: 32px;\n",
              "      padding: 0 0 0 0;\n",
              "      width: 32px;\n",
              "    }\n",
              "\n",
              "    .colab-df-convert:hover {\n",
              "      background-color: #E2EBFA;\n",
              "      box-shadow: 0px 1px 2px rgba(60, 64, 67, 0.3), 0px 1px 3px 1px rgba(60, 64, 67, 0.15);\n",
              "      fill: #174EA6;\n",
              "    }\n",
              "\n",
              "    [theme=dark] .colab-df-convert {\n",
              "      background-color: #3B4455;\n",
              "      fill: #D2E3FC;\n",
              "    }\n",
              "\n",
              "    [theme=dark] .colab-df-convert:hover {\n",
              "      background-color: #434B5C;\n",
              "      box-shadow: 0px 1px 3px 1px rgba(0, 0, 0, 0.15);\n",
              "      filter: drop-shadow(0px 1px 2px rgba(0, 0, 0, 0.3));\n",
              "      fill: #FFFFFF;\n",
              "    }\n",
              "  </style>\n",
              "\n",
              "      <script>\n",
              "        const buttonEl =\n",
              "          document.querySelector('#df-eb418cbb-027b-40b7-bee1-3f6cb3b51479 button.colab-df-convert');\n",
              "        buttonEl.style.display =\n",
              "          google.colab.kernel.accessAllowed ? 'block' : 'none';\n",
              "\n",
              "        async function convertToInteractive(key) {\n",
              "          const element = document.querySelector('#df-eb418cbb-027b-40b7-bee1-3f6cb3b51479');\n",
              "          const dataTable =\n",
              "            await google.colab.kernel.invokeFunction('convertToInteractive',\n",
              "                                                     [key], {});\n",
              "          if (!dataTable) return;\n",
              "\n",
              "          const docLinkHtml = 'Like what you see? Visit the ' +\n",
              "            '<a target=\"_blank\" href=https://colab.research.google.com/notebooks/data_table.ipynb>data table notebook</a>'\n",
              "            + ' to learn more about interactive tables.';\n",
              "          element.innerHTML = '';\n",
              "          dataTable['output_type'] = 'display_data';\n",
              "          await google.colab.output.renderOutput(dataTable, element);\n",
              "          const docLink = document.createElement('div');\n",
              "          docLink.innerHTML = docLinkHtml;\n",
              "          element.appendChild(docLink);\n",
              "        }\n",
              "      </script>\n",
              "    </div>\n",
              "  </div>\n",
              "  "
            ]
          },
          "metadata": {},
          "execution_count": 98
        }
      ]
    },
    {
      "cell_type": "markdown",
      "source": [
        "# Clean outliers"
      ],
      "metadata": {
        "id": "Uqant71Jqad9"
      }
    },
    {
      "cell_type": "code",
      "source": [
        "df_train.TotalSpendPerGroup.hist()"
      ],
      "metadata": {
        "id": "PWeCjsyZvnSf",
        "outputId": "1b7e2ba3-d04b-4ae2-f8ce-b2e3fcd1174f",
        "colab": {
          "base_uri": "https://localhost:8080/",
          "height": 283
        }
      },
      "execution_count": 104,
      "outputs": [
        {
          "output_type": "execute_result",
          "data": {
            "text/plain": [
              "<matplotlib.axes._subplots.AxesSubplot at 0x7f54e2c51690>"
            ]
          },
          "metadata": {},
          "execution_count": 104
        },
        {
          "output_type": "display_data",
          "data": {
            "text/plain": [
              "<Figure size 432x288 with 1 Axes>"
            ],
            "image/png": "[encoded data removed]"
          },
          "metadata": {
            "needs_background": "light"
          }
        }
      ]
    },
    {
      "cell_type": "code",
      "source": [
        "df_train.columns"
      ],
      "metadata": {
        "id": "HWsTH95rvaAW",
        "outputId": "73881a5f-07f9-4cc5-e2d0-ac4b2525499c",
        "colab": {
          "base_uri": "https://localhost:8080/"
        }
      },
      "execution_count": 102,
      "outputs": [
        {
          "output_type": "execute_result",
          "data": {
            "text/plain": [
              "Index(['PassengerId', 'HomePlanet', 'CryoSleep', 'Cabin', 'Destination', 'Age',\n",
              "       'VIP', 'RoomService', 'FoodCourt', 'ShoppingMall', 'Spa', 'VRDeck',\n",
              "       'Name', 'Transported', 'gender', 'BoughtAnyLuxury', 'DeckNum',\n",
              "       'DeckSide', 'Deck', 'PassengerGroup', 'PassengerGroupPosition',\n",
              "       'GroupSize', 'AloneInGroup', 'TotalSpend', 'Spend_Category', 'AgeGroup',\n",
              "       'TotalSpendPerGroup', 'IsFromSpendlessGroup'],\n",
              "      dtype='object')"
            ]
          },
          "metadata": {},
          "execution_count": 102
        }
      ]
    },
    {
      "cell_type": "code",
      "source": [
        "from sklearn_transformers import OutlierCleaner\n",
        "\n",
        "columns_to_clean = [\n",
        "        'VRDeck',\n",
        "        'Spa',\n",
        "        'RoomService',\n",
        "        'FoodCourt',\n",
        "        'ShoppingMall',\n",
        "        'TotalSpend',\n",
        "        'TotalSpendPerGroup'\n",
        "]\n",
        "\n",
        "cleaner = OutlierCleaner(\n",
        "    columns_to_clean,\n",
        "    lower_quantile_=0.05,\n",
        "    upper_quantile_=0.95\n",
        ")"
      ],
      "metadata": {
        "id": "NNd8aE7Yto96"
      },
      "execution_count": 107,
      "outputs": []
    },
    {
      "cell_type": "code",
      "source": [
        "df_result = cleaner.fit_transform(df_train)\n",
        "\n",
        "import matplotlib.pyplot as plt\n",
        "for column in columns_to_clean:\n",
        "    fig, ax = plt.subplots(2, 1)\n",
        "    df_train.boxplot([column], ax=ax[0])\n",
        "    df_result.boxplot([column], ax=ax[1])"
      ],
      "metadata": {
        "colab": {
          "base_uri": "https://localhost:8080/",
          "height": 1000
        },
        "id": "HggHr03srpgZ",
        "outputId": "e37bce04-6217-4055-83f2-1b83dfc96076"
      },
      "execution_count": 106,
      "outputs": [
        {
          "output_type": "display_data",
          "data": {
            "text/plain": [
              "<Figure size 432x288 with 2 Axes>"
            ],
            "image/png": "[encoded data removed]"
          },
          "metadata": {
            "needs_background": "light"
          }
        },
        {
          "output_type": "display_data",
          "data": {
            "text/plain": [
              "<Figure size 432x288 with 2 Axes>"
            ],
            "image/png": "[encoded data removed]"
          },
          "metadata": {
            "needs_background": "light"
          }
        },
        {
          "output_type": "display_data",
          "data": {
            "text/plain": [
              "<Figure size 432x288 with 2 Axes>"
            ],
            "image/png": "[encoded data removed]"
          },
          "metadata": {
            "needs_background": "light"
          }
        },
        {
          "output_type": "display_data",
          "data": {
            "text/plain": [
              "<Figure size 432x288 with 2 Axes>"
            ],
            "image/png": "[encoded data removed]"
          },
          "metadata": {
            "needs_background": "light"
          }
        },
        {
          "output_type": "display_data",
          "data": {
            "text/plain": [
              "<Figure size 432x288 with 2 Axes>"
            ],
            "image/png": "[encoded data removed]"
          },
          "metadata": {
            "needs_background": "light"
          }
        }
      ]
    },
    {
      "cell_type": "code",
      "source": [
        "df_train = cleaner.fit_transform(df_train)\n",
        "df_test = cleaner.transform(df_test)"
      ],
      "metadata": {
        "id": "1QvQx86Etyy0"
      },
      "execution_count": 101,
      "outputs": []
    },
    {
      "cell_type": "markdown",
      "source": [
        "# Reduce number precision"
      ],
      "metadata": {
        "id": "_SQMqOX3IEa5"
      }
    },
    {
      "cell_type": "code",
      "source": [
        "def reduce_precision(\n",
        "    df_,\n",
        "    original_dtypes_=['float64'],\n",
        "    transcription_dict_={\n",
        "        'float64': 'float32',\n",
        "        'int64': 'int32'\n",
        "    }\n",
        "):\n",
        "    '''\n",
        "    For every column, that has a dtype in original_dtypes\n",
        "    list --> it changes the original dtype, according to\n",
        "    the transcription_dict_\n",
        "    '''\n",
        "    for numeric_type in original_dtypes_:\n",
        "        mask = np.isin(df_.dtypes, [numeric_type])\n",
        "        df_.loc[:, mask] = \\\n",
        "            df_.loc[:, mask].astype(transcription_dict_[numeric_type])\n",
        "    return df_"
      ],
      "metadata": {
        "id": "Om4WOFjbIGhu"
      },
      "execution_count": null,
      "outputs": []
    },
    {
      "cell_type": "code",
      "source": [
        "df_train = reduce_precision(df_train)"
      ],
      "metadata": {
        "id": "w7sNrb6qKdMC"
      },
      "execution_count": null,
      "outputs": []
    },
    {
      "cell_type": "code",
      "source": [
        "df_test = reduce_precision(df_test)"
      ],
      "metadata": {
        "id": "uX1c_63TLnf4"
      },
      "execution_count": null,
      "outputs": []
    },
    {
      "cell_type": "code",
      "source": [
        "common_columns = set(df_train.columns).intersection(\n",
        "    df_test.columns\n",
        ")\n",
        "\n",
        "assert (df_train.loc[:, common_columns].dtypes == \\\n",
        "        df_test.loc[:, common_columns].dtypes).all()"
      ],
      "metadata": {
        "id": "PnUnnwOkLvaT"
      },
      "execution_count": null,
      "outputs": []
    },
    {
      "cell_type": "markdown",
      "source": [
        "# Removing NAN / INF columns"
      ],
      "metadata": {
        "id": "aWJjLx1qMccw"
      }
    },
    {
      "cell_type": "markdown",
      "source": [
        "- No columns with high content of NAN / INF values encountered"
      ],
      "metadata": {
        "id": "K6ZUD_mjMfRc"
      }
    },
    {
      "cell_type": "markdown",
      "source": [
        "# Preparing processing pipelines"
      ],
      "metadata": {
        "id": "jpsOvykVcJnd"
      }
    },
    {
      "cell_type": "code",
      "source": [
        "luxury_columns = [\n",
        "    'RoomService',\n",
        "    'FoodCourt',\n",
        "    'ShoppingMall',\n",
        "    'Spa',\n",
        "    'VRDeck'\n",
        "]\n",
        "\n",
        "luxury_pipeline = Pipeline(\n",
        "    [\n",
        "        ('impute', SimpleImputer(strategy='median')),\n",
        "        ('standardize', StandardScaler())\n",
        "    ]\n",
        ")"
      ],
      "metadata": {
        "id": "HfHrTrBmOvRf"
      },
      "execution_count": null,
      "outputs": []
    },
    {
      "cell_type": "code",
      "source": [
        "name_columns = [\n",
        "    'Name'\n",
        "]\n",
        "\n",
        "name_pipeline = Pipeline(\n",
        "    [\n",
        "        ('drop', ColumnDropper(name_columns))\n",
        "    ]\n",
        ")"
      ],
      "metadata": {
        "id": "3WyHfehJPdVo"
      },
      "execution_count": null,
      "outputs": []
    },
    {
      "cell_type": "code",
      "source": [
        "age_columns = [\n",
        "    'Age'\n",
        "]\n",
        "\n",
        "age_pipeline = Pipeline(\n",
        "    [\n",
        "        ('impute', SimpleImputer(strategy='median')),\n",
        "        ('standardize', StandardScaler())\n",
        "    ]\n",
        ")"
      ],
      "metadata": {
        "id": "_YKiXBvPRkie"
      },
      "execution_count": null,
      "outputs": []
    },
    {
      "cell_type": "code",
      "source": [
        "home_planet_columns = [\n",
        "    'HomePlanet'\n",
        "]\n",
        "\n",
        "home_planet_pipeline = Pipeline(\n",
        "    [\n",
        "        # ('impute', SimpleImputer(missing_values=np.nan, strategy='constant')),\n",
        "        ('one-hot', OneHotEncoder(handle_unknown='ignore'))\n",
        "    ]\n",
        ")"
      ],
      "metadata": {
        "id": "4MyO2bNvUf-A"
      },
      "execution_count": null,
      "outputs": []
    },
    {
      "cell_type": "code",
      "source": [
        "destination_columns = [\n",
        "    'Destination'\n",
        "]\n",
        "\n",
        "destination_pipeline = Pipeline(\n",
        "    [\n",
        "        # ('impute', SimpleImputer(strategy='median')),\n",
        "        ('one-hot', OneHotEncoder(handle_unknown='ignore'))\n",
        "    ]\n",
        ")"
      ],
      "metadata": {
        "id": "evfwi4UNU03k"
      },
      "execution_count": null,
      "outputs": []
    },
    {
      "cell_type": "code",
      "source": [
        "passenger_id_columns = [\n",
        "    'PassengerId'\n",
        "]\n",
        "\n",
        "passenger_id_pipeline = Pipeline(\n",
        "    [\n",
        "        # ('impute', SimpleImputer(strategy='median')),\n",
        "        ('drop', ColumnDropper(passenger_id_columns))\n",
        "    ]\n",
        ")"
      ],
      "metadata": {
        "id": "RASaH86hVZ5e"
      },
      "execution_count": null,
      "outputs": []
    },
    {
      "cell_type": "code",
      "source": [
        "cabin_columns = [\n",
        "    'Cabin'\n",
        "]\n",
        "\n",
        "cabin_pipeline = Pipeline(\n",
        "    [\n",
        "        ('drop', ColumnDropper(cabin_columns))\n",
        "    ]\n",
        ")"
      ],
      "metadata": {
        "id": "9kXxu5O0VnPz"
      },
      "execution_count": null,
      "outputs": []
    },
    {
      "cell_type": "code",
      "source": [
        "# Consider here also one-hot encoding, substituting\n",
        "# NAN values as \"Missing\"\n",
        "\n",
        "cryo_sleep_columns = [\n",
        "    'CryoSleep'\n",
        "]\n",
        "\n",
        "cryo_sleep_pipeline = Pipeline(\n",
        "    [\n",
        "        ('impute', SimpleImputer(strategy='median'))\n",
        "    ]\n",
        ")"
      ],
      "metadata": {
        "id": "T-NJQVfudKhi"
      },
      "execution_count": null,
      "outputs": []
    },
    {
      "cell_type": "code",
      "source": [
        "vip_columns = [\n",
        "    'VIP'\n",
        "]\n",
        "\n",
        "vip_pipeline = Pipeline(\n",
        "    [\n",
        "        ('impute', SimpleImputer(strategy='median'))\n",
        "    ]\n",
        ")"
      ],
      "metadata": {
        "id": "-hihkjpkdYNk"
      },
      "execution_count": null,
      "outputs": []
    },
    {
      "cell_type": "code",
      "source": [
        "bought_any_luxury_columns = [\n",
        "    'BoughtAnyLuxury'\n",
        "]\n",
        "\n",
        "bought_any_luxury_pipeline = Pipeline(\n",
        "    [\n",
        "        ('impute', SimpleImputer(strategy='median')),\n",
        "    ]\n",
        ")"
      ],
      "metadata": {
        "id": "R51fvtuP1uLN"
      },
      "execution_count": null,
      "outputs": []
    },
    {
      "cell_type": "code",
      "source": [
        "from sklearn.preprocessing import OrdinalEncoder\n",
        "\n",
        "\n",
        "deck_columns = [\n",
        "    'Deck'\n",
        "]\n",
        "\n",
        "deck_pipeline = Pipeline(\n",
        "    [\n",
        "        ('impute', SimpleImputer(strategy='constant', fill_value='NOT ASSIGNED')),\n",
        "        (\n",
        "            'encode',\n",
        "            OrdinalEncoder(\n",
        "                categories=[\n",
        "                    [\n",
        "                        'NOT ASSIGNED',\n",
        "                        'A',\n",
        "                        'B',\n",
        "                        'C',\n",
        "                        'D',\n",
        "                        'E',\n",
        "                        'F',\n",
        "                        'G',\n",
        "                        'T'\n",
        "                    ]\n",
        "                ]\n",
        "            )\n",
        "        )\n",
        "    ]\n",
        ")"
      ],
      "metadata": {
        "id": "hIjStR5y1_Bm"
      },
      "execution_count": null,
      "outputs": []
    },
    {
      "cell_type": "code",
      "source": [
        "deck_num_columns = [\n",
        "    'DeckNum'\n",
        "]\n",
        "\n",
        "deck_num_pipeline = Pipeline(\n",
        "    [\n",
        "        ('impute', SimpleImputer(strategy='constant')),\n",
        "        ('scale', StandardScaler())\n",
        "    ]\n",
        ")"
      ],
      "metadata": {
        "id": "gNgJsZ_g2s6X"
      },
      "execution_count": null,
      "outputs": []
    },
    {
      "cell_type": "code",
      "source": [
        "deck_size_columns = [\n",
        "    'DeckSide'\n",
        "]\n",
        "\n",
        "deck_side_pipeline = Pipeline(\n",
        "    [\n",
        "        ('impute', SimpleImputer(strategy='constant', fill_value='UNKNOWN')),\n",
        "        ('encode', OneHotEncoder(handle_unknown='ignore'))\n",
        "    ]\n",
        ")"
      ],
      "metadata": {
        "id": "S3NQdPGw24x8"
      },
      "execution_count": null,
      "outputs": []
    },
    {
      "cell_type": "code",
      "source": [
        "alone_columns = ['AloneInGroup']\n",
        "alone_pipeline = Pipeline(\n",
        "    [('impute', SimpleImputer(strategy='median'))]\n",
        ")"
      ],
      "metadata": {
        "id": "nftDmq3LRTvJ"
      },
      "execution_count": null,
      "outputs": []
    },
    {
      "cell_type": "code",
      "source": [
        "group_position_columns = ['PassengerGroupPosition']\n",
        "group_position_pipeline = Pipeline(\n",
        "    [\n",
        "        ('impute', SimpleImputer(strategy='median')),\n",
        "        ('scale', StandardScaler())\n",
        "    ]\n",
        ")"
      ],
      "metadata": {
        "id": "qYQ_7BNwRrHI"
      },
      "execution_count": null,
      "outputs": []
    },
    {
      "cell_type": "code",
      "source": [
        "group_size_columns = ['GroupSize']\n",
        "group_size_pipeline = Pipeline(\n",
        "    [\n",
        "        ('impute', SimpleImputer(strategy='median')),\n",
        "        ('scale', StandardScaler())\n",
        "    ]\n",
        ")"
      ],
      "metadata": {
        "id": "aOPyE9YVSAHO"
      },
      "execution_count": null,
      "outputs": []
    },
    {
      "cell_type": "code",
      "source": [
        "passenger_group_columns = ['PassengerGroup']\n",
        "passenger_group_pipeline = Pipeline(\n",
        "    [\n",
        "        ('impute', SimpleImputer(strategy='median')),\n",
        "        ('scale', StandardScaler())\n",
        "    ]\n",
        ")"
      ],
      "metadata": {
        "id": "yUVOunCQSPYt"
      },
      "execution_count": null,
      "outputs": []
    },
    {
      "cell_type": "code",
      "source": [
        "gender_columns = ['gender']\n",
        "gender_pipeline = Pipeline(\n",
        "    [\n",
        "        ('impute', SimpleImputer(strategy='constant', fill_value=0.0))\n",
        "    ]\n",
        ")"
      ],
      "metadata": {
        "id": "ejWa2DNgQ_TC"
      },
      "execution_count": null,
      "outputs": []
    },
    {
      "cell_type": "code",
      "source": [
        "# all_columns = set()\n",
        "all_columns = set(\n",
        "    [\n",
        "        *luxury_columns,\n",
        "        *name_columns,\n",
        "        *age_columns,\n",
        "        *home_planet_columns,\n",
        "        *destination_columns,\n",
        "        *passenger_id_columns,\n",
        "        *cabin_columns,\n",
        "        *vip_columns,\n",
        "        *cryo_sleep_columns,\n",
        "        *bought_any_luxury_columns,\n",
        "        *deck_columns,\n",
        "        *deck_num_columns,\n",
        "        *deck_size_columns,\n",
        "     \n",
        "        *alone_columns,\n",
        "        *group_position_columns,\n",
        "        *group_size_columns,\n",
        "        *passenger_group_columns,\n",
        "        *gender_columns\n",
        "\n",
        "    ]\n",
        ")\n",
        "\n",
        "# print(df_train.columns)\n",
        "assert (set(df_train.columns) - all_columns) == {'Transported'}, \\\n",
        "    print(set(df_train.columns) - all_columns)"
      ],
      "metadata": {
        "id": "R7YIk7Rs1shO"
      },
      "execution_count": null,
      "outputs": []
    },
    {
      "cell_type": "code",
      "source": [
        "\n",
        "from sklearn_transformers import ColumnDropper\n",
        "\n",
        "\n",
        "preprocessor = ColumnTransformer(\n",
        "    [\n",
        "        ('luxury', luxury_pipeline, luxury_columns),\n",
        "        ('drop', name_pipeline, name_columns),\n",
        "        ('age', age_pipeline, age_columns),\n",
        "        ('home_planet', home_planet_pipeline, home_planet_columns),\n",
        "        ('destination', destination_pipeline, destination_columns),\n",
        "        ('passenger_id', passenger_id_pipeline, passenger_id_columns),\n",
        "        ('vip', vip_pipeline, vip_columns),\n",
        "        ('cryo_sleep', cryo_sleep_pipeline, cryo_sleep_columns),\n",
        "        ('cabin', cabin_pipeline, cabin_columns),\n",
        "        \n",
        "        ('bought_any_luxury', bought_any_luxury_pipeline, bought_any_luxury_columns),\n",
        "        ('deck', deck_pipeline, deck_columns),\n",
        "        ('deck_num', deck_num_pipeline, deck_num_columns),\n",
        "        ('deck_side', deck_side_pipeline, deck_size_columns),\n",
        "        \n",
        "        ('alone_in_group', alone_pipeline, alone_columns),\n",
        "        ('passenger_group_position', group_position_pipeline, group_position_columns),\n",
        "        ('group_size', group_size_pipeline, group_size_columns),\n",
        "        ('passenger_group', passenger_group_pipeline, passenger_group_columns),\n",
        "        ('gender', gender_pipeline, gender_columns)\n",
        "    ],\n",
        "    remainder='passthrough'\n",
        ")"
      ],
      "metadata": {
        "id": "RoJKjl1VWIQ_"
      },
      "execution_count": null,
      "outputs": []
    },
    {
      "cell_type": "markdown",
      "source": [
        "# Splitting the training data"
      ],
      "metadata": {
        "id": "MdFCdyl-S5T3"
      }
    },
    {
      "cell_type": "markdown",
      "source": [
        "## Split the data"
      ],
      "metadata": {
        "id": "vyQ3Lc6OTjo0"
      }
    },
    {
      "cell_type": "code",
      "source": [
        "from sklearn.model_selection import train_test_split\n",
        "\n",
        "TRAIN_VAL_PERCENTAGE = 0.8\n",
        "RANDOM_STATE = 42\n",
        "\n",
        "df_trainval, df_test_sample = train_test_split(\n",
        "    df_train,\n",
        "    train_size=TRAIN_VAL_PERCENTAGE,\n",
        "    random_state=RANDOM_STATE,\n",
        "    stratify=df_train['Transported']\n",
        ")\n",
        "\n",
        "df_trainval.shape, df_test_sample.shape"
      ],
      "metadata": {
        "colab": {
          "base_uri": "https://localhost:8080/"
        },
        "id": "i0jMT3w4S8me",
        "outputId": "519815f9-35a5-419e-c9a4-d17d335befa2"
      },
      "execution_count": null,
      "outputs": [
        {
          "output_type": "execute_result",
          "data": {
            "text/plain": [
              "((6954, 23), (1739, 23))"
            ]
          },
          "metadata": {},
          "execution_count": 77
        }
      ]
    },
    {
      "cell_type": "markdown",
      "source": [
        "## Check class balance and feature distribution after splitting"
      ],
      "metadata": {
        "id": "PGC7b7WBTlWP"
      }
    },
    {
      "cell_type": "code",
      "source": [
        "print(df_trainval.Transported.value_counts())\n",
        "print(df_test_sample.Transported.value_counts())"
      ],
      "metadata": {
        "colab": {
          "base_uri": "https://localhost:8080/"
        },
        "id": "OJfL667LTnL8",
        "outputId": "b3ab9408-701e-4e06-abd3-7f36c0593c16"
      },
      "execution_count": null,
      "outputs": [
        {
          "output_type": "stream",
          "name": "stdout",
          "text": [
            "True     3502\n",
            "False    3452\n",
            "Name: Transported, dtype: int64\n",
            "True     876\n",
            "False    863\n",
            "Name: Transported, dtype: int64\n"
          ]
        }
      ]
    },
    {
      "cell_type": "code",
      "source": [
        "from sklearn_utils import visualize_datasets_distributions\n",
        "\n",
        "visualize_datasets_distributions(\n",
        "    dataframes_dict_={\n",
        "        'trainval': df_trainval,\n",
        "        'test_sample': df_test_sample\n",
        "    },\n",
        "    columns_=df_trainval.columns[np.isin(df_trainval.dtypes, ['float32', 'int', ''])]\n",
        ")"
      ],
      "metadata": {
        "colab": {
          "base_uri": "https://localhost:8080/"
        },
        "id": "nmRlxuVqVWXV",
        "outputId": "9e03a6dc-9705-4ada-b843-469ff6b8d365"
      },
      "execution_count": null,
      "outputs": [
        {
          "output_type": "stream",
          "name": "stdout",
          "text": [
            "Visualizing datasets distributions\n"
          ]
        },
        {
          "output_type": "display_data",
          "data": {
            "text/plain": [
              "<Figure size 720x432 with 6 Axes>"
            ],
            "image/png": "[encoded data removed]"
          },
          "metadata": {
            "needs_background": "light"
          }
        }
      ]
    },
    {
      "cell_type": "markdown",
      "source": [
        "# Process data"
      ],
      "metadata": {
        "id": "KAjBt9JoWCnO"
      }
    },
    {
      "cell_type": "code",
      "source": [
        "df_trainval_processed = preprocessor.fit_transform(\n",
        "    df_trainval\n",
        ")\n",
        "\n",
        "col_n = -1\n",
        "assert (df_trainval_processed[:, col_n] == df_trainval['Transported']).all()"
      ],
      "metadata": {
        "id": "rpR_Oj5yWESs"
      },
      "execution_count": null,
      "outputs": []
    },
    {
      "cell_type": "code",
      "source": [
        "df_test_sample_processed = preprocessor.transform(\n",
        "    df_test_sample\n",
        ")\n",
        "assert (df_test_sample_processed[:, -1] == df_test_sample['Transported']).all()"
      ],
      "metadata": {
        "id": "jt8EDj0fWKRE"
      },
      "execution_count": null,
      "outputs": []
    },
    {
      "cell_type": "code",
      "source": [
        "df_test['Transported'] = np.zeros(len(df_test))\n",
        "df_test_processed = preprocessor.transform(df_test)\n",
        "\n",
        "# removing fake \"Transported\" column\n",
        "df_test_processed = df_test_processed[:, :-1]"
      ],
      "metadata": {
        "id": "wSBoAzsRWOWF"
      },
      "execution_count": null,
      "outputs": []
    },
    {
      "cell_type": "code",
      "source": [
        "assert (df_trainval_processed.dtype == 'float64') \\\n",
        "    & (df_test_sample_processed.dtype == 'float64') \\\n",
        "    & (df_test_processed.dtype == 'float64')"
      ],
      "metadata": {
        "id": "XBwab5igdImz"
      },
      "execution_count": null,
      "outputs": []
    },
    {
      "cell_type": "markdown",
      "source": [
        "# Feature selection"
      ],
      "metadata": {
        "id": "Xj95zBMsiYmH"
      }
    },
    {
      "cell_type": "code",
      "source": [
        "from sklearn.feature_selection import SelectPercentile\n",
        "from sklearn.feature_selection import f_classif\n",
        "import matplotlib.pyplot as plt\n",
        "\n",
        "PERCENTILE = 80\n",
        "\n",
        "feature_selector = SelectPercentile(\n",
        "    score_func=f_classif,\n",
        "    percentile=80\n",
        ")\n",
        "feature_selector.fit(\n",
        "    df_trainval_processed[:, :-1],\n",
        "    df_trainval_processed[:, -1]\n",
        ")"
      ],
      "metadata": {
        "id": "vnhw4kgHi6w_",
        "outputId": "3d29be73-6444-4ffc-c8dc-3526aea694f5",
        "colab": {
          "base_uri": "https://localhost:8080/"
        }
      },
      "execution_count": null,
      "outputs": [
        {
          "output_type": "execute_result",
          "data": {
            "text/plain": [
              "SelectPercentile(percentile=80)"
            ]
          },
          "metadata": {},
          "execution_count": 65
        }
      ]
    },
    {
      "cell_type": "code",
      "source": [
        "plt.bar(\n",
        "    list(range(len(feature_selector.scores_))),\n",
        "    feature_selector.scores_,\n",
        ")"
      ],
      "metadata": {
        "id": "tfPZjkDOjbDu",
        "outputId": "082ddac9-e324-4b53-aae7-c6fb1d1e4940",
        "colab": {
          "base_uri": "https://localhost:8080/",
          "height": 283
        }
      },
      "execution_count": null,
      "outputs": [
        {
          "output_type": "execute_result",
          "data": {
            "text/plain": [
              "<BarContainer object of 26 artists>"
            ]
          },
          "metadata": {},
          "execution_count": 66
        },
        {
          "output_type": "display_data",
          "data": {
            "text/plain": [
              "<Figure size 432x288 with 1 Axes>"
            ],
            "image/png": "[encoded data removed]"
          },
          "metadata": {
            "needs_background": "light"
          }
        }
      ]
    },
    {
      "cell_type": "code",
      "source": [
        "X_trainval_processed = feature_selector.fit_transform(\n",
        "    df_trainval_processed[:, :-1], df_trainval_processed[:, -1])\n",
        "\n",
        "X_test_sample_processed = feature_selector.transform(\n",
        "    df_test_sample_processed[:, :-1]\n",
        ")\n",
        "\n",
        "X_test_processed = feature_selector.transform(\n",
        "    df_test_processed\n",
        ")"
      ],
      "metadata": {
        "id": "6ruNGXEwlWtc"
      },
      "execution_count": null,
      "outputs": []
    },
    {
      "cell_type": "code",
      "source": [
        "df_trainval_processed = np.hstack(\n",
        "    [\n",
        "        X_trainval_processed,\n",
        "        df_trainval_processed[:, -1].reshape(X_trainval_processed.shape[0], 1)\n",
        "    ]\n",
        ")\n",
        "\n",
        "assert (df_trainval_processed[:, -1] == df_trainval.Transported).all()"
      ],
      "metadata": {
        "id": "51FIp_EjmQsV"
      },
      "execution_count": null,
      "outputs": []
    },
    {
      "cell_type": "code",
      "source": [
        "df_test_sample_processed = np.hstack(\n",
        "    [\n",
        "        X_test_sample_processed,\n",
        "        df_test_sample_processed[:, -1].reshape(X_test_sample_processed.shape[0], 1)\n",
        "    ]\n",
        ")\n",
        "\n",
        "assert (df_test_sample_processed[:, -1] == df_test_sample.Transported).all()"
      ],
      "metadata": {
        "id": "H98Ex3UrmeYu"
      },
      "execution_count": null,
      "outputs": []
    },
    {
      "cell_type": "code",
      "source": [
        "df_test_processed = X_test_processed"
      ],
      "metadata": {
        "id": "61sAiFijmz92"
      },
      "execution_count": null,
      "outputs": []
    },
    {
      "cell_type": "markdown",
      "source": [
        "# Save the data"
      ],
      "metadata": {
        "id": "CkrGkFiTcS0v"
      }
    },
    {
      "cell_type": "code",
      "source": [
        "df_trainval_processed.shape[1]"
      ],
      "metadata": {
        "id": "o2VkqBEFSOBf",
        "outputId": "1a9fe57c-bc52-4f72-e777-d954fb1d7afa",
        "colab": {
          "base_uri": "https://localhost:8080/"
        }
      },
      "execution_count": null,
      "outputs": [
        {
          "output_type": "execute_result",
          "data": {
            "text/plain": [
              "28"
            ]
          },
          "metadata": {},
          "execution_count": 84
        }
      ]
    },
    {
      "cell_type": "code",
      "source": [
        "assert df_trainval_processed.shape[1] \\\n",
        "    == df_test_sample_processed.shape[1] \\\n",
        "    == df_test_processed.shape[1] + 1\n",
        "\n",
        "manager.save_to_csv(\n",
        "    df_trainval_processed,\n",
        "    manager.data_trial_path,\n",
        "    'trainval_processed.csv'\n",
        ")\n",
        "\n",
        "manager.save_to_csv(\n",
        "    df_test_sample_processed,\n",
        "    manager.data_trial_path,\n",
        "    'test_sample_processed.csv'\n",
        ")\n",
        "\n",
        "manager.save_to_csv(\n",
        "    df_test_processed,\n",
        "    manager.data_trial_path,\n",
        "    'test_processed.csv'\n",
        ")"
      ],
      "metadata": {
        "id": "2KVbR3YRdB4t"
      },
      "execution_count": null,
      "outputs": []
    }
  ]
}