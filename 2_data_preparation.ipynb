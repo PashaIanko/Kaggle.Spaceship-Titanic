{
  "nbformat": 4,
  "nbformat_minor": 0,
  "metadata": {
    "colab": {
      "provenance": [],
      "authorship_tag": "ABX9TyMTVOtFJHArJX976qVEQiJv",
      "include_colab_link": true
    },
    "kernelspec": {
      "name": "python3",
      "display_name": "Python 3"
    },
    "language_info": {
      "name": "python"
    }
  },
  "cells": [
    {
      "cell_type": "markdown",
      "metadata": {
        "id": "view-in-github",
        "colab_type": "text"
      },
      "source": [
        "<a href=\"https://colab.research.google.com/github/PashaIanko/Kaggle.Spaceship-Titanic/blob/main/2_data_preparation.ipynb\" target=\"_parent\"><img src=\"https://colab.research.google.com/assets/colab-badge.svg\" alt=\"Open In Colab\"/></a>"
      ]
    },
    {
      "cell_type": "markdown",
      "source": [
        "# Imports"
      ],
      "metadata": {
        "id": "tfTSuABhcdzf"
      }
    },
    {
      "cell_type": "code",
      "execution_count": 233,
      "metadata": {
        "id": "TbElZ_JOcVn8"
      },
      "outputs": [],
      "source": [
        "# colab\n",
        "from google.colab import drive\n",
        "\n",
        "# data\n",
        "import pandas as pd\n",
        "\n",
        "# math\n",
        "import numpy as np\n",
        "\n",
        "# preprocessing\n",
        "from sklearn.pipeline import Pipeline\n",
        "from sklearn.compose import ColumnTransformer\n",
        "\n",
        "from sklearn.preprocessing import StandardScaler\n",
        "from sklearn.preprocessing import OneHotEncoder\n",
        "from sklearn.impute import SimpleImputer\n",
        "\n",
        "from sklearn_transformers import ColumnDropper"
      ]
    },
    {
      "cell_type": "markdown",
      "source": [
        "## PEP8 code standard"
      ],
      "metadata": {
        "id": "G6UylN1y0SkN"
      }
    },
    {
      "cell_type": "code",
      "source": [
        "%%capture\n",
        "!pip install pycodestyle\n",
        "!pip install --index-url https://test.pypi.org/simple/ nbpep8\n",
        "\n",
        "from nbpep8.nbpep8 import pep8"
      ],
      "metadata": {
        "id": "jd7pxnxC0U7d"
      },
      "execution_count": 234,
      "outputs": []
    },
    {
      "cell_type": "markdown",
      "source": [
        "## Importing custom packages"
      ],
      "metadata": {
        "id": "xhXhFcJc0ziD"
      }
    },
    {
      "cell_type": "code",
      "source": [
        "%%capture\n",
        "def download_files(url_dict):\n",
        "    for file, url in url_dict.items():\n",
        "        !wget -O {file} {url} {file}\n",
        "\n",
        "git_download_path = \\\n",
        "    'https://raw.githubusercontent.com/PashaIanko/Sklearn-Utils/main/'\n",
        "\n",
        "files = [\n",
        "    'path_manager.py',\n",
        "    'sklearn_transformers.py',\n",
        "    'sklearn_utils.py'\n",
        "]\n",
        "\n",
        "url_dict = {file: git_download_path + file for file in files}\n",
        "download_files(url_dict)"
      ],
      "metadata": {
        "id": "2Edswwkj0yy2"
      },
      "execution_count": 235,
      "outputs": []
    },
    {
      "cell_type": "code",
      "source": [
        "import importlib\n",
        "import path_manager\n",
        "import sklearn_utils\n",
        "import sklearn_transformers\n",
        "\n",
        "def reload_modules(modules):\n",
        "    for module in modules:\n",
        "        importlib.reload(module)\n",
        "\n",
        "reload_modules(\n",
        "    [\n",
        "        path_manager,\n",
        "        sklearn_transformers,\n",
        "        sklearn_utils\n",
        "    ]\n",
        ")\n",
        "\n",
        "from path_manager import PathManager"
      ],
      "metadata": {
        "id": "JgYOe2C01Kz_"
      },
      "execution_count": 236,
      "outputs": []
    },
    {
      "cell_type": "markdown",
      "source": [
        "# Set up paths"
      ],
      "metadata": {
        "id": "Qp68wJ03chy1"
      }
    },
    {
      "cell_type": "code",
      "source": [
        "drive.mount('/content/gdrive', force_remount=True)\n",
        "gdrive_path = '/content/gdrive/MyDrive/'\n",
        "\n",
        "PREPROC_TRIAL = 1\n",
        "MODELS_TRIAL = 1\n",
        "COMPETITION_PATH = gdrive_path + 'ML/Competitions/6.SpaceshipTitanic/'\n",
        "\n",
        "manager = PathManager(\n",
        "    competition_path=COMPETITION_PATH,\n",
        "    preprocessing_trial=PREPROC_TRIAL,\n",
        "    models_trial=MODELS_TRIAL\n",
        ")\n",
        "manager.setup_paths()"
      ],
      "metadata": {
        "id": "3lZ9wP2ScdMn",
        "colab": {
          "base_uri": "https://localhost:8080/"
        },
        "outputId": "c9ba5a8b-0ed0-4fb4-e37f-58c4a4a4a60a"
      },
      "execution_count": 237,
      "outputs": [
        {
          "output_type": "stream",
          "name": "stdout",
          "text": [
            "Mounted at /content/gdrive\n",
            "/content/gdrive/MyDrive/ML/Competitions/6.SpaceshipTitanic/Data/preproc_trial_1 already exists\n",
            "/content/gdrive/MyDrive/ML/Competitions/6.SpaceshipTitanic/Models/trial_1 already exists\n"
          ]
        }
      ]
    },
    {
      "cell_type": "markdown",
      "source": [
        "# Download the data"
      ],
      "metadata": {
        "id": "icar5WRwCS97"
      }
    },
    {
      "cell_type": "code",
      "source": [
        "df_train = pd.read_csv(manager.train_path)\n",
        "df_test = pd.read_csv(manager.test_path)"
      ],
      "metadata": {
        "id": "Fb9XiK_GCVkh"
      },
      "execution_count": 238,
      "outputs": []
    },
    {
      "cell_type": "markdown",
      "source": [
        "# Checking NAN"
      ],
      "metadata": {
        "id": "zDMBBUJUDkg6"
      }
    },
    {
      "cell_type": "code",
      "source": [
        "from sklearn_utils import nan_statistics\n",
        "\n",
        "\n",
        "_ = nan_statistics(df_train)"
      ],
      "metadata": {
        "colab": {
          "base_uri": "https://localhost:8080/"
        },
        "id": "k7BBSgXxDj25",
        "outputId": "c12fa444-1851-4113-caba-bb0c7087c208"
      },
      "execution_count": 239,
      "outputs": [
        {
          "output_type": "stream",
          "name": "stdout",
          "text": [
            "Col -- Nan percentage\n",
            "CryoSleep 2.4962613597147127\n",
            "ShoppingMall 2.392729782583688\n",
            "VIP 2.3352122397331185\n",
            "HomePlanet 2.312205222592891\n",
            "Name 2.300701714022777\n",
            "Cabin 2.289198205452663\n",
            "VRDeck 2.1626596111814105\n",
            "FoodCourt 2.105142068330841\n",
            "Spa 2.105142068330841\n",
            "Destination 2.093638559760727\n",
            "RoomService 2.082135051190613\n",
            "Age 2.0591280340503855\n"
          ]
        }
      ]
    },
    {
      "cell_type": "code",
      "source": [
        "_ = nan_statistics(df_test)"
      ],
      "metadata": {
        "colab": {
          "base_uri": "https://localhost:8080/"
        },
        "id": "IdxOYXpqDr9s",
        "outputId": "f611cdd0-0bb5-4048-cad9-ba0715014527"
      },
      "execution_count": 240,
      "outputs": [
        {
          "output_type": "stream",
          "name": "stdout",
          "text": [
            "Col -- Nan percentage\n",
            "FoodCourt 2.4783726911386488\n",
            "Spa 2.3614683189151275\n",
            "Cabin 2.338087444470423\n",
            "ShoppingMall 2.2913256955810146\n",
            "Name 2.197802197802198\n",
            "CryoSleep 2.1744213233574934\n",
            "VIP 2.1744213233574934\n",
            "Destination 2.1510404489127897\n",
            "Age 2.127659574468085\n",
            "HomePlanet 2.034136076689268\n",
            "RoomService 1.917231704465747\n",
            "VRDeck 1.8704699555763384\n"
          ]
        }
      ]
    },
    {
      "cell_type": "markdown",
      "source": [
        "# Check infinity values"
      ],
      "metadata": {
        "id": "UgATQKhiD1r6"
      }
    },
    {
      "cell_type": "code",
      "source": [
        "def inf_statistics(\n",
        "    df_,\n",
        "    numeric_types=['float32', 'float64', 'int']\n",
        "):\n",
        "    '''\n",
        "    Collects only numeric data and checks, if\n",
        "    it has infinity values\n",
        "    '''\n",
        "    numeric_columns = []\n",
        "    for numeric_type in numeric_types:\n",
        "        numeric_columns.extend(\n",
        "            df_.columns[df_.dtypes == numeric_type].values\n",
        "        )\n",
        "    res = np.isinf(df_.loc[:, numeric_columns]).sum()\n",
        "    print(res)\n",
        "    return res\n",
        "\n",
        "\n",
        "pep8(_ih)"
      ],
      "metadata": {
        "colab": {
          "base_uri": "https://localhost:8080/"
        },
        "id": "a9HN5ifgD2sP",
        "outputId": "e03e3cc4-a212-43b4-f9a2-45b1d6c1310c"
      },
      "execution_count": 241,
      "outputs": [
        {
          "output_type": "stream",
          "name": "stdout",
          "text": [
            "\n"
          ]
        }
      ]
    },
    {
      "cell_type": "code",
      "source": [
        "inf_statistics(df_train)"
      ],
      "metadata": {
        "colab": {
          "base_uri": "https://localhost:8080/"
        },
        "id": "fYepxFaSHWBX",
        "outputId": "dab27f66-b34a-461f-8313-a993b1999fda"
      },
      "execution_count": 242,
      "outputs": [
        {
          "output_type": "stream",
          "name": "stdout",
          "text": [
            "Age             0\n",
            "RoomService     0\n",
            "FoodCourt       0\n",
            "ShoppingMall    0\n",
            "Spa             0\n",
            "VRDeck          0\n",
            "dtype: int64\n"
          ]
        },
        {
          "output_type": "execute_result",
          "data": {
            "text/plain": [
              "Age             0\n",
              "RoomService     0\n",
              "FoodCourt       0\n",
              "ShoppingMall    0\n",
              "Spa             0\n",
              "VRDeck          0\n",
              "dtype: int64"
            ]
          },
          "metadata": {},
          "execution_count": 242
        }
      ]
    },
    {
      "cell_type": "code",
      "source": [
        "inf_statistics(df_test)"
      ],
      "metadata": {
        "colab": {
          "base_uri": "https://localhost:8080/"
        },
        "id": "a4gnAaNdHa79",
        "outputId": "094ada6e-a01e-47cd-ed74-2b73b0ae5a21"
      },
      "execution_count": 243,
      "outputs": [
        {
          "output_type": "stream",
          "name": "stdout",
          "text": [
            "Age             0\n",
            "RoomService     0\n",
            "FoodCourt       0\n",
            "ShoppingMall    0\n",
            "Spa             0\n",
            "VRDeck          0\n",
            "dtype: int64\n"
          ]
        },
        {
          "output_type": "execute_result",
          "data": {
            "text/plain": [
              "Age             0\n",
              "RoomService     0\n",
              "FoodCourt       0\n",
              "ShoppingMall    0\n",
              "Spa             0\n",
              "VRDeck          0\n",
              "dtype: int64"
            ]
          },
          "metadata": {},
          "execution_count": 243
        }
      ]
    },
    {
      "cell_type": "code",
      "source": [
        "df_train.dtypes"
      ],
      "metadata": {
        "colab": {
          "base_uri": "https://localhost:8080/"
        },
        "id": "NTam716lHxSu",
        "outputId": "a2bafc77-122d-4b40-f356-bbf9aeac3b5f"
      },
      "execution_count": 244,
      "outputs": [
        {
          "output_type": "execute_result",
          "data": {
            "text/plain": [
              "PassengerId      object\n",
              "HomePlanet       object\n",
              "CryoSleep        object\n",
              "Cabin            object\n",
              "Destination      object\n",
              "Age             float64\n",
              "VIP              object\n",
              "RoomService     float64\n",
              "FoodCourt       float64\n",
              "ShoppingMall    float64\n",
              "Spa             float64\n",
              "VRDeck          float64\n",
              "Name             object\n",
              "Transported        bool\n",
              "dtype: object"
            ]
          },
          "metadata": {},
          "execution_count": 244
        }
      ]
    },
    {
      "cell_type": "markdown",
      "source": [
        "# Reduce number precision"
      ],
      "metadata": {
        "id": "_SQMqOX3IEa5"
      }
    },
    {
      "cell_type": "code",
      "source": [
        "def reduce_precision(\n",
        "    df_,\n",
        "    original_dtypes_=['float64'],\n",
        "    transcription_dict_={\n",
        "        'float64': 'float32',\n",
        "        'int64': 'int32'\n",
        "    }\n",
        "):\n",
        "    '''\n",
        "    For every column, that has a dtype in original_dtypes\n",
        "    list --> it changes the original dtype, according to\n",
        "    the transcription_dict_\n",
        "    '''\n",
        "    for numeric_type in original_dtypes_:\n",
        "        mask = np.isin(df_.dtypes, [numeric_type])\n",
        "        df_.loc[:, mask] = \\\n",
        "            df_.loc[:, mask].astype(transcription_dict_[numeric_type])\n",
        "    return df_"
      ],
      "metadata": {
        "id": "Om4WOFjbIGhu"
      },
      "execution_count": 245,
      "outputs": []
    },
    {
      "cell_type": "code",
      "source": [
        "df_train = reduce_precision(df_train)"
      ],
      "metadata": {
        "id": "w7sNrb6qKdMC"
      },
      "execution_count": 246,
      "outputs": []
    },
    {
      "cell_type": "code",
      "source": [
        "df_test = reduce_precision(df_test)"
      ],
      "metadata": {
        "id": "uX1c_63TLnf4"
      },
      "execution_count": 247,
      "outputs": []
    },
    {
      "cell_type": "code",
      "source": [
        "common_columns = set(df_train.columns).intersection(\n",
        "    df_test.columns\n",
        ")\n",
        "\n",
        "assert (df_train.loc[:, common_columns].dtypes == \\\n",
        "        df_test.loc[:, common_columns].dtypes).all()"
      ],
      "metadata": {
        "id": "PnUnnwOkLvaT"
      },
      "execution_count": 248,
      "outputs": []
    },
    {
      "cell_type": "markdown",
      "source": [
        "# Removing NAN / INF columns"
      ],
      "metadata": {
        "id": "aWJjLx1qMccw"
      }
    },
    {
      "cell_type": "markdown",
      "source": [
        "- No columns with high content of NAN / INF values encountered"
      ],
      "metadata": {
        "id": "K6ZUD_mjMfRc"
      }
    },
    {
      "cell_type": "markdown",
      "source": [
        "# Preparing processing pipelines"
      ],
      "metadata": {
        "id": "jpsOvykVcJnd"
      }
    },
    {
      "cell_type": "code",
      "source": [
        "luxury_columns = [\n",
        "    'RoomService',\n",
        "    'FoodCourt',\n",
        "    'ShoppingMall',\n",
        "    'Spa',\n",
        "    'VRDeck'\n",
        "]\n",
        "\n",
        "luxury_pipeline = Pipeline(\n",
        "    [\n",
        "        ('impute', SimpleImputer(strategy='median'))\n",
        "    ]\n",
        ")"
      ],
      "metadata": {
        "id": "HfHrTrBmOvRf"
      },
      "execution_count": 249,
      "outputs": []
    },
    {
      "cell_type": "code",
      "source": [
        "drop_columns = [\n",
        "    'Name'\n",
        "]\n",
        "\n",
        "drop_pipeline = Pipeline(\n",
        "    [\n",
        "        ('drop', ColumnDropper(drop_columns))\n",
        "    ]\n",
        ")"
      ],
      "metadata": {
        "id": "3WyHfehJPdVo"
      },
      "execution_count": 250,
      "outputs": []
    },
    {
      "cell_type": "code",
      "source": [
        "age_columns = [\n",
        "    'Age'\n",
        "]\n",
        "\n",
        "age_pipeline = Pipeline(\n",
        "    [\n",
        "        ('impute', SimpleImputer(strategy='median')),\n",
        "        ('standardize', StandardScaler())\n",
        "    ]\n",
        ")"
      ],
      "metadata": {
        "id": "_YKiXBvPRkie"
      },
      "execution_count": 251,
      "outputs": []
    },
    {
      "cell_type": "code",
      "source": [
        "home_planet_columns = [\n",
        "    'HomePlanet'\n",
        "]\n",
        "\n",
        "home_planet_pipeline = Pipeline(\n",
        "    [\n",
        "        # ('impute', SimpleImputer(missing_values=np.nan, strategy='constant')),\n",
        "        ('one-hot', OneHotEncoder(handle_unknown='ignore'))\n",
        "    ]\n",
        ")"
      ],
      "metadata": {
        "id": "4MyO2bNvUf-A"
      },
      "execution_count": 252,
      "outputs": []
    },
    {
      "cell_type": "code",
      "source": [
        "destination_columns = [\n",
        "    'Destination'\n",
        "]\n",
        "\n",
        "destination_pipeline = Pipeline(\n",
        "    [\n",
        "        # ('impute', SimpleImputer(strategy='median')),\n",
        "        ('one-hot', OneHotEncoder(handle_unknown='ignore'))\n",
        "    ]\n",
        ")"
      ],
      "metadata": {
        "id": "evfwi4UNU03k"
      },
      "execution_count": 253,
      "outputs": []
    },
    {
      "cell_type": "code",
      "source": [
        "passenger_id_columns = [\n",
        "    'PassengerId'\n",
        "]\n",
        "\n",
        "passenger_id_pipeline = Pipeline(\n",
        "    [\n",
        "        # ('impute', SimpleImputer(strategy='median')),\n",
        "        ('drop', ColumnDropper(passenger_id_columns))\n",
        "    ]\n",
        ")"
      ],
      "metadata": {
        "id": "RASaH86hVZ5e"
      },
      "execution_count": 254,
      "outputs": []
    },
    {
      "cell_type": "code",
      "source": [
        "cabin_columns = [\n",
        "    'Cabin'\n",
        "]\n",
        "\n",
        "cabin_pipeline = Pipeline(\n",
        "    [\n",
        "        ('drop', ColumnDropper(cabin_columns))\n",
        "    ]\n",
        ")"
      ],
      "metadata": {
        "id": "9kXxu5O0VnPz"
      },
      "execution_count": 255,
      "outputs": []
    },
    {
      "cell_type": "code",
      "source": [
        "preprocessor = ColumnTransformer(\n",
        "    [\n",
        "        ('luxury', luxury_pipeline, luxury_columns),\n",
        "        ('drop', drop_pipeline, drop_columns),\n",
        "        ('age', age_pipeline, age_columns),\n",
        "        ('home_planet', home_planet_pipeline, home_planet_columns),\n",
        "        ('destination', destination_pipeline, destination_columns),\n",
        "        ('passenger_id', passenger_id_pipeline, passenger_id_columns),\n",
        "        ('cabin', cabin_pipeline, cabin_columns)\n",
        "    ],\n",
        "    remainder='passthrough'\n",
        ")\n",
        "\n"
      ],
      "metadata": {
        "id": "RoJKjl1VWIQ_"
      },
      "execution_count": 256,
      "outputs": []
    },
    {
      "cell_type": "markdown",
      "source": [
        "# Processing and saving the data"
      ],
      "metadata": {
        "id": "CkrGkFiTcS0v"
      }
    },
    {
      "cell_type": "code",
      "source": [
        "df_train_processed = preprocessor.fit_transform(df_train)"
      ],
      "metadata": {
        "id": "9amCkaBbcQnV"
      },
      "execution_count": 257,
      "outputs": []
    },
    {
      "cell_type": "code",
      "source": [
        "df_test['Transported'] = np.zeros(len(df_test))\n",
        "df_test_processed = preprocessor.transform(df_test)\n",
        "\n",
        "# removing fake \"Transported\" column\n",
        "df_test_processed = df_test_processed[:, :-1]"
      ],
      "metadata": {
        "id": "yX17xyq3cSgo"
      },
      "execution_count": 264,
      "outputs": []
    },
    {
      "cell_type": "code",
      "source": [
        "manager.save_to_csv(\n",
        "    df_train_processed,\n",
        "    manager.data_trial_path,\n",
        "    'train_processed.csv'\n",
        ")\n",
        "\n",
        "manager.save_to_csv(\n",
        "    df_test_processed,\n",
        "    manager.data_trial_path,\n",
        "    'test_processed.csv'\n",
        ")"
      ],
      "metadata": {
        "id": "2KVbR3YRdB4t"
      },
      "execution_count": 267,
      "outputs": []
    }
  ]
}