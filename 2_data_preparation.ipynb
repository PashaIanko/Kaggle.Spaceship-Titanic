{
  "nbformat": 4,
  "nbformat_minor": 0,
  "metadata": {
    "colab": {
      "provenance": [],
      "toc_visible": true,
      "authorship_tag": "ABX9TyPhfKztPEK5gN01eLYsQujP",
      "include_colab_link": true
    },
    "kernelspec": {
      "name": "python3",
      "display_name": "Python 3"
    },
    "language_info": {
      "name": "python"
    }
  },
  "cells": [
    {
      "cell_type": "markdown",
      "metadata": {
        "id": "view-in-github",
        "colab_type": "text"
      },
      "source": [
        "<a href=\"https://colab.research.google.com/github/PashaIanko/Kaggle.Spaceship-Titanic/blob/adding_gender/2_data_preparation.ipynb\" target=\"_parent\"><img src=\"https://colab.research.google.com/assets/colab-badge.svg\" alt=\"Open In Colab\"/></a>"
      ]
    },
    {
      "cell_type": "markdown",
      "source": [
        "# Imports"
      ],
      "metadata": {
        "id": "tfTSuABhcdzf"
      }
    },
    {
      "cell_type": "code",
      "execution_count": 1,
      "metadata": {
        "id": "TbElZ_JOcVn8"
      },
      "outputs": [],
      "source": [
        "# colab\n",
        "from google.colab import drive\n",
        "\n",
        "# data\n",
        "import pandas as pd\n",
        "\n",
        "# math\n",
        "import numpy as np\n",
        "\n",
        "# preprocessing\n",
        "from sklearn.pipeline import Pipeline\n",
        "from sklearn.compose import ColumnTransformer\n",
        "\n",
        "from sklearn.preprocessing import StandardScaler\n",
        "from sklearn.preprocessing import OneHotEncoder\n",
        "from sklearn.impute import SimpleImputer"
      ]
    },
    {
      "cell_type": "markdown",
      "source": [
        "## PEP8 code standard"
      ],
      "metadata": {
        "id": "G6UylN1y0SkN"
      }
    },
    {
      "cell_type": "code",
      "source": [
        "%%capture\n",
        "!pip install pycodestyle\n",
        "!pip install --index-url https://test.pypi.org/simple/ nbpep8\n",
        "\n",
        "from nbpep8.nbpep8 import pep8"
      ],
      "metadata": {
        "id": "jd7pxnxC0U7d"
      },
      "execution_count": 2,
      "outputs": []
    },
    {
      "cell_type": "markdown",
      "source": [
        "## Importing custom packages"
      ],
      "metadata": {
        "id": "xhXhFcJc0ziD"
      }
    },
    {
      "cell_type": "code",
      "source": [
        "%%capture\n",
        "def download_files(url_dict):\n",
        "    for file, url in url_dict.items():\n",
        "        !wget -O {file} {url} {file}\n",
        "\n",
        "git_download_path = \\\n",
        "    'https://raw.githubusercontent.com/PashaIanko/Sklearn-Utils/main/'\n",
        "\n",
        "files = [\n",
        "    'path_manager.py',\n",
        "    'sklearn_transformers.py',\n",
        "    'sklearn_utils.py'\n",
        "]\n",
        "\n",
        "url_dict = {file: git_download_path + file for file in files}\n",
        "download_files(url_dict)"
      ],
      "metadata": {
        "id": "2Edswwkj0yy2"
      },
      "execution_count": 3,
      "outputs": []
    },
    {
      "cell_type": "code",
      "source": [
        "import importlib\n",
        "import path_manager\n",
        "import sklearn_utils\n",
        "import sklearn_transformers\n",
        "\n",
        "def reload_modules(modules):\n",
        "    for module in modules:\n",
        "        importlib.reload(module)\n",
        "\n",
        "reload_modules(\n",
        "    [\n",
        "        path_manager,\n",
        "        sklearn_transformers,\n",
        "        sklearn_utils\n",
        "    ]\n",
        ")\n",
        "\n",
        "from path_manager import PathManager\n",
        "from sklearn_transformers import ColumnDropper\n",
        "from sklearn_utils import inf_statistics\n",
        "from sklearn_transformers import OutlierCleaner"
      ],
      "metadata": {
        "id": "JgYOe2C01Kz_"
      },
      "execution_count": 4,
      "outputs": []
    },
    {
      "cell_type": "markdown",
      "source": [
        "# Set up paths"
      ],
      "metadata": {
        "id": "Qp68wJ03chy1"
      }
    },
    {
      "cell_type": "code",
      "source": [
        "drive.mount('/content/gdrive')\n",
        "gdrive_path = '/content/gdrive/MyDrive/'\n",
        "\n",
        "PREPROC_TRIAL = 6\n",
        "MODELS_TRIAL = 4\n",
        "COMPETITION_PATH = gdrive_path + 'ML/Competitions/6.SpaceshipTitanic/'\n",
        "\n",
        "manager = PathManager(\n",
        "    competition_path=COMPETITION_PATH,\n",
        "    preprocessing_trial=PREPROC_TRIAL,\n",
        "    models_trial=MODELS_TRIAL\n",
        ")\n",
        "manager.setup_paths()"
      ],
      "metadata": {
        "id": "3lZ9wP2ScdMn",
        "colab": {
          "base_uri": "https://localhost:8080/"
        },
        "outputId": "0a86ba8c-9448-4675-d04e-beb04d9659d5"
      },
      "execution_count": 5,
      "outputs": [
        {
          "output_type": "stream",
          "name": "stdout",
          "text": [
            "Mounted at /content/gdrive\n",
            "/content/gdrive/MyDrive/ML/Competitions/6.SpaceshipTitanic/Data/preproc_trial_6 already exists\n",
            "/content/gdrive/MyDrive/ML/Competitions/6.SpaceshipTitanic/Models/trial_4 already exists\n"
          ]
        }
      ]
    },
    {
      "cell_type": "markdown",
      "source": [
        "# Download the data"
      ],
      "metadata": {
        "id": "icar5WRwCS97"
      }
    },
    {
      "cell_type": "code",
      "source": [
        "df_train = pd.read_csv(manager.train_path, index_col='Unnamed: 0')\n",
        "df_test = pd.read_csv(manager.test_path, index_col='Unnamed: 0')"
      ],
      "metadata": {
        "id": "Fb9XiK_GCVkh"
      },
      "execution_count": 53,
      "outputs": []
    },
    {
      "cell_type": "code",
      "source": [
        "df_train.columns, df_test.columns"
      ],
      "metadata": {
        "id": "fOcD_bHGRamz",
        "outputId": "ece84865-0827-464d-e57b-8d4b6ba101fe",
        "colab": {
          "base_uri": "https://localhost:8080/"
        }
      },
      "execution_count": 54,
      "outputs": [
        {
          "output_type": "execute_result",
          "data": {
            "text/plain": [
              "(Index(['PassengerId', 'HomePlanet', 'CryoSleep', 'Cabin', 'Destination', 'Age',\n",
              "        'VIP', 'RoomService', 'FoodCourt', 'ShoppingMall', 'Spa', 'VRDeck',\n",
              "        'Name', 'Transported', 'gender'],\n",
              "       dtype='object'),\n",
              " Index(['PassengerId', 'HomePlanet', 'CryoSleep', 'Cabin', 'Destination', 'Age',\n",
              "        'VIP', 'RoomService', 'FoodCourt', 'ShoppingMall', 'Spa', 'VRDeck',\n",
              "        'Name', 'gender'],\n",
              "       dtype='object'))"
            ]
          },
          "metadata": {},
          "execution_count": 54
        }
      ]
    },
    {
      "cell_type": "markdown",
      "source": [
        "# Checking NAN"
      ],
      "metadata": {
        "id": "zDMBBUJUDkg6"
      }
    },
    {
      "cell_type": "code",
      "source": [
        "from sklearn_utils import nan_statistics\n",
        "\n",
        "\n",
        "_ = nan_statistics(df_train)"
      ],
      "metadata": {
        "colab": {
          "base_uri": "https://localhost:8080/"
        },
        "id": "k7BBSgXxDj25",
        "outputId": "5614dcc6-a6c1-4600-e835-7566794423de"
      },
      "execution_count": null,
      "outputs": [
        {
          "output_type": "stream",
          "name": "stdout",
          "text": [
            "Col -- Nan percentage\n",
            "CryoSleep 2.4962613597147127\n",
            "ShoppingMall 2.392729782583688\n",
            "VIP 2.3352122397331185\n",
            "HomePlanet 2.312205222592891\n",
            "Name 2.300701714022777\n",
            "Cabin 2.289198205452663\n",
            "VRDeck 2.1626596111814105\n",
            "FoodCourt 2.105142068330841\n",
            "Spa 2.105142068330841\n",
            "Destination 2.093638559760727\n",
            "RoomService 2.082135051190613\n",
            "Age 2.0591280340503855\n"
          ]
        }
      ]
    },
    {
      "cell_type": "code",
      "source": [
        "_ = nan_statistics(df_test)"
      ],
      "metadata": {
        "colab": {
          "base_uri": "https://localhost:8080/"
        },
        "id": "IdxOYXpqDr9s",
        "outputId": "6b14cb74-d493-492a-cb23-029e38b167dd"
      },
      "execution_count": null,
      "outputs": [
        {
          "output_type": "stream",
          "name": "stdout",
          "text": [
            "Col -- Nan percentage\n",
            "FoodCourt 2.4783726911386488\n",
            "Spa 2.3614683189151275\n",
            "Cabin 2.338087444470423\n",
            "ShoppingMall 2.2913256955810146\n",
            "Name 2.197802197802198\n",
            "CryoSleep 2.1744213233574934\n",
            "VIP 2.1744213233574934\n",
            "Destination 2.1510404489127897\n",
            "Age 2.127659574468085\n",
            "HomePlanet 2.034136076689268\n",
            "RoomService 1.917231704465747\n",
            "VRDeck 1.8704699555763384\n"
          ]
        }
      ]
    },
    {
      "cell_type": "markdown",
      "source": [
        "# Check infinity values"
      ],
      "metadata": {
        "id": "UgATQKhiD1r6"
      }
    },
    {
      "cell_type": "code",
      "source": [
        "from sklearn_utils import inf_statistics\n",
        "\n",
        "\n",
        "inf_statistics(df_train)"
      ],
      "metadata": {
        "colab": {
          "base_uri": "https://localhost:8080/"
        },
        "id": "fYepxFaSHWBX",
        "outputId": "68e56c4b-af27-4668-f023-97108dd6400b"
      },
      "execution_count": null,
      "outputs": [
        {
          "output_type": "stream",
          "name": "stdout",
          "text": [
            "Age             0\n",
            "RoomService     0\n",
            "FoodCourt       0\n",
            "ShoppingMall    0\n",
            "Spa             0\n",
            "VRDeck          0\n",
            "dtype: int64\n"
          ]
        },
        {
          "output_type": "execute_result",
          "data": {
            "text/plain": [
              "Age             0\n",
              "RoomService     0\n",
              "FoodCourt       0\n",
              "ShoppingMall    0\n",
              "Spa             0\n",
              "VRDeck          0\n",
              "dtype: int64"
            ]
          },
          "metadata": {},
          "execution_count": 38
        }
      ]
    },
    {
      "cell_type": "code",
      "source": [
        "inf_statistics(df_test)"
      ],
      "metadata": {
        "colab": {
          "base_uri": "https://localhost:8080/"
        },
        "id": "a4gnAaNdHa79",
        "outputId": "aae1eb13-ae0a-4001-81e9-eac2d7373e4e"
      },
      "execution_count": null,
      "outputs": [
        {
          "output_type": "stream",
          "name": "stdout",
          "text": [
            "Age             0\n",
            "RoomService     0\n",
            "FoodCourt       0\n",
            "ShoppingMall    0\n",
            "Spa             0\n",
            "VRDeck          0\n",
            "dtype: int64\n"
          ]
        },
        {
          "output_type": "execute_result",
          "data": {
            "text/plain": [
              "Age             0\n",
              "RoomService     0\n",
              "FoodCourt       0\n",
              "ShoppingMall    0\n",
              "Spa             0\n",
              "VRDeck          0\n",
              "dtype: int64"
            ]
          },
          "metadata": {},
          "execution_count": 39
        }
      ]
    },
    {
      "cell_type": "code",
      "source": [
        "df_train.dtypes"
      ],
      "metadata": {
        "colab": {
          "base_uri": "https://localhost:8080/"
        },
        "id": "NTam716lHxSu",
        "outputId": "52022fb8-e89b-49cd-f598-1e92f034c36a"
      },
      "execution_count": null,
      "outputs": [
        {
          "output_type": "execute_result",
          "data": {
            "text/plain": [
              "PassengerId      object\n",
              "HomePlanet       object\n",
              "CryoSleep        object\n",
              "Cabin            object\n",
              "Destination      object\n",
              "Age             float64\n",
              "VIP              object\n",
              "RoomService     float64\n",
              "FoodCourt       float64\n",
              "ShoppingMall    float64\n",
              "Spa             float64\n",
              "VRDeck          float64\n",
              "Name             object\n",
              "Transported        bool\n",
              "dtype: object"
            ]
          },
          "metadata": {},
          "execution_count": 40
        }
      ]
    },
    {
      "cell_type": "markdown",
      "source": [
        "# Engineer new features"
      ],
      "metadata": {
        "id": "4kXo0uEftoJ7"
      }
    },
    {
      "cell_type": "markdown",
      "source": [
        "## Did a person buy any luxury service?"
      ],
      "metadata": {
        "id": "letMnuUcvzyv"
      }
    },
    {
      "cell_type": "code",
      "source": [
        "from sklearn.base import BaseEstimator, TransformerMixin\n",
        "\n",
        "\n",
        "class BoughtLuxuryItems(BaseEstimator, TransformerMixin):\n",
        "    def __init__(self):\n",
        "        super().__init__()\n",
        "\n",
        "    def fit(self, X, y=None):\n",
        "        return self\n",
        "\n",
        "    def transform(self, X, y=None):\n",
        "        transformed_df = X.copy()\n",
        "        transformed_df['BoughtAnyLuxury'] = \\\n",
        "            (transformed_df['ShoppingMall'] > 0.0) \\\n",
        "            | (transformed_df['FoodCourt'] > 0.0) \\\n",
        "            | (transformed_df['VRDeck'] > 0.0) \\\n",
        "            | (transformed_df['Spa'] > 0.0) \\\n",
        "            | (transformed_df['RoomService'] > 0.0)\n",
        "        return transformed_df\n",
        "\n",
        "\n",
        "pep8(_ih)"
      ],
      "metadata": {
        "id": "9SheE52xt7t0",
        "outputId": "b03b684a-f0a8-4e10-e552-5c94d8f9d655",
        "colab": {
          "base_uri": "https://localhost:8080/"
        }
      },
      "execution_count": 55,
      "outputs": [
        {
          "output_type": "stream",
          "name": "stdout",
          "text": [
            "\n"
          ]
        }
      ]
    },
    {
      "cell_type": "code",
      "source": [
        "bought_luxury_items = BoughtLuxuryItems()\n",
        "\n",
        "df_train = bought_luxury_items.fit_transform(df_train)\n",
        "df_test = bought_luxury_items.transform(df_test)"
      ],
      "metadata": {
        "id": "d-xmG0yOvDDq"
      },
      "execution_count": 56,
      "outputs": []
    },
    {
      "cell_type": "markdown",
      "source": [
        "## DeckNum, DeckSide, Deck"
      ],
      "metadata": {
        "id": "rauJCcGiv3uP"
      }
    },
    {
      "cell_type": "code",
      "source": [
        "from sklearn.base import TransformerMixin, BaseEstimator\n",
        "\n",
        "\n",
        "class DeckNumAdder(TransformerMixin, BaseEstimator):\n",
        "    def __init__(self):\n",
        "        super().__init__()\n",
        "\n",
        "    def fit(self, X, y=None):\n",
        "        return self\n",
        "\n",
        "    def get_deck_num(self, deck):\n",
        "        if type(deck) is str:\n",
        "            split_items = deck.split('/')\n",
        "            return int(split_items[1])\n",
        "        else:\n",
        "            return 0\n",
        "\n",
        "    def transform(self, X, y=None):\n",
        "        df_transformed = X.copy()\n",
        "        df_transformed['DeckNum'] = df_transformed['Cabin'] \\\n",
        "            .map(self.get_deck_num)\n",
        "        return df_transformed\n",
        "\n",
        "\n",
        "pep8(_ih)"
      ],
      "metadata": {
        "id": "1VxWAFHiv73P",
        "outputId": "82040fa0-1931-4fc6-bb39-c7e95a9d1737",
        "colab": {
          "base_uri": "https://localhost:8080/"
        }
      },
      "execution_count": 57,
      "outputs": [
        {
          "output_type": "stream",
          "name": "stdout",
          "text": [
            "\n"
          ]
        }
      ]
    },
    {
      "cell_type": "code",
      "source": [
        "deck_num_adder = DeckNumAdder()\n",
        "df_train = deck_num_adder.fit_transform(df_train)\n",
        "df_test = deck_num_adder.transform(df_test)"
      ],
      "metadata": {
        "id": "WIUi4mQGwiiF"
      },
      "execution_count": 58,
      "outputs": []
    },
    {
      "cell_type": "code",
      "source": [
        "from sklearn.base import TransformerMixin, BaseEstimator\n",
        "\n",
        "\n",
        "class DeckSideAdder(TransformerMixin, BaseEstimator):\n",
        "    def __init__(self):\n",
        "        super().__init__()\n",
        "\n",
        "    def fit(self, X, y=None):\n",
        "        return self\n",
        "\n",
        "    def add_deck_side(self, val):\n",
        "        if type(val) is str:\n",
        "            return val.split('/')[2]\n",
        "        else:\n",
        "            return 'NOT ASSIGNED'\n",
        "\n",
        "    def transform(self, X, y=None):\n",
        "        df_transformed = X.copy()\n",
        "        df_transformed['DeckSide'] = df_transformed['Cabin'].map(\n",
        "            self.add_deck_side\n",
        "        )\n",
        "\n",
        "        del X\n",
        "        return df_transformed\n",
        "\n",
        "\n",
        "pep8(_ih)"
      ],
      "metadata": {
        "id": "1Nn7q4ySxqwY",
        "outputId": "977d3d82-b0e0-4f50-e35e-fa849b4d4eed",
        "colab": {
          "base_uri": "https://localhost:8080/"
        }
      },
      "execution_count": 59,
      "outputs": [
        {
          "output_type": "stream",
          "name": "stdout",
          "text": [
            "\n"
          ]
        }
      ]
    },
    {
      "cell_type": "code",
      "source": [
        "deck_side_adder = DeckSideAdder()\n",
        "\n",
        "df_train = deck_side_adder.fit_transform(df_train)\n",
        "df_test = deck_side_adder.transform(df_test)"
      ],
      "metadata": {
        "id": "CXIJ8ZEBybuB"
      },
      "execution_count": 60,
      "outputs": []
    },
    {
      "cell_type": "code",
      "source": [
        "from sklearn.base import TransformerMixin, BaseEstimator\n",
        "\n",
        "\n",
        "class DeckAdder(TransformerMixin, BaseEstimator):\n",
        "    def __init__(self):\n",
        "        super().__init__()\n",
        "\n",
        "    def fit(self, X, y=None):\n",
        "        return self\n",
        "\n",
        "    def add_deck(self, val):\n",
        "        if type(val) is str:\n",
        "            return val.split('/')[0]\n",
        "        else:\n",
        "            return 'NOT ASSIGNED'\n",
        "\n",
        "    def transform(self, X, y=None):\n",
        "        transformed_df = X.copy()\n",
        "        transformed_df['Deck'] = transformed_df['Cabin'].map(\n",
        "            self.add_deck\n",
        "        )\n",
        "        del X\n",
        "        return transformed_df\n",
        "\n",
        "\n",
        "pep8(_ih)"
      ],
      "metadata": {
        "id": "ZcGKlYMo0ZvK",
        "outputId": "198e5fd4-82ff-4f84-b11e-52e77bfc85e2",
        "colab": {
          "base_uri": "https://localhost:8080/"
        }
      },
      "execution_count": 61,
      "outputs": [
        {
          "output_type": "stream",
          "name": "stdout",
          "text": [
            "\n"
          ]
        }
      ]
    },
    {
      "cell_type": "code",
      "source": [
        "deck_adder = DeckAdder()\n",
        "df_train = deck_adder.fit_transform(df_train)\n",
        "df_test = deck_adder.transform(df_test)"
      ],
      "metadata": {
        "id": "GW6PEcNc1Elp"
      },
      "execution_count": 62,
      "outputs": []
    },
    {
      "cell_type": "markdown",
      "source": [
        "## PassengerGroup, PassengerPosition, SingleInGroup, GroupSize\n",
        "\n"
      ],
      "metadata": {
        "id": "aOoMckukLruj"
      }
    },
    {
      "cell_type": "code",
      "source": [
        "from sklearn.base import TransformerMixin, BaseEstimator\n",
        "\n",
        "\n",
        "class PassengerGroupAdder(TransformerMixin, BaseEstimator):\n",
        "    def __init__(self):\n",
        "        super().__init__()\n",
        "\n",
        "    def fit(self, X, y=None):\n",
        "        return self\n",
        "\n",
        "    def get_passenger_group(self, val):\n",
        "        if val is not np.nan:\n",
        "            return int(val.split('_')[0])\n",
        "        else:\n",
        "            return val\n",
        "\n",
        "    def transform(self, X, y=None):\n",
        "        transformed_df = X.copy()\n",
        "        transformed_df['PassengerGroup'] = \\\n",
        "            X['PassengerId'].map(self.get_passenger_group)\n",
        "        del X\n",
        "        return transformed_df\n",
        "\n",
        "\n",
        "pep8(_ih)"
      ],
      "metadata": {
        "id": "Nr0rLxreL3F8",
        "outputId": "3f702368-4be6-46b9-e461-6efe865f5d50",
        "colab": {
          "base_uri": "https://localhost:8080/"
        }
      },
      "execution_count": 63,
      "outputs": [
        {
          "output_type": "stream",
          "name": "stdout",
          "text": [
            "\n"
          ]
        }
      ]
    },
    {
      "cell_type": "code",
      "source": [
        "group_adder = PassengerGroupAdder()\n",
        "df_train = group_adder.fit_transform(df_train)\n",
        "df_test = group_adder.transform(df_test)"
      ],
      "metadata": {
        "id": "YtHbVUDrM8uK"
      },
      "execution_count": 64,
      "outputs": []
    },
    {
      "cell_type": "code",
      "source": [
        "from sklearn.base import TransformerMixin, BaseEstimator\n",
        "\n",
        "\n",
        "class PassengerPositionAdder(TransformerMixin, BaseEstimator):\n",
        "    def __init__(self):\n",
        "        super().__init__()\n",
        "\n",
        "    def fit(self, X, y=None):\n",
        "        return self\n",
        "\n",
        "    def get_position(self, val):\n",
        "        return int(val.split('_')[1])\n",
        "    \n",
        "    def transform(self, X, y=None):\n",
        "        # df_transformed = X.copy()\n",
        "        # del X\n",
        "        X['PassengerGroupPosition'] = \\\n",
        "            X['PassengerId'].map(self.get_position)\n",
        "        return X"
      ],
      "metadata": {
        "id": "WniLnAnPNGNb"
      },
      "execution_count": 65,
      "outputs": []
    },
    {
      "cell_type": "code",
      "source": [
        "position_adder = PassengerPositionAdder()\n",
        "df_train = position_adder.fit_transform(df_train)\n",
        "df_test = position_adder.transform(df_test)"
      ],
      "metadata": {
        "id": "XNLMEaPKOHOg"
      },
      "execution_count": 66,
      "outputs": []
    },
    {
      "cell_type": "code",
      "source": [
        "from sklearn.base import TransformerMixin, BaseEstimator\n",
        "\n",
        "\n",
        "class GroupSizeAdder(BaseEstimator, TransformerMixin):\n",
        "    def __init__(self):\n",
        "        super().__init__()\n",
        "        self.value_counts = None\n",
        "\n",
        "    def fit(self, X, y=None):\n",
        "        self.value_counts = X['PassengerGroup'].value_counts()\n",
        "        return self\n",
        "\n",
        "    def get_group_size(self, val):\n",
        "        return self.value_counts.loc[val]\n",
        "\n",
        "    def transform(self, X, y=None):\n",
        "        X['GroupSize'] = \\\n",
        "            X['PassengerGroup'].map(self.get_group_size)\n",
        "        X['AloneInGroup'] = X['GroupSize'] == 1\n",
        "        return X\n",
        "    "
      ],
      "metadata": {
        "id": "BRtbjS_pOfsf"
      },
      "execution_count": 67,
      "outputs": []
    },
    {
      "cell_type": "code",
      "source": [
        "adder = GroupSizeAdder()\n",
        "df_train = adder.fit_transform(df_train)\n",
        "\n",
        "# Fit transform on test, because\n",
        "# contains group numbers, not present in df_train\n",
        "df_test = adder.fit_transform(df_test)"
      ],
      "metadata": {
        "id": "9Nl0foY7PIiQ"
      },
      "execution_count": 68,
      "outputs": []
    },
    {
      "cell_type": "markdown",
      "source": [
        "# Clean outliers"
      ],
      "metadata": {
        "id": "Uqant71Jqad9"
      }
    },
    {
      "cell_type": "code",
      "source": [
        "from sklearn_transformers import OutlierCleaner\n",
        "\n",
        "\n",
        "cleaner = OutlierCleaner(\n",
        "    ['VRDeck', 'Spa', 'RoomService', 'FoodCourt', 'ShoppingMall'],\n",
        "    lower_quantile_=0.05,\n",
        "    upper_quantile_=0.95\n",
        ")"
      ],
      "metadata": {
        "id": "NNd8aE7Yto96"
      },
      "execution_count": 69,
      "outputs": []
    },
    {
      "cell_type": "code",
      "source": [
        "columns = ['VRDeck', 'Spa', 'RoomService', 'FoodCourt', 'ShoppingMall']\n",
        "\n",
        "cleaner = OutlierCleaner(\n",
        "    columns,\n",
        "    0.05,\n",
        "    0.95\n",
        ")\n",
        "df_result = cleaner.fit_transform(df_train)\n",
        "\n",
        "import matplotlib.pyplot as plt\n",
        "for column in columns:\n",
        "    fig, ax = plt.subplots(2, 1)\n",
        "    df_train.boxplot([column], ax=ax[0])\n",
        "    df_result.boxplot([column], ax=ax[1])"
      ],
      "metadata": {
        "colab": {
          "base_uri": "https://localhost:8080/",
          "height": 0
        },
        "id": "HggHr03srpgZ",
        "outputId": "46cfe823-06b5-4b67-eeff-e18a0db9b21f"
      },
      "execution_count": 70,
      "outputs": [
        {
          "output_type": "display_data",
          "data": {
            "text/plain": [
              "<Figure size 432x288 with 2 Axes>"
            ],
            "image/png": "[encoded data removed]"
          },
          "metadata": {
            "needs_background": "light"
          }
        },
        {
          "output_type": "display_data",
          "data": {
            "text/plain": [
              "<Figure size 432x288 with 2 Axes>"
            ],
            "image/png": "[encoded data removed]"
          },
          "metadata": {
            "needs_background": "light"
          }
        },
        {
          "output_type": "display_data",
          "data": {
            "text/plain": [
              "<Figure size 432x288 with 2 Axes>"
            ],
            "image/png": "[encoded data removed]"
          },
          "metadata": {
            "needs_background": "light"
          }
        },
        {
          "output_type": "display_data",
          "data": {
            "text/plain": [
              "<Figure size 432x288 with 2 Axes>"
            ],
            "image/png": "[encoded data removed]"
          },
          "metadata": {
            "needs_background": "light"
          }
        },
        {
          "output_type": "display_data",
          "data": {
            "text/plain": [
              "<Figure size 432x288 with 2 Axes>"
            ],
            "image/png": "[encoded data removed]"
          },
          "metadata": {
            "needs_background": "light"
          }
        }
      ]
    },
    {
      "cell_type": "code",
      "source": [
        "df_train = cleaner.fit_transform(df_train)\n",
        "df_test = cleaner.transform(df_test)"
      ],
      "metadata": {
        "id": "1QvQx86Etyy0"
      },
      "execution_count": 71,
      "outputs": []
    },
    {
      "cell_type": "markdown",
      "source": [
        "# Reduce number precision"
      ],
      "metadata": {
        "id": "_SQMqOX3IEa5"
      }
    },
    {
      "cell_type": "code",
      "source": [
        "def reduce_precision(\n",
        "    df_,\n",
        "    original_dtypes_=['float64'],\n",
        "    transcription_dict_={\n",
        "        'float64': 'float32',\n",
        "        'int64': 'int32'\n",
        "    }\n",
        "):\n",
        "    '''\n",
        "    For every column, that has a dtype in original_dtypes\n",
        "    list --> it changes the original dtype, according to\n",
        "    the transcription_dict_\n",
        "    '''\n",
        "    for numeric_type in original_dtypes_:\n",
        "        mask = np.isin(df_.dtypes, [numeric_type])\n",
        "        df_.loc[:, mask] = \\\n",
        "            df_.loc[:, mask].astype(transcription_dict_[numeric_type])\n",
        "    return df_"
      ],
      "metadata": {
        "id": "Om4WOFjbIGhu"
      },
      "execution_count": null,
      "outputs": []
    },
    {
      "cell_type": "code",
      "source": [
        "df_train = reduce_precision(df_train)"
      ],
      "metadata": {
        "id": "w7sNrb6qKdMC"
      },
      "execution_count": null,
      "outputs": []
    },
    {
      "cell_type": "code",
      "source": [
        "df_test = reduce_precision(df_test)"
      ],
      "metadata": {
        "id": "uX1c_63TLnf4"
      },
      "execution_count": null,
      "outputs": []
    },
    {
      "cell_type": "code",
      "source": [
        "common_columns = set(df_train.columns).intersection(\n",
        "    df_test.columns\n",
        ")\n",
        "\n",
        "assert (df_train.loc[:, common_columns].dtypes == \\\n",
        "        df_test.loc[:, common_columns].dtypes).all()"
      ],
      "metadata": {
        "id": "PnUnnwOkLvaT"
      },
      "execution_count": null,
      "outputs": []
    },
    {
      "cell_type": "markdown",
      "source": [
        "# Removing NAN / INF columns"
      ],
      "metadata": {
        "id": "aWJjLx1qMccw"
      }
    },
    {
      "cell_type": "markdown",
      "source": [
        "- No columns with high content of NAN / INF values encountered"
      ],
      "metadata": {
        "id": "K6ZUD_mjMfRc"
      }
    },
    {
      "cell_type": "markdown",
      "source": [
        "# Preparing processing pipelines"
      ],
      "metadata": {
        "id": "jpsOvykVcJnd"
      }
    },
    {
      "cell_type": "code",
      "source": [
        "luxury_columns = [\n",
        "    'RoomService',\n",
        "    'FoodCourt',\n",
        "    'ShoppingMall',\n",
        "    'Spa',\n",
        "    'VRDeck'\n",
        "]\n",
        "\n",
        "luxury_pipeline = Pipeline(\n",
        "    [\n",
        "        ('impute', SimpleImputer(strategy='median'))\n",
        "    ]\n",
        ")"
      ],
      "metadata": {
        "id": "HfHrTrBmOvRf"
      },
      "execution_count": 72,
      "outputs": []
    },
    {
      "cell_type": "code",
      "source": [
        "name_columns = [\n",
        "    'Name'\n",
        "]\n",
        "\n",
        "name_pipeline = Pipeline(\n",
        "    [\n",
        "        ('drop', ColumnDropper(name_columns))\n",
        "    ]\n",
        ")"
      ],
      "metadata": {
        "id": "3WyHfehJPdVo"
      },
      "execution_count": 73,
      "outputs": []
    },
    {
      "cell_type": "code",
      "source": [
        "age_columns = [\n",
        "    'Age'\n",
        "]\n",
        "\n",
        "age_pipeline = Pipeline(\n",
        "    [\n",
        "        ('impute', SimpleImputer(strategy='median')),\n",
        "        ('standardize', StandardScaler())\n",
        "    ]\n",
        ")"
      ],
      "metadata": {
        "id": "_YKiXBvPRkie"
      },
      "execution_count": 74,
      "outputs": []
    },
    {
      "cell_type": "code",
      "source": [
        "home_planet_columns = [\n",
        "    'HomePlanet'\n",
        "]\n",
        "\n",
        "home_planet_pipeline = Pipeline(\n",
        "    [\n",
        "        # ('impute', SimpleImputer(missing_values=np.nan, strategy='constant')),\n",
        "        ('one-hot', OneHotEncoder(handle_unknown='ignore'))\n",
        "    ]\n",
        ")"
      ],
      "metadata": {
        "id": "4MyO2bNvUf-A"
      },
      "execution_count": 75,
      "outputs": []
    },
    {
      "cell_type": "code",
      "source": [
        "destination_columns = [\n",
        "    'Destination'\n",
        "]\n",
        "\n",
        "destination_pipeline = Pipeline(\n",
        "    [\n",
        "        # ('impute', SimpleImputer(strategy='median')),\n",
        "        ('one-hot', OneHotEncoder(handle_unknown='ignore'))\n",
        "    ]\n",
        ")"
      ],
      "metadata": {
        "id": "evfwi4UNU03k"
      },
      "execution_count": 76,
      "outputs": []
    },
    {
      "cell_type": "code",
      "source": [
        "passenger_id_columns = [\n",
        "    'PassengerId'\n",
        "]\n",
        "\n",
        "passenger_id_pipeline = Pipeline(\n",
        "    [\n",
        "        # ('impute', SimpleImputer(strategy='median')),\n",
        "        ('drop', ColumnDropper(passenger_id_columns))\n",
        "    ]\n",
        ")"
      ],
      "metadata": {
        "id": "RASaH86hVZ5e"
      },
      "execution_count": 77,
      "outputs": []
    },
    {
      "cell_type": "code",
      "source": [
        "cabin_columns = [\n",
        "    'Cabin'\n",
        "]\n",
        "\n",
        "cabin_pipeline = Pipeline(\n",
        "    [\n",
        "        ('drop', ColumnDropper(cabin_columns))\n",
        "    ]\n",
        ")"
      ],
      "metadata": {
        "id": "9kXxu5O0VnPz"
      },
      "execution_count": 78,
      "outputs": []
    },
    {
      "cell_type": "code",
      "source": [
        "# Consider here also one-hot encoding, substituting\n",
        "# NAN values as \"Missing\"\n",
        "\n",
        "cryo_sleep_columns = [\n",
        "    'CryoSleep'\n",
        "]\n",
        "\n",
        "cryo_sleep_pipeline = Pipeline(\n",
        "    [\n",
        "        ('impute', SimpleImputer(strategy='median'))\n",
        "    ]\n",
        ")"
      ],
      "metadata": {
        "id": "T-NJQVfudKhi"
      },
      "execution_count": 79,
      "outputs": []
    },
    {
      "cell_type": "code",
      "source": [
        "vip_columns = [\n",
        "    'VIP'\n",
        "]\n",
        "\n",
        "vip_pipeline = Pipeline(\n",
        "    [\n",
        "        ('impute', SimpleImputer(strategy='median'))\n",
        "    ]\n",
        ")"
      ],
      "metadata": {
        "id": "-hihkjpkdYNk"
      },
      "execution_count": 80,
      "outputs": []
    },
    {
      "cell_type": "code",
      "source": [
        "bought_any_luxury_columns = [\n",
        "    'BoughtAnyLuxury'\n",
        "]\n",
        "\n",
        "bought_any_luxury_pipeline = Pipeline(\n",
        "    [\n",
        "        ('impute', SimpleImputer(strategy='median')),\n",
        "    ]\n",
        ")"
      ],
      "metadata": {
        "id": "R51fvtuP1uLN"
      },
      "execution_count": 81,
      "outputs": []
    },
    {
      "cell_type": "code",
      "source": [
        "from sklearn.preprocessing import OrdinalEncoder\n",
        "\n",
        "\n",
        "deck_columns = [\n",
        "    'Deck'\n",
        "]\n",
        "\n",
        "deck_pipeline = Pipeline(\n",
        "    [\n",
        "        ('impute', SimpleImputer(strategy='constant', fill_value='UNKNOWN')),\n",
        "        (\n",
        "            'encode',\n",
        "            OrdinalEncoder(\n",
        "                categories=[\n",
        "                    [\n",
        "                        'NOT ASSIGNED',\n",
        "                        'A',\n",
        "                        'B',\n",
        "                        'C',\n",
        "                        'D',\n",
        "                        'E',\n",
        "                        'F',\n",
        "                        'G',\n",
        "                        'T'\n",
        "                    ]\n",
        "                ]\n",
        "            )\n",
        "        )\n",
        "    ]\n",
        ")"
      ],
      "metadata": {
        "id": "hIjStR5y1_Bm"
      },
      "execution_count": 82,
      "outputs": []
    },
    {
      "cell_type": "code",
      "source": [
        "deck_num_columns = [\n",
        "    'DeckNum'\n",
        "]\n",
        "\n",
        "deck_num_pipeline = Pipeline(\n",
        "    [\n",
        "        ('impute', SimpleImputer(strategy='constant'))\n",
        "    ]\n",
        ")"
      ],
      "metadata": {
        "id": "gNgJsZ_g2s6X"
      },
      "execution_count": 83,
      "outputs": []
    },
    {
      "cell_type": "code",
      "source": [
        "deck_size_columns = [\n",
        "    'DeckSide'\n",
        "]\n",
        "\n",
        "deck_side_pipeline = Pipeline(\n",
        "    [\n",
        "        ('impute', SimpleImputer(strategy='constant', fill_value='UNKNOWN')),\n",
        "        ('encode', OneHotEncoder(handle_unknown='ignore'))\n",
        "    ]\n",
        ")"
      ],
      "metadata": {
        "id": "S3NQdPGw24x8"
      },
      "execution_count": 84,
      "outputs": []
    },
    {
      "cell_type": "code",
      "source": [
        "alone_columns = ['AloneInGroup']\n",
        "alone_pipeline = Pipeline(\n",
        "    [('impute', SimpleImputer(strategy='median'))]\n",
        ")"
      ],
      "metadata": {
        "id": "nftDmq3LRTvJ"
      },
      "execution_count": 85,
      "outputs": []
    },
    {
      "cell_type": "code",
      "source": [
        "group_position_columns = ['PassengerGroupPosition']\n",
        "group_position_pipeline = Pipeline(\n",
        "    [\n",
        "        ('impute', SimpleImputer(strategy='median')),\n",
        "        ('scale', StandardScaler())\n",
        "    ]\n",
        ")"
      ],
      "metadata": {
        "id": "qYQ_7BNwRrHI"
      },
      "execution_count": 86,
      "outputs": []
    },
    {
      "cell_type": "code",
      "source": [
        "group_size_columns = ['GroupSize']\n",
        "group_size_pipeline = Pipeline(\n",
        "    [\n",
        "        ('impute', SimpleImputer(strategy='median')),\n",
        "        ('scale', StandardScaler())\n",
        "    ]\n",
        ")"
      ],
      "metadata": {
        "id": "aOPyE9YVSAHO"
      },
      "execution_count": 87,
      "outputs": []
    },
    {
      "cell_type": "code",
      "source": [
        "passenger_group_columns = ['PassengerGroup']\n",
        "passenger_group_pipeline = Pipeline(\n",
        "    [\n",
        "        ('impute', SimpleImputer(strategy='median')),\n",
        "        ('scale', StandardScaler())\n",
        "    ]\n",
        ")"
      ],
      "metadata": {
        "id": "yUVOunCQSPYt"
      },
      "execution_count": 88,
      "outputs": []
    },
    {
      "cell_type": "code",
      "source": [
        "gender_columns = ['gender']\n",
        "gender_pipeline = Pipeline(\n",
        "    [\n",
        "        ('impute', SimpleImputer(strategy='constant', fill_value=0.0))\n",
        "    ]\n",
        ")"
      ],
      "metadata": {
        "id": "ejWa2DNgQ_TC"
      },
      "execution_count": 89,
      "outputs": []
    },
    {
      "cell_type": "code",
      "source": [
        "# all_columns = set()\n",
        "all_columns = set(\n",
        "    [\n",
        "        *luxury_columns,\n",
        "        *name_columns,\n",
        "        *age_columns,\n",
        "        *home_planet_columns,\n",
        "        *destination_columns,\n",
        "        *passenger_id_columns,\n",
        "        *cabin_columns,\n",
        "        *vip_columns,\n",
        "        *cryo_sleep_columns,\n",
        "        *bought_any_luxury_columns,\n",
        "        *deck_columns,\n",
        "        *deck_num_columns,\n",
        "        *deck_size_columns,\n",
        "     \n",
        "        *alone_columns,\n",
        "        *group_position_columns,\n",
        "        *group_size_columns,\n",
        "        *passenger_group_columns,\n",
        "        *gender_columns\n",
        "\n",
        "    ]\n",
        ")\n",
        "\n",
        "# print(df_train.columns)\n",
        "assert (set(df_train.columns) - all_columns) == {'Transported'}, \\\n",
        "    print(set(df_train.columns) - all_columns)"
      ],
      "metadata": {
        "id": "R7YIk7Rs1shO"
      },
      "execution_count": 90,
      "outputs": []
    },
    {
      "cell_type": "code",
      "source": [
        "from sklearn_transformers import ColumnDropper\n",
        "\n",
        "\n",
        "preprocessor = ColumnTransformer(\n",
        "    [\n",
        "        ('luxury', luxury_pipeline, luxury_columns),\n",
        "        ('drop', name_pipeline, name_columns),\n",
        "        ('age', age_pipeline, age_columns),\n",
        "        ('home_planet', home_planet_pipeline, home_planet_columns),\n",
        "        ('destination', destination_pipeline, destination_columns),\n",
        "        ('passenger_id', passenger_id_pipeline, passenger_id_columns),\n",
        "        ('vip', vip_pipeline, vip_columns),\n",
        "        ('cryo_sleep', cryo_sleep_pipeline, cryo_sleep_columns),\n",
        "        ('cabin', cabin_pipeline, cabin_columns),\n",
        "        \n",
        "        ('bought_any_luxury', bought_any_luxury_pipeline, bought_any_luxury_columns),\n",
        "        ('deck', deck_pipeline, deck_columns),\n",
        "        ('deck_num', deck_num_pipeline, deck_num_columns),\n",
        "        ('deck_side', deck_side_pipeline, deck_size_columns),\n",
        "        \n",
        "        ('alone_in_group', alone_pipeline, alone_columns),\n",
        "        ('passenger_group_position', group_position_pipeline, group_position_columns),\n",
        "        ('group_size', group_size_pipeline, group_size_columns),\n",
        "        ('passenger_group', passenger_group_pipeline, passenger_group_columns),\n",
        "        ('gender', gender_pipeline, gender_columns)\n",
        "    ],\n",
        "    remainder='passthrough'\n",
        ")"
      ],
      "metadata": {
        "id": "RoJKjl1VWIQ_"
      },
      "execution_count": 92,
      "outputs": []
    },
    {
      "cell_type": "markdown",
      "source": [
        "# Splitting the training data"
      ],
      "metadata": {
        "id": "MdFCdyl-S5T3"
      }
    },
    {
      "cell_type": "markdown",
      "source": [
        "## Split the data"
      ],
      "metadata": {
        "id": "vyQ3Lc6OTjo0"
      }
    },
    {
      "cell_type": "code",
      "source": [
        "from sklearn.model_selection import train_test_split\n",
        "\n",
        "TRAIN_VAL_PERCENTAGE = 0.8\n",
        "RANDOM_STATE = 42\n",
        "\n",
        "df_trainval, df_test_sample = train_test_split(\n",
        "    df_train,\n",
        "    train_size=TRAIN_VAL_PERCENTAGE,\n",
        "    random_state=RANDOM_STATE,\n",
        "    stratify=df_train['Transported']\n",
        ")\n",
        "\n",
        "df_trainval.shape, df_test_sample.shape"
      ],
      "metadata": {
        "colab": {
          "base_uri": "https://localhost:8080/"
        },
        "id": "i0jMT3w4S8me",
        "outputId": "0fcabb9e-0831-4121-cf29-e5ccc06a1c68"
      },
      "execution_count": 93,
      "outputs": [
        {
          "output_type": "execute_result",
          "data": {
            "text/plain": [
              "((6954, 23), (1739, 23))"
            ]
          },
          "metadata": {},
          "execution_count": 93
        }
      ]
    },
    {
      "cell_type": "markdown",
      "source": [
        "## Check class balance and feature distribution after splitting"
      ],
      "metadata": {
        "id": "PGC7b7WBTlWP"
      }
    },
    {
      "cell_type": "code",
      "source": [
        "print(df_trainval.Transported.value_counts())\n",
        "print(df_test_sample.Transported.value_counts())"
      ],
      "metadata": {
        "colab": {
          "base_uri": "https://localhost:8080/"
        },
        "id": "OJfL667LTnL8",
        "outputId": "02b27e68-5c59-475f-e57b-c27c48dae25a"
      },
      "execution_count": 94,
      "outputs": [
        {
          "output_type": "stream",
          "name": "stdout",
          "text": [
            "True     3502\n",
            "False    3452\n",
            "Name: Transported, dtype: int64\n",
            "True     876\n",
            "False    863\n",
            "Name: Transported, dtype: int64\n"
          ]
        }
      ]
    },
    {
      "cell_type": "code",
      "source": [
        "from sklearn_utils import visualize_datasets_distributions\n",
        "\n",
        "visualize_datasets_distributions(\n",
        "    dataframes_dict_={\n",
        "        'trainval': df_trainval,\n",
        "        'test_sample': df_test_sample\n",
        "    },\n",
        "    columns_=df_trainval.columns[np.isin(df_trainval.dtypes, ['float32', 'int', ''])]\n",
        ")"
      ],
      "metadata": {
        "colab": {
          "base_uri": "https://localhost:8080/",
          "height": 0
        },
        "id": "nmRlxuVqVWXV",
        "outputId": "f0829c71-f16a-43a3-b8ab-dc5007acf694"
      },
      "execution_count": 95,
      "outputs": [
        {
          "output_type": "stream",
          "name": "stdout",
          "text": [
            "Visualizing datasets distributions\n"
          ]
        },
        {
          "output_type": "display_data",
          "data": {
            "text/plain": [
              "<Figure size 720x432 with 6 Axes>"
            ],
            "image/png": "[encoded data removed]"
          },
          "metadata": {
            "needs_background": "light"
          }
        }
      ]
    },
    {
      "cell_type": "markdown",
      "source": [
        "# Process data"
      ],
      "metadata": {
        "id": "KAjBt9JoWCnO"
      }
    },
    {
      "cell_type": "code",
      "source": [
        "df_trainval_processed = preprocessor.fit_transform(\n",
        "    df_trainval\n",
        ")\n",
        "\n",
        "col_n = -1\n",
        "assert (df_trainval_processed[:, col_n] == df_trainval['Transported']).all()"
      ],
      "metadata": {
        "id": "rpR_Oj5yWESs"
      },
      "execution_count": 96,
      "outputs": []
    },
    {
      "cell_type": "code",
      "source": [
        "df_test_sample_processed = preprocessor.transform(\n",
        "    df_test_sample\n",
        ")\n",
        "assert (df_test_sample_processed[:, -1] == df_test_sample['Transported']).all()"
      ],
      "metadata": {
        "id": "jt8EDj0fWKRE"
      },
      "execution_count": 97,
      "outputs": []
    },
    {
      "cell_type": "code",
      "source": [
        "df_test['Transported'] = np.zeros(len(df_test))\n",
        "df_test_processed = preprocessor.transform(df_test)\n",
        "\n",
        "# removing fake \"Transported\" column\n",
        "df_test_processed = df_test_processed[:, :-1]"
      ],
      "metadata": {
        "id": "wSBoAzsRWOWF"
      },
      "execution_count": 98,
      "outputs": []
    },
    {
      "cell_type": "code",
      "source": [
        "assert (df_trainval_processed.dtype == 'float64') \\\n",
        "    & (df_test_sample_processed.dtype == 'float64') \\\n",
        "    & (df_test_processed.dtype == 'float64')"
      ],
      "metadata": {
        "id": "XBwab5igdImz"
      },
      "execution_count": 99,
      "outputs": []
    },
    {
      "cell_type": "markdown",
      "source": [
        "# Feature selection"
      ],
      "metadata": {
        "id": "Xj95zBMsiYmH"
      }
    },
    {
      "cell_type": "code",
      "source": [
        "from sklearn.feature_selection import SelectPercentile\n",
        "from sklearn.feature_selection import f_classif\n",
        "import matplotlib.pyplot as plt\n",
        "\n",
        "PERCENTILE = 80\n",
        "\n",
        "feature_selector = SelectPercentile(\n",
        "    score_func=f_classif,\n",
        "    percentile=80\n",
        ")\n",
        "feature_selector.fit(\n",
        "    df_trainval_processed[:, :-1],\n",
        "    df_trainval_processed[:, -1]\n",
        ")"
      ],
      "metadata": {
        "id": "vnhw4kgHi6w_",
        "outputId": "3d29be73-6444-4ffc-c8dc-3526aea694f5",
        "colab": {
          "base_uri": "https://localhost:8080/"
        }
      },
      "execution_count": null,
      "outputs": [
        {
          "output_type": "execute_result",
          "data": {
            "text/plain": [
              "SelectPercentile(percentile=80)"
            ]
          },
          "metadata": {},
          "execution_count": 65
        }
      ]
    },
    {
      "cell_type": "code",
      "source": [
        "plt.bar(\n",
        "    list(range(len(feature_selector.scores_))),\n",
        "    feature_selector.scores_,\n",
        ")"
      ],
      "metadata": {
        "id": "tfPZjkDOjbDu",
        "outputId": "082ddac9-e324-4b53-aae7-c6fb1d1e4940",
        "colab": {
          "base_uri": "https://localhost:8080/",
          "height": 283
        }
      },
      "execution_count": null,
      "outputs": [
        {
          "output_type": "execute_result",
          "data": {
            "text/plain": [
              "<BarContainer object of 26 artists>"
            ]
          },
          "metadata": {},
          "execution_count": 66
        },
        {
          "output_type": "display_data",
          "data": {
            "text/plain": [
              "<Figure size 432x288 with 1 Axes>"
            ],
            "image/png": "[encoded data removed]"
          },
          "metadata": {
            "needs_background": "light"
          }
        }
      ]
    },
    {
      "cell_type": "code",
      "source": [
        "X_trainval_processed = feature_selector.fit_transform(\n",
        "    df_trainval_processed[:, :-1], df_trainval_processed[:, -1])\n",
        "\n",
        "X_test_sample_processed = feature_selector.transform(\n",
        "    df_test_sample_processed[:, :-1]\n",
        ")\n",
        "\n",
        "X_test_processed = feature_selector.transform(\n",
        "    df_test_processed\n",
        ")"
      ],
      "metadata": {
        "id": "6ruNGXEwlWtc"
      },
      "execution_count": null,
      "outputs": []
    },
    {
      "cell_type": "code",
      "source": [
        "df_trainval_processed = np.hstack(\n",
        "    [\n",
        "        X_trainval_processed,\n",
        "        df_trainval_processed[:, -1].reshape(X_trainval_processed.shape[0], 1)\n",
        "    ]\n",
        ")\n",
        "\n",
        "assert (df_trainval_processed[:, -1] == df_trainval.Transported).all()"
      ],
      "metadata": {
        "id": "51FIp_EjmQsV"
      },
      "execution_count": null,
      "outputs": []
    },
    {
      "cell_type": "code",
      "source": [
        "df_test_sample_processed = np.hstack(\n",
        "    [\n",
        "        X_test_sample_processed,\n",
        "        df_test_sample_processed[:, -1].reshape(X_test_sample_processed.shape[0], 1)\n",
        "    ]\n",
        ")\n",
        "\n",
        "assert (df_test_sample_processed[:, -1] == df_test_sample.Transported).all()"
      ],
      "metadata": {
        "id": "H98Ex3UrmeYu"
      },
      "execution_count": null,
      "outputs": []
    },
    {
      "cell_type": "code",
      "source": [
        "df_test_processed = X_test_processed"
      ],
      "metadata": {
        "id": "61sAiFijmz92"
      },
      "execution_count": null,
      "outputs": []
    },
    {
      "cell_type": "markdown",
      "source": [
        "# Save the data"
      ],
      "metadata": {
        "id": "CkrGkFiTcS0v"
      }
    },
    {
      "cell_type": "code",
      "source": [
        "df_trainval_processed.shape[1]"
      ],
      "metadata": {
        "id": "o2VkqBEFSOBf",
        "outputId": "f5172167-814a-48dc-9f56-e2c619451303",
        "colab": {
          "base_uri": "https://localhost:8080/"
        }
      },
      "execution_count": 104,
      "outputs": [
        {
          "output_type": "execute_result",
          "data": {
            "text/plain": [
              "28"
            ]
          },
          "metadata": {},
          "execution_count": 104
        }
      ]
    },
    {
      "cell_type": "code",
      "source": [
        "assert df_trainval_processed.shape[1] \\\n",
        "    == df_test_sample_processed.shape[1] \\\n",
        "    == df_test_processed.shape[1] + 1\n",
        "\n",
        "manager.save_to_csv(\n",
        "    df_trainval_processed,\n",
        "    manager.data_trial_path,\n",
        "    'trainval_processed.csv'\n",
        ")\n",
        "\n",
        "manager.save_to_csv(\n",
        "    df_test_sample_processed,\n",
        "    manager.data_trial_path,\n",
        "    'test_sample_processed.csv'\n",
        ")\n",
        "\n",
        "manager.save_to_csv(\n",
        "    df_test_processed,\n",
        "    manager.data_trial_path,\n",
        "    'test_processed.csv'\n",
        ")"
      ],
      "metadata": {
        "id": "2KVbR3YRdB4t"
      },
      "execution_count": 103,
      "outputs": []
    }
  ]
}