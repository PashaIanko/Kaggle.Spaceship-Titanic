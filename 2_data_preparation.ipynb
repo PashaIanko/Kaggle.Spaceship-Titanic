{
  "nbformat": 4,
  "nbformat_minor": 0,
  "metadata": {
    "colab": {
      "provenance": [],
      "toc_visible": true,
      "authorship_tag": "ABX9TyPITJRKYgB5xpXioCSikzux",
      "include_colab_link": true
    },
    "kernelspec": {
      "name": "python3",
      "display_name": "Python 3"
    },
    "language_info": {
      "name": "python"
    }
  },
  "cells": [
    {
      "cell_type": "markdown",
      "metadata": {
        "id": "view-in-github",
        "colab_type": "text"
      },
      "source": [
        "<a href=\"https://colab.research.google.com/github/PashaIanko/Kaggle.Spaceship-Titanic/blob/outliers_cleaning/2_data_preparation.ipynb\" target=\"_parent\"><img src=\"https://colab.research.google.com/assets/colab-badge.svg\" alt=\"Open In Colab\"/></a>"
      ]
    },
    {
      "cell_type": "markdown",
      "source": [
        "# Imports"
      ],
      "metadata": {
        "id": "tfTSuABhcdzf"
      }
    },
    {
      "cell_type": "code",
      "execution_count": 1,
      "metadata": {
        "id": "TbElZ_JOcVn8"
      },
      "outputs": [],
      "source": [
        "# colab\n",
        "from google.colab import drive\n",
        "\n",
        "# data\n",
        "import pandas as pd\n",
        "\n",
        "# math\n",
        "import numpy as np\n",
        "\n",
        "# preprocessing\n",
        "from sklearn.pipeline import Pipeline\n",
        "from sklearn.compose import ColumnTransformer\n",
        "\n",
        "from sklearn.preprocessing import StandardScaler\n",
        "from sklearn.preprocessing import OneHotEncoder\n",
        "from sklearn.impute import SimpleImputer"
      ]
    },
    {
      "cell_type": "markdown",
      "source": [
        "## PEP8 code standard"
      ],
      "metadata": {
        "id": "G6UylN1y0SkN"
      }
    },
    {
      "cell_type": "code",
      "source": [
        "%%capture\n",
        "!pip install pycodestyle\n",
        "!pip install --index-url https://test.pypi.org/simple/ nbpep8\n",
        "\n",
        "from nbpep8.nbpep8 import pep8"
      ],
      "metadata": {
        "id": "jd7pxnxC0U7d"
      },
      "execution_count": 2,
      "outputs": []
    },
    {
      "cell_type": "markdown",
      "source": [
        "## Importing custom packages"
      ],
      "metadata": {
        "id": "xhXhFcJc0ziD"
      }
    },
    {
      "cell_type": "code",
      "source": [
        "%%capture\n",
        "def download_files(url_dict):\n",
        "    for file, url in url_dict.items():\n",
        "        !wget -O {file} {url} {file}\n",
        "\n",
        "git_download_path = \\\n",
        "    'https://raw.githubusercontent.com/PashaIanko/Sklearn-Utils/main/'\n",
        "\n",
        "files = [\n",
        "    'path_manager.py',\n",
        "    'sklearn_transformers.py',\n",
        "    'sklearn_utils.py'\n",
        "]\n",
        "\n",
        "url_dict = {file: git_download_path + file for file in files}\n",
        "download_files(url_dict)"
      ],
      "metadata": {
        "id": "2Edswwkj0yy2"
      },
      "execution_count": 3,
      "outputs": []
    },
    {
      "cell_type": "code",
      "source": [
        "import importlib\n",
        "import path_manager\n",
        "import sklearn_utils\n",
        "import sklearn_transformers\n",
        "\n",
        "def reload_modules(modules):\n",
        "    for module in modules:\n",
        "        importlib.reload(module)\n",
        "\n",
        "reload_modules(\n",
        "    [\n",
        "        path_manager,\n",
        "        sklearn_transformers,\n",
        "        sklearn_utils\n",
        "    ]\n",
        ")\n",
        "\n",
        "from path_manager import PathManager\n",
        "from sklearn_transformers import ColumnDropper\n",
        "from sklearn_utils import inf_statistics"
      ],
      "metadata": {
        "id": "JgYOe2C01Kz_"
      },
      "execution_count": 4,
      "outputs": []
    },
    {
      "cell_type": "markdown",
      "source": [
        "# Set up paths"
      ],
      "metadata": {
        "id": "Qp68wJ03chy1"
      }
    },
    {
      "cell_type": "code",
      "source": [
        "drive.mount('/content/gdrive', force_remount=True)\n",
        "gdrive_path = '/content/gdrive/MyDrive/'\n",
        "\n",
        "PREPROC_TRIAL = 3\n",
        "MODELS_TRIAL = 1\n",
        "COMPETITION_PATH = gdrive_path + 'ML/Competitions/6.SpaceshipTitanic/'\n",
        "\n",
        "manager = PathManager(\n",
        "    competition_path=COMPETITION_PATH,\n",
        "    preprocessing_trial=PREPROC_TRIAL,\n",
        "    models_trial=MODELS_TRIAL\n",
        ")\n",
        "manager.setup_paths()"
      ],
      "metadata": {
        "id": "3lZ9wP2ScdMn",
        "colab": {
          "base_uri": "https://localhost:8080/"
        },
        "outputId": "e1393a02-51d6-4f6e-e99c-69ddd291806e"
      },
      "execution_count": 5,
      "outputs": [
        {
          "output_type": "stream",
          "name": "stdout",
          "text": [
            "Mounted at /content/gdrive\n",
            "/content/gdrive/MyDrive/ML/Competitions/6.SpaceshipTitanic/Data/preproc_trial_3 already exists\n",
            "/content/gdrive/MyDrive/ML/Competitions/6.SpaceshipTitanic/Models/trial_1 already exists\n"
          ]
        }
      ]
    },
    {
      "cell_type": "markdown",
      "source": [
        "# Download the data"
      ],
      "metadata": {
        "id": "icar5WRwCS97"
      }
    },
    {
      "cell_type": "code",
      "source": [
        "df_train = pd.read_csv(manager.train_path)\n",
        "df_test = pd.read_csv(manager.test_path)"
      ],
      "metadata": {
        "id": "Fb9XiK_GCVkh"
      },
      "execution_count": 6,
      "outputs": []
    },
    {
      "cell_type": "markdown",
      "source": [
        "# Checking NAN"
      ],
      "metadata": {
        "id": "zDMBBUJUDkg6"
      }
    },
    {
      "cell_type": "code",
      "source": [
        "from sklearn_utils import nan_statistics\n",
        "\n",
        "\n",
        "_ = nan_statistics(df_train)"
      ],
      "metadata": {
        "colab": {
          "base_uri": "https://localhost:8080/"
        },
        "id": "k7BBSgXxDj25",
        "outputId": "250b3147-f100-4096-994c-146e7ec4ee16"
      },
      "execution_count": 7,
      "outputs": [
        {
          "output_type": "stream",
          "name": "stdout",
          "text": [
            "Col -- Nan percentage\n",
            "CryoSleep 2.4962613597147127\n",
            "ShoppingMall 2.392729782583688\n",
            "VIP 2.3352122397331185\n",
            "HomePlanet 2.312205222592891\n",
            "Name 2.300701714022777\n",
            "Cabin 2.289198205452663\n",
            "VRDeck 2.1626596111814105\n",
            "FoodCourt 2.105142068330841\n",
            "Spa 2.105142068330841\n",
            "Destination 2.093638559760727\n",
            "RoomService 2.082135051190613\n",
            "Age 2.0591280340503855\n"
          ]
        }
      ]
    },
    {
      "cell_type": "code",
      "source": [
        "_ = nan_statistics(df_test)"
      ],
      "metadata": {
        "colab": {
          "base_uri": "https://localhost:8080/"
        },
        "id": "IdxOYXpqDr9s",
        "outputId": "be312b61-9a78-4700-c663-e482db1651db"
      },
      "execution_count": 8,
      "outputs": [
        {
          "output_type": "stream",
          "name": "stdout",
          "text": [
            "Col -- Nan percentage\n",
            "FoodCourt 2.4783726911386488\n",
            "Spa 2.3614683189151275\n",
            "Cabin 2.338087444470423\n",
            "ShoppingMall 2.2913256955810146\n",
            "Name 2.197802197802198\n",
            "CryoSleep 2.1744213233574934\n",
            "VIP 2.1744213233574934\n",
            "Destination 2.1510404489127897\n",
            "Age 2.127659574468085\n",
            "HomePlanet 2.034136076689268\n",
            "RoomService 1.917231704465747\n",
            "VRDeck 1.8704699555763384\n"
          ]
        }
      ]
    },
    {
      "cell_type": "markdown",
      "source": [
        "# Check infinity values"
      ],
      "metadata": {
        "id": "UgATQKhiD1r6"
      }
    },
    {
      "cell_type": "code",
      "source": [
        "from sklearn_utils import inf_statistics\n",
        "\n",
        "\n",
        "inf_statistics(df_train)"
      ],
      "metadata": {
        "colab": {
          "base_uri": "https://localhost:8080/"
        },
        "id": "fYepxFaSHWBX",
        "outputId": "5df1c18b-749b-4f46-eff9-56592c09e63a"
      },
      "execution_count": 9,
      "outputs": [
        {
          "output_type": "stream",
          "name": "stdout",
          "text": [
            "Age             0\n",
            "RoomService     0\n",
            "FoodCourt       0\n",
            "ShoppingMall    0\n",
            "Spa             0\n",
            "VRDeck          0\n",
            "dtype: int64\n"
          ]
        },
        {
          "output_type": "execute_result",
          "data": {
            "text/plain": [
              "Age             0\n",
              "RoomService     0\n",
              "FoodCourt       0\n",
              "ShoppingMall    0\n",
              "Spa             0\n",
              "VRDeck          0\n",
              "dtype: int64"
            ]
          },
          "metadata": {},
          "execution_count": 9
        }
      ]
    },
    {
      "cell_type": "code",
      "source": [
        "inf_statistics(df_test)"
      ],
      "metadata": {
        "colab": {
          "base_uri": "https://localhost:8080/"
        },
        "id": "a4gnAaNdHa79",
        "outputId": "ba0f8c39-3f77-4206-f073-2a524009e55e"
      },
      "execution_count": 10,
      "outputs": [
        {
          "output_type": "stream",
          "name": "stdout",
          "text": [
            "Age             0\n",
            "RoomService     0\n",
            "FoodCourt       0\n",
            "ShoppingMall    0\n",
            "Spa             0\n",
            "VRDeck          0\n",
            "dtype: int64\n"
          ]
        },
        {
          "output_type": "execute_result",
          "data": {
            "text/plain": [
              "Age             0\n",
              "RoomService     0\n",
              "FoodCourt       0\n",
              "ShoppingMall    0\n",
              "Spa             0\n",
              "VRDeck          0\n",
              "dtype: int64"
            ]
          },
          "metadata": {},
          "execution_count": 10
        }
      ]
    },
    {
      "cell_type": "code",
      "source": [
        "df_train.dtypes"
      ],
      "metadata": {
        "colab": {
          "base_uri": "https://localhost:8080/"
        },
        "id": "NTam716lHxSu",
        "outputId": "1b704314-3be8-4129-fac1-b2b973610040"
      },
      "execution_count": 11,
      "outputs": [
        {
          "output_type": "execute_result",
          "data": {
            "text/plain": [
              "PassengerId      object\n",
              "HomePlanet       object\n",
              "CryoSleep        object\n",
              "Cabin            object\n",
              "Destination      object\n",
              "Age             float64\n",
              "VIP              object\n",
              "RoomService     float64\n",
              "FoodCourt       float64\n",
              "ShoppingMall    float64\n",
              "Spa             float64\n",
              "VRDeck          float64\n",
              "Name             object\n",
              "Transported        bool\n",
              "dtype: object"
            ]
          },
          "metadata": {},
          "execution_count": 11
        }
      ]
    },
    {
      "cell_type": "markdown",
      "source": [
        "# Engineer new features"
      ],
      "metadata": {
        "id": "4kXo0uEftoJ7"
      }
    },
    {
      "cell_type": "markdown",
      "source": [
        "## Did a person buy any luxury service?"
      ],
      "metadata": {
        "id": "letMnuUcvzyv"
      }
    },
    {
      "cell_type": "code",
      "source": [
        "from sklearn.base import BaseEstimator, TransformerMixin\n",
        "\n",
        "\n",
        "class BoughtLuxuryItems(BaseEstimator, TransformerMixin):\n",
        "    def __init__(self):\n",
        "        super().__init__()\n",
        "\n",
        "    def fit(self, X, y=None):\n",
        "        return self\n",
        "\n",
        "    def transform(self, X, y=None):\n",
        "        transformed_df = X.copy()\n",
        "        transformed_df['BoughtAnyLuxury'] = \\\n",
        "            (transformed_df['ShoppingMall'] > 0.0) \\\n",
        "            | (transformed_df['FoodCourt'] > 0.0) \\\n",
        "            | (transformed_df['VRDeck'] > 0.0) \\\n",
        "            | (transformed_df['Spa'] > 0.0) \\\n",
        "            | (transformed_df['RoomService'] > 0.0)\n",
        "        return transformed_df\n",
        "\n",
        "\n",
        "pep8(_ih)"
      ],
      "metadata": {
        "id": "9SheE52xt7t0",
        "outputId": "1581c8f3-0823-4013-e117-e61076a25329",
        "colab": {
          "base_uri": "https://localhost:8080/"
        }
      },
      "execution_count": 12,
      "outputs": [
        {
          "output_type": "stream",
          "name": "stdout",
          "text": [
            "\n"
          ]
        }
      ]
    },
    {
      "cell_type": "code",
      "source": [
        "bought_luxury_items = BoughtLuxuryItems()\n",
        "\n",
        "df_train = bought_luxury_items.fit_transform(df_train)\n",
        "df_test = bought_luxury_items.transform(df_test)"
      ],
      "metadata": {
        "id": "d-xmG0yOvDDq"
      },
      "execution_count": 13,
      "outputs": []
    },
    {
      "cell_type": "markdown",
      "source": [
        "## DeckNum, DeckSide, Deck"
      ],
      "metadata": {
        "id": "rauJCcGiv3uP"
      }
    },
    {
      "cell_type": "code",
      "source": [
        "from sklearn.base import TransformerMixin, BaseEstimator\n",
        "\n",
        "\n",
        "class DeckNumAdder(TransformerMixin, BaseEstimator):\n",
        "    def __init__(self):\n",
        "        super().__init__()\n",
        "\n",
        "    def fit(self, X, y=None):\n",
        "        return self\n",
        "\n",
        "    def get_deck_num(self, deck):\n",
        "        if type(deck) is str:\n",
        "            split_items = deck.split('/')\n",
        "            return int(split_items[1])\n",
        "        else:\n",
        "            return 0\n",
        "\n",
        "    def transform(self, X, y=None):\n",
        "        df_transformed = X.copy()\n",
        "        df_transformed['DeckNum'] = df_transformed['Cabin'] \\\n",
        "            .map(self.get_deck_num)\n",
        "        return df_transformed\n",
        "\n",
        "\n",
        "pep8(_ih)"
      ],
      "metadata": {
        "id": "1VxWAFHiv73P",
        "outputId": "9d8c844e-c022-4e90-dbc7-02b1ec04b05d",
        "colab": {
          "base_uri": "https://localhost:8080/"
        }
      },
      "execution_count": 14,
      "outputs": [
        {
          "output_type": "stream",
          "name": "stdout",
          "text": [
            "\n"
          ]
        }
      ]
    },
    {
      "cell_type": "code",
      "source": [
        "deck_num_adder = DeckNumAdder()\n",
        "df_train = deck_num_adder.fit_transform(df_train)\n",
        "df_test = deck_num_adder.transform(df_test)"
      ],
      "metadata": {
        "id": "WIUi4mQGwiiF"
      },
      "execution_count": 15,
      "outputs": []
    },
    {
      "cell_type": "code",
      "source": [
        "from sklearn.base import TransformerMixin, BaseEstimator\n",
        "\n",
        "\n",
        "class DeckSideAdder(TransformerMixin, BaseEstimator):\n",
        "    def __init__(self):\n",
        "        super().__init__()\n",
        "\n",
        "    def fit(self, X, y=None):\n",
        "        return self\n",
        "\n",
        "    def add_deck_side(self, val):\n",
        "        if type(val) is str:\n",
        "            return val.split('/')[2]\n",
        "        else:\n",
        "            return 'NOT ASSIGNED'\n",
        "\n",
        "    def transform(self, X, y=None):\n",
        "        df_transformed = X.copy()\n",
        "        df_transformed['DeckSide'] = df_transformed['Cabin'].map(\n",
        "            self.add_deck_side\n",
        "        )\n",
        "\n",
        "        del X\n",
        "        return df_transformed\n",
        "\n",
        "\n",
        "pep8(_ih)"
      ],
      "metadata": {
        "id": "1Nn7q4ySxqwY",
        "outputId": "873a39d0-59f7-4656-b2e2-3169b7afde8d",
        "colab": {
          "base_uri": "https://localhost:8080/"
        }
      },
      "execution_count": 16,
      "outputs": [
        {
          "output_type": "stream",
          "name": "stdout",
          "text": [
            "\n"
          ]
        }
      ]
    },
    {
      "cell_type": "code",
      "source": [
        "deck_side_adder = DeckSideAdder()\n",
        "\n",
        "df_train = deck_side_adder.fit_transform(df_train)\n",
        "df_test = deck_side_adder.transform(df_test)"
      ],
      "metadata": {
        "id": "CXIJ8ZEBybuB"
      },
      "execution_count": 17,
      "outputs": []
    },
    {
      "cell_type": "code",
      "source": [
        "from sklearn.base import TransformerMixin, BaseEstimator\n",
        "\n",
        "\n",
        "class DeckAdder(TransformerMixin, BaseEstimator):\n",
        "    def __init__(self):\n",
        "        super().__init__()\n",
        "\n",
        "    def fit(self, X, y=None):\n",
        "        return self\n",
        "\n",
        "    def add_deck(self, val):\n",
        "        if type(val) is str:\n",
        "            return val.split('/')[0]\n",
        "        else:\n",
        "            return 'NOT ASSIGNED'\n",
        "\n",
        "    def transform(self, X, y=None):\n",
        "        transformed_df = X.copy()\n",
        "        transformed_df['Deck'] = transformed_df['Cabin'].map(\n",
        "            self.add_deck\n",
        "        )\n",
        "        del X\n",
        "        return transformed_df\n",
        "\n",
        "\n",
        "pep8(_ih)"
      ],
      "metadata": {
        "id": "ZcGKlYMo0ZvK",
        "outputId": "8966157c-8512-4927-b9f7-34ffa205b83f",
        "colab": {
          "base_uri": "https://localhost:8080/"
        }
      },
      "execution_count": 18,
      "outputs": [
        {
          "output_type": "stream",
          "name": "stdout",
          "text": [
            "\n"
          ]
        }
      ]
    },
    {
      "cell_type": "code",
      "source": [
        "deck_adder = DeckAdder()\n",
        "df_train = deck_adder.fit_transform(df_train)\n",
        "df_test = deck_adder.transform(df_test)"
      ],
      "metadata": {
        "id": "GW6PEcNc1Elp"
      },
      "execution_count": 19,
      "outputs": []
    },
    {
      "cell_type": "markdown",
      "source": [
        "# Clean outliers"
      ],
      "metadata": {
        "id": "Uqant71Jqad9"
      }
    },
    {
      "cell_type": "code",
      "source": [
        "from sklearn.base import BaseEstimator, TransformerMixin\n",
        "\n",
        "\n",
        "class OutlierCleaner(BaseEstimator, TransformerMixin):\n",
        "    def __init__(self, columns_, lower_quantile_, upper_quantile_):\n",
        "        super().__init__()\n",
        "        self.columns = columns_\n",
        "        self.lower_quantile = lower_quantile_\n",
        "        self.upper_quantile = upper_quantile_\n",
        "        self.quantiles = {}\n",
        "\n",
        "    def fit(self, X, y=None):\n",
        "        for column in self.columns:\n",
        "            self.quantiles[column] = {\n",
        "                'lower': X[column].quantile(self.lower_quantile),\n",
        "                'upper': X[column].quantile(self.upper_quantile)\n",
        "            }\n",
        "        return self\n",
        "\n",
        "    def transform(self, X, y=None):\n",
        "        transformed_df = X.copy()\n",
        "\n",
        "        for column in self.columns:\n",
        "            transformed_df[column] = \\\n",
        "                transformed_df[column].clip(\n",
        "                    lower=self.quantiles[column]['lower'],\n",
        "                    upper=self.quantiles[column]['upper']\n",
        "                )\n",
        "        del X\n",
        "        return transformed_df\n",
        "\n",
        "\n",
        "pep8(_ih)"
      ],
      "metadata": {
        "id": "KjYLqqy9qvqV",
        "outputId": "941c5259-bcad-4699-d0a9-5c3ca229f81d",
        "colab": {
          "base_uri": "https://localhost:8080/"
        }
      },
      "execution_count": 53,
      "outputs": [
        {
          "output_type": "stream",
          "name": "stdout",
          "text": [
            "\n"
          ]
        }
      ]
    },
    {
      "cell_type": "code",
      "source": [
        "cleaner = OutlierCleaner(\n",
        "    ['VRDeck', 'Spa', 'RoomService', 'FoodCourt', 'ShoppingMall'],\n",
        "    lower_quantile_=0.05,\n",
        "    upper_quantile_=0.95\n",
        ")"
      ],
      "metadata": {
        "id": "NNd8aE7Yto96"
      },
      "execution_count": 55,
      "outputs": []
    },
    {
      "cell_type": "code",
      "source": [
        "df_train = cleaner.fit_transform(df_train)\n",
        "df_test = cleaner.transform(df_test)"
      ],
      "metadata": {
        "id": "1QvQx86Etyy0"
      },
      "execution_count": 56,
      "outputs": []
    },
    {
      "cell_type": "code",
      "source": [
        "columns = ['VRDeck', 'Spa', 'RoomService', 'FoodCourt', 'ShoppingMall']\n",
        "\n",
        "cleaner = OutlierCleaner(\n",
        "    columns,\n",
        "    0.05,\n",
        "    0.95\n",
        ")\n",
        "df_result = cleaner.fit_transform(df_train)\n",
        "\n",
        "import matplotlib.pyplot as plt\n",
        "for column in columns:\n",
        "    fig, ax = plt.subplots(2, 1)\n",
        "    df_train.boxplot([column], ax=ax[0])\n",
        "    df_result.boxplot([column], ax=ax[1])"
      ],
      "metadata": {
        "id": "HggHr03srpgZ",
        "outputId": "c2e293d1-496f-4523-df75-e3879c252a54",
        "colab": {
          "base_uri": "https://localhost:8080/",
          "height": 1000
        }
      },
      "execution_count": 54,
      "outputs": [
        {
          "output_type": "display_data",
          "data": {
            "text/plain": [
              "<Figure size 432x288 with 2 Axes>"
            ],
            "image/png": "[encoded data removed]"
          },
          "metadata": {
            "needs_background": "light"
          }
        },
        {
          "output_type": "display_data",
          "data": {
            "text/plain": [
              "<Figure size 432x288 with 2 Axes>"
            ],
            "image/png": "[encoded data removed]"
          },
          "metadata": {
            "needs_background": "light"
          }
        },
        {
          "output_type": "display_data",
          "data": {
            "text/plain": [
              "<Figure size 432x288 with 2 Axes>"
            ],
            "image/png": "[encoded data removed]"
          },
          "metadata": {
            "needs_background": "light"
          }
        },
        {
          "output_type": "display_data",
          "data": {
            "text/plain": [
              "<Figure size 432x288 with 2 Axes>"
            ],
            "image/png": "[encoded data removed]"
          },
          "metadata": {
            "needs_background": "light"
          }
        },
        {
          "output_type": "display_data",
          "data": {
            "text/plain": [
              "<Figure size 432x288 with 2 Axes>"
            ],
            "image/png": "[encoded data removed]"
          },
          "metadata": {
            "needs_background": "light"
          }
        }
      ]
    },
    {
      "cell_type": "markdown",
      "source": [
        "# Reduce number precision"
      ],
      "metadata": {
        "id": "_SQMqOX3IEa5"
      }
    },
    {
      "cell_type": "code",
      "source": [
        "def reduce_precision(\n",
        "    df_,\n",
        "    original_dtypes_=['float64'],\n",
        "    transcription_dict_={\n",
        "        'float64': 'float32',\n",
        "        'int64': 'int32'\n",
        "    }\n",
        "):\n",
        "    '''\n",
        "    For every column, that has a dtype in original_dtypes\n",
        "    list --> it changes the original dtype, according to\n",
        "    the transcription_dict_\n",
        "    '''\n",
        "    for numeric_type in original_dtypes_:\n",
        "        mask = np.isin(df_.dtypes, [numeric_type])\n",
        "        df_.loc[:, mask] = \\\n",
        "            df_.loc[:, mask].astype(transcription_dict_[numeric_type])\n",
        "    return df_"
      ],
      "metadata": {
        "id": "Om4WOFjbIGhu"
      },
      "execution_count": 57,
      "outputs": []
    },
    {
      "cell_type": "code",
      "source": [
        "df_train = reduce_precision(df_train)"
      ],
      "metadata": {
        "id": "w7sNrb6qKdMC"
      },
      "execution_count": 58,
      "outputs": []
    },
    {
      "cell_type": "code",
      "source": [
        "df_test = reduce_precision(df_test)"
      ],
      "metadata": {
        "id": "uX1c_63TLnf4"
      },
      "execution_count": 59,
      "outputs": []
    },
    {
      "cell_type": "code",
      "source": [
        "common_columns = set(df_train.columns).intersection(\n",
        "    df_test.columns\n",
        ")\n",
        "\n",
        "assert (df_train.loc[:, common_columns].dtypes == \\\n",
        "        df_test.loc[:, common_columns].dtypes).all()"
      ],
      "metadata": {
        "id": "PnUnnwOkLvaT"
      },
      "execution_count": 60,
      "outputs": []
    },
    {
      "cell_type": "markdown",
      "source": [
        "# Removing NAN / INF columns"
      ],
      "metadata": {
        "id": "aWJjLx1qMccw"
      }
    },
    {
      "cell_type": "markdown",
      "source": [
        "- No columns with high content of NAN / INF values encountered"
      ],
      "metadata": {
        "id": "K6ZUD_mjMfRc"
      }
    },
    {
      "cell_type": "markdown",
      "source": [
        "# Preparing processing pipelines"
      ],
      "metadata": {
        "id": "jpsOvykVcJnd"
      }
    },
    {
      "cell_type": "code",
      "source": [
        "luxury_columns = [\n",
        "    'RoomService',\n",
        "    'FoodCourt',\n",
        "    'ShoppingMall',\n",
        "    'Spa',\n",
        "    'VRDeck'\n",
        "]\n",
        "\n",
        "luxury_pipeline = Pipeline(\n",
        "    [\n",
        "        ('impute', SimpleImputer(strategy='median'))\n",
        "    ]\n",
        ")"
      ],
      "metadata": {
        "id": "HfHrTrBmOvRf"
      },
      "execution_count": 61,
      "outputs": []
    },
    {
      "cell_type": "code",
      "source": [
        "name_columns = [\n",
        "    'Name'\n",
        "]\n",
        "\n",
        "name_pipeline = Pipeline(\n",
        "    [\n",
        "        ('drop', ColumnDropper(name_columns))\n",
        "    ]\n",
        ")"
      ],
      "metadata": {
        "id": "3WyHfehJPdVo"
      },
      "execution_count": 62,
      "outputs": []
    },
    {
      "cell_type": "code",
      "source": [
        "age_columns = [\n",
        "    'Age'\n",
        "]\n",
        "\n",
        "age_pipeline = Pipeline(\n",
        "    [\n",
        "        ('impute', SimpleImputer(strategy='median')),\n",
        "        ('standardize', StandardScaler())\n",
        "    ]\n",
        ")"
      ],
      "metadata": {
        "id": "_YKiXBvPRkie"
      },
      "execution_count": 63,
      "outputs": []
    },
    {
      "cell_type": "code",
      "source": [
        "home_planet_columns = [\n",
        "    'HomePlanet'\n",
        "]\n",
        "\n",
        "home_planet_pipeline = Pipeline(\n",
        "    [\n",
        "        # ('impute', SimpleImputer(missing_values=np.nan, strategy='constant')),\n",
        "        ('one-hot', OneHotEncoder(handle_unknown='ignore'))\n",
        "    ]\n",
        ")"
      ],
      "metadata": {
        "id": "4MyO2bNvUf-A"
      },
      "execution_count": 64,
      "outputs": []
    },
    {
      "cell_type": "code",
      "source": [
        "destination_columns = [\n",
        "    'Destination'\n",
        "]\n",
        "\n",
        "destination_pipeline = Pipeline(\n",
        "    [\n",
        "        # ('impute', SimpleImputer(strategy='median')),\n",
        "        ('one-hot', OneHotEncoder(handle_unknown='ignore'))\n",
        "    ]\n",
        ")"
      ],
      "metadata": {
        "id": "evfwi4UNU03k"
      },
      "execution_count": 65,
      "outputs": []
    },
    {
      "cell_type": "code",
      "source": [
        "passenger_id_columns = [\n",
        "    'PassengerId'\n",
        "]\n",
        "\n",
        "passenger_id_pipeline = Pipeline(\n",
        "    [\n",
        "        # ('impute', SimpleImputer(strategy='median')),\n",
        "        ('drop', ColumnDropper(passenger_id_columns))\n",
        "    ]\n",
        ")"
      ],
      "metadata": {
        "id": "RASaH86hVZ5e"
      },
      "execution_count": 66,
      "outputs": []
    },
    {
      "cell_type": "code",
      "source": [
        "cabin_columns = [\n",
        "    'Cabin'\n",
        "]\n",
        "\n",
        "cabin_pipeline = Pipeline(\n",
        "    [\n",
        "        ('drop', ColumnDropper(cabin_columns))\n",
        "    ]\n",
        ")"
      ],
      "metadata": {
        "id": "9kXxu5O0VnPz"
      },
      "execution_count": 67,
      "outputs": []
    },
    {
      "cell_type": "code",
      "source": [
        "# Consider here also one-hot encoding, substituting\n",
        "# NAN values as \"Missing\"\n",
        "\n",
        "cryo_sleep_columns = [\n",
        "    'CryoSleep'\n",
        "]\n",
        "\n",
        "cryo_sleep_pipeline = Pipeline(\n",
        "    [\n",
        "        ('impute', SimpleImputer(strategy='median'))\n",
        "    ]\n",
        ")"
      ],
      "metadata": {
        "id": "T-NJQVfudKhi"
      },
      "execution_count": 68,
      "outputs": []
    },
    {
      "cell_type": "code",
      "source": [
        "vip_columns = [\n",
        "    'VIP'\n",
        "]\n",
        "\n",
        "vip_pipeline = Pipeline(\n",
        "    [\n",
        "        ('impute', SimpleImputer(strategy='median'))\n",
        "    ]\n",
        ")"
      ],
      "metadata": {
        "id": "-hihkjpkdYNk"
      },
      "execution_count": 69,
      "outputs": []
    },
    {
      "cell_type": "code",
      "source": [
        "bought_any_luxury_columns = [\n",
        "    'BoughtAnyLuxury'\n",
        "]\n",
        "\n",
        "bought_any_luxury_pipeline = Pipeline(\n",
        "    [\n",
        "        ('impute', SimpleImputer(strategy='median')),\n",
        "    ]\n",
        ")"
      ],
      "metadata": {
        "id": "R51fvtuP1uLN"
      },
      "execution_count": 70,
      "outputs": []
    },
    {
      "cell_type": "code",
      "source": [
        "from sklearn.preprocessing import OrdinalEncoder\n",
        "\n",
        "\n",
        "deck_columns = [\n",
        "    'Deck'\n",
        "]\n",
        "\n",
        "deck_pipeline = Pipeline(\n",
        "    [\n",
        "        ('impute', SimpleImputer(strategy='constant', fill_value='UNKNOWN')),\n",
        "        (\n",
        "            'encode',\n",
        "            OrdinalEncoder(\n",
        "                categories=[\n",
        "                    [\n",
        "                        'NOT ASSIGNED',\n",
        "                        'A',\n",
        "                        'B',\n",
        "                        'C',\n",
        "                        'D',\n",
        "                        'E',\n",
        "                        'F',\n",
        "                        'G',\n",
        "                        'T'\n",
        "                    ]\n",
        "                ]\n",
        "            )\n",
        "        )\n",
        "    ]\n",
        ")"
      ],
      "metadata": {
        "id": "hIjStR5y1_Bm"
      },
      "execution_count": 71,
      "outputs": []
    },
    {
      "cell_type": "code",
      "source": [
        "deck_num_columns = [\n",
        "    'DeckNum'\n",
        "]\n",
        "\n",
        "deck_num_pipeline = Pipeline(\n",
        "    [\n",
        "        ('impute', SimpleImputer(strategy='constant'))\n",
        "    ]\n",
        ")"
      ],
      "metadata": {
        "id": "gNgJsZ_g2s6X"
      },
      "execution_count": 72,
      "outputs": []
    },
    {
      "cell_type": "code",
      "source": [
        "deck_size_columns = [\n",
        "    'DeckSide'\n",
        "]\n",
        "\n",
        "deck_side_pipeline = Pipeline(\n",
        "    [\n",
        "        ('impute', SimpleImputer(strategy='constant', fill_value='UNKNOWN')),\n",
        "        ('encode', OneHotEncoder(handle_unknown='ignore'))\n",
        "    ]\n",
        ")"
      ],
      "metadata": {
        "id": "S3NQdPGw24x8"
      },
      "execution_count": 73,
      "outputs": []
    },
    {
      "cell_type": "code",
      "source": [
        "# all_columns = set()\n",
        "all_columns = set(\n",
        "    [\n",
        "        *luxury_columns,\n",
        "        *name_columns,\n",
        "        *age_columns,\n",
        "        *home_planet_columns,\n",
        "        *destination_columns,\n",
        "        *passenger_id_columns,\n",
        "        *cabin_columns,\n",
        "        *vip_columns,\n",
        "        *cryo_sleep_columns,\n",
        "        *bought_any_luxury_columns,\n",
        "        *deck_columns,\n",
        "        *deck_num_columns,\n",
        "        *deck_size_columns,\n",
        "    ]\n",
        ")\n",
        "\n",
        "# print(df_train.columns)\n",
        "assert (set(df_train.columns) - all_columns) == {'Transported'}"
      ],
      "metadata": {
        "id": "R7YIk7Rs1shO"
      },
      "execution_count": 74,
      "outputs": []
    },
    {
      "cell_type": "code",
      "source": [
        "from sklearn_transformers import ColumnDropper\n",
        "\n",
        "\n",
        "preprocessor = ColumnTransformer(\n",
        "    [\n",
        "        ('luxury', luxury_pipeline, luxury_columns),\n",
        "        ('drop', name_pipeline, name_columns),\n",
        "        ('age', age_pipeline, age_columns),\n",
        "        ('home_planet', home_planet_pipeline, home_planet_columns),\n",
        "        ('destination', destination_pipeline, destination_columns),\n",
        "        ('passenger_id', passenger_id_pipeline, passenger_id_columns),\n",
        "        ('vip', vip_pipeline, vip_columns),\n",
        "        ('cryo_sleep', cryo_sleep_pipeline, cryo_sleep_columns),\n",
        "        ('cabin', cabin_pipeline, cabin_columns),\n",
        "        \n",
        "        ('bought_any_luxury', bought_any_luxury_pipeline, bought_any_luxury_columns),\n",
        "        ('deck', deck_pipeline, deck_columns),\n",
        "        ('deck_num', deck_num_pipeline, deck_num_columns),\n",
        "        ('deck_side', deck_side_pipeline, deck_size_columns),\n",
        "        # ('drop_col', 'drop', ['DeckSide'])\n",
        "    \n",
        "        \n",
        "    ],\n",
        "    remainder='passthrough'\n",
        ")"
      ],
      "metadata": {
        "id": "RoJKjl1VWIQ_"
      },
      "execution_count": 75,
      "outputs": []
    },
    {
      "cell_type": "markdown",
      "source": [
        "# Splitting the training data"
      ],
      "metadata": {
        "id": "MdFCdyl-S5T3"
      }
    },
    {
      "cell_type": "markdown",
      "source": [
        "## Split the data"
      ],
      "metadata": {
        "id": "vyQ3Lc6OTjo0"
      }
    },
    {
      "cell_type": "code",
      "source": [
        "from sklearn.model_selection import train_test_split\n",
        "\n",
        "TRAIN_VAL_PERCENTAGE = 0.8\n",
        "RANDOM_STATE = 42\n",
        "\n",
        "df_trainval, df_test_sample = train_test_split(\n",
        "    df_train,\n",
        "    train_size=TRAIN_VAL_PERCENTAGE,\n",
        "    random_state=RANDOM_STATE,\n",
        "    stratify=df_train['Transported']\n",
        ")\n",
        "\n",
        "df_trainval.shape, df_test_sample.shape"
      ],
      "metadata": {
        "colab": {
          "base_uri": "https://localhost:8080/"
        },
        "id": "i0jMT3w4S8me",
        "outputId": "23edd873-e10b-4f00-f17c-2a1f8e5b4237"
      },
      "execution_count": 76,
      "outputs": [
        {
          "output_type": "execute_result",
          "data": {
            "text/plain": [
              "((6954, 18), (1739, 18))"
            ]
          },
          "metadata": {},
          "execution_count": 76
        }
      ]
    },
    {
      "cell_type": "markdown",
      "source": [
        "## Check class balance and feature distribution after splitting"
      ],
      "metadata": {
        "id": "PGC7b7WBTlWP"
      }
    },
    {
      "cell_type": "code",
      "source": [
        "print(df_trainval.Transported.value_counts())\n",
        "print(df_test_sample.Transported.value_counts())"
      ],
      "metadata": {
        "colab": {
          "base_uri": "https://localhost:8080/"
        },
        "id": "OJfL667LTnL8",
        "outputId": "235ea65d-e681-42e3-907f-4b49f7bf5619"
      },
      "execution_count": 77,
      "outputs": [
        {
          "output_type": "stream",
          "name": "stdout",
          "text": [
            "True     3502\n",
            "False    3452\n",
            "Name: Transported, dtype: int64\n",
            "True     876\n",
            "False    863\n",
            "Name: Transported, dtype: int64\n"
          ]
        }
      ]
    },
    {
      "cell_type": "code",
      "source": [
        "from sklearn_utils import visualize_datasets_distributions\n",
        "\n",
        "visualize_datasets_distributions(\n",
        "    dataframes_dict_={\n",
        "        'trainval': df_trainval,\n",
        "        'test_sample': df_test_sample\n",
        "    },\n",
        "    columns_=df_trainval.columns[np.isin(df_trainval.dtypes, ['float32', 'int', ''])]\n",
        ")"
      ],
      "metadata": {
        "colab": {
          "base_uri": "https://localhost:8080/",
          "height": 0
        },
        "id": "nmRlxuVqVWXV",
        "outputId": "76dcd183-06b6-4e5b-95d6-403507214855"
      },
      "execution_count": 78,
      "outputs": [
        {
          "output_type": "stream",
          "name": "stdout",
          "text": [
            "Visualizing datasets distributions\n"
          ]
        },
        {
          "output_type": "display_data",
          "data": {
            "text/plain": [
              "<Figure size 720x648 with 9 Axes>"
            ],
            "image/png": "[encoded data removed]"
          },
          "metadata": {
            "needs_background": "light"
          }
        }
      ]
    },
    {
      "cell_type": "markdown",
      "source": [
        "# Process data"
      ],
      "metadata": {
        "id": "KAjBt9JoWCnO"
      }
    },
    {
      "cell_type": "code",
      "source": [
        "df_trainval_processed = preprocessor.fit_transform(\n",
        "    df_trainval\n",
        ")\n",
        "\n",
        "col_n = -1\n",
        "assert (df_trainval_processed[:, col_n] == df_trainval['Transported']).all()"
      ],
      "metadata": {
        "id": "rpR_Oj5yWESs"
      },
      "execution_count": 79,
      "outputs": []
    },
    {
      "cell_type": "code",
      "source": [
        "df_test_sample_processed = preprocessor.transform(\n",
        "    df_test_sample\n",
        ")\n",
        "assert (df_test_sample_processed[:, -1] == df_test_sample['Transported']).all()"
      ],
      "metadata": {
        "id": "jt8EDj0fWKRE"
      },
      "execution_count": 80,
      "outputs": []
    },
    {
      "cell_type": "code",
      "source": [
        "df_test['Transported'] = np.zeros(len(df_test))\n",
        "df_test_processed = preprocessor.transform(df_test)\n",
        "\n",
        "# removing fake \"Transported\" column\n",
        "df_test_processed = df_test_processed[:, :-1]"
      ],
      "metadata": {
        "id": "wSBoAzsRWOWF"
      },
      "execution_count": 81,
      "outputs": []
    },
    {
      "cell_type": "code",
      "source": [
        "assert (df_trainval_processed.dtype == 'float64') \\\n",
        "    & (df_test_sample_processed.dtype == 'float64') \\\n",
        "    & (df_test_processed.dtype == 'float64')"
      ],
      "metadata": {
        "id": "XBwab5igdImz"
      },
      "execution_count": 82,
      "outputs": []
    },
    {
      "cell_type": "markdown",
      "source": [
        "# Save the data"
      ],
      "metadata": {
        "id": "CkrGkFiTcS0v"
      }
    },
    {
      "cell_type": "code",
      "source": [
        "manager.save_to_csv(\n",
        "    df_trainval_processed,\n",
        "    manager.data_trial_path,\n",
        "    'trainval_processed.csv'\n",
        ")\n",
        "\n",
        "manager.save_to_csv(\n",
        "    df_test_sample_processed,\n",
        "    manager.data_trial_path,\n",
        "    'test_sample_processed.csv'\n",
        ")\n",
        "\n",
        "manager.save_to_csv(\n",
        "    df_test_processed,\n",
        "    manager.data_trial_path,\n",
        "    'test_processed.csv'\n",
        ")"
      ],
      "metadata": {
        "id": "2KVbR3YRdB4t"
      },
      "execution_count": 83,
      "outputs": []
    }
  ]
}