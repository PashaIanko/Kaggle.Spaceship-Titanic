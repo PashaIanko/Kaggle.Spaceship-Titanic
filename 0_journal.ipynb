{
  "cells": [
    {
      "cell_type": "markdown",
      "metadata": {
        "colab_type": "text",
        "id": "view-in-github"
      },
      "source": [
        "<a href=\"https://colab.research.google.com/github/PashaIanko/Kaggle.Spaceship-Titanic/blob/main/0_journal.ipynb\" target=\"_parent\"><img src=\"https://colab.research.google.com/assets/colab-badge.svg\" alt=\"Open In Colab\"/></a>"
      ]
    },
    {
      "cell_type": "markdown",
      "metadata": {
        "id": "jSnYq2LGfJX_"
      },
      "source": [
        "# Data"
      ]
    },
    {
      "cell_type": "markdown",
      "metadata": {
        "id": "q7g8O7r7fMJW"
      },
      "source": [
        "- Nan columns in df_train (< 3%):\n",
        "    - CryoSleep\n",
        "    - ShoppingMall\n",
        "    - VIP\n",
        "    - HomePlanet\n",
        "    - Name\n",
        "    - Cabin\n",
        "    - VRDeck\n",
        "    - FoodCourt\n",
        "    - Spa\n",
        "    - Destination\n",
        "    - RoomService\n",
        "    - Age\n"
      ]
    },
    {
      "cell_type": "markdown",
      "metadata": {
        "id": "lboCuJYxfwKf"
      },
      "source": [
        "- A lot of categorical data:\n",
        "    - PassengerId\n",
        "    - HomePlanet\n",
        "    - CryoSleep\n",
        "    - Cabin\n",
        "    - Destination\n",
        "    - VIP\n",
        "    - Name"
      ]
    },
    {
      "cell_type": "markdown",
      "metadata": {
        "id": "ydi-7yFMgPRN"
      },
      "source": [
        "- Candidates for outliers (after df.describe + compare mean / median with max and looking at standard deviation):\n",
        "    - RoomService\n",
        "    - FoodCourt\n",
        "    - ShoppingMall\n",
        "    - Spa\n",
        "    - VRDeck\n",
        "- Can decrease float64 --> float32 precision"
      ]
    },
    {
      "cell_type": "markdown",
      "metadata": {
        "id": "qPIZzFFYt52N"
      },
      "source": [
        "# Data exploration"
      ]
    },
    {
      "cell_type": "markdown",
      "metadata": {
        "id": "UFGyms5oW_Ro"
      },
      "source": [
        "## PassengerId"
      ]
    },
    {
      "cell_type": "markdown",
      "metadata": {
        "id": "PvdpS9WVt7mk"
      },
      "source": [
        "- Passenger Id - split into numerical prefix and postfix. Probably, delete the data, or look what kind of information the Id encodes"
      ]
    },
    {
      "cell_type": "markdown",
      "metadata": {
        "id": "qiMzESQTXCXK"
      },
      "source": [
        "## HomePlanet"
      ]
    },
    {
      "cell_type": "markdown",
      "metadata": {
        "id": "mk3RURrwXEcr"
      },
      "source": [
        "- Only 3 distinctive planets (Earth, Europa, Mars)\n",
        "- ~184 Nan values\n",
        "- We can apply one-hot encoding, since not so many categories, and Nan values will be a vector of zeros"
      ]
    },
    {
      "cell_type": "markdown",
      "metadata": {
        "id": "-Ym_P_AqbS8y"
      },
      "source": [
        "## CryoSleep"
      ]
    },
    {
      "cell_type": "markdown",
      "metadata": {
        "id": "dzwWGClXbUc_"
      },
      "source": [
        "- 2% of nans\n",
        "- 81% of people in CryoSleep (==True) were transported, while only 33% of people **not** in CryoSleep were transported"
      ]
    },
    {
      "cell_type": "markdown",
      "metadata": {},
      "source": [
        "## Cabin"
      ]
    },
    {
      "cell_type": "markdown",
      "metadata": {},
      "source": [
        "- Need to extract the information into new features (G/734/S) --> extract into Deck G, number and side S / P"
      ]
    },
    {
      "cell_type": "markdown",
      "metadata": {},
      "source": [
        "## Destination"
      ]
    },
    {
      "cell_type": "markdown",
      "metadata": {},
      "source": [
        "- Could use one-hot encoding, because only three categories\n",
        "- From pivot table: no significant influence of destination on the probability to be transported "
      ]
    },
    {
      "cell_type": "markdown",
      "metadata": {},
      "source": [
        "## Age"
      ]
    },
    {
      "cell_type": "markdown",
      "metadata": {},
      "source": [
        "- Consider binning into the age group by percentiles\n",
        "- Binned into 10 age groups by percentile. No significant preference for transporting people of certain edge, for all - ~50%"
      ]
    },
    {
      "cell_type": "markdown",
      "metadata": {},
      "source": [
        "## VIP"
      ]
    },
    {
      "cell_type": "markdown",
      "metadata": {},
      "source": [
        "- People with VIP status and in CryoSleep were 100% transported"
      ]
    },
    {
      "cell_type": "markdown",
      "metadata": {},
      "source": [
        "## RoomService, FoodCourt, ShoppingMall, Spa, VRDeck"
      ]
    },
    {
      "cell_type": "markdown",
      "metadata": {},
      "source": [
        "- 63% of df_exploration did not pay for room service\n",
        "- 62% - for FoodCourt\n",
        "- 37% of people did not pay for any luxury service\n",
        "- 58% paid at least for one luxury service\n",
        "\n",
        "- **78% of people, who did not buy any luxuries (ShoppingMall, FoodCourt, VRDeck, Spa, RoomService)** were transported. Inclulde this as a feature"
      ]
    },
    {
      "cell_type": "markdown",
      "metadata": {},
      "source": [
        "## Name"
      ]
    },
    {
      "cell_type": "markdown",
      "metadata": {},
      "source": [
        "- 97% unique names -> consider dropping this column"
      ]
    },
    {
      "cell_type": "markdown",
      "metadata": {},
      "source": [
        "# Feature Engineering"
      ]
    },
    {
      "cell_type": "markdown",
      "metadata": {},
      "source": [
        "## DeckNum"
      ]
    },
    {
      "cell_type": "markdown",
      "metadata": {},
      "source": [
        "- Distribution of deck numbers is the same for transported and not-transported people. Seems that the deck number (alone) does not have a significant difference"
      ]
    },
    {
      "cell_type": "markdown",
      "metadata": {},
      "source": [
        "## DeckSide"
      ]
    },
    {
      "cell_type": "markdown",
      "metadata": {},
      "source": [
        "- Could be a meaningful feature. Among the transported people,\n",
        "deckside == S is prevalent (~2200 VS 1750 people). Among not transported, deckside == P is prevalent (~2200 VS 1750 people)"
      ]
    },
    {
      "cell_type": "markdown",
      "metadata": {},
      "source": [
        "## Deck"
      ]
    },
    {
      "cell_type": "markdown",
      "metadata": {},
      "source": [
        "- Meaningful feature. Percentage of transported people varies, depending on the A-T deck type. For decks B, the percentage of transported people reaches 70%"
      ]
    }
  ],
  "metadata": {
    "colab": {
      "authorship_tag": "ABX9TyPRWmI9ZvhioJ+7QBomPJSm",
      "collapsed_sections": [],
      "include_colab_link": true,
      "provenance": []
    },
    "kernelspec": {
      "display_name": "Python 3",
      "name": "python3"
    },
    "language_info": {
      "name": "python"
    }
  },
  "nbformat": 4,
  "nbformat_minor": 0
}
