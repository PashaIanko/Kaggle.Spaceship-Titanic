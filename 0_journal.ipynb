{
  "nbformat": 4,
  "nbformat_minor": 0,
  "metadata": {
    "colab": {
      "provenance": [],
      "collapsed_sections": [],
      "authorship_tag": "ABX9TyM9QsQ8dqDKYawuhbGW6a6F",
      "include_colab_link": true
    },
    "kernelspec": {
      "name": "python3",
      "display_name": "Python 3"
    },
    "language_info": {
      "name": "python"
    }
  },
  "cells": [
    {
      "cell_type": "markdown",
      "metadata": {
        "id": "view-in-github",
        "colab_type": "text"
      },
      "source": [
        "<a href=\"https://colab.research.google.com/github/PashaIanko/Kaggle.Spaceship-Titanic/blob/main/0_journal.ipynb\" target=\"_parent\"><img src=\"https://colab.research.google.com/assets/colab-badge.svg\" alt=\"Open In Colab\"/></a>"
      ]
    },
    {
      "cell_type": "markdown",
      "source": [
        "# Data"
      ],
      "metadata": {
        "id": "jSnYq2LGfJX_"
      }
    },
    {
      "cell_type": "markdown",
      "source": [
        "- Nan columns in df_train (< 3%):\n",
        "    - CryoSleep\n",
        "    - ShoppingMall\n",
        "    - VIP\n",
        "    - HomePlanet\n",
        "    - Name\n",
        "    - Cabin\n",
        "    - МКВусл\n",
        "    - FoodCourt\n",
        "    - Spa\n",
        "    - Destination\n",
        "    - RoomService\n",
        "    - Age\n"
      ],
      "metadata": {
        "id": "q7g8O7r7fMJW"
      }
    },
    {
      "cell_type": "code",
      "source": [],
      "metadata": {
        "id": "1msi9wVafmB8"
      },
      "execution_count": null,
      "outputs": []
    }
  ]
}