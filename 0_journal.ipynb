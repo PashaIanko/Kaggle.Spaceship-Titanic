{
  "nbformat": 4,
  "nbformat_minor": 0,
  "metadata": {
    "colab": {
      "provenance": [],
      "collapsed_sections": [],
      "authorship_tag": "ABX9TyPRWmI9ZvhioJ+7QBomPJSm",
      "include_colab_link": true
    },
    "kernelspec": {
      "name": "python3",
      "display_name": "Python 3"
    },
    "language_info": {
      "name": "python"
    }
  },
  "cells": [
    {
      "cell_type": "markdown",
      "metadata": {
        "id": "view-in-github",
        "colab_type": "text"
      },
      "source": [
        "<a href=\"https://colab.research.google.com/github/PashaIanko/Kaggle.Spaceship-Titanic/blob/main/0_journal.ipynb\" target=\"_parent\"><img src=\"https://colab.research.google.com/assets/colab-badge.svg\" alt=\"Open In Colab\"/></a>"
      ]
    },
    {
      "cell_type": "markdown",
      "source": [
        "# Data"
      ],
      "metadata": {
        "id": "jSnYq2LGfJX_"
      }
    },
    {
      "cell_type": "markdown",
      "source": [
        "- Nan columns in df_train (< 3%):\n",
        "    - CryoSleep\n",
        "    - ShoppingMall\n",
        "    - VIP\n",
        "    - HomePlanet\n",
        "    - Name\n",
        "    - Cabin\n",
        "    - МКВусл\n",
        "    - FoodCourt\n",
        "    - Spa\n",
        "    - Destination\n",
        "    - RoomService\n",
        "    - Age\n"
      ],
      "metadata": {
        "id": "q7g8O7r7fMJW"
      }
    },
    {
      "cell_type": "markdown",
      "source": [
        "- A lot of categorical data:\n",
        "    - PassengerId\n",
        "    - HomePlanet\n",
        "    - CryoSleep\n",
        "    - Cabin\n",
        "    - Destination\n",
        "    - VIP\n",
        "    - Name"
      ],
      "metadata": {
        "id": "lboCuJYxfwKf"
      }
    },
    {
      "cell_type": "markdown",
      "source": [
        "- Candidates for outliers (after df.describe + compare mean / median with max and looking at standard deviation):\n",
        "    - RoomService\n",
        "    - FoodCourt\n",
        "    - ShoppingMall\n",
        "    - Spa\n",
        "    - VRDeck\n",
        "- Can decrease float64 --> float32 precision"
      ],
      "metadata": {
        "id": "ydi-7yFMgPRN"
      }
    },
    {
      "cell_type": "markdown",
      "source": [
        "# Data exploration"
      ],
      "metadata": {
        "id": "qPIZzFFYt52N"
      }
    },
    {
      "cell_type": "markdown",
      "source": [
        "## PassengerId"
      ],
      "metadata": {
        "id": "UFGyms5oW_Ro"
      }
    },
    {
      "cell_type": "markdown",
      "source": [
        "- Passenger Id - split into numerical prefix and postfix. Probably, delete the data, or look what kind of information the Id encodes"
      ],
      "metadata": {
        "id": "PvdpS9WVt7mk"
      }
    },
    {
      "cell_type": "markdown",
      "source": [
        "## HomePlanet"
      ],
      "metadata": {
        "id": "qiMzESQTXCXK"
      }
    },
    {
      "cell_type": "markdown",
      "source": [
        "- Onlyl 3 distinctive planets (Earth, Europa, Mars)\n",
        "- ~184 Nan values\n",
        "- We can apply one-hot encoding, since not so many categories, and Nan values will be a vector of zeros"
      ],
      "metadata": {
        "id": "mk3RURrwXEcr"
      }
    },
    {
      "cell_type": "markdown",
      "source": [
        "## CryoSleep"
      ],
      "metadata": {
        "id": "-Ym_P_AqbS8y"
      }
    },
    {
      "cell_type": "markdown",
      "source": [
        "- 2% of nans\n",
        "- 81% of people in CryoSleep (==True) were transported, while only 33% of people **not** in CryoSleep were transported"
      ],
      "metadata": {
        "id": "dzwWGClXbUc_"
      }
    },
    {
      "cell_type": "code",
      "source": [],
      "metadata": {
        "id": "nIMsWZW8XTPS"
      },
      "execution_count": null,
      "outputs": []
    }
  ]
}