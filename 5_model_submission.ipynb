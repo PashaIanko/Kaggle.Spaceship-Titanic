{
  "nbformat": 4,
  "nbformat_minor": 0,
  "metadata": {
    "colab": {
      "provenance": [],
      "authorship_tag": "ABX9TyMmZU6/NdKjW9h/uuDD0IgS",
      "include_colab_link": true
    },
    "kernelspec": {
      "name": "python3",
      "display_name": "Python 3"
    },
    "language_info": {
      "name": "python"
    }
  },
  "cells": [
    {
      "cell_type": "markdown",
      "metadata": {
        "id": "view-in-github",
        "colab_type": "text"
      },
      "source": [
        "<a href=\"https://colab.research.google.com/github/PashaIanko/Kaggle.Spaceship-Titanic/blob/main/5_model_submission.ipynb\" target=\"_parent\"><img src=\"https://colab.research.google.com/assets/colab-badge.svg\" alt=\"Open In Colab\"/></a>"
      ]
    },
    {
      "cell_type": "markdown",
      "source": [
        "# Imports"
      ],
      "metadata": {
        "id": "puLnt_MP5tx8"
      }
    },
    {
      "cell_type": "code",
      "source": [
        "from google.colab import drive\n",
        "\n",
        "import pandas as pd\n",
        "\n",
        "import os"
      ],
      "metadata": {
        "id": "QKJP928d5tfw"
      },
      "execution_count": 10,
      "outputs": []
    },
    {
      "cell_type": "markdown",
      "source": [
        "## PEP8 standard"
      ],
      "metadata": {
        "id": "i940ubRT6JCS"
      }
    },
    {
      "cell_type": "code",
      "source": [
        "# PEP 8 \n",
        "%%capture \n",
        "!pip install pycodestyle \n",
        "!pip install --index-url https://test.pypi.org/simple/ nbpep8 \n",
        "from nbpep8.nbpep8 import pep8"
      ],
      "metadata": {
        "id": "vs15yUk_6Kpe"
      },
      "execution_count": 2,
      "outputs": []
    },
    {
      "cell_type": "markdown",
      "source": [
        "## Importing custom packages"
      ],
      "metadata": {
        "id": "dq3hPx1_6Nmv"
      }
    },
    {
      "cell_type": "code",
      "source": [
        "%%capture\n",
        "def download_files(url_dict):\n",
        "    for file, url in url_dict.items():\n",
        "        !wget -O {file} {url} {file}\n",
        "\n",
        "\n",
        "git_download_path = \\\n",
        "    'https://raw.githubusercontent.com/PashaIanko/Sklearn-Utils/main/'\n",
        "\n",
        "files = [\n",
        "    'path_manager.py',\n",
        "    'sklearn_transformers.py',\n",
        "    'sklearn_utils.py',\n",
        "    'model.py'\n",
        "]\n",
        "\n",
        "url_dict = {file: git_download_path + file for file in files}\n",
        "download_files(url_dict)"
      ],
      "metadata": {
        "id": "MNWOAIe16Phq"
      },
      "execution_count": 3,
      "outputs": []
    },
    {
      "cell_type": "code",
      "execution_count": 4,
      "metadata": {
        "id": "W5q1Gj7r5p7F"
      },
      "outputs": [],
      "source": [
        "import importlib\n",
        "import path_manager\n",
        "# import sklearn_utils\n",
        "# import sklearn_transformers\n",
        "# import model\n",
        "\n",
        "\n",
        "def reload_modules(modules):\n",
        "    for module in modules:\n",
        "        importlib.reload(module)\n",
        "\n",
        "\n",
        "reload_modules(\n",
        "    [\n",
        "        path_manager,\n",
        "        # sklearn_transformers,\n",
        "        # sklearn_utils,\n",
        "        # model\n",
        "    ]\n",
        ")\n",
        "\n",
        "from path_manager import PathManager\n",
        "# from sklearn_transformers import ColumnDropper\n",
        "# from sklearn_utils import inf_statistics\n",
        "# from model import Model"
      ]
    },
    {
      "cell_type": "markdown",
      "source": [
        "# Set up paths"
      ],
      "metadata": {
        "id": "BPIZhycT6eKZ"
      }
    },
    {
      "cell_type": "code",
      "source": [
        "drive.mount('/content/gdrive', force_remount=True)\n",
        "gdrive_path = '/content/gdrive/MyDrive/'\n",
        "\n",
        "PREPROC_TRIAL = 1\n",
        "MODELS_TRIAL = 1\n",
        "COMPETITION_PATH = gdrive_path + 'ML/Competitions/6.SpaceshipTitanic/'\n",
        "\n",
        "manager = PathManager(\n",
        "    competition_path=COMPETITION_PATH,\n",
        "    preprocessing_trial=PREPROC_TRIAL,\n",
        "    models_trial=MODELS_TRIAL\n",
        ")\n",
        "manager.setup_paths()"
      ],
      "metadata": {
        "colab": {
          "base_uri": "https://localhost:8080/"
        },
        "id": "qvDxLP1A6a-o",
        "outputId": "8ba5d3e6-92c6-408c-d308-6a3611a702cf"
      },
      "execution_count": 5,
      "outputs": [
        {
          "output_type": "stream",
          "name": "stdout",
          "text": [
            "Mounted at /content/gdrive\n",
            "/content/gdrive/MyDrive/ML/Competitions/6.SpaceshipTitanic/Data/preproc_trial_1 already exists\n",
            "/content/gdrive/MyDrive/ML/Competitions/6.SpaceshipTitanic/Models/trial_1 already exists\n"
          ]
        }
      ]
    },
    {
      "cell_type": "markdown",
      "source": [
        "# Download the trained models"
      ],
      "metadata": {
        "id": "8tmQMmLl6pGr"
      }
    },
    {
      "cell_type": "code",
      "source": [
        "models = manager.load_models(\n",
        "    [\n",
        "        'RandomForest_gridsearch',\n",
        "        'LogReg_gridsearch'\n",
        "    ]\n",
        ")\n",
        "models"
      ],
      "metadata": {
        "colab": {
          "base_uri": "https://localhost:8080/"
        },
        "id": "bkWaWs406fhY",
        "outputId": "70889354-25a6-4e8b-c6b8-c041ec17f08e"
      },
      "execution_count": 8,
      "outputs": [
        {
          "output_type": "execute_result",
          "data": {
            "text/plain": [
              "{'RandomForest_gridsearch': RandomForestClassifier(max_depth=6, max_features='sqrt', n_estimators=75,\n",
              "                        n_jobs=-1, random_state=42),\n",
              " 'LogReg_gridsearch': LogisticRegression(C=0.1, l1_ratio=0, penalty='elasticnet', random_state=42,\n",
              "                    solver='saga')}"
            ]
          },
          "metadata": {},
          "execution_count": 8
        }
      ]
    },
    {
      "cell_type": "markdown",
      "source": [
        "# Download the data"
      ],
      "metadata": {
        "id": "p-1FMkMP63nY"
      }
    },
    {
      "cell_type": "code",
      "source": [
        "os.listdir(manager.data_trial_path)"
      ],
      "metadata": {
        "colab": {
          "base_uri": "https://localhost:8080/"
        },
        "id": "b6rMhFwx7B0V",
        "outputId": "19ba5a69-a877-473d-e5ba-33e3eee3c44c"
      },
      "execution_count": 12,
      "outputs": [
        {
          "output_type": "execute_result",
          "data": {
            "text/plain": [
              "['train_processed.csv',\n",
              " 'trainval_processed.csv',\n",
              " 'test_sample_processed.csv',\n",
              " 'test_processed.csv']"
            ]
          },
          "metadata": {},
          "execution_count": 12
        }
      ]
    },
    {
      "cell_type": "code",
      "source": [
        "df_test_sample = pd.read_csv(\n",
        "    os.path.join(\n",
        "        manager.data_trial_path,\n",
        "        'test_sample_processed.csv'\n",
        "    )\n",
        ")\n",
        "\n",
        "X_test_sample = df_test_sample.values[:, :-1]\n",
        "Y_test_sample = df_test_sample.values[:, -1]\n",
        "df_test_sample.shape"
      ],
      "metadata": {
        "colab": {
          "base_uri": "https://localhost:8080/"
        },
        "id": "KAKyKTfQ7Nv8",
        "outputId": "42c56c8c-7a45-4e1b-fa5a-20174fd3ecd2"
      },
      "execution_count": 19,
      "outputs": [
        {
          "output_type": "execute_result",
          "data": {
            "text/plain": [
              "(1739, 18)"
            ]
          },
          "metadata": {},
          "execution_count": 19
        }
      ]
    },
    {
      "cell_type": "code",
      "source": [
        "df_test_processed = pd.read_csv(\n",
        "    os.path.join(\n",
        "        manager.data_trial_path,\n",
        "        'test_processed.csv'\n",
        "    )\n",
        ")\n",
        "X_test = df_test_processed.values[:, :]\n",
        "df_test_processed.shape"
      ],
      "metadata": {
        "colab": {
          "base_uri": "https://localhost:8080/"
        },
        "id": "0zXN0v_g616u",
        "outputId": "3932dc39-cc9b-425c-a0a3-b3321122b91a"
      },
      "execution_count": 20,
      "outputs": [
        {
          "output_type": "execute_result",
          "data": {
            "text/plain": [
              "(4277, 17)"
            ]
          },
          "metadata": {},
          "execution_count": 20
        }
      ]
    },
    {
      "cell_type": "code",
      "source": [
        "df_trainval_processed = pd.read_csv(\n",
        "    os.path.join(\n",
        "        manager.data_trial_path,\n",
        "        'trainval_processed.csv'\n",
        "    )\n",
        ")\n",
        "\n",
        "X_trainval_processed = df_trainval_processed.values[:, :-1]\n",
        "Y_trainval_processed = df_trainval_processed.values[:, -1]\n",
        "\n",
        "df_trainval_processed.shape"
      ],
      "metadata": {
        "colab": {
          "base_uri": "https://localhost:8080/"
        },
        "id": "lfbuyTn27Sr8",
        "outputId": "285844d8-6f02-4eec-9fac-e1880517d375"
      },
      "execution_count": 31,
      "outputs": [
        {
          "output_type": "execute_result",
          "data": {
            "text/plain": [
              "(6954, 18)"
            ]
          },
          "metadata": {},
          "execution_count": 31
        }
      ]
    },
    {
      "cell_type": "markdown",
      "source": [
        "# Report test sample performance"
      ],
      "metadata": {
        "id": "I0xBl1E_7bsv"
      }
    },
    {
      "cell_type": "code",
      "source": [
        "models['RandomForest_gridsearch'].predict(\n",
        "    df_test_sample.values[:, :-1]\n",
        ")"
      ],
      "metadata": {
        "colab": {
          "base_uri": "https://localhost:8080/"
        },
        "id": "OPoc68Bk9Tv8",
        "outputId": "bc2d35af-2282-4a3d-d8df-b74b93a09517"
      },
      "execution_count": 18,
      "outputs": [
        {
          "output_type": "execute_result",
          "data": {
            "text/plain": [
              "array([1., 1., 0., ..., 1., 0., 0.])"
            ]
          },
          "metadata": {},
          "execution_count": 18
        }
      ]
    },
    {
      "cell_type": "code",
      "source": [
        "from sklearn.metrics import accuracy_score\n",
        "\n",
        "\n",
        "def get_accuracy(model_, X_, Y_):\n",
        "    return accuracy_score(\n",
        "        model_.predict(X_),\n",
        "        Y_\n",
        "    )\n",
        "\n",
        "\n",
        "for model_name, model in models.items():\n",
        "    print(\n",
        "        f'''\n",
        "        {model_name}: {get_accuracy(model, X_test_sample, Y_test_sample)}\n",
        "        '''\n",
        "    )\n",
        "\n",
        "pep8(_ih)"
      ],
      "metadata": {
        "colab": {
          "base_uri": "https://localhost:8080/"
        },
        "id": "TkYzVQeG7J7s",
        "outputId": "cf1e4bc8-efef-4ea2-c959-bbcdcbc189b7"
      },
      "execution_count": 29,
      "outputs": [
        {
          "output_type": "stream",
          "name": "stdout",
          "text": [
            "\n",
            "        RandomForest_gridsearch: 0.777458309373203\n",
            "        \n",
            "\n",
            "        LogReg_gridsearch: 0.7929844738355377\n",
            "        \n",
            "cell_content.py:17:1: W293 blank line contains whitespace\n",
            "\n"
          ]
        }
      ]
    },
    {
      "cell_type": "markdown",
      "source": [
        "# Retrain on full available data"
      ],
      "metadata": {
        "id": "1_gtQ-Bn-irW"
      }
    },
    {
      "cell_type": "code",
      "source": [
        "import numpy as np\n",
        "\n",
        "X_full = np.vstack([X_trainval_processed, X_test_sample])\n",
        "Y_full = np.concatenate([Y_trainval_processed, Y_test_sample])\n",
        "\n",
        "assert X_full.shape[0] == len(Y_full)"
      ],
      "metadata": {
        "id": "l8uBwOE79zK4"
      },
      "execution_count": 40,
      "outputs": []
    },
    {
      "cell_type": "code",
      "source": [
        "final_model = models['LogReg_gridsearch']\n",
        "\n",
        "final_model.fit(\n",
        "    X_full,\n",
        "    Y_full\n",
        ")"
      ],
      "metadata": {
        "colab": {
          "base_uri": "https://localhost:8080/"
        },
        "id": "TlOe4Hw3_Ujz",
        "outputId": "d56d0da9-95d5-4445-a96f-45c5b86dc7f9"
      },
      "execution_count": 41,
      "outputs": [
        {
          "output_type": "stream",
          "name": "stderr",
          "text": [
            "/usr/local/lib/python3.7/dist-packages/sklearn/linear_model/_sag.py:354: ConvergenceWarning: The max_iter was reached which means the coef_ did not converge\n",
            "  ConvergenceWarning,\n"
          ]
        },
        {
          "output_type": "execute_result",
          "data": {
            "text/plain": [
              "LogisticRegression(C=0.1, l1_ratio=0, penalty='elasticnet', random_state=42,\n",
              "                   solver='saga')"
            ]
          },
          "metadata": {},
          "execution_count": 41
        }
      ]
    },
    {
      "cell_type": "markdown",
      "source": [
        "# Save predictions"
      ],
      "metadata": {
        "id": "xIoJAebI_pyN"
      }
    },
    {
      "cell_type": "code",
      "source": [
        "df_submission_example = pd.read_csv(\n",
        "    os.path.join(\n",
        "        manager.data_root_path,\n",
        "        'sample_submission.csv'\n",
        "    )\n",
        ")\n",
        "df_submission_example"
      ],
      "metadata": {
        "colab": {
          "base_uri": "https://localhost:8080/",
          "height": 423
        },
        "id": "rpflOWwvA-o6",
        "outputId": "2670236a-9fb7-4345-d63d-4c754545ef36"
      },
      "execution_count": 54,
      "outputs": [
        {
          "output_type": "execute_result",
          "data": {
            "text/plain": [
              "     PassengerId  Transported\n",
              "0        0013_01        False\n",
              "1        0018_01        False\n",
              "2        0019_01        False\n",
              "3        0021_01        False\n",
              "4        0023_01        False\n",
              "...          ...          ...\n",
              "4272     9266_02        False\n",
              "4273     9269_01        False\n",
              "4274     9271_01        False\n",
              "4275     9273_01        False\n",
              "4276     9277_01        False\n",
              "\n",
              "[4277 rows x 2 columns]"
            ],
            "text/html": [
              "\n",
              "  <div id=\"df-75e29b77-3ca6-4292-8800-895d8eb2eb72\">\n",
              "    <div class=\"colab-df-container\">\n",
              "      <div>\n",
              "<style scoped>\n",
              "    .dataframe tbody tr th:only-of-type {\n",
              "        vertical-align: middle;\n",
              "    }\n",
              "\n",
              "    .dataframe tbody tr th {\n",
              "        vertical-align: top;\n",
              "    }\n",
              "\n",
              "    .dataframe thead th {\n",
              "        text-align: right;\n",
              "    }\n",
              "</style>\n",
              "<table border=\"1\" class=\"dataframe\">\n",
              "  <thead>\n",
              "    <tr style=\"text-align: right;\">\n",
              "      <th></th>\n",
              "      <th>PassengerId</th>\n",
              "      <th>Transported</th>\n",
              "    </tr>\n",
              "  </thead>\n",
              "  <tbody>\n",
              "    <tr>\n",
              "      <th>0</th>\n",
              "      <td>0013_01</td>\n",
              "      <td>False</td>\n",
              "    </tr>\n",
              "    <tr>\n",
              "      <th>1</th>\n",
              "      <td>0018_01</td>\n",
              "      <td>False</td>\n",
              "    </tr>\n",
              "    <tr>\n",
              "      <th>2</th>\n",
              "      <td>0019_01</td>\n",
              "      <td>False</td>\n",
              "    </tr>\n",
              "    <tr>\n",
              "      <th>3</th>\n",
              "      <td>0021_01</td>\n",
              "      <td>False</td>\n",
              "    </tr>\n",
              "    <tr>\n",
              "      <th>4</th>\n",
              "      <td>0023_01</td>\n",
              "      <td>False</td>\n",
              "    </tr>\n",
              "    <tr>\n",
              "      <th>...</th>\n",
              "      <td>...</td>\n",
              "      <td>...</td>\n",
              "    </tr>\n",
              "    <tr>\n",
              "      <th>4272</th>\n",
              "      <td>9266_02</td>\n",
              "      <td>False</td>\n",
              "    </tr>\n",
              "    <tr>\n",
              "      <th>4273</th>\n",
              "      <td>9269_01</td>\n",
              "      <td>False</td>\n",
              "    </tr>\n",
              "    <tr>\n",
              "      <th>4274</th>\n",
              "      <td>9271_01</td>\n",
              "      <td>False</td>\n",
              "    </tr>\n",
              "    <tr>\n",
              "      <th>4275</th>\n",
              "      <td>9273_01</td>\n",
              "      <td>False</td>\n",
              "    </tr>\n",
              "    <tr>\n",
              "      <th>4276</th>\n",
              "      <td>9277_01</td>\n",
              "      <td>False</td>\n",
              "    </tr>\n",
              "  </tbody>\n",
              "</table>\n",
              "<p>4277 rows × 2 columns</p>\n",
              "</div>\n",
              "      <button class=\"colab-df-convert\" onclick=\"convertToInteractive('df-75e29b77-3ca6-4292-8800-895d8eb2eb72')\"\n",
              "              title=\"Convert this dataframe to an interactive table.\"\n",
              "              style=\"display:none;\">\n",
              "        \n",
              "  <svg xmlns=\"http://www.w3.org/2000/svg\" height=\"24px\"viewBox=\"0 0 24 24\"\n",
              "       width=\"24px\">\n",
              "    <path d=\"M0 0h24v24H0V0z\" fill=\"none\"/>\n",
              "    <path d=\"M18.56 5.44l.94 2.06.94-2.06 2.06-.94-2.06-.94-.94-2.06-.94 2.06-2.06.94zm-11 1L8.5 8.5l.94-2.06 2.06-.94-2.06-.94L8.5 2.5l-.94 2.06-2.06.94zm10 10l.94 2.06.94-2.06 2.06-.94-2.06-.94-.94-2.06-.94 2.06-2.06.94z\"/><path d=\"M17.41 7.96l-1.37-1.37c-.4-.4-.92-.59-1.43-.59-.52 0-1.04.2-1.43.59L10.3 9.45l-7.72 7.72c-.78.78-.78 2.05 0 2.83L4 21.41c.39.39.9.59 1.41.59.51 0 1.02-.2 1.41-.59l7.78-7.78 2.81-2.81c.8-.78.8-2.07 0-2.86zM5.41 20L4 18.59l7.72-7.72 1.47 1.35L5.41 20z\"/>\n",
              "  </svg>\n",
              "      </button>\n",
              "      \n",
              "  <style>\n",
              "    .colab-df-container {\n",
              "      display:flex;\n",
              "      flex-wrap:wrap;\n",
              "      gap: 12px;\n",
              "    }\n",
              "\n",
              "    .colab-df-convert {\n",
              "      background-color: #E8F0FE;\n",
              "      border: none;\n",
              "      border-radius: 50%;\n",
              "      cursor: pointer;\n",
              "      display: none;\n",
              "      fill: #1967D2;\n",
              "      height: 32px;\n",
              "      padding: 0 0 0 0;\n",
              "      width: 32px;\n",
              "    }\n",
              "\n",
              "    .colab-df-convert:hover {\n",
              "      background-color: #E2EBFA;\n",
              "      box-shadow: 0px 1px 2px rgba(60, 64, 67, 0.3), 0px 1px 3px 1px rgba(60, 64, 67, 0.15);\n",
              "      fill: #174EA6;\n",
              "    }\n",
              "\n",
              "    [theme=dark] .colab-df-convert {\n",
              "      background-color: #3B4455;\n",
              "      fill: #D2E3FC;\n",
              "    }\n",
              "\n",
              "    [theme=dark] .colab-df-convert:hover {\n",
              "      background-color: #434B5C;\n",
              "      box-shadow: 0px 1px 3px 1px rgba(0, 0, 0, 0.15);\n",
              "      filter: drop-shadow(0px 1px 2px rgba(0, 0, 0, 0.3));\n",
              "      fill: #FFFFFF;\n",
              "    }\n",
              "  </style>\n",
              "\n",
              "      <script>\n",
              "        const buttonEl =\n",
              "          document.querySelector('#df-75e29b77-3ca6-4292-8800-895d8eb2eb72 button.colab-df-convert');\n",
              "        buttonEl.style.display =\n",
              "          google.colab.kernel.accessAllowed ? 'block' : 'none';\n",
              "\n",
              "        async function convertToInteractive(key) {\n",
              "          const element = document.querySelector('#df-75e29b77-3ca6-4292-8800-895d8eb2eb72');\n",
              "          const dataTable =\n",
              "            await google.colab.kernel.invokeFunction('convertToInteractive',\n",
              "                                                     [key], {});\n",
              "          if (!dataTable) return;\n",
              "\n",
              "          const docLinkHtml = 'Like what you see? Visit the ' +\n",
              "            '<a target=\"_blank\" href=https://colab.research.google.com/notebooks/data_table.ipynb>data table notebook</a>'\n",
              "            + ' to learn more about interactive tables.';\n",
              "          element.innerHTML = '';\n",
              "          dataTable['output_type'] = 'display_data';\n",
              "          await google.colab.output.renderOutput(dataTable, element);\n",
              "          const docLink = document.createElement('div');\n",
              "          docLink.innerHTML = docLinkHtml;\n",
              "          element.appendChild(docLink);\n",
              "        }\n",
              "      </script>\n",
              "    </div>\n",
              "  </div>\n",
              "  "
            ]
          },
          "metadata": {},
          "execution_count": 54
        }
      ]
    },
    {
      "cell_type": "code",
      "source": [
        "# Downloading original test set\n",
        "df_submission = pd.read_csv(\n",
        "    os.path.join(\n",
        "        manager.data_root_path,\n",
        "        'test.csv'\n",
        "    )\n",
        ")\n",
        "\n",
        "df_submission = df_submission.loc[:, ['PassengerId']]\n",
        "predictions = final_model.predict(\n",
        "    df_test_processed.values\n",
        ")\n",
        "df_submission['Transported'] = predictions\n",
        "df_submission['Transported'] = df_submission['Transported'].astype('bool')\n",
        "df_submission.head()"
      ],
      "metadata": {
        "colab": {
          "base_uri": "https://localhost:8080/",
          "height": 206
        },
        "id": "mjBwRmYjAOTa",
        "outputId": "c4a54536-8655-47f5-9525-805b3dd3fbe6"
      },
      "execution_count": 58,
      "outputs": [
        {
          "output_type": "execute_result",
          "data": {
            "text/plain": [
              "  PassengerId  Transported\n",
              "0     0013_01         True\n",
              "1     0018_01        False\n",
              "2     0019_01         True\n",
              "3     0021_01         True\n",
              "4     0023_01         True"
            ],
            "text/html": [
              "\n",
              "  <div id=\"df-4186693e-6cf8-4123-bbf6-fe3993508b00\">\n",
              "    <div class=\"colab-df-container\">\n",
              "      <div>\n",
              "<style scoped>\n",
              "    .dataframe tbody tr th:only-of-type {\n",
              "        vertical-align: middle;\n",
              "    }\n",
              "\n",
              "    .dataframe tbody tr th {\n",
              "        vertical-align: top;\n",
              "    }\n",
              "\n",
              "    .dataframe thead th {\n",
              "        text-align: right;\n",
              "    }\n",
              "</style>\n",
              "<table border=\"1\" class=\"dataframe\">\n",
              "  <thead>\n",
              "    <tr style=\"text-align: right;\">\n",
              "      <th></th>\n",
              "      <th>PassengerId</th>\n",
              "      <th>Transported</th>\n",
              "    </tr>\n",
              "  </thead>\n",
              "  <tbody>\n",
              "    <tr>\n",
              "      <th>0</th>\n",
              "      <td>0013_01</td>\n",
              "      <td>True</td>\n",
              "    </tr>\n",
              "    <tr>\n",
              "      <th>1</th>\n",
              "      <td>0018_01</td>\n",
              "      <td>False</td>\n",
              "    </tr>\n",
              "    <tr>\n",
              "      <th>2</th>\n",
              "      <td>0019_01</td>\n",
              "      <td>True</td>\n",
              "    </tr>\n",
              "    <tr>\n",
              "      <th>3</th>\n",
              "      <td>0021_01</td>\n",
              "      <td>True</td>\n",
              "    </tr>\n",
              "    <tr>\n",
              "      <th>4</th>\n",
              "      <td>0023_01</td>\n",
              "      <td>True</td>\n",
              "    </tr>\n",
              "  </tbody>\n",
              "</table>\n",
              "</div>\n",
              "      <button class=\"colab-df-convert\" onclick=\"convertToInteractive('df-4186693e-6cf8-4123-bbf6-fe3993508b00')\"\n",
              "              title=\"Convert this dataframe to an interactive table.\"\n",
              "              style=\"display:none;\">\n",
              "        \n",
              "  <svg xmlns=\"http://www.w3.org/2000/svg\" height=\"24px\"viewBox=\"0 0 24 24\"\n",
              "       width=\"24px\">\n",
              "    <path d=\"M0 0h24v24H0V0z\" fill=\"none\"/>\n",
              "    <path d=\"M18.56 5.44l.94 2.06.94-2.06 2.06-.94-2.06-.94-.94-2.06-.94 2.06-2.06.94zm-11 1L8.5 8.5l.94-2.06 2.06-.94-2.06-.94L8.5 2.5l-.94 2.06-2.06.94zm10 10l.94 2.06.94-2.06 2.06-.94-2.06-.94-.94-2.06-.94 2.06-2.06.94z\"/><path d=\"M17.41 7.96l-1.37-1.37c-.4-.4-.92-.59-1.43-.59-.52 0-1.04.2-1.43.59L10.3 9.45l-7.72 7.72c-.78.78-.78 2.05 0 2.83L4 21.41c.39.39.9.59 1.41.59.51 0 1.02-.2 1.41-.59l7.78-7.78 2.81-2.81c.8-.78.8-2.07 0-2.86zM5.41 20L4 18.59l7.72-7.72 1.47 1.35L5.41 20z\"/>\n",
              "  </svg>\n",
              "      </button>\n",
              "      \n",
              "  <style>\n",
              "    .colab-df-container {\n",
              "      display:flex;\n",
              "      flex-wrap:wrap;\n",
              "      gap: 12px;\n",
              "    }\n",
              "\n",
              "    .colab-df-convert {\n",
              "      background-color: #E8F0FE;\n",
              "      border: none;\n",
              "      border-radius: 50%;\n",
              "      cursor: pointer;\n",
              "      display: none;\n",
              "      fill: #1967D2;\n",
              "      height: 32px;\n",
              "      padding: 0 0 0 0;\n",
              "      width: 32px;\n",
              "    }\n",
              "\n",
              "    .colab-df-convert:hover {\n",
              "      background-color: #E2EBFA;\n",
              "      box-shadow: 0px 1px 2px rgba(60, 64, 67, 0.3), 0px 1px 3px 1px rgba(60, 64, 67, 0.15);\n",
              "      fill: #174EA6;\n",
              "    }\n",
              "\n",
              "    [theme=dark] .colab-df-convert {\n",
              "      background-color: #3B4455;\n",
              "      fill: #D2E3FC;\n",
              "    }\n",
              "\n",
              "    [theme=dark] .colab-df-convert:hover {\n",
              "      background-color: #434B5C;\n",
              "      box-shadow: 0px 1px 3px 1px rgba(0, 0, 0, 0.15);\n",
              "      filter: drop-shadow(0px 1px 2px rgba(0, 0, 0, 0.3));\n",
              "      fill: #FFFFFF;\n",
              "    }\n",
              "  </style>\n",
              "\n",
              "      <script>\n",
              "        const buttonEl =\n",
              "          document.querySelector('#df-4186693e-6cf8-4123-bbf6-fe3993508b00 button.colab-df-convert');\n",
              "        buttonEl.style.display =\n",
              "          google.colab.kernel.accessAllowed ? 'block' : 'none';\n",
              "\n",
              "        async function convertToInteractive(key) {\n",
              "          const element = document.querySelector('#df-4186693e-6cf8-4123-bbf6-fe3993508b00');\n",
              "          const dataTable =\n",
              "            await google.colab.kernel.invokeFunction('convertToInteractive',\n",
              "                                                     [key], {});\n",
              "          if (!dataTable) return;\n",
              "\n",
              "          const docLinkHtml = 'Like what you see? Visit the ' +\n",
              "            '<a target=\"_blank\" href=https://colab.research.google.com/notebooks/data_table.ipynb>data table notebook</a>'\n",
              "            + ' to learn more about interactive tables.';\n",
              "          element.innerHTML = '';\n",
              "          dataTable['output_type'] = 'display_data';\n",
              "          await google.colab.output.renderOutput(dataTable, element);\n",
              "          const docLink = document.createElement('div');\n",
              "          docLink.innerHTML = docLinkHtml;\n",
              "          element.appendChild(docLink);\n",
              "        }\n",
              "      </script>\n",
              "    </div>\n",
              "  </div>\n",
              "  "
            ]
          },
          "metadata": {},
          "execution_count": 58
        }
      ]
    },
    {
      "cell_type": "code",
      "source": [
        "final_model_name = 'LogReg_final'\n",
        "\n",
        "submission_path = os.path.join(\n",
        "    manager.models_trial_path,\n",
        "    final_model_name,\n",
        "    'submission.csv'\n",
        ")\n",
        "\n",
        "manager.save_models(\n",
        "    {\n",
        "        final_model_name: final_model\n",
        "    }\n",
        ")\n",
        "\n",
        "df_submission.to_csv(submission_path)"
      ],
      "metadata": {
        "id": "lmahxaXT_ryw"
      },
      "execution_count": 59,
      "outputs": []
    }
  ]
}