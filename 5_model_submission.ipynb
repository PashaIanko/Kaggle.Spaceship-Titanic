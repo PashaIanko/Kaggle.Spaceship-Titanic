{
  "nbformat": 4,
  "nbformat_minor": 0,
  "metadata": {
    "colab": {
      "provenance": [],
      "authorship_tag": "ABX9TyN1uo2Pv0WHrauUqlXijUoL",
      "include_colab_link": true
    },
    "kernelspec": {
      "name": "python3",
      "display_name": "Python 3"
    },
    "language_info": {
      "name": "python"
    },
    "gpuClass": "standard"
  },
  "cells": [
    {
      "cell_type": "markdown",
      "metadata": {
        "id": "view-in-github",
        "colab_type": "text"
      },
      "source": [
        "<a href=\"https://colab.research.google.com/github/PashaIanko/Kaggle.Spaceship-Titanic/blob/additional_features/5_model_submission.ipynb\" target=\"_parent\"><img src=\"https://colab.research.google.com/assets/colab-badge.svg\" alt=\"Open In Colab\"/></a>"
      ]
    },
    {
      "cell_type": "markdown",
      "source": [
        "# Imports"
      ],
      "metadata": {
        "id": "puLnt_MP5tx8"
      }
    },
    {
      "cell_type": "code",
      "source": [
        "from google.colab import drive\n",
        "\n",
        "import pandas as pd\n",
        "\n",
        "import os"
      ],
      "metadata": {
        "id": "QKJP928d5tfw"
      },
      "execution_count": 15,
      "outputs": []
    },
    {
      "cell_type": "code",
      "source": [
        "%%capture\n",
        "!pip install catboost"
      ],
      "metadata": {
        "id": "l2F1rPRpiguc"
      },
      "execution_count": 16,
      "outputs": []
    },
    {
      "cell_type": "markdown",
      "source": [
        "## PEP8 standard"
      ],
      "metadata": {
        "id": "i940ubRT6JCS"
      }
    },
    {
      "cell_type": "code",
      "source": [
        "# PEP 8 \n",
        "%%capture \n",
        "!pip install pycodestyle \n",
        "!pip install --index-url https://test.pypi.org/simple/ nbpep8 \n",
        "from nbpep8.nbpep8 import pep8"
      ],
      "metadata": {
        "id": "vs15yUk_6Kpe"
      },
      "execution_count": 17,
      "outputs": []
    },
    {
      "cell_type": "markdown",
      "source": [
        "## Importing custom packages"
      ],
      "metadata": {
        "id": "dq3hPx1_6Nmv"
      }
    },
    {
      "cell_type": "code",
      "source": [
        "%%capture\n",
        "def download_files(url_dict):\n",
        "    for file, url in url_dict.items():\n",
        "        !wget -O {file} {url} {file}\n",
        "\n",
        "\n",
        "git_download_path = \\\n",
        "    'https://raw.githubusercontent.com/PashaIanko/Sklearn-Utils/main/'\n",
        "\n",
        "files = [\n",
        "    'path_manager.py',\n",
        "    'sklearn_transformers.py',\n",
        "    'sklearn_utils.py',\n",
        "    'model.py'\n",
        "]\n",
        "\n",
        "url_dict = {file: git_download_path + file for file in files}\n",
        "download_files(url_dict)"
      ],
      "metadata": {
        "id": "MNWOAIe16Phq"
      },
      "execution_count": 18,
      "outputs": []
    },
    {
      "cell_type": "code",
      "execution_count": 19,
      "metadata": {
        "id": "W5q1Gj7r5p7F"
      },
      "outputs": [],
      "source": [
        "import importlib\n",
        "import path_manager\n",
        "# import sklearn_utils\n",
        "# import sklearn_transformers\n",
        "# import model\n",
        "\n",
        "\n",
        "def reload_modules(modules):\n",
        "    for module in modules:\n",
        "        importlib.reload(module)\n",
        "\n",
        "\n",
        "reload_modules(\n",
        "    [\n",
        "        path_manager,\n",
        "        # sklearn_transformers,\n",
        "        # sklearn_utils,\n",
        "        # model\n",
        "    ]\n",
        ")\n",
        "\n",
        "from path_manager import PathManager\n",
        "# from sklearn_transformers import ColumnDropper\n",
        "# from sklearn_utils import inf_statistics\n",
        "# from model import Model"
      ]
    },
    {
      "cell_type": "markdown",
      "source": [
        "# Set up paths"
      ],
      "metadata": {
        "id": "BPIZhycT6eKZ"
      }
    },
    {
      "cell_type": "code",
      "source": [
        "drive.mount('/content/gdrive')\n",
        "gdrive_path = '/content/gdrive/MyDrive/'\n",
        "\n",
        "PREPROC_TRIAL = 9\n",
        "MODELS_TRIAL = 9\n",
        "COMPETITION_PATH = gdrive_path + 'ML/Competitions/6.SpaceshipTitanic/'\n",
        "\n",
        "manager = PathManager(\n",
        "    competition_path=COMPETITION_PATH,\n",
        "    preprocessing_trial=PREPROC_TRIAL,\n",
        "    models_trial=MODELS_TRIAL\n",
        ")\n",
        "manager.setup_paths()"
      ],
      "metadata": {
        "colab": {
          "base_uri": "https://localhost:8080/"
        },
        "id": "qvDxLP1A6a-o",
        "outputId": "560d976f-279e-42a1-bffd-4d137be8e7bd"
      },
      "execution_count": 20,
      "outputs": [
        {
          "output_type": "stream",
          "name": "stdout",
          "text": [
            "Drive already mounted at /content/gdrive; to attempt to forcibly remount, call drive.mount(\"/content/gdrive\", force_remount=True).\n",
            "/content/gdrive/MyDrive/ML/Competitions/6.SpaceshipTitanic/Data/preproc_trial_9 already exists\n",
            "/content/gdrive/MyDrive/ML/Competitions/6.SpaceshipTitanic/Models/trial_9 already exists\n"
          ]
        }
      ]
    },
    {
      "cell_type": "markdown",
      "source": [
        "# Download the trained models"
      ],
      "metadata": {
        "id": "8tmQMmLl6pGr"
      }
    },
    {
      "cell_type": "code",
      "source": [
        "models = manager.load_models(\n",
        "    [\n",
        "        # 'RandomForest_gridsearch',\n",
        "        # 'LogReg_gridsearch'\n",
        "        # 'XGB_gridsearch'\n",
        "        # 'CatBoost_gridsearch'\n",
        "        # 'LGBM_gridsearch',\n",
        "        'LGBMOptuna',\n",
        "    ]\n",
        ")\n",
        "models"
      ],
      "metadata": {
        "colab": {
          "base_uri": "https://localhost:8080/"
        },
        "id": "bkWaWs406fhY",
        "outputId": "039f3e96-b29a-4eb5-82f5-09926184f1d2"
      },
      "execution_count": 21,
      "outputs": [
        {
          "output_type": "execute_result",
          "data": {
            "text/plain": [
              "{'LGBMOptuna': LGBMClassifier(boosting_type='dart', learning_rate=0.09, max_depth=6,\n",
              "                min_child_samples=11, n_estimators=495, num_leaves=10,\n",
              "                objective='binary', reg_alpha=0.7, reg_lambda=0.86)}"
            ]
          },
          "metadata": {},
          "execution_count": 21
        }
      ]
    },
    {
      "cell_type": "markdown",
      "source": [
        "# Download the data"
      ],
      "metadata": {
        "id": "p-1FMkMP63nY"
      }
    },
    {
      "cell_type": "code",
      "source": [
        "os.listdir(manager.data_trial_path)"
      ],
      "metadata": {
        "colab": {
          "base_uri": "https://localhost:8080/"
        },
        "id": "b6rMhFwx7B0V",
        "outputId": "2810d7ac-5556-4b2a-dce9-a32da9a99bc5"
      },
      "execution_count": 22,
      "outputs": [
        {
          "output_type": "execute_result",
          "data": {
            "text/plain": [
              "['trainval_processed.csv', 'test_sample_processed.csv', 'test_processed.csv']"
            ]
          },
          "metadata": {},
          "execution_count": 22
        }
      ]
    },
    {
      "cell_type": "code",
      "source": [
        "df_test_sample = pd.read_csv(\n",
        "    os.path.join(\n",
        "        manager.data_trial_path,\n",
        "        'test_sample_processed.csv',\n",
        "    ),\n",
        "    index_col='Unnamed: 0'\n",
        ")\n",
        "\n",
        "X_test_sample = df_test_sample.values[:, :-1]\n",
        "Y_test_sample = df_test_sample.values[:, -1]\n",
        "df_test_sample.shape"
      ],
      "metadata": {
        "colab": {
          "base_uri": "https://localhost:8080/"
        },
        "id": "KAKyKTfQ7Nv8",
        "outputId": "49ae90c4-b6be-4a83-c3d2-9e73c95ff9e3"
      },
      "execution_count": 28,
      "outputs": [
        {
          "output_type": "execute_result",
          "data": {
            "text/plain": [
              "(1739, 34)"
            ]
          },
          "metadata": {},
          "execution_count": 28
        }
      ]
    },
    {
      "cell_type": "code",
      "source": [
        "df_test_processed = pd.read_csv(\n",
        "    os.path.join(\n",
        "        manager.data_trial_path,\n",
        "        'test_processed.csv'\n",
        "    ),\n",
        "    index_col='Unnamed: 0'\n",
        ")\n",
        "X_test = df_test_processed.values[:, :]\n",
        "df_test_processed.shape"
      ],
      "metadata": {
        "colab": {
          "base_uri": "https://localhost:8080/"
        },
        "id": "0zXN0v_g616u",
        "outputId": "a8047027-bb34-4904-8789-3edca98566d7"
      },
      "execution_count": 29,
      "outputs": [
        {
          "output_type": "execute_result",
          "data": {
            "text/plain": [
              "(4277, 33)"
            ]
          },
          "metadata": {},
          "execution_count": 29
        }
      ]
    },
    {
      "cell_type": "code",
      "source": [
        "df_trainval_processed = pd.read_csv(\n",
        "    os.path.join(\n",
        "        manager.data_trial_path,\n",
        "        'trainval_processed.csv'\n",
        "    ),\n",
        "    index_col='Unnamed: 0'\n",
        ")\n",
        "\n",
        "X_trainval_processed = df_trainval_processed.values[:, :-1]\n",
        "Y_trainval_processed = df_trainval_processed.values[:, -1]\n",
        "\n",
        "df_trainval_processed.shape"
      ],
      "metadata": {
        "colab": {
          "base_uri": "https://localhost:8080/"
        },
        "id": "lfbuyTn27Sr8",
        "outputId": "5cfcbabb-03e5-4826-b6be-798e9aca4da5"
      },
      "execution_count": 30,
      "outputs": [
        {
          "output_type": "execute_result",
          "data": {
            "text/plain": [
              "(6954, 34)"
            ]
          },
          "metadata": {},
          "execution_count": 30
        }
      ]
    },
    {
      "cell_type": "markdown",
      "source": [
        "# Report test sample performance"
      ],
      "metadata": {
        "id": "I0xBl1E_7bsv"
      }
    },
    {
      "cell_type": "code",
      "source": [
        "from sklearn.metrics import accuracy_score\n",
        "\n",
        "\n",
        "def get_accuracy(model_, X_, Y_):\n",
        "    return accuracy_score(\n",
        "        model_.predict(X_),\n",
        "        Y_\n",
        "    )\n",
        "\n",
        "\n",
        "for model_name, model in models.items():\n",
        "    print(\n",
        "        f'''\n",
        "        {model_name}: {get_accuracy(model, X_test_sample, Y_test_sample)}\n",
        "        '''\n",
        "    )\n",
        "\n",
        "pep8(_ih)"
      ],
      "metadata": {
        "colab": {
          "base_uri": "https://localhost:8080/"
        },
        "id": "TkYzVQeG7J7s",
        "outputId": "85a95c06-5780-4d91-b77c-cfb4f85b14d7"
      },
      "execution_count": 32,
      "outputs": [
        {
          "output_type": "stream",
          "name": "stdout",
          "text": [
            "\n",
            "        LGBMOptuna: 0.7993099482461185\n",
            "        \n",
            "\n"
          ]
        }
      ]
    },
    {
      "cell_type": "markdown",
      "source": [
        "# Retrain on full available data"
      ],
      "metadata": {
        "id": "1_gtQ-Bn-irW"
      }
    },
    {
      "cell_type": "code",
      "source": [
        "import numpy as np\n",
        "\n",
        "X_full = np.vstack([X_trainval_processed, X_test_sample])\n",
        "Y_full = np.concatenate([Y_trainval_processed, Y_test_sample])\n",
        "\n",
        "assert X_full.shape[0] == len(Y_full)"
      ],
      "metadata": {
        "id": "l8uBwOE79zK4"
      },
      "execution_count": 33,
      "outputs": []
    },
    {
      "cell_type": "code",
      "source": [
        "final_model = models['LGBMOptuna']  # models['LogReg_gridsearch']\n",
        "\n",
        "final_model.fit(\n",
        "    X_full,\n",
        "    Y_full\n",
        ")\n",
        "\n",
        "predictions = final_model.predict(df_test_processed.values)"
      ],
      "metadata": {
        "id": "TlOe4Hw3_Ujz"
      },
      "execution_count": 34,
      "outputs": []
    },
    {
      "cell_type": "markdown",
      "source": [
        "# Save predictions"
      ],
      "metadata": {
        "id": "xIoJAebI_pyN"
      }
    },
    {
      "cell_type": "code",
      "source": [
        "# Downloading original test set\n",
        "df_submission = pd.read_csv(\n",
        "    os.path.join(\n",
        "        manager.data_root_path,\n",
        "        'test.csv'\n",
        "    )\n",
        ")\n",
        "\n",
        "df_submission = df_submission.loc[:, ['PassengerId']]\n",
        "predictions = final_model.predict(\n",
        "    df_test_processed.values\n",
        ")\n",
        "df_submission['Transported'] = predictions\n",
        "df_submission['Transported'] = df_submission['Transported'].astype('bool')\n",
        "df_submission.set_index(df_submission['PassengerId'], inplace=True)\n",
        "df_submission.drop(['PassengerId'], axis='columns', inplace=True)\n",
        "df_submission.head()"
      ],
      "metadata": {
        "colab": {
          "base_uri": "https://localhost:8080/",
          "height": 237
        },
        "id": "mjBwRmYjAOTa",
        "outputId": "fa2b7193-8c0a-499d-97e4-86fdc187e2b9"
      },
      "execution_count": 35,
      "outputs": [
        {
          "output_type": "execute_result",
          "data": {
            "text/plain": [
              "             Transported\n",
              "PassengerId             \n",
              "0013_01             True\n",
              "0018_01            False\n",
              "0019_01             True\n",
              "0021_01             True\n",
              "0023_01             True"
            ],
            "text/html": [
              "\n",
              "  <div id=\"df-3adb73a1-24f9-4ca2-b980-6d25f6805b62\">\n",
              "    <div class=\"colab-df-container\">\n",
              "      <div>\n",
              "<style scoped>\n",
              "    .dataframe tbody tr th:only-of-type {\n",
              "        vertical-align: middle;\n",
              "    }\n",
              "\n",
              "    .dataframe tbody tr th {\n",
              "        vertical-align: top;\n",
              "    }\n",
              "\n",
              "    .dataframe thead th {\n",
              "        text-align: right;\n",
              "    }\n",
              "</style>\n",
              "<table border=\"1\" class=\"dataframe\">\n",
              "  <thead>\n",
              "    <tr style=\"text-align: right;\">\n",
              "      <th></th>\n",
              "      <th>Transported</th>\n",
              "    </tr>\n",
              "    <tr>\n",
              "      <th>PassengerId</th>\n",
              "      <th></th>\n",
              "    </tr>\n",
              "  </thead>\n",
              "  <tbody>\n",
              "    <tr>\n",
              "      <th>0013_01</th>\n",
              "      <td>True</td>\n",
              "    </tr>\n",
              "    <tr>\n",
              "      <th>0018_01</th>\n",
              "      <td>False</td>\n",
              "    </tr>\n",
              "    <tr>\n",
              "      <th>0019_01</th>\n",
              "      <td>True</td>\n",
              "    </tr>\n",
              "    <tr>\n",
              "      <th>0021_01</th>\n",
              "      <td>True</td>\n",
              "    </tr>\n",
              "    <tr>\n",
              "      <th>0023_01</th>\n",
              "      <td>True</td>\n",
              "    </tr>\n",
              "  </tbody>\n",
              "</table>\n",
              "</div>\n",
              "      <button class=\"colab-df-convert\" onclick=\"convertToInteractive('df-3adb73a1-24f9-4ca2-b980-6d25f6805b62')\"\n",
              "              title=\"Convert this dataframe to an interactive table.\"\n",
              "              style=\"display:none;\">\n",
              "        \n",
              "  <svg xmlns=\"http://www.w3.org/2000/svg\" height=\"24px\"viewBox=\"0 0 24 24\"\n",
              "       width=\"24px\">\n",
              "    <path d=\"M0 0h24v24H0V0z\" fill=\"none\"/>\n",
              "    <path d=\"M18.56 5.44l.94 2.06.94-2.06 2.06-.94-2.06-.94-.94-2.06-.94 2.06-2.06.94zm-11 1L8.5 8.5l.94-2.06 2.06-.94-2.06-.94L8.5 2.5l-.94 2.06-2.06.94zm10 10l.94 2.06.94-2.06 2.06-.94-2.06-.94-.94-2.06-.94 2.06-2.06.94z\"/><path d=\"M17.41 7.96l-1.37-1.37c-.4-.4-.92-.59-1.43-.59-.52 0-1.04.2-1.43.59L10.3 9.45l-7.72 7.72c-.78.78-.78 2.05 0 2.83L4 21.41c.39.39.9.59 1.41.59.51 0 1.02-.2 1.41-.59l7.78-7.78 2.81-2.81c.8-.78.8-2.07 0-2.86zM5.41 20L4 18.59l7.72-7.72 1.47 1.35L5.41 20z\"/>\n",
              "  </svg>\n",
              "      </button>\n",
              "      \n",
              "  <style>\n",
              "    .colab-df-container {\n",
              "      display:flex;\n",
              "      flex-wrap:wrap;\n",
              "      gap: 12px;\n",
              "    }\n",
              "\n",
              "    .colab-df-convert {\n",
              "      background-color: #E8F0FE;\n",
              "      border: none;\n",
              "      border-radius: 50%;\n",
              "      cursor: pointer;\n",
              "      display: none;\n",
              "      fill: #1967D2;\n",
              "      height: 32px;\n",
              "      padding: 0 0 0 0;\n",
              "      width: 32px;\n",
              "    }\n",
              "\n",
              "    .colab-df-convert:hover {\n",
              "      background-color: #E2EBFA;\n",
              "      box-shadow: 0px 1px 2px rgba(60, 64, 67, 0.3), 0px 1px 3px 1px rgba(60, 64, 67, 0.15);\n",
              "      fill: #174EA6;\n",
              "    }\n",
              "\n",
              "    [theme=dark] .colab-df-convert {\n",
              "      background-color: #3B4455;\n",
              "      fill: #D2E3FC;\n",
              "    }\n",
              "\n",
              "    [theme=dark] .colab-df-convert:hover {\n",
              "      background-color: #434B5C;\n",
              "      box-shadow: 0px 1px 3px 1px rgba(0, 0, 0, 0.15);\n",
              "      filter: drop-shadow(0px 1px 2px rgba(0, 0, 0, 0.3));\n",
              "      fill: #FFFFFF;\n",
              "    }\n",
              "  </style>\n",
              "\n",
              "      <script>\n",
              "        const buttonEl =\n",
              "          document.querySelector('#df-3adb73a1-24f9-4ca2-b980-6d25f6805b62 button.colab-df-convert');\n",
              "        buttonEl.style.display =\n",
              "          google.colab.kernel.accessAllowed ? 'block' : 'none';\n",
              "\n",
              "        async function convertToInteractive(key) {\n",
              "          const element = document.querySelector('#df-3adb73a1-24f9-4ca2-b980-6d25f6805b62');\n",
              "          const dataTable =\n",
              "            await google.colab.kernel.invokeFunction('convertToInteractive',\n",
              "                                                     [key], {});\n",
              "          if (!dataTable) return;\n",
              "\n",
              "          const docLinkHtml = 'Like what you see? Visit the ' +\n",
              "            '<a target=\"_blank\" href=https://colab.research.google.com/notebooks/data_table.ipynb>data table notebook</a>'\n",
              "            + ' to learn more about interactive tables.';\n",
              "          element.innerHTML = '';\n",
              "          dataTable['output_type'] = 'display_data';\n",
              "          await google.colab.output.renderOutput(dataTable, element);\n",
              "          const docLink = document.createElement('div');\n",
              "          docLink.innerHTML = docLinkHtml;\n",
              "          element.appendChild(docLink);\n",
              "        }\n",
              "      </script>\n",
              "    </div>\n",
              "  </div>\n",
              "  "
            ]
          },
          "metadata": {},
          "execution_count": 35
        }
      ]
    },
    {
      "cell_type": "code",
      "source": [
        "final_model_name = 'LGBMOptuna_final'\n",
        "\n",
        "submission_path = os.path.join(\n",
        "    manager.models_trial_path,\n",
        "    final_model_name,\n",
        "    'submission.csv'\n",
        ")\n",
        "\n",
        "manager.save_models(\n",
        "    {\n",
        "        final_model_name: final_model\n",
        "    }\n",
        ")\n",
        "\n",
        "df_submission.to_csv(submission_path)"
      ],
      "metadata": {
        "id": "lmahxaXT_ryw"
      },
      "execution_count": 36,
      "outputs": []
    },
    {
      "cell_type": "code",
      "source": [],
      "metadata": {
        "id": "R7oY0JdHTzNS"
      },
      "execution_count": null,
      "outputs": []
    }
  ]
}