{
  "nbformat": 4,
  "nbformat_minor": 0,
  "metadata": {
    "colab": {
      "provenance": [],
      "toc_visible": true,
      "authorship_tag": "ABX9TyNX3Ti8WZjwscW5vRtuOU2+",
      "include_colab_link": true
    },
    "kernelspec": {
      "name": "python3",
      "display_name": "Python 3"
    },
    "language_info": {
      "name": "python"
    }
  },
  "cells": [
    {
      "cell_type": "markdown",
      "metadata": {
        "id": "view-in-github",
        "colab_type": "text"
      },
      "source": [
        "<a href=\"https://colab.research.google.com/github/PashaIanko/Kaggle.Spaceship-Titanic/blob/additional_features/3_model_preparation.ipynb\" target=\"_parent\"><img src=\"https://colab.research.google.com/assets/colab-badge.svg\" alt=\"Open In Colab\"/></a>"
      ]
    },
    {
      "cell_type": "markdown",
      "source": [
        "# Imports"
      ],
      "metadata": {
        "id": "7yVqYdL2W1JZ"
      }
    },
    {
      "cell_type": "code",
      "execution_count": 1,
      "metadata": {
        "id": "bv1M4eV9Wwab"
      },
      "outputs": [],
      "source": [
        "from google.colab import drive\n",
        "\n",
        "import numpy as np\n",
        "\n",
        "import pandas as pd\n",
        "\n",
        "import os"
      ]
    },
    {
      "cell_type": "code",
      "source": [
        "%%capture\n",
        "!pip install catboost"
      ],
      "metadata": {
        "id": "gVWZSqwFf_jz"
      },
      "execution_count": 2,
      "outputs": []
    },
    {
      "cell_type": "markdown",
      "source": [
        "## PEP8 standard"
      ],
      "metadata": {
        "id": "CTa8zW4wW4RI"
      }
    },
    {
      "cell_type": "code",
      "source": [
        "%%capture\n",
        "!pip install pycodestyle\n",
        "!pip install --index-url https://test.pypi.org/simple/ nbpep8\n",
        "\n",
        "from nbpep8.nbpep8 import pep8"
      ],
      "metadata": {
        "id": "v0gjPO7pW7CV"
      },
      "execution_count": 3,
      "outputs": []
    },
    {
      "cell_type": "markdown",
      "source": [
        "## Importing custom packages"
      ],
      "metadata": {
        "id": "4mQrysTyXCeb"
      }
    },
    {
      "cell_type": "code",
      "source": [
        "%%capture\n",
        "def download_files(url_dict):\n",
        "    for file, url in url_dict.items():\n",
        "        !wget -O {file} {url} {file}\n",
        "\n",
        "\n",
        "git_download_path = \\\n",
        "    'https://raw.githubusercontent.com/PashaIanko/Sklearn-Utils/main/'\n",
        "\n",
        "files = [\n",
        "    'path_manager.py',\n",
        "    'sklearn_transformers.py',\n",
        "    'sklearn_utils.py',\n",
        "    'model.py'\n",
        "]\n",
        "\n",
        "url_dict = {file: git_download_path + file for file in files}\n",
        "download_files(url_dict)"
      ],
      "metadata": {
        "id": "jGf7K3s1W3vW"
      },
      "execution_count": 4,
      "outputs": []
    },
    {
      "cell_type": "code",
      "source": [
        "import importlib\n",
        "import path_manager\n",
        "import sklearn_utils\n",
        "import sklearn_transformers\n",
        "import model\n",
        "\n",
        "\n",
        "def reload_modules(modules):\n",
        "    for module in modules:\n",
        "        importlib.reload(module)\n",
        "\n",
        "\n",
        "reload_modules(\n",
        "    [\n",
        "        path_manager,\n",
        "        sklearn_transformers,\n",
        "        sklearn_utils,\n",
        "        model\n",
        "    ]\n",
        ")\n",
        "\n",
        "from path_manager import PathManager\n",
        "from sklearn_transformers import ColumnDropper\n",
        "from sklearn_utils import inf_statistics\n",
        "from model import Model\n",
        "from sklearn_utils import fit_grid_search\n",
        "from sklearn_utils import dict_subset"
      ],
      "metadata": {
        "id": "nvO2CpAZXW0Z"
      },
      "execution_count": 5,
      "outputs": []
    },
    {
      "cell_type": "markdown",
      "source": [
        "# Set up paths"
      ],
      "metadata": {
        "id": "iMrpxL6zXMez"
      }
    },
    {
      "cell_type": "code",
      "source": [
        "drive.mount('/content/gdrive')\n",
        "gdrive_path = '/content/gdrive/MyDrive/'\n",
        "\n",
        "PREPROC_TRIAL = 8\n",
        "MODELS_TRIAL = 8\n",
        "COMPETITION_PATH = gdrive_path + 'ML/Competitions/6.SpaceshipTitanic/'\n",
        "\n",
        "manager = PathManager(\n",
        "    competition_path=COMPETITION_PATH,\n",
        "    preprocessing_trial=PREPROC_TRIAL,\n",
        "    models_trial=MODELS_TRIAL\n",
        ")\n",
        "manager.setup_paths()"
      ],
      "metadata": {
        "colab": {
          "base_uri": "https://localhost:8080/"
        },
        "id": "A5MRTpfaXKuZ",
        "outputId": "17855957-14b0-4f83-b337-0473e68a603a"
      },
      "execution_count": 6,
      "outputs": [
        {
          "output_type": "stream",
          "name": "stdout",
          "text": [
            "Mounted at /content/gdrive\n",
            "/content/gdrive/MyDrive/ML/Competitions/6.SpaceshipTitanic/Data/preproc_trial_8 already exists\n"
          ]
        }
      ]
    },
    {
      "cell_type": "markdown",
      "source": [
        "# Fixing seed"
      ],
      "metadata": {
        "id": "Dstvp4lxXy86"
      }
    },
    {
      "cell_type": "code",
      "source": [
        "RANDOM_SEED = 42\n",
        "RANDOM_STATE = RANDOM_SEED\n",
        "\n",
        "np.random.seed(42)"
      ],
      "metadata": {
        "id": "7npCPy2jX0NK"
      },
      "execution_count": 7,
      "outputs": []
    },
    {
      "cell_type": "markdown",
      "source": [
        "# Download the data"
      ],
      "metadata": {
        "id": "3_J-YIyxXk3y"
      }
    },
    {
      "cell_type": "code",
      "source": [
        "os.listdir(manager.data_trial_path)"
      ],
      "metadata": {
        "colab": {
          "base_uri": "https://localhost:8080/"
        },
        "id": "Wpf0urw3Xo0D",
        "outputId": "cd1490f3-af19-4b72-bea6-4717c470967c"
      },
      "execution_count": 8,
      "outputs": [
        {
          "output_type": "execute_result",
          "data": {
            "text/plain": [
              "['test_sample_processed.csv', 'test_processed.csv', 'trainval_processed.csv']"
            ]
          },
          "metadata": {},
          "execution_count": 8
        }
      ]
    },
    {
      "cell_type": "code",
      "source": [
        "df_trainval = pd.read_csv(\n",
        "    os.path.join(\n",
        "        manager.data_trial_path,\n",
        "        'trainval_processed.csv'\n",
        "    )\n",
        ")\n",
        "print(df_trainval.shape)\n",
        "\n",
        "X_trainval = df_trainval.values[:, :-1]\n",
        "Y_trainval = df_trainval.values[:, -1]"
      ],
      "metadata": {
        "id": "26yMwvMeXhan",
        "outputId": "e6d9c1a2-a044-4aec-b734-44a23a1367be",
        "colab": {
          "base_uri": "https://localhost:8080/"
        }
      },
      "execution_count": 9,
      "outputs": [
        {
          "output_type": "stream",
          "name": "stdout",
          "text": [
            "(6954, 34)\n"
          ]
        }
      ]
    },
    {
      "cell_type": "code",
      "source": [
        "df_test_sample = pd.read_csv(\n",
        "    os.path.join(\n",
        "        manager.data_trial_path,\n",
        "        'test_sample_processed.csv'\n",
        "    )\n",
        ")\n",
        "print(df_test_sample.shape)\n",
        "\n",
        "X_test_sample = df_test_sample.values[:, :-1]\n",
        "Y_test_sample = df_test_sample.values[:, -1]"
      ],
      "metadata": {
        "id": "wuHTCoIqYGak",
        "outputId": "c1c18c83-83e8-4189-9e4b-77bf605e1c44",
        "colab": {
          "base_uri": "https://localhost:8080/"
        }
      },
      "execution_count": 10,
      "outputs": [
        {
          "output_type": "stream",
          "name": "stdout",
          "text": [
            "(1739, 34)\n"
          ]
        }
      ]
    },
    {
      "cell_type": "code",
      "source": [
        "df_trainval.head()"
      ],
      "metadata": {
        "id": "-l_rqD4O_yja",
        "outputId": "259e3bf4-613f-46df-ac18-13241ebd2cb3",
        "colab": {
          "base_uri": "https://localhost:8080/",
          "height": 0
        }
      },
      "execution_count": 11,
      "outputs": [
        {
          "output_type": "execute_result",
          "data": {
            "text/plain": [
              "   Unnamed: 0         0         1         2         3         4         5  \\\n",
              "0           0 -0.459516 -0.409755 -0.441999 -0.429520 -0.426892 -0.699062   \n",
              "1           1 -0.459516 -0.409755 -0.441999 -0.429520 -0.426892 -0.699062   \n",
              "2           2 -0.459516 -0.409755 -0.441999 -0.429520 -0.426892 -0.699062   \n",
              "3           3 -0.459516 -0.409755 -0.441999 -0.429520 -0.426892 -0.273260   \n",
              "4           4 -0.459516 -0.409755 -0.214310 -0.427099  3.432164  2.351252   \n",
              "\n",
              "          6         7    8  ...   23   24        25        26        27   28  \\\n",
              "0 -0.685934 -1.996149  1.0  ...  1.0  0.0  2.392570  3.130413 -0.277637  1.0   \n",
              "1 -0.764095 -0.811703  1.0  ...  1.0  1.0 -0.490454 -0.650221 -1.226031  1.0   \n",
              "2 -0.764095  0.442416  1.0  ...  1.0  1.0 -0.490454 -0.650221  1.716911  0.0   \n",
              "3 -0.764095 -0.184643  0.0  ...  1.0  1.0 -0.490454 -0.650221  0.304434  1.0   \n",
              "4  2.503644 -1.090396  1.0  ...  0.0  1.0 -0.490454 -0.650221  0.174835  1.0   \n",
              "\n",
              "    29   30   31   32  \n",
              "0  1.0  0.0  0.0  1.0  \n",
              "1  1.0  1.0  1.0  1.0  \n",
              "2  1.0  2.0  1.0  0.0  \n",
              "3  0.0  2.0  1.0  1.0  \n",
              "4  5.0  1.0  0.0  0.0  \n",
              "\n",
              "[5 rows x 34 columns]"
            ],
            "text/html": [
              "\n",
              "  <div id=\"df-459f002f-21c6-43ba-b7d7-ab13f1ffa91c\">\n",
              "    <div class=\"colab-df-container\">\n",
              "      <div>\n",
              "<style scoped>\n",
              "    .dataframe tbody tr th:only-of-type {\n",
              "        vertical-align: middle;\n",
              "    }\n",
              "\n",
              "    .dataframe tbody tr th {\n",
              "        vertical-align: top;\n",
              "    }\n",
              "\n",
              "    .dataframe thead th {\n",
              "        text-align: right;\n",
              "    }\n",
              "</style>\n",
              "<table border=\"1\" class=\"dataframe\">\n",
              "  <thead>\n",
              "    <tr style=\"text-align: right;\">\n",
              "      <th></th>\n",
              "      <th>Unnamed: 0</th>\n",
              "      <th>0</th>\n",
              "      <th>1</th>\n",
              "      <th>2</th>\n",
              "      <th>3</th>\n",
              "      <th>4</th>\n",
              "      <th>5</th>\n",
              "      <th>6</th>\n",
              "      <th>7</th>\n",
              "      <th>8</th>\n",
              "      <th>...</th>\n",
              "      <th>23</th>\n",
              "      <th>24</th>\n",
              "      <th>25</th>\n",
              "      <th>26</th>\n",
              "      <th>27</th>\n",
              "      <th>28</th>\n",
              "      <th>29</th>\n",
              "      <th>30</th>\n",
              "      <th>31</th>\n",
              "      <th>32</th>\n",
              "    </tr>\n",
              "  </thead>\n",
              "  <tbody>\n",
              "    <tr>\n",
              "      <th>0</th>\n",
              "      <td>0</td>\n",
              "      <td>-0.459516</td>\n",
              "      <td>-0.409755</td>\n",
              "      <td>-0.441999</td>\n",
              "      <td>-0.429520</td>\n",
              "      <td>-0.426892</td>\n",
              "      <td>-0.699062</td>\n",
              "      <td>-0.685934</td>\n",
              "      <td>-1.996149</td>\n",
              "      <td>1.0</td>\n",
              "      <td>...</td>\n",
              "      <td>1.0</td>\n",
              "      <td>0.0</td>\n",
              "      <td>2.392570</td>\n",
              "      <td>3.130413</td>\n",
              "      <td>-0.277637</td>\n",
              "      <td>1.0</td>\n",
              "      <td>1.0</td>\n",
              "      <td>0.0</td>\n",
              "      <td>0.0</td>\n",
              "      <td>1.0</td>\n",
              "    </tr>\n",
              "    <tr>\n",
              "      <th>1</th>\n",
              "      <td>1</td>\n",
              "      <td>-0.459516</td>\n",
              "      <td>-0.409755</td>\n",
              "      <td>-0.441999</td>\n",
              "      <td>-0.429520</td>\n",
              "      <td>-0.426892</td>\n",
              "      <td>-0.699062</td>\n",
              "      <td>-0.764095</td>\n",
              "      <td>-0.811703</td>\n",
              "      <td>1.0</td>\n",
              "      <td>...</td>\n",
              "      <td>1.0</td>\n",
              "      <td>1.0</td>\n",
              "      <td>-0.490454</td>\n",
              "      <td>-0.650221</td>\n",
              "      <td>-1.226031</td>\n",
              "      <td>1.0</td>\n",
              "      <td>1.0</td>\n",
              "      <td>1.0</td>\n",
              "      <td>1.0</td>\n",
              "      <td>1.0</td>\n",
              "    </tr>\n",
              "    <tr>\n",
              "      <th>2</th>\n",
              "      <td>2</td>\n",
              "      <td>-0.459516</td>\n",
              "      <td>-0.409755</td>\n",
              "      <td>-0.441999</td>\n",
              "      <td>-0.429520</td>\n",
              "      <td>-0.426892</td>\n",
              "      <td>-0.699062</td>\n",
              "      <td>-0.764095</td>\n",
              "      <td>0.442416</td>\n",
              "      <td>1.0</td>\n",
              "      <td>...</td>\n",
              "      <td>1.0</td>\n",
              "      <td>1.0</td>\n",
              "      <td>-0.490454</td>\n",
              "      <td>-0.650221</td>\n",
              "      <td>1.716911</td>\n",
              "      <td>0.0</td>\n",
              "      <td>1.0</td>\n",
              "      <td>2.0</td>\n",
              "      <td>1.0</td>\n",
              "      <td>0.0</td>\n",
              "    </tr>\n",
              "    <tr>\n",
              "      <th>3</th>\n",
              "      <td>3</td>\n",
              "      <td>-0.459516</td>\n",
              "      <td>-0.409755</td>\n",
              "      <td>-0.441999</td>\n",
              "      <td>-0.429520</td>\n",
              "      <td>-0.426892</td>\n",
              "      <td>-0.273260</td>\n",
              "      <td>-0.764095</td>\n",
              "      <td>-0.184643</td>\n",
              "      <td>0.0</td>\n",
              "      <td>...</td>\n",
              "      <td>1.0</td>\n",
              "      <td>1.0</td>\n",
              "      <td>-0.490454</td>\n",
              "      <td>-0.650221</td>\n",
              "      <td>0.304434</td>\n",
              "      <td>1.0</td>\n",
              "      <td>0.0</td>\n",
              "      <td>2.0</td>\n",
              "      <td>1.0</td>\n",
              "      <td>1.0</td>\n",
              "    </tr>\n",
              "    <tr>\n",
              "      <th>4</th>\n",
              "      <td>4</td>\n",
              "      <td>-0.459516</td>\n",
              "      <td>-0.409755</td>\n",
              "      <td>-0.214310</td>\n",
              "      <td>-0.427099</td>\n",
              "      <td>3.432164</td>\n",
              "      <td>2.351252</td>\n",
              "      <td>2.503644</td>\n",
              "      <td>-1.090396</td>\n",
              "      <td>1.0</td>\n",
              "      <td>...</td>\n",
              "      <td>0.0</td>\n",
              "      <td>1.0</td>\n",
              "      <td>-0.490454</td>\n",
              "      <td>-0.650221</td>\n",
              "      <td>0.174835</td>\n",
              "      <td>1.0</td>\n",
              "      <td>5.0</td>\n",
              "      <td>1.0</td>\n",
              "      <td>0.0</td>\n",
              "      <td>0.0</td>\n",
              "    </tr>\n",
              "  </tbody>\n",
              "</table>\n",
              "<p>5 rows × 34 columns</p>\n",
              "</div>\n",
              "      <button class=\"colab-df-convert\" onclick=\"convertToInteractive('df-459f002f-21c6-43ba-b7d7-ab13f1ffa91c')\"\n",
              "              title=\"Convert this dataframe to an interactive table.\"\n",
              "              style=\"display:none;\">\n",
              "        \n",
              "  <svg xmlns=\"http://www.w3.org/2000/svg\" height=\"24px\"viewBox=\"0 0 24 24\"\n",
              "       width=\"24px\">\n",
              "    <path d=\"M0 0h24v24H0V0z\" fill=\"none\"/>\n",
              "    <path d=\"M18.56 5.44l.94 2.06.94-2.06 2.06-.94-2.06-.94-.94-2.06-.94 2.06-2.06.94zm-11 1L8.5 8.5l.94-2.06 2.06-.94-2.06-.94L8.5 2.5l-.94 2.06-2.06.94zm10 10l.94 2.06.94-2.06 2.06-.94-2.06-.94-.94-2.06-.94 2.06-2.06.94z\"/><path d=\"M17.41 7.96l-1.37-1.37c-.4-.4-.92-.59-1.43-.59-.52 0-1.04.2-1.43.59L10.3 9.45l-7.72 7.72c-.78.78-.78 2.05 0 2.83L4 21.41c.39.39.9.59 1.41.59.51 0 1.02-.2 1.41-.59l7.78-7.78 2.81-2.81c.8-.78.8-2.07 0-2.86zM5.41 20L4 18.59l7.72-7.72 1.47 1.35L5.41 20z\"/>\n",
              "  </svg>\n",
              "      </button>\n",
              "      \n",
              "  <style>\n",
              "    .colab-df-container {\n",
              "      display:flex;\n",
              "      flex-wrap:wrap;\n",
              "      gap: 12px;\n",
              "    }\n",
              "\n",
              "    .colab-df-convert {\n",
              "      background-color: #E8F0FE;\n",
              "      border: none;\n",
              "      border-radius: 50%;\n",
              "      cursor: pointer;\n",
              "      display: none;\n",
              "      fill: #1967D2;\n",
              "      height: 32px;\n",
              "      padding: 0 0 0 0;\n",
              "      width: 32px;\n",
              "    }\n",
              "\n",
              "    .colab-df-convert:hover {\n",
              "      background-color: #E2EBFA;\n",
              "      box-shadow: 0px 1px 2px rgba(60, 64, 67, 0.3), 0px 1px 3px 1px rgba(60, 64, 67, 0.15);\n",
              "      fill: #174EA6;\n",
              "    }\n",
              "\n",
              "    [theme=dark] .colab-df-convert {\n",
              "      background-color: #3B4455;\n",
              "      fill: #D2E3FC;\n",
              "    }\n",
              "\n",
              "    [theme=dark] .colab-df-convert:hover {\n",
              "      background-color: #434B5C;\n",
              "      box-shadow: 0px 1px 3px 1px rgba(0, 0, 0, 0.15);\n",
              "      filter: drop-shadow(0px 1px 2px rgba(0, 0, 0, 0.3));\n",
              "      fill: #FFFFFF;\n",
              "    }\n",
              "  </style>\n",
              "\n",
              "      <script>\n",
              "        const buttonEl =\n",
              "          document.querySelector('#df-459f002f-21c6-43ba-b7d7-ab13f1ffa91c button.colab-df-convert');\n",
              "        buttonEl.style.display =\n",
              "          google.colab.kernel.accessAllowed ? 'block' : 'none';\n",
              "\n",
              "        async function convertToInteractive(key) {\n",
              "          const element = document.querySelector('#df-459f002f-21c6-43ba-b7d7-ab13f1ffa91c');\n",
              "          const dataTable =\n",
              "            await google.colab.kernel.invokeFunction('convertToInteractive',\n",
              "                                                     [key], {});\n",
              "          if (!dataTable) return;\n",
              "\n",
              "          const docLinkHtml = 'Like what you see? Visit the ' +\n",
              "            '<a target=\"_blank\" href=https://colab.research.google.com/notebooks/data_table.ipynb>data table notebook</a>'\n",
              "            + ' to learn more about interactive tables.';\n",
              "          element.innerHTML = '';\n",
              "          dataTable['output_type'] = 'display_data';\n",
              "          await google.colab.output.renderOutput(dataTable, element);\n",
              "          const docLink = document.createElement('div');\n",
              "          docLink.innerHTML = docLinkHtml;\n",
              "          element.appendChild(docLink);\n",
              "        }\n",
              "      </script>\n",
              "    </div>\n",
              "  </div>\n",
              "  "
            ]
          },
          "metadata": {},
          "execution_count": 11
        }
      ]
    },
    {
      "cell_type": "markdown",
      "source": [
        "# Define models"
      ],
      "metadata": {
        "id": "2Kx50_bOYrOA"
      }
    },
    {
      "cell_type": "code",
      "source": [
        "from sklearn.linear_model import LogisticRegression"
      ],
      "metadata": {
        "id": "_6C7zqyxYuZZ"
      },
      "execution_count": 12,
      "outputs": []
    },
    {
      "cell_type": "code",
      "source": [
        "LogReg = Model(\n",
        "    LogisticRegression(),\n",
        "    'LogReg',\n",
        "    [\n",
        "        {\n",
        "            'penalty': ['elasticnet'],\n",
        "            'C': [0.01, 0.05, 0.1],\n",
        "            'random_state': [RANDOM_STATE],\n",
        "            'solver': ['saga'],\n",
        "            'l1_ratio': [0, 0.01, 0.05]\n",
        "        }\n",
        "    ],\n",
        "    [\n",
        "\n",
        "    ]\n",
        ")"
      ],
      "metadata": {
        "id": "ZDIsSHtEYMHU"
      },
      "execution_count": 13,
      "outputs": []
    },
    {
      "cell_type": "code",
      "source": [
        "from sklearn.ensemble import RandomForestClassifier\n",
        "\n",
        "\n",
        "RandomForest = Model(\n",
        "    RandomForestClassifier(),\n",
        "    'RandomForest',\n",
        "    [\n",
        "        {\n",
        "            'n_estimators': [75, 125],\n",
        "            'max_depth': [6],\n",
        "            'bootstrap': [True],\n",
        "            'max_features': ['sqrt', 'log2'],\n",
        "            'random_state': [42],\n",
        "            'n_jobs': [-1]\n",
        "        }\n",
        "    ],\n",
        "    [\n",
        "\n",
        "    ]\n",
        ")"
      ],
      "metadata": {
        "id": "p5Yst9VMfi1K"
      },
      "execution_count": 14,
      "outputs": []
    },
    {
      "cell_type": "code",
      "source": [
        "from sklearn.svm import SVC\n",
        "\n",
        "\n",
        "SVM = Model(\n",
        "    SVC(),\n",
        "    'SVM',\n",
        "    [\n",
        "        {\n",
        "            'C': [0.05, 0.1, 0.5, 1.0],\n",
        "            'kernel': ['linear', 'rbf', 'poly'],\n",
        "            'random_state': [RANDOM_STATE]\n",
        "        }\n",
        "    ],\n",
        "    [\n",
        "        \n",
        "    ]\n",
        ")"
      ],
      "metadata": {
        "id": "owyAZXVRfx1G"
      },
      "execution_count": 15,
      "outputs": []
    },
    {
      "cell_type": "code",
      "source": [
        "from lightgbm import LGBMClassifier\n",
        "\n",
        "\n",
        "light_gbm_model = Model(\n",
        "    LGBMClassifier(),\n",
        "    'LGBM',\n",
        "    [\n",
        "        {\n",
        "            'objective': ['binary'],\n",
        "            'random_state': [RANDOM_STATE],\n",
        "            'boosting': ['dart'],\n",
        "            'learning_rate': [0.1, 0.15],\n",
        "            'max_depth': [3, 4],\n",
        "            'n_estimators': [100, 150, 300],\n",
        "            'lambda_l1': [0.07],\n",
        "            'lambda_l2': [0.07]\n",
        "        }\n",
        "    ],\n",
        "    []\n",
        ")"
      ],
      "metadata": {
        "id": "sfzjK8WMtEMO"
      },
      "execution_count": 16,
      "outputs": []
    },
    {
      "cell_type": "code",
      "source": [
        "all_models = {\n",
        "    model.name: model\n",
        "    for model in [\n",
        "        LogReg,\n",
        "        RandomForest,\n",
        "        light_gbm_model,\n",
        "        # SVM\n",
        "    ]\n",
        "}"
      ],
      "metadata": {
        "id": "59nL5KL_Y9Ty"
      },
      "execution_count": 18,
      "outputs": []
    },
    {
      "cell_type": "markdown",
      "source": [
        "# Shortlist models based on cross-validation behavior"
      ],
      "metadata": {
        "id": "JdsRgy7afXlI"
      }
    },
    {
      "cell_type": "code",
      "source": [
        "from sklearn_utils import plot_cv_results\n",
        "\n",
        "\n",
        "np.random.seed(RANDOM_SEED)\n",
        "\n",
        "res = plot_cv_results(\n",
        "    sklearn_models_dict_={\n",
        "        model_name: model.model\n",
        "        for model_name, model in all_models.items()\n",
        "    },\n",
        "    X_=X_trainval,\n",
        "    Y_=Y_trainval,\n",
        "    cv_=5,\n",
        "    scoring_='accuracy',  # 'accuracy'\n",
        "    to_put_minus_=False\n",
        ")"
      ],
      "metadata": {
        "id": "B7kMU00dZdP2",
        "outputId": "f05c6ec8-7ab0-4f2c-ed61-a3684009e969",
        "colab": {
          "base_uri": "https://localhost:8080/",
          "height": 1000
        }
      },
      "execution_count": 19,
      "outputs": [
        {
          "output_type": "stream",
          "name": "stderr",
          "text": [
            "/usr/local/lib/python3.7/dist-packages/sklearn/linear_model/_logistic.py:818: ConvergenceWarning: lbfgs failed to converge (status=1):\n",
            "STOP: TOTAL NO. of ITERATIONS REACHED LIMIT.\n",
            "\n",
            "Increase the number of iterations (max_iter) or scale the data as shown in:\n",
            "    https://scikit-learn.org/stable/modules/preprocessing.html\n",
            "Please also refer to the documentation for alternative solver options:\n",
            "    https://scikit-learn.org/stable/modules/linear_model.html#logistic-regression\n",
            "  extra_warning_msg=_LOGISTIC_SOLVER_CONVERGENCE_MSG,\n",
            "/usr/local/lib/python3.7/dist-packages/sklearn/linear_model/_logistic.py:818: ConvergenceWarning: lbfgs failed to converge (status=1):\n",
            "STOP: TOTAL NO. of ITERATIONS REACHED LIMIT.\n",
            "\n",
            "Increase the number of iterations (max_iter) or scale the data as shown in:\n",
            "    https://scikit-learn.org/stable/modules/preprocessing.html\n",
            "Please also refer to the documentation for alternative solver options:\n",
            "    https://scikit-learn.org/stable/modules/linear_model.html#logistic-regression\n",
            "  extra_warning_msg=_LOGISTIC_SOLVER_CONVERGENCE_MSG,\n",
            "/usr/local/lib/python3.7/dist-packages/sklearn/linear_model/_logistic.py:818: ConvergenceWarning: lbfgs failed to converge (status=1):\n",
            "STOP: TOTAL NO. of ITERATIONS REACHED LIMIT.\n",
            "\n",
            "Increase the number of iterations (max_iter) or scale the data as shown in:\n",
            "    https://scikit-learn.org/stable/modules/preprocessing.html\n",
            "Please also refer to the documentation for alternative solver options:\n",
            "    https://scikit-learn.org/stable/modules/linear_model.html#logistic-regression\n",
            "  extra_warning_msg=_LOGISTIC_SOLVER_CONVERGENCE_MSG,\n",
            "/usr/local/lib/python3.7/dist-packages/sklearn/linear_model/_logistic.py:818: ConvergenceWarning: lbfgs failed to converge (status=1):\n",
            "STOP: TOTAL NO. of ITERATIONS REACHED LIMIT.\n",
            "\n",
            "Increase the number of iterations (max_iter) or scale the data as shown in:\n",
            "    https://scikit-learn.org/stable/modules/preprocessing.html\n",
            "Please also refer to the documentation for alternative solver options:\n",
            "    https://scikit-learn.org/stable/modules/linear_model.html#logistic-regression\n",
            "  extra_warning_msg=_LOGISTIC_SOLVER_CONVERGENCE_MSG,\n",
            "/usr/local/lib/python3.7/dist-packages/sklearn/linear_model/_logistic.py:818: ConvergenceWarning: lbfgs failed to converge (status=1):\n",
            "STOP: TOTAL NO. of ITERATIONS REACHED LIMIT.\n",
            "\n",
            "Increase the number of iterations (max_iter) or scale the data as shown in:\n",
            "    https://scikit-learn.org/stable/modules/preprocessing.html\n",
            "Please also refer to the documentation for alternative solver options:\n",
            "    https://scikit-learn.org/stable/modules/linear_model.html#logistic-regression\n",
            "  extra_warning_msg=_LOGISTIC_SOLVER_CONVERGENCE_MSG,\n"
          ]
        },
        {
          "output_type": "stream",
          "name": "stdout",
          "text": [
            "Model           Seen folds avg score    Seen folds std    Unseen folds avg score    Unseen folds std\n",
            "------------  ----------------------  ----------------  ------------------------  ------------------\n",
            "LogReg                       0.79199        0.00123496                  0.788612           0.0076354\n",
            "LGBM                         0.92019        0.003428                    0.794795           0.0130403\n",
            "RandomForest                 1              0                           0.79839            0.008684\n"
          ]
        },
        {
          "output_type": "display_data",
          "data": {
            "text/plain": [
              "<Figure size 432x288 with 1 Axes>"
            ],
            "image/png": "[encoded data removed]"
          },
          "metadata": {
            "needs_background": "light"
          }
        },
        {
          "output_type": "display_data",
          "data": {
            "text/plain": [
              "<Figure size 432x288 with 1 Axes>"
            ],
            "image/png": "[encoded data removed]"
          },
          "metadata": {
            "needs_background": "light"
          }
        },
        {
          "output_type": "display_data",
          "data": {
            "text/plain": [
              "<Figure size 432x288 with 1 Axes>"
            ],
            "image/png": "[encoded data removed]"
          },
          "metadata": {
            "needs_background": "light"
          }
        }
      ]
    },
    {
      "cell_type": "code",
      "source": [
        "shortlisted_models = {\n",
        "    model.name: model\n",
        "    for model in [\n",
        "        LogReg,\n",
        "        # SVM,\n",
        "        RandomForest,\n",
        "        light_gbm_model\n",
        "    ]\n",
        "}"
      ],
      "metadata": {
        "id": "r9x-2htUfb6W"
      },
      "execution_count": 20,
      "outputs": []
    },
    {
      "cell_type": "markdown",
      "source": [
        "# Fine tune shortlisted models with grid search"
      ],
      "metadata": {
        "id": "rOAf8XEAgPxS"
      }
    },
    {
      "cell_type": "markdown",
      "source": [
        "## Random forest"
      ],
      "metadata": {
        "id": "Wr0F5QIqiegq"
      }
    },
    {
      "cell_type": "code",
      "source": [
        "rf_results = fit_grid_search(\n",
        "    models_dict_=dict_subset(\n",
        "        shortlisted_models,\n",
        "        ['RandomForest']\n",
        "    ),\n",
        "    X_=X_trainval,\n",
        "    Y_=Y_trainval,\n",
        "    cv_=5,\n",
        "    scoring_='accuracy',\n",
        "    verbose=2\n",
        ")"
      ],
      "metadata": {
        "id": "P-091VIbgX6y",
        "outputId": "bec42adf-385d-4a5d-f8b7-10a791e43a17",
        "colab": {
          "base_uri": "https://localhost:8080/",
          "height": 710
        }
      },
      "execution_count": 21,
      "outputs": [
        {
          "output_type": "stream",
          "name": "stdout",
          "text": [
            "Fitting RandomForest\n",
            "Fitting 5 folds for each of 4 candidates, totalling 20 fits\n",
            "[CV] END bootstrap=True, max_depth=6, max_features=sqrt, n_estimators=75, n_jobs=-1, random_state=42; total time=   1.6s\n",
            "[CV] END bootstrap=True, max_depth=6, max_features=sqrt, n_estimators=75, n_jobs=-1, random_state=42; total time=   0.8s\n",
            "[CV] END bootstrap=True, max_depth=6, max_features=sqrt, n_estimators=75, n_jobs=-1, random_state=42; total time=   0.5s\n",
            "[CV] END bootstrap=True, max_depth=6, max_features=sqrt, n_estimators=75, n_jobs=-1, random_state=42; total time=   0.5s\n",
            "[CV] END bootstrap=True, max_depth=6, max_features=sqrt, n_estimators=75, n_jobs=-1, random_state=42; total time=   0.5s\n",
            "[CV] END bootstrap=True, max_depth=6, max_features=sqrt, n_estimators=125, n_jobs=-1, random_state=42; total time=   0.6s\n",
            "[CV] END bootstrap=True, max_depth=6, max_features=sqrt, n_estimators=125, n_jobs=-1, random_state=42; total time=   0.7s\n",
            "[CV] END bootstrap=True, max_depth=6, max_features=sqrt, n_estimators=125, n_jobs=-1, random_state=42; total time=   1.2s\n",
            "[CV] END bootstrap=True, max_depth=6, max_features=sqrt, n_estimators=125, n_jobs=-1, random_state=42; total time=   1.0s\n",
            "[CV] END bootstrap=True, max_depth=6, max_features=sqrt, n_estimators=125, n_jobs=-1, random_state=42; total time=   1.2s\n",
            "[CV] END bootstrap=True, max_depth=6, max_features=log2, n_estimators=75, n_jobs=-1, random_state=42; total time=   0.8s\n",
            "[CV] END bootstrap=True, max_depth=6, max_features=log2, n_estimators=75, n_jobs=-1, random_state=42; total time=   0.8s\n",
            "[CV] END bootstrap=True, max_depth=6, max_features=log2, n_estimators=75, n_jobs=-1, random_state=42; total time=   0.8s\n",
            "[CV] END bootstrap=True, max_depth=6, max_features=log2, n_estimators=75, n_jobs=-1, random_state=42; total time=   0.7s\n",
            "[CV] END bootstrap=True, max_depth=6, max_features=log2, n_estimators=75, n_jobs=-1, random_state=42; total time=   0.9s\n",
            "[CV] END bootstrap=True, max_depth=6, max_features=log2, n_estimators=125, n_jobs=-1, random_state=42; total time=   0.7s\n",
            "[CV] END bootstrap=True, max_depth=6, max_features=log2, n_estimators=125, n_jobs=-1, random_state=42; total time=   0.6s\n",
            "[CV] END bootstrap=True, max_depth=6, max_features=log2, n_estimators=125, n_jobs=-1, random_state=42; total time=   0.6s\n",
            "[CV] END bootstrap=True, max_depth=6, max_features=log2, n_estimators=125, n_jobs=-1, random_state=42; total time=   0.6s\n",
            "[CV] END bootstrap=True, max_depth=6, max_features=log2, n_estimators=125, n_jobs=-1, random_state=42; total time=   0.6s\n"
          ]
        },
        {
          "output_type": "display_data",
          "data": {
            "text/plain": [
              "<Figure size 432x288 with 1 Axes>"
            ],
            "image/png": "[encoded data removed]"
          },
          "metadata": {
            "needs_background": "light"
          }
        }
      ]
    },
    {
      "cell_type": "code",
      "source": [
        "rf_results['RandomForest'].best_score_, \\\n",
        "    rf_results['RandomForest'].best_params_"
      ],
      "metadata": {
        "id": "TtTMSwS_igZl",
        "outputId": "efe4bd44-fd72-4ffb-97fc-8faf29772e58",
        "colab": {
          "base_uri": "https://localhost:8080/"
        }
      },
      "execution_count": 22,
      "outputs": [
        {
          "output_type": "execute_result",
          "data": {
            "text/plain": [
              "(0.7691983925440524,\n",
              " {'bootstrap': True,\n",
              "  'max_depth': 6,\n",
              "  'max_features': 'sqrt',\n",
              "  'n_estimators': 125,\n",
              "  'n_jobs': -1,\n",
              "  'random_state': 42})"
            ]
          },
          "metadata": {},
          "execution_count": 22
        }
      ]
    },
    {
      "cell_type": "markdown",
      "source": [
        "## SVM"
      ],
      "metadata": {
        "id": "8ldwrJyCilfV"
      }
    },
    {
      "cell_type": "code",
      "source": [
        "from sklearn.svm import SVC\n",
        "\n",
        "svm_model = Model(\n",
        "    SVC(),\n",
        "    'SVM',\n",
        "    [\n",
        "        {\n",
        "            'random_state': [42],\n",
        "            'kernel': ['linear']\n",
        "        },\n",
        "    ],\n",
        "    []\n",
        ")"
      ],
      "metadata": {
        "id": "8zKTgiAKXJha"
      },
      "execution_count": null,
      "outputs": []
    },
    {
      "cell_type": "code",
      "source": [
        "from sklearn_utils import fit_grid_search\n",
        "\n",
        "\n",
        "svm_results = fit_grid_search(\n",
        "    {'SVM': svm_model},\n",
        "    X_=X_trainval,\n",
        "    Y_=Y_trainval,\n",
        "    cv_=5,\n",
        "    scoring_='accuracy',\n",
        "    verbose=5\n",
        ")"
      ],
      "metadata": {
        "id": "mFD_jd0Cxirj",
        "outputId": "058f429b-1087-42e3-c4ba-fc9357b43f40",
        "colab": {
          "base_uri": "https://localhost:8080/"
        }
      },
      "execution_count": null,
      "outputs": [
        {
          "output_type": "stream",
          "name": "stdout",
          "text": [
            "Fitting SVM\n",
            "Fitting 5 folds for each of 1 candidates, totalling 5 fits\n"
          ]
        }
      ]
    },
    {
      "cell_type": "code",
      "source": [
        "# svm_results.best_score_"
      ],
      "metadata": {
        "id": "zai4My6mfA8u"
      },
      "execution_count": null,
      "outputs": []
    },
    {
      "cell_type": "markdown",
      "source": [
        "## Gradient boosting"
      ],
      "metadata": {
        "id": "nxslrJY7Xttz"
      }
    },
    {
      "cell_type": "code",
      "source": [
        "from sklearn.ensemble import GradientBoostingClassifier\n",
        "\n",
        "\n",
        "xgb_model = Model(\n",
        "    GradientBoostingClassifier(),\n",
        "    'XGB',\n",
        "    [\n",
        "        {\n",
        "            'n_estimators': [100, 150],\n",
        "            'random_state': [42],\n",
        "            'learning_rate': [0.05],\n",
        "            'max_depth': [3],\n",
        "            'max_features': [None, 'sqrt', 'log2']\n",
        "        }\n",
        "    ],\n",
        "    []\n",
        ")"
      ],
      "metadata": {
        "id": "dMPiUNjyXwNM"
      },
      "execution_count": 23,
      "outputs": []
    },
    {
      "cell_type": "code",
      "source": [
        "xgb_results = fit_grid_search(\n",
        "    models_dict_={'XGB': xgb_model},\n",
        "    X_=X_trainval,\n",
        "    Y_=Y_trainval,\n",
        "    cv_=5,\n",
        "    scoring_='accuracy',\n",
        "    verbose=2\n",
        ")"
      ],
      "metadata": {
        "id": "r_fO9n0PYLdn",
        "outputId": "58ea71b8-9fdb-4a0a-a6a5-e25f7d323a6e",
        "colab": {
          "base_uri": "https://localhost:8080/",
          "height": 890
        }
      },
      "execution_count": 24,
      "outputs": [
        {
          "output_type": "stream",
          "name": "stdout",
          "text": [
            "Fitting XGB\n",
            "Fitting 5 folds for each of 6 candidates, totalling 30 fits\n",
            "[CV] END learning_rate=0.05, max_depth=3, max_features=None, n_estimators=100, random_state=42; total time=   1.7s\n",
            "[CV] END learning_rate=0.05, max_depth=3, max_features=None, n_estimators=100, random_state=42; total time=   1.6s\n",
            "[CV] END learning_rate=0.05, max_depth=3, max_features=None, n_estimators=100, random_state=42; total time=   1.7s\n",
            "[CV] END learning_rate=0.05, max_depth=3, max_features=None, n_estimators=100, random_state=42; total time=   1.6s\n",
            "[CV] END learning_rate=0.05, max_depth=3, max_features=None, n_estimators=100, random_state=42; total time=   1.9s\n",
            "[CV] END learning_rate=0.05, max_depth=3, max_features=None, n_estimators=150, random_state=42; total time=   2.5s\n",
            "[CV] END learning_rate=0.05, max_depth=3, max_features=None, n_estimators=150, random_state=42; total time=   2.4s\n",
            "[CV] END learning_rate=0.05, max_depth=3, max_features=None, n_estimators=150, random_state=42; total time=   2.5s\n",
            "[CV] END learning_rate=0.05, max_depth=3, max_features=None, n_estimators=150, random_state=42; total time=   2.7s\n",
            "[CV] END learning_rate=0.05, max_depth=3, max_features=None, n_estimators=150, random_state=42; total time=   2.7s\n",
            "[CV] END learning_rate=0.05, max_depth=3, max_features=sqrt, n_estimators=100, random_state=42; total time=   0.4s\n",
            "[CV] END learning_rate=0.05, max_depth=3, max_features=sqrt, n_estimators=100, random_state=42; total time=   0.4s\n",
            "[CV] END learning_rate=0.05, max_depth=3, max_features=sqrt, n_estimators=100, random_state=42; total time=   0.4s\n",
            "[CV] END learning_rate=0.05, max_depth=3, max_features=sqrt, n_estimators=100, random_state=42; total time=   0.4s\n",
            "[CV] END learning_rate=0.05, max_depth=3, max_features=sqrt, n_estimators=100, random_state=42; total time=   0.4s\n",
            "[CV] END learning_rate=0.05, max_depth=3, max_features=sqrt, n_estimators=150, random_state=42; total time=   0.6s\n",
            "[CV] END learning_rate=0.05, max_depth=3, max_features=sqrt, n_estimators=150, random_state=42; total time=   0.6s\n",
            "[CV] END learning_rate=0.05, max_depth=3, max_features=sqrt, n_estimators=150, random_state=42; total time=   0.6s\n",
            "[CV] END learning_rate=0.05, max_depth=3, max_features=sqrt, n_estimators=150, random_state=42; total time=   0.6s\n",
            "[CV] END learning_rate=0.05, max_depth=3, max_features=sqrt, n_estimators=150, random_state=42; total time=   0.6s\n",
            "[CV] END learning_rate=0.05, max_depth=3, max_features=log2, n_estimators=100, random_state=42; total time=   0.4s\n",
            "[CV] END learning_rate=0.05, max_depth=3, max_features=log2, n_estimators=100, random_state=42; total time=   0.4s\n",
            "[CV] END learning_rate=0.05, max_depth=3, max_features=log2, n_estimators=100, random_state=42; total time=   0.4s\n",
            "[CV] END learning_rate=0.05, max_depth=3, max_features=log2, n_estimators=100, random_state=42; total time=   0.4s\n",
            "[CV] END learning_rate=0.05, max_depth=3, max_features=log2, n_estimators=100, random_state=42; total time=   0.4s\n",
            "[CV] END learning_rate=0.05, max_depth=3, max_features=log2, n_estimators=150, random_state=42; total time=   0.6s\n",
            "[CV] END learning_rate=0.05, max_depth=3, max_features=log2, n_estimators=150, random_state=42; total time=   0.6s\n",
            "[CV] END learning_rate=0.05, max_depth=3, max_features=log2, n_estimators=150, random_state=42; total time=   0.6s\n",
            "[CV] END learning_rate=0.05, max_depth=3, max_features=log2, n_estimators=150, random_state=42; total time=   0.6s\n",
            "[CV] END learning_rate=0.05, max_depth=3, max_features=log2, n_estimators=150, random_state=42; total time=   0.6s\n"
          ]
        },
        {
          "output_type": "display_data",
          "data": {
            "text/plain": [
              "<Figure size 432x288 with 1 Axes>"
            ],
            "image/png": "[encoded data removed]"
          },
          "metadata": {
            "needs_background": "light"
          }
        }
      ]
    },
    {
      "cell_type": "code",
      "source": [
        "xgb_results['XGB'].best_score_, \\\n",
        "    xgb_results['XGB'].best_params_"
      ],
      "metadata": {
        "id": "E7aC1FT9YqY0",
        "outputId": "ce635199-f27d-4825-8147-06b9480e38f7",
        "colab": {
          "base_uri": "https://localhost:8080/"
        }
      },
      "execution_count": 25,
      "outputs": [
        {
          "output_type": "execute_result",
          "data": {
            "text/plain": [
              "(0.7940763076095557,\n",
              " {'learning_rate': 0.05,\n",
              "  'max_depth': 3,\n",
              "  'max_features': None,\n",
              "  'n_estimators': 100,\n",
              "  'random_state': 42})"
            ]
          },
          "metadata": {},
          "execution_count": 25
        }
      ]
    },
    {
      "cell_type": "markdown",
      "source": [
        "## Adaptive boosting"
      ],
      "metadata": {
        "id": "hcp_NEdyeRBS"
      }
    },
    {
      "cell_type": "code",
      "source": [
        "from sklearn.ensemble import AdaBoostClassifier\n",
        "from sklearn.tree import DecisionTreeClassifier\n",
        "\n",
        "\n",
        "ada_boost = Model(\n",
        "    AdaBoostClassifier(),\n",
        "    'AdaBoost',\n",
        "    [\n",
        "        {\n",
        "            'n_estimators': [50, 100],\n",
        "            'random_state': [42],\n",
        "            'base_estimator': [\n",
        "                # DecisionTreeClassifier(max_depth=2),\n",
        "                DecisionTreeClassifier(\n",
        "                    max_depth=3,\n",
        "                    random_state=RANDOM_STATE,\n",
        "                    # bootstrap=True\n",
        "                ),\n",
        "                # LogisticRegression(random_state=RANDOM_STATE)\n",
        "\n",
        "            ],\n",
        "            'learning_rate': [0.05]\n",
        "        }\n",
        "    ],\n",
        "    [\n",
        "\n",
        "    ]\n",
        ")"
      ],
      "metadata": {
        "id": "guJM_z-WeS9b"
      },
      "execution_count": null,
      "outputs": []
    },
    {
      "cell_type": "code",
      "source": [
        "ada_boost_results = fit_grid_search(\n",
        "    models_dict_={'AdaBoost': ada_boost},\n",
        "    X_=X_trainval,\n",
        "    Y_=Y_trainval,\n",
        "    cv_=5,\n",
        "    scoring_='accuracy',\n",
        "    verbose=2\n",
        ")"
      ],
      "metadata": {
        "colab": {
          "base_uri": "https://localhost:8080/",
          "height": 523
        },
        "id": "MtOpii-EenN0",
        "outputId": "cf0569d8-afbb-44ec-8ae3-9c8a952bfca5"
      },
      "execution_count": null,
      "outputs": [
        {
          "output_type": "stream",
          "name": "stdout",
          "text": [
            "Fitting AdaBoost\n",
            "Fitting 5 folds for each of 2 candidates, totalling 10 fits\n",
            "[CV] END base_estimator=DecisionTreeClassifier(max_depth=3, random_state=42), learning_rate=0.05, n_estimators=50, random_state=42; total time=   0.9s\n",
            "[CV] END base_estimator=DecisionTreeClassifier(max_depth=3, random_state=42), learning_rate=0.05, n_estimators=50, random_state=42; total time=   0.9s\n",
            "[CV] END base_estimator=DecisionTreeClassifier(max_depth=3, random_state=42), learning_rate=0.05, n_estimators=50, random_state=42; total time=   0.9s\n",
            "[CV] END base_estimator=DecisionTreeClassifier(max_depth=3, random_state=42), learning_rate=0.05, n_estimators=50, random_state=42; total time=   0.9s\n",
            "[CV] END base_estimator=DecisionTreeClassifier(max_depth=3, random_state=42), learning_rate=0.05, n_estimators=50, random_state=42; total time=   0.9s\n",
            "[CV] END base_estimator=DecisionTreeClassifier(max_depth=3, random_state=42), learning_rate=0.05, n_estimators=100, random_state=42; total time=   2.5s\n",
            "[CV] END base_estimator=DecisionTreeClassifier(max_depth=3, random_state=42), learning_rate=0.05, n_estimators=100, random_state=42; total time=   2.1s\n",
            "[CV] END base_estimator=DecisionTreeClassifier(max_depth=3, random_state=42), learning_rate=0.05, n_estimators=100, random_state=42; total time=   1.7s\n",
            "[CV] END base_estimator=DecisionTreeClassifier(max_depth=3, random_state=42), learning_rate=0.05, n_estimators=100, random_state=42; total time=   1.8s\n",
            "[CV] END base_estimator=DecisionTreeClassifier(max_depth=3, random_state=42), learning_rate=0.05, n_estimators=100, random_state=42; total time=   1.8s\n"
          ]
        },
        {
          "output_type": "display_data",
          "data": {
            "text/plain": [
              "<Figure size 432x288 with 1 Axes>"
            ],
            "image/png": "[encoded data removed]"
          },
          "metadata": {
            "needs_background": "light"
          }
        }
      ]
    },
    {
      "cell_type": "code",
      "source": [
        "ada_boost_results['AdaBoost'].best_score_, \\\n",
        "    ada_boost_results['AdaBoost'].best_params_"
      ],
      "metadata": {
        "colab": {
          "base_uri": "https://localhost:8080/"
        },
        "id": "gsMwbqTIfFEt",
        "outputId": "f2cf60f6-dac9-45c6-96b8-1f302b0f8527"
      },
      "execution_count": null,
      "outputs": [
        {
          "output_type": "execute_result",
          "data": {
            "text/plain": [
              "(0.791488138030194,\n",
              " {'base_estimator': DecisionTreeClassifier(max_depth=3, random_state=42),\n",
              "  'learning_rate': 0.05,\n",
              "  'n_estimators': 50,\n",
              "  'random_state': 42})"
            ]
          },
          "metadata": {},
          "execution_count": 48
        }
      ]
    },
    {
      "cell_type": "markdown",
      "source": [
        "## CatBoost"
      ],
      "metadata": {
        "id": "F4853AF4fvE9"
      }
    },
    {
      "cell_type": "code",
      "source": [
        "from catboost import CatBoostClassifier\n",
        "\n",
        "\n",
        "cat_boost_model = Model(\n",
        "    CatBoostClassifier(),\n",
        "    'CatBoost',\n",
        "    [\n",
        "        {\n",
        "            'n_estimators': [150],\n",
        "            'depth': [5],\n",
        "            'reg_lambda': [0.01],\n",
        "            'verbose': [0],\n",
        "            'random_state': [42]\n",
        "        }\n",
        "    ],\n",
        "    []\n",
        ")"
      ],
      "metadata": {
        "id": "Ytaa6DFPfwjN"
      },
      "execution_count": 26,
      "outputs": []
    },
    {
      "cell_type": "code",
      "source": [
        "cat_boost_results = fit_grid_search(\n",
        "    {'CatBoost': cat_boost_model},\n",
        "    X_=X_trainval,\n",
        "    Y_=Y_trainval,\n",
        "    cv_=5,\n",
        "    scoring_='accuracy',\n",
        "    verbose=2\n",
        ")"
      ],
      "metadata": {
        "colab": {
          "base_uri": "https://localhost:8080/",
          "height": 421
        },
        "id": "wxlPjdXRgZLC",
        "outputId": "43998018-cf8f-4929-893f-68ff59e2c9a1"
      },
      "execution_count": 27,
      "outputs": [
        {
          "output_type": "stream",
          "name": "stdout",
          "text": [
            "Fitting CatBoost\n",
            "Fitting 5 folds for each of 1 candidates, totalling 5 fits\n",
            "[CV] END depth=5, n_estimators=150, random_state=42, reg_lambda=0.01, verbose=0; total time=   0.6s\n",
            "[CV] END depth=5, n_estimators=150, random_state=42, reg_lambda=0.01, verbose=0; total time=   0.5s\n",
            "[CV] END depth=5, n_estimators=150, random_state=42, reg_lambda=0.01, verbose=0; total time=   0.5s\n",
            "[CV] END depth=5, n_estimators=150, random_state=42, reg_lambda=0.01, verbose=0; total time=   0.6s\n",
            "[CV] END depth=5, n_estimators=150, random_state=42, reg_lambda=0.01, verbose=0; total time=   0.5s\n"
          ]
        },
        {
          "output_type": "display_data",
          "data": {
            "text/plain": [
              "<Figure size 432x288 with 1 Axes>"
            ],
            "image/png": "[encoded data removed]"
          },
          "metadata": {
            "needs_background": "light"
          }
        }
      ]
    },
    {
      "cell_type": "code",
      "source": [
        "cat_boost_results['CatBoost'].best_score_, \\\n",
        "    cat_boost_results['CatBoost'].best_params_"
      ],
      "metadata": {
        "colab": {
          "base_uri": "https://localhost:8080/"
        },
        "id": "FPJrkD4LgyhR",
        "outputId": "dba803c1-cceb-420a-9818-0a4de249a0a8"
      },
      "execution_count": 28,
      "outputs": [
        {
          "output_type": "execute_result",
          "data": {
            "text/plain": [
              "(0.7978150391261398,\n",
              " {'depth': 5,\n",
              "  'n_estimators': 150,\n",
              "  'random_state': 42,\n",
              "  'reg_lambda': 0.01,\n",
              "  'verbose': 0})"
            ]
          },
          "metadata": {},
          "execution_count": 28
        }
      ]
    },
    {
      "cell_type": "markdown",
      "source": [
        "## LogReg"
      ],
      "metadata": {
        "id": "GiFIDbXixwCC"
      }
    },
    {
      "cell_type": "code",
      "source": [
        "from sklearn_utils import fit_grid_search\n",
        "\n",
        "\n",
        "log_reg_results = plot_cv_results(\n",
        "    {\n",
        "        'LogReg': LogisticRegression()\n",
        "    },\n",
        "    # dict_subset(\n",
        "    #     shortlisted_models,\n",
        "    #     ['LogReg']\n",
        "    # ),\n",
        "    X_=X_trainval,\n",
        "    Y_=Y_trainval,\n",
        "    cv_=5,\n",
        "    scoring_='accuracy',\n",
        "    # verbose=1\n",
        ")"
      ],
      "metadata": {
        "id": "IYkSMdzzxyUo",
        "outputId": "ae8df6ff-fea2-4fb3-88fc-18dc23206c7a",
        "colab": {
          "base_uri": "https://localhost:8080/",
          "height": 1000
        }
      },
      "execution_count": 39,
      "outputs": [
        {
          "output_type": "stream",
          "name": "stderr",
          "text": [
            "/usr/local/lib/python3.7/dist-packages/sklearn/linear_model/_logistic.py:818: ConvergenceWarning: lbfgs failed to converge (status=1):\n",
            "STOP: TOTAL NO. of ITERATIONS REACHED LIMIT.\n",
            "\n",
            "Increase the number of iterations (max_iter) or scale the data as shown in:\n",
            "    https://scikit-learn.org/stable/modules/preprocessing.html\n",
            "Please also refer to the documentation for alternative solver options:\n",
            "    https://scikit-learn.org/stable/modules/linear_model.html#logistic-regression\n",
            "  extra_warning_msg=_LOGISTIC_SOLVER_CONVERGENCE_MSG,\n",
            "/usr/local/lib/python3.7/dist-packages/sklearn/linear_model/_logistic.py:818: ConvergenceWarning: lbfgs failed to converge (status=1):\n",
            "STOP: TOTAL NO. of ITERATIONS REACHED LIMIT.\n",
            "\n",
            "Increase the number of iterations (max_iter) or scale the data as shown in:\n",
            "    https://scikit-learn.org/stable/modules/preprocessing.html\n",
            "Please also refer to the documentation for alternative solver options:\n",
            "    https://scikit-learn.org/stable/modules/linear_model.html#logistic-regression\n",
            "  extra_warning_msg=_LOGISTIC_SOLVER_CONVERGENCE_MSG,\n",
            "/usr/local/lib/python3.7/dist-packages/sklearn/linear_model/_logistic.py:818: ConvergenceWarning: lbfgs failed to converge (status=1):\n",
            "STOP: TOTAL NO. of ITERATIONS REACHED LIMIT.\n",
            "\n",
            "Increase the number of iterations (max_iter) or scale the data as shown in:\n",
            "    https://scikit-learn.org/stable/modules/preprocessing.html\n",
            "Please also refer to the documentation for alternative solver options:\n",
            "    https://scikit-learn.org/stable/modules/linear_model.html#logistic-regression\n",
            "  extra_warning_msg=_LOGISTIC_SOLVER_CONVERGENCE_MSG,\n",
            "/usr/local/lib/python3.7/dist-packages/sklearn/linear_model/_logistic.py:818: ConvergenceWarning: lbfgs failed to converge (status=1):\n",
            "STOP: TOTAL NO. of ITERATIONS REACHED LIMIT.\n",
            "\n",
            "Increase the number of iterations (max_iter) or scale the data as shown in:\n",
            "    https://scikit-learn.org/stable/modules/preprocessing.html\n",
            "Please also refer to the documentation for alternative solver options:\n",
            "    https://scikit-learn.org/stable/modules/linear_model.html#logistic-regression\n",
            "  extra_warning_msg=_LOGISTIC_SOLVER_CONVERGENCE_MSG,\n",
            "/usr/local/lib/python3.7/dist-packages/sklearn/linear_model/_logistic.py:818: ConvergenceWarning: lbfgs failed to converge (status=1):\n",
            "STOP: TOTAL NO. of ITERATIONS REACHED LIMIT.\n",
            "\n",
            "Increase the number of iterations (max_iter) or scale the data as shown in:\n",
            "    https://scikit-learn.org/stable/modules/preprocessing.html\n",
            "Please also refer to the documentation for alternative solver options:\n",
            "    https://scikit-learn.org/stable/modules/linear_model.html#logistic-regression\n",
            "  extra_warning_msg=_LOGISTIC_SOLVER_CONVERGENCE_MSG,\n"
          ]
        },
        {
          "output_type": "stream",
          "name": "stdout",
          "text": [
            "Model      Seen folds avg score    Seen folds std    Unseen folds avg score    Unseen folds std\n",
            "-------  ----------------------  ----------------  ------------------------  ------------------\n",
            "LogReg                  0.79199        0.00123496                  0.788612           0.0076354\n"
          ]
        },
        {
          "output_type": "display_data",
          "data": {
            "text/plain": [
              "<Figure size 432x288 with 1 Axes>"
            ],
            "image/png": "[encoded data removed]"
          },
          "metadata": {
            "needs_background": "light"
          }
        }
      ]
    },
    {
      "cell_type": "code",
      "source": [
        "log_reg_results['LogReg'].best_score_, \\\n",
        "    log_reg_results['LogReg'].best_params_"
      ],
      "metadata": {
        "id": "rdzTPo6t18CK",
        "outputId": "4bdf7617-8a27-4de0-fdfa-bcdc86d91e4e",
        "colab": {
          "base_uri": "https://localhost:8080/"
        }
      },
      "execution_count": 35,
      "outputs": [
        {
          "output_type": "execute_result",
          "data": {
            "text/plain": [
              "(0.6416288680055237,\n",
              " {'C': 0.01,\n",
              "  'l1_ratio': 0.01,\n",
              "  'penalty': 'elasticnet',\n",
              "  'random_state': 42,\n",
              "  'solver': 'saga'})"
            ]
          },
          "metadata": {},
          "execution_count": 35
        }
      ]
    },
    {
      "cell_type": "markdown",
      "source": [
        "## Light GBM"
      ],
      "metadata": {
        "id": "8YVwnf0kuVvk"
      }
    },
    {
      "cell_type": "code",
      "source": [
        "from sklearn_utils import fit_grid_search\n",
        "\n",
        "\n",
        "light_gbm_results = fit_grid_search(\n",
        "    dict_subset(\n",
        "        all_models,\n",
        "        ['LGBM']\n",
        "    ),\n",
        "    X_=X_trainval,\n",
        "    Y_=Y_trainval,\n",
        "    cv_=5,\n",
        "    scoring_='accuracy',\n",
        "    verbose=3\n",
        ")"
      ],
      "metadata": {
        "id": "TiiKRrJmuaz6",
        "outputId": "a01a02f7-4016-4a5c-8298-e4620f11e2b7",
        "colab": {
          "base_uri": "https://localhost:8080/",
          "height": 1000
        }
      },
      "execution_count": 29,
      "outputs": [
        {
          "output_type": "stream",
          "name": "stdout",
          "text": [
            "Fitting LGBM\n",
            "Fitting 5 folds for each of 12 candidates, totalling 60 fits\n",
            "[CV 1/5] END boosting=dart, lambda_l1=0.07, lambda_l2=0.07, learning_rate=0.1, max_depth=3, n_estimators=100, objective=binary, random_state=42;, score=(train=0.803, test=0.776) total time=   0.2s\n",
            "[CV 2/5] END boosting=dart, lambda_l1=0.07, lambda_l2=0.07, learning_rate=0.1, max_depth=3, n_estimators=100, objective=binary, random_state=42;, score=(train=0.801, test=0.793) total time=   0.2s\n",
            "[CV 3/5] END boosting=dart, lambda_l1=0.07, lambda_l2=0.07, learning_rate=0.1, max_depth=3, n_estimators=100, objective=binary, random_state=42;, score=(train=0.807, test=0.783) total time=   0.2s\n",
            "[CV 4/5] END boosting=dart, lambda_l1=0.07, lambda_l2=0.07, learning_rate=0.1, max_depth=3, n_estimators=100, objective=binary, random_state=42;, score=(train=0.797, test=0.801) total time=   0.2s\n",
            "[CV 5/5] END boosting=dart, lambda_l1=0.07, lambda_l2=0.07, learning_rate=0.1, max_depth=3, n_estimators=100, objective=binary, random_state=42;, score=(train=0.798, test=0.804) total time=   0.2s\n",
            "[CV 1/5] END boosting=dart, lambda_l1=0.07, lambda_l2=0.07, learning_rate=0.1, max_depth=3, n_estimators=150, objective=binary, random_state=42;, score=(train=0.806, test=0.779) total time=   0.3s\n",
            "[CV 2/5] END boosting=dart, lambda_l1=0.07, lambda_l2=0.07, learning_rate=0.1, max_depth=3, n_estimators=150, objective=binary, random_state=42;, score=(train=0.804, test=0.796) total time=   0.3s\n",
            "[CV 3/5] END boosting=dart, lambda_l1=0.07, lambda_l2=0.07, learning_rate=0.1, max_depth=3, n_estimators=150, objective=binary, random_state=42;, score=(train=0.809, test=0.787) total time=   0.3s\n",
            "[CV 4/5] END boosting=dart, lambda_l1=0.07, lambda_l2=0.07, learning_rate=0.1, max_depth=3, n_estimators=150, objective=binary, random_state=42;, score=(train=0.804, test=0.807) total time=   0.3s\n",
            "[CV 5/5] END boosting=dart, lambda_l1=0.07, lambda_l2=0.07, learning_rate=0.1, max_depth=3, n_estimators=150, objective=binary, random_state=42;, score=(train=0.802, test=0.800) total time=   0.3s\n",
            "[CV 1/5] END boosting=dart, lambda_l1=0.07, lambda_l2=0.07, learning_rate=0.1, max_depth=3, n_estimators=300, objective=binary, random_state=42;, score=(train=0.816, test=0.781) total time=   0.9s\n",
            "[CV 2/5] END boosting=dart, lambda_l1=0.07, lambda_l2=0.07, learning_rate=0.1, max_depth=3, n_estimators=300, objective=binary, random_state=42;, score=(train=0.812, test=0.804) total time=   0.9s\n",
            "[CV 3/5] END boosting=dart, lambda_l1=0.07, lambda_l2=0.07, learning_rate=0.1, max_depth=3, n_estimators=300, objective=binary, random_state=42;, score=(train=0.816, test=0.788) total time=   0.9s\n",
            "[CV 4/5] END boosting=dart, lambda_l1=0.07, lambda_l2=0.07, learning_rate=0.1, max_depth=3, n_estimators=300, objective=binary, random_state=42;, score=(train=0.812, test=0.807) total time=   0.9s\n",
            "[CV 5/5] END boosting=dart, lambda_l1=0.07, lambda_l2=0.07, learning_rate=0.1, max_depth=3, n_estimators=300, objective=binary, random_state=42;, score=(train=0.810, test=0.798) total time=   0.9s\n",
            "[CV 1/5] END boosting=dart, lambda_l1=0.07, lambda_l2=0.07, learning_rate=0.1, max_depth=4, n_estimators=100, objective=binary, random_state=42;, score=(train=0.820, test=0.784) total time=   0.2s\n",
            "[CV 2/5] END boosting=dart, lambda_l1=0.07, lambda_l2=0.07, learning_rate=0.1, max_depth=4, n_estimators=100, objective=binary, random_state=42;, score=(train=0.818, test=0.797) total time=   0.2s\n",
            "[CV 3/5] END boosting=dart, lambda_l1=0.07, lambda_l2=0.07, learning_rate=0.1, max_depth=4, n_estimators=100, objective=binary, random_state=42;, score=(train=0.816, test=0.782) total time=   0.3s\n",
            "[CV 4/5] END boosting=dart, lambda_l1=0.07, lambda_l2=0.07, learning_rate=0.1, max_depth=4, n_estimators=100, objective=binary, random_state=42;, score=(train=0.816, test=0.804) total time=   0.3s\n",
            "[CV 5/5] END boosting=dart, lambda_l1=0.07, lambda_l2=0.07, learning_rate=0.1, max_depth=4, n_estimators=100, objective=binary, random_state=42;, score=(train=0.809, test=0.809) total time=   0.2s\n",
            "[CV 1/5] END boosting=dart, lambda_l1=0.07, lambda_l2=0.07, learning_rate=0.1, max_depth=4, n_estimators=150, objective=binary, random_state=42;, score=(train=0.823, test=0.793) total time=   0.5s\n",
            "[CV 2/5] END boosting=dart, lambda_l1=0.07, lambda_l2=0.07, learning_rate=0.1, max_depth=4, n_estimators=150, objective=binary, random_state=42;, score=(train=0.822, test=0.799) total time=   2.5s\n",
            "[CV 3/5] END boosting=dart, lambda_l1=0.07, lambda_l2=0.07, learning_rate=0.1, max_depth=4, n_estimators=150, objective=binary, random_state=42;, score=(train=0.822, test=0.792) total time=   0.4s\n",
            "[CV 4/5] END boosting=dart, lambda_l1=0.07, lambda_l2=0.07, learning_rate=0.1, max_depth=4, n_estimators=150, objective=binary, random_state=42;, score=(train=0.821, test=0.805) total time=   0.4s\n",
            "[CV 5/5] END boosting=dart, lambda_l1=0.07, lambda_l2=0.07, learning_rate=0.1, max_depth=4, n_estimators=150, objective=binary, random_state=42;, score=(train=0.819, test=0.806) total time=   0.4s\n",
            "[CV 1/5] END boosting=dart, lambda_l1=0.07, lambda_l2=0.07, learning_rate=0.1, max_depth=4, n_estimators=300, objective=binary, random_state=42;, score=(train=0.842, test=0.784) total time=   1.2s\n",
            "[CV 2/5] END boosting=dart, lambda_l1=0.07, lambda_l2=0.07, learning_rate=0.1, max_depth=4, n_estimators=300, objective=binary, random_state=42;, score=(train=0.841, test=0.806) total time=   1.2s\n",
            "[CV 3/5] END boosting=dart, lambda_l1=0.07, lambda_l2=0.07, learning_rate=0.1, max_depth=4, n_estimators=300, objective=binary, random_state=42;, score=(train=0.840, test=0.794) total time=   1.2s\n",
            "[CV 4/5] END boosting=dart, lambda_l1=0.07, lambda_l2=0.07, learning_rate=0.1, max_depth=4, n_estimators=300, objective=binary, random_state=42;, score=(train=0.834, test=0.812) total time=   1.2s\n",
            "[CV 5/5] END boosting=dart, lambda_l1=0.07, lambda_l2=0.07, learning_rate=0.1, max_depth=4, n_estimators=300, objective=binary, random_state=42;, score=(train=0.836, test=0.803) total time=   1.2s\n",
            "[CV 1/5] END boosting=dart, lambda_l1=0.07, lambda_l2=0.07, learning_rate=0.15, max_depth=3, n_estimators=100, objective=binary, random_state=42;, score=(train=0.810, test=0.780) total time=   0.2s\n",
            "[CV 2/5] END boosting=dart, lambda_l1=0.07, lambda_l2=0.07, learning_rate=0.15, max_depth=3, n_estimators=100, objective=binary, random_state=42;, score=(train=0.808, test=0.801) total time=   0.2s\n",
            "[CV 3/5] END boosting=dart, lambda_l1=0.07, lambda_l2=0.07, learning_rate=0.15, max_depth=3, n_estimators=100, objective=binary, random_state=42;, score=(train=0.810, test=0.784) total time=   0.2s\n",
            "[CV 4/5] END boosting=dart, lambda_l1=0.07, lambda_l2=0.07, learning_rate=0.15, max_depth=3, n_estimators=100, objective=binary, random_state=42;, score=(train=0.806, test=0.809) total time=   0.2s\n",
            "[CV 5/5] END boosting=dart, lambda_l1=0.07, lambda_l2=0.07, learning_rate=0.15, max_depth=3, n_estimators=100, objective=binary, random_state=42;, score=(train=0.806, test=0.796) total time=   0.2s\n",
            "[CV 1/5] END boosting=dart, lambda_l1=0.07, lambda_l2=0.07, learning_rate=0.15, max_depth=3, n_estimators=150, objective=binary, random_state=42;, score=(train=0.813, test=0.781) total time=   0.3s\n",
            "[CV 2/5] END boosting=dart, lambda_l1=0.07, lambda_l2=0.07, learning_rate=0.15, max_depth=3, n_estimators=150, objective=binary, random_state=42;, score=(train=0.806, test=0.806) total time=   0.3s\n",
            "[CV 3/5] END boosting=dart, lambda_l1=0.07, lambda_l2=0.07, learning_rate=0.15, max_depth=3, n_estimators=150, objective=binary, random_state=42;, score=(train=0.811, test=0.788) total time=   0.3s\n",
            "[CV 4/5] END boosting=dart, lambda_l1=0.07, lambda_l2=0.07, learning_rate=0.15, max_depth=3, n_estimators=150, objective=binary, random_state=42;, score=(train=0.807, test=0.807) total time=   0.3s\n",
            "[CV 5/5] END boosting=dart, lambda_l1=0.07, lambda_l2=0.07, learning_rate=0.15, max_depth=3, n_estimators=150, objective=binary, random_state=42;, score=(train=0.808, test=0.800) total time=   0.3s\n",
            "[CV 1/5] END boosting=dart, lambda_l1=0.07, lambda_l2=0.07, learning_rate=0.15, max_depth=3, n_estimators=300, objective=binary, random_state=42;, score=(train=0.827, test=0.783) total time=   0.9s\n",
            "[CV 2/5] END boosting=dart, lambda_l1=0.07, lambda_l2=0.07, learning_rate=0.15, max_depth=3, n_estimators=300, objective=binary, random_state=42;, score=(train=0.822, test=0.807) total time=   0.9s\n",
            "[CV 3/5] END boosting=dart, lambda_l1=0.07, lambda_l2=0.07, learning_rate=0.15, max_depth=3, n_estimators=300, objective=binary, random_state=42;, score=(train=0.823, test=0.789) total time=   0.8s\n",
            "[CV 4/5] END boosting=dart, lambda_l1=0.07, lambda_l2=0.07, learning_rate=0.15, max_depth=3, n_estimators=300, objective=binary, random_state=42;, score=(train=0.820, test=0.809) total time=   0.9s\n",
            "[CV 5/5] END boosting=dart, lambda_l1=0.07, lambda_l2=0.07, learning_rate=0.15, max_depth=3, n_estimators=300, objective=binary, random_state=42;, score=(train=0.823, test=0.784) total time=   0.9s\n",
            "[CV 1/5] END boosting=dart, lambda_l1=0.07, lambda_l2=0.07, learning_rate=0.15, max_depth=4, n_estimators=100, objective=binary, random_state=42;, score=(train=0.828, test=0.781) total time=   0.2s\n",
            "[CV 2/5] END boosting=dart, lambda_l1=0.07, lambda_l2=0.07, learning_rate=0.15, max_depth=4, n_estimators=100, objective=binary, random_state=42;, score=(train=0.832, test=0.798) total time=   0.2s\n",
            "[CV 3/5] END boosting=dart, lambda_l1=0.07, lambda_l2=0.07, learning_rate=0.15, max_depth=4, n_estimators=100, objective=binary, random_state=42;, score=(train=0.827, test=0.792) total time=   0.2s\n",
            "[CV 4/5] END boosting=dart, lambda_l1=0.07, lambda_l2=0.07, learning_rate=0.15, max_depth=4, n_estimators=100, objective=binary, random_state=42;, score=(train=0.825, test=0.811) total time=   0.2s\n",
            "[CV 5/5] END boosting=dart, lambda_l1=0.07, lambda_l2=0.07, learning_rate=0.15, max_depth=4, n_estimators=100, objective=binary, random_state=42;, score=(train=0.827, test=0.801) total time=   0.3s\n",
            "[CV 1/5] END boosting=dart, lambda_l1=0.07, lambda_l2=0.07, learning_rate=0.15, max_depth=4, n_estimators=150, objective=binary, random_state=42;, score=(train=0.839, test=0.782) total time=   0.4s\n",
            "[CV 2/5] END boosting=dart, lambda_l1=0.07, lambda_l2=0.07, learning_rate=0.15, max_depth=4, n_estimators=150, objective=binary, random_state=42;, score=(train=0.838, test=0.801) total time=   0.4s\n",
            "[CV 3/5] END boosting=dart, lambda_l1=0.07, lambda_l2=0.07, learning_rate=0.15, max_depth=4, n_estimators=150, objective=binary, random_state=42;, score=(train=0.834, test=0.795) total time=   0.4s\n",
            "[CV 4/5] END boosting=dart, lambda_l1=0.07, lambda_l2=0.07, learning_rate=0.15, max_depth=4, n_estimators=150, objective=binary, random_state=42;, score=(train=0.831, test=0.815) total time=   0.4s\n",
            "[CV 5/5] END boosting=dart, lambda_l1=0.07, lambda_l2=0.07, learning_rate=0.15, max_depth=4, n_estimators=150, objective=binary, random_state=42;, score=(train=0.831, test=0.799) total time=   0.4s\n",
            "[CV 1/5] END boosting=dart, lambda_l1=0.07, lambda_l2=0.07, learning_rate=0.15, max_depth=4, n_estimators=300, objective=binary, random_state=42;, score=(train=0.860, test=0.779) total time=   1.2s\n",
            "[CV 2/5] END boosting=dart, lambda_l1=0.07, lambda_l2=0.07, learning_rate=0.15, max_depth=4, n_estimators=300, objective=binary, random_state=42;, score=(train=0.859, test=0.798) total time=   1.2s\n",
            "[CV 3/5] END boosting=dart, lambda_l1=0.07, lambda_l2=0.07, learning_rate=0.15, max_depth=4, n_estimators=300, objective=binary, random_state=42;, score=(train=0.852, test=0.794) total time=   1.2s\n",
            "[CV 4/5] END boosting=dart, lambda_l1=0.07, lambda_l2=0.07, learning_rate=0.15, max_depth=4, n_estimators=300, objective=binary, random_state=42;, score=(train=0.846, test=0.807) total time=   1.2s\n",
            "[CV 5/5] END boosting=dart, lambda_l1=0.07, lambda_l2=0.07, learning_rate=0.15, max_depth=4, n_estimators=300, objective=binary, random_state=42;, score=(train=0.847, test=0.794) total time=   1.2s\n"
          ]
        },
        {
          "output_type": "display_data",
          "data": {
            "text/plain": [
              "<Figure size 432x288 with 1 Axes>"
            ],
            "image/png": "[encoded data removed]"
          },
          "metadata": {
            "needs_background": "light"
          }
        }
      ]
    },
    {
      "cell_type": "code",
      "source": [
        "light_gbm_results['LGBM'].best_score_, \\\n",
        "    light_gbm_results['LGBM'].best_params_"
      ],
      "metadata": {
        "id": "4KLi9utuusZK",
        "outputId": "9f972926-0d6f-4e9f-e7bc-80661f9a93bb",
        "colab": {
          "base_uri": "https://localhost:8080/"
        }
      },
      "execution_count": 31,
      "outputs": [
        {
          "output_type": "execute_result",
          "data": {
            "text/plain": [
              "(0.7995403131125582,\n",
              " {'boosting': 'dart',\n",
              "  'lambda_l1': 0.07,\n",
              "  'lambda_l2': 0.07,\n",
              "  'learning_rate': 0.1,\n",
              "  'max_depth': 4,\n",
              "  'n_estimators': 300,\n",
              "  'objective': 'binary',\n",
              "  'random_state': 42})"
            ]
          },
          "metadata": {},
          "execution_count": 31
        }
      ]
    },
    {
      "cell_type": "markdown",
      "source": [
        "## Stacking model"
      ],
      "metadata": {
        "id": "8LAXOMNNCbqP"
      }
    },
    {
      "cell_type": "code",
      "source": [
        "CatBoostClassifier(**cat_boost_results['CatBoost'].best_params_)"
      ],
      "metadata": {
        "id": "Qise5i6GEFtI",
        "outputId": "1c21d170-a55a-4ebd-99eb-2ccda46e1bd1",
        "colab": {
          "base_uri": "https://localhost:8080/"
        }
      },
      "execution_count": null,
      "outputs": [
        {
          "output_type": "execute_result",
          "data": {
            "text/plain": [
              "<catboost.core.CatBoostClassifier at 0x7f07325979d0>"
            ]
          },
          "metadata": {},
          "execution_count": 64
        }
      ]
    },
    {
      "cell_type": "code",
      "source": [
        "from sklearn.ensemble import StackingClassifier\n",
        "\n",
        "\n",
        "stacking_model = Model(\n",
        "    StackingClassifier(\n",
        "        estimators = [\n",
        "            ('catboost', CatBoostClassifier(**cat_boost_results['CatBoost'].best_params_)),\n",
        "            ('lgbm', LGBMClassifier(**light_gbm_results['LGBM'].best_params_)),\n",
        "            # ('adaboost', AdaBoostClassifier(**ada_boost_results['AdaBoost'].best_params_))\n",
        "            ('logreg', LogisticRegression())  # (**log_reg_results['LogReg'].best_params_))\n",
        "        ]\n",
        "    ),\n",
        "    'Stacking',\n",
        "    [\n",
        "        {\n",
        "            'cv': [5]\n",
        "        }\n",
        "    ],\n",
        "    []\n",
        ")"
      ],
      "metadata": {
        "id": "_oXoG9QgCdtb"
      },
      "execution_count": 40,
      "outputs": []
    },
    {
      "cell_type": "code",
      "source": [
        "stacking_results = fit_grid_search(\n",
        "    {\n",
        "        'Stacking': stacking_model\n",
        "    },\n",
        "    X_=X_trainval,\n",
        "    Y_=Y_trainval,\n",
        "    cv_=5,\n",
        "    scoring_='accuracy'\n",
        ")"
      ],
      "metadata": {
        "id": "9q7lBJVMDc-m",
        "outputId": "6056ff56-c4b1-4c90-b118-05b3437a5c61",
        "colab": {
          "base_uri": "https://localhost:8080/",
          "height": 1000
        }
      },
      "execution_count": 41,
      "outputs": [
        {
          "output_type": "stream",
          "name": "stdout",
          "text": [
            "Fitting Stacking\n"
          ]
        },
        {
          "output_type": "stream",
          "name": "stderr",
          "text": [
            "/usr/local/lib/python3.7/dist-packages/sklearn/linear_model/_logistic.py:818: ConvergenceWarning: lbfgs failed to converge (status=1):\n",
            "STOP: TOTAL NO. of ITERATIONS REACHED LIMIT.\n",
            "\n",
            "Increase the number of iterations (max_iter) or scale the data as shown in:\n",
            "    https://scikit-learn.org/stable/modules/preprocessing.html\n",
            "Please also refer to the documentation for alternative solver options:\n",
            "    https://scikit-learn.org/stable/modules/linear_model.html#logistic-regression\n",
            "  extra_warning_msg=_LOGISTIC_SOLVER_CONVERGENCE_MSG,\n",
            "/usr/local/lib/python3.7/dist-packages/sklearn/linear_model/_logistic.py:818: ConvergenceWarning: lbfgs failed to converge (status=1):\n",
            "STOP: TOTAL NO. of ITERATIONS REACHED LIMIT.\n",
            "\n",
            "Increase the number of iterations (max_iter) or scale the data as shown in:\n",
            "    https://scikit-learn.org/stable/modules/preprocessing.html\n",
            "Please also refer to the documentation for alternative solver options:\n",
            "    https://scikit-learn.org/stable/modules/linear_model.html#logistic-regression\n",
            "  extra_warning_msg=_LOGISTIC_SOLVER_CONVERGENCE_MSG,\n",
            "/usr/local/lib/python3.7/dist-packages/sklearn/linear_model/_logistic.py:818: ConvergenceWarning: lbfgs failed to converge (status=1):\n",
            "STOP: TOTAL NO. of ITERATIONS REACHED LIMIT.\n",
            "\n",
            "Increase the number of iterations (max_iter) or scale the data as shown in:\n",
            "    https://scikit-learn.org/stable/modules/preprocessing.html\n",
            "Please also refer to the documentation for alternative solver options:\n",
            "    https://scikit-learn.org/stable/modules/linear_model.html#logistic-regression\n",
            "  extra_warning_msg=_LOGISTIC_SOLVER_CONVERGENCE_MSG,\n",
            "/usr/local/lib/python3.7/dist-packages/sklearn/linear_model/_logistic.py:818: ConvergenceWarning: lbfgs failed to converge (status=1):\n",
            "STOP: TOTAL NO. of ITERATIONS REACHED LIMIT.\n",
            "\n",
            "Increase the number of iterations (max_iter) or scale the data as shown in:\n",
            "    https://scikit-learn.org/stable/modules/preprocessing.html\n",
            "Please also refer to the documentation for alternative solver options:\n",
            "    https://scikit-learn.org/stable/modules/linear_model.html#logistic-regression\n",
            "  extra_warning_msg=_LOGISTIC_SOLVER_CONVERGENCE_MSG,\n",
            "/usr/local/lib/python3.7/dist-packages/sklearn/linear_model/_logistic.py:818: ConvergenceWarning: lbfgs failed to converge (status=1):\n",
            "STOP: TOTAL NO. of ITERATIONS REACHED LIMIT.\n",
            "\n",
            "Increase the number of iterations (max_iter) or scale the data as shown in:\n",
            "    https://scikit-learn.org/stable/modules/preprocessing.html\n",
            "Please also refer to the documentation for alternative solver options:\n",
            "    https://scikit-learn.org/stable/modules/linear_model.html#logistic-regression\n",
            "  extra_warning_msg=_LOGISTIC_SOLVER_CONVERGENCE_MSG,\n",
            "/usr/local/lib/python3.7/dist-packages/sklearn/linear_model/_logistic.py:818: ConvergenceWarning: lbfgs failed to converge (status=1):\n",
            "STOP: TOTAL NO. of ITERATIONS REACHED LIMIT.\n",
            "\n",
            "Increase the number of iterations (max_iter) or scale the data as shown in:\n",
            "    https://scikit-learn.org/stable/modules/preprocessing.html\n",
            "Please also refer to the documentation for alternative solver options:\n",
            "    https://scikit-learn.org/stable/modules/linear_model.html#logistic-regression\n",
            "  extra_warning_msg=_LOGISTIC_SOLVER_CONVERGENCE_MSG,\n",
            "/usr/local/lib/python3.7/dist-packages/sklearn/linear_model/_logistic.py:818: ConvergenceWarning: lbfgs failed to converge (status=1):\n",
            "STOP: TOTAL NO. of ITERATIONS REACHED LIMIT.\n",
            "\n",
            "Increase the number of iterations (max_iter) or scale the data as shown in:\n",
            "    https://scikit-learn.org/stable/modules/preprocessing.html\n",
            "Please also refer to the documentation for alternative solver options:\n",
            "    https://scikit-learn.org/stable/modules/linear_model.html#logistic-regression\n",
            "  extra_warning_msg=_LOGISTIC_SOLVER_CONVERGENCE_MSG,\n",
            "/usr/local/lib/python3.7/dist-packages/sklearn/linear_model/_logistic.py:818: ConvergenceWarning: lbfgs failed to converge (status=1):\n",
            "STOP: TOTAL NO. of ITERATIONS REACHED LIMIT.\n",
            "\n",
            "Increase the number of iterations (max_iter) or scale the data as shown in:\n",
            "    https://scikit-learn.org/stable/modules/preprocessing.html\n",
            "Please also refer to the documentation for alternative solver options:\n",
            "    https://scikit-learn.org/stable/modules/linear_model.html#logistic-regression\n",
            "  extra_warning_msg=_LOGISTIC_SOLVER_CONVERGENCE_MSG,\n",
            "/usr/local/lib/python3.7/dist-packages/sklearn/linear_model/_logistic.py:818: ConvergenceWarning: lbfgs failed to converge (status=1):\n",
            "STOP: TOTAL NO. of ITERATIONS REACHED LIMIT.\n",
            "\n",
            "Increase the number of iterations (max_iter) or scale the data as shown in:\n",
            "    https://scikit-learn.org/stable/modules/preprocessing.html\n",
            "Please also refer to the documentation for alternative solver options:\n",
            "    https://scikit-learn.org/stable/modules/linear_model.html#logistic-regression\n",
            "  extra_warning_msg=_LOGISTIC_SOLVER_CONVERGENCE_MSG,\n",
            "/usr/local/lib/python3.7/dist-packages/sklearn/linear_model/_logistic.py:818: ConvergenceWarning: lbfgs failed to converge (status=1):\n",
            "STOP: TOTAL NO. of ITERATIONS REACHED LIMIT.\n",
            "\n",
            "Increase the number of iterations (max_iter) or scale the data as shown in:\n",
            "    https://scikit-learn.org/stable/modules/preprocessing.html\n",
            "Please also refer to the documentation for alternative solver options:\n",
            "    https://scikit-learn.org/stable/modules/linear_model.html#logistic-regression\n",
            "  extra_warning_msg=_LOGISTIC_SOLVER_CONVERGENCE_MSG,\n",
            "/usr/local/lib/python3.7/dist-packages/sklearn/linear_model/_logistic.py:818: ConvergenceWarning: lbfgs failed to converge (status=1):\n",
            "STOP: TOTAL NO. of ITERATIONS REACHED LIMIT.\n",
            "\n",
            "Increase the number of iterations (max_iter) or scale the data as shown in:\n",
            "    https://scikit-learn.org/stable/modules/preprocessing.html\n",
            "Please also refer to the documentation for alternative solver options:\n",
            "    https://scikit-learn.org/stable/modules/linear_model.html#logistic-regression\n",
            "  extra_warning_msg=_LOGISTIC_SOLVER_CONVERGENCE_MSG,\n",
            "/usr/local/lib/python3.7/dist-packages/sklearn/linear_model/_logistic.py:818: ConvergenceWarning: lbfgs failed to converge (status=1):\n",
            "STOP: TOTAL NO. of ITERATIONS REACHED LIMIT.\n",
            "\n",
            "Increase the number of iterations (max_iter) or scale the data as shown in:\n",
            "    https://scikit-learn.org/stable/modules/preprocessing.html\n",
            "Please also refer to the documentation for alternative solver options:\n",
            "    https://scikit-learn.org/stable/modules/linear_model.html#logistic-regression\n",
            "  extra_warning_msg=_LOGISTIC_SOLVER_CONVERGENCE_MSG,\n",
            "/usr/local/lib/python3.7/dist-packages/sklearn/linear_model/_logistic.py:818: ConvergenceWarning: lbfgs failed to converge (status=1):\n",
            "STOP: TOTAL NO. of ITERATIONS REACHED LIMIT.\n",
            "\n",
            "Increase the number of iterations (max_iter) or scale the data as shown in:\n",
            "    https://scikit-learn.org/stable/modules/preprocessing.html\n",
            "Please also refer to the documentation for alternative solver options:\n",
            "    https://scikit-learn.org/stable/modules/linear_model.html#logistic-regression\n",
            "  extra_warning_msg=_LOGISTIC_SOLVER_CONVERGENCE_MSG,\n",
            "/usr/local/lib/python3.7/dist-packages/sklearn/linear_model/_logistic.py:818: ConvergenceWarning: lbfgs failed to converge (status=1):\n",
            "STOP: TOTAL NO. of ITERATIONS REACHED LIMIT.\n",
            "\n",
            "Increase the number of iterations (max_iter) or scale the data as shown in:\n",
            "    https://scikit-learn.org/stable/modules/preprocessing.html\n",
            "Please also refer to the documentation for alternative solver options:\n",
            "    https://scikit-learn.org/stable/modules/linear_model.html#logistic-regression\n",
            "  extra_warning_msg=_LOGISTIC_SOLVER_CONVERGENCE_MSG,\n",
            "/usr/local/lib/python3.7/dist-packages/sklearn/linear_model/_logistic.py:818: ConvergenceWarning: lbfgs failed to converge (status=1):\n",
            "STOP: TOTAL NO. of ITERATIONS REACHED LIMIT.\n",
            "\n",
            "Increase the number of iterations (max_iter) or scale the data as shown in:\n",
            "    https://scikit-learn.org/stable/modules/preprocessing.html\n",
            "Please also refer to the documentation for alternative solver options:\n",
            "    https://scikit-learn.org/stable/modules/linear_model.html#logistic-regression\n",
            "  extra_warning_msg=_LOGISTIC_SOLVER_CONVERGENCE_MSG,\n",
            "/usr/local/lib/python3.7/dist-packages/sklearn/linear_model/_logistic.py:818: ConvergenceWarning: lbfgs failed to converge (status=1):\n",
            "STOP: TOTAL NO. of ITERATIONS REACHED LIMIT.\n",
            "\n",
            "Increase the number of iterations (max_iter) or scale the data as shown in:\n",
            "    https://scikit-learn.org/stable/modules/preprocessing.html\n",
            "Please also refer to the documentation for alternative solver options:\n",
            "    https://scikit-learn.org/stable/modules/linear_model.html#logistic-regression\n",
            "  extra_warning_msg=_LOGISTIC_SOLVER_CONVERGENCE_MSG,\n",
            "/usr/local/lib/python3.7/dist-packages/sklearn/linear_model/_logistic.py:818: ConvergenceWarning: lbfgs failed to converge (status=1):\n",
            "STOP: TOTAL NO. of ITERATIONS REACHED LIMIT.\n",
            "\n",
            "Increase the number of iterations (max_iter) or scale the data as shown in:\n",
            "    https://scikit-learn.org/stable/modules/preprocessing.html\n",
            "Please also refer to the documentation for alternative solver options:\n",
            "    https://scikit-learn.org/stable/modules/linear_model.html#logistic-regression\n",
            "  extra_warning_msg=_LOGISTIC_SOLVER_CONVERGENCE_MSG,\n",
            "/usr/local/lib/python3.7/dist-packages/sklearn/linear_model/_logistic.py:818: ConvergenceWarning: lbfgs failed to converge (status=1):\n",
            "STOP: TOTAL NO. of ITERATIONS REACHED LIMIT.\n",
            "\n",
            "Increase the number of iterations (max_iter) or scale the data as shown in:\n",
            "    https://scikit-learn.org/stable/modules/preprocessing.html\n",
            "Please also refer to the documentation for alternative solver options:\n",
            "    https://scikit-learn.org/stable/modules/linear_model.html#logistic-regression\n",
            "  extra_warning_msg=_LOGISTIC_SOLVER_CONVERGENCE_MSG,\n",
            "/usr/local/lib/python3.7/dist-packages/sklearn/linear_model/_logistic.py:818: ConvergenceWarning: lbfgs failed to converge (status=1):\n",
            "STOP: TOTAL NO. of ITERATIONS REACHED LIMIT.\n",
            "\n",
            "Increase the number of iterations (max_iter) or scale the data as shown in:\n",
            "    https://scikit-learn.org/stable/modules/preprocessing.html\n",
            "Please also refer to the documentation for alternative solver options:\n",
            "    https://scikit-learn.org/stable/modules/linear_model.html#logistic-regression\n",
            "  extra_warning_msg=_LOGISTIC_SOLVER_CONVERGENCE_MSG,\n",
            "/usr/local/lib/python3.7/dist-packages/sklearn/linear_model/_logistic.py:818: ConvergenceWarning: lbfgs failed to converge (status=1):\n",
            "STOP: TOTAL NO. of ITERATIONS REACHED LIMIT.\n",
            "\n",
            "Increase the number of iterations (max_iter) or scale the data as shown in:\n",
            "    https://scikit-learn.org/stable/modules/preprocessing.html\n",
            "Please also refer to the documentation for alternative solver options:\n",
            "    https://scikit-learn.org/stable/modules/linear_model.html#logistic-regression\n",
            "  extra_warning_msg=_LOGISTIC_SOLVER_CONVERGENCE_MSG,\n",
            "/usr/local/lib/python3.7/dist-packages/sklearn/linear_model/_logistic.py:818: ConvergenceWarning: lbfgs failed to converge (status=1):\n",
            "STOP: TOTAL NO. of ITERATIONS REACHED LIMIT.\n",
            "\n",
            "Increase the number of iterations (max_iter) or scale the data as shown in:\n",
            "    https://scikit-learn.org/stable/modules/preprocessing.html\n",
            "Please also refer to the documentation for alternative solver options:\n",
            "    https://scikit-learn.org/stable/modules/linear_model.html#logistic-regression\n",
            "  extra_warning_msg=_LOGISTIC_SOLVER_CONVERGENCE_MSG,\n",
            "/usr/local/lib/python3.7/dist-packages/sklearn/linear_model/_logistic.py:818: ConvergenceWarning: lbfgs failed to converge (status=1):\n",
            "STOP: TOTAL NO. of ITERATIONS REACHED LIMIT.\n",
            "\n",
            "Increase the number of iterations (max_iter) or scale the data as shown in:\n",
            "    https://scikit-learn.org/stable/modules/preprocessing.html\n",
            "Please also refer to the documentation for alternative solver options:\n",
            "    https://scikit-learn.org/stable/modules/linear_model.html#logistic-regression\n",
            "  extra_warning_msg=_LOGISTIC_SOLVER_CONVERGENCE_MSG,\n",
            "/usr/local/lib/python3.7/dist-packages/sklearn/linear_model/_logistic.py:818: ConvergenceWarning: lbfgs failed to converge (status=1):\n",
            "STOP: TOTAL NO. of ITERATIONS REACHED LIMIT.\n",
            "\n",
            "Increase the number of iterations (max_iter) or scale the data as shown in:\n",
            "    https://scikit-learn.org/stable/modules/preprocessing.html\n",
            "Please also refer to the documentation for alternative solver options:\n",
            "    https://scikit-learn.org/stable/modules/linear_model.html#logistic-regression\n",
            "  extra_warning_msg=_LOGISTIC_SOLVER_CONVERGENCE_MSG,\n",
            "/usr/local/lib/python3.7/dist-packages/sklearn/linear_model/_logistic.py:818: ConvergenceWarning: lbfgs failed to converge (status=1):\n",
            "STOP: TOTAL NO. of ITERATIONS REACHED LIMIT.\n",
            "\n",
            "Increase the number of iterations (max_iter) or scale the data as shown in:\n",
            "    https://scikit-learn.org/stable/modules/preprocessing.html\n",
            "Please also refer to the documentation for alternative solver options:\n",
            "    https://scikit-learn.org/stable/modules/linear_model.html#logistic-regression\n",
            "  extra_warning_msg=_LOGISTIC_SOLVER_CONVERGENCE_MSG,\n",
            "/usr/local/lib/python3.7/dist-packages/sklearn/linear_model/_logistic.py:818: ConvergenceWarning: lbfgs failed to converge (status=1):\n",
            "STOP: TOTAL NO. of ITERATIONS REACHED LIMIT.\n",
            "\n",
            "Increase the number of iterations (max_iter) or scale the data as shown in:\n",
            "    https://scikit-learn.org/stable/modules/preprocessing.html\n",
            "Please also refer to the documentation for alternative solver options:\n",
            "    https://scikit-learn.org/stable/modules/linear_model.html#logistic-regression\n",
            "  extra_warning_msg=_LOGISTIC_SOLVER_CONVERGENCE_MSG,\n",
            "/usr/local/lib/python3.7/dist-packages/sklearn/linear_model/_logistic.py:818: ConvergenceWarning: lbfgs failed to converge (status=1):\n",
            "STOP: TOTAL NO. of ITERATIONS REACHED LIMIT.\n",
            "\n",
            "Increase the number of iterations (max_iter) or scale the data as shown in:\n",
            "    https://scikit-learn.org/stable/modules/preprocessing.html\n",
            "Please also refer to the documentation for alternative solver options:\n",
            "    https://scikit-learn.org/stable/modules/linear_model.html#logistic-regression\n",
            "  extra_warning_msg=_LOGISTIC_SOLVER_CONVERGENCE_MSG,\n",
            "/usr/local/lib/python3.7/dist-packages/sklearn/linear_model/_logistic.py:818: ConvergenceWarning: lbfgs failed to converge (status=1):\n",
            "STOP: TOTAL NO. of ITERATIONS REACHED LIMIT.\n",
            "\n",
            "Increase the number of iterations (max_iter) or scale the data as shown in:\n",
            "    https://scikit-learn.org/stable/modules/preprocessing.html\n",
            "Please also refer to the documentation for alternative solver options:\n",
            "    https://scikit-learn.org/stable/modules/linear_model.html#logistic-regression\n",
            "  extra_warning_msg=_LOGISTIC_SOLVER_CONVERGENCE_MSG,\n",
            "/usr/local/lib/python3.7/dist-packages/sklearn/linear_model/_logistic.py:818: ConvergenceWarning: lbfgs failed to converge (status=1):\n",
            "STOP: TOTAL NO. of ITERATIONS REACHED LIMIT.\n",
            "\n",
            "Increase the number of iterations (max_iter) or scale the data as shown in:\n",
            "    https://scikit-learn.org/stable/modules/preprocessing.html\n",
            "Please also refer to the documentation for alternative solver options:\n",
            "    https://scikit-learn.org/stable/modules/linear_model.html#logistic-regression\n",
            "  extra_warning_msg=_LOGISTIC_SOLVER_CONVERGENCE_MSG,\n",
            "/usr/local/lib/python3.7/dist-packages/sklearn/linear_model/_logistic.py:818: ConvergenceWarning: lbfgs failed to converge (status=1):\n",
            "STOP: TOTAL NO. of ITERATIONS REACHED LIMIT.\n",
            "\n",
            "Increase the number of iterations (max_iter) or scale the data as shown in:\n",
            "    https://scikit-learn.org/stable/modules/preprocessing.html\n",
            "Please also refer to the documentation for alternative solver options:\n",
            "    https://scikit-learn.org/stable/modules/linear_model.html#logistic-regression\n",
            "  extra_warning_msg=_LOGISTIC_SOLVER_CONVERGENCE_MSG,\n",
            "/usr/local/lib/python3.7/dist-packages/sklearn/linear_model/_logistic.py:818: ConvergenceWarning: lbfgs failed to converge (status=1):\n",
            "STOP: TOTAL NO. of ITERATIONS REACHED LIMIT.\n",
            "\n",
            "Increase the number of iterations (max_iter) or scale the data as shown in:\n",
            "    https://scikit-learn.org/stable/modules/preprocessing.html\n",
            "Please also refer to the documentation for alternative solver options:\n",
            "    https://scikit-learn.org/stable/modules/linear_model.html#logistic-regression\n",
            "  extra_warning_msg=_LOGISTIC_SOLVER_CONVERGENCE_MSG,\n",
            "/usr/local/lib/python3.7/dist-packages/sklearn/linear_model/_logistic.py:818: ConvergenceWarning: lbfgs failed to converge (status=1):\n",
            "STOP: TOTAL NO. of ITERATIONS REACHED LIMIT.\n",
            "\n",
            "Increase the number of iterations (max_iter) or scale the data as shown in:\n",
            "    https://scikit-learn.org/stable/modules/preprocessing.html\n",
            "Please also refer to the documentation for alternative solver options:\n",
            "    https://scikit-learn.org/stable/modules/linear_model.html#logistic-regression\n",
            "  extra_warning_msg=_LOGISTIC_SOLVER_CONVERGENCE_MSG,\n",
            "/usr/local/lib/python3.7/dist-packages/sklearn/linear_model/_logistic.py:818: ConvergenceWarning: lbfgs failed to converge (status=1):\n",
            "STOP: TOTAL NO. of ITERATIONS REACHED LIMIT.\n",
            "\n",
            "Increase the number of iterations (max_iter) or scale the data as shown in:\n",
            "    https://scikit-learn.org/stable/modules/preprocessing.html\n",
            "Please also refer to the documentation for alternative solver options:\n",
            "    https://scikit-learn.org/stable/modules/linear_model.html#logistic-regression\n",
            "  extra_warning_msg=_LOGISTIC_SOLVER_CONVERGENCE_MSG,\n",
            "/usr/local/lib/python3.7/dist-packages/sklearn/linear_model/_logistic.py:818: ConvergenceWarning: lbfgs failed to converge (status=1):\n",
            "STOP: TOTAL NO. of ITERATIONS REACHED LIMIT.\n",
            "\n",
            "Increase the number of iterations (max_iter) or scale the data as shown in:\n",
            "    https://scikit-learn.org/stable/modules/preprocessing.html\n",
            "Please also refer to the documentation for alternative solver options:\n",
            "    https://scikit-learn.org/stable/modules/linear_model.html#logistic-regression\n",
            "  extra_warning_msg=_LOGISTIC_SOLVER_CONVERGENCE_MSG,\n",
            "/usr/local/lib/python3.7/dist-packages/sklearn/linear_model/_logistic.py:818: ConvergenceWarning: lbfgs failed to converge (status=1):\n",
            "STOP: TOTAL NO. of ITERATIONS REACHED LIMIT.\n",
            "\n",
            "Increase the number of iterations (max_iter) or scale the data as shown in:\n",
            "    https://scikit-learn.org/stable/modules/preprocessing.html\n",
            "Please also refer to the documentation for alternative solver options:\n",
            "    https://scikit-learn.org/stable/modules/linear_model.html#logistic-regression\n",
            "  extra_warning_msg=_LOGISTIC_SOLVER_CONVERGENCE_MSG,\n",
            "/usr/local/lib/python3.7/dist-packages/sklearn/linear_model/_logistic.py:818: ConvergenceWarning: lbfgs failed to converge (status=1):\n",
            "STOP: TOTAL NO. of ITERATIONS REACHED LIMIT.\n",
            "\n",
            "Increase the number of iterations (max_iter) or scale the data as shown in:\n",
            "    https://scikit-learn.org/stable/modules/preprocessing.html\n",
            "Please also refer to the documentation for alternative solver options:\n",
            "    https://scikit-learn.org/stable/modules/linear_model.html#logistic-regression\n",
            "  extra_warning_msg=_LOGISTIC_SOLVER_CONVERGENCE_MSG,\n",
            "/usr/local/lib/python3.7/dist-packages/sklearn/linear_model/_logistic.py:818: ConvergenceWarning: lbfgs failed to converge (status=1):\n",
            "STOP: TOTAL NO. of ITERATIONS REACHED LIMIT.\n",
            "\n",
            "Increase the number of iterations (max_iter) or scale the data as shown in:\n",
            "    https://scikit-learn.org/stable/modules/preprocessing.html\n",
            "Please also refer to the documentation for alternative solver options:\n",
            "    https://scikit-learn.org/stable/modules/linear_model.html#logistic-regression\n",
            "  extra_warning_msg=_LOGISTIC_SOLVER_CONVERGENCE_MSG,\n"
          ]
        },
        {
          "output_type": "display_data",
          "data": {
            "text/plain": [
              "<Figure size 432x288 with 1 Axes>"
            ],
            "image/png": "[encoded data removed]"
          },
          "metadata": {
            "needs_background": "light"
          }
        }
      ]
    },
    {
      "cell_type": "code",
      "source": [
        "stacking_results['Stacking'].best_score_"
      ],
      "metadata": {
        "id": "zh12VkO6Ewms",
        "outputId": "94ebd2bc-d73a-425d-9fd2-05ac7a14d6e4",
        "colab": {
          "base_uri": "https://localhost:8080/"
        }
      },
      "execution_count": 42,
      "outputs": [
        {
          "output_type": "execute_result",
          "data": {
            "text/plain": [
              "0.7995407268721327"
            ]
          },
          "metadata": {},
          "execution_count": 42
        }
      ]
    },
    {
      "cell_type": "markdown",
      "source": [
        "## Voting classifier"
      ],
      "metadata": {
        "id": "hXbQcwuhFtQc"
      }
    },
    {
      "cell_type": "code",
      "source": [
        "from sklearn.ensemble import VotingClassifier\n",
        "\n",
        "\n",
        "voting_model = Model(\n",
        "    VotingClassifier(\n",
        "        estimators=[\n",
        "            ('catboost', CatBoostClassifier(**cat_boost_results['CatBoost'].best_params_)),\n",
        "            ('lgbm', LGBMClassifier(**light_gbm_results['LGBM'].best_params_)),\n",
        "            ('adaboost', AdaBoostClassifier(**ada_boost_results['AdaBoost'].best_params_))\n",
        "        ]\n",
        "    ),\n",
        "    'voting',\n",
        "    [\n",
        "        {\n",
        "            'n_jobs': [-1],\n",
        "            'voting': ['hard', 'soft']\n",
        "        }\n",
        "    ],\n",
        "    []\n",
        ")"
      ],
      "metadata": {
        "id": "N1YyXb_UFvBQ"
      },
      "execution_count": null,
      "outputs": []
    },
    {
      "cell_type": "code",
      "source": [
        "voting_results = fit_grid_search(\n",
        "    {'voting': voting_model},\n",
        "    X_=X_trainval,\n",
        "    Y_=Y_trainval,\n",
        "    cv_=5,\n",
        "    scoring_='accuracy',\n",
        "    verbose=3\n",
        ")"
      ],
      "metadata": {
        "id": "8gg8jfTuGKyl",
        "outputId": "05ae570e-1e0e-440e-a2e9-ef68fcca10a2",
        "colab": {
          "base_uri": "https://localhost:8080/",
          "height": 503
        }
      },
      "execution_count": null,
      "outputs": [
        {
          "output_type": "stream",
          "name": "stdout",
          "text": [
            "Fitting voting\n",
            "Fitting 5 folds for each of 2 candidates, totalling 10 fits\n",
            "[CV 1/5] END n_jobs=-1, voting=hard;, score=(train=0.814, test=0.779) total time=   3.7s\n",
            "[CV 2/5] END n_jobs=-1, voting=hard;, score=(train=0.809, test=0.804) total time=   2.0s\n",
            "[CV 3/5] END n_jobs=-1, voting=hard;, score=(train=0.811, test=0.790) total time=   2.3s\n",
            "[CV 4/5] END n_jobs=-1, voting=hard;, score=(train=0.811, test=0.807) total time=   2.1s\n",
            "[CV 5/5] END n_jobs=-1, voting=hard;, score=(train=0.808, test=0.811) total time=   2.4s\n",
            "[CV 1/5] END n_jobs=-1, voting=soft;, score=(train=0.816, test=0.781) total time=   3.6s\n",
            "[CV 2/5] END n_jobs=-1, voting=soft;, score=(train=0.809, test=0.805) total time=   2.1s\n",
            "[CV 3/5] END n_jobs=-1, voting=soft;, score=(train=0.813, test=0.789) total time=   2.1s\n",
            "[CV 4/5] END n_jobs=-1, voting=soft;, score=(train=0.813, test=0.807) total time=   2.1s\n",
            "[CV 5/5] END n_jobs=-1, voting=soft;, score=(train=0.810, test=0.807) total time=   2.1s\n"
          ]
        },
        {
          "output_type": "display_data",
          "data": {
            "text/plain": [
              "<Figure size 432x288 with 1 Axes>"
            ],
            "image/png": "[encoded data removed]"
          },
          "metadata": {
            "needs_background": "light"
          }
        }
      ]
    },
    {
      "cell_type": "code",
      "source": [
        "voting_results['voting'].best_score_"
      ],
      "metadata": {
        "id": "xDJ04HX8Ge8x",
        "outputId": "6a462614-4e4c-4426-c104-782a4b60122c",
        "colab": {
          "base_uri": "https://localhost:8080/"
        }
      },
      "execution_count": null,
      "outputs": [
        {
          "output_type": "execute_result",
          "data": {
            "text/plain": [
              "0.7983911993338471"
            ]
          },
          "metadata": {},
          "execution_count": 74
        }
      ]
    },
    {
      "cell_type": "markdown",
      "source": [
        "# Saving models"
      ],
      "metadata": {
        "id": "CsVOMjbc4I3p"
      }
    },
    {
      "cell_type": "code",
      "source": [
        "res_models = {\n",
        "    # **log_reg_results,\n",
        "    # **xgb_results\n",
        "    # **light_gbm_results\n",
        "    # **cat_boost_results\n",
        "    **voting_results,\n",
        "    **stacking_results\n",
        "    # **rf_results\n",
        "}\n",
        "res_models"
      ],
      "metadata": {
        "id": "4z_VlVbN4X2_",
        "outputId": "15463e0e-48f2-4624-c21a-e1d7a7395e79",
        "colab": {
          "base_uri": "https://localhost:8080/"
        }
      },
      "execution_count": null,
      "outputs": [
        {
          "output_type": "execute_result",
          "data": {
            "text/plain": [
              "{'voting': GridSearchCV(cv=5,\n",
              "              estimator=VotingClassifier(estimators=[('catboost',\n",
              "                                                      <catboost.core.CatBoostClassifier object at 0x7f0731ea1190>),\n",
              "                                                     ('lgbm',\n",
              "                                                      LGBMClassifier(boosting='dart',\n",
              "                                                                     lambda_l1=0.07,\n",
              "                                                                     lambda_l2=0.07,\n",
              "                                                                     max_depth=4,\n",
              "                                                                     n_estimators=150,\n",
              "                                                                     objective='binary',\n",
              "                                                                     random_state=42)),\n",
              "                                                     ('adaboost',\n",
              "                                                      AdaBoostClassifier(base_estimator=DecisionTreeClassifier(max_depth=3,\n",
              "                                                                                                               random_state=42),\n",
              "                                                                         learning_rate=0.05,\n",
              "                                                                         random_state=42))]),\n",
              "              param_grid=[{'n_jobs': [-1], 'voting': ['hard', 'soft']}],\n",
              "              return_train_score=True, scoring='accuracy', verbose=3),\n",
              " 'Stacking': GridSearchCV(cv=5,\n",
              "              estimator=StackingClassifier(estimators=[('catboost',\n",
              "                                                        <catboost.core.CatBoostClassifier object at 0x7f07324fc750>),\n",
              "                                                       ('lgbm',\n",
              "                                                        LGBMClassifier(boosting='dart',\n",
              "                                                                       lambda_l1=0.07,\n",
              "                                                                       lambda_l2=0.07,\n",
              "                                                                       max_depth=4,\n",
              "                                                                       n_estimators=150,\n",
              "                                                                       objective='binary',\n",
              "                                                                       random_state=42)),\n",
              "                                                       ('adaboost',\n",
              "                                                        AdaBoostClassifier(base_estimator=DecisionTreeClassifier(max_depth=3,\n",
              "                                                                                                                 random_state=42),\n",
              "                                                                           learning_rate=0.05,\n",
              "                                                                           random_state=42))]),\n",
              "              param_grid=[{'cv': [5]}], return_train_score=True,\n",
              "              scoring='accuracy')}"
            ]
          },
          "metadata": {},
          "execution_count": 75
        }
      ]
    },
    {
      "cell_type": "code",
      "source": [
        "manager.save_models(\n",
        "    {\n",
        "        f'{model_name}_gridsearch': result.best_estimator_\n",
        "        for model_name, result in res_models.items()\n",
        "    }\n",
        ")"
      ],
      "metadata": {
        "id": "ZWo-2Mmy4Jxk"
      },
      "execution_count": null,
      "outputs": []
    }
  ]
}