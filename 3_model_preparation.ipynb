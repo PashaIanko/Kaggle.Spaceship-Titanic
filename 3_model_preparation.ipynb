{
  "nbformat": 4,
  "nbformat_minor": 0,
  "metadata": {
    "colab": {
      "provenance": [],
      "toc_visible": true,
      "authorship_tag": "ABX9TyMWX1grY7c0u4Os0FJoFOeH",
      "include_colab_link": true
    },
    "kernelspec": {
      "name": "python3",
      "display_name": "Python 3"
    },
    "language_info": {
      "name": "python"
    }
  },
  "cells": [
    {
      "cell_type": "markdown",
      "metadata": {
        "id": "view-in-github",
        "colab_type": "text"
      },
      "source": [
        "<a href=\"https://colab.research.google.com/github/PashaIanko/Kaggle.Spaceship-Titanic/blob/passenger_ID/3_model_preparation.ipynb\" target=\"_parent\"><img src=\"https://colab.research.google.com/assets/colab-badge.svg\" alt=\"Open In Colab\"/></a>"
      ]
    },
    {
      "cell_type": "markdown",
      "source": [
        "# Imports"
      ],
      "metadata": {
        "id": "7yVqYdL2W1JZ"
      }
    },
    {
      "cell_type": "code",
      "execution_count": 1,
      "metadata": {
        "id": "bv1M4eV9Wwab"
      },
      "outputs": [],
      "source": [
        "from google.colab import drive\n",
        "\n",
        "import numpy as np\n",
        "\n",
        "import pandas as pd\n",
        "\n",
        "import os"
      ]
    },
    {
      "cell_type": "markdown",
      "source": [
        "## PEP8 standard"
      ],
      "metadata": {
        "id": "CTa8zW4wW4RI"
      }
    },
    {
      "cell_type": "code",
      "source": [
        "%%capture\n",
        "!pip install pycodestyle\n",
        "!pip install --index-url https://test.pypi.org/simple/ nbpep8\n",
        "\n",
        "from nbpep8.nbpep8 import pep8"
      ],
      "metadata": {
        "id": "v0gjPO7pW7CV"
      },
      "execution_count": 2,
      "outputs": []
    },
    {
      "cell_type": "markdown",
      "source": [
        "## Importing custom packages"
      ],
      "metadata": {
        "id": "4mQrysTyXCeb"
      }
    },
    {
      "cell_type": "code",
      "source": [
        "%%capture\n",
        "def download_files(url_dict):\n",
        "    for file, url in url_dict.items():\n",
        "        !wget -O {file} {url} {file}\n",
        "\n",
        "\n",
        "git_download_path = \\\n",
        "    'https://raw.githubusercontent.com/PashaIanko/Sklearn-Utils/main/'\n",
        "\n",
        "files = [\n",
        "    'path_manager.py',\n",
        "    'sklearn_transformers.py',\n",
        "    'sklearn_utils.py',\n",
        "    'model.py'\n",
        "]\n",
        "\n",
        "url_dict = {file: git_download_path + file for file in files}\n",
        "download_files(url_dict)"
      ],
      "metadata": {
        "id": "jGf7K3s1W3vW"
      },
      "execution_count": 3,
      "outputs": []
    },
    {
      "cell_type": "code",
      "source": [
        "import importlib\n",
        "import path_manager\n",
        "import sklearn_utils\n",
        "import sklearn_transformers\n",
        "import model\n",
        "\n",
        "\n",
        "def reload_modules(modules):\n",
        "    for module in modules:\n",
        "        importlib.reload(module)\n",
        "\n",
        "\n",
        "reload_modules(\n",
        "    [\n",
        "        path_manager,\n",
        "        sklearn_transformers,\n",
        "        sklearn_utils,\n",
        "        model\n",
        "    ]\n",
        ")\n",
        "\n",
        "from path_manager import PathManager\n",
        "from sklearn_transformers import ColumnDropper\n",
        "from sklearn_utils import inf_statistics\n",
        "from model import Model\n",
        "from sklearn_utils import fit_grid_search\n",
        "from sklearn_utils import dict_subset"
      ],
      "metadata": {
        "id": "nvO2CpAZXW0Z"
      },
      "execution_count": 20,
      "outputs": []
    },
    {
      "cell_type": "markdown",
      "source": [
        "# Set up paths"
      ],
      "metadata": {
        "id": "iMrpxL6zXMez"
      }
    },
    {
      "cell_type": "code",
      "source": [
        "drive.mount('/content/gdrive', force_remount=True)\n",
        "gdrive_path = '/content/gdrive/MyDrive/'\n",
        "\n",
        "PREPROC_TRIAL = 4\n",
        "MODELS_TRIAL = 4\n",
        "COMPETITION_PATH = gdrive_path + 'ML/Competitions/6.SpaceshipTitanic/'\n",
        "\n",
        "manager = PathManager(\n",
        "    competition_path=COMPETITION_PATH,\n",
        "    preprocessing_trial=PREPROC_TRIAL,\n",
        "    models_trial=MODELS_TRIAL\n",
        ")\n",
        "manager.setup_paths()"
      ],
      "metadata": {
        "colab": {
          "base_uri": "https://localhost:8080/"
        },
        "id": "A5MRTpfaXKuZ",
        "outputId": "a2628ce4-d45a-4764-f2cd-bf3ae4df0b6e"
      },
      "execution_count": 5,
      "outputs": [
        {
          "output_type": "stream",
          "name": "stdout",
          "text": [
            "Mounted at /content/gdrive\n",
            "/content/gdrive/MyDrive/ML/Competitions/6.SpaceshipTitanic/Data/preproc_trial_4 already exists\n",
            "/content/gdrive/MyDrive/ML/Competitions/6.SpaceshipTitanic/Models/trial_4 already exists\n"
          ]
        }
      ]
    },
    {
      "cell_type": "markdown",
      "source": [
        "# Fixing seed"
      ],
      "metadata": {
        "id": "Dstvp4lxXy86"
      }
    },
    {
      "cell_type": "code",
      "source": [
        "RANDOM_SEED = 42\n",
        "RANDOM_STATE = RANDOM_SEED\n",
        "\n",
        "np.random.seed(42)"
      ],
      "metadata": {
        "id": "7npCPy2jX0NK"
      },
      "execution_count": 6,
      "outputs": []
    },
    {
      "cell_type": "markdown",
      "source": [
        "# Download the data"
      ],
      "metadata": {
        "id": "3_J-YIyxXk3y"
      }
    },
    {
      "cell_type": "code",
      "source": [
        "os.listdir(manager.data_trial_path)"
      ],
      "metadata": {
        "colab": {
          "base_uri": "https://localhost:8080/"
        },
        "id": "Wpf0urw3Xo0D",
        "outputId": "06895388-2577-494d-fc0e-a0f5659973a8"
      },
      "execution_count": 7,
      "outputs": [
        {
          "output_type": "execute_result",
          "data": {
            "text/plain": [
              "['trainval_processed.csv', 'test_sample_processed.csv', 'test_processed.csv']"
            ]
          },
          "metadata": {},
          "execution_count": 7
        }
      ]
    },
    {
      "cell_type": "code",
      "source": [
        "df_trainval = pd.read_csv(\n",
        "    os.path.join(\n",
        "        manager.data_trial_path,\n",
        "        'trainval_processed.csv'\n",
        "    )\n",
        ")\n",
        "df_trainval.shape\n",
        "\n",
        "X_trainval = df_trainval.values[:, :-1]\n",
        "Y_trainval = df_trainval.values[:, -1]"
      ],
      "metadata": {
        "id": "26yMwvMeXhan"
      },
      "execution_count": 8,
      "outputs": []
    },
    {
      "cell_type": "code",
      "source": [
        "df_test_sample = pd.read_csv(\n",
        "    os.path.join(\n",
        "        manager.data_trial_path,\n",
        "        'test_sample_processed.csv'\n",
        "    )\n",
        ")\n",
        "df_test_sample.shape\n",
        "\n",
        "X_test_sample = df_test_sample.values[:, :-1]\n",
        "Y_test_sample = df_test_sample.values[:, -1]"
      ],
      "metadata": {
        "id": "wuHTCoIqYGak"
      },
      "execution_count": 9,
      "outputs": []
    },
    {
      "cell_type": "markdown",
      "source": [
        "# Define models"
      ],
      "metadata": {
        "id": "2Kx50_bOYrOA"
      }
    },
    {
      "cell_type": "code",
      "source": [
        "from sklearn.linear_model import LogisticRegression"
      ],
      "metadata": {
        "id": "_6C7zqyxYuZZ"
      },
      "execution_count": 10,
      "outputs": []
    },
    {
      "cell_type": "code",
      "source": [
        "LogReg = Model(\n",
        "    LogisticRegression(),\n",
        "    'LogReg',\n",
        "    [\n",
        "        {\n",
        "            'penalty': ['elasticnet'],\n",
        "            'C': [0.01, 0.05, 0.1],\n",
        "            'random_state': [RANDOM_STATE],\n",
        "            'solver': ['saga'],\n",
        "            'l1_ratio': [0, 0.01, 0.05]\n",
        "        }\n",
        "    ],\n",
        "    [\n",
        "\n",
        "    ]\n",
        ")"
      ],
      "metadata": {
        "id": "ZDIsSHtEYMHU"
      },
      "execution_count": 11,
      "outputs": []
    },
    {
      "cell_type": "code",
      "source": [
        "from sklearn.ensemble import RandomForestClassifier\n",
        "\n",
        "\n",
        "RandomForest = Model(\n",
        "    RandomForestClassifier(),\n",
        "    'RandomForest',\n",
        "    [\n",
        "        {\n",
        "            'n_estimators': [75, 100],\n",
        "            'max_depth': [4, 6],\n",
        "            'bootstrap': [True, False],\n",
        "            'max_features': ['sqrt', 'log2'],\n",
        "            'random_state': [42],\n",
        "            'n_jobs': [-1]\n",
        "        }\n",
        "    ],\n",
        "    [\n",
        "\n",
        "    ]\n",
        ")"
      ],
      "metadata": {
        "id": "p5Yst9VMfi1K"
      },
      "execution_count": 12,
      "outputs": []
    },
    {
      "cell_type": "code",
      "source": [
        "from sklearn.svm import SVC\n",
        "\n",
        "\n",
        "SVM = Model(\n",
        "    SVC(),\n",
        "    'SVM',\n",
        "    [\n",
        "        {\n",
        "            'C': [0.05, 0.1, 0.5, 1.0],\n",
        "            'kernel': ['linear', 'rbf', 'poly'],\n",
        "            'random_state': [RANDOM_STATE]\n",
        "        }\n",
        "    ],\n",
        "    [\n",
        "        \n",
        "    ]\n",
        ")"
      ],
      "metadata": {
        "id": "owyAZXVRfx1G"
      },
      "execution_count": 13,
      "outputs": []
    },
    {
      "cell_type": "code",
      "source": [
        "all_models = {\n",
        "    model.name: model\n",
        "    for model in [\n",
        "        LogReg,\n",
        "        RandomForest,\n",
        "        SVM\n",
        "    ]\n",
        "}"
      ],
      "metadata": {
        "id": "59nL5KL_Y9Ty"
      },
      "execution_count": 14,
      "outputs": []
    },
    {
      "cell_type": "markdown",
      "source": [
        "# Shortlist models based on cross-validation behavior"
      ],
      "metadata": {
        "id": "JdsRgy7afXlI"
      }
    },
    {
      "cell_type": "code",
      "source": [
        "from sklearn_utils import plot_cv_results\n",
        "\n",
        "\n",
        "np.random.seed(RANDOM_SEED)\n",
        "\n",
        "res = plot_cv_results(\n",
        "    sklearn_models_dict_={\n",
        "        model_name: model.model\n",
        "        for model_name, model in all_models.items()\n",
        "    },\n",
        "    X_=X_trainval,\n",
        "    Y_=Y_trainval,\n",
        "    cv_=5,\n",
        "    scoring_='accuracy',  # 'accuracy'\n",
        "    to_put_minus_=False\n",
        ")"
      ],
      "metadata": {
        "id": "B7kMU00dZdP2",
        "outputId": "cf6617df-6a94-4420-a9d5-a02b79a23a28",
        "colab": {
          "base_uri": "https://localhost:8080/",
          "height": 1000
        }
      },
      "execution_count": 15,
      "outputs": [
        {
          "output_type": "stream",
          "name": "stderr",
          "text": [
            "/usr/local/lib/python3.7/dist-packages/sklearn/linear_model/_logistic.py:818: ConvergenceWarning: lbfgs failed to converge (status=1):\n",
            "STOP: TOTAL NO. of ITERATIONS REACHED LIMIT.\n",
            "\n",
            "Increase the number of iterations (max_iter) or scale the data as shown in:\n",
            "    https://scikit-learn.org/stable/modules/preprocessing.html\n",
            "Please also refer to the documentation for alternative solver options:\n",
            "    https://scikit-learn.org/stable/modules/linear_model.html#logistic-regression\n",
            "  extra_warning_msg=_LOGISTIC_SOLVER_CONVERGENCE_MSG,\n",
            "/usr/local/lib/python3.7/dist-packages/sklearn/linear_model/_logistic.py:818: ConvergenceWarning: lbfgs failed to converge (status=1):\n",
            "STOP: TOTAL NO. of ITERATIONS REACHED LIMIT.\n",
            "\n",
            "Increase the number of iterations (max_iter) or scale the data as shown in:\n",
            "    https://scikit-learn.org/stable/modules/preprocessing.html\n",
            "Please also refer to the documentation for alternative solver options:\n",
            "    https://scikit-learn.org/stable/modules/linear_model.html#logistic-regression\n",
            "  extra_warning_msg=_LOGISTIC_SOLVER_CONVERGENCE_MSG,\n",
            "/usr/local/lib/python3.7/dist-packages/sklearn/linear_model/_logistic.py:818: ConvergenceWarning: lbfgs failed to converge (status=1):\n",
            "STOP: TOTAL NO. of ITERATIONS REACHED LIMIT.\n",
            "\n",
            "Increase the number of iterations (max_iter) or scale the data as shown in:\n",
            "    https://scikit-learn.org/stable/modules/preprocessing.html\n",
            "Please also refer to the documentation for alternative solver options:\n",
            "    https://scikit-learn.org/stable/modules/linear_model.html#logistic-regression\n",
            "  extra_warning_msg=_LOGISTIC_SOLVER_CONVERGENCE_MSG,\n",
            "/usr/local/lib/python3.7/dist-packages/sklearn/linear_model/_logistic.py:818: ConvergenceWarning: lbfgs failed to converge (status=1):\n",
            "STOP: TOTAL NO. of ITERATIONS REACHED LIMIT.\n",
            "\n",
            "Increase the number of iterations (max_iter) or scale the data as shown in:\n",
            "    https://scikit-learn.org/stable/modules/preprocessing.html\n",
            "Please also refer to the documentation for alternative solver options:\n",
            "    https://scikit-learn.org/stable/modules/linear_model.html#logistic-regression\n",
            "  extra_warning_msg=_LOGISTIC_SOLVER_CONVERGENCE_MSG,\n",
            "/usr/local/lib/python3.7/dist-packages/sklearn/linear_model/_logistic.py:818: ConvergenceWarning: lbfgs failed to converge (status=1):\n",
            "STOP: TOTAL NO. of ITERATIONS REACHED LIMIT.\n",
            "\n",
            "Increase the number of iterations (max_iter) or scale the data as shown in:\n",
            "    https://scikit-learn.org/stable/modules/preprocessing.html\n",
            "Please also refer to the documentation for alternative solver options:\n",
            "    https://scikit-learn.org/stable/modules/linear_model.html#logistic-regression\n",
            "  extra_warning_msg=_LOGISTIC_SOLVER_CONVERGENCE_MSG,\n"
          ]
        },
        {
          "output_type": "stream",
          "name": "stdout",
          "text": [
            "Model           Seen folds avg score    Seen folds std    Unseen folds avg score    Unseen folds std\n",
            "------------  ----------------------  ----------------  ------------------------  ------------------\n",
            "SVM                         0.775345        0.00212404                  0.764738          0.0144935\n",
            "LogReg                      0.786058        0.00260711                  0.783435          0.0050447\n",
            "RandomForest                1               0                           0.791777          0.00990004\n"
          ]
        },
        {
          "output_type": "display_data",
          "data": {
            "text/plain": [
              "<Figure size 432x288 with 1 Axes>"
            ],
            "image/png": "[encoded data removed]"
          },
          "metadata": {
            "needs_background": "light"
          }
        },
        {
          "output_type": "display_data",
          "data": {
            "text/plain": [
              "<Figure size 432x288 with 1 Axes>"
            ],
            "image/png": "[encoded data removed]"
          },
          "metadata": {
            "needs_background": "light"
          }
        },
        {
          "output_type": "display_data",
          "data": {
            "text/plain": [
              "<Figure size 432x288 with 1 Axes>"
            ],
            "image/png": "[encoded data removed]"
          },
          "metadata": {
            "needs_background": "light"
          }
        }
      ]
    },
    {
      "cell_type": "code",
      "source": [
        "shortlisted_models = {\n",
        "    model.name: model\n",
        "    for model in [\n",
        "        LogReg,\n",
        "        SVM,\n",
        "        RandomForest\n",
        "    ]\n",
        "}"
      ],
      "metadata": {
        "id": "r9x-2htUfb6W"
      },
      "execution_count": 16,
      "outputs": []
    },
    {
      "cell_type": "markdown",
      "source": [
        "# Fine tune shortlisted models with grid search"
      ],
      "metadata": {
        "id": "rOAf8XEAgPxS"
      }
    },
    {
      "cell_type": "markdown",
      "source": [
        "## Random forest"
      ],
      "metadata": {
        "id": "Wr0F5QIqiegq"
      }
    },
    {
      "cell_type": "code",
      "source": [
        "rf_results = fit_grid_search(\n",
        "    models_dict_=dict_subset(\n",
        "        shortlisted_models,\n",
        "        ['RandomForest']\n",
        "    ),\n",
        "    X_=X_trainval,\n",
        "    Y_=Y_trainval,\n",
        "    cv_=5,\n",
        "    scoring_='accuracy',\n",
        "    verbose=1\n",
        ")"
      ],
      "metadata": {
        "id": "P-091VIbgX6y",
        "outputId": "5a169485-cbdd-42d2-ce99-fa72955a0e11",
        "colab": {
          "base_uri": "https://localhost:8080/",
          "height": 1000
        }
      },
      "execution_count": 18,
      "outputs": [
        {
          "output_type": "stream",
          "name": "stdout",
          "text": [
            "Fitting RandomForest\n",
            "Fitting 5 folds for each of 16 candidates, totalling 80 fits\n",
            "[CV] END bootstrap=True, max_depth=4, max_features=sqrt, n_estimators=75, n_jobs=-1, random_state=42; total time=   1.7s\n",
            "[CV] END bootstrap=True, max_depth=4, max_features=sqrt, n_estimators=75, n_jobs=-1, random_state=42; total time=   0.8s\n",
            "[CV] END bootstrap=True, max_depth=4, max_features=sqrt, n_estimators=75, n_jobs=-1, random_state=42; total time=   0.7s\n",
            "[CV] END bootstrap=True, max_depth=4, max_features=sqrt, n_estimators=75, n_jobs=-1, random_state=42; total time=   0.8s\n",
            "[CV] END bootstrap=True, max_depth=4, max_features=sqrt, n_estimators=75, n_jobs=-1, random_state=42; total time=   0.7s\n",
            "[CV] END bootstrap=True, max_depth=4, max_features=sqrt, n_estimators=100, n_jobs=-1, random_state=42; total time=   1.1s\n",
            "[CV] END bootstrap=True, max_depth=4, max_features=sqrt, n_estimators=100, n_jobs=-1, random_state=42; total time=   0.9s\n",
            "[CV] END bootstrap=True, max_depth=4, max_features=sqrt, n_estimators=100, n_jobs=-1, random_state=42; total time=   1.1s\n",
            "[CV] END bootstrap=True, max_depth=4, max_features=sqrt, n_estimators=100, n_jobs=-1, random_state=42; total time=   0.9s\n",
            "[CV] END bootstrap=True, max_depth=4, max_features=sqrt, n_estimators=100, n_jobs=-1, random_state=42; total time=   0.6s\n",
            "[CV] END bootstrap=True, max_depth=4, max_features=log2, n_estimators=75, n_jobs=-1, random_state=42; total time=   0.4s\n",
            "[CV] END bootstrap=True, max_depth=4, max_features=log2, n_estimators=75, n_jobs=-1, random_state=42; total time=   0.4s\n",
            "[CV] END bootstrap=True, max_depth=4, max_features=log2, n_estimators=75, n_jobs=-1, random_state=42; total time=   0.4s\n",
            "[CV] END bootstrap=True, max_depth=4, max_features=log2, n_estimators=75, n_jobs=-1, random_state=42; total time=   0.4s\n",
            "[CV] END bootstrap=True, max_depth=4, max_features=log2, n_estimators=75, n_jobs=-1, random_state=42; total time=   0.4s\n",
            "[CV] END bootstrap=True, max_depth=4, max_features=log2, n_estimators=100, n_jobs=-1, random_state=42; total time=   0.5s\n",
            "[CV] END bootstrap=True, max_depth=4, max_features=log2, n_estimators=100, n_jobs=-1, random_state=42; total time=   0.5s\n",
            "[CV] END bootstrap=True, max_depth=4, max_features=log2, n_estimators=100, n_jobs=-1, random_state=42; total time=   0.5s\n",
            "[CV] END bootstrap=True, max_depth=4, max_features=log2, n_estimators=100, n_jobs=-1, random_state=42; total time=   0.5s\n",
            "[CV] END bootstrap=True, max_depth=4, max_features=log2, n_estimators=100, n_jobs=-1, random_state=42; total time=   0.5s\n",
            "[CV] END bootstrap=True, max_depth=6, max_features=sqrt, n_estimators=75, n_jobs=-1, random_state=42; total time=   0.5s\n",
            "[CV] END bootstrap=True, max_depth=6, max_features=sqrt, n_estimators=75, n_jobs=-1, random_state=42; total time=   0.5s\n",
            "[CV] END bootstrap=True, max_depth=6, max_features=sqrt, n_estimators=75, n_jobs=-1, random_state=42; total time=   0.5s\n",
            "[CV] END bootstrap=True, max_depth=6, max_features=sqrt, n_estimators=75, n_jobs=-1, random_state=42; total time=   0.5s\n",
            "[CV] END bootstrap=True, max_depth=6, max_features=sqrt, n_estimators=75, n_jobs=-1, random_state=42; total time=   0.5s\n",
            "[CV] END bootstrap=True, max_depth=6, max_features=sqrt, n_estimators=100, n_jobs=-1, random_state=42; total time=   0.6s\n",
            "[CV] END bootstrap=True, max_depth=6, max_features=sqrt, n_estimators=100, n_jobs=-1, random_state=42; total time=   0.6s\n",
            "[CV] END bootstrap=True, max_depth=6, max_features=sqrt, n_estimators=100, n_jobs=-1, random_state=42; total time=   0.6s\n",
            "[CV] END bootstrap=True, max_depth=6, max_features=sqrt, n_estimators=100, n_jobs=-1, random_state=42; total time=   0.6s\n",
            "[CV] END bootstrap=True, max_depth=6, max_features=sqrt, n_estimators=100, n_jobs=-1, random_state=42; total time=   0.7s\n",
            "[CV] END bootstrap=True, max_depth=6, max_features=log2, n_estimators=75, n_jobs=-1, random_state=42; total time=   0.8s\n",
            "[CV] END bootstrap=True, max_depth=6, max_features=log2, n_estimators=75, n_jobs=-1, random_state=42; total time=   0.5s\n",
            "[CV] END bootstrap=True, max_depth=6, max_features=log2, n_estimators=75, n_jobs=-1, random_state=42; total time=   0.5s\n",
            "[CV] END bootstrap=True, max_depth=6, max_features=log2, n_estimators=75, n_jobs=-1, random_state=42; total time=   0.5s\n",
            "[CV] END bootstrap=True, max_depth=6, max_features=log2, n_estimators=75, n_jobs=-1, random_state=42; total time=   0.5s\n",
            "[CV] END bootstrap=True, max_depth=6, max_features=log2, n_estimators=100, n_jobs=-1, random_state=42; total time=   0.6s\n",
            "[CV] END bootstrap=True, max_depth=6, max_features=log2, n_estimators=100, n_jobs=-1, random_state=42; total time=   0.6s\n",
            "[CV] END bootstrap=True, max_depth=6, max_features=log2, n_estimators=100, n_jobs=-1, random_state=42; total time=   0.6s\n",
            "[CV] END bootstrap=True, max_depth=6, max_features=log2, n_estimators=100, n_jobs=-1, random_state=42; total time=   0.6s\n",
            "[CV] END bootstrap=True, max_depth=6, max_features=log2, n_estimators=100, n_jobs=-1, random_state=42; total time=   0.6s\n",
            "[CV] END bootstrap=False, max_depth=4, max_features=sqrt, n_estimators=75, n_jobs=-1, random_state=42; total time=   0.5s\n",
            "[CV] END bootstrap=False, max_depth=4, max_features=sqrt, n_estimators=75, n_jobs=-1, random_state=42; total time=   0.5s\n",
            "[CV] END bootstrap=False, max_depth=4, max_features=sqrt, n_estimators=75, n_jobs=-1, random_state=42; total time=   0.5s\n",
            "[CV] END bootstrap=False, max_depth=4, max_features=sqrt, n_estimators=75, n_jobs=-1, random_state=42; total time=   0.5s\n",
            "[CV] END bootstrap=False, max_depth=4, max_features=sqrt, n_estimators=75, n_jobs=-1, random_state=42; total time=   0.5s\n",
            "[CV] END bootstrap=False, max_depth=4, max_features=sqrt, n_estimators=100, n_jobs=-1, random_state=42; total time=   0.6s\n",
            "[CV] END bootstrap=False, max_depth=4, max_features=sqrt, n_estimators=100, n_jobs=-1, random_state=42; total time=   0.6s\n",
            "[CV] END bootstrap=False, max_depth=4, max_features=sqrt, n_estimators=100, n_jobs=-1, random_state=42; total time=   0.6s\n",
            "[CV] END bootstrap=False, max_depth=4, max_features=sqrt, n_estimators=100, n_jobs=-1, random_state=42; total time=   0.6s\n",
            "[CV] END bootstrap=False, max_depth=4, max_features=sqrt, n_estimators=100, n_jobs=-1, random_state=42; total time=   0.6s\n",
            "[CV] END bootstrap=False, max_depth=4, max_features=log2, n_estimators=75, n_jobs=-1, random_state=42; total time=   0.5s\n",
            "[CV] END bootstrap=False, max_depth=4, max_features=log2, n_estimators=75, n_jobs=-1, random_state=42; total time=   0.5s\n",
            "[CV] END bootstrap=False, max_depth=4, max_features=log2, n_estimators=75, n_jobs=-1, random_state=42; total time=   0.5s\n",
            "[CV] END bootstrap=False, max_depth=4, max_features=log2, n_estimators=75, n_jobs=-1, random_state=42; total time=   0.4s\n",
            "[CV] END bootstrap=False, max_depth=4, max_features=log2, n_estimators=75, n_jobs=-1, random_state=42; total time=   0.5s\n",
            "[CV] END bootstrap=False, max_depth=4, max_features=log2, n_estimators=100, n_jobs=-1, random_state=42; total time=   0.6s\n",
            "[CV] END bootstrap=False, max_depth=4, max_features=log2, n_estimators=100, n_jobs=-1, random_state=42; total time=   0.5s\n",
            "[CV] END bootstrap=False, max_depth=4, max_features=log2, n_estimators=100, n_jobs=-1, random_state=42; total time=   0.5s\n",
            "[CV] END bootstrap=False, max_depth=4, max_features=log2, n_estimators=100, n_jobs=-1, random_state=42; total time=   0.5s\n",
            "[CV] END bootstrap=False, max_depth=4, max_features=log2, n_estimators=100, n_jobs=-1, random_state=42; total time=   0.5s\n",
            "[CV] END bootstrap=False, max_depth=6, max_features=sqrt, n_estimators=75, n_jobs=-1, random_state=42; total time=   0.6s\n",
            "[CV] END bootstrap=False, max_depth=6, max_features=sqrt, n_estimators=75, n_jobs=-1, random_state=42; total time=   0.6s\n",
            "[CV] END bootstrap=False, max_depth=6, max_features=sqrt, n_estimators=75, n_jobs=-1, random_state=42; total time=   0.6s\n",
            "[CV] END bootstrap=False, max_depth=6, max_features=sqrt, n_estimators=75, n_jobs=-1, random_state=42; total time=   0.6s\n",
            "[CV] END bootstrap=False, max_depth=6, max_features=sqrt, n_estimators=75, n_jobs=-1, random_state=42; total time=   0.6s\n",
            "[CV] END bootstrap=False, max_depth=6, max_features=sqrt, n_estimators=100, n_jobs=-1, random_state=42; total time=   0.7s\n",
            "[CV] END bootstrap=False, max_depth=6, max_features=sqrt, n_estimators=100, n_jobs=-1, random_state=42; total time=   0.7s\n",
            "[CV] END bootstrap=False, max_depth=6, max_features=sqrt, n_estimators=100, n_jobs=-1, random_state=42; total time=   0.7s\n",
            "[CV] END bootstrap=False, max_depth=6, max_features=sqrt, n_estimators=100, n_jobs=-1, random_state=42; total time=   0.7s\n",
            "[CV] END bootstrap=False, max_depth=6, max_features=sqrt, n_estimators=100, n_jobs=-1, random_state=42; total time=   0.7s\n",
            "[CV] END bootstrap=False, max_depth=6, max_features=log2, n_estimators=75, n_jobs=-1, random_state=42; total time=   0.5s\n",
            "[CV] END bootstrap=False, max_depth=6, max_features=log2, n_estimators=75, n_jobs=-1, random_state=42; total time=   0.5s\n",
            "[CV] END bootstrap=False, max_depth=6, max_features=log2, n_estimators=75, n_jobs=-1, random_state=42; total time=   0.5s\n",
            "[CV] END bootstrap=False, max_depth=6, max_features=log2, n_estimators=75, n_jobs=-1, random_state=42; total time=   0.5s\n",
            "[CV] END bootstrap=False, max_depth=6, max_features=log2, n_estimators=75, n_jobs=-1, random_state=42; total time=   0.5s\n",
            "[CV] END bootstrap=False, max_depth=6, max_features=log2, n_estimators=100, n_jobs=-1, random_state=42; total time=   0.6s\n",
            "[CV] END bootstrap=False, max_depth=6, max_features=log2, n_estimators=100, n_jobs=-1, random_state=42; total time=   0.6s\n",
            "[CV] END bootstrap=False, max_depth=6, max_features=log2, n_estimators=100, n_jobs=-1, random_state=42; total time=   0.7s\n",
            "[CV] END bootstrap=False, max_depth=6, max_features=log2, n_estimators=100, n_jobs=-1, random_state=42; total time=   0.7s\n",
            "[CV] END bootstrap=False, max_depth=6, max_features=log2, n_estimators=100, n_jobs=-1, random_state=42; total time=   0.6s\n"
          ]
        },
        {
          "output_type": "display_data",
          "data": {
            "text/plain": [
              "<Figure size 432x288 with 1 Axes>"
            ],
            "image/png": "[encoded data removed]"
          },
          "metadata": {
            "needs_background": "light"
          }
        }
      ]
    },
    {
      "cell_type": "code",
      "source": [
        "rf_results['RandomForest'].best_score_, \\\n",
        "    rf_results['RandomForest'].best_params_"
      ],
      "metadata": {
        "id": "TtTMSwS_igZl",
        "outputId": "1894269e-6013-48d2-9363-c8f4348ada5d",
        "colab": {
          "base_uri": "https://localhost:8080/"
        }
      },
      "execution_count": 19,
      "outputs": [
        {
          "output_type": "execute_result",
          "data": {
            "text/plain": [
              "(0.7788325773601106,\n",
              " {'bootstrap': False,\n",
              "  'max_depth': 6,\n",
              "  'max_features': 'sqrt',\n",
              "  'n_estimators': 100,\n",
              "  'n_jobs': -1,\n",
              "  'random_state': 42})"
            ]
          },
          "metadata": {},
          "execution_count": 19
        }
      ]
    },
    {
      "cell_type": "markdown",
      "source": [
        "## SVM"
      ],
      "metadata": {
        "id": "8ldwrJyCilfV"
      }
    },
    {
      "cell_type": "code",
      "source": [
        "from sklearn.svm import SVC\n",
        "\n",
        "svm_model = Model(\n",
        "    SVC(),\n",
        "    'SVM',\n",
        "    [\n",
        "        {\n",
        "            'random_state': [42],\n",
        "            'kernel': ['linear']\n",
        "        },\n",
        "    ],\n",
        "    []\n",
        ")"
      ],
      "metadata": {
        "id": "8zKTgiAKXJha"
      },
      "execution_count": 24,
      "outputs": []
    },
    {
      "cell_type": "code",
      "source": [
        "from sklearn_utils import fit_grid_search\n",
        "\n",
        "\n",
        "svm_results = fit_grid_search(\n",
        "    {'SVM': svm_model},\n",
        "    X_=X_trainval,\n",
        "    Y_=Y_trainval,\n",
        "    cv_=5,\n",
        "    scoring_='accuracy',\n",
        "    verbose=5\n",
        ")"
      ],
      "metadata": {
        "id": "mFD_jd0Cxirj",
        "outputId": "058f429b-1087-42e3-c4ba-fc9357b43f40",
        "colab": {
          "base_uri": "https://localhost:8080/"
        }
      },
      "execution_count": null,
      "outputs": [
        {
          "output_type": "stream",
          "name": "stdout",
          "text": [
            "Fitting SVM\n",
            "Fitting 5 folds for each of 1 candidates, totalling 5 fits\n"
          ]
        }
      ]
    },
    {
      "cell_type": "code",
      "source": [
        "# svm_results.best_score_"
      ],
      "metadata": {
        "id": "zai4My6mfA8u"
      },
      "execution_count": null,
      "outputs": []
    },
    {
      "cell_type": "markdown",
      "source": [
        "## Gradient boosting"
      ],
      "metadata": {
        "id": "nxslrJY7Xttz"
      }
    },
    {
      "cell_type": "code",
      "source": [
        "from sklearn.ensemble import GradientBoostingClassifier\n",
        "\n",
        "\n",
        "xgb_model = Model(\n",
        "    GradientBoostingClassifier(),\n",
        "    'XGB',\n",
        "    [\n",
        "        {\n",
        "            'n_estimators': [100, 150],\n",
        "            'random_state': [42],\n",
        "            'learning_rate': [0.05],\n",
        "            'max_depth': [3],\n",
        "            'max_features': [None, 'sqrt', 'log2']\n",
        "        }\n",
        "    ],\n",
        "    []\n",
        ")"
      ],
      "metadata": {
        "id": "dMPiUNjyXwNM"
      },
      "execution_count": 34,
      "outputs": []
    },
    {
      "cell_type": "code",
      "source": [
        "xgb_results = fit_grid_search(\n",
        "    models_dict_={'XGB': xgb_model},\n",
        "    X_=X_trainval,\n",
        "    Y_=Y_trainval,\n",
        "    cv_=5,\n",
        "    scoring_='accuracy',\n",
        "    verbose=2\n",
        ")"
      ],
      "metadata": {
        "id": "r_fO9n0PYLdn",
        "outputId": "7126cef8-d913-4437-99c0-ca31e0697047",
        "colab": {
          "base_uri": "https://localhost:8080/",
          "height": 890
        }
      },
      "execution_count": 35,
      "outputs": [
        {
          "output_type": "stream",
          "name": "stdout",
          "text": [
            "Fitting XGB\n",
            "Fitting 5 folds for each of 6 candidates, totalling 30 fits\n",
            "[CV] END learning_rate=0.05, max_depth=3, max_features=None, n_estimators=100, random_state=42; total time=   1.4s\n",
            "[CV] END learning_rate=0.05, max_depth=3, max_features=None, n_estimators=100, random_state=42; total time=   1.3s\n",
            "[CV] END learning_rate=0.05, max_depth=3, max_features=None, n_estimators=100, random_state=42; total time=   1.3s\n",
            "[CV] END learning_rate=0.05, max_depth=3, max_features=None, n_estimators=100, random_state=42; total time=   1.3s\n",
            "[CV] END learning_rate=0.05, max_depth=3, max_features=None, n_estimators=100, random_state=42; total time=   1.4s\n",
            "[CV] END learning_rate=0.05, max_depth=3, max_features=None, n_estimators=150, random_state=42; total time=   2.0s\n",
            "[CV] END learning_rate=0.05, max_depth=3, max_features=None, n_estimators=150, random_state=42; total time=   2.0s\n",
            "[CV] END learning_rate=0.05, max_depth=3, max_features=None, n_estimators=150, random_state=42; total time=   2.0s\n",
            "[CV] END learning_rate=0.05, max_depth=3, max_features=None, n_estimators=150, random_state=42; total time=   2.0s\n",
            "[CV] END learning_rate=0.05, max_depth=3, max_features=None, n_estimators=150, random_state=42; total time=   2.0s\n",
            "[CV] END learning_rate=0.05, max_depth=3, max_features=sqrt, n_estimators=100, random_state=42; total time=   0.4s\n",
            "[CV] END learning_rate=0.05, max_depth=3, max_features=sqrt, n_estimators=100, random_state=42; total time=   0.4s\n",
            "[CV] END learning_rate=0.05, max_depth=3, max_features=sqrt, n_estimators=100, random_state=42; total time=   0.4s\n",
            "[CV] END learning_rate=0.05, max_depth=3, max_features=sqrt, n_estimators=100, random_state=42; total time=   0.4s\n",
            "[CV] END learning_rate=0.05, max_depth=3, max_features=sqrt, n_estimators=100, random_state=42; total time=   0.4s\n",
            "[CV] END learning_rate=0.05, max_depth=3, max_features=sqrt, n_estimators=150, random_state=42; total time=   0.6s\n",
            "[CV] END learning_rate=0.05, max_depth=3, max_features=sqrt, n_estimators=150, random_state=42; total time=   0.6s\n",
            "[CV] END learning_rate=0.05, max_depth=3, max_features=sqrt, n_estimators=150, random_state=42; total time=   0.6s\n",
            "[CV] END learning_rate=0.05, max_depth=3, max_features=sqrt, n_estimators=150, random_state=42; total time=   0.6s\n",
            "[CV] END learning_rate=0.05, max_depth=3, max_features=sqrt, n_estimators=150, random_state=42; total time=   0.6s\n",
            "[CV] END learning_rate=0.05, max_depth=3, max_features=log2, n_estimators=100, random_state=42; total time=   0.4s\n",
            "[CV] END learning_rate=0.05, max_depth=3, max_features=log2, n_estimators=100, random_state=42; total time=   0.4s\n",
            "[CV] END learning_rate=0.05, max_depth=3, max_features=log2, n_estimators=100, random_state=42; total time=   0.3s\n",
            "[CV] END learning_rate=0.05, max_depth=3, max_features=log2, n_estimators=100, random_state=42; total time=   0.3s\n",
            "[CV] END learning_rate=0.05, max_depth=3, max_features=log2, n_estimators=100, random_state=42; total time=   0.4s\n",
            "[CV] END learning_rate=0.05, max_depth=3, max_features=log2, n_estimators=150, random_state=42; total time=   0.5s\n",
            "[CV] END learning_rate=0.05, max_depth=3, max_features=log2, n_estimators=150, random_state=42; total time=   0.5s\n",
            "[CV] END learning_rate=0.05, max_depth=3, max_features=log2, n_estimators=150, random_state=42; total time=   0.5s\n",
            "[CV] END learning_rate=0.05, max_depth=3, max_features=log2, n_estimators=150, random_state=42; total time=   0.5s\n",
            "[CV] END learning_rate=0.05, max_depth=3, max_features=log2, n_estimators=150, random_state=42; total time=   0.5s\n"
          ]
        },
        {
          "output_type": "display_data",
          "data": {
            "text/plain": [
              "<Figure size 432x288 with 1 Axes>"
            ],
            "image/png": "[encoded data removed]"
          },
          "metadata": {
            "needs_background": "light"
          }
        }
      ]
    },
    {
      "cell_type": "code",
      "source": [
        "xgb_results['XGB'].best_score_, \\\n",
        "    xgb_results['XGB'].best_params_"
      ],
      "metadata": {
        "id": "E7aC1FT9YqY0",
        "outputId": "ccf96abc-73b9-49c8-a0fc-15693e7c6f4c",
        "colab": {
          "base_uri": "https://localhost:8080/"
        }
      },
      "execution_count": 36,
      "outputs": [
        {
          "output_type": "execute_result",
          "data": {
            "text/plain": [
              "(0.7940757904100875,\n",
              " {'learning_rate': 0.05,\n",
              "  'max_depth': 3,\n",
              "  'max_features': None,\n",
              "  'n_estimators': 100,\n",
              "  'random_state': 42})"
            ]
          },
          "metadata": {},
          "execution_count": 36
        }
      ]
    },
    {
      "cell_type": "markdown",
      "source": [
        "## LogReg"
      ],
      "metadata": {
        "id": "GiFIDbXixwCC"
      }
    },
    {
      "cell_type": "code",
      "source": [
        "from sklearn_utils import fit_grid_search\n",
        "\n",
        "\n",
        "log_reg_results = fit_grid_search(\n",
        "    dict_subset(\n",
        "        shortlisted_models,\n",
        "        ['LogReg']\n",
        "    ),\n",
        "    X_=X_trainval,\n",
        "    Y_=Y_trainval,\n",
        "    cv_=5,\n",
        "    scoring_='accuracy',\n",
        "    verbose=1\n",
        ")"
      ],
      "metadata": {
        "id": "IYkSMdzzxyUo",
        "outputId": "86234ce2-30d1-4edb-ba81-cd93c9f18501",
        "colab": {
          "base_uri": "https://localhost:8080/",
          "height": 1000
        }
      },
      "execution_count": 21,
      "outputs": [
        {
          "output_type": "stream",
          "name": "stdout",
          "text": [
            "Fitting LogReg\n",
            "Fitting 5 folds for each of 9 candidates, totalling 45 fits\n"
          ]
        },
        {
          "output_type": "stream",
          "name": "stderr",
          "text": [
            "/usr/local/lib/python3.7/dist-packages/sklearn/linear_model/_sag.py:354: ConvergenceWarning: The max_iter was reached which means the coef_ did not converge\n",
            "  ConvergenceWarning,\n",
            "/usr/local/lib/python3.7/dist-packages/sklearn/linear_model/_sag.py:354: ConvergenceWarning: The max_iter was reached which means the coef_ did not converge\n",
            "  ConvergenceWarning,\n",
            "/usr/local/lib/python3.7/dist-packages/sklearn/linear_model/_sag.py:354: ConvergenceWarning: The max_iter was reached which means the coef_ did not converge\n",
            "  ConvergenceWarning,\n",
            "/usr/local/lib/python3.7/dist-packages/sklearn/linear_model/_sag.py:354: ConvergenceWarning: The max_iter was reached which means the coef_ did not converge\n",
            "  ConvergenceWarning,\n",
            "/usr/local/lib/python3.7/dist-packages/sklearn/linear_model/_sag.py:354: ConvergenceWarning: The max_iter was reached which means the coef_ did not converge\n",
            "  ConvergenceWarning,\n",
            "/usr/local/lib/python3.7/dist-packages/sklearn/linear_model/_sag.py:354: ConvergenceWarning: The max_iter was reached which means the coef_ did not converge\n",
            "  ConvergenceWarning,\n",
            "/usr/local/lib/python3.7/dist-packages/sklearn/linear_model/_sag.py:354: ConvergenceWarning: The max_iter was reached which means the coef_ did not converge\n",
            "  ConvergenceWarning,\n",
            "/usr/local/lib/python3.7/dist-packages/sklearn/linear_model/_sag.py:354: ConvergenceWarning: The max_iter was reached which means the coef_ did not converge\n",
            "  ConvergenceWarning,\n",
            "/usr/local/lib/python3.7/dist-packages/sklearn/linear_model/_sag.py:354: ConvergenceWarning: The max_iter was reached which means the coef_ did not converge\n",
            "  ConvergenceWarning,\n",
            "/usr/local/lib/python3.7/dist-packages/sklearn/linear_model/_sag.py:354: ConvergenceWarning: The max_iter was reached which means the coef_ did not converge\n",
            "  ConvergenceWarning,\n",
            "/usr/local/lib/python3.7/dist-packages/sklearn/linear_model/_sag.py:354: ConvergenceWarning: The max_iter was reached which means the coef_ did not converge\n",
            "  ConvergenceWarning,\n",
            "/usr/local/lib/python3.7/dist-packages/sklearn/linear_model/_sag.py:354: ConvergenceWarning: The max_iter was reached which means the coef_ did not converge\n",
            "  ConvergenceWarning,\n",
            "/usr/local/lib/python3.7/dist-packages/sklearn/linear_model/_sag.py:354: ConvergenceWarning: The max_iter was reached which means the coef_ did not converge\n",
            "  ConvergenceWarning,\n",
            "/usr/local/lib/python3.7/dist-packages/sklearn/linear_model/_sag.py:354: ConvergenceWarning: The max_iter was reached which means the coef_ did not converge\n",
            "  ConvergenceWarning,\n",
            "/usr/local/lib/python3.7/dist-packages/sklearn/linear_model/_sag.py:354: ConvergenceWarning: The max_iter was reached which means the coef_ did not converge\n",
            "  ConvergenceWarning,\n",
            "/usr/local/lib/python3.7/dist-packages/sklearn/linear_model/_sag.py:354: ConvergenceWarning: The max_iter was reached which means the coef_ did not converge\n",
            "  ConvergenceWarning,\n",
            "/usr/local/lib/python3.7/dist-packages/sklearn/linear_model/_sag.py:354: ConvergenceWarning: The max_iter was reached which means the coef_ did not converge\n",
            "  ConvergenceWarning,\n",
            "/usr/local/lib/python3.7/dist-packages/sklearn/linear_model/_sag.py:354: ConvergenceWarning: The max_iter was reached which means the coef_ did not converge\n",
            "  ConvergenceWarning,\n",
            "/usr/local/lib/python3.7/dist-packages/sklearn/linear_model/_sag.py:354: ConvergenceWarning: The max_iter was reached which means the coef_ did not converge\n",
            "  ConvergenceWarning,\n",
            "/usr/local/lib/python3.7/dist-packages/sklearn/linear_model/_sag.py:354: ConvergenceWarning: The max_iter was reached which means the coef_ did not converge\n",
            "  ConvergenceWarning,\n",
            "/usr/local/lib/python3.7/dist-packages/sklearn/linear_model/_sag.py:354: ConvergenceWarning: The max_iter was reached which means the coef_ did not converge\n",
            "  ConvergenceWarning,\n",
            "/usr/local/lib/python3.7/dist-packages/sklearn/linear_model/_sag.py:354: ConvergenceWarning: The max_iter was reached which means the coef_ did not converge\n",
            "  ConvergenceWarning,\n",
            "/usr/local/lib/python3.7/dist-packages/sklearn/linear_model/_sag.py:354: ConvergenceWarning: The max_iter was reached which means the coef_ did not converge\n",
            "  ConvergenceWarning,\n",
            "/usr/local/lib/python3.7/dist-packages/sklearn/linear_model/_sag.py:354: ConvergenceWarning: The max_iter was reached which means the coef_ did not converge\n",
            "  ConvergenceWarning,\n",
            "/usr/local/lib/python3.7/dist-packages/sklearn/linear_model/_sag.py:354: ConvergenceWarning: The max_iter was reached which means the coef_ did not converge\n",
            "  ConvergenceWarning,\n",
            "/usr/local/lib/python3.7/dist-packages/sklearn/linear_model/_sag.py:354: ConvergenceWarning: The max_iter was reached which means the coef_ did not converge\n",
            "  ConvergenceWarning,\n",
            "/usr/local/lib/python3.7/dist-packages/sklearn/linear_model/_sag.py:354: ConvergenceWarning: The max_iter was reached which means the coef_ did not converge\n",
            "  ConvergenceWarning,\n",
            "/usr/local/lib/python3.7/dist-packages/sklearn/linear_model/_sag.py:354: ConvergenceWarning: The max_iter was reached which means the coef_ did not converge\n",
            "  ConvergenceWarning,\n",
            "/usr/local/lib/python3.7/dist-packages/sklearn/linear_model/_sag.py:354: ConvergenceWarning: The max_iter was reached which means the coef_ did not converge\n",
            "  ConvergenceWarning,\n",
            "/usr/local/lib/python3.7/dist-packages/sklearn/linear_model/_sag.py:354: ConvergenceWarning: The max_iter was reached which means the coef_ did not converge\n",
            "  ConvergenceWarning,\n",
            "/usr/local/lib/python3.7/dist-packages/sklearn/linear_model/_sag.py:354: ConvergenceWarning: The max_iter was reached which means the coef_ did not converge\n",
            "  ConvergenceWarning,\n",
            "/usr/local/lib/python3.7/dist-packages/sklearn/linear_model/_sag.py:354: ConvergenceWarning: The max_iter was reached which means the coef_ did not converge\n",
            "  ConvergenceWarning,\n",
            "/usr/local/lib/python3.7/dist-packages/sklearn/linear_model/_sag.py:354: ConvergenceWarning: The max_iter was reached which means the coef_ did not converge\n",
            "  ConvergenceWarning,\n",
            "/usr/local/lib/python3.7/dist-packages/sklearn/linear_model/_sag.py:354: ConvergenceWarning: The max_iter was reached which means the coef_ did not converge\n",
            "  ConvergenceWarning,\n",
            "/usr/local/lib/python3.7/dist-packages/sklearn/linear_model/_sag.py:354: ConvergenceWarning: The max_iter was reached which means the coef_ did not converge\n",
            "  ConvergenceWarning,\n",
            "/usr/local/lib/python3.7/dist-packages/sklearn/linear_model/_sag.py:354: ConvergenceWarning: The max_iter was reached which means the coef_ did not converge\n",
            "  ConvergenceWarning,\n",
            "/usr/local/lib/python3.7/dist-packages/sklearn/linear_model/_sag.py:354: ConvergenceWarning: The max_iter was reached which means the coef_ did not converge\n",
            "  ConvergenceWarning,\n",
            "/usr/local/lib/python3.7/dist-packages/sklearn/linear_model/_sag.py:354: ConvergenceWarning: The max_iter was reached which means the coef_ did not converge\n",
            "  ConvergenceWarning,\n",
            "/usr/local/lib/python3.7/dist-packages/sklearn/linear_model/_sag.py:354: ConvergenceWarning: The max_iter was reached which means the coef_ did not converge\n",
            "  ConvergenceWarning,\n",
            "/usr/local/lib/python3.7/dist-packages/sklearn/linear_model/_sag.py:354: ConvergenceWarning: The max_iter was reached which means the coef_ did not converge\n",
            "  ConvergenceWarning,\n",
            "/usr/local/lib/python3.7/dist-packages/sklearn/linear_model/_sag.py:354: ConvergenceWarning: The max_iter was reached which means the coef_ did not converge\n",
            "  ConvergenceWarning,\n",
            "/usr/local/lib/python3.7/dist-packages/sklearn/linear_model/_sag.py:354: ConvergenceWarning: The max_iter was reached which means the coef_ did not converge\n",
            "  ConvergenceWarning,\n",
            "/usr/local/lib/python3.7/dist-packages/sklearn/linear_model/_sag.py:354: ConvergenceWarning: The max_iter was reached which means the coef_ did not converge\n",
            "  ConvergenceWarning,\n",
            "/usr/local/lib/python3.7/dist-packages/sklearn/linear_model/_sag.py:354: ConvergenceWarning: The max_iter was reached which means the coef_ did not converge\n",
            "  ConvergenceWarning,\n",
            "/usr/local/lib/python3.7/dist-packages/sklearn/linear_model/_sag.py:354: ConvergenceWarning: The max_iter was reached which means the coef_ did not converge\n",
            "  ConvergenceWarning,\n",
            "/usr/local/lib/python3.7/dist-packages/sklearn/linear_model/_sag.py:354: ConvergenceWarning: The max_iter was reached which means the coef_ did not converge\n",
            "  ConvergenceWarning,\n"
          ]
        },
        {
          "output_type": "display_data",
          "data": {
            "text/plain": [
              "<Figure size 432x288 with 1 Axes>"
            ],
            "image/png": "[encoded data removed]"
          },
          "metadata": {
            "needs_background": "light"
          }
        }
      ]
    },
    {
      "cell_type": "code",
      "source": [
        "log_reg_results['LogReg'].best_score_, \\\n",
        "    log_reg_results['LogReg'].best_params_"
      ],
      "metadata": {
        "id": "rdzTPo6t18CK",
        "outputId": "264e49b2-910e-49c5-e411-5c702eeaeee5",
        "colab": {
          "base_uri": "https://localhost:8080/"
        }
      },
      "execution_count": 22,
      "outputs": [
        {
          "output_type": "execute_result",
          "data": {
            "text/plain": [
              "(0.7640185364289446,\n",
              " {'C': 0.01,\n",
              "  'l1_ratio': 0,\n",
              "  'penalty': 'elasticnet',\n",
              "  'random_state': 42,\n",
              "  'solver': 'saga'})"
            ]
          },
          "metadata": {},
          "execution_count": 22
        }
      ]
    },
    {
      "cell_type": "markdown",
      "source": [
        "# Saving models"
      ],
      "metadata": {
        "id": "CsVOMjbc4I3p"
      }
    },
    {
      "cell_type": "code",
      "source": [
        "res_models = {\n",
        "    # **log_reg_results,\n",
        "    **xgb_results\n",
        "    # **rf_results\n",
        "}\n",
        "res_models"
      ],
      "metadata": {
        "id": "4z_VlVbN4X2_",
        "outputId": "e164c1d9-3c89-4712-da10-87a2738a2d7e",
        "colab": {
          "base_uri": "https://localhost:8080/"
        }
      },
      "execution_count": 37,
      "outputs": [
        {
          "output_type": "execute_result",
          "data": {
            "text/plain": [
              "{'XGB': GridSearchCV(cv=5, estimator=GradientBoostingClassifier(),\n",
              "              param_grid=[{'learning_rate': [0.05], 'max_depth': [3],\n",
              "                           'max_features': [None, 'sqrt', 'log2'],\n",
              "                           'n_estimators': [100, 150], 'random_state': [42]}],\n",
              "              return_train_score=True, scoring='accuracy', verbose=2)}"
            ]
          },
          "metadata": {},
          "execution_count": 37
        }
      ]
    },
    {
      "cell_type": "code",
      "source": [
        "manager.save_models(\n",
        "    {\n",
        "        f'{model_name}_gridsearch': result.best_estimator_\n",
        "        for model_name, result in res_models.items()\n",
        "    }\n",
        ")"
      ],
      "metadata": {
        "id": "ZWo-2Mmy4Jxk"
      },
      "execution_count": 38,
      "outputs": []
    }
  ]
}