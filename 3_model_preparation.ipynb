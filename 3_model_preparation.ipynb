{
  "nbformat": 4,
  "nbformat_minor": 0,
  "metadata": {
    "colab": {
      "provenance": [],
      "toc_visible": true,
      "authorship_tag": "ABX9TyOA/RMEMCgmtUdZtJaPuJ88",
      "include_colab_link": true
    },
    "kernelspec": {
      "name": "python3",
      "display_name": "Python 3"
    },
    "language_info": {
      "name": "python"
    }
  },
  "cells": [
    {
      "cell_type": "markdown",
      "metadata": {
        "id": "view-in-github",
        "colab_type": "text"
      },
      "source": [
        "<a href=\"https://colab.research.google.com/github/PashaIanko/Kaggle.Spaceship-Titanic/blob/main/3_model_preparation.ipynb\" target=\"_parent\"><img src=\"https://colab.research.google.com/assets/colab-badge.svg\" alt=\"Open In Colab\"/></a>"
      ]
    },
    {
      "cell_type": "markdown",
      "source": [
        "# Imports"
      ],
      "metadata": {
        "id": "7yVqYdL2W1JZ"
      }
    },
    {
      "cell_type": "code",
      "execution_count": 1,
      "metadata": {
        "id": "bv1M4eV9Wwab"
      },
      "outputs": [],
      "source": [
        "from google.colab import drive\n",
        "\n",
        "import numpy as np\n",
        "\n",
        "import pandas as pd\n",
        "\n",
        "import os\n",
        "\n",
        "from sklearn.model_selection import cross_val_score"
      ]
    },
    {
      "cell_type": "code",
      "source": [
        "# optuna for hyperparameter turning\n",
        "try:\n",
        "  import optuna\n",
        "except ModuleNotFoundError:\n",
        "  !pip install optuna \n",
        "\n",
        "import optuna\n",
        "from optuna.visualization import plot_optimization_history, plot_param_importances\n",
        "optuna.logging.set_verbosity(optuna.logging.WARNING)"
      ],
      "metadata": {
        "colab": {
          "base_uri": "https://localhost:8080/"
        },
        "id": "nktD3tgUNLHQ",
        "outputId": "1c174b41-5c92-4cd2-ab8b-e472d3bbaf4d"
      },
      "execution_count": 2,
      "outputs": [
        {
          "output_type": "stream",
          "name": "stdout",
          "text": [
            "Looking in indexes: https://pypi.org/simple, https://us-python.pkg.dev/colab-wheels/public/simple/\n",
            "Collecting optuna\n",
            "  Downloading optuna-3.0.3-py3-none-any.whl (348 kB)\n",
            "\u001b[K     |████████████████████████████████| 348 kB 16.0 MB/s \n",
            "\u001b[?25hCollecting alembic>=1.5.0\n",
            "  Downloading alembic-1.8.1-py3-none-any.whl (209 kB)\n",
            "\u001b[K     |████████████████████████████████| 209 kB 68.6 MB/s \n",
            "\u001b[?25hRequirement already satisfied: PyYAML in /usr/local/lib/python3.7/dist-packages (from optuna) (6.0)\n",
            "Requirement already satisfied: importlib-metadata<5.0.0 in /usr/local/lib/python3.7/dist-packages (from optuna) (4.13.0)\n",
            "Requirement already satisfied: tqdm in /usr/local/lib/python3.7/dist-packages (from optuna) (4.64.1)\n",
            "Collecting colorlog\n",
            "  Downloading colorlog-6.7.0-py2.py3-none-any.whl (11 kB)\n",
            "Requirement already satisfied: sqlalchemy>=1.3.0 in /usr/local/lib/python3.7/dist-packages (from optuna) (1.4.43)\n",
            "Requirement already satisfied: numpy in /usr/local/lib/python3.7/dist-packages (from optuna) (1.21.6)\n",
            "Requirement already satisfied: scipy<1.9.0,>=1.7.0 in /usr/local/lib/python3.7/dist-packages (from optuna) (1.7.3)\n",
            "Requirement already satisfied: packaging>=20.0 in /usr/local/lib/python3.7/dist-packages (from optuna) (21.3)\n",
            "Collecting cliff\n",
            "  Downloading cliff-3.10.1-py3-none-any.whl (81 kB)\n",
            "\u001b[K     |████████████████████████████████| 81 kB 8.2 MB/s \n",
            "\u001b[?25hCollecting cmaes>=0.8.2\n",
            "  Downloading cmaes-0.9.0-py3-none-any.whl (23 kB)\n",
            "Requirement already satisfied: importlib-resources in /usr/local/lib/python3.7/dist-packages (from alembic>=1.5.0->optuna) (5.10.0)\n",
            "Collecting Mako\n",
            "  Downloading Mako-1.2.4-py3-none-any.whl (78 kB)\n",
            "\u001b[K     |████████████████████████████████| 78 kB 7.2 MB/s \n",
            "\u001b[?25hRequirement already satisfied: zipp>=0.5 in /usr/local/lib/python3.7/dist-packages (from importlib-metadata<5.0.0->optuna) (3.10.0)\n",
            "Requirement already satisfied: typing-extensions>=3.6.4 in /usr/local/lib/python3.7/dist-packages (from importlib-metadata<5.0.0->optuna) (4.1.1)\n",
            "Requirement already satisfied: pyparsing!=3.0.5,>=2.0.2 in /usr/local/lib/python3.7/dist-packages (from packaging>=20.0->optuna) (3.0.9)\n",
            "Requirement already satisfied: greenlet!=0.4.17 in /usr/local/lib/python3.7/dist-packages (from sqlalchemy>=1.3.0->optuna) (2.0.1)\n",
            "Collecting autopage>=0.4.0\n",
            "  Downloading autopage-0.5.1-py3-none-any.whl (29 kB)\n",
            "Collecting cmd2>=1.0.0\n",
            "  Downloading cmd2-2.4.2-py3-none-any.whl (147 kB)\n",
            "\u001b[K     |████████████████████████████████| 147 kB 61.1 MB/s \n",
            "\u001b[?25hRequirement already satisfied: PrettyTable>=0.7.2 in /usr/local/lib/python3.7/dist-packages (from cliff->optuna) (3.5.0)\n",
            "Collecting stevedore>=2.0.1\n",
            "  Downloading stevedore-3.5.2-py3-none-any.whl (50 kB)\n",
            "\u001b[K     |████████████████████████████████| 50 kB 5.9 MB/s \n",
            "\u001b[?25hCollecting pbr!=2.1.0,>=2.0.0\n",
            "  Downloading pbr-5.11.0-py2.py3-none-any.whl (112 kB)\n",
            "\u001b[K     |████████████████████████████████| 112 kB 72.9 MB/s \n",
            "\u001b[?25hRequirement already satisfied: attrs>=16.3.0 in /usr/local/lib/python3.7/dist-packages (from cmd2>=1.0.0->cliff->optuna) (22.1.0)\n",
            "Requirement already satisfied: wcwidth>=0.1.7 in /usr/local/lib/python3.7/dist-packages (from cmd2>=1.0.0->cliff->optuna) (0.2.5)\n",
            "Collecting pyperclip>=1.6\n",
            "  Downloading pyperclip-1.8.2.tar.gz (20 kB)\n",
            "Requirement already satisfied: MarkupSafe>=0.9.2 in /usr/local/lib/python3.7/dist-packages (from Mako->alembic>=1.5.0->optuna) (2.0.1)\n",
            "Building wheels for collected packages: pyperclip\n",
            "  Building wheel for pyperclip (setup.py) ... \u001b[?25l\u001b[?25hdone\n",
            "  Created wheel for pyperclip: filename=pyperclip-1.8.2-py3-none-any.whl size=11137 sha256=a1a80809e623fdfd6231378d711d7eee6ef92777a131c524a901429d71aa3475\n",
            "  Stored in directory: /root/.cache/pip/wheels/9f/18/84/8f69f8b08169c7bae2dde6bd7daf0c19fca8c8e500ee620a28\n",
            "Successfully built pyperclip\n",
            "Installing collected packages: pyperclip, pbr, stevedore, Mako, cmd2, autopage, colorlog, cmaes, cliff, alembic, optuna\n",
            "Successfully installed Mako-1.2.4 alembic-1.8.1 autopage-0.5.1 cliff-3.10.1 cmaes-0.9.0 cmd2-2.4.2 colorlog-6.7.0 optuna-3.0.3 pbr-5.11.0 pyperclip-1.8.2 stevedore-3.5.2\n"
          ]
        }
      ]
    },
    {
      "cell_type": "code",
      "source": [
        "%%capture\n",
        "!pip install catboost"
      ],
      "metadata": {
        "id": "gVWZSqwFf_jz"
      },
      "execution_count": 3,
      "outputs": []
    },
    {
      "cell_type": "markdown",
      "source": [
        "## PEP8 standard"
      ],
      "metadata": {
        "id": "CTa8zW4wW4RI"
      }
    },
    {
      "cell_type": "code",
      "source": [
        "%%capture\n",
        "!pip install pycodestyle\n",
        "!pip install --index-url https://test.pypi.org/simple/ nbpep8\n",
        "\n",
        "from nbpep8.nbpep8 import pep8"
      ],
      "metadata": {
        "id": "v0gjPO7pW7CV"
      },
      "execution_count": 4,
      "outputs": []
    },
    {
      "cell_type": "markdown",
      "source": [
        "## Importing custom packages"
      ],
      "metadata": {
        "id": "4mQrysTyXCeb"
      }
    },
    {
      "cell_type": "code",
      "source": [
        "%%capture\n",
        "def download_files(url_dict):\n",
        "    for file, url in url_dict.items():\n",
        "        !wget -O {file} {url} {file}\n",
        "\n",
        "\n",
        "git_download_path = \\\n",
        "    'https://raw.githubusercontent.com/PashaIanko/Sklearn-Utils/main/'\n",
        "\n",
        "files = [\n",
        "    'path_manager.py',\n",
        "    'sklearn_transformers.py',\n",
        "    'sklearn_utils.py',\n",
        "    'model.py'\n",
        "]\n",
        "\n",
        "url_dict = {file: git_download_path + file for file in files}\n",
        "download_files(url_dict)"
      ],
      "metadata": {
        "id": "jGf7K3s1W3vW"
      },
      "execution_count": 5,
      "outputs": []
    },
    {
      "cell_type": "code",
      "source": [
        "import importlib\n",
        "import path_manager\n",
        "import sklearn_utils\n",
        "import sklearn_transformers\n",
        "import model\n",
        "\n",
        "\n",
        "def reload_modules(modules):\n",
        "    for module in modules:\n",
        "        importlib.reload(module)\n",
        "\n",
        "\n",
        "reload_modules(\n",
        "    [\n",
        "        path_manager,\n",
        "        sklearn_transformers,\n",
        "        sklearn_utils,\n",
        "        model\n",
        "    ]\n",
        ")\n",
        "\n",
        "from path_manager import PathManager\n",
        "from sklearn_transformers import ColumnDropper\n",
        "from sklearn_utils import inf_statistics\n",
        "from model import Model\n",
        "from sklearn_utils import fit_grid_search\n",
        "from sklearn_utils import dict_subset"
      ],
      "metadata": {
        "id": "nvO2CpAZXW0Z"
      },
      "execution_count": 6,
      "outputs": []
    },
    {
      "cell_type": "markdown",
      "source": [
        "# Set up paths"
      ],
      "metadata": {
        "id": "iMrpxL6zXMez"
      }
    },
    {
      "cell_type": "code",
      "source": [
        "drive.mount('/content/gdrive')\n",
        "gdrive_path = '/content/gdrive/MyDrive/'\n",
        "\n",
        "PREPROC_TRIAL = 10\n",
        "MODELS_TRIAL = 10\n",
        "COMPETITION_PATH = gdrive_path + 'ML/Competitions/6.SpaceshipTitanic/'\n",
        "\n",
        "manager = PathManager(\n",
        "    competition_path=COMPETITION_PATH,\n",
        "    preprocessing_trial=PREPROC_TRIAL,\n",
        "    models_trial=MODELS_TRIAL\n",
        ")\n",
        "manager.setup_paths()"
      ],
      "metadata": {
        "colab": {
          "base_uri": "https://localhost:8080/"
        },
        "id": "A5MRTpfaXKuZ",
        "outputId": "af4b4e84-4292-4f52-bc02-1de496f33d4e"
      },
      "execution_count": 7,
      "outputs": [
        {
          "output_type": "stream",
          "name": "stdout",
          "text": [
            "Mounted at /content/gdrive\n",
            "/content/gdrive/MyDrive/ML/Competitions/6.SpaceshipTitanic/Data/preproc_trial_10 already exists\n",
            "/content/gdrive/MyDrive/ML/Competitions/6.SpaceshipTitanic/Models/trial_10 already exists\n"
          ]
        }
      ]
    },
    {
      "cell_type": "markdown",
      "source": [
        "# Fixing seed"
      ],
      "metadata": {
        "id": "Dstvp4lxXy86"
      }
    },
    {
      "cell_type": "code",
      "source": [
        "RANDOM_SEED = 42\n",
        "RANDOM_STATE = RANDOM_SEED\n",
        "\n",
        "np.random.seed(42)"
      ],
      "metadata": {
        "id": "7npCPy2jX0NK"
      },
      "execution_count": 8,
      "outputs": []
    },
    {
      "cell_type": "markdown",
      "source": [
        "# Download the data"
      ],
      "metadata": {
        "id": "3_J-YIyxXk3y"
      }
    },
    {
      "cell_type": "code",
      "source": [
        "os.listdir(manager.data_trial_path)"
      ],
      "metadata": {
        "colab": {
          "base_uri": "https://localhost:8080/"
        },
        "id": "Wpf0urw3Xo0D",
        "outputId": "89e088cb-43ae-4cd0-97d0-ea70aaf3eb83"
      },
      "execution_count": 9,
      "outputs": [
        {
          "output_type": "execute_result",
          "data": {
            "text/plain": [
              "['trainval_processed.csv', 'test_sample_processed.csv', 'test_processed.csv']"
            ]
          },
          "metadata": {},
          "execution_count": 9
        }
      ]
    },
    {
      "cell_type": "code",
      "source": [
        "df_trainval = pd.read_csv(\n",
        "    os.path.join(\n",
        "        manager.data_trial_path,\n",
        "        'trainval_processed.csv'\n",
        "    ),\n",
        "    index_col='Unnamed: 0'\n",
        ")\n",
        "print(df_trainval.shape)\n",
        "\n",
        "X_trainval = df_trainval.values[:, :-1]\n",
        "Y_trainval = df_trainval.values[:, -1]"
      ],
      "metadata": {
        "id": "26yMwvMeXhan",
        "outputId": "932bd4d9-ba3c-4c67-8a3f-f1661dcf0608",
        "colab": {
          "base_uri": "https://localhost:8080/"
        }
      },
      "execution_count": 10,
      "outputs": [
        {
          "output_type": "stream",
          "name": "stdout",
          "text": [
            "(6954, 24)\n"
          ]
        }
      ]
    },
    {
      "cell_type": "code",
      "source": [
        "df_test_sample = pd.read_csv(\n",
        "    os.path.join(\n",
        "        manager.data_trial_path,\n",
        "        'test_sample_processed.csv'\n",
        "    ),\n",
        "    index_col='Unnamed: 0'\n",
        ")\n",
        "print(df_test_sample.shape)\n",
        "\n",
        "X_test_sample = df_test_sample.values[:, :-1]\n",
        "Y_test_sample = df_test_sample.values[:, -1]"
      ],
      "metadata": {
        "id": "wuHTCoIqYGak",
        "outputId": "7f2cad67-e02d-4156-f085-583eb6c2c462",
        "colab": {
          "base_uri": "https://localhost:8080/"
        }
      },
      "execution_count": 11,
      "outputs": [
        {
          "output_type": "stream",
          "name": "stdout",
          "text": [
            "(1739, 24)\n"
          ]
        }
      ]
    },
    {
      "cell_type": "code",
      "source": [
        "df_trainval.head()"
      ],
      "metadata": {
        "id": "-l_rqD4O_yja",
        "outputId": "93ea2c99-9846-4dae-8f0f-e8d552b82116",
        "colab": {
          "base_uri": "https://localhost:8080/",
          "height": 0
        }
      },
      "execution_count": 12,
      "outputs": [
        {
          "output_type": "execute_result",
          "data": {
            "text/plain": [
              "          0         1         2         3         4         5         6  \\\n",
              "0 -0.459516 -0.409755 -0.441999 -0.429520 -0.426892 -0.689617 -0.587588   \n",
              "1 -0.459516 -0.409755 -0.441999 -0.429520 -0.426892 -0.689617 -0.806212   \n",
              "2 -0.459516 -0.409755 -0.441999 -0.429520 -0.426892 -0.689617 -0.806212   \n",
              "3 -0.459516 -0.409755 -0.441999 -0.429520 -0.426892 -0.689617 -0.806212   \n",
              "4 -0.459516 -0.409755 -0.214310 -0.427099  3.432164  2.296368  2.496800   \n",
              "\n",
              "          7    8    9  ...        14        15   16   17        18        19  \\\n",
              "0 -1.826866  1.0  0.0  ...  0.857143  0.071038  0.0  0.0  2.392570 -0.277637   \n",
              "1 -0.857321  1.0  0.0  ...  0.857143 -0.777867  0.0  1.0 -0.490454 -1.226031   \n",
              "2  0.485127  1.0  0.0  ...  0.857143  1.758954  0.0  1.0 -0.490454  1.716911   \n",
              "3 -0.186097  0.0  1.0  ...  0.428571 -0.851082  0.0  1.0 -0.490454  0.304434   \n",
              "4 -1.155642  1.0  0.0  ...  0.857143  0.443052  1.0  1.0 -0.490454  0.174835   \n",
              "\n",
              "    20        21   22   23  \n",
              "0  1.0  3.130413  0.0  1.0  \n",
              "1  1.0 -0.650221  0.0  1.0  \n",
              "2  0.0 -0.650221  0.0  0.0  \n",
              "3  1.0 -0.650221  0.0  1.0  \n",
              "4  1.0 -0.650221  1.0  0.0  \n",
              "\n",
              "[5 rows x 24 columns]"
            ],
            "text/html": [
              "\n",
              "  <div id=\"df-4bfe619e-91db-488b-8278-ffa8139ff97d\">\n",
              "    <div class=\"colab-df-container\">\n",
              "      <div>\n",
              "<style scoped>\n",
              "    .dataframe tbody tr th:only-of-type {\n",
              "        vertical-align: middle;\n",
              "    }\n",
              "\n",
              "    .dataframe tbody tr th {\n",
              "        vertical-align: top;\n",
              "    }\n",
              "\n",
              "    .dataframe thead th {\n",
              "        text-align: right;\n",
              "    }\n",
              "</style>\n",
              "<table border=\"1\" class=\"dataframe\">\n",
              "  <thead>\n",
              "    <tr style=\"text-align: right;\">\n",
              "      <th></th>\n",
              "      <th>0</th>\n",
              "      <th>1</th>\n",
              "      <th>2</th>\n",
              "      <th>3</th>\n",
              "      <th>4</th>\n",
              "      <th>5</th>\n",
              "      <th>6</th>\n",
              "      <th>7</th>\n",
              "      <th>8</th>\n",
              "      <th>9</th>\n",
              "      <th>...</th>\n",
              "      <th>14</th>\n",
              "      <th>15</th>\n",
              "      <th>16</th>\n",
              "      <th>17</th>\n",
              "      <th>18</th>\n",
              "      <th>19</th>\n",
              "      <th>20</th>\n",
              "      <th>21</th>\n",
              "      <th>22</th>\n",
              "      <th>23</th>\n",
              "    </tr>\n",
              "  </thead>\n",
              "  <tbody>\n",
              "    <tr>\n",
              "      <th>0</th>\n",
              "      <td>-0.459516</td>\n",
              "      <td>-0.409755</td>\n",
              "      <td>-0.441999</td>\n",
              "      <td>-0.429520</td>\n",
              "      <td>-0.426892</td>\n",
              "      <td>-0.689617</td>\n",
              "      <td>-0.587588</td>\n",
              "      <td>-1.826866</td>\n",
              "      <td>1.0</td>\n",
              "      <td>0.0</td>\n",
              "      <td>...</td>\n",
              "      <td>0.857143</td>\n",
              "      <td>0.071038</td>\n",
              "      <td>0.0</td>\n",
              "      <td>0.0</td>\n",
              "      <td>2.392570</td>\n",
              "      <td>-0.277637</td>\n",
              "      <td>1.0</td>\n",
              "      <td>3.130413</td>\n",
              "      <td>0.0</td>\n",
              "      <td>1.0</td>\n",
              "    </tr>\n",
              "    <tr>\n",
              "      <th>1</th>\n",
              "      <td>-0.459516</td>\n",
              "      <td>-0.409755</td>\n",
              "      <td>-0.441999</td>\n",
              "      <td>-0.429520</td>\n",
              "      <td>-0.426892</td>\n",
              "      <td>-0.689617</td>\n",
              "      <td>-0.806212</td>\n",
              "      <td>-0.857321</td>\n",
              "      <td>1.0</td>\n",
              "      <td>0.0</td>\n",
              "      <td>...</td>\n",
              "      <td>0.857143</td>\n",
              "      <td>-0.777867</td>\n",
              "      <td>0.0</td>\n",
              "      <td>1.0</td>\n",
              "      <td>-0.490454</td>\n",
              "      <td>-1.226031</td>\n",
              "      <td>1.0</td>\n",
              "      <td>-0.650221</td>\n",
              "      <td>0.0</td>\n",
              "      <td>1.0</td>\n",
              "    </tr>\n",
              "    <tr>\n",
              "      <th>2</th>\n",
              "      <td>-0.459516</td>\n",
              "      <td>-0.409755</td>\n",
              "      <td>-0.441999</td>\n",
              "      <td>-0.429520</td>\n",
              "      <td>-0.426892</td>\n",
              "      <td>-0.689617</td>\n",
              "      <td>-0.806212</td>\n",
              "      <td>0.485127</td>\n",
              "      <td>1.0</td>\n",
              "      <td>0.0</td>\n",
              "      <td>...</td>\n",
              "      <td>0.857143</td>\n",
              "      <td>1.758954</td>\n",
              "      <td>0.0</td>\n",
              "      <td>1.0</td>\n",
              "      <td>-0.490454</td>\n",
              "      <td>1.716911</td>\n",
              "      <td>0.0</td>\n",
              "      <td>-0.650221</td>\n",
              "      <td>0.0</td>\n",
              "      <td>0.0</td>\n",
              "    </tr>\n",
              "    <tr>\n",
              "      <th>3</th>\n",
              "      <td>-0.459516</td>\n",
              "      <td>-0.409755</td>\n",
              "      <td>-0.441999</td>\n",
              "      <td>-0.429520</td>\n",
              "      <td>-0.426892</td>\n",
              "      <td>-0.689617</td>\n",
              "      <td>-0.806212</td>\n",
              "      <td>-0.186097</td>\n",
              "      <td>0.0</td>\n",
              "      <td>1.0</td>\n",
              "      <td>...</td>\n",
              "      <td>0.428571</td>\n",
              "      <td>-0.851082</td>\n",
              "      <td>0.0</td>\n",
              "      <td>1.0</td>\n",
              "      <td>-0.490454</td>\n",
              "      <td>0.304434</td>\n",
              "      <td>1.0</td>\n",
              "      <td>-0.650221</td>\n",
              "      <td>0.0</td>\n",
              "      <td>1.0</td>\n",
              "    </tr>\n",
              "    <tr>\n",
              "      <th>4</th>\n",
              "      <td>-0.459516</td>\n",
              "      <td>-0.409755</td>\n",
              "      <td>-0.214310</td>\n",
              "      <td>-0.427099</td>\n",
              "      <td>3.432164</td>\n",
              "      <td>2.296368</td>\n",
              "      <td>2.496800</td>\n",
              "      <td>-1.155642</td>\n",
              "      <td>1.0</td>\n",
              "      <td>0.0</td>\n",
              "      <td>...</td>\n",
              "      <td>0.857143</td>\n",
              "      <td>0.443052</td>\n",
              "      <td>1.0</td>\n",
              "      <td>1.0</td>\n",
              "      <td>-0.490454</td>\n",
              "      <td>0.174835</td>\n",
              "      <td>1.0</td>\n",
              "      <td>-0.650221</td>\n",
              "      <td>1.0</td>\n",
              "      <td>0.0</td>\n",
              "    </tr>\n",
              "  </tbody>\n",
              "</table>\n",
              "<p>5 rows × 24 columns</p>\n",
              "</div>\n",
              "      <button class=\"colab-df-convert\" onclick=\"convertToInteractive('df-4bfe619e-91db-488b-8278-ffa8139ff97d')\"\n",
              "              title=\"Convert this dataframe to an interactive table.\"\n",
              "              style=\"display:none;\">\n",
              "        \n",
              "  <svg xmlns=\"http://www.w3.org/2000/svg\" height=\"24px\"viewBox=\"0 0 24 24\"\n",
              "       width=\"24px\">\n",
              "    <path d=\"M0 0h24v24H0V0z\" fill=\"none\"/>\n",
              "    <path d=\"M18.56 5.44l.94 2.06.94-2.06 2.06-.94-2.06-.94-.94-2.06-.94 2.06-2.06.94zm-11 1L8.5 8.5l.94-2.06 2.06-.94-2.06-.94L8.5 2.5l-.94 2.06-2.06.94zm10 10l.94 2.06.94-2.06 2.06-.94-2.06-.94-.94-2.06-.94 2.06-2.06.94z\"/><path d=\"M17.41 7.96l-1.37-1.37c-.4-.4-.92-.59-1.43-.59-.52 0-1.04.2-1.43.59L10.3 9.45l-7.72 7.72c-.78.78-.78 2.05 0 2.83L4 21.41c.39.39.9.59 1.41.59.51 0 1.02-.2 1.41-.59l7.78-7.78 2.81-2.81c.8-.78.8-2.07 0-2.86zM5.41 20L4 18.59l7.72-7.72 1.47 1.35L5.41 20z\"/>\n",
              "  </svg>\n",
              "      </button>\n",
              "      \n",
              "  <style>\n",
              "    .colab-df-container {\n",
              "      display:flex;\n",
              "      flex-wrap:wrap;\n",
              "      gap: 12px;\n",
              "    }\n",
              "\n",
              "    .colab-df-convert {\n",
              "      background-color: #E8F0FE;\n",
              "      border: none;\n",
              "      border-radius: 50%;\n",
              "      cursor: pointer;\n",
              "      display: none;\n",
              "      fill: #1967D2;\n",
              "      height: 32px;\n",
              "      padding: 0 0 0 0;\n",
              "      width: 32px;\n",
              "    }\n",
              "\n",
              "    .colab-df-convert:hover {\n",
              "      background-color: #E2EBFA;\n",
              "      box-shadow: 0px 1px 2px rgba(60, 64, 67, 0.3), 0px 1px 3px 1px rgba(60, 64, 67, 0.15);\n",
              "      fill: #174EA6;\n",
              "    }\n",
              "\n",
              "    [theme=dark] .colab-df-convert {\n",
              "      background-color: #3B4455;\n",
              "      fill: #D2E3FC;\n",
              "    }\n",
              "\n",
              "    [theme=dark] .colab-df-convert:hover {\n",
              "      background-color: #434B5C;\n",
              "      box-shadow: 0px 1px 3px 1px rgba(0, 0, 0, 0.15);\n",
              "      filter: drop-shadow(0px 1px 2px rgba(0, 0, 0, 0.3));\n",
              "      fill: #FFFFFF;\n",
              "    }\n",
              "  </style>\n",
              "\n",
              "      <script>\n",
              "        const buttonEl =\n",
              "          document.querySelector('#df-4bfe619e-91db-488b-8278-ffa8139ff97d button.colab-df-convert');\n",
              "        buttonEl.style.display =\n",
              "          google.colab.kernel.accessAllowed ? 'block' : 'none';\n",
              "\n",
              "        async function convertToInteractive(key) {\n",
              "          const element = document.querySelector('#df-4bfe619e-91db-488b-8278-ffa8139ff97d');\n",
              "          const dataTable =\n",
              "            await google.colab.kernel.invokeFunction('convertToInteractive',\n",
              "                                                     [key], {});\n",
              "          if (!dataTable) return;\n",
              "\n",
              "          const docLinkHtml = 'Like what you see? Visit the ' +\n",
              "            '<a target=\"_blank\" href=https://colab.research.google.com/notebooks/data_table.ipynb>data table notebook</a>'\n",
              "            + ' to learn more about interactive tables.';\n",
              "          element.innerHTML = '';\n",
              "          dataTable['output_type'] = 'display_data';\n",
              "          await google.colab.output.renderOutput(dataTable, element);\n",
              "          const docLink = document.createElement('div');\n",
              "          docLink.innerHTML = docLinkHtml;\n",
              "          element.appendChild(docLink);\n",
              "        }\n",
              "      </script>\n",
              "    </div>\n",
              "  </div>\n",
              "  "
            ]
          },
          "metadata": {},
          "execution_count": 12
        }
      ]
    },
    {
      "cell_type": "markdown",
      "source": [
        "# Define models"
      ],
      "metadata": {
        "id": "2Kx50_bOYrOA"
      }
    },
    {
      "cell_type": "code",
      "source": [
        "from sklearn.linear_model import LogisticRegression"
      ],
      "metadata": {
        "id": "_6C7zqyxYuZZ"
      },
      "execution_count": 13,
      "outputs": []
    },
    {
      "cell_type": "code",
      "source": [
        "LogReg = Model(\n",
        "    LogisticRegression(),\n",
        "    'LogReg',\n",
        "    [\n",
        "        {\n",
        "            'penalty': ['elasticnet'],\n",
        "            'C': [0.01, 0.05, 0.1],\n",
        "            'random_state': [RANDOM_STATE],\n",
        "            'solver': ['saga'],\n",
        "            'l1_ratio': [0, 0.01, 0.05]\n",
        "        }\n",
        "    ],\n",
        "    [\n",
        "\n",
        "    ]\n",
        ")"
      ],
      "metadata": {
        "id": "ZDIsSHtEYMHU"
      },
      "execution_count": 14,
      "outputs": []
    },
    {
      "cell_type": "code",
      "source": [
        "from sklearn.ensemble import RandomForestClassifier\n",
        "\n",
        "\n",
        "RandomForest = Model(\n",
        "    RandomForestClassifier(),\n",
        "    'RandomForest',\n",
        "    [\n",
        "        {\n",
        "            'n_estimators': [75, 125],\n",
        "            'max_depth': [6],\n",
        "            'bootstrap': [True],\n",
        "            'max_features': ['sqrt', 'log2'],\n",
        "            'random_state': [42],\n",
        "            'n_jobs': [-1]\n",
        "        }\n",
        "    ],\n",
        "    [\n",
        "\n",
        "    ]\n",
        ")"
      ],
      "metadata": {
        "id": "p5Yst9VMfi1K"
      },
      "execution_count": 15,
      "outputs": []
    },
    {
      "cell_type": "code",
      "source": [
        "from sklearn.svm import SVC\n",
        "\n",
        "\n",
        "SVM = Model(\n",
        "    SVC(),\n",
        "    'SVM',\n",
        "    [\n",
        "        {\n",
        "            'C': [0.05, 0.1, 0.5, 1.0],\n",
        "            'kernel': ['linear', 'rbf', 'poly'],\n",
        "            'random_state': [RANDOM_STATE]\n",
        "        }\n",
        "    ],\n",
        "    [\n",
        "        \n",
        "    ]\n",
        ")"
      ],
      "metadata": {
        "id": "owyAZXVRfx1G"
      },
      "execution_count": 16,
      "outputs": []
    },
    {
      "cell_type": "code",
      "source": [
        "from lightgbm import LGBMClassifier\n",
        "\n",
        "\n",
        "light_gbm_model = Model(\n",
        "    LGBMClassifier(),\n",
        "    'LGBM',\n",
        "    [\n",
        "        {\n",
        "            'objective': ['binary'],\n",
        "            'random_state': [RANDOM_STATE],\n",
        "            'boosting': ['dart'],\n",
        "            'learning_rate': [0.1, 0.15],\n",
        "            'max_depth': [3, 4],\n",
        "            'n_estimators': [100, 150, 300],\n",
        "            'lambda_l1': [0.07],\n",
        "            'lambda_l2': [0.07]\n",
        "        }\n",
        "    ],\n",
        "    []\n",
        ")"
      ],
      "metadata": {
        "id": "sfzjK8WMtEMO"
      },
      "execution_count": 17,
      "outputs": []
    },
    {
      "cell_type": "code",
      "source": [
        "all_models = {\n",
        "    model.name: model\n",
        "    for model in [\n",
        "        LogReg,\n",
        "        RandomForest,\n",
        "        light_gbm_model,\n",
        "        # SVM\n",
        "    ]\n",
        "}"
      ],
      "metadata": {
        "id": "59nL5KL_Y9Ty"
      },
      "execution_count": 18,
      "outputs": []
    },
    {
      "cell_type": "markdown",
      "source": [
        "# Shortlist models based on cross-validation behavior"
      ],
      "metadata": {
        "id": "JdsRgy7afXlI"
      }
    },
    {
      "cell_type": "code",
      "source": [
        "from sklearn_utils import plot_cv_results\n",
        "\n",
        "\n",
        "np.random.seed(RANDOM_SEED)\n",
        "\n",
        "res = plot_cv_results(\n",
        "    sklearn_models_dict_={\n",
        "        model_name: model.model\n",
        "        for model_name, model in all_models.items()\n",
        "    },\n",
        "    X_=X_trainval,\n",
        "    Y_=Y_trainval,\n",
        "    cv_=5,\n",
        "    scoring_='accuracy',  # 'accuracy'\n",
        "    to_put_minus_=False\n",
        ")"
      ],
      "metadata": {
        "id": "B7kMU00dZdP2",
        "outputId": "acd2db45-d0eb-482a-91ce-ee36d0230482",
        "colab": {
          "base_uri": "https://localhost:8080/",
          "height": 958
        }
      },
      "execution_count": null,
      "outputs": [
        {
          "output_type": "stream",
          "name": "stdout",
          "text": [
            "Model           Seen folds avg score    Seen folds std    Unseen folds avg score    Unseen folds std\n",
            "------------  ----------------------  ----------------  ------------------------  ------------------\n",
            "LogReg                      0.792673        0.00242217                  0.790049          0.00516871\n",
            "RandomForest                1               0                           0.795515          0.00832758\n",
            "LGBM                        0.910771        0.00259223                  0.801843          0.0110457\n"
          ]
        },
        {
          "output_type": "display_data",
          "data": {
            "text/plain": [
              "<Figure size 432x288 with 1 Axes>"
            ],
            "image/png": "[encoded data removed]"
          },
          "metadata": {
            "needs_background": "light"
          }
        },
        {
          "output_type": "display_data",
          "data": {
            "text/plain": [
              "<Figure size 432x288 with 1 Axes>"
            ],
            "image/png": "[encoded data removed]"
          },
          "metadata": {
            "needs_background": "light"
          }
        },
        {
          "output_type": "display_data",
          "data": {
            "text/plain": [
              "<Figure size 432x288 with 1 Axes>"
            ],
            "image/png": "[encoded data removed]"
          },
          "metadata": {
            "needs_background": "light"
          }
        }
      ]
    },
    {
      "cell_type": "code",
      "source": [
        "shortlisted_models = {\n",
        "    model.name: model\n",
        "    for model in [\n",
        "        LogReg,\n",
        "        # SVM,\n",
        "        RandomForest,\n",
        "        light_gbm_model\n",
        "    ]\n",
        "}"
      ],
      "metadata": {
        "id": "r9x-2htUfb6W"
      },
      "execution_count": null,
      "outputs": []
    },
    {
      "cell_type": "markdown",
      "source": [
        "# Fine tune shortlisted models with grid search"
      ],
      "metadata": {
        "id": "rOAf8XEAgPxS"
      }
    },
    {
      "cell_type": "markdown",
      "source": [
        "## Random forest"
      ],
      "metadata": {
        "id": "Wr0F5QIqiegq"
      }
    },
    {
      "cell_type": "code",
      "source": [
        "rf_results = fit_grid_search(\n",
        "    models_dict_=dict_subset(\n",
        "        shortlisted_models,\n",
        "        ['RandomForest']\n",
        "    ),\n",
        "    X_=X_trainval,\n",
        "    Y_=Y_trainval,\n",
        "    cv_=5,\n",
        "    scoring_='accuracy',\n",
        "    verbose=2\n",
        ")"
      ],
      "metadata": {
        "id": "P-091VIbgX6y",
        "outputId": "10ee21cc-3a2a-4d1b-c306-24305296b1ca",
        "colab": {
          "base_uri": "https://localhost:8080/",
          "height": 697
        }
      },
      "execution_count": null,
      "outputs": [
        {
          "output_type": "stream",
          "name": "stdout",
          "text": [
            "Fitting RandomForest\n",
            "Fitting 5 folds for each of 4 candidates, totalling 20 fits\n",
            "[CV] END bootstrap=True, max_depth=6, max_features=sqrt, n_estimators=75, n_jobs=-1, random_state=42; total time=   1.9s\n",
            "[CV] END bootstrap=True, max_depth=6, max_features=sqrt, n_estimators=75, n_jobs=-1, random_state=42; total time=   0.6s\n",
            "[CV] END bootstrap=True, max_depth=6, max_features=sqrt, n_estimators=75, n_jobs=-1, random_state=42; total time=   0.6s\n",
            "[CV] END bootstrap=True, max_depth=6, max_features=sqrt, n_estimators=75, n_jobs=-1, random_state=42; total time=   0.6s\n",
            "[CV] END bootstrap=True, max_depth=6, max_features=sqrt, n_estimators=75, n_jobs=-1, random_state=42; total time=   0.6s\n",
            "[CV] END bootstrap=True, max_depth=6, max_features=sqrt, n_estimators=125, n_jobs=-1, random_state=42; total time=   0.8s\n",
            "[CV] END bootstrap=True, max_depth=6, max_features=sqrt, n_estimators=125, n_jobs=-1, random_state=42; total time=   0.8s\n",
            "[CV] END bootstrap=True, max_depth=6, max_features=sqrt, n_estimators=125, n_jobs=-1, random_state=42; total time=   0.8s\n",
            "[CV] END bootstrap=True, max_depth=6, max_features=sqrt, n_estimators=125, n_jobs=-1, random_state=42; total time=   0.9s\n",
            "[CV] END bootstrap=True, max_depth=6, max_features=sqrt, n_estimators=125, n_jobs=-1, random_state=42; total time=   0.8s\n",
            "[CV] END bootstrap=True, max_depth=6, max_features=log2, n_estimators=75, n_jobs=-1, random_state=42; total time=   0.6s\n",
            "[CV] END bootstrap=True, max_depth=6, max_features=log2, n_estimators=75, n_jobs=-1, random_state=42; total time=   0.6s\n",
            "[CV] END bootstrap=True, max_depth=6, max_features=log2, n_estimators=75, n_jobs=-1, random_state=42; total time=   0.6s\n",
            "[CV] END bootstrap=True, max_depth=6, max_features=log2, n_estimators=75, n_jobs=-1, random_state=42; total time=   0.6s\n",
            "[CV] END bootstrap=True, max_depth=6, max_features=log2, n_estimators=75, n_jobs=-1, random_state=42; total time=   0.6s\n",
            "[CV] END bootstrap=True, max_depth=6, max_features=log2, n_estimators=125, n_jobs=-1, random_state=42; total time=   0.7s\n",
            "[CV] END bootstrap=True, max_depth=6, max_features=log2, n_estimators=125, n_jobs=-1, random_state=42; total time=   1.3s\n",
            "[CV] END bootstrap=True, max_depth=6, max_features=log2, n_estimators=125, n_jobs=-1, random_state=42; total time=   1.4s\n",
            "[CV] END bootstrap=True, max_depth=6, max_features=log2, n_estimators=125, n_jobs=-1, random_state=42; total time=   1.3s\n",
            "[CV] END bootstrap=True, max_depth=6, max_features=log2, n_estimators=125, n_jobs=-1, random_state=42; total time=   0.8s\n"
          ]
        },
        {
          "output_type": "display_data",
          "data": {
            "text/plain": [
              "<Figure size 432x288 with 1 Axes>"
            ],
            "image/png": "[encoded data removed]"
          },
          "metadata": {
            "needs_background": "light"
          }
        }
      ]
    },
    {
      "cell_type": "code",
      "source": [
        "rf_results['RandomForest'].best_score_, \\\n",
        "    rf_results['RandomForest'].best_params_"
      ],
      "metadata": {
        "id": "TtTMSwS_igZl",
        "outputId": "4ccac4e9-6fd5-40f9-86ee-e66cbb5bd462",
        "colab": {
          "base_uri": "https://localhost:8080/"
        }
      },
      "execution_count": null,
      "outputs": [
        {
          "output_type": "execute_result",
          "data": {
            "text/plain": [
              "(0.7712117466343245,\n",
              " {'bootstrap': True,\n",
              "  'max_depth': 6,\n",
              "  'max_features': 'sqrt',\n",
              "  'n_estimators': 75,\n",
              "  'n_jobs': -1,\n",
              "  'random_state': 42})"
            ]
          },
          "metadata": {},
          "execution_count": 25
        }
      ]
    },
    {
      "cell_type": "markdown",
      "source": [
        "## SVM"
      ],
      "metadata": {
        "id": "8ldwrJyCilfV"
      }
    },
    {
      "cell_type": "code",
      "source": [
        "from sklearn.svm import SVC\n",
        "\n",
        "svm_model = Model(\n",
        "    SVC(),\n",
        "    'SVM',\n",
        "    [\n",
        "        {\n",
        "            'random_state': [42],\n",
        "            'kernel': ['linear', 'rbf']\n",
        "        },\n",
        "    ],\n",
        "    []\n",
        ")"
      ],
      "metadata": {
        "id": "8zKTgiAKXJha"
      },
      "execution_count": null,
      "outputs": []
    },
    {
      "cell_type": "code",
      "source": [
        "from sklearn_utils import fit_grid_search\n",
        "\n",
        "\n",
        "svm_results = fit_grid_search(\n",
        "    {'SVM': svm_model},\n",
        "    X_=X_trainval,\n",
        "    Y_=Y_trainval,\n",
        "    cv_=5,\n",
        "    scoring_='accuracy',\n",
        "    verbose=5\n",
        ")"
      ],
      "metadata": {
        "id": "mFD_jd0Cxirj",
        "outputId": "6a7daecc-9311-4d3d-e158-53e2b9701780",
        "colab": {
          "base_uri": "https://localhost:8080/",
          "height": 523
        }
      },
      "execution_count": null,
      "outputs": [
        {
          "output_type": "stream",
          "name": "stdout",
          "text": [
            "Fitting SVM\n",
            "Fitting 5 folds for each of 2 candidates, totalling 10 fits\n",
            "[CV 1/5] END kernel=linear, random_state=42;, score=(train=0.791, test=0.772) total time=   2.0s\n",
            "[CV 2/5] END kernel=linear, random_state=42;, score=(train=0.786, test=0.794) total time=   1.9s\n",
            "[CV 3/5] END kernel=linear, random_state=42;, score=(train=0.789, test=0.772) total time=   2.0s\n",
            "[CV 4/5] END kernel=linear, random_state=42;, score=(train=0.786, test=0.793) total time=   1.9s\n",
            "[CV 5/5] END kernel=linear, random_state=42;, score=(train=0.785, test=0.793) total time=   1.8s\n",
            "[CV 1/5] END kernel=rbf, random_state=42;, score=(train=0.813, test=0.781) total time=   1.7s\n",
            "[CV 2/5] END kernel=rbf, random_state=42;, score=(train=0.813, test=0.798) total time=   1.7s\n",
            "[CV 3/5] END kernel=rbf, random_state=42;, score=(train=0.812, test=0.783) total time=   1.7s\n",
            "[CV 4/5] END kernel=rbf, random_state=42;, score=(train=0.812, test=0.802) total time=   1.7s\n",
            "[CV 5/5] END kernel=rbf, random_state=42;, score=(train=0.808, test=0.807) total time=   1.7s\n"
          ]
        },
        {
          "output_type": "display_data",
          "data": {
            "text/plain": [
              "<Figure size 432x288 with 1 Axes>"
            ],
            "image/png": "[encoded data removed]"
          },
          "metadata": {
            "needs_background": "light"
          }
        }
      ]
    },
    {
      "cell_type": "code",
      "source": [
        "svm_results['SVM'].best_score_"
      ],
      "metadata": {
        "id": "zai4My6mfA8u",
        "colab": {
          "base_uri": "https://localhost:8080/"
        },
        "outputId": "5fff3edf-4d00-4dbe-a257-b26d01c93261"
      },
      "execution_count": null,
      "outputs": [
        {
          "output_type": "execute_result",
          "data": {
            "text/plain": [
              "0.7942210200207913"
            ]
          },
          "metadata": {},
          "execution_count": 33
        }
      ]
    },
    {
      "cell_type": "markdown",
      "source": [
        "## Gradient boosting"
      ],
      "metadata": {
        "id": "nxslrJY7Xttz"
      }
    },
    {
      "cell_type": "code",
      "source": [
        "from sklearn.ensemble import GradientBoostingClassifier\n",
        "\n",
        "\n",
        "xgb_model = Model(\n",
        "    GradientBoostingClassifier(),\n",
        "    'XGB',\n",
        "    [\n",
        "        {\n",
        "            'n_estimators': [100, 150],\n",
        "            'random_state': [42],\n",
        "            'learning_rate': [0.05],\n",
        "            'max_depth': [3],\n",
        "            'max_features': [None, 'sqrt', 'log2']\n",
        "        }\n",
        "    ],\n",
        "    []\n",
        ")"
      ],
      "metadata": {
        "id": "dMPiUNjyXwNM"
      },
      "execution_count": null,
      "outputs": []
    },
    {
      "cell_type": "code",
      "source": [
        "xgb_results = fit_grid_search(\n",
        "    models_dict_={'XGB': xgb_model},\n",
        "    X_=X_trainval,\n",
        "    Y_=Y_trainval,\n",
        "    cv_=5,\n",
        "    scoring_='accuracy',\n",
        "    verbose=2\n",
        ")"
      ],
      "metadata": {
        "id": "r_fO9n0PYLdn",
        "outputId": "44618882-7949-4444-f560-12feb97472e2",
        "colab": {
          "base_uri": "https://localhost:8080/",
          "height": 870
        }
      },
      "execution_count": null,
      "outputs": [
        {
          "output_type": "stream",
          "name": "stdout",
          "text": [
            "Fitting XGB\n",
            "Fitting 5 folds for each of 6 candidates, totalling 30 fits\n",
            "[CV] END learning_rate=0.05, max_depth=3, max_features=None, n_estimators=100, random_state=42; total time=   1.5s\n",
            "[CV] END learning_rate=0.05, max_depth=3, max_features=None, n_estimators=100, random_state=42; total time=   1.5s\n",
            "[CV] END learning_rate=0.05, max_depth=3, max_features=None, n_estimators=100, random_state=42; total time=   1.7s\n",
            "[CV] END learning_rate=0.05, max_depth=3, max_features=None, n_estimators=100, random_state=42; total time=   1.5s\n",
            "[CV] END learning_rate=0.05, max_depth=3, max_features=None, n_estimators=100, random_state=42; total time=   1.5s\n",
            "[CV] END learning_rate=0.05, max_depth=3, max_features=None, n_estimators=150, random_state=42; total time=   2.3s\n",
            "[CV] END learning_rate=0.05, max_depth=3, max_features=None, n_estimators=150, random_state=42; total time=   2.3s\n",
            "[CV] END learning_rate=0.05, max_depth=3, max_features=None, n_estimators=150, random_state=42; total time=   2.3s\n",
            "[CV] END learning_rate=0.05, max_depth=3, max_features=None, n_estimators=150, random_state=42; total time=   2.3s\n",
            "[CV] END learning_rate=0.05, max_depth=3, max_features=None, n_estimators=150, random_state=42; total time=   2.3s\n",
            "[CV] END learning_rate=0.05, max_depth=3, max_features=sqrt, n_estimators=100, random_state=42; total time=   0.4s\n",
            "[CV] END learning_rate=0.05, max_depth=3, max_features=sqrt, n_estimators=100, random_state=42; total time=   0.4s\n",
            "[CV] END learning_rate=0.05, max_depth=3, max_features=sqrt, n_estimators=100, random_state=42; total time=   0.4s\n",
            "[CV] END learning_rate=0.05, max_depth=3, max_features=sqrt, n_estimators=100, random_state=42; total time=   0.4s\n",
            "[CV] END learning_rate=0.05, max_depth=3, max_features=sqrt, n_estimators=100, random_state=42; total time=   0.4s\n",
            "[CV] END learning_rate=0.05, max_depth=3, max_features=sqrt, n_estimators=150, random_state=42; total time=   0.6s\n",
            "[CV] END learning_rate=0.05, max_depth=3, max_features=sqrt, n_estimators=150, random_state=42; total time=   0.6s\n",
            "[CV] END learning_rate=0.05, max_depth=3, max_features=sqrt, n_estimators=150, random_state=42; total time=   0.6s\n",
            "[CV] END learning_rate=0.05, max_depth=3, max_features=sqrt, n_estimators=150, random_state=42; total time=   0.6s\n",
            "[CV] END learning_rate=0.05, max_depth=3, max_features=sqrt, n_estimators=150, random_state=42; total time=   0.6s\n",
            "[CV] END learning_rate=0.05, max_depth=3, max_features=log2, n_estimators=100, random_state=42; total time=   0.4s\n",
            "[CV] END learning_rate=0.05, max_depth=3, max_features=log2, n_estimators=100, random_state=42; total time=   0.4s\n",
            "[CV] END learning_rate=0.05, max_depth=3, max_features=log2, n_estimators=100, random_state=42; total time=   0.4s\n",
            "[CV] END learning_rate=0.05, max_depth=3, max_features=log2, n_estimators=100, random_state=42; total time=   0.4s\n",
            "[CV] END learning_rate=0.05, max_depth=3, max_features=log2, n_estimators=100, random_state=42; total time=   0.4s\n",
            "[CV] END learning_rate=0.05, max_depth=3, max_features=log2, n_estimators=150, random_state=42; total time=   0.6s\n",
            "[CV] END learning_rate=0.05, max_depth=3, max_features=log2, n_estimators=150, random_state=42; total time=   0.6s\n",
            "[CV] END learning_rate=0.05, max_depth=3, max_features=log2, n_estimators=150, random_state=42; total time=   0.6s\n",
            "[CV] END learning_rate=0.05, max_depth=3, max_features=log2, n_estimators=150, random_state=42; total time=   0.6s\n",
            "[CV] END learning_rate=0.05, max_depth=3, max_features=log2, n_estimators=150, random_state=42; total time=   0.6s\n"
          ]
        },
        {
          "output_type": "display_data",
          "data": {
            "text/plain": [
              "<Figure size 432x288 with 1 Axes>"
            ],
            "image/png": "[encoded data removed]"
          },
          "metadata": {
            "needs_background": "light"
          }
        }
      ]
    },
    {
      "cell_type": "code",
      "source": [
        "xgb_results['XGB'].best_score_, \\\n",
        "    xgb_results['XGB'].best_params_"
      ],
      "metadata": {
        "id": "E7aC1FT9YqY0",
        "outputId": "295817e7-a548-47b4-cf2d-7a923b4b0d81",
        "colab": {
          "base_uri": "https://localhost:8080/"
        }
      },
      "execution_count": null,
      "outputs": [
        {
          "output_type": "execute_result",
          "data": {
            "text/plain": [
              "(0.7955141221314824,\n",
              " {'learning_rate': 0.05,\n",
              "  'max_depth': 3,\n",
              "  'max_features': None,\n",
              "  'n_estimators': 150,\n",
              "  'random_state': 42})"
            ]
          },
          "metadata": {},
          "execution_count": 36
        }
      ]
    },
    {
      "cell_type": "markdown",
      "source": [
        "## Adaptive boosting"
      ],
      "metadata": {
        "id": "hcp_NEdyeRBS"
      }
    },
    {
      "cell_type": "code",
      "source": [
        "from sklearn.ensemble import AdaBoostClassifier\n",
        "from sklearn.tree import DecisionTreeClassifier\n",
        "\n",
        "\n",
        "ada_boost = Model(\n",
        "    AdaBoostClassifier(),\n",
        "    'AdaBoost',\n",
        "    [\n",
        "        {\n",
        "            'n_estimators': [50, 100],\n",
        "            'random_state': [42],\n",
        "            'base_estimator': [\n",
        "                # DecisionTreeClassifier(max_depth=2),\n",
        "                DecisionTreeClassifier(\n",
        "                    max_depth=3,\n",
        "                    random_state=RANDOM_STATE,\n",
        "                    # bootstrap=True\n",
        "                ),\n",
        "                # LogisticRegression(random_state=RANDOM_STATE)\n",
        "\n",
        "            ],\n",
        "            'learning_rate': [0.05]\n",
        "        }\n",
        "    ],\n",
        "    [\n",
        "\n",
        "    ]\n",
        ")"
      ],
      "metadata": {
        "id": "guJM_z-WeS9b"
      },
      "execution_count": null,
      "outputs": []
    },
    {
      "cell_type": "code",
      "source": [
        "ada_boost_results = fit_grid_search(\n",
        "    models_dict_={'AdaBoost': ada_boost},\n",
        "    X_=X_trainval,\n",
        "    Y_=Y_trainval,\n",
        "    cv_=5,\n",
        "    scoring_='accuracy',\n",
        "    verbose=2\n",
        ")"
      ],
      "metadata": {
        "colab": {
          "base_uri": "https://localhost:8080/",
          "height": 523
        },
        "id": "MtOpii-EenN0",
        "outputId": "cf0569d8-afbb-44ec-8ae3-9c8a952bfca5"
      },
      "execution_count": null,
      "outputs": [
        {
          "output_type": "stream",
          "name": "stdout",
          "text": [
            "Fitting AdaBoost\n",
            "Fitting 5 folds for each of 2 candidates, totalling 10 fits\n",
            "[CV] END base_estimator=DecisionTreeClassifier(max_depth=3, random_state=42), learning_rate=0.05, n_estimators=50, random_state=42; total time=   0.9s\n",
            "[CV] END base_estimator=DecisionTreeClassifier(max_depth=3, random_state=42), learning_rate=0.05, n_estimators=50, random_state=42; total time=   0.9s\n",
            "[CV] END base_estimator=DecisionTreeClassifier(max_depth=3, random_state=42), learning_rate=0.05, n_estimators=50, random_state=42; total time=   0.9s\n",
            "[CV] END base_estimator=DecisionTreeClassifier(max_depth=3, random_state=42), learning_rate=0.05, n_estimators=50, random_state=42; total time=   0.9s\n",
            "[CV] END base_estimator=DecisionTreeClassifier(max_depth=3, random_state=42), learning_rate=0.05, n_estimators=50, random_state=42; total time=   0.9s\n",
            "[CV] END base_estimator=DecisionTreeClassifier(max_depth=3, random_state=42), learning_rate=0.05, n_estimators=100, random_state=42; total time=   2.5s\n",
            "[CV] END base_estimator=DecisionTreeClassifier(max_depth=3, random_state=42), learning_rate=0.05, n_estimators=100, random_state=42; total time=   2.1s\n",
            "[CV] END base_estimator=DecisionTreeClassifier(max_depth=3, random_state=42), learning_rate=0.05, n_estimators=100, random_state=42; total time=   1.7s\n",
            "[CV] END base_estimator=DecisionTreeClassifier(max_depth=3, random_state=42), learning_rate=0.05, n_estimators=100, random_state=42; total time=   1.8s\n",
            "[CV] END base_estimator=DecisionTreeClassifier(max_depth=3, random_state=42), learning_rate=0.05, n_estimators=100, random_state=42; total time=   1.8s\n"
          ]
        },
        {
          "output_type": "display_data",
          "data": {
            "text/plain": [
              "<Figure size 432x288 with 1 Axes>"
            ],
            "image/png": "[encoded data removed]"
          },
          "metadata": {
            "needs_background": "light"
          }
        }
      ]
    },
    {
      "cell_type": "code",
      "source": [
        "ada_boost_results['AdaBoost'].best_score_, \\\n",
        "    ada_boost_results['AdaBoost'].best_params_"
      ],
      "metadata": {
        "colab": {
          "base_uri": "https://localhost:8080/"
        },
        "id": "gsMwbqTIfFEt",
        "outputId": "f2cf60f6-dac9-45c6-96b8-1f302b0f8527"
      },
      "execution_count": null,
      "outputs": [
        {
          "output_type": "execute_result",
          "data": {
            "text/plain": [
              "(0.791488138030194,\n",
              " {'base_estimator': DecisionTreeClassifier(max_depth=3, random_state=42),\n",
              "  'learning_rate': 0.05,\n",
              "  'n_estimators': 50,\n",
              "  'random_state': 42})"
            ]
          },
          "metadata": {},
          "execution_count": 48
        }
      ]
    },
    {
      "cell_type": "markdown",
      "source": [
        "## CatBoost"
      ],
      "metadata": {
        "id": "F4853AF4fvE9"
      }
    },
    {
      "cell_type": "code",
      "source": [
        "from catboost import CatBoostClassifier\n",
        "\n",
        "\n",
        "cat_boost_model = Model(\n",
        "    CatBoostClassifier(),\n",
        "    'CatBoost',\n",
        "    [\n",
        "        {\n",
        "            # 'n_estimators': [150],\n",
        "            'depth': [5],\n",
        "            'reg_lambda': [0.01, 0.0],\n",
        "            'verbose': [0],\n",
        "            'random_state': [42],\n",
        "            'iterations': [200, 2000]\n",
        "        }\n",
        "    ],\n",
        "    [\n",
        "        {\n",
        "            'n_estimators': [i for i in range(100, 1000)],\n",
        "            'depth': [i for i in range(2, 15)],\n",
        "            'random_state': [i for i in range(100)],\n",
        "            'reg_lambda': [0.001, 0.0001, 0.01, 0.1, 0.00001, 0.0]\n",
        "        }\n",
        "        \n",
        "     \n",
        "    ]\n",
        ")"
      ],
      "metadata": {
        "id": "Ytaa6DFPfwjN"
      },
      "execution_count": 24,
      "outputs": []
    },
    {
      "cell_type": "code",
      "source": [
        "from sklearn_utils import fit_randomized_search"
      ],
      "metadata": {
        "id": "Czs4tMkQotMR",
        "outputId": "ead426fe-e107-4f1f-cbc2-f00789dd4d52",
        "colab": {
          "base_uri": "https://localhost:8080/",
          "height": 200
        }
      },
      "execution_count": 26,
      "outputs": [
        {
          "output_type": "error",
          "ename": "TypeError",
          "evalue": "ignored",
          "traceback": [
            "\u001b[0;31m---------------------------------------------------------------------------\u001b[0m",
            "\u001b[0;31mTypeError\u001b[0m                                 Traceback (most recent call last)",
            "\u001b[0;32m<ipython-input-26-b39e11599a11>\u001b[0m in \u001b[0;36m<module>\u001b[0;34m\u001b[0m\n\u001b[1;32m      1\u001b[0m \u001b[0;32mfrom\u001b[0m \u001b[0msklearn_utils\u001b[0m \u001b[0;32mimport\u001b[0m \u001b[0mfit_randomized_search\u001b[0m\u001b[0;34m\u001b[0m\u001b[0;34m\u001b[0m\u001b[0m\n\u001b[0;32m----> 2\u001b[0;31m \u001b[0mfit_randomized_search\u001b[0m\u001b[0;34m(\u001b[0m\u001b[0;34m)\u001b[0m\u001b[0;34m\u001b[0m\u001b[0;34m\u001b[0m\u001b[0m\n\u001b[0m",
            "\u001b[0;31mTypeError\u001b[0m: fit_randomized_search() missing 6 required positional arguments: 'models_dict_', 'X_', 'Y_', 'cv_', 'n_iter_', and 'scoring_'"
          ]
        }
      ]
    },
    {
      "cell_type": "code",
      "source": [
        "cat_boost_results_random = fit_randomized_search(\n",
        "    {'CatBoost': cat_boost_model},\n",
        "    X_=X_trainval,\n",
        "    Y_=Y_trainval,\n",
        "    cv_=5,\n",
        "    scoring_='accuracy',\n",
        "    n_iter_=10\n",
        ")"
      ],
      "metadata": {
        "id": "WlAhQbglomj4",
        "outputId": "2a88fe68-e4cb-41e6-f8af-15163c7b6158",
        "colab": {
          "base_uri": "https://localhost:8080/"
        }
      },
      "execution_count": null,
      "outputs": [
        {
          "output_type": "stream",
          "name": "stdout",
          "text": [
            "Fitting CatBoost\n",
            "0:\tlearn: 0.6687397\ttotal: 376ms\tremaining: 5m 34s\n",
            "1:\tlearn: 0.6582057\ttotal: 384ms\tremaining: 2m 50s\n",
            "2:\tlearn: 0.6331927\ttotal: 692ms\tremaining: 3m 24s\n",
            "3:\tlearn: 0.6038090\ttotal: 932ms\tremaining: 3m 26s\n",
            "4:\tlearn: 0.5828436\ttotal: 1.16s\tremaining: 3m 25s\n",
            "5:\tlearn: 0.5625208\ttotal: 1.39s\tremaining: 3m 25s\n",
            "6:\tlearn: 0.5417185\ttotal: 1.62s\tremaining: 3m 23s\n",
            "7:\tlearn: 0.5248241\ttotal: 1.88s\tremaining: 3m 27s\n",
            "8:\tlearn: 0.5142929\ttotal: 2.11s\tremaining: 3m 25s\n",
            "9:\tlearn: 0.4995133\ttotal: 2.33s\tremaining: 3m 24s\n",
            "10:\tlearn: 0.4801214\ttotal: 2.56s\tremaining: 3m 24s\n",
            "11:\tlearn: 0.4677348\ttotal: 2.78s\tremaining: 3m 23s\n",
            "12:\tlearn: 0.4562001\ttotal: 3.01s\tremaining: 3m 22s\n",
            "13:\tlearn: 0.4431843\ttotal: 3.25s\tremaining: 3m 23s\n",
            "14:\tlearn: 0.4295992\ttotal: 3.48s\tremaining: 3m 22s\n",
            "15:\tlearn: 0.4160945\ttotal: 3.7s\tremaining: 3m 21s\n",
            "16:\tlearn: 0.4053173\ttotal: 3.94s\tremaining: 3m 22s\n",
            "17:\tlearn: 0.3947069\ttotal: 4.17s\tremaining: 3m 21s\n",
            "18:\tlearn: 0.3900798\ttotal: 4.4s\tremaining: 3m 21s\n",
            "19:\tlearn: 0.3790277\ttotal: 4.76s\tremaining: 3m 26s\n",
            "20:\tlearn: 0.3718605\ttotal: 5s\tremaining: 3m 26s\n",
            "21:\tlearn: 0.3673769\ttotal: 5.23s\tremaining: 3m 26s\n",
            "22:\tlearn: 0.3635201\ttotal: 5.46s\tremaining: 3m 25s\n",
            "23:\tlearn: 0.3572031\ttotal: 5.7s\tremaining: 3m 25s\n",
            "24:\tlearn: 0.3511580\ttotal: 5.95s\tremaining: 3m 25s\n",
            "25:\tlearn: 0.3450120\ttotal: 6.24s\tremaining: 3m 27s\n",
            "26:\tlearn: 0.3415207\ttotal: 6.52s\tremaining: 3m 28s\n",
            "27:\tlearn: 0.3369601\ttotal: 6.84s\tremaining: 3m 30s\n",
            "28:\tlearn: 0.3344343\ttotal: 7.22s\tremaining: 3m 34s\n",
            "29:\tlearn: 0.3262815\ttotal: 7.44s\tremaining: 3m 33s\n",
            "30:\tlearn: 0.3212053\ttotal: 7.67s\tremaining: 3m 32s\n",
            "31:\tlearn: 0.3133853\ttotal: 7.9s\tremaining: 3m 31s\n",
            "32:\tlearn: 0.3050965\ttotal: 8.13s\tremaining: 3m 30s\n",
            "33:\tlearn: 0.3026034\ttotal: 8.36s\tremaining: 3m 30s\n",
            "34:\tlearn: 0.2946462\ttotal: 8.6s\tremaining: 3m 29s\n",
            "35:\tlearn: 0.2894973\ttotal: 8.83s\tremaining: 3m 29s\n",
            "36:\tlearn: 0.2835279\ttotal: 9.07s\tremaining: 3m 28s\n",
            "37:\tlearn: 0.2799690\ttotal: 9.3s\tremaining: 3m 28s\n",
            "38:\tlearn: 0.2750221\ttotal: 9.54s\tremaining: 3m 27s\n",
            "39:\tlearn: 0.2701518\ttotal: 9.77s\tremaining: 3m 27s\n",
            "40:\tlearn: 0.2659888\ttotal: 10s\tremaining: 3m 26s\n",
            "41:\tlearn: 0.2639320\ttotal: 10.2s\tremaining: 3m 26s\n",
            "42:\tlearn: 0.2596446\ttotal: 10.5s\tremaining: 3m 25s\n",
            "43:\tlearn: 0.2565426\ttotal: 10.7s\tremaining: 3m 25s\n",
            "44:\tlearn: 0.2533080\ttotal: 10.9s\tremaining: 3m 24s\n",
            "45:\tlearn: 0.2475611\ttotal: 11.2s\tremaining: 3m 24s\n",
            "46:\tlearn: 0.2413503\ttotal: 11.4s\tremaining: 3m 24s\n",
            "47:\tlearn: 0.2376793\ttotal: 11.6s\tremaining: 3m 23s\n",
            "48:\tlearn: 0.2353093\ttotal: 11.8s\tremaining: 3m 23s\n",
            "49:\tlearn: 0.2324538\ttotal: 12.1s\tremaining: 3m 22s\n",
            "50:\tlearn: 0.2258429\ttotal: 12.3s\tremaining: 3m 22s\n",
            "51:\tlearn: 0.2217744\ttotal: 12.6s\tremaining: 3m 22s\n",
            "52:\tlearn: 0.2196779\ttotal: 12.8s\tremaining: 3m 22s\n",
            "53:\tlearn: 0.2180912\ttotal: 13s\tremaining: 3m 21s\n",
            "54:\tlearn: 0.2162337\ttotal: 13.3s\tremaining: 3m 21s\n",
            "55:\tlearn: 0.2119168\ttotal: 13.5s\tremaining: 3m 21s\n",
            "56:\tlearn: 0.2102560\ttotal: 13.7s\tremaining: 3m 20s\n",
            "57:\tlearn: 0.2075470\ttotal: 14s\tremaining: 3m 20s\n",
            "58:\tlearn: 0.2052898\ttotal: 14.2s\tremaining: 3m 19s\n",
            "59:\tlearn: 0.2021617\ttotal: 14.4s\tremaining: 3m 19s\n",
            "60:\tlearn: 0.1999323\ttotal: 14.7s\tremaining: 3m 19s\n",
            "61:\tlearn: 0.1973946\ttotal: 14.9s\tremaining: 3m 18s\n",
            "62:\tlearn: 0.1942793\ttotal: 15.1s\tremaining: 3m 18s\n",
            "63:\tlearn: 0.1901799\ttotal: 15.4s\tremaining: 3m 17s\n",
            "64:\tlearn: 0.1883865\ttotal: 15.6s\tremaining: 3m 17s\n",
            "65:\tlearn: 0.1845420\ttotal: 15.8s\tremaining: 3m 17s\n",
            "66:\tlearn: 0.1822940\ttotal: 16s\tremaining: 3m 16s\n",
            "67:\tlearn: 0.1790384\ttotal: 16.3s\tremaining: 3m 16s\n",
            "68:\tlearn: 0.1784098\ttotal: 16.5s\tremaining: 3m 15s\n",
            "69:\tlearn: 0.1768630\ttotal: 16.7s\tremaining: 3m 15s\n",
            "70:\tlearn: 0.1751163\ttotal: 16.9s\tremaining: 3m 15s\n",
            "71:\tlearn: 0.1738422\ttotal: 17.2s\tremaining: 3m 14s\n",
            "72:\tlearn: 0.1723380\ttotal: 17.4s\tremaining: 3m 14s\n",
            "73:\tlearn: 0.1705446\ttotal: 17.6s\tremaining: 3m 14s\n",
            "74:\tlearn: 0.1678323\ttotal: 17.9s\tremaining: 3m 13s\n",
            "75:\tlearn: 0.1662134\ttotal: 18.1s\tremaining: 3m 13s\n",
            "76:\tlearn: 0.1642555\ttotal: 18.3s\tremaining: 3m 13s\n",
            "77:\tlearn: 0.1636961\ttotal: 18.6s\tremaining: 3m 12s\n",
            "78:\tlearn: 0.1631738\ttotal: 18.8s\tremaining: 3m 12s\n",
            "79:\tlearn: 0.1614509\ttotal: 19s\tremaining: 3m 12s\n",
            "80:\tlearn: 0.1589181\ttotal: 19.3s\tremaining: 3m 12s\n",
            "81:\tlearn: 0.1575958\ttotal: 19.5s\tremaining: 3m 11s\n",
            "82:\tlearn: 0.1560412\ttotal: 19.7s\tremaining: 3m 11s\n",
            "83:\tlearn: 0.1547202\ttotal: 19.9s\tremaining: 3m 10s\n",
            "84:\tlearn: 0.1540441\ttotal: 20.1s\tremaining: 3m 10s\n",
            "85:\tlearn: 0.1523815\ttotal: 20.4s\tremaining: 3m 10s\n",
            "86:\tlearn: 0.1503164\ttotal: 20.6s\tremaining: 3m 9s\n",
            "87:\tlearn: 0.1482198\ttotal: 20.8s\tremaining: 3m 9s\n",
            "88:\tlearn: 0.1467299\ttotal: 21s\tremaining: 3m 9s\n",
            "89:\tlearn: 0.1459344\ttotal: 21.3s\tremaining: 3m 8s\n",
            "90:\tlearn: 0.1443709\ttotal: 21.5s\tremaining: 3m 8s\n",
            "91:\tlearn: 0.1420657\ttotal: 21.7s\tremaining: 3m 8s\n",
            "92:\tlearn: 0.1414495\ttotal: 22s\tremaining: 3m 8s\n",
            "93:\tlearn: 0.1408725\ttotal: 22.2s\tremaining: 3m 7s\n",
            "94:\tlearn: 0.1400473\ttotal: 22.5s\tremaining: 3m 7s\n",
            "95:\tlearn: 0.1393244\ttotal: 22.7s\tremaining: 3m 7s\n",
            "96:\tlearn: 0.1386977\ttotal: 22.9s\tremaining: 3m 7s\n",
            "97:\tlearn: 0.1365909\ttotal: 23.2s\tremaining: 3m 6s\n",
            "98:\tlearn: 0.1359124\ttotal: 23.4s\tremaining: 3m 6s\n",
            "99:\tlearn: 0.1338733\ttotal: 23.6s\tremaining: 3m 6s\n",
            "100:\tlearn: 0.1324547\ttotal: 23.9s\tremaining: 3m 6s\n",
            "101:\tlearn: 0.1317967\ttotal: 24.1s\tremaining: 3m 5s\n",
            "102:\tlearn: 0.1310377\ttotal: 24.3s\tremaining: 3m 5s\n",
            "103:\tlearn: 0.1299215\ttotal: 24.5s\tremaining: 3m 5s\n",
            "104:\tlearn: 0.1282265\ttotal: 24.7s\tremaining: 3m 4s\n",
            "105:\tlearn: 0.1274760\ttotal: 25s\tremaining: 3m 4s\n",
            "106:\tlearn: 0.1271326\ttotal: 25.2s\tremaining: 3m 4s\n",
            "107:\tlearn: 0.1260157\ttotal: 25.4s\tremaining: 3m 3s\n",
            "108:\tlearn: 0.1253275\ttotal: 25.7s\tremaining: 3m 3s\n",
            "109:\tlearn: 0.1241495\ttotal: 25.9s\tremaining: 3m 3s\n",
            "110:\tlearn: 0.1236900\ttotal: 26.1s\tremaining: 3m 3s\n",
            "111:\tlearn: 0.1230157\ttotal: 26.3s\tremaining: 3m 2s\n",
            "112:\tlearn: 0.1212730\ttotal: 26.6s\tremaining: 3m 2s\n",
            "113:\tlearn: 0.1206228\ttotal: 26.8s\tremaining: 3m 2s\n",
            "114:\tlearn: 0.1200994\ttotal: 27.1s\tremaining: 3m 2s\n",
            "115:\tlearn: 0.1192179\ttotal: 27.3s\tremaining: 3m 1s\n",
            "116:\tlearn: 0.1189495\ttotal: 27.5s\tremaining: 3m 1s\n",
            "117:\tlearn: 0.1178121\ttotal: 28.1s\tremaining: 3m 3s\n",
            "118:\tlearn: 0.1159761\ttotal: 28.4s\tremaining: 3m 3s\n",
            "119:\tlearn: 0.1158044\ttotal: 28.5s\tremaining: 3m 2s\n",
            "120:\tlearn: 0.1151994\ttotal: 28.9s\tremaining: 3m 3s\n",
            "121:\tlearn: 0.1140332\ttotal: 29.4s\tremaining: 3m 4s\n",
            "122:\tlearn: 0.1126441\ttotal: 29.7s\tremaining: 3m 4s\n",
            "123:\tlearn: 0.1122432\ttotal: 29.9s\tremaining: 3m 4s\n",
            "124:\tlearn: 0.1105306\ttotal: 30.1s\tremaining: 3m 4s\n",
            "125:\tlearn: 0.1095985\ttotal: 30.3s\tremaining: 3m 3s\n",
            "126:\tlearn: 0.1081538\ttotal: 30.6s\tremaining: 3m 3s\n",
            "127:\tlearn: 0.1077856\ttotal: 30.8s\tremaining: 3m 3s\n",
            "128:\tlearn: 0.1069315\ttotal: 31s\tremaining: 3m 2s\n",
            "129:\tlearn: 0.1063234\ttotal: 31.2s\tremaining: 3m 2s\n",
            "130:\tlearn: 0.1049626\ttotal: 31.5s\tremaining: 3m 2s\n",
            "131:\tlearn: 0.1043783\ttotal: 31.7s\tremaining: 3m 1s\n",
            "132:\tlearn: 0.1038947\ttotal: 31.9s\tremaining: 3m 1s\n",
            "133:\tlearn: 0.1032714\ttotal: 32.2s\tremaining: 3m 1s\n",
            "134:\tlearn: 0.1019351\ttotal: 32.4s\tremaining: 3m\n",
            "135:\tlearn: 0.1013064\ttotal: 32.6s\tremaining: 3m\n",
            "136:\tlearn: 0.1009345\ttotal: 32.9s\tremaining: 3m\n",
            "137:\tlearn: 0.1005253\ttotal: 33.1s\tremaining: 3m\n",
            "138:\tlearn: 0.0998980\ttotal: 33.3s\tremaining: 2m 59s\n",
            "139:\tlearn: 0.0994231\ttotal: 33.5s\tremaining: 2m 59s\n",
            "140:\tlearn: 0.0991364\ttotal: 33.8s\tremaining: 2m 59s\n",
            "141:\tlearn: 0.0986530\ttotal: 34s\tremaining: 2m 58s\n",
            "142:\tlearn: 0.0976840\ttotal: 34.2s\tremaining: 2m 58s\n",
            "143:\tlearn: 0.0970323\ttotal: 34.4s\tremaining: 2m 58s\n",
            "144:\tlearn: 0.0967387\ttotal: 34.7s\tremaining: 2m 57s\n",
            "145:\tlearn: 0.0961028\ttotal: 34.9s\tremaining: 2m 57s\n",
            "146:\tlearn: 0.0948166\ttotal: 35.1s\tremaining: 2m 57s\n",
            "147:\tlearn: 0.0938956\ttotal: 35.4s\tremaining: 2m 57s\n",
            "148:\tlearn: 0.0931255\ttotal: 35.6s\tremaining: 2m 56s\n",
            "149:\tlearn: 0.0923874\ttotal: 35.8s\tremaining: 2m 56s\n",
            "150:\tlearn: 0.0916471\ttotal: 36.1s\tremaining: 2m 56s\n",
            "151:\tlearn: 0.0911537\ttotal: 36.3s\tremaining: 2m 56s\n",
            "152:\tlearn: 0.0906830\ttotal: 36.5s\tremaining: 2m 55s\n",
            "153:\tlearn: 0.0903970\ttotal: 36.8s\tremaining: 2m 55s\n",
            "154:\tlearn: 0.0899609\ttotal: 37s\tremaining: 2m 55s\n",
            "155:\tlearn: 0.0892428\ttotal: 37.2s\tremaining: 2m 54s\n",
            "156:\tlearn: 0.0885578\ttotal: 37.5s\tremaining: 2m 54s\n",
            "157:\tlearn: 0.0880228\ttotal: 37.7s\tremaining: 2m 54s\n",
            "158:\tlearn: 0.0875078\ttotal: 37.9s\tremaining: 2m 54s\n",
            "159:\tlearn: 0.0867522\ttotal: 38.2s\tremaining: 2m 53s\n",
            "160:\tlearn: 0.0865457\ttotal: 38.4s\tremaining: 2m 53s\n",
            "161:\tlearn: 0.0857141\ttotal: 38.6s\tremaining: 2m 53s\n",
            "162:\tlearn: 0.0847160\ttotal: 38.8s\tremaining: 2m 52s\n",
            "163:\tlearn: 0.0841426\ttotal: 39.1s\tremaining: 2m 52s\n",
            "164:\tlearn: 0.0833465\ttotal: 39.3s\tremaining: 2m 52s\n",
            "165:\tlearn: 0.0831933\ttotal: 39.5s\tremaining: 2m 52s\n",
            "166:\tlearn: 0.0829488\ttotal: 40.1s\tremaining: 2m 53s\n",
            "167:\tlearn: 0.0826101\ttotal: 40.4s\tremaining: 2m 53s\n",
            "168:\tlearn: 0.0824722\ttotal: 40.6s\tremaining: 2m 53s\n",
            "169:\tlearn: 0.0820400\ttotal: 40.9s\tremaining: 2m 52s\n",
            "170:\tlearn: 0.0817769\ttotal: 41.1s\tremaining: 2m 52s\n",
            "171:\tlearn: 0.0815203\ttotal: 41.3s\tremaining: 2m 52s\n",
            "172:\tlearn: 0.0809892\ttotal: 41.6s\tremaining: 2m 51s\n",
            "173:\tlearn: 0.0807498\ttotal: 41.8s\tremaining: 2m 51s\n",
            "174:\tlearn: 0.0804111\ttotal: 42s\tremaining: 2m 51s\n",
            "175:\tlearn: 0.0803847\ttotal: 42s\tremaining: 2m 50s\n",
            "176:\tlearn: 0.0803813\ttotal: 42s\tremaining: 2m 49s\n",
            "177:\tlearn: 0.0801714\ttotal: 42.3s\tremaining: 2m 48s\n",
            "178:\tlearn: 0.0797099\ttotal: 42.5s\tremaining: 2m 48s\n",
            "179:\tlearn: 0.0795813\ttotal: 42.7s\tremaining: 2m 48s\n",
            "180:\tlearn: 0.0790521\ttotal: 43s\tremaining: 2m 48s\n",
            "181:\tlearn: 0.0786671\ttotal: 43.2s\tremaining: 2m 47s\n",
            "182:\tlearn: 0.0777042\ttotal: 43.4s\tremaining: 2m 47s\n",
            "183:\tlearn: 0.0774569\ttotal: 43.6s\tremaining: 2m 47s\n",
            "184:\tlearn: 0.0771062\ttotal: 43.9s\tremaining: 2m 46s\n",
            "185:\tlearn: 0.0769134\ttotal: 44.1s\tremaining: 2m 46s\n",
            "186:\tlearn: 0.0763179\ttotal: 44.3s\tremaining: 2m 46s\n",
            "187:\tlearn: 0.0759555\ttotal: 44.5s\tremaining: 2m 46s\n",
            "188:\tlearn: 0.0756485\ttotal: 44.8s\tremaining: 2m 45s\n",
            "189:\tlearn: 0.0749178\ttotal: 45s\tremaining: 2m 45s\n",
            "190:\tlearn: 0.0746479\ttotal: 45.2s\tremaining: 2m 45s\n",
            "191:\tlearn: 0.0743151\ttotal: 45.5s\tremaining: 2m 45s\n",
            "192:\tlearn: 0.0736280\ttotal: 45.7s\tremaining: 2m 44s\n",
            "193:\tlearn: 0.0733150\ttotal: 45.9s\tremaining: 2m 44s\n",
            "194:\tlearn: 0.0731207\ttotal: 46.2s\tremaining: 2m 44s\n",
            "195:\tlearn: 0.0728449\ttotal: 46.4s\tremaining: 2m 44s\n",
            "196:\tlearn: 0.0723376\ttotal: 46.6s\tremaining: 2m 43s\n",
            "197:\tlearn: 0.0721978\ttotal: 46.9s\tremaining: 2m 43s\n",
            "198:\tlearn: 0.0717068\ttotal: 47.1s\tremaining: 2m 43s\n",
            "199:\tlearn: 0.0714420\ttotal: 47.3s\tremaining: 2m 43s\n",
            "200:\tlearn: 0.0711409\ttotal: 47.6s\tremaining: 2m 42s\n",
            "201:\tlearn: 0.0707450\ttotal: 47.8s\tremaining: 2m 42s\n",
            "202:\tlearn: 0.0704937\ttotal: 48s\tremaining: 2m 42s\n",
            "203:\tlearn: 0.0703921\ttotal: 48.2s\tremaining: 2m 41s\n",
            "204:\tlearn: 0.0701078\ttotal: 48.4s\tremaining: 2m 41s\n",
            "205:\tlearn: 0.0694168\ttotal: 48.7s\tremaining: 2m 41s\n",
            "206:\tlearn: 0.0690328\ttotal: 48.9s\tremaining: 2m 41s\n",
            "207:\tlearn: 0.0689213\ttotal: 49.1s\tremaining: 2m 40s\n",
            "208:\tlearn: 0.0687851\ttotal: 49.4s\tremaining: 2m 40s\n",
            "209:\tlearn: 0.0684908\ttotal: 49.6s\tremaining: 2m 40s\n",
            "210:\tlearn: 0.0679580\ttotal: 49.8s\tremaining: 2m 40s\n",
            "211:\tlearn: 0.0676565\ttotal: 50s\tremaining: 2m 39s\n",
            "212:\tlearn: 0.0669259\ttotal: 50.3s\tremaining: 2m 39s\n",
            "213:\tlearn: 0.0666593\ttotal: 50.5s\tremaining: 2m 39s\n",
            "214:\tlearn: 0.0660883\ttotal: 50.8s\tremaining: 2m 39s\n",
            "215:\tlearn: 0.0655033\ttotal: 51s\tremaining: 2m 38s\n",
            "216:\tlearn: 0.0653947\ttotal: 51.2s\tremaining: 2m 38s\n",
            "217:\tlearn: 0.0652043\ttotal: 51.5s\tremaining: 2m 38s\n",
            "218:\tlearn: 0.0650172\ttotal: 51.7s\tremaining: 2m 38s\n",
            "219:\tlearn: 0.0642438\ttotal: 51.9s\tremaining: 2m 37s\n",
            "220:\tlearn: 0.0639976\ttotal: 52.1s\tremaining: 2m 37s\n",
            "221:\tlearn: 0.0637273\ttotal: 52.4s\tremaining: 2m 37s\n",
            "222:\tlearn: 0.0635030\ttotal: 52.6s\tremaining: 2m 37s\n",
            "223:\tlearn: 0.0632855\ttotal: 52.8s\tremaining: 2m 36s\n",
            "224:\tlearn: 0.0628285\ttotal: 53.1s\tremaining: 2m 36s\n",
            "225:\tlearn: 0.0623649\ttotal: 53.3s\tremaining: 2m 36s\n",
            "226:\tlearn: 0.0618111\ttotal: 53.5s\tremaining: 2m 36s\n",
            "227:\tlearn: 0.0616245\ttotal: 53.8s\tremaining: 2m 35s\n",
            "228:\tlearn: 0.0613608\ttotal: 54s\tremaining: 2m 35s\n",
            "229:\tlearn: 0.0612493\ttotal: 54.2s\tremaining: 2m 35s\n",
            "230:\tlearn: 0.0604528\ttotal: 54.4s\tremaining: 2m 35s\n",
            "231:\tlearn: 0.0603756\ttotal: 54.7s\tremaining: 2m 34s\n",
            "232:\tlearn: 0.0602327\ttotal: 54.9s\tremaining: 2m 34s\n",
            "233:\tlearn: 0.0600026\ttotal: 55.1s\tremaining: 2m 34s\n",
            "234:\tlearn: 0.0598115\ttotal: 55.4s\tremaining: 2m 34s\n",
            "235:\tlearn: 0.0594484\ttotal: 55.6s\tremaining: 2m 33s\n",
            "236:\tlearn: 0.0592127\ttotal: 55.9s\tremaining: 2m 33s\n",
            "237:\tlearn: 0.0590685\ttotal: 56.1s\tremaining: 2m 33s\n",
            "238:\tlearn: 0.0585828\ttotal: 56.3s\tremaining: 2m 33s\n",
            "239:\tlearn: 0.0583569\ttotal: 56.5s\tremaining: 2m 32s\n",
            "240:\tlearn: 0.0581733\ttotal: 56.8s\tremaining: 2m 32s\n",
            "241:\tlearn: 0.0581717\ttotal: 56.8s\tremaining: 2m 31s\n",
            "242:\tlearn: 0.0577982\ttotal: 57s\tremaining: 2m 31s\n",
            "243:\tlearn: 0.0570773\ttotal: 57.2s\tremaining: 2m 31s\n",
            "244:\tlearn: 0.0569165\ttotal: 57.5s\tremaining: 2m 31s\n",
            "245:\tlearn: 0.0565908\ttotal: 57.7s\tremaining: 2m 30s\n",
            "246:\tlearn: 0.0563316\ttotal: 57.9s\tremaining: 2m 30s\n",
            "247:\tlearn: 0.0560546\ttotal: 58.1s\tremaining: 2m 30s\n",
            "248:\tlearn: 0.0556728\ttotal: 58.4s\tremaining: 2m 30s\n",
            "249:\tlearn: 0.0555397\ttotal: 58.6s\tremaining: 2m 29s\n",
            "250:\tlearn: 0.0551188\ttotal: 58.9s\tremaining: 2m 29s\n",
            "251:\tlearn: 0.0548832\ttotal: 59.1s\tremaining: 2m 29s\n",
            "252:\tlearn: 0.0545102\ttotal: 59.3s\tremaining: 2m 29s\n",
            "253:\tlearn: 0.0540229\ttotal: 59.6s\tremaining: 2m 28s\n",
            "254:\tlearn: 0.0537137\ttotal: 59.8s\tremaining: 2m 28s\n",
            "255:\tlearn: 0.0534167\ttotal: 1m\tremaining: 2m 28s\n",
            "256:\tlearn: 0.0532976\ttotal: 1m\tremaining: 2m 28s\n",
            "257:\tlearn: 0.0530822\ttotal: 1m\tremaining: 2m 27s\n",
            "258:\tlearn: 0.0527081\ttotal: 1m\tremaining: 2m 27s\n",
            "259:\tlearn: 0.0521887\ttotal: 1m\tremaining: 2m 27s\n",
            "260:\tlearn: 0.0520450\ttotal: 1m 1s\tremaining: 2m 27s\n",
            "261:\tlearn: 0.0519636\ttotal: 1m 1s\tremaining: 2m 26s\n",
            "262:\tlearn: 0.0517202\ttotal: 1m 1s\tremaining: 2m 26s\n",
            "263:\tlearn: 0.0511942\ttotal: 1m 1s\tremaining: 2m 26s\n",
            "264:\tlearn: 0.0508929\ttotal: 1m 2s\tremaining: 2m 26s\n",
            "265:\tlearn: 0.0499742\ttotal: 1m 2s\tremaining: 2m 25s\n",
            "266:\tlearn: 0.0498236\ttotal: 1m 2s\tremaining: 2m 25s\n",
            "267:\tlearn: 0.0491281\ttotal: 1m 2s\tremaining: 2m 25s\n",
            "268:\tlearn: 0.0488877\ttotal: 1m 2s\tremaining: 2m 24s\n",
            "269:\tlearn: 0.0482083\ttotal: 1m 3s\tremaining: 2m 24s\n",
            "270:\tlearn: 0.0476685\ttotal: 1m 3s\tremaining: 2m 24s\n",
            "271:\tlearn: 0.0473619\ttotal: 1m 3s\tremaining: 2m 24s\n",
            "272:\tlearn: 0.0469044\ttotal: 1m 3s\tremaining: 2m 23s\n",
            "273:\tlearn: 0.0464815\ttotal: 1m 4s\tremaining: 2m 23s\n",
            "274:\tlearn: 0.0462080\ttotal: 1m 4s\tremaining: 2m 23s\n",
            "275:\tlearn: 0.0458893\ttotal: 1m 4s\tremaining: 2m 23s\n",
            "276:\tlearn: 0.0454281\ttotal: 1m 4s\tremaining: 2m 22s\n",
            "277:\tlearn: 0.0450179\ttotal: 1m 4s\tremaining: 2m 22s\n",
            "278:\tlearn: 0.0446430\ttotal: 1m 5s\tremaining: 2m 22s\n",
            "279:\tlearn: 0.0443571\ttotal: 1m 5s\tremaining: 2m 22s\n",
            "280:\tlearn: 0.0439987\ttotal: 1m 5s\tremaining: 2m 22s\n",
            "281:\tlearn: 0.0438515\ttotal: 1m 5s\tremaining: 2m 21s\n",
            "282:\tlearn: 0.0436946\ttotal: 1m 6s\tremaining: 2m 21s\n",
            "283:\tlearn: 0.0433567\ttotal: 1m 6s\tremaining: 2m 21s\n",
            "284:\tlearn: 0.0430912\ttotal: 1m 6s\tremaining: 2m 21s\n",
            "285:\tlearn: 0.0428158\ttotal: 1m 6s\tremaining: 2m 20s\n",
            "286:\tlearn: 0.0425967\ttotal: 1m 7s\tremaining: 2m 20s\n",
            "287:\tlearn: 0.0424037\ttotal: 1m 7s\tremaining: 2m 20s\n",
            "288:\tlearn: 0.0421616\ttotal: 1m 7s\tremaining: 2m 20s\n",
            "289:\tlearn: 0.0418922\ttotal: 1m 7s\tremaining: 2m 19s\n",
            "290:\tlearn: 0.0414009\ttotal: 1m 8s\tremaining: 2m 19s\n",
            "291:\tlearn: 0.0412963\ttotal: 1m 8s\tremaining: 2m 19s\n",
            "292:\tlearn: 0.0409823\ttotal: 1m 8s\tremaining: 2m 19s\n",
            "293:\tlearn: 0.0408562\ttotal: 1m 8s\tremaining: 2m 19s\n",
            "294:\tlearn: 0.0408471\ttotal: 1m 8s\tremaining: 2m 18s\n",
            "295:\tlearn: 0.0404075\ttotal: 1m 8s\tremaining: 2m 18s\n",
            "296:\tlearn: 0.0401539\ttotal: 1m 9s\tremaining: 2m 17s\n",
            "297:\tlearn: 0.0398622\ttotal: 1m 9s\tremaining: 2m 17s\n",
            "298:\tlearn: 0.0394902\ttotal: 1m 9s\tremaining: 2m 17s\n",
            "299:\tlearn: 0.0390636\ttotal: 1m 9s\tremaining: 2m 17s\n",
            "300:\tlearn: 0.0388827\ttotal: 1m 10s\tremaining: 2m 16s\n",
            "301:\tlearn: 0.0386445\ttotal: 1m 10s\tremaining: 2m 16s\n",
            "302:\tlearn: 0.0382443\ttotal: 1m 10s\tremaining: 2m 16s\n",
            "303:\tlearn: 0.0378446\ttotal: 1m 10s\tremaining: 2m 16s\n",
            "304:\tlearn: 0.0375217\ttotal: 1m 11s\tremaining: 2m 15s\n",
            "305:\tlearn: 0.0370370\ttotal: 1m 11s\tremaining: 2m 15s\n",
            "306:\tlearn: 0.0367075\ttotal: 1m 11s\tremaining: 2m 15s\n",
            "307:\tlearn: 0.0365801\ttotal: 1m 11s\tremaining: 2m 15s\n",
            "308:\tlearn: 0.0363422\ttotal: 1m 11s\tremaining: 2m 15s\n",
            "309:\tlearn: 0.0360072\ttotal: 1m 12s\tremaining: 2m 14s\n",
            "310:\tlearn: 0.0357276\ttotal: 1m 12s\tremaining: 2m 14s\n",
            "311:\tlearn: 0.0355256\ttotal: 1m 12s\tremaining: 2m 14s\n",
            "312:\tlearn: 0.0353196\ttotal: 1m 12s\tremaining: 2m 14s\n",
            "313:\tlearn: 0.0351115\ttotal: 1m 13s\tremaining: 2m 13s\n",
            "314:\tlearn: 0.0347659\ttotal: 1m 13s\tremaining: 2m 13s\n",
            "315:\tlearn: 0.0345924\ttotal: 1m 13s\tremaining: 2m 13s\n",
            "316:\tlearn: 0.0344062\ttotal: 1m 13s\tremaining: 2m 13s\n",
            "317:\tlearn: 0.0342388\ttotal: 1m 14s\tremaining: 2m 12s\n",
            "318:\tlearn: 0.0339151\ttotal: 1m 14s\tremaining: 2m 12s\n",
            "319:\tlearn: 0.0337803\ttotal: 1m 14s\tremaining: 2m 12s\n",
            "320:\tlearn: 0.0335430\ttotal: 1m 14s\tremaining: 2m 12s\n",
            "321:\tlearn: 0.0333552\ttotal: 1m 14s\tremaining: 2m 12s\n",
            "322:\tlearn: 0.0332069\ttotal: 1m 15s\tremaining: 2m 11s\n",
            "323:\tlearn: 0.0330565\ttotal: 1m 15s\tremaining: 2m 11s\n",
            "324:\tlearn: 0.0326668\ttotal: 1m 15s\tremaining: 2m 11s\n",
            "325:\tlearn: 0.0324627\ttotal: 1m 15s\tremaining: 2m 11s\n",
            "326:\tlearn: 0.0322229\ttotal: 1m 16s\tremaining: 2m 10s\n",
            "327:\tlearn: 0.0320611\ttotal: 1m 16s\tremaining: 2m 10s\n",
            "328:\tlearn: 0.0319106\ttotal: 1m 16s\tremaining: 2m 10s\n",
            "329:\tlearn: 0.0317765\ttotal: 1m 16s\tremaining: 2m 10s\n",
            "330:\tlearn: 0.0314859\ttotal: 1m 17s\tremaining: 2m 9s\n",
            "331:\tlearn: 0.0313076\ttotal: 1m 17s\tremaining: 2m 9s\n",
            "332:\tlearn: 0.0311189\ttotal: 1m 17s\tremaining: 2m 9s\n",
            "333:\tlearn: 0.0308410\ttotal: 1m 17s\tremaining: 2m 9s\n",
            "334:\tlearn: 0.0305634\ttotal: 1m 17s\tremaining: 2m 8s\n",
            "335:\tlearn: 0.0303552\ttotal: 1m 18s\tremaining: 2m 8s\n",
            "336:\tlearn: 0.0300390\ttotal: 1m 18s\tremaining: 2m 8s\n",
            "337:\tlearn: 0.0296831\ttotal: 1m 18s\tremaining: 2m 8s\n",
            "338:\tlearn: 0.0295162\ttotal: 1m 18s\tremaining: 2m 8s\n",
            "339:\tlearn: 0.0293570\ttotal: 1m 19s\tremaining: 2m 7s\n",
            "340:\tlearn: 0.0292105\ttotal: 1m 19s\tremaining: 2m 7s\n",
            "341:\tlearn: 0.0289263\ttotal: 1m 19s\tremaining: 2m 7s\n",
            "342:\tlearn: 0.0286375\ttotal: 1m 19s\tremaining: 2m 7s\n",
            "343:\tlearn: 0.0284543\ttotal: 1m 20s\tremaining: 2m 6s\n",
            "344:\tlearn: 0.0282234\ttotal: 1m 20s\tremaining: 2m 6s\n",
            "345:\tlearn: 0.0281156\ttotal: 1m 20s\tremaining: 2m 6s\n",
            "346:\tlearn: 0.0278485\ttotal: 1m 20s\tremaining: 2m 6s\n",
            "347:\tlearn: 0.0276833\ttotal: 1m 21s\tremaining: 2m 5s\n",
            "348:\tlearn: 0.0275666\ttotal: 1m 21s\tremaining: 2m 5s\n",
            "349:\tlearn: 0.0274440\ttotal: 1m 21s\tremaining: 2m 5s\n",
            "350:\tlearn: 0.0272988\ttotal: 1m 21s\tremaining: 2m 5s\n",
            "351:\tlearn: 0.0270893\ttotal: 1m 21s\tremaining: 2m 5s\n",
            "352:\tlearn: 0.0269414\ttotal: 1m 22s\tremaining: 2m 4s\n",
            "353:\tlearn: 0.0267481\ttotal: 1m 22s\tremaining: 2m 4s\n",
            "354:\tlearn: 0.0265819\ttotal: 1m 22s\tremaining: 2m 4s\n",
            "355:\tlearn: 0.0264595\ttotal: 1m 22s\tremaining: 2m 4s\n",
            "356:\tlearn: 0.0261879\ttotal: 1m 23s\tremaining: 2m 3s\n",
            "357:\tlearn: 0.0260461\ttotal: 1m 23s\tremaining: 2m 3s\n",
            "358:\tlearn: 0.0258669\ttotal: 1m 23s\tremaining: 2m 3s\n",
            "359:\tlearn: 0.0256871\ttotal: 1m 23s\tremaining: 2m 3s\n",
            "360:\tlearn: 0.0254842\ttotal: 1m 24s\tremaining: 2m 2s\n",
            "361:\tlearn: 0.0254069\ttotal: 1m 24s\tremaining: 2m 2s\n",
            "362:\tlearn: 0.0251467\ttotal: 1m 24s\tremaining: 2m 2s\n",
            "363:\tlearn: 0.0249625\ttotal: 1m 24s\tremaining: 2m 2s\n",
            "364:\tlearn: 0.0247785\ttotal: 1m 25s\tremaining: 2m 2s\n",
            "365:\tlearn: 0.0246585\ttotal: 1m 25s\tremaining: 2m 1s\n",
            "366:\tlearn: 0.0244682\ttotal: 1m 25s\tremaining: 2m 1s\n",
            "367:\tlearn: 0.0243585\ttotal: 1m 25s\tremaining: 2m 1s\n",
            "368:\tlearn: 0.0242410\ttotal: 1m 25s\tremaining: 2m 1s\n",
            "369:\tlearn: 0.0241004\ttotal: 1m 26s\tremaining: 2m\n",
            "370:\tlearn: 0.0239295\ttotal: 1m 26s\tremaining: 2m\n",
            "371:\tlearn: 0.0237766\ttotal: 1m 26s\tremaining: 2m\n",
            "372:\tlearn: 0.0236492\ttotal: 1m 26s\tremaining: 2m\n",
            "373:\tlearn: 0.0234032\ttotal: 1m 27s\tremaining: 1m 59s\n",
            "374:\tlearn: 0.0233453\ttotal: 1m 27s\tremaining: 1m 59s\n",
            "375:\tlearn: 0.0231457\ttotal: 1m 27s\tremaining: 1m 59s\n",
            "376:\tlearn: 0.0229132\ttotal: 1m 27s\tremaining: 1m 59s\n",
            "377:\tlearn: 0.0227665\ttotal: 1m 28s\tremaining: 1m 59s\n",
            "378:\tlearn: 0.0226542\ttotal: 1m 28s\tremaining: 1m 58s\n",
            "379:\tlearn: 0.0225583\ttotal: 1m 28s\tremaining: 1m 58s\n",
            "380:\tlearn: 0.0223956\ttotal: 1m 28s\tremaining: 1m 58s\n",
            "381:\tlearn: 0.0222227\ttotal: 1m 29s\tremaining: 1m 58s\n",
            "382:\tlearn: 0.0219282\ttotal: 1m 29s\tremaining: 1m 57s\n",
            "383:\tlearn: 0.0217981\ttotal: 1m 29s\tremaining: 1m 57s\n",
            "384:\tlearn: 0.0216237\ttotal: 1m 29s\tremaining: 1m 57s\n",
            "385:\tlearn: 0.0214844\ttotal: 1m 29s\tremaining: 1m 57s\n",
            "386:\tlearn: 0.0213772\ttotal: 1m 30s\tremaining: 1m 57s\n",
            "387:\tlearn: 0.0212620\ttotal: 1m 30s\tremaining: 1m 56s\n",
            "388:\tlearn: 0.0211925\ttotal: 1m 30s\tremaining: 1m 56s\n",
            "389:\tlearn: 0.0209941\ttotal: 1m 30s\tremaining: 1m 56s\n",
            "390:\tlearn: 0.0208578\ttotal: 1m 31s\tremaining: 1m 56s\n",
            "391:\tlearn: 0.0206269\ttotal: 1m 31s\tremaining: 1m 55s\n",
            "392:\tlearn: 0.0205321\ttotal: 1m 31s\tremaining: 1m 55s\n",
            "393:\tlearn: 0.0204253\ttotal: 1m 31s\tremaining: 1m 55s\n",
            "394:\tlearn: 0.0203726\ttotal: 1m 32s\tremaining: 1m 55s\n",
            "395:\tlearn: 0.0202522\ttotal: 1m 32s\tremaining: 1m 54s\n",
            "396:\tlearn: 0.0201288\ttotal: 1m 32s\tremaining: 1m 54s\n",
            "397:\tlearn: 0.0200081\ttotal: 1m 32s\tremaining: 1m 54s\n",
            "398:\tlearn: 0.0199064\ttotal: 1m 33s\tremaining: 1m 54s\n",
            "399:\tlearn: 0.0197783\ttotal: 1m 33s\tremaining: 1m 54s\n",
            "400:\tlearn: 0.0196818\ttotal: 1m 33s\tremaining: 1m 53s\n",
            "401:\tlearn: 0.0195616\ttotal: 1m 33s\tremaining: 1m 53s\n",
            "402:\tlearn: 0.0194449\ttotal: 1m 33s\tremaining: 1m 53s\n",
            "403:\tlearn: 0.0193758\ttotal: 1m 34s\tremaining: 1m 53s\n",
            "404:\tlearn: 0.0191801\ttotal: 1m 34s\tremaining: 1m 52s\n",
            "405:\tlearn: 0.0191055\ttotal: 1m 34s\tremaining: 1m 52s\n",
            "406:\tlearn: 0.0189523\ttotal: 1m 34s\tremaining: 1m 52s\n",
            "407:\tlearn: 0.0188805\ttotal: 1m 35s\tremaining: 1m 52s\n",
            "408:\tlearn: 0.0187225\ttotal: 1m 35s\tremaining: 1m 51s\n",
            "409:\tlearn: 0.0186035\ttotal: 1m 35s\tremaining: 1m 51s\n",
            "410:\tlearn: 0.0185108\ttotal: 1m 35s\tremaining: 1m 51s\n",
            "411:\tlearn: 0.0184287\ttotal: 1m 36s\tremaining: 1m 51s\n",
            "412:\tlearn: 0.0183608\ttotal: 1m 36s\tremaining: 1m 50s\n",
            "413:\tlearn: 0.0182982\ttotal: 1m 36s\tremaining: 1m 50s\n",
            "414:\tlearn: 0.0182539\ttotal: 1m 36s\tremaining: 1m 50s\n",
            "415:\tlearn: 0.0181406\ttotal: 1m 37s\tremaining: 1m 50s\n",
            "416:\tlearn: 0.0180625\ttotal: 1m 37s\tremaining: 1m 50s\n",
            "417:\tlearn: 0.0179384\ttotal: 1m 37s\tremaining: 1m 49s\n",
            "418:\tlearn: 0.0178250\ttotal: 1m 37s\tremaining: 1m 49s\n",
            "419:\tlearn: 0.0176805\ttotal: 1m 37s\tremaining: 1m 49s\n",
            "420:\tlearn: 0.0175046\ttotal: 1m 38s\tremaining: 1m 49s\n",
            "421:\tlearn: 0.0173705\ttotal: 1m 38s\tremaining: 1m 48s\n",
            "422:\tlearn: 0.0172632\ttotal: 1m 38s\tremaining: 1m 48s\n",
            "423:\tlearn: 0.0171851\ttotal: 1m 38s\tremaining: 1m 48s\n",
            "424:\tlearn: 0.0171330\ttotal: 1m 39s\tremaining: 1m 48s\n",
            "425:\tlearn: 0.0169538\ttotal: 1m 39s\tremaining: 1m 48s\n",
            "426:\tlearn: 0.0168645\ttotal: 1m 39s\tremaining: 1m 47s\n",
            "427:\tlearn: 0.0167031\ttotal: 1m 39s\tremaining: 1m 47s\n",
            "428:\tlearn: 0.0166135\ttotal: 1m 40s\tremaining: 1m 47s\n",
            "429:\tlearn: 0.0165808\ttotal: 1m 40s\tremaining: 1m 47s\n",
            "430:\tlearn: 0.0164567\ttotal: 1m 41s\tremaining: 1m 47s\n",
            "431:\tlearn: 0.0163176\ttotal: 1m 41s\tremaining: 1m 47s\n",
            "432:\tlearn: 0.0161663\ttotal: 1m 42s\tremaining: 1m 47s\n",
            "433:\tlearn: 0.0160525\ttotal: 1m 42s\tremaining: 1m 47s\n",
            "434:\tlearn: 0.0159607\ttotal: 1m 42s\tremaining: 1m 47s\n",
            "435:\tlearn: 0.0158586\ttotal: 1m 43s\tremaining: 1m 47s\n",
            "436:\tlearn: 0.0157362\ttotal: 1m 43s\tremaining: 1m 46s\n",
            "437:\tlearn: 0.0156645\ttotal: 1m 43s\tremaining: 1m 46s\n",
            "438:\tlearn: 0.0155978\ttotal: 1m 43s\tremaining: 1m 46s\n",
            "439:\tlearn: 0.0154983\ttotal: 1m 43s\tremaining: 1m 46s\n",
            "440:\tlearn: 0.0153656\ttotal: 1m 44s\tremaining: 1m 45s\n",
            "441:\tlearn: 0.0152274\ttotal: 1m 44s\tremaining: 1m 45s\n",
            "442:\tlearn: 0.0151406\ttotal: 1m 44s\tremaining: 1m 45s\n",
            "443:\tlearn: 0.0150735\ttotal: 1m 44s\tremaining: 1m 45s\n",
            "444:\tlearn: 0.0149286\ttotal: 1m 45s\tremaining: 1m 44s\n",
            "445:\tlearn: 0.0148336\ttotal: 1m 45s\tremaining: 1m 44s\n",
            "446:\tlearn: 0.0147742\ttotal: 1m 45s\tremaining: 1m 44s\n",
            "447:\tlearn: 0.0147126\ttotal: 1m 45s\tremaining: 1m 44s\n",
            "448:\tlearn: 0.0146647\ttotal: 1m 46s\tremaining: 1m 43s\n",
            "449:\tlearn: 0.0145906\ttotal: 1m 46s\tremaining: 1m 43s\n",
            "450:\tlearn: 0.0145199\ttotal: 1m 46s\tremaining: 1m 43s\n",
            "451:\tlearn: 0.0144627\ttotal: 1m 46s\tremaining: 1m 43s\n",
            "452:\tlearn: 0.0143854\ttotal: 1m 47s\tremaining: 1m 43s\n",
            "453:\tlearn: 0.0142651\ttotal: 1m 47s\tremaining: 1m 42s\n",
            "454:\tlearn: 0.0142198\ttotal: 1m 47s\tremaining: 1m 42s\n",
            "455:\tlearn: 0.0141631\ttotal: 1m 47s\tremaining: 1m 42s\n",
            "456:\tlearn: 0.0140295\ttotal: 1m 47s\tremaining: 1m 42s\n",
            "457:\tlearn: 0.0139547\ttotal: 1m 48s\tremaining: 1m 41s\n",
            "458:\tlearn: 0.0138366\ttotal: 1m 48s\tremaining: 1m 41s\n",
            "459:\tlearn: 0.0137190\ttotal: 1m 48s\tremaining: 1m 41s\n",
            "460:\tlearn: 0.0136563\ttotal: 1m 48s\tremaining: 1m 41s\n",
            "461:\tlearn: 0.0135545\ttotal: 1m 49s\tremaining: 1m 40s\n",
            "462:\tlearn: 0.0134607\ttotal: 1m 49s\tremaining: 1m 40s\n",
            "463:\tlearn: 0.0133308\ttotal: 1m 49s\tremaining: 1m 40s\n",
            "464:\tlearn: 0.0132524\ttotal: 1m 49s\tremaining: 1m 40s\n",
            "465:\tlearn: 0.0131525\ttotal: 1m 50s\tremaining: 1m 39s\n",
            "466:\tlearn: 0.0130869\ttotal: 1m 50s\tremaining: 1m 39s\n",
            "467:\tlearn: 0.0130304\ttotal: 1m 50s\tremaining: 1m 39s\n",
            "468:\tlearn: 0.0129777\ttotal: 1m 50s\tremaining: 1m 39s\n",
            "469:\tlearn: 0.0129027\ttotal: 1m 51s\tremaining: 1m 38s\n",
            "470:\tlearn: 0.0128562\ttotal: 1m 51s\tremaining: 1m 38s\n",
            "471:\tlearn: 0.0127559\ttotal: 1m 51s\tremaining: 1m 38s\n",
            "472:\tlearn: 0.0126951\ttotal: 1m 51s\tremaining: 1m 38s\n",
            "473:\tlearn: 0.0125904\ttotal: 1m 51s\tremaining: 1m 37s\n",
            "474:\tlearn: 0.0125212\ttotal: 1m 52s\tremaining: 1m 37s\n",
            "475:\tlearn: 0.0123493\ttotal: 1m 52s\tremaining: 1m 37s\n",
            "476:\tlearn: 0.0122907\ttotal: 1m 52s\tremaining: 1m 37s\n",
            "477:\tlearn: 0.0122105\ttotal: 1m 52s\tremaining: 1m 37s\n",
            "478:\tlearn: 0.0121679\ttotal: 1m 53s\tremaining: 1m 36s\n",
            "479:\tlearn: 0.0121274\ttotal: 1m 53s\tremaining: 1m 36s\n",
            "480:\tlearn: 0.0120515\ttotal: 1m 53s\tremaining: 1m 36s\n",
            "481:\tlearn: 0.0119725\ttotal: 1m 53s\tremaining: 1m 36s\n",
            "482:\tlearn: 0.0119158\ttotal: 1m 54s\tremaining: 1m 35s\n",
            "483:\tlearn: 0.0118634\ttotal: 1m 54s\tremaining: 1m 35s\n",
            "484:\tlearn: 0.0118114\ttotal: 1m 54s\tremaining: 1m 35s\n",
            "485:\tlearn: 0.0117607\ttotal: 1m 54s\tremaining: 1m 35s\n",
            "486:\tlearn: 0.0116717\ttotal: 1m 54s\tremaining: 1m 34s\n",
            "487:\tlearn: 0.0116326\ttotal: 1m 55s\tremaining: 1m 34s\n",
            "488:\tlearn: 0.0115395\ttotal: 1m 55s\tremaining: 1m 34s\n",
            "489:\tlearn: 0.0114248\ttotal: 1m 55s\tremaining: 1m 34s\n",
            "490:\tlearn: 0.0113522\ttotal: 1m 55s\tremaining: 1m 33s\n",
            "491:\tlearn: 0.0112740\ttotal: 1m 56s\tremaining: 1m 33s\n",
            "492:\tlearn: 0.0112382\ttotal: 1m 56s\tremaining: 1m 33s\n",
            "493:\tlearn: 0.0111864\ttotal: 1m 56s\tremaining: 1m 33s\n",
            "494:\tlearn: 0.0111371\ttotal: 1m 56s\tremaining: 1m 33s\n",
            "495:\tlearn: 0.0111050\ttotal: 1m 57s\tremaining: 1m 32s\n",
            "496:\tlearn: 0.0110354\ttotal: 1m 57s\tremaining: 1m 32s\n",
            "497:\tlearn: 0.0109838\ttotal: 1m 57s\tremaining: 1m 32s\n",
            "498:\tlearn: 0.0108825\ttotal: 1m 57s\tremaining: 1m 32s\n",
            "499:\tlearn: 0.0108178\ttotal: 1m 58s\tremaining: 1m 31s\n",
            "500:\tlearn: 0.0107487\ttotal: 1m 58s\tremaining: 1m 31s\n",
            "501:\tlearn: 0.0106603\ttotal: 1m 58s\tremaining: 1m 31s\n",
            "502:\tlearn: 0.0105566\ttotal: 1m 58s\tremaining: 1m 31s\n",
            "503:\tlearn: 0.0105091\ttotal: 1m 58s\tremaining: 1m 30s\n",
            "504:\tlearn: 0.0104498\ttotal: 1m 59s\tremaining: 1m 30s\n",
            "505:\tlearn: 0.0104174\ttotal: 1m 59s\tremaining: 1m 30s\n",
            "506:\tlearn: 0.0103454\ttotal: 1m 59s\tremaining: 1m 30s\n",
            "507:\tlearn: 0.0102932\ttotal: 1m 59s\tremaining: 1m 29s\n",
            "508:\tlearn: 0.0102376\ttotal: 2m\tremaining: 1m 29s\n",
            "509:\tlearn: 0.0101926\ttotal: 2m\tremaining: 1m 29s\n",
            "510:\tlearn: 0.0101359\ttotal: 2m\tremaining: 1m 29s\n",
            "511:\tlearn: 0.0100438\ttotal: 2m\tremaining: 1m 28s\n",
            "512:\tlearn: 0.0099424\ttotal: 2m 1s\tremaining: 1m 28s\n",
            "513:\tlearn: 0.0098877\ttotal: 2m 1s\tremaining: 1m 28s\n",
            "514:\tlearn: 0.0098145\ttotal: 2m 1s\tremaining: 1m 28s\n",
            "515:\tlearn: 0.0097469\ttotal: 2m 1s\tremaining: 1m 28s\n",
            "516:\tlearn: 0.0096865\ttotal: 2m 2s\tremaining: 1m 27s\n",
            "517:\tlearn: 0.0096407\ttotal: 2m 2s\tremaining: 1m 27s\n",
            "518:\tlearn: 0.0095708\ttotal: 2m 2s\tremaining: 1m 27s\n",
            "519:\tlearn: 0.0095377\ttotal: 2m 2s\tremaining: 1m 27s\n",
            "520:\tlearn: 0.0094534\ttotal: 2m 3s\tremaining: 1m 26s\n",
            "521:\tlearn: 0.0094153\ttotal: 2m 3s\tremaining: 1m 26s\n",
            "522:\tlearn: 0.0093598\ttotal: 2m 3s\tremaining: 1m 26s\n",
            "523:\tlearn: 0.0093205\ttotal: 2m 3s\tremaining: 1m 26s\n",
            "524:\tlearn: 0.0092449\ttotal: 2m 3s\tremaining: 1m 25s\n",
            "525:\tlearn: 0.0091884\ttotal: 2m 4s\tremaining: 1m 25s\n",
            "526:\tlearn: 0.0091484\ttotal: 2m 4s\tremaining: 1m 25s\n",
            "527:\tlearn: 0.0090722\ttotal: 2m 4s\tremaining: 1m 25s\n",
            "528:\tlearn: 0.0089977\ttotal: 2m 4s\tremaining: 1m 24s\n",
            "529:\tlearn: 0.0089200\ttotal: 2m 5s\tremaining: 1m 24s\n",
            "530:\tlearn: 0.0088575\ttotal: 2m 5s\tremaining: 1m 24s\n",
            "531:\tlearn: 0.0087911\ttotal: 2m 5s\tremaining: 1m 24s\n",
            "532:\tlearn: 0.0087449\ttotal: 2m 5s\tremaining: 1m 24s\n",
            "533:\tlearn: 0.0086961\ttotal: 2m 6s\tremaining: 1m 23s\n",
            "534:\tlearn: 0.0086393\ttotal: 2m 6s\tremaining: 1m 23s\n",
            "535:\tlearn: 0.0085983\ttotal: 2m 6s\tremaining: 1m 23s\n",
            "536:\tlearn: 0.0085322\ttotal: 2m 6s\tremaining: 1m 23s\n",
            "537:\tlearn: 0.0084602\ttotal: 2m 7s\tremaining: 1m 22s\n",
            "538:\tlearn: 0.0083992\ttotal: 2m 7s\tremaining: 1m 22s\n",
            "539:\tlearn: 0.0083390\ttotal: 2m 7s\tremaining: 1m 22s\n",
            "540:\tlearn: 0.0083078\ttotal: 2m 7s\tremaining: 1m 22s\n",
            "541:\tlearn: 0.0082886\ttotal: 2m 8s\tremaining: 1m 21s\n",
            "542:\tlearn: 0.0082628\ttotal: 2m 8s\tremaining: 1m 21s\n",
            "543:\tlearn: 0.0082143\ttotal: 2m 8s\tremaining: 1m 21s\n",
            "544:\tlearn: 0.0081797\ttotal: 2m 8s\tremaining: 1m 21s\n",
            "545:\tlearn: 0.0081333\ttotal: 2m 8s\tremaining: 1m 21s\n",
            "546:\tlearn: 0.0080928\ttotal: 2m 9s\tremaining: 1m 20s\n",
            "547:\tlearn: 0.0080411\ttotal: 2m 9s\tremaining: 1m 20s\n",
            "548:\tlearn: 0.0080032\ttotal: 2m 9s\tremaining: 1m 20s\n",
            "549:\tlearn: 0.0079549\ttotal: 2m 9s\tremaining: 1m 20s\n",
            "550:\tlearn: 0.0079039\ttotal: 2m 10s\tremaining: 1m 19s\n",
            "551:\tlearn: 0.0078596\ttotal: 2m 10s\tremaining: 1m 19s\n",
            "552:\tlearn: 0.0078275\ttotal: 2m 10s\tremaining: 1m 19s\n",
            "553:\tlearn: 0.0077873\ttotal: 2m 10s\tremaining: 1m 19s\n",
            "554:\tlearn: 0.0077563\ttotal: 2m 11s\tremaining: 1m 18s\n",
            "555:\tlearn: 0.0077278\ttotal: 2m 11s\tremaining: 1m 18s\n",
            "556:\tlearn: 0.0076482\ttotal: 2m 11s\tremaining: 1m 18s\n",
            "557:\tlearn: 0.0076034\ttotal: 2m 11s\tremaining: 1m 18s\n",
            "558:\tlearn: 0.0075447\ttotal: 2m 12s\tremaining: 1m 17s\n",
            "559:\tlearn: 0.0075242\ttotal: 2m 12s\tremaining: 1m 17s\n",
            "560:\tlearn: 0.0075082\ttotal: 2m 12s\tremaining: 1m 17s\n",
            "561:\tlearn: 0.0074620\ttotal: 2m 12s\tremaining: 1m 17s\n",
            "562:\tlearn: 0.0074419\ttotal: 2m 12s\tremaining: 1m 17s\n",
            "563:\tlearn: 0.0074023\ttotal: 2m 13s\tremaining: 1m 16s\n",
            "564:\tlearn: 0.0073836\ttotal: 2m 13s\tremaining: 1m 16s\n",
            "565:\tlearn: 0.0073442\ttotal: 2m 13s\tremaining: 1m 16s\n",
            "566:\tlearn: 0.0072561\ttotal: 2m 13s\tremaining: 1m 16s\n",
            "567:\tlearn: 0.0072327\ttotal: 2m 14s\tremaining: 1m 15s\n",
            "568:\tlearn: 0.0071807\ttotal: 2m 14s\tremaining: 1m 15s\n",
            "569:\tlearn: 0.0071558\ttotal: 2m 14s\tremaining: 1m 15s\n",
            "570:\tlearn: 0.0071265\ttotal: 2m 14s\tremaining: 1m 15s\n",
            "571:\tlearn: 0.0070990\ttotal: 2m 15s\tremaining: 1m 14s\n",
            "572:\tlearn: 0.0070324\ttotal: 2m 15s\tremaining: 1m 14s\n",
            "573:\tlearn: 0.0070040\ttotal: 2m 15s\tremaining: 1m 14s\n",
            "574:\tlearn: 0.0069668\ttotal: 2m 15s\tremaining: 1m 14s\n",
            "575:\tlearn: 0.0069274\ttotal: 2m 16s\tremaining: 1m 13s\n",
            "576:\tlearn: 0.0068850\ttotal: 2m 16s\tremaining: 1m 13s\n",
            "577:\tlearn: 0.0068342\ttotal: 2m 16s\tremaining: 1m 13s\n",
            "578:\tlearn: 0.0067954\ttotal: 2m 16s\tremaining: 1m 13s\n",
            "579:\tlearn: 0.0067321\ttotal: 2m 17s\tremaining: 1m 13s\n",
            "580:\tlearn: 0.0066961\ttotal: 2m 17s\tremaining: 1m 12s\n",
            "581:\tlearn: 0.0066588\ttotal: 2m 17s\tremaining: 1m 12s\n",
            "582:\tlearn: 0.0066204\ttotal: 2m 17s\tremaining: 1m 12s\n",
            "583:\tlearn: 0.0065998\ttotal: 2m 18s\tremaining: 1m 12s\n",
            "584:\tlearn: 0.0065710\ttotal: 2m 18s\tremaining: 1m 11s\n",
            "585:\tlearn: 0.0065304\ttotal: 2m 18s\tremaining: 1m 11s\n",
            "586:\tlearn: 0.0065107\ttotal: 2m 18s\tremaining: 1m 11s\n",
            "587:\tlearn: 0.0064856\ttotal: 2m 18s\tremaining: 1m 11s\n",
            "588:\tlearn: 0.0064664\ttotal: 2m 19s\tremaining: 1m 10s\n",
            "589:\tlearn: 0.0064367\ttotal: 2m 19s\tremaining: 1m 10s\n",
            "590:\tlearn: 0.0063994\ttotal: 2m 19s\tremaining: 1m 10s\n",
            "591:\tlearn: 0.0063665\ttotal: 2m 19s\tremaining: 1m 10s\n",
            "592:\tlearn: 0.0063140\ttotal: 2m 20s\tremaining: 1m 9s\n",
            "593:\tlearn: 0.0062925\ttotal: 2m 20s\tremaining: 1m 9s\n",
            "594:\tlearn: 0.0062595\ttotal: 2m 20s\tremaining: 1m 9s\n",
            "595:\tlearn: 0.0062343\ttotal: 2m 20s\tremaining: 1m 9s\n",
            "596:\tlearn: 0.0062150\ttotal: 2m 21s\tremaining: 1m 9s\n",
            "597:\tlearn: 0.0061892\ttotal: 2m 21s\tremaining: 1m 8s\n",
            "598:\tlearn: 0.0061503\ttotal: 2m 21s\tremaining: 1m 8s\n",
            "599:\tlearn: 0.0061256\ttotal: 2m 21s\tremaining: 1m 8s\n",
            "600:\tlearn: 0.0060882\ttotal: 2m 22s\tremaining: 1m 8s\n",
            "601:\tlearn: 0.0060644\ttotal: 2m 22s\tremaining: 1m 7s\n",
            "602:\tlearn: 0.0060269\ttotal: 2m 22s\tremaining: 1m 7s\n",
            "603:\tlearn: 0.0060053\ttotal: 2m 22s\tremaining: 1m 7s\n",
            "604:\tlearn: 0.0059816\ttotal: 2m 23s\tremaining: 1m 7s\n",
            "605:\tlearn: 0.0059488\ttotal: 2m 23s\tremaining: 1m 6s\n",
            "606:\tlearn: 0.0059308\ttotal: 2m 23s\tremaining: 1m 6s\n",
            "607:\tlearn: 0.0058793\ttotal: 2m 23s\tremaining: 1m 6s\n",
            "608:\tlearn: 0.0058438\ttotal: 2m 24s\tremaining: 1m 6s\n",
            "609:\tlearn: 0.0058288\ttotal: 2m 24s\tremaining: 1m 5s\n",
            "610:\tlearn: 0.0058038\ttotal: 2m 24s\tremaining: 1m 5s\n",
            "611:\tlearn: 0.0057872\ttotal: 2m 24s\tremaining: 1m 5s\n",
            "612:\tlearn: 0.0057632\ttotal: 2m 24s\tremaining: 1m 5s\n",
            "613:\tlearn: 0.0057340\ttotal: 2m 25s\tremaining: 1m 5s\n",
            "614:\tlearn: 0.0057047\ttotal: 2m 25s\tremaining: 1m 4s\n",
            "615:\tlearn: 0.0056784\ttotal: 2m 25s\tremaining: 1m 4s\n",
            "616:\tlearn: 0.0056515\ttotal: 2m 26s\tremaining: 1m 4s\n",
            "617:\tlearn: 0.0056050\ttotal: 2m 26s\tremaining: 1m 4s\n",
            "618:\tlearn: 0.0055757\ttotal: 2m 26s\tremaining: 1m 4s\n",
            "619:\tlearn: 0.0055448\ttotal: 2m 27s\tremaining: 1m 3s\n",
            "620:\tlearn: 0.0055203\ttotal: 2m 27s\tremaining: 1m 3s\n",
            "621:\tlearn: 0.0054926\ttotal: 2m 27s\tremaining: 1m 3s\n",
            "622:\tlearn: 0.0054703\ttotal: 2m 27s\tremaining: 1m 3s\n",
            "623:\tlearn: 0.0054353\ttotal: 2m 28s\tremaining: 1m 2s\n",
            "624:\tlearn: 0.0054148\ttotal: 2m 28s\tremaining: 1m 2s\n",
            "625:\tlearn: 0.0053837\ttotal: 2m 28s\tremaining: 1m 2s\n",
            "626:\tlearn: 0.0053673\ttotal: 2m 28s\tremaining: 1m 2s\n",
            "627:\tlearn: 0.0053411\ttotal: 2m 29s\tremaining: 1m 1s\n",
            "628:\tlearn: 0.0053210\ttotal: 2m 29s\tremaining: 1m 1s\n",
            "629:\tlearn: 0.0052916\ttotal: 2m 29s\tremaining: 1m 1s\n",
            "630:\tlearn: 0.0052693\ttotal: 2m 29s\tremaining: 1m 1s\n",
            "631:\tlearn: 0.0052561\ttotal: 2m 29s\tremaining: 1m\n",
            "632:\tlearn: 0.0052339\ttotal: 2m 30s\tremaining: 1m\n",
            "633:\tlearn: 0.0051988\ttotal: 2m 30s\tremaining: 1m\n",
            "634:\tlearn: 0.0051732\ttotal: 2m 30s\tremaining: 1m\n",
            "635:\tlearn: 0.0051534\ttotal: 2m 30s\tremaining: 1m\n",
            "636:\tlearn: 0.0051291\ttotal: 2m 31s\tremaining: 59.8s\n",
            "637:\tlearn: 0.0051047\ttotal: 2m 31s\tremaining: 59.6s\n",
            "638:\tlearn: 0.0050879\ttotal: 2m 31s\tremaining: 59.3s\n",
            "639:\tlearn: 0.0050747\ttotal: 2m 31s\tremaining: 59.1s\n",
            "640:\tlearn: 0.0050494\ttotal: 2m 32s\tremaining: 58.9s\n",
            "641:\tlearn: 0.0050232\ttotal: 2m 32s\tremaining: 58.6s\n",
            "642:\tlearn: 0.0049795\ttotal: 2m 32s\tremaining: 58.4s\n",
            "643:\tlearn: 0.0049660\ttotal: 2m 32s\tremaining: 58.2s\n",
            "644:\tlearn: 0.0049410\ttotal: 2m 33s\tremaining: 57.9s\n",
            "645:\tlearn: 0.0049226\ttotal: 2m 33s\tremaining: 57.7s\n",
            "646:\tlearn: 0.0049008\ttotal: 2m 33s\tremaining: 57.4s\n",
            "647:\tlearn: 0.0048819\ttotal: 2m 33s\tremaining: 57.2s\n",
            "648:\tlearn: 0.0048551\ttotal: 2m 34s\tremaining: 57s\n",
            "649:\tlearn: 0.0048343\ttotal: 2m 34s\tremaining: 56.7s\n",
            "650:\tlearn: 0.0048161\ttotal: 2m 34s\tremaining: 56.5s\n",
            "651:\tlearn: 0.0047999\ttotal: 2m 34s\tremaining: 56.3s\n",
            "652:\tlearn: 0.0047715\ttotal: 2m 35s\tremaining: 56s\n",
            "653:\tlearn: 0.0047527\ttotal: 2m 35s\tremaining: 55.8s\n",
            "654:\tlearn: 0.0047406\ttotal: 2m 35s\tremaining: 55.6s\n",
            "655:\tlearn: 0.0047099\ttotal: 2m 35s\tremaining: 55.3s\n",
            "656:\tlearn: 0.0046937\ttotal: 2m 35s\tremaining: 55.1s\n",
            "657:\tlearn: 0.0046791\ttotal: 2m 36s\tremaining: 54.8s\n",
            "658:\tlearn: 0.0046677\ttotal: 2m 36s\tremaining: 54.6s\n",
            "659:\tlearn: 0.0046465\ttotal: 2m 36s\tremaining: 54.4s\n",
            "660:\tlearn: 0.0046204\ttotal: 2m 36s\tremaining: 54.1s\n",
            "661:\tlearn: 0.0046068\ttotal: 2m 37s\tremaining: 53.9s\n",
            "662:\tlearn: 0.0045845\ttotal: 2m 37s\tremaining: 53.7s\n",
            "663:\tlearn: 0.0045630\ttotal: 2m 37s\tremaining: 53.4s\n",
            "664:\tlearn: 0.0045462\ttotal: 2m 37s\tremaining: 53.2s\n",
            "665:\tlearn: 0.0045206\ttotal: 2m 38s\tremaining: 52.9s\n",
            "666:\tlearn: 0.0044888\ttotal: 2m 38s\tremaining: 52.7s\n",
            "667:\tlearn: 0.0044678\ttotal: 2m 38s\tremaining: 52.5s\n",
            "668:\tlearn: 0.0044375\ttotal: 2m 38s\tremaining: 52.2s\n",
            "669:\tlearn: 0.0044282\ttotal: 2m 39s\tremaining: 52s\n",
            "670:\tlearn: 0.0044118\ttotal: 2m 39s\tremaining: 51.7s\n",
            "671:\tlearn: 0.0043854\ttotal: 2m 39s\tremaining: 51.5s\n",
            "672:\tlearn: 0.0043603\ttotal: 2m 39s\tremaining: 51.3s\n",
            "673:\tlearn: 0.0043489\ttotal: 2m 40s\tremaining: 51s\n",
            "674:\tlearn: 0.0043275\ttotal: 2m 40s\tremaining: 50.8s\n",
            "675:\tlearn: 0.0043038\ttotal: 2m 40s\tremaining: 50.6s\n",
            "676:\tlearn: 0.0042869\ttotal: 2m 40s\tremaining: 50.3s\n",
            "677:\tlearn: 0.0042754\ttotal: 2m 40s\tremaining: 50.1s\n",
            "678:\tlearn: 0.0042470\ttotal: 2m 41s\tremaining: 49.9s\n",
            "679:\tlearn: 0.0042314\ttotal: 2m 41s\tremaining: 49.6s\n",
            "680:\tlearn: 0.0042168\ttotal: 2m 41s\tremaining: 49.4s\n",
            "681:\tlearn: 0.0042052\ttotal: 2m 41s\tremaining: 49.1s\n",
            "682:\tlearn: 0.0041893\ttotal: 2m 42s\tremaining: 48.9s\n",
            "683:\tlearn: 0.0041789\ttotal: 2m 42s\tremaining: 48.7s\n",
            "684:\tlearn: 0.0041674\ttotal: 2m 42s\tremaining: 48.4s\n",
            "685:\tlearn: 0.0041483\ttotal: 2m 42s\tremaining: 48.2s\n",
            "686:\tlearn: 0.0041356\ttotal: 2m 43s\tremaining: 47.9s\n",
            "687:\tlearn: 0.0041245\ttotal: 2m 43s\tremaining: 47.7s\n",
            "688:\tlearn: 0.0041097\ttotal: 2m 43s\tremaining: 47.5s\n",
            "689:\tlearn: 0.0040774\ttotal: 2m 43s\tremaining: 47.2s\n",
            "690:\tlearn: 0.0040655\ttotal: 2m 44s\tremaining: 47s\n",
            "691:\tlearn: 0.0040559\ttotal: 2m 44s\tremaining: 46.8s\n",
            "692:\tlearn: 0.0040341\ttotal: 2m 44s\tremaining: 46.5s\n",
            "693:\tlearn: 0.0040245\ttotal: 2m 44s\tremaining: 46.3s\n",
            "694:\tlearn: 0.0040124\ttotal: 2m 44s\tremaining: 46.1s\n",
            "695:\tlearn: 0.0039896\ttotal: 2m 45s\tremaining: 45.8s\n",
            "696:\tlearn: 0.0039736\ttotal: 2m 45s\tremaining: 45.6s\n",
            "697:\tlearn: 0.0039495\ttotal: 2m 45s\tremaining: 45.3s\n",
            "698:\tlearn: 0.0039379\ttotal: 2m 45s\tremaining: 45.1s\n",
            "699:\tlearn: 0.0039173\ttotal: 2m 46s\tremaining: 44.9s\n",
            "700:\tlearn: 0.0039094\ttotal: 2m 46s\tremaining: 44.6s\n",
            "701:\tlearn: 0.0039010\ttotal: 2m 46s\tremaining: 44.4s\n",
            "702:\tlearn: 0.0038815\ttotal: 2m 46s\tremaining: 44.1s\n",
            "703:\tlearn: 0.0038558\ttotal: 2m 47s\tremaining: 43.9s\n",
            "704:\tlearn: 0.0038427\ttotal: 2m 47s\tremaining: 43.7s\n",
            "705:\tlearn: 0.0038192\ttotal: 2m 47s\tremaining: 43.4s\n",
            "706:\tlearn: 0.0038106\ttotal: 2m 47s\tremaining: 43.2s\n",
            "707:\tlearn: 0.0037849\ttotal: 2m 48s\tremaining: 43s\n",
            "708:\tlearn: 0.0037657\ttotal: 2m 48s\tremaining: 42.7s\n",
            "709:\tlearn: 0.0037588\ttotal: 2m 48s\tremaining: 42.5s\n",
            "710:\tlearn: 0.0037445\ttotal: 2m 48s\tremaining: 42.2s\n",
            "711:\tlearn: 0.0037320\ttotal: 2m 48s\tremaining: 42s\n",
            "712:\tlearn: 0.0037141\ttotal: 2m 49s\tremaining: 41.8s\n",
            "713:\tlearn: 0.0036876\ttotal: 2m 49s\tremaining: 41.5s\n",
            "714:\tlearn: 0.0036697\ttotal: 2m 49s\tremaining: 41.3s\n",
            "715:\tlearn: 0.0036435\ttotal: 2m 49s\tremaining: 41.1s\n",
            "716:\tlearn: 0.0036321\ttotal: 2m 50s\tremaining: 40.8s\n",
            "717:\tlearn: 0.0036148\ttotal: 2m 50s\tremaining: 40.6s\n",
            "718:\tlearn: 0.0035984\ttotal: 2m 50s\tremaining: 40.3s\n",
            "719:\tlearn: 0.0035835\ttotal: 2m 50s\tremaining: 40.1s\n",
            "720:\tlearn: 0.0035715\ttotal: 2m 51s\tremaining: 39.9s\n",
            "721:\tlearn: 0.0035529\ttotal: 2m 51s\tremaining: 39.6s\n",
            "722:\tlearn: 0.0035384\ttotal: 2m 51s\tremaining: 39.4s\n",
            "723:\tlearn: 0.0035195\ttotal: 2m 51s\tremaining: 39.1s\n",
            "724:\tlearn: 0.0035018\ttotal: 2m 52s\tremaining: 38.9s\n",
            "725:\tlearn: 0.0034935\ttotal: 2m 52s\tremaining: 38.7s\n",
            "726:\tlearn: 0.0034794\ttotal: 2m 52s\tremaining: 38.4s\n",
            "727:\tlearn: 0.0034615\ttotal: 2m 52s\tremaining: 38.2s\n",
            "728:\tlearn: 0.0034545\ttotal: 2m 52s\tremaining: 38s\n",
            "729:\tlearn: 0.0034335\ttotal: 2m 53s\tremaining: 37.7s\n",
            "730:\tlearn: 0.0034222\ttotal: 2m 53s\tremaining: 37.5s\n",
            "731:\tlearn: 0.0034059\ttotal: 2m 53s\tremaining: 37.3s\n",
            "732:\tlearn: 0.0033929\ttotal: 2m 53s\tremaining: 37s\n",
            "733:\tlearn: 0.0033778\ttotal: 2m 54s\tremaining: 36.8s\n",
            "734:\tlearn: 0.0033625\ttotal: 2m 54s\tremaining: 36.5s\n",
            "735:\tlearn: 0.0033559\ttotal: 2m 54s\tremaining: 36.3s\n",
            "736:\tlearn: 0.0033444\ttotal: 2m 54s\tremaining: 36.1s\n",
            "737:\tlearn: 0.0033266\ttotal: 2m 55s\tremaining: 35.8s\n",
            "738:\tlearn: 0.0033143\ttotal: 2m 55s\tremaining: 35.6s\n",
            "739:\tlearn: 0.0033004\ttotal: 2m 55s\tremaining: 35.4s\n",
            "740:\tlearn: 0.0032889\ttotal: 2m 55s\tremaining: 35.1s\n",
            "741:\tlearn: 0.0032820\ttotal: 2m 56s\tremaining: 34.9s\n",
            "742:\tlearn: 0.0032672\ttotal: 2m 56s\tremaining: 34.6s\n",
            "743:\tlearn: 0.0032506\ttotal: 2m 56s\tremaining: 34.4s\n",
            "744:\tlearn: 0.0032353\ttotal: 2m 56s\tremaining: 34.2s\n",
            "745:\tlearn: 0.0032229\ttotal: 2m 57s\tremaining: 33.9s\n",
            "746:\tlearn: 0.0032104\ttotal: 2m 57s\tremaining: 33.7s\n",
            "747:\tlearn: 0.0031942\ttotal: 2m 57s\tremaining: 33.5s\n",
            "748:\tlearn: 0.0031853\ttotal: 2m 57s\tremaining: 33.2s\n",
            "749:\tlearn: 0.0031734\ttotal: 2m 57s\tremaining: 33s\n",
            "750:\tlearn: 0.0031662\ttotal: 2m 58s\tremaining: 32.7s\n",
            "751:\tlearn: 0.0031547\ttotal: 2m 58s\tremaining: 32.5s\n",
            "752:\tlearn: 0.0031471\ttotal: 2m 58s\tremaining: 32.3s\n",
            "753:\tlearn: 0.0031388\ttotal: 2m 58s\tremaining: 32s\n",
            "754:\tlearn: 0.0031243\ttotal: 2m 59s\tremaining: 31.8s\n",
            "755:\tlearn: 0.0031097\ttotal: 2m 59s\tremaining: 31.6s\n",
            "756:\tlearn: 0.0030942\ttotal: 2m 59s\tremaining: 31.3s\n",
            "757:\tlearn: 0.0030826\ttotal: 2m 59s\tremaining: 31.1s\n",
            "758:\tlearn: 0.0030709\ttotal: 3m\tremaining: 30.8s\n",
            "759:\tlearn: 0.0030529\ttotal: 3m\tremaining: 30.6s\n",
            "760:\tlearn: 0.0030386\ttotal: 3m\tremaining: 30.4s\n",
            "761:\tlearn: 0.0030223\ttotal: 3m\tremaining: 30.1s\n",
            "762:\tlearn: 0.0030047\ttotal: 3m 1s\tremaining: 29.9s\n",
            "763:\tlearn: 0.0029917\ttotal: 3m 1s\tremaining: 29.7s\n",
            "764:\tlearn: 0.0029805\ttotal: 3m 1s\tremaining: 29.4s\n",
            "765:\tlearn: 0.0029709\ttotal: 3m 1s\tremaining: 29.2s\n",
            "766:\tlearn: 0.0029583\ttotal: 3m 1s\tremaining: 28.9s\n",
            "767:\tlearn: 0.0029394\ttotal: 3m 2s\tremaining: 28.7s\n",
            "768:\tlearn: 0.0029308\ttotal: 3m 2s\tremaining: 28.5s\n",
            "769:\tlearn: 0.0029224\ttotal: 3m 2s\tremaining: 28.2s\n",
            "770:\tlearn: 0.0029148\ttotal: 3m 2s\tremaining: 28s\n",
            "771:\tlearn: 0.0029029\ttotal: 3m 3s\tremaining: 27.8s\n",
            "772:\tlearn: 0.0028954\ttotal: 3m 3s\tremaining: 27.5s\n",
            "773:\tlearn: 0.0028902\ttotal: 3m 3s\tremaining: 27.3s\n",
            "774:\tlearn: 0.0028808\ttotal: 3m 3s\tremaining: 27s\n",
            "775:\tlearn: 0.0028613\ttotal: 3m 4s\tremaining: 26.8s\n",
            "776:\tlearn: 0.0028520\ttotal: 3m 4s\tremaining: 26.6s\n",
            "777:\tlearn: 0.0028429\ttotal: 3m 4s\tremaining: 26.3s\n",
            "778:\tlearn: 0.0028336\ttotal: 3m 4s\tremaining: 26.1s\n",
            "779:\tlearn: 0.0028211\ttotal: 3m 5s\tremaining: 25.9s\n",
            "780:\tlearn: 0.0028134\ttotal: 3m 5s\tremaining: 25.6s\n",
            "781:\tlearn: 0.0028035\ttotal: 3m 5s\tremaining: 25.4s\n",
            "782:\tlearn: 0.0027973\ttotal: 3m 5s\tremaining: 25.1s\n",
            "783:\tlearn: 0.0027841\ttotal: 3m 5s\tremaining: 24.9s\n",
            "784:\tlearn: 0.0027657\ttotal: 3m 6s\tremaining: 24.7s\n",
            "785:\tlearn: 0.0027567\ttotal: 3m 6s\tremaining: 24.4s\n",
            "786:\tlearn: 0.0027489\ttotal: 3m 6s\tremaining: 24.2s\n",
            "787:\tlearn: 0.0027403\ttotal: 3m 6s\tremaining: 24s\n",
            "788:\tlearn: 0.0027255\ttotal: 3m 7s\tremaining: 23.7s\n",
            "789:\tlearn: 0.0027177\ttotal: 3m 7s\tremaining: 23.5s\n",
            "790:\tlearn: 0.0027029\ttotal: 3m 7s\tremaining: 23.3s\n",
            "791:\tlearn: 0.0026932\ttotal: 3m 7s\tremaining: 23s\n",
            "792:\tlearn: 0.0026852\ttotal: 3m 8s\tremaining: 22.8s\n",
            "793:\tlearn: 0.0026756\ttotal: 3m 8s\tremaining: 22.5s\n",
            "794:\tlearn: 0.0026655\ttotal: 3m 8s\tremaining: 22.3s\n",
            "795:\tlearn: 0.0026559\ttotal: 3m 8s\tremaining: 22.1s\n",
            "796:\tlearn: 0.0026477\ttotal: 3m 9s\tremaining: 21.8s\n",
            "797:\tlearn: 0.0026356\ttotal: 3m 9s\tremaining: 21.6s\n",
            "798:\tlearn: 0.0026233\ttotal: 3m 9s\tremaining: 21.4s\n",
            "799:\tlearn: 0.0026123\ttotal: 3m 10s\tremaining: 21.1s\n",
            "800:\tlearn: 0.0026019\ttotal: 3m 10s\tremaining: 20.9s\n",
            "801:\tlearn: 0.0025951\ttotal: 3m 10s\tremaining: 20.7s\n",
            "802:\tlearn: 0.0025825\ttotal: 3m 10s\tremaining: 20.4s\n",
            "803:\tlearn: 0.0025731\ttotal: 3m 11s\tremaining: 20.2s\n",
            "804:\tlearn: 0.0025684\ttotal: 3m 11s\tremaining: 20s\n",
            "805:\tlearn: 0.0025599\ttotal: 3m 11s\tremaining: 19.7s\n",
            "806:\tlearn: 0.0025509\ttotal: 3m 12s\tremaining: 19.5s\n",
            "807:\tlearn: 0.0025426\ttotal: 3m 12s\tremaining: 19.3s\n",
            "808:\tlearn: 0.0025288\ttotal: 3m 12s\tremaining: 19s\n",
            "809:\tlearn: 0.0025206\ttotal: 3m 12s\tremaining: 18.8s\n",
            "810:\tlearn: 0.0025049\ttotal: 3m 13s\tremaining: 18.6s\n",
            "811:\tlearn: 0.0024997\ttotal: 3m 13s\tremaining: 18.3s\n",
            "812:\tlearn: 0.0024928\ttotal: 3m 13s\tremaining: 18.1s\n",
            "813:\tlearn: 0.0024863\ttotal: 3m 13s\tremaining: 17.9s\n",
            "814:\tlearn: 0.0024728\ttotal: 3m 14s\tremaining: 17.6s\n",
            "815:\tlearn: 0.0024656\ttotal: 3m 14s\tremaining: 17.4s\n",
            "816:\tlearn: 0.0024599\ttotal: 3m 14s\tremaining: 17.2s\n",
            "817:\tlearn: 0.0024514\ttotal: 3m 15s\tremaining: 17s\n",
            "818:\tlearn: 0.0024345\ttotal: 3m 15s\tremaining: 16.7s\n",
            "819:\tlearn: 0.0024273\ttotal: 3m 16s\tremaining: 16.5s\n",
            "820:\tlearn: 0.0024181\ttotal: 3m 16s\tremaining: 16.3s\n",
            "821:\tlearn: 0.0024100\ttotal: 3m 16s\tremaining: 16s\n",
            "822:\tlearn: 0.0023977\ttotal: 3m 16s\tremaining: 15.8s\n",
            "823:\tlearn: 0.0023909\ttotal: 3m 17s\tremaining: 15.6s\n",
            "824:\tlearn: 0.0023858\ttotal: 3m 17s\tremaining: 15.3s\n",
            "825:\tlearn: 0.0023765\ttotal: 3m 17s\tremaining: 15.1s\n",
            "826:\tlearn: 0.0023705\ttotal: 3m 17s\tremaining: 14.8s\n",
            "827:\tlearn: 0.0023629\ttotal: 3m 18s\tremaining: 14.6s\n",
            "828:\tlearn: 0.0023554\ttotal: 3m 18s\tremaining: 14.4s\n",
            "829:\tlearn: 0.0023433\ttotal: 3m 18s\tremaining: 14.1s\n",
            "830:\tlearn: 0.0023322\ttotal: 3m 18s\tremaining: 13.9s\n",
            "831:\tlearn: 0.0023254\ttotal: 3m 19s\tremaining: 13.6s\n",
            "832:\tlearn: 0.0023167\ttotal: 3m 19s\tremaining: 13.4s\n",
            "833:\tlearn: 0.0023110\ttotal: 3m 19s\tremaining: 13.2s\n",
            "834:\tlearn: 0.0023000\ttotal: 3m 19s\tremaining: 12.9s\n",
            "835:\tlearn: 0.0022930\ttotal: 3m 20s\tremaining: 12.7s\n",
            "836:\tlearn: 0.0022829\ttotal: 3m 20s\tremaining: 12.4s\n",
            "837:\tlearn: 0.0022754\ttotal: 3m 20s\tremaining: 12.2s\n",
            "838:\tlearn: 0.0022682\ttotal: 3m 20s\tremaining: 12s\n",
            "839:\tlearn: 0.0022610\ttotal: 3m 20s\tremaining: 11.7s\n",
            "840:\tlearn: 0.0022527\ttotal: 3m 21s\tremaining: 11.5s\n",
            "841:\tlearn: 0.0022457\ttotal: 3m 21s\tremaining: 11.2s\n",
            "842:\tlearn: 0.0022414\ttotal: 3m 21s\tremaining: 11s\n",
            "843:\tlearn: 0.0022322\ttotal: 3m 21s\tremaining: 10.8s\n",
            "844:\tlearn: 0.0022274\ttotal: 3m 22s\tremaining: 10.5s\n",
            "845:\tlearn: 0.0022217\ttotal: 3m 22s\tremaining: 10.3s\n",
            "846:\tlearn: 0.0022131\ttotal: 3m 22s\tremaining: 10s\n",
            "847:\tlearn: 0.0022088\ttotal: 3m 22s\tremaining: 9.81s\n",
            "848:\tlearn: 0.0022005\ttotal: 3m 23s\tremaining: 9.57s\n",
            "849:\tlearn: 0.0021908\ttotal: 3m 23s\tremaining: 9.33s\n",
            "850:\tlearn: 0.0021797\ttotal: 3m 23s\tremaining: 9.09s\n",
            "851:\tlearn: 0.0021748\ttotal: 3m 23s\tremaining: 8.85s\n",
            "852:\tlearn: 0.0021664\ttotal: 3m 24s\tremaining: 8.61s\n",
            "853:\tlearn: 0.0021615\ttotal: 3m 24s\tremaining: 8.38s\n",
            "854:\tlearn: 0.0021529\ttotal: 3m 24s\tremaining: 8.13s\n",
            "855:\tlearn: 0.0021482\ttotal: 3m 24s\tremaining: 7.9s\n",
            "856:\tlearn: 0.0021374\ttotal: 3m 25s\tremaining: 7.66s\n",
            "857:\tlearn: 0.0021332\ttotal: 3m 25s\tremaining: 7.42s\n",
            "858:\tlearn: 0.0021264\ttotal: 3m 25s\tremaining: 7.18s\n",
            "859:\tlearn: 0.0021210\ttotal: 3m 25s\tremaining: 6.94s\n",
            "860:\tlearn: 0.0021096\ttotal: 3m 26s\tremaining: 6.7s\n",
            "861:\tlearn: 0.0021015\ttotal: 3m 26s\tremaining: 6.46s\n",
            "862:\tlearn: 0.0020936\ttotal: 3m 26s\tremaining: 6.22s\n",
            "863:\tlearn: 0.0020871\ttotal: 3m 26s\tremaining: 5.98s\n",
            "864:\tlearn: 0.0020833\ttotal: 3m 26s\tremaining: 5.74s\n",
            "865:\tlearn: 0.0020790\ttotal: 3m 27s\tremaining: 5.5s\n",
            "866:\tlearn: 0.0020726\ttotal: 3m 27s\tremaining: 5.26s\n",
            "867:\tlearn: 0.0020650\ttotal: 3m 27s\tremaining: 5.02s\n",
            "868:\tlearn: 0.0020598\ttotal: 3m 27s\tremaining: 4.79s\n",
            "869:\tlearn: 0.0020495\ttotal: 3m 28s\tremaining: 4.54s\n",
            "870:\tlearn: 0.0020416\ttotal: 3m 28s\tremaining: 4.31s\n",
            "871:\tlearn: 0.0020348\ttotal: 3m 28s\tremaining: 4.07s\n",
            "872:\tlearn: 0.0020283\ttotal: 3m 28s\tremaining: 3.83s\n",
            "873:\tlearn: 0.0020283\ttotal: 3m 29s\tremaining: 3.59s\n",
            "874:\tlearn: 0.0020283\ttotal: 3m 29s\tremaining: 3.35s\n",
            "875:\tlearn: 0.0020137\ttotal: 3m 29s\tremaining: 3.11s\n",
            "876:\tlearn: 0.0019995\ttotal: 3m 29s\tremaining: 2.87s\n",
            "877:\tlearn: 0.0019956\ttotal: 3m 30s\tremaining: 2.63s\n",
            "878:\tlearn: 0.0019903\ttotal: 3m 30s\tremaining: 2.39s\n",
            "879:\tlearn: 0.0019796\ttotal: 3m 30s\tremaining: 2.15s\n",
            "880:\tlearn: 0.0019693\ttotal: 3m 30s\tremaining: 1.91s\n",
            "881:\tlearn: 0.0019615\ttotal: 3m 31s\tremaining: 1.68s\n",
            "882:\tlearn: 0.0019535\ttotal: 3m 31s\tremaining: 1.44s\n",
            "883:\tlearn: 0.0019498\ttotal: 3m 31s\tremaining: 1.2s\n",
            "884:\tlearn: 0.0019439\ttotal: 3m 31s\tremaining: 957ms\n",
            "885:\tlearn: 0.0019375\ttotal: 3m 32s\tremaining: 718ms\n",
            "886:\tlearn: 0.0019309\ttotal: 3m 32s\tremaining: 479ms\n",
            "887:\tlearn: 0.0019279\ttotal: 3m 32s\tremaining: 239ms\n",
            "888:\tlearn: 0.0019188\ttotal: 3m 32s\tremaining: 0us\n",
            "0:\tlearn: 0.6664223\ttotal: 234ms\tremaining: 3m 28s\n",
            "1:\tlearn: 0.6355905\ttotal: 460ms\tremaining: 3m 24s\n",
            "2:\tlearn: 0.6097723\ttotal: 681ms\tremaining: 3m 21s\n",
            "3:\tlearn: 0.5921827\ttotal: 905ms\tremaining: 3m 20s\n",
            "4:\tlearn: 0.5714871\ttotal: 1.14s\tremaining: 3m 20s\n",
            "5:\tlearn: 0.5540686\ttotal: 1.38s\tremaining: 3m 23s\n",
            "6:\tlearn: 0.5349115\ttotal: 1.61s\tremaining: 3m 23s\n",
            "7:\tlearn: 0.5227260\ttotal: 1.84s\tremaining: 3m 22s\n",
            "8:\tlearn: 0.5097262\ttotal: 2.07s\tremaining: 3m 22s\n",
            "9:\tlearn: 0.4924913\ttotal: 2.32s\tremaining: 3m 23s\n",
            "10:\tlearn: 0.4772223\ttotal: 2.55s\tremaining: 3m 23s\n",
            "11:\tlearn: 0.4657041\ttotal: 2.78s\tremaining: 3m 23s\n",
            "12:\tlearn: 0.4509597\ttotal: 3.02s\tremaining: 3m 23s\n",
            "13:\tlearn: 0.4391768\ttotal: 3.24s\tremaining: 3m 22s\n",
            "14:\tlearn: 0.4255407\ttotal: 3.49s\tremaining: 3m 23s\n",
            "15:\tlearn: 0.4114420\ttotal: 3.72s\tremaining: 3m 23s\n",
            "16:\tlearn: 0.4023814\ttotal: 3.96s\tremaining: 3m 22s\n",
            "17:\tlearn: 0.3945179\ttotal: 4.19s\tremaining: 3m 22s\n",
            "18:\tlearn: 0.3845110\ttotal: 4.43s\tremaining: 3m 22s\n",
            "19:\tlearn: 0.3768617\ttotal: 4.66s\tremaining: 3m 22s\n",
            "20:\tlearn: 0.3704323\ttotal: 4.88s\tremaining: 3m 21s\n",
            "21:\tlearn: 0.3649906\ttotal: 5.11s\tremaining: 3m 21s\n",
            "22:\tlearn: 0.3588520\ttotal: 5.34s\tremaining: 3m 21s\n",
            "23:\tlearn: 0.3528006\ttotal: 5.58s\tremaining: 3m 21s\n",
            "24:\tlearn: 0.3493394\ttotal: 5.81s\tremaining: 3m 20s\n",
            "25:\tlearn: 0.3435072\ttotal: 6.05s\tremaining: 3m 20s\n",
            "26:\tlearn: 0.3354513\ttotal: 6.28s\tremaining: 3m 20s\n",
            "27:\tlearn: 0.3286929\ttotal: 6.53s\tremaining: 3m 20s\n",
            "28:\tlearn: 0.3197386\ttotal: 6.77s\tremaining: 3m 20s\n",
            "29:\tlearn: 0.3145241\ttotal: 7s\tremaining: 3m 20s\n",
            "30:\tlearn: 0.3118714\ttotal: 7.23s\tremaining: 3m 20s\n",
            "31:\tlearn: 0.3079617\ttotal: 7.48s\tremaining: 3m 20s\n",
            "32:\tlearn: 0.3027908\ttotal: 7.71s\tremaining: 3m 20s\n",
            "33:\tlearn: 0.2981999\ttotal: 7.95s\tremaining: 3m 19s\n",
            "34:\tlearn: 0.2899618\ttotal: 8.18s\tremaining: 3m 19s\n",
            "35:\tlearn: 0.2845883\ttotal: 8.41s\tremaining: 3m 19s\n",
            "36:\tlearn: 0.2782637\ttotal: 8.65s\tremaining: 3m 19s\n",
            "37:\tlearn: 0.2734806\ttotal: 8.87s\tremaining: 3m 18s\n",
            "38:\tlearn: 0.2687285\ttotal: 9.1s\tremaining: 3m 18s\n",
            "39:\tlearn: 0.2660841\ttotal: 9.32s\tremaining: 3m 17s\n",
            "40:\tlearn: 0.2601267\ttotal: 9.57s\tremaining: 3m 17s\n",
            "41:\tlearn: 0.2546099\ttotal: 9.79s\tremaining: 3m 17s\n",
            "42:\tlearn: 0.2472157\ttotal: 10s\tremaining: 3m 17s\n",
            "43:\tlearn: 0.2401787\ttotal: 10.3s\tremaining: 3m 16s\n",
            "44:\tlearn: 0.2376546\ttotal: 10.5s\tremaining: 3m 16s\n",
            "45:\tlearn: 0.2360908\ttotal: 10.7s\tremaining: 3m 16s\n",
            "46:\tlearn: 0.2338541\ttotal: 11s\tremaining: 3m 16s\n",
            "47:\tlearn: 0.2289694\ttotal: 11.2s\tremaining: 3m 16s\n",
            "48:\tlearn: 0.2263867\ttotal: 11.4s\tremaining: 3m 15s\n",
            "49:\tlearn: 0.2232512\ttotal: 11.7s\tremaining: 3m 15s\n",
            "50:\tlearn: 0.2210371\ttotal: 11.9s\tremaining: 3m 15s\n",
            "51:\tlearn: 0.2187437\ttotal: 12.1s\tremaining: 3m 15s\n",
            "52:\tlearn: 0.2162877\ttotal: 12.4s\tremaining: 3m 15s\n",
            "53:\tlearn: 0.2147972\ttotal: 12.6s\tremaining: 3m 15s\n",
            "54:\tlearn: 0.2117438\ttotal: 12.8s\tremaining: 3m 14s\n",
            "55:\tlearn: 0.2083563\ttotal: 13.1s\tremaining: 3m 14s\n",
            "56:\tlearn: 0.2062741\ttotal: 13.3s\tremaining: 3m 14s\n",
            "57:\tlearn: 0.2044217\ttotal: 13.5s\tremaining: 3m 13s\n",
            "58:\tlearn: 0.2027370\ttotal: 13.8s\tremaining: 3m 13s\n",
            "59:\tlearn: 0.1977308\ttotal: 14s\tremaining: 3m 13s\n",
            "60:\tlearn: 0.1962141\ttotal: 14.2s\tremaining: 3m 13s\n",
            "61:\tlearn: 0.1939260\ttotal: 14.5s\tremaining: 3m 12s\n",
            "62:\tlearn: 0.1911914\ttotal: 14.7s\tremaining: 3m 12s\n",
            "63:\tlearn: 0.1897104\ttotal: 14.9s\tremaining: 3m 12s\n",
            "64:\tlearn: 0.1874556\ttotal: 15.2s\tremaining: 3m 12s\n",
            "65:\tlearn: 0.1862158\ttotal: 15.4s\tremaining: 3m 12s\n",
            "66:\tlearn: 0.1840425\ttotal: 15.6s\tremaining: 3m 11s\n",
            "67:\tlearn: 0.1824097\ttotal: 15.9s\tremaining: 3m 11s\n",
            "68:\tlearn: 0.1808170\ttotal: 16.1s\tremaining: 3m 11s\n",
            "69:\tlearn: 0.1793754\ttotal: 16.3s\tremaining: 3m 11s\n",
            "70:\tlearn: 0.1784401\ttotal: 16.6s\tremaining: 3m 10s\n",
            "71:\tlearn: 0.1770216\ttotal: 16.8s\tremaining: 3m 10s\n",
            "72:\tlearn: 0.1762134\ttotal: 17s\tremaining: 3m 10s\n",
            "73:\tlearn: 0.1743042\ttotal: 17.3s\tremaining: 3m 10s\n",
            "74:\tlearn: 0.1734137\ttotal: 17.5s\tremaining: 3m 9s\n",
            "75:\tlearn: 0.1720133\ttotal: 17.7s\tremaining: 3m 9s\n",
            "76:\tlearn: 0.1701873\ttotal: 17.9s\tremaining: 3m 9s\n",
            "77:\tlearn: 0.1679722\ttotal: 18.2s\tremaining: 3m 8s\n",
            "78:\tlearn: 0.1659752\ttotal: 18.4s\tremaining: 3m 8s\n",
            "79:\tlearn: 0.1640723\ttotal: 18.6s\tremaining: 3m 8s\n",
            "80:\tlearn: 0.1632619\ttotal: 18.9s\tremaining: 3m 8s\n",
            "81:\tlearn: 0.1625160\ttotal: 19.2s\tremaining: 3m 8s\n",
            "82:\tlearn: 0.1614030\ttotal: 19.4s\tremaining: 3m 8s\n",
            "83:\tlearn: 0.1601967\ttotal: 19.7s\tremaining: 3m 8s\n",
            "84:\tlearn: 0.1579477\ttotal: 19.9s\tremaining: 3m 8s\n",
            "85:\tlearn: 0.1574746\ttotal: 20.1s\tremaining: 3m 7s\n",
            "86:\tlearn: 0.1568953\ttotal: 20.4s\tremaining: 3m 7s\n",
            "87:\tlearn: 0.1555287\ttotal: 20.6s\tremaining: 3m 7s\n",
            "88:\tlearn: 0.1538127\ttotal: 20.9s\tremaining: 3m 7s\n",
            "89:\tlearn: 0.1521873\ttotal: 21.1s\tremaining: 3m 7s\n",
            "90:\tlearn: 0.1501977\ttotal: 21.3s\tremaining: 3m 6s\n",
            "91:\tlearn: 0.1485688\ttotal: 21.6s\tremaining: 3m 6s\n",
            "92:\tlearn: 0.1474962\ttotal: 21.8s\tremaining: 3m 6s\n",
            "93:\tlearn: 0.1467417\ttotal: 22s\tremaining: 3m 6s\n",
            "94:\tlearn: 0.1458703\ttotal: 22.2s\tremaining: 3m 5s\n",
            "95:\tlearn: 0.1447206\ttotal: 22.5s\tremaining: 3m 5s\n",
            "96:\tlearn: 0.1423270\ttotal: 22.7s\tremaining: 3m 5s\n",
            "97:\tlearn: 0.1409277\ttotal: 23s\tremaining: 3m 5s\n",
            "98:\tlearn: 0.1402131\ttotal: 23.2s\tremaining: 3m 5s\n",
            "99:\tlearn: 0.1395210\ttotal: 23.4s\tremaining: 3m 4s\n",
            "100:\tlearn: 0.1377966\ttotal: 23.7s\tremaining: 3m 4s\n",
            "101:\tlearn: 0.1371557\ttotal: 23.9s\tremaining: 3m 4s\n",
            "102:\tlearn: 0.1362721\ttotal: 24.1s\tremaining: 3m 4s\n",
            "103:\tlearn: 0.1349191\ttotal: 24.4s\tremaining: 3m 4s\n",
            "104:\tlearn: 0.1324960\ttotal: 24.6s\tremaining: 3m 3s\n",
            "105:\tlearn: 0.1315772\ttotal: 24.9s\tremaining: 3m 3s\n",
            "106:\tlearn: 0.1303016\ttotal: 25.1s\tremaining: 3m 3s\n",
            "107:\tlearn: 0.1296107\ttotal: 25.3s\tremaining: 3m 3s\n",
            "108:\tlearn: 0.1274619\ttotal: 25.5s\tremaining: 3m 2s\n",
            "109:\tlearn: 0.1268007\ttotal: 25.8s\tremaining: 3m 2s\n",
            "110:\tlearn: 0.1261830\ttotal: 26s\tremaining: 3m 2s\n",
            "111:\tlearn: 0.1251084\ttotal: 26.2s\tremaining: 3m 1s\n",
            "112:\tlearn: 0.1227049\ttotal: 26.5s\tremaining: 3m 1s\n",
            "113:\tlearn: 0.1217052\ttotal: 26.7s\tremaining: 3m 1s\n",
            "114:\tlearn: 0.1198203\ttotal: 26.9s\tremaining: 3m 1s\n",
            "115:\tlearn: 0.1185882\ttotal: 27.2s\tremaining: 3m\n",
            "116:\tlearn: 0.1177519\ttotal: 27.4s\tremaining: 3m\n",
            "117:\tlearn: 0.1173582\ttotal: 27.6s\tremaining: 3m\n",
            "118:\tlearn: 0.1167993\ttotal: 27.9s\tremaining: 3m\n",
            "119:\tlearn: 0.1160580\ttotal: 28.1s\tremaining: 3m\n",
            "120:\tlearn: 0.1154547\ttotal: 28.3s\tremaining: 2m 59s\n",
            "121:\tlearn: 0.1143173\ttotal: 28.6s\tremaining: 2m 59s\n",
            "122:\tlearn: 0.1133724\ttotal: 28.8s\tremaining: 2m 59s\n",
            "123:\tlearn: 0.1121951\ttotal: 29.1s\tremaining: 2m 59s\n",
            "124:\tlearn: 0.1110544\ttotal: 29.3s\tremaining: 2m 59s\n",
            "125:\tlearn: 0.1105736\ttotal: 29.5s\tremaining: 2m 58s\n",
            "126:\tlearn: 0.1094191\ttotal: 29.7s\tremaining: 2m 58s\n",
            "127:\tlearn: 0.1089329\ttotal: 30s\tremaining: 2m 58s\n",
            "128:\tlearn: 0.1081177\ttotal: 30.2s\tremaining: 2m 57s\n",
            "129:\tlearn: 0.1073885\ttotal: 30.4s\tremaining: 2m 57s\n",
            "130:\tlearn: 0.1070098\ttotal: 30.7s\tremaining: 2m 57s\n",
            "131:\tlearn: 0.1060988\ttotal: 30.9s\tremaining: 2m 57s\n",
            "132:\tlearn: 0.1051322\ttotal: 31.1s\tremaining: 2m 56s\n",
            "133:\tlearn: 0.1040918\ttotal: 31.4s\tremaining: 2m 56s\n",
            "134:\tlearn: 0.1034637\ttotal: 31.6s\tremaining: 2m 56s\n",
            "135:\tlearn: 0.1025813\ttotal: 31.8s\tremaining: 2m 56s\n",
            "136:\tlearn: 0.1016532\ttotal: 32.1s\tremaining: 2m 56s\n",
            "137:\tlearn: 0.1016432\ttotal: 32.1s\tremaining: 2m 54s\n",
            "138:\tlearn: 0.1013250\ttotal: 32.3s\tremaining: 2m 54s\n",
            "139:\tlearn: 0.1012045\ttotal: 32.4s\tremaining: 2m 53s\n",
            "140:\tlearn: 0.0999058\ttotal: 32.6s\tremaining: 2m 52s\n",
            "141:\tlearn: 0.0995258\ttotal: 32.8s\tremaining: 2m 52s\n",
            "142:\tlearn: 0.0989093\ttotal: 33.1s\tremaining: 2m 52s\n",
            "143:\tlearn: 0.0975536\ttotal: 33.3s\tremaining: 2m 52s\n",
            "144:\tlearn: 0.0971597\ttotal: 33.5s\tremaining: 2m 52s\n",
            "145:\tlearn: 0.0966049\ttotal: 33.8s\tremaining: 2m 51s\n",
            "146:\tlearn: 0.0961596\ttotal: 34s\tremaining: 2m 51s\n",
            "147:\tlearn: 0.0956714\ttotal: 34.2s\tremaining: 2m 51s\n",
            "148:\tlearn: 0.0951632\ttotal: 34.5s\tremaining: 2m 51s\n",
            "149:\tlearn: 0.0948377\ttotal: 34.7s\tremaining: 2m 50s\n",
            "150:\tlearn: 0.0944210\ttotal: 34.9s\tremaining: 2m 50s\n",
            "151:\tlearn: 0.0939281\ttotal: 35.2s\tremaining: 2m 50s\n",
            "152:\tlearn: 0.0934551\ttotal: 35.4s\tremaining: 2m 50s\n",
            "153:\tlearn: 0.0926220\ttotal: 35.6s\tremaining: 2m 50s\n",
            "154:\tlearn: 0.0919322\ttotal: 35.9s\tremaining: 2m 49s\n",
            "155:\tlearn: 0.0915632\ttotal: 36.1s\tremaining: 2m 49s\n",
            "156:\tlearn: 0.0911733\ttotal: 36.4s\tremaining: 2m 49s\n",
            "157:\tlearn: 0.0909053\ttotal: 36.6s\tremaining: 2m 49s\n",
            "158:\tlearn: 0.0905513\ttotal: 36.8s\tremaining: 2m 49s\n",
            "159:\tlearn: 0.0897238\ttotal: 37.1s\tremaining: 2m 48s\n",
            "160:\tlearn: 0.0887005\ttotal: 37.3s\tremaining: 2m 48s\n",
            "161:\tlearn: 0.0881619\ttotal: 37.5s\tremaining: 2m 48s\n",
            "162:\tlearn: 0.0876237\ttotal: 37.8s\tremaining: 2m 48s\n",
            "163:\tlearn: 0.0872997\ttotal: 38s\tremaining: 2m 48s\n",
            "164:\tlearn: 0.0870141\ttotal: 38.2s\tremaining: 2m 47s\n",
            "165:\tlearn: 0.0868008\ttotal: 38.5s\tremaining: 2m 47s\n",
            "166:\tlearn: 0.0864527\ttotal: 39s\tremaining: 2m 48s\n",
            "167:\tlearn: 0.0855778\ttotal: 39.5s\tremaining: 2m 49s\n",
            "168:\tlearn: 0.0852398\ttotal: 39.7s\tremaining: 2m 49s\n",
            "169:\tlearn: 0.0848193\ttotal: 39.9s\tremaining: 2m 48s\n",
            "170:\tlearn: 0.0846183\ttotal: 40.2s\tremaining: 2m 48s\n",
            "171:\tlearn: 0.0841787\ttotal: 40.4s\tremaining: 2m 48s\n",
            "172:\tlearn: 0.0838825\ttotal: 40.7s\tremaining: 2m 48s\n",
            "173:\tlearn: 0.0835777\ttotal: 40.9s\tremaining: 2m 48s\n",
            "174:\tlearn: 0.0832373\ttotal: 41.1s\tremaining: 2m 47s\n",
            "175:\tlearn: 0.0815189\ttotal: 41.4s\tremaining: 2m 47s\n",
            "176:\tlearn: 0.0813881\ttotal: 41.6s\tremaining: 2m 47s\n",
            "177:\tlearn: 0.0807029\ttotal: 41.8s\tremaining: 2m 47s\n",
            "178:\tlearn: 0.0794527\ttotal: 42.1s\tremaining: 2m 46s\n",
            "179:\tlearn: 0.0788510\ttotal: 42.3s\tremaining: 2m 46s\n",
            "180:\tlearn: 0.0785124\ttotal: 42.5s\tremaining: 2m 46s\n",
            "181:\tlearn: 0.0782198\ttotal: 42.8s\tremaining: 2m 46s\n",
            "182:\tlearn: 0.0779257\ttotal: 43s\tremaining: 2m 45s\n",
            "183:\tlearn: 0.0771435\ttotal: 43.2s\tremaining: 2m 45s\n",
            "184:\tlearn: 0.0770105\ttotal: 43.4s\tremaining: 2m 45s\n",
            "185:\tlearn: 0.0770073\ttotal: 43.4s\tremaining: 2m 44s\n",
            "186:\tlearn: 0.0768588\ttotal: 43.7s\tremaining: 2m 43s\n",
            "187:\tlearn: 0.0764638\ttotal: 43.9s\tremaining: 2m 43s\n",
            "188:\tlearn: 0.0762761\ttotal: 44.1s\tremaining: 2m 43s\n",
            "189:\tlearn: 0.0762023\ttotal: 44.4s\tremaining: 2m 43s\n",
            "190:\tlearn: 0.0749265\ttotal: 44.6s\tremaining: 2m 43s\n",
            "191:\tlearn: 0.0745228\ttotal: 44.8s\tremaining: 2m 42s\n",
            "192:\tlearn: 0.0742813\ttotal: 45.1s\tremaining: 2m 42s\n",
            "193:\tlearn: 0.0737089\ttotal: 45.3s\tremaining: 2m 42s\n",
            "194:\tlearn: 0.0733002\ttotal: 45.6s\tremaining: 2m 42s\n",
            "195:\tlearn: 0.0728721\ttotal: 45.8s\tremaining: 2m 41s\n",
            "196:\tlearn: 0.0727604\ttotal: 46s\tremaining: 2m 41s\n",
            "197:\tlearn: 0.0724506\ttotal: 46.2s\tremaining: 2m 41s\n",
            "198:\tlearn: 0.0719462\ttotal: 46.5s\tremaining: 2m 41s\n",
            "199:\tlearn: 0.0708836\ttotal: 46.7s\tremaining: 2m 40s\n",
            "200:\tlearn: 0.0706730\ttotal: 46.9s\tremaining: 2m 40s\n",
            "201:\tlearn: 0.0699415\ttotal: 47.2s\tremaining: 2m 40s\n",
            "202:\tlearn: 0.0696722\ttotal: 47.4s\tremaining: 2m 40s\n",
            "203:\tlearn: 0.0696607\ttotal: 47.4s\tremaining: 2m 39s\n",
            "204:\tlearn: 0.0695115\ttotal: 47.6s\tremaining: 2m 38s\n",
            "205:\tlearn: 0.0692226\ttotal: 47.9s\tremaining: 2m 38s\n",
            "206:\tlearn: 0.0688612\ttotal: 48.1s\tremaining: 2m 38s\n",
            "207:\tlearn: 0.0687522\ttotal: 48.4s\tremaining: 2m 38s\n",
            "208:\tlearn: 0.0683571\ttotal: 48.6s\tremaining: 2m 38s\n",
            "209:\tlearn: 0.0680723\ttotal: 48.8s\tremaining: 2m 37s\n",
            "210:\tlearn: 0.0679752\ttotal: 49.1s\tremaining: 2m 37s\n",
            "211:\tlearn: 0.0677986\ttotal: 49.3s\tremaining: 2m 37s\n",
            "212:\tlearn: 0.0674002\ttotal: 49.5s\tremaining: 2m 37s\n",
            "213:\tlearn: 0.0670813\ttotal: 49.8s\tremaining: 2m 37s\n",
            "214:\tlearn: 0.0667223\ttotal: 50s\tremaining: 2m 36s\n",
            "215:\tlearn: 0.0659388\ttotal: 50.3s\tremaining: 2m 36s\n",
            "216:\tlearn: 0.0657009\ttotal: 50.5s\tremaining: 2m 36s\n",
            "217:\tlearn: 0.0652969\ttotal: 50.7s\tremaining: 2m 36s\n",
            "218:\tlearn: 0.0651385\ttotal: 50.9s\tremaining: 2m 35s\n",
            "219:\tlearn: 0.0643383\ttotal: 51.2s\tremaining: 2m 35s\n",
            "220:\tlearn: 0.0634715\ttotal: 51.4s\tremaining: 2m 35s\n",
            "221:\tlearn: 0.0632898\ttotal: 51.6s\tremaining: 2m 35s\n",
            "222:\tlearn: 0.0623673\ttotal: 51.9s\tremaining: 2m 34s\n",
            "223:\tlearn: 0.0621118\ttotal: 52.1s\tremaining: 2m 34s\n",
            "224:\tlearn: 0.0617950\ttotal: 52.3s\tremaining: 2m 34s\n",
            "225:\tlearn: 0.0615861\ttotal: 52.6s\tremaining: 2m 34s\n",
            "226:\tlearn: 0.0613578\ttotal: 52.8s\tremaining: 2m 34s\n",
            "227:\tlearn: 0.0604623\ttotal: 53.1s\tremaining: 2m 33s\n",
            "228:\tlearn: 0.0602919\ttotal: 53.3s\tremaining: 2m 33s\n",
            "229:\tlearn: 0.0599761\ttotal: 53.5s\tremaining: 2m 33s\n",
            "230:\tlearn: 0.0596794\ttotal: 53.8s\tremaining: 2m 33s\n",
            "231:\tlearn: 0.0592517\ttotal: 54s\tremaining: 2m 32s\n",
            "232:\tlearn: 0.0588048\ttotal: 54.2s\tremaining: 2m 32s\n",
            "233:\tlearn: 0.0580830\ttotal: 54.5s\tremaining: 2m 32s\n",
            "234:\tlearn: 0.0579754\ttotal: 54.7s\tremaining: 2m 32s\n",
            "235:\tlearn: 0.0578242\ttotal: 54.9s\tremaining: 2m 31s\n",
            "236:\tlearn: 0.0574066\ttotal: 55.2s\tremaining: 2m 31s\n",
            "237:\tlearn: 0.0573568\ttotal: 55.4s\tremaining: 2m 31s\n",
            "238:\tlearn: 0.0570113\ttotal: 55.6s\tremaining: 2m 31s\n",
            "239:\tlearn: 0.0568844\ttotal: 55.9s\tremaining: 2m 31s\n",
            "240:\tlearn: 0.0559724\ttotal: 56.1s\tremaining: 2m 30s\n",
            "241:\tlearn: 0.0554649\ttotal: 56.3s\tremaining: 2m 30s\n",
            "242:\tlearn: 0.0552407\ttotal: 56.6s\tremaining: 2m 30s\n",
            "243:\tlearn: 0.0548959\ttotal: 56.8s\tremaining: 2m 30s\n",
            "244:\tlearn: 0.0546491\ttotal: 57s\tremaining: 2m 29s\n",
            "245:\tlearn: 0.0543729\ttotal: 57.3s\tremaining: 2m 29s\n",
            "246:\tlearn: 0.0541962\ttotal: 57.5s\tremaining: 2m 29s\n",
            "247:\tlearn: 0.0540349\ttotal: 57.7s\tremaining: 2m 29s\n",
            "248:\tlearn: 0.0538819\ttotal: 58s\tremaining: 2m 29s\n",
            "249:\tlearn: 0.0532914\ttotal: 58.2s\tremaining: 2m 28s\n",
            "250:\tlearn: 0.0530897\ttotal: 58.4s\tremaining: 2m 28s\n",
            "251:\tlearn: 0.0526853\ttotal: 58.6s\tremaining: 2m 28s\n",
            "252:\tlearn: 0.0520249\ttotal: 58.9s\tremaining: 2m 28s\n",
            "253:\tlearn: 0.0518153\ttotal: 59.1s\tremaining: 2m 27s\n",
            "254:\tlearn: 0.0516320\ttotal: 59.4s\tremaining: 2m 27s\n",
            "255:\tlearn: 0.0510496\ttotal: 59.6s\tremaining: 2m 27s\n",
            "256:\tlearn: 0.0507315\ttotal: 59.8s\tremaining: 2m 27s\n",
            "257:\tlearn: 0.0504696\ttotal: 1m\tremaining: 2m 26s\n",
            "258:\tlearn: 0.0500399\ttotal: 1m\tremaining: 2m 26s\n",
            "259:\tlearn: 0.0499295\ttotal: 1m\tremaining: 2m 26s\n",
            "260:\tlearn: 0.0496280\ttotal: 1m\tremaining: 2m 26s\n",
            "261:\tlearn: 0.0493218\ttotal: 1m\tremaining: 2m 25s\n",
            "262:\tlearn: 0.0490385\ttotal: 1m 1s\tremaining: 2m 25s\n",
            "263:\tlearn: 0.0486556\ttotal: 1m 1s\tremaining: 2m 25s\n",
            "264:\tlearn: 0.0484551\ttotal: 1m 1s\tremaining: 2m 25s\n",
            "265:\tlearn: 0.0482462\ttotal: 1m 1s\tremaining: 2m 25s\n",
            "266:\tlearn: 0.0480052\ttotal: 1m 2s\tremaining: 2m 24s\n",
            "267:\tlearn: 0.0474402\ttotal: 1m 2s\tremaining: 2m 24s\n",
            "268:\tlearn: 0.0472599\ttotal: 1m 2s\tremaining: 2m 24s\n",
            "269:\tlearn: 0.0470768\ttotal: 1m 2s\tremaining: 2m 24s\n",
            "270:\tlearn: 0.0467885\ttotal: 1m 3s\tremaining: 2m 23s\n",
            "271:\tlearn: 0.0463186\ttotal: 1m 3s\tremaining: 2m 23s\n",
            "272:\tlearn: 0.0460006\ttotal: 1m 3s\tremaining: 2m 23s\n",
            "273:\tlearn: 0.0455834\ttotal: 1m 3s\tremaining: 2m 23s\n",
            "274:\tlearn: 0.0451799\ttotal: 1m 4s\tremaining: 2m 22s\n",
            "275:\tlearn: 0.0444032\ttotal: 1m 4s\tremaining: 2m 22s\n",
            "276:\tlearn: 0.0442521\ttotal: 1m 4s\tremaining: 2m 22s\n",
            "277:\tlearn: 0.0434809\ttotal: 1m 4s\tremaining: 2m 22s\n",
            "278:\tlearn: 0.0430503\ttotal: 1m 4s\tremaining: 2m 22s\n",
            "279:\tlearn: 0.0428821\ttotal: 1m 5s\tremaining: 2m 21s\n",
            "280:\tlearn: 0.0428821\ttotal: 1m 5s\tremaining: 2m 21s\n",
            "281:\tlearn: 0.0427307\ttotal: 1m 5s\tremaining: 2m 20s\n",
            "282:\tlearn: 0.0424193\ttotal: 1m 5s\tremaining: 2m 20s\n",
            "283:\tlearn: 0.0421547\ttotal: 1m 5s\tremaining: 2m 20s\n",
            "284:\tlearn: 0.0419633\ttotal: 1m 6s\tremaining: 2m 20s\n",
            "285:\tlearn: 0.0418258\ttotal: 1m 6s\tremaining: 2m 19s\n",
            "286:\tlearn: 0.0416376\ttotal: 1m 6s\tremaining: 2m 19s\n",
            "287:\tlearn: 0.0415659\ttotal: 1m 6s\tremaining: 2m 19s\n",
            "288:\tlearn: 0.0411627\ttotal: 1m 7s\tremaining: 2m 19s\n",
            "289:\tlearn: 0.0411627\ttotal: 1m 7s\tremaining: 2m 18s\n",
            "290:\tlearn: 0.0407043\ttotal: 1m 7s\tremaining: 2m 18s\n",
            "291:\tlearn: 0.0402614\ttotal: 1m 7s\tremaining: 2m 18s\n",
            "292:\tlearn: 0.0397707\ttotal: 1m 7s\tremaining: 2m 17s\n",
            "293:\tlearn: 0.0396626\ttotal: 1m 8s\tremaining: 2m 17s\n",
            "294:\tlearn: 0.0393525\ttotal: 1m 8s\tremaining: 2m 17s\n",
            "295:\tlearn: 0.0390736\ttotal: 1m 8s\tremaining: 2m 17s\n",
            "296:\tlearn: 0.0387873\ttotal: 1m 8s\tremaining: 2m 16s\n",
            "297:\tlearn: 0.0384116\ttotal: 1m 8s\tremaining: 2m 16s\n",
            "298:\tlearn: 0.0382650\ttotal: 1m 9s\tremaining: 2m 16s\n",
            "299:\tlearn: 0.0378987\ttotal: 1m 9s\tremaining: 2m 16s\n",
            "300:\tlearn: 0.0378101\ttotal: 1m 9s\tremaining: 2m 16s\n",
            "301:\tlearn: 0.0375007\ttotal: 1m 9s\tremaining: 2m 15s\n",
            "302:\tlearn: 0.0372023\ttotal: 1m 10s\tremaining: 2m 15s\n",
            "303:\tlearn: 0.0368640\ttotal: 1m 10s\tremaining: 2m 15s\n",
            "304:\tlearn: 0.0366842\ttotal: 1m 10s\tremaining: 2m 15s\n",
            "305:\tlearn: 0.0362907\ttotal: 1m 10s\tremaining: 2m 14s\n",
            "306:\tlearn: 0.0359307\ttotal: 1m 11s\tremaining: 2m 14s\n",
            "307:\tlearn: 0.0355575\ttotal: 1m 11s\tremaining: 2m 14s\n",
            "308:\tlearn: 0.0352801\ttotal: 1m 11s\tremaining: 2m 14s\n",
            "309:\tlearn: 0.0349928\ttotal: 1m 11s\tremaining: 2m 14s\n",
            "310:\tlearn: 0.0347397\ttotal: 1m 12s\tremaining: 2m 13s\n",
            "311:\tlearn: 0.0346169\ttotal: 1m 12s\tremaining: 2m 13s\n",
            "312:\tlearn: 0.0344274\ttotal: 1m 12s\tremaining: 2m 13s\n",
            "313:\tlearn: 0.0342208\ttotal: 1m 12s\tremaining: 2m 13s\n",
            "314:\tlearn: 0.0339798\ttotal: 1m 12s\tremaining: 2m 12s\n",
            "315:\tlearn: 0.0337316\ttotal: 1m 13s\tremaining: 2m 12s\n",
            "316:\tlearn: 0.0334341\ttotal: 1m 13s\tremaining: 2m 12s\n",
            "317:\tlearn: 0.0330766\ttotal: 1m 13s\tremaining: 2m 12s\n",
            "318:\tlearn: 0.0328083\ttotal: 1m 13s\tremaining: 2m 11s\n",
            "319:\tlearn: 0.0326268\ttotal: 1m 14s\tremaining: 2m 11s\n",
            "320:\tlearn: 0.0325037\ttotal: 1m 14s\tremaining: 2m 11s\n",
            "321:\tlearn: 0.0321117\ttotal: 1m 14s\tremaining: 2m 11s\n",
            "322:\tlearn: 0.0318187\ttotal: 1m 14s\tremaining: 2m 11s\n",
            "323:\tlearn: 0.0316682\ttotal: 1m 15s\tremaining: 2m 10s\n",
            "324:\tlearn: 0.0314705\ttotal: 1m 15s\tremaining: 2m 10s\n",
            "325:\tlearn: 0.0311682\ttotal: 1m 15s\tremaining: 2m 10s\n",
            "326:\tlearn: 0.0310820\ttotal: 1m 15s\tremaining: 2m 10s\n",
            "327:\tlearn: 0.0307785\ttotal: 1m 15s\tremaining: 2m 9s\n",
            "328:\tlearn: 0.0305641\ttotal: 1m 16s\tremaining: 2m 9s\n",
            "329:\tlearn: 0.0303328\ttotal: 1m 16s\tremaining: 2m 9s\n",
            "330:\tlearn: 0.0298951\ttotal: 1m 16s\tremaining: 2m 9s\n",
            "331:\tlearn: 0.0297175\ttotal: 1m 16s\tremaining: 2m 9s\n",
            "332:\tlearn: 0.0295446\ttotal: 1m 17s\tremaining: 2m 8s\n",
            "333:\tlearn: 0.0293275\ttotal: 1m 17s\tremaining: 2m 8s\n",
            "334:\tlearn: 0.0290351\ttotal: 1m 17s\tremaining: 2m 8s\n",
            "335:\tlearn: 0.0288373\ttotal: 1m 17s\tremaining: 2m 8s\n",
            "336:\tlearn: 0.0284674\ttotal: 1m 18s\tremaining: 2m 7s\n",
            "337:\tlearn: 0.0282145\ttotal: 1m 18s\tremaining: 2m 7s\n",
            "338:\tlearn: 0.0279488\ttotal: 1m 18s\tremaining: 2m 7s\n",
            "339:\tlearn: 0.0277914\ttotal: 1m 18s\tremaining: 2m 7s\n",
            "340:\tlearn: 0.0275136\ttotal: 1m 19s\tremaining: 2m 7s\n",
            "341:\tlearn: 0.0273870\ttotal: 1m 19s\tremaining: 2m 6s\n",
            "342:\tlearn: 0.0271845\ttotal: 1m 19s\tremaining: 2m 6s\n",
            "343:\tlearn: 0.0269347\ttotal: 1m 19s\tremaining: 2m 6s\n",
            "344:\tlearn: 0.0268349\ttotal: 1m 20s\tremaining: 2m 6s\n",
            "345:\tlearn: 0.0266286\ttotal: 1m 20s\tremaining: 2m 5s\n",
            "346:\tlearn: 0.0264685\ttotal: 1m 20s\tremaining: 2m 5s\n",
            "347:\tlearn: 0.0262316\ttotal: 1m 20s\tremaining: 2m 5s\n",
            "348:\tlearn: 0.0259530\ttotal: 1m 20s\tremaining: 2m 5s\n",
            "349:\tlearn: 0.0257832\ttotal: 1m 21s\tremaining: 2m 5s\n",
            "350:\tlearn: 0.0254901\ttotal: 1m 21s\tremaining: 2m 4s\n",
            "351:\tlearn: 0.0251867\ttotal: 1m 21s\tremaining: 2m 4s\n",
            "352:\tlearn: 0.0249411\ttotal: 1m 21s\tremaining: 2m 4s\n",
            "353:\tlearn: 0.0247798\ttotal: 1m 22s\tremaining: 2m 4s\n",
            "354:\tlearn: 0.0244982\ttotal: 1m 22s\tremaining: 2m 3s\n",
            "355:\tlearn: 0.0242659\ttotal: 1m 22s\tremaining: 2m 3s\n",
            "356:\tlearn: 0.0241654\ttotal: 1m 22s\tremaining: 2m 3s\n",
            "357:\tlearn: 0.0239174\ttotal: 1m 23s\tremaining: 2m 3s\n",
            "358:\tlearn: 0.0237115\ttotal: 1m 23s\tremaining: 2m 3s\n",
            "359:\tlearn: 0.0234844\ttotal: 1m 23s\tremaining: 2m 2s\n",
            "360:\tlearn: 0.0232887\ttotal: 1m 23s\tremaining: 2m 2s\n",
            "361:\tlearn: 0.0230965\ttotal: 1m 24s\tremaining: 2m 2s\n",
            "362:\tlearn: 0.0229418\ttotal: 1m 24s\tremaining: 2m 2s\n",
            "363:\tlearn: 0.0226753\ttotal: 1m 24s\tremaining: 2m 1s\n",
            "364:\tlearn: 0.0224444\ttotal: 1m 24s\tremaining: 2m 1s\n",
            "365:\tlearn: 0.0223299\ttotal: 1m 25s\tremaining: 2m 1s\n",
            "366:\tlearn: 0.0222411\ttotal: 1m 25s\tremaining: 2m 1s\n",
            "367:\tlearn: 0.0220874\ttotal: 1m 25s\tremaining: 2m 1s\n",
            "368:\tlearn: 0.0219783\ttotal: 1m 25s\tremaining: 2m\n",
            "369:\tlearn: 0.0218315\ttotal: 1m 26s\tremaining: 2m\n",
            "370:\tlearn: 0.0216994\ttotal: 1m 26s\tremaining: 2m\n",
            "371:\tlearn: 0.0216233\ttotal: 1m 26s\tremaining: 2m\n",
            "372:\tlearn: 0.0214682\ttotal: 1m 26s\tremaining: 1m 59s\n",
            "373:\tlearn: 0.0212204\ttotal: 1m 26s\tremaining: 1m 59s\n",
            "374:\tlearn: 0.0210719\ttotal: 1m 27s\tremaining: 1m 59s\n",
            "375:\tlearn: 0.0210076\ttotal: 1m 27s\tremaining: 1m 59s\n",
            "376:\tlearn: 0.0208743\ttotal: 1m 27s\tremaining: 1m 59s\n",
            "377:\tlearn: 0.0207429\ttotal: 1m 27s\tremaining: 1m 58s\n",
            "378:\tlearn: 0.0206603\ttotal: 1m 28s\tremaining: 1m 58s\n",
            "379:\tlearn: 0.0205541\ttotal: 1m 28s\tremaining: 1m 58s\n",
            "380:\tlearn: 0.0202988\ttotal: 1m 28s\tremaining: 1m 58s\n",
            "381:\tlearn: 0.0201252\ttotal: 1m 28s\tremaining: 1m 57s\n",
            "382:\tlearn: 0.0200054\ttotal: 1m 29s\tremaining: 1m 57s\n",
            "383:\tlearn: 0.0198789\ttotal: 1m 29s\tremaining: 1m 57s\n",
            "384:\tlearn: 0.0197397\ttotal: 1m 29s\tremaining: 1m 57s\n",
            "385:\tlearn: 0.0196588\ttotal: 1m 29s\tremaining: 1m 57s\n",
            "386:\tlearn: 0.0194443\ttotal: 1m 30s\tremaining: 1m 56s\n",
            "387:\tlearn: 0.0192819\ttotal: 1m 30s\tremaining: 1m 56s\n",
            "388:\tlearn: 0.0190378\ttotal: 1m 30s\tremaining: 1m 56s\n",
            "389:\tlearn: 0.0189453\ttotal: 1m 30s\tremaining: 1m 56s\n",
            "390:\tlearn: 0.0188458\ttotal: 1m 31s\tremaining: 1m 55s\n",
            "391:\tlearn: 0.0187723\ttotal: 1m 31s\tremaining: 1m 55s\n",
            "392:\tlearn: 0.0186068\ttotal: 1m 31s\tremaining: 1m 55s\n",
            "393:\tlearn: 0.0185191\ttotal: 1m 31s\tremaining: 1m 55s\n",
            "394:\tlearn: 0.0184236\ttotal: 1m 31s\tremaining: 1m 55s\n",
            "395:\tlearn: 0.0183075\ttotal: 1m 32s\tremaining: 1m 54s\n",
            "396:\tlearn: 0.0182393\ttotal: 1m 32s\tremaining: 1m 54s\n",
            "397:\tlearn: 0.0181194\ttotal: 1m 32s\tremaining: 1m 54s\n",
            "398:\tlearn: 0.0180537\ttotal: 1m 32s\tremaining: 1m 54s\n",
            "399:\tlearn: 0.0179036\ttotal: 1m 33s\tremaining: 1m 53s\n",
            "400:\tlearn: 0.0177704\ttotal: 1m 33s\tremaining: 1m 53s\n",
            "401:\tlearn: 0.0176993\ttotal: 1m 33s\tremaining: 1m 53s\n",
            "402:\tlearn: 0.0175373\ttotal: 1m 33s\tremaining: 1m 53s\n",
            "403:\tlearn: 0.0174017\ttotal: 1m 34s\tremaining: 1m 53s\n",
            "404:\tlearn: 0.0173100\ttotal: 1m 34s\tremaining: 1m 52s\n",
            "405:\tlearn: 0.0171843\ttotal: 1m 34s\tremaining: 1m 52s\n",
            "406:\tlearn: 0.0169333\ttotal: 1m 34s\tremaining: 1m 52s\n",
            "407:\tlearn: 0.0168554\ttotal: 1m 35s\tremaining: 1m 52s\n",
            "408:\tlearn: 0.0166627\ttotal: 1m 35s\tremaining: 1m 51s\n",
            "409:\tlearn: 0.0165726\ttotal: 1m 35s\tremaining: 1m 51s\n",
            "410:\tlearn: 0.0163647\ttotal: 1m 35s\tremaining: 1m 51s\n",
            "411:\tlearn: 0.0162070\ttotal: 1m 36s\tremaining: 1m 51s\n",
            "412:\tlearn: 0.0161228\ttotal: 1m 36s\tremaining: 1m 50s\n",
            "413:\tlearn: 0.0160115\ttotal: 1m 36s\tremaining: 1m 50s\n",
            "414:\tlearn: 0.0159481\ttotal: 1m 36s\tremaining: 1m 50s\n",
            "415:\tlearn: 0.0158504\ttotal: 1m 37s\tremaining: 1m 50s\n",
            "416:\tlearn: 0.0157711\ttotal: 1m 37s\tremaining: 1m 50s\n",
            "417:\tlearn: 0.0157086\ttotal: 1m 37s\tremaining: 1m 49s\n",
            "418:\tlearn: 0.0156333\ttotal: 1m 37s\tremaining: 1m 49s\n",
            "419:\tlearn: 0.0155073\ttotal: 1m 37s\tremaining: 1m 49s\n",
            "420:\tlearn: 0.0153965\ttotal: 1m 38s\tremaining: 1m 49s\n",
            "421:\tlearn: 0.0153520\ttotal: 1m 38s\tremaining: 1m 48s\n",
            "422:\tlearn: 0.0152112\ttotal: 1m 38s\tremaining: 1m 48s\n",
            "423:\tlearn: 0.0151162\ttotal: 1m 38s\tremaining: 1m 48s\n",
            "424:\tlearn: 0.0150566\ttotal: 1m 39s\tremaining: 1m 48s\n",
            "425:\tlearn: 0.0149549\ttotal: 1m 39s\tremaining: 1m 48s\n",
            "426:\tlearn: 0.0148434\ttotal: 1m 39s\tremaining: 1m 47s\n",
            "427:\tlearn: 0.0147529\ttotal: 1m 39s\tremaining: 1m 47s\n",
            "428:\tlearn: 0.0146007\ttotal: 1m 40s\tremaining: 1m 47s\n",
            "429:\tlearn: 0.0145005\ttotal: 1m 40s\tremaining: 1m 47s\n",
            "430:\tlearn: 0.0143547\ttotal: 1m 40s\tremaining: 1m 46s\n",
            "431:\tlearn: 0.0143062\ttotal: 1m 40s\tremaining: 1m 46s\n",
            "432:\tlearn: 0.0142109\ttotal: 1m 41s\tremaining: 1m 46s\n",
            "433:\tlearn: 0.0141251\ttotal: 1m 41s\tremaining: 1m 46s\n",
            "434:\tlearn: 0.0139736\ttotal: 1m 41s\tremaining: 1m 46s\n",
            "435:\tlearn: 0.0138931\ttotal: 1m 41s\tremaining: 1m 45s\n",
            "436:\tlearn: 0.0138377\ttotal: 1m 42s\tremaining: 1m 45s\n",
            "437:\tlearn: 0.0137691\ttotal: 1m 42s\tremaining: 1m 45s\n",
            "438:\tlearn: 0.0137125\ttotal: 1m 42s\tremaining: 1m 45s\n",
            "439:\tlearn: 0.0136072\ttotal: 1m 42s\tremaining: 1m 44s\n",
            "440:\tlearn: 0.0134898\ttotal: 1m 43s\tremaining: 1m 44s\n",
            "441:\tlearn: 0.0133696\ttotal: 1m 43s\tremaining: 1m 44s\n",
            "442:\tlearn: 0.0132799\ttotal: 1m 43s\tremaining: 1m 44s\n",
            "443:\tlearn: 0.0131389\ttotal: 1m 43s\tremaining: 1m 43s\n",
            "444:\tlearn: 0.0130976\ttotal: 1m 43s\tremaining: 1m 43s\n",
            "445:\tlearn: 0.0129999\ttotal: 1m 44s\tremaining: 1m 43s\n",
            "446:\tlearn: 0.0129358\ttotal: 1m 44s\tremaining: 1m 43s\n",
            "447:\tlearn: 0.0128305\ttotal: 1m 44s\tremaining: 1m 43s\n",
            "448:\tlearn: 0.0127282\ttotal: 1m 44s\tremaining: 1m 42s\n",
            "449:\tlearn: 0.0126778\ttotal: 1m 45s\tremaining: 1m 42s\n",
            "450:\tlearn: 0.0125804\ttotal: 1m 45s\tremaining: 1m 42s\n",
            "451:\tlearn: 0.0125246\ttotal: 1m 45s\tremaining: 1m 42s\n",
            "452:\tlearn: 0.0124399\ttotal: 1m 45s\tremaining: 1m 41s\n",
            "453:\tlearn: 0.0122569\ttotal: 1m 46s\tremaining: 1m 41s\n",
            "454:\tlearn: 0.0122002\ttotal: 1m 46s\tremaining: 1m 41s\n",
            "455:\tlearn: 0.0121615\ttotal: 1m 46s\tremaining: 1m 41s\n",
            "456:\tlearn: 0.0120998\ttotal: 1m 46s\tremaining: 1m 41s\n",
            "457:\tlearn: 0.0120157\ttotal: 1m 47s\tremaining: 1m 40s\n",
            "458:\tlearn: 0.0119200\ttotal: 1m 47s\tremaining: 1m 40s\n",
            "459:\tlearn: 0.0118157\ttotal: 1m 47s\tremaining: 1m 40s\n",
            "460:\tlearn: 0.0117728\ttotal: 1m 47s\tremaining: 1m 40s\n",
            "461:\tlearn: 0.0116852\ttotal: 1m 48s\tremaining: 1m 39s\n",
            "462:\tlearn: 0.0116059\ttotal: 1m 48s\tremaining: 1m 39s\n",
            "463:\tlearn: 0.0115462\ttotal: 1m 48s\tremaining: 1m 39s\n",
            "464:\tlearn: 0.0114923\ttotal: 1m 48s\tremaining: 1m 39s\n",
            "465:\tlearn: 0.0114662\ttotal: 1m 49s\tremaining: 1m 38s\n",
            "466:\tlearn: 0.0114177\ttotal: 1m 49s\tremaining: 1m 38s\n",
            "467:\tlearn: 0.0113507\ttotal: 1m 49s\tremaining: 1m 38s\n",
            "468:\tlearn: 0.0112565\ttotal: 1m 49s\tremaining: 1m 38s\n",
            "469:\tlearn: 0.0112318\ttotal: 1m 49s\tremaining: 1m 38s\n",
            "470:\tlearn: 0.0111807\ttotal: 1m 50s\tremaining: 1m 37s\n",
            "471:\tlearn: 0.0110862\ttotal: 1m 50s\tremaining: 1m 37s\n",
            "472:\tlearn: 0.0110190\ttotal: 1m 50s\tremaining: 1m 37s\n",
            "473:\tlearn: 0.0109501\ttotal: 1m 50s\tremaining: 1m 37s\n",
            "474:\tlearn: 0.0109127\ttotal: 1m 51s\tremaining: 1m 36s\n",
            "475:\tlearn: 0.0108700\ttotal: 1m 51s\tremaining: 1m 36s\n",
            "476:\tlearn: 0.0108356\ttotal: 1m 51s\tremaining: 1m 36s\n",
            "477:\tlearn: 0.0107659\ttotal: 1m 51s\tremaining: 1m 36s\n",
            "478:\tlearn: 0.0106901\ttotal: 1m 52s\tremaining: 1m 35s\n",
            "479:\tlearn: 0.0105928\ttotal: 1m 52s\tremaining: 1m 35s\n",
            "480:\tlearn: 0.0105231\ttotal: 1m 52s\tremaining: 1m 35s\n",
            "481:\tlearn: 0.0104070\ttotal: 1m 52s\tremaining: 1m 35s\n",
            "482:\tlearn: 0.0103541\ttotal: 1m 53s\tremaining: 1m 35s\n",
            "483:\tlearn: 0.0102819\ttotal: 1m 53s\tremaining: 1m 34s\n",
            "484:\tlearn: 0.0102361\ttotal: 1m 53s\tremaining: 1m 34s\n",
            "485:\tlearn: 0.0101607\ttotal: 1m 53s\tremaining: 1m 34s\n",
            "486:\tlearn: 0.0100476\ttotal: 1m 54s\tremaining: 1m 34s\n",
            "487:\tlearn: 0.0100040\ttotal: 1m 54s\tremaining: 1m 33s\n",
            "488:\tlearn: 0.0099517\ttotal: 1m 54s\tremaining: 1m 33s\n",
            "489:\tlearn: 0.0098984\ttotal: 1m 54s\tremaining: 1m 33s\n",
            "490:\tlearn: 0.0098286\ttotal: 1m 55s\tremaining: 1m 33s\n",
            "491:\tlearn: 0.0097539\ttotal: 1m 55s\tremaining: 1m 33s\n",
            "492:\tlearn: 0.0096979\ttotal: 1m 55s\tremaining: 1m 32s\n",
            "493:\tlearn: 0.0096698\ttotal: 1m 55s\tremaining: 1m 32s\n",
            "494:\tlearn: 0.0096050\ttotal: 1m 56s\tremaining: 1m 32s\n",
            "495:\tlearn: 0.0095208\ttotal: 1m 56s\tremaining: 1m 32s\n",
            "496:\tlearn: 0.0094968\ttotal: 1m 56s\tremaining: 1m 31s\n",
            "497:\tlearn: 0.0094344\ttotal: 1m 56s\tremaining: 1m 31s\n",
            "498:\tlearn: 0.0093768\ttotal: 1m 56s\tremaining: 1m 31s\n",
            "499:\tlearn: 0.0093390\ttotal: 1m 57s\tremaining: 1m 31s\n",
            "500:\tlearn: 0.0092944\ttotal: 1m 57s\tremaining: 1m 30s\n",
            "501:\tlearn: 0.0091929\ttotal: 1m 57s\tremaining: 1m 30s\n",
            "502:\tlearn: 0.0091170\ttotal: 1m 57s\tremaining: 1m 30s\n",
            "503:\tlearn: 0.0090729\ttotal: 1m 58s\tremaining: 1m 30s\n",
            "504:\tlearn: 0.0090129\ttotal: 1m 58s\tremaining: 1m 30s\n",
            "505:\tlearn: 0.0089773\ttotal: 1m 58s\tremaining: 1m 29s\n",
            "506:\tlearn: 0.0089021\ttotal: 1m 58s\tremaining: 1m 29s\n",
            "507:\tlearn: 0.0088362\ttotal: 1m 59s\tremaining: 1m 29s\n",
            "508:\tlearn: 0.0087974\ttotal: 1m 59s\tremaining: 1m 29s\n",
            "509:\tlearn: 0.0087762\ttotal: 1m 59s\tremaining: 1m 28s\n",
            "510:\tlearn: 0.0087373\ttotal: 1m 59s\tremaining: 1m 28s\n",
            "511:\tlearn: 0.0086929\ttotal: 2m\tremaining: 1m 28s\n",
            "512:\tlearn: 0.0086577\ttotal: 2m\tremaining: 1m 28s\n",
            "513:\tlearn: 0.0086006\ttotal: 2m\tremaining: 1m 27s\n",
            "514:\tlearn: 0.0085600\ttotal: 2m\tremaining: 1m 27s\n",
            "515:\tlearn: 0.0085303\ttotal: 2m\tremaining: 1m 27s\n",
            "516:\tlearn: 0.0084529\ttotal: 2m 1s\tremaining: 1m 27s\n",
            "517:\tlearn: 0.0083942\ttotal: 2m 1s\tremaining: 1m 26s\n",
            "518:\tlearn: 0.0083389\ttotal: 2m 1s\tremaining: 1m 26s\n",
            "519:\tlearn: 0.0082754\ttotal: 2m 1s\tremaining: 1m 26s\n",
            "520:\tlearn: 0.0082077\ttotal: 2m 2s\tremaining: 1m 26s\n",
            "521:\tlearn: 0.0081694\ttotal: 2m 2s\tremaining: 1m 26s\n",
            "522:\tlearn: 0.0081312\ttotal: 2m 2s\tremaining: 1m 25s\n",
            "523:\tlearn: 0.0080752\ttotal: 2m 2s\tremaining: 1m 25s\n",
            "524:\tlearn: 0.0080238\ttotal: 2m 3s\tremaining: 1m 25s\n",
            "525:\tlearn: 0.0079483\ttotal: 2m 3s\tremaining: 1m 25s\n",
            "526:\tlearn: 0.0078946\ttotal: 2m 3s\tremaining: 1m 24s\n",
            "527:\tlearn: 0.0078713\ttotal: 2m 3s\tremaining: 1m 24s\n",
            "528:\tlearn: 0.0078437\ttotal: 2m 4s\tremaining: 1m 24s\n",
            "529:\tlearn: 0.0077934\ttotal: 2m 4s\tremaining: 1m 24s\n",
            "530:\tlearn: 0.0077637\ttotal: 2m 4s\tremaining: 1m 23s\n",
            "531:\tlearn: 0.0077340\ttotal: 2m 4s\tremaining: 1m 23s\n",
            "532:\tlearn: 0.0076811\ttotal: 2m 5s\tremaining: 1m 23s\n",
            "533:\tlearn: 0.0076445\ttotal: 2m 5s\tremaining: 1m 23s\n",
            "534:\tlearn: 0.0076039\ttotal: 2m 5s\tremaining: 1m 23s\n",
            "535:\tlearn: 0.0075702\ttotal: 2m 5s\tremaining: 1m 22s\n",
            "536:\tlearn: 0.0075384\ttotal: 2m 5s\tremaining: 1m 22s\n",
            "537:\tlearn: 0.0075141\ttotal: 2m 6s\tremaining: 1m 22s\n",
            "538:\tlearn: 0.0074743\ttotal: 2m 6s\tremaining: 1m 22s\n",
            "539:\tlearn: 0.0074355\ttotal: 2m 6s\tremaining: 1m 21s\n",
            "540:\tlearn: 0.0073727\ttotal: 2m 6s\tremaining: 1m 21s\n",
            "541:\tlearn: 0.0073510\ttotal: 2m 7s\tremaining: 1m 21s\n",
            "542:\tlearn: 0.0073167\ttotal: 2m 7s\tremaining: 1m 21s\n",
            "543:\tlearn: 0.0072826\ttotal: 2m 7s\tremaining: 1m 20s\n",
            "544:\tlearn: 0.0072404\ttotal: 2m 7s\tremaining: 1m 20s\n",
            "545:\tlearn: 0.0072034\ttotal: 2m 8s\tremaining: 1m 20s\n",
            "546:\tlearn: 0.0071741\ttotal: 2m 8s\tremaining: 1m 20s\n",
            "547:\tlearn: 0.0071322\ttotal: 2m 8s\tremaining: 1m 20s\n",
            "548:\tlearn: 0.0070938\ttotal: 2m 8s\tremaining: 1m 19s\n",
            "549:\tlearn: 0.0070626\ttotal: 2m 9s\tremaining: 1m 19s\n",
            "550:\tlearn: 0.0070271\ttotal: 2m 9s\tremaining: 1m 19s\n",
            "551:\tlearn: 0.0069988\ttotal: 2m 9s\tremaining: 1m 19s\n",
            "552:\tlearn: 0.0069418\ttotal: 2m 9s\tremaining: 1m 18s\n",
            "553:\tlearn: 0.0069051\ttotal: 2m 10s\tremaining: 1m 18s\n",
            "554:\tlearn: 0.0068562\ttotal: 2m 10s\tremaining: 1m 18s\n",
            "555:\tlearn: 0.0068114\ttotal: 2m 10s\tremaining: 1m 18s\n",
            "556:\tlearn: 0.0067572\ttotal: 2m 10s\tremaining: 1m 17s\n",
            "557:\tlearn: 0.0067310\ttotal: 2m 10s\tremaining: 1m 17s\n",
            "558:\tlearn: 0.0067050\ttotal: 2m 11s\tremaining: 1m 17s\n",
            "559:\tlearn: 0.0066631\ttotal: 2m 11s\tremaining: 1m 17s\n",
            "560:\tlearn: 0.0066142\ttotal: 2m 11s\tremaining: 1m 17s\n",
            "561:\tlearn: 0.0065761\ttotal: 2m 11s\tremaining: 1m 16s\n",
            "562:\tlearn: 0.0065347\ttotal: 2m 12s\tremaining: 1m 16s\n",
            "563:\tlearn: 0.0065073\ttotal: 2m 12s\tremaining: 1m 16s\n",
            "564:\tlearn: 0.0064797\ttotal: 2m 12s\tremaining: 1m 16s\n",
            "565:\tlearn: 0.0064570\ttotal: 2m 12s\tremaining: 1m 15s\n",
            "566:\tlearn: 0.0064289\ttotal: 2m 13s\tremaining: 1m 15s\n",
            "567:\tlearn: 0.0063715\ttotal: 2m 13s\tremaining: 1m 15s\n",
            "568:\tlearn: 0.0063331\ttotal: 2m 13s\tremaining: 1m 15s\n",
            "569:\tlearn: 0.0063040\ttotal: 2m 13s\tremaining: 1m 14s\n",
            "570:\tlearn: 0.0062709\ttotal: 2m 14s\tremaining: 1m 14s\n",
            "571:\tlearn: 0.0062334\ttotal: 2m 14s\tremaining: 1m 14s\n",
            "572:\tlearn: 0.0061936\ttotal: 2m 14s\tremaining: 1m 14s\n",
            "573:\tlearn: 0.0061502\ttotal: 2m 14s\tremaining: 1m 13s\n",
            "574:\tlearn: 0.0061180\ttotal: 2m 15s\tremaining: 1m 13s\n",
            "575:\tlearn: 0.0060779\ttotal: 2m 15s\tremaining: 1m 13s\n",
            "576:\tlearn: 0.0060562\ttotal: 2m 15s\tremaining: 1m 13s\n",
            "577:\tlearn: 0.0060391\ttotal: 2m 15s\tremaining: 1m 13s\n",
            "578:\tlearn: 0.0060170\ttotal: 2m 16s\tremaining: 1m 12s\n",
            "579:\tlearn: 0.0059979\ttotal: 2m 16s\tremaining: 1m 12s\n",
            "580:\tlearn: 0.0059826\ttotal: 2m 16s\tremaining: 1m 12s\n",
            "581:\tlearn: 0.0059226\ttotal: 2m 16s\tremaining: 1m 12s\n",
            "582:\tlearn: 0.0058900\ttotal: 2m 16s\tremaining: 1m 11s\n",
            "583:\tlearn: 0.0058697\ttotal: 2m 17s\tremaining: 1m 11s\n",
            "584:\tlearn: 0.0058261\ttotal: 2m 17s\tremaining: 1m 11s\n",
            "585:\tlearn: 0.0057926\ttotal: 2m 17s\tremaining: 1m 11s\n",
            "586:\tlearn: 0.0057574\ttotal: 2m 17s\tremaining: 1m 10s\n",
            "587:\tlearn: 0.0057371\ttotal: 2m 18s\tremaining: 1m 10s\n",
            "588:\tlearn: 0.0057071\ttotal: 2m 18s\tremaining: 1m 10s\n",
            "589:\tlearn: 0.0056751\ttotal: 2m 18s\tremaining: 1m 10s\n",
            "590:\tlearn: 0.0056371\ttotal: 2m 18s\tremaining: 1m 10s\n",
            "591:\tlearn: 0.0056166\ttotal: 2m 19s\tremaining: 1m 9s\n",
            "592:\tlearn: 0.0055822\ttotal: 2m 19s\tremaining: 1m 9s\n",
            "593:\tlearn: 0.0055395\ttotal: 2m 19s\tremaining: 1m 9s\n",
            "594:\tlearn: 0.0055099\ttotal: 2m 19s\tremaining: 1m 9s\n",
            "595:\tlearn: 0.0054913\ttotal: 2m 20s\tremaining: 1m 8s\n",
            "596:\tlearn: 0.0054682\ttotal: 2m 20s\tremaining: 1m 8s\n",
            "597:\tlearn: 0.0054350\ttotal: 2m 20s\tremaining: 1m 8s\n",
            "598:\tlearn: 0.0054116\ttotal: 2m 20s\tremaining: 1m 8s\n",
            "599:\tlearn: 0.0053782\ttotal: 2m 21s\tremaining: 1m 7s\n",
            "600:\tlearn: 0.0053418\ttotal: 2m 21s\tremaining: 1m 7s\n",
            "601:\tlearn: 0.0053290\ttotal: 2m 21s\tremaining: 1m 7s\n",
            "602:\tlearn: 0.0052878\ttotal: 2m 21s\tremaining: 1m 7s\n",
            "603:\tlearn: 0.0052567\ttotal: 2m 22s\tremaining: 1m 7s\n",
            "604:\tlearn: 0.0052374\ttotal: 2m 22s\tremaining: 1m 6s\n",
            "605:\tlearn: 0.0052179\ttotal: 2m 22s\tremaining: 1m 6s\n",
            "606:\tlearn: 0.0052014\ttotal: 2m 22s\tremaining: 1m 6s\n",
            "607:\tlearn: 0.0051917\ttotal: 2m 22s\tremaining: 1m 6s\n",
            "608:\tlearn: 0.0051685\ttotal: 2m 23s\tremaining: 1m 5s\n",
            "609:\tlearn: 0.0051222\ttotal: 2m 23s\tremaining: 1m 5s\n",
            "610:\tlearn: 0.0050927\ttotal: 2m 23s\tremaining: 1m 5s\n",
            "611:\tlearn: 0.0050734\ttotal: 2m 23s\tremaining: 1m 5s\n",
            "612:\tlearn: 0.0050535\ttotal: 2m 24s\tremaining: 1m 4s\n",
            "613:\tlearn: 0.0050225\ttotal: 2m 24s\tremaining: 1m 4s\n",
            "614:\tlearn: 0.0050049\ttotal: 2m 24s\tremaining: 1m 4s\n",
            "615:\tlearn: 0.0049848\ttotal: 2m 24s\tremaining: 1m 4s\n",
            "616:\tlearn: 0.0049454\ttotal: 2m 25s\tremaining: 1m 3s\n",
            "617:\tlearn: 0.0049271\ttotal: 2m 25s\tremaining: 1m 3s\n",
            "618:\tlearn: 0.0049055\ttotal: 2m 25s\tremaining: 1m 3s\n",
            "619:\tlearn: 0.0048884\ttotal: 2m 25s\tremaining: 1m 3s\n",
            "620:\tlearn: 0.0048589\ttotal: 2m 26s\tremaining: 1m 3s\n",
            "621:\tlearn: 0.0048455\ttotal: 2m 26s\tremaining: 1m 2s\n",
            "622:\tlearn: 0.0048241\ttotal: 2m 26s\tremaining: 1m 2s\n",
            "623:\tlearn: 0.0047859\ttotal: 2m 26s\tremaining: 1m 2s\n",
            "624:\tlearn: 0.0047514\ttotal: 2m 27s\tremaining: 1m 2s\n",
            "625:\tlearn: 0.0047390\ttotal: 2m 27s\tremaining: 1m 1s\n",
            "626:\tlearn: 0.0047218\ttotal: 2m 27s\tremaining: 1m 1s\n",
            "627:\tlearn: 0.0047041\ttotal: 2m 27s\tremaining: 1m 1s\n",
            "628:\tlearn: 0.0046812\ttotal: 2m 28s\tremaining: 1m 1s\n",
            "629:\tlearn: 0.0046632\ttotal: 2m 28s\tremaining: 1m\n",
            "630:\tlearn: 0.0046451\ttotal: 2m 28s\tremaining: 1m\n",
            "631:\tlearn: 0.0046277\ttotal: 2m 28s\tremaining: 1m\n",
            "632:\tlearn: 0.0046047\ttotal: 2m 29s\tremaining: 1m\n",
            "633:\tlearn: 0.0045852\ttotal: 2m 29s\tremaining: 1m\n",
            "634:\tlearn: 0.0045618\ttotal: 2m 29s\tremaining: 59.8s\n",
            "635:\tlearn: 0.0045423\ttotal: 2m 29s\tremaining: 59.6s\n",
            "636:\tlearn: 0.0045181\ttotal: 2m 30s\tremaining: 59.3s\n",
            "637:\tlearn: 0.0044912\ttotal: 2m 30s\tremaining: 59.1s\n",
            "638:\tlearn: 0.0044624\ttotal: 2m 30s\tremaining: 58.9s\n",
            "639:\tlearn: 0.0044543\ttotal: 2m 30s\tremaining: 58.6s\n",
            "640:\tlearn: 0.0044337\ttotal: 2m 30s\tremaining: 58.4s\n",
            "641:\tlearn: 0.0044213\ttotal: 2m 31s\tremaining: 58.2s\n",
            "642:\tlearn: 0.0044007\ttotal: 2m 31s\tremaining: 57.9s\n",
            "643:\tlearn: 0.0043816\ttotal: 2m 31s\tremaining: 57.7s\n",
            "644:\tlearn: 0.0043667\ttotal: 2m 31s\tremaining: 57.5s\n",
            "645:\tlearn: 0.0043555\ttotal: 2m 32s\tremaining: 57.2s\n",
            "646:\tlearn: 0.0043190\ttotal: 2m 32s\tremaining: 57s\n",
            "647:\tlearn: 0.0043055\ttotal: 2m 32s\tremaining: 56.8s\n",
            "648:\tlearn: 0.0042884\ttotal: 2m 32s\tremaining: 56.5s\n",
            "649:\tlearn: 0.0042641\ttotal: 2m 33s\tremaining: 56.3s\n",
            "650:\tlearn: 0.0042390\ttotal: 2m 33s\tremaining: 56.1s\n"
          ]
        }
      ]
    },
    {
      "cell_type": "code",
      "source": [
        "cat_boost_results = fit_grid_search(\n",
        "    {'CatBoost': cat_boost_model},\n",
        "    X_=X_trainval,\n",
        "    Y_=Y_trainval,\n",
        "    cv_=5,\n",
        "    scoring_='accuracy',\n",
        "    verbose=2\n",
        ")"
      ],
      "metadata": {
        "colab": {
          "base_uri": "https://localhost:8080/",
          "height": 523
        },
        "id": "wxlPjdXRgZLC",
        "outputId": "cd0edbef-c472-4385-8b9e-56cd9b203329"
      },
      "execution_count": 22,
      "outputs": [
        {
          "output_type": "stream",
          "name": "stdout",
          "text": [
            "Fitting CatBoost\n",
            "Fitting 5 folds for each of 2 candidates, totalling 10 fits\n",
            "[CV] END depth=5, iterations=200, random_state=42, reg_lambda=0.01, verbose=0; total time=   1.4s\n",
            "[CV] END depth=5, iterations=200, random_state=42, reg_lambda=0.01, verbose=0; total time=   0.8s\n",
            "[CV] END depth=5, iterations=200, random_state=42, reg_lambda=0.01, verbose=0; total time=   0.8s\n",
            "[CV] END depth=5, iterations=200, random_state=42, reg_lambda=0.01, verbose=0; total time=   0.8s\n",
            "[CV] END depth=5, iterations=200, random_state=42, reg_lambda=0.01, verbose=0; total time=   0.8s\n",
            "[CV] END depth=5, iterations=2000, random_state=42, reg_lambda=0.01, verbose=0; total time=   7.0s\n",
            "[CV] END depth=5, iterations=2000, random_state=42, reg_lambda=0.01, verbose=0; total time=   9.5s\n",
            "[CV] END depth=5, iterations=2000, random_state=42, reg_lambda=0.01, verbose=0; total time=  13.2s\n",
            "[CV] END depth=5, iterations=2000, random_state=42, reg_lambda=0.01, verbose=0; total time=  14.3s\n",
            "[CV] END depth=5, iterations=2000, random_state=42, reg_lambda=0.01, verbose=0; total time=   9.6s\n"
          ]
        },
        {
          "output_type": "display_data",
          "data": {
            "text/plain": [
              "<Figure size 432x288 with 1 Axes>"
            ],
            "image/png": "[encoded data removed]"
          },
          "metadata": {
            "needs_background": "light"
          }
        }
      ]
    },
    {
      "cell_type": "code",
      "source": [
        "cat_boost_results['CatBoost'].best_score_, \\\n",
        "    cat_boost_results['CatBoost'].best_params_"
      ],
      "metadata": {
        "colab": {
          "base_uri": "https://localhost:8080/"
        },
        "id": "FPJrkD4LgyhR",
        "outputId": "b783b43b-5f82-408b-aa55-c85bfce82af0"
      },
      "execution_count": 23,
      "outputs": [
        {
          "output_type": "execute_result",
          "data": {
            "text/plain": [
              "(0.8008352771413352,\n",
              " {'depth': 5,\n",
              "  'iterations': 2000,\n",
              "  'random_state': 42,\n",
              "  'reg_lambda': 0.01,\n",
              "  'verbose': 0})"
            ]
          },
          "metadata": {},
          "execution_count": 23
        }
      ]
    },
    {
      "cell_type": "markdown",
      "source": [
        "## LogReg"
      ],
      "metadata": {
        "id": "GiFIDbXixwCC"
      }
    },
    {
      "cell_type": "code",
      "source": [
        "from sklearn_utils import fit_grid_search\n",
        "\n",
        "\n",
        "log_reg_results = plot_cv_results(\n",
        "    {\n",
        "        'LogReg': LogisticRegression()\n",
        "    },\n",
        "    # dict_subset(\n",
        "    #     shortlisted_models,\n",
        "    #     ['LogReg']\n",
        "    # ),\n",
        "    X_=X_trainval,\n",
        "    Y_=Y_trainval,\n",
        "    cv_=5,\n",
        "    scoring_='accuracy',\n",
        "    # verbose=1\n",
        ")"
      ],
      "metadata": {
        "id": "IYkSMdzzxyUo",
        "outputId": "60347d37-9d56-4841-e801-4fb286fd55f4",
        "colab": {
          "base_uri": "https://localhost:8080/",
          "height": 1000
        }
      },
      "execution_count": null,
      "outputs": [
        {
          "output_type": "stream",
          "name": "stderr",
          "text": [
            "/usr/local/lib/python3.7/dist-packages/sklearn/linear_model/_logistic.py:818: ConvergenceWarning: lbfgs failed to converge (status=1):\n",
            "STOP: TOTAL NO. of ITERATIONS REACHED LIMIT.\n",
            "\n",
            "Increase the number of iterations (max_iter) or scale the data as shown in:\n",
            "    https://scikit-learn.org/stable/modules/preprocessing.html\n",
            "Please also refer to the documentation for alternative solver options:\n",
            "    https://scikit-learn.org/stable/modules/linear_model.html#logistic-regression\n",
            "  extra_warning_msg=_LOGISTIC_SOLVER_CONVERGENCE_MSG,\n",
            "/usr/local/lib/python3.7/dist-packages/sklearn/linear_model/_logistic.py:818: ConvergenceWarning: lbfgs failed to converge (status=1):\n",
            "STOP: TOTAL NO. of ITERATIONS REACHED LIMIT.\n",
            "\n",
            "Increase the number of iterations (max_iter) or scale the data as shown in:\n",
            "    https://scikit-learn.org/stable/modules/preprocessing.html\n",
            "Please also refer to the documentation for alternative solver options:\n",
            "    https://scikit-learn.org/stable/modules/linear_model.html#logistic-regression\n",
            "  extra_warning_msg=_LOGISTIC_SOLVER_CONVERGENCE_MSG,\n",
            "/usr/local/lib/python3.7/dist-packages/sklearn/linear_model/_logistic.py:818: ConvergenceWarning: lbfgs failed to converge (status=1):\n",
            "STOP: TOTAL NO. of ITERATIONS REACHED LIMIT.\n",
            "\n",
            "Increase the number of iterations (max_iter) or scale the data as shown in:\n",
            "    https://scikit-learn.org/stable/modules/preprocessing.html\n",
            "Please also refer to the documentation for alternative solver options:\n",
            "    https://scikit-learn.org/stable/modules/linear_model.html#logistic-regression\n",
            "  extra_warning_msg=_LOGISTIC_SOLVER_CONVERGENCE_MSG,\n",
            "/usr/local/lib/python3.7/dist-packages/sklearn/linear_model/_logistic.py:818: ConvergenceWarning: lbfgs failed to converge (status=1):\n",
            "STOP: TOTAL NO. of ITERATIONS REACHED LIMIT.\n",
            "\n",
            "Increase the number of iterations (max_iter) or scale the data as shown in:\n",
            "    https://scikit-learn.org/stable/modules/preprocessing.html\n",
            "Please also refer to the documentation for alternative solver options:\n",
            "    https://scikit-learn.org/stable/modules/linear_model.html#logistic-regression\n",
            "  extra_warning_msg=_LOGISTIC_SOLVER_CONVERGENCE_MSG,\n",
            "/usr/local/lib/python3.7/dist-packages/sklearn/linear_model/_logistic.py:818: ConvergenceWarning: lbfgs failed to converge (status=1):\n",
            "STOP: TOTAL NO. of ITERATIONS REACHED LIMIT.\n",
            "\n",
            "Increase the number of iterations (max_iter) or scale the data as shown in:\n",
            "    https://scikit-learn.org/stable/modules/preprocessing.html\n",
            "Please also refer to the documentation for alternative solver options:\n",
            "    https://scikit-learn.org/stable/modules/linear_model.html#logistic-regression\n",
            "  extra_warning_msg=_LOGISTIC_SOLVER_CONVERGENCE_MSG,\n"
          ]
        },
        {
          "output_type": "stream",
          "name": "stdout",
          "text": [
            "Model      Seen folds avg score    Seen folds std    Unseen folds avg score    Unseen folds std\n",
            "-------  ----------------------  ----------------  ------------------------  ------------------\n",
            "LogReg                 0.794507        0.00163821                   0.79048          0.00483232\n"
          ]
        },
        {
          "output_type": "display_data",
          "data": {
            "text/plain": [
              "<Figure size 432x288 with 1 Axes>"
            ],
            "image/png": "[encoded data removed]"
          },
          "metadata": {
            "needs_background": "light"
          }
        }
      ]
    },
    {
      "cell_type": "markdown",
      "source": [
        "## Light GBM"
      ],
      "metadata": {
        "id": "8YVwnf0kuVvk"
      }
    },
    {
      "cell_type": "code",
      "source": [
        "from sklearn_utils import fit_grid_search\n",
        "\n",
        "\n",
        "light_gbm_results = fit_grid_search(\n",
        "    dict_subset(\n",
        "        all_models,\n",
        "        ['LGBM']\n",
        "    ),\n",
        "    X_=X_trainval,\n",
        "    Y_=Y_trainval,\n",
        "    cv_=5,\n",
        "    scoring_='accuracy',\n",
        "    verbose=3\n",
        ")"
      ],
      "metadata": {
        "id": "TiiKRrJmuaz6",
        "outputId": "d9aaf809-2669-4314-affb-b9c2135e6017",
        "colab": {
          "base_uri": "https://localhost:8080/",
          "height": 1000
        }
      },
      "execution_count": null,
      "outputs": [
        {
          "output_type": "stream",
          "name": "stdout",
          "text": [
            "Fitting LGBM\n",
            "Fitting 5 folds for each of 12 candidates, totalling 60 fits\n",
            "[CV 1/5] END boosting=dart, lambda_l1=0.07, lambda_l2=0.07, learning_rate=0.1, max_depth=3, n_estimators=100, objective=binary, random_state=42;, score=(train=0.805, test=0.776) total time=   0.2s\n",
            "[CV 2/5] END boosting=dart, lambda_l1=0.07, lambda_l2=0.07, learning_rate=0.1, max_depth=3, n_estimators=100, objective=binary, random_state=42;, score=(train=0.801, test=0.794) total time=   0.2s\n",
            "[CV 3/5] END boosting=dart, lambda_l1=0.07, lambda_l2=0.07, learning_rate=0.1, max_depth=3, n_estimators=100, objective=binary, random_state=42;, score=(train=0.806, test=0.782) total time=   0.2s\n",
            "[CV 4/5] END boosting=dart, lambda_l1=0.07, lambda_l2=0.07, learning_rate=0.1, max_depth=3, n_estimators=100, objective=binary, random_state=42;, score=(train=0.799, test=0.803) total time=   0.3s\n",
            "[CV 5/5] END boosting=dart, lambda_l1=0.07, lambda_l2=0.07, learning_rate=0.1, max_depth=3, n_estimators=100, objective=binary, random_state=42;, score=(train=0.798, test=0.800) total time=   0.2s\n",
            "[CV 1/5] END boosting=dart, lambda_l1=0.07, lambda_l2=0.07, learning_rate=0.1, max_depth=3, n_estimators=150, objective=binary, random_state=42;, score=(train=0.807, test=0.774) total time=   0.4s\n",
            "[CV 2/5] END boosting=dart, lambda_l1=0.07, lambda_l2=0.07, learning_rate=0.1, max_depth=3, n_estimators=150, objective=binary, random_state=42;, score=(train=0.803, test=0.792) total time=   0.4s\n",
            "[CV 3/5] END boosting=dart, lambda_l1=0.07, lambda_l2=0.07, learning_rate=0.1, max_depth=3, n_estimators=150, objective=binary, random_state=42;, score=(train=0.809, test=0.788) total time=   0.4s\n",
            "[CV 4/5] END boosting=dart, lambda_l1=0.07, lambda_l2=0.07, learning_rate=0.1, max_depth=3, n_estimators=150, objective=binary, random_state=42;, score=(train=0.804, test=0.803) total time=   0.4s\n",
            "[CV 5/5] END boosting=dart, lambda_l1=0.07, lambda_l2=0.07, learning_rate=0.1, max_depth=3, n_estimators=150, objective=binary, random_state=42;, score=(train=0.800, test=0.801) total time=   0.4s\n",
            "[CV 1/5] END boosting=dart, lambda_l1=0.07, lambda_l2=0.07, learning_rate=0.1, max_depth=3, n_estimators=300, objective=binary, random_state=42;, score=(train=0.816, test=0.778) total time=   1.1s\n",
            "[CV 2/5] END boosting=dart, lambda_l1=0.07, lambda_l2=0.07, learning_rate=0.1, max_depth=3, n_estimators=300, objective=binary, random_state=42;, score=(train=0.812, test=0.801) total time=   1.2s\n",
            "[CV 3/5] END boosting=dart, lambda_l1=0.07, lambda_l2=0.07, learning_rate=0.1, max_depth=3, n_estimators=300, objective=binary, random_state=42;, score=(train=0.817, test=0.788) total time=   1.1s\n",
            "[CV 4/5] END boosting=dart, lambda_l1=0.07, lambda_l2=0.07, learning_rate=0.1, max_depth=3, n_estimators=300, objective=binary, random_state=42;, score=(train=0.810, test=0.807) total time=   1.1s\n",
            "[CV 5/5] END boosting=dart, lambda_l1=0.07, lambda_l2=0.07, learning_rate=0.1, max_depth=3, n_estimators=300, objective=binary, random_state=42;, score=(train=0.807, test=0.801) total time=   1.1s\n",
            "[CV 1/5] END boosting=dart, lambda_l1=0.07, lambda_l2=0.07, learning_rate=0.1, max_depth=4, n_estimators=100, objective=binary, random_state=42;, score=(train=0.818, test=0.784) total time=   0.3s\n",
            "[CV 2/5] END boosting=dart, lambda_l1=0.07, lambda_l2=0.07, learning_rate=0.1, max_depth=4, n_estimators=100, objective=binary, random_state=42;, score=(train=0.817, test=0.789) total time=   0.3s\n",
            "[CV 3/5] END boosting=dart, lambda_l1=0.07, lambda_l2=0.07, learning_rate=0.1, max_depth=4, n_estimators=100, objective=binary, random_state=42;, score=(train=0.815, test=0.785) total time=   0.3s\n",
            "[CV 4/5] END boosting=dart, lambda_l1=0.07, lambda_l2=0.07, learning_rate=0.1, max_depth=4, n_estimators=100, objective=binary, random_state=42;, score=(train=0.811, test=0.804) total time=   0.3s\n",
            "[CV 5/5] END boosting=dart, lambda_l1=0.07, lambda_l2=0.07, learning_rate=0.1, max_depth=4, n_estimators=100, objective=binary, random_state=42;, score=(train=0.812, test=0.806) total time=   0.3s\n",
            "[CV 1/5] END boosting=dart, lambda_l1=0.07, lambda_l2=0.07, learning_rate=0.1, max_depth=4, n_estimators=150, objective=binary, random_state=42;, score=(train=0.821, test=0.788) total time=   0.6s\n",
            "[CV 2/5] END boosting=dart, lambda_l1=0.07, lambda_l2=0.07, learning_rate=0.1, max_depth=4, n_estimators=150, objective=binary, random_state=42;, score=(train=0.823, test=0.800) total time=   0.6s\n",
            "[CV 3/5] END boosting=dart, lambda_l1=0.07, lambda_l2=0.07, learning_rate=0.1, max_depth=4, n_estimators=150, objective=binary, random_state=42;, score=(train=0.821, test=0.794) total time=   0.6s\n",
            "[CV 4/5] END boosting=dart, lambda_l1=0.07, lambda_l2=0.07, learning_rate=0.1, max_depth=4, n_estimators=150, objective=binary, random_state=42;, score=(train=0.817, test=0.807) total time=   0.9s\n",
            "[CV 5/5] END boosting=dart, lambda_l1=0.07, lambda_l2=0.07, learning_rate=0.1, max_depth=4, n_estimators=150, objective=binary, random_state=42;, score=(train=0.816, test=0.809) total time=   0.5s\n",
            "[CV 1/5] END boosting=dart, lambda_l1=0.07, lambda_l2=0.07, learning_rate=0.1, max_depth=4, n_estimators=300, objective=binary, random_state=42;, score=(train=0.840, test=0.790) total time=   1.5s\n",
            "[CV 2/5] END boosting=dart, lambda_l1=0.07, lambda_l2=0.07, learning_rate=0.1, max_depth=4, n_estimators=300, objective=binary, random_state=42;, score=(train=0.838, test=0.805) total time=   1.6s\n",
            "[CV 3/5] END boosting=dart, lambda_l1=0.07, lambda_l2=0.07, learning_rate=0.1, max_depth=4, n_estimators=300, objective=binary, random_state=42;, score=(train=0.838, test=0.803) total time=   1.5s\n",
            "[CV 4/5] END boosting=dart, lambda_l1=0.07, lambda_l2=0.07, learning_rate=0.1, max_depth=4, n_estimators=300, objective=binary, random_state=42;, score=(train=0.837, test=0.813) total time=   1.5s\n",
            "[CV 5/5] END boosting=dart, lambda_l1=0.07, lambda_l2=0.07, learning_rate=0.1, max_depth=4, n_estimators=300, objective=binary, random_state=42;, score=(train=0.833, test=0.810) total time=   2.3s\n",
            "[CV 1/5] END boosting=dart, lambda_l1=0.07, lambda_l2=0.07, learning_rate=0.15, max_depth=3, n_estimators=100, objective=binary, random_state=42;, score=(train=0.813, test=0.781) total time=   0.3s\n",
            "[CV 2/5] END boosting=dart, lambda_l1=0.07, lambda_l2=0.07, learning_rate=0.15, max_depth=3, n_estimators=100, objective=binary, random_state=42;, score=(train=0.807, test=0.799) total time=   0.2s\n",
            "[CV 3/5] END boosting=dart, lambda_l1=0.07, lambda_l2=0.07, learning_rate=0.15, max_depth=3, n_estimators=100, objective=binary, random_state=42;, score=(train=0.811, test=0.788) total time=   1.6s\n",
            "[CV 4/5] END boosting=dart, lambda_l1=0.07, lambda_l2=0.07, learning_rate=0.15, max_depth=3, n_estimators=100, objective=binary, random_state=42;, score=(train=0.807, test=0.805) total time=   0.5s\n",
            "[CV 5/5] END boosting=dart, lambda_l1=0.07, lambda_l2=0.07, learning_rate=0.15, max_depth=3, n_estimators=100, objective=binary, random_state=42;, score=(train=0.803, test=0.800) total time=   0.2s\n",
            "[CV 1/5] END boosting=dart, lambda_l1=0.07, lambda_l2=0.07, learning_rate=0.15, max_depth=3, n_estimators=150, objective=binary, random_state=42;, score=(train=0.816, test=0.778) total time=   1.3s\n",
            "[CV 2/5] END boosting=dart, lambda_l1=0.07, lambda_l2=0.07, learning_rate=0.15, max_depth=3, n_estimators=150, objective=binary, random_state=42;, score=(train=0.809, test=0.802) total time=   0.4s\n",
            "[CV 3/5] END boosting=dart, lambda_l1=0.07, lambda_l2=0.07, learning_rate=0.15, max_depth=3, n_estimators=150, objective=binary, random_state=42;, score=(train=0.815, test=0.791) total time=   0.4s\n",
            "[CV 4/5] END boosting=dart, lambda_l1=0.07, lambda_l2=0.07, learning_rate=0.15, max_depth=3, n_estimators=150, objective=binary, random_state=42;, score=(train=0.809, test=0.806) total time=   0.4s\n",
            "[CV 5/5] END boosting=dart, lambda_l1=0.07, lambda_l2=0.07, learning_rate=0.15, max_depth=3, n_estimators=150, objective=binary, random_state=42;, score=(train=0.805, test=0.801) total time=   0.4s\n",
            "[CV 1/5] END boosting=dart, lambda_l1=0.07, lambda_l2=0.07, learning_rate=0.15, max_depth=3, n_estimators=300, objective=binary, random_state=42;, score=(train=0.827, test=0.784) total time=   1.1s\n",
            "[CV 2/5] END boosting=dart, lambda_l1=0.07, lambda_l2=0.07, learning_rate=0.15, max_depth=3, n_estimators=300, objective=binary, random_state=42;, score=(train=0.825, test=0.803) total time=   1.1s\n",
            "[CV 3/5] END boosting=dart, lambda_l1=0.07, lambda_l2=0.07, learning_rate=0.15, max_depth=3, n_estimators=300, objective=binary, random_state=42;, score=(train=0.825, test=0.790) total time=   1.1s\n",
            "[CV 4/5] END boosting=dart, lambda_l1=0.07, lambda_l2=0.07, learning_rate=0.15, max_depth=3, n_estimators=300, objective=binary, random_state=42;, score=(train=0.817, test=0.812) total time=   1.1s\n",
            "[CV 5/5] END boosting=dart, lambda_l1=0.07, lambda_l2=0.07, learning_rate=0.15, max_depth=3, n_estimators=300, objective=binary, random_state=42;, score=(train=0.816, test=0.805) total time=   1.1s\n",
            "[CV 1/5] END boosting=dart, lambda_l1=0.07, lambda_l2=0.07, learning_rate=0.15, max_depth=4, n_estimators=100, objective=binary, random_state=42;, score=(train=0.829, test=0.786) total time=   0.3s\n",
            "[CV 2/5] END boosting=dart, lambda_l1=0.07, lambda_l2=0.07, learning_rate=0.15, max_depth=4, n_estimators=100, objective=binary, random_state=42;, score=(train=0.827, test=0.802) total time=   0.3s\n",
            "[CV 3/5] END boosting=dart, lambda_l1=0.07, lambda_l2=0.07, learning_rate=0.15, max_depth=4, n_estimators=100, objective=binary, random_state=42;, score=(train=0.830, test=0.797) total time=   0.3s\n",
            "[CV 4/5] END boosting=dart, lambda_l1=0.07, lambda_l2=0.07, learning_rate=0.15, max_depth=4, n_estimators=100, objective=binary, random_state=42;, score=(train=0.828, test=0.808) total time=   0.3s\n",
            "[CV 5/5] END boosting=dart, lambda_l1=0.07, lambda_l2=0.07, learning_rate=0.15, max_depth=4, n_estimators=100, objective=binary, random_state=42;, score=(train=0.825, test=0.802) total time=   0.3s\n",
            "[CV 1/5] END boosting=dart, lambda_l1=0.07, lambda_l2=0.07, learning_rate=0.15, max_depth=4, n_estimators=150, objective=binary, random_state=42;, score=(train=0.834, test=0.785) total time=   0.5s\n",
            "[CV 2/5] END boosting=dart, lambda_l1=0.07, lambda_l2=0.07, learning_rate=0.15, max_depth=4, n_estimators=150, objective=binary, random_state=42;, score=(train=0.836, test=0.807) total time=   0.5s\n",
            "[CV 3/5] END boosting=dart, lambda_l1=0.07, lambda_l2=0.07, learning_rate=0.15, max_depth=4, n_estimators=150, objective=binary, random_state=42;, score=(train=0.833, test=0.802) total time=   0.5s\n",
            "[CV 4/5] END boosting=dart, lambda_l1=0.07, lambda_l2=0.07, learning_rate=0.15, max_depth=4, n_estimators=150, objective=binary, random_state=42;, score=(train=0.830, test=0.805) total time=   0.6s\n",
            "[CV 5/5] END boosting=dart, lambda_l1=0.07, lambda_l2=0.07, learning_rate=0.15, max_depth=4, n_estimators=150, objective=binary, random_state=42;, score=(train=0.829, test=0.806) total time=   0.5s\n",
            "[CV 1/5] END boosting=dart, lambda_l1=0.07, lambda_l2=0.07, learning_rate=0.15, max_depth=4, n_estimators=300, objective=binary, random_state=42;, score=(train=0.857, test=0.789) total time=   1.5s\n",
            "[CV 2/5] END boosting=dart, lambda_l1=0.07, lambda_l2=0.07, learning_rate=0.15, max_depth=4, n_estimators=300, objective=binary, random_state=42;, score=(train=0.855, test=0.807) total time=   1.5s\n",
            "[CV 3/5] END boosting=dart, lambda_l1=0.07, lambda_l2=0.07, learning_rate=0.15, max_depth=4, n_estimators=300, objective=binary, random_state=42;, score=(train=0.851, test=0.801) total time=   1.5s\n",
            "[CV 4/5] END boosting=dart, lambda_l1=0.07, lambda_l2=0.07, learning_rate=0.15, max_depth=4, n_estimators=300, objective=binary, random_state=42;, score=(train=0.846, test=0.814) total time=   1.5s\n",
            "[CV 5/5] END boosting=dart, lambda_l1=0.07, lambda_l2=0.07, learning_rate=0.15, max_depth=4, n_estimators=300, objective=binary, random_state=42;, score=(train=0.849, test=0.806) total time=   1.4s\n"
          ]
        },
        {
          "output_type": "display_data",
          "data": {
            "text/plain": [
              "<Figure size 432x288 with 1 Axes>"
            ],
            "image/png": "[encoded data removed]"
          },
          "metadata": {
            "needs_background": "light"
          }
        }
      ]
    },
    {
      "cell_type": "code",
      "source": [
        "light_gbm_results['LGBM'].best_score_, \\\n",
        "    light_gbm_results['LGBM'].best_params_"
      ],
      "metadata": {
        "id": "4KLi9utuusZK",
        "outputId": "41687ee0-9de4-4130-a5d7-11f1c82a6459",
        "colab": {
          "base_uri": "https://localhost:8080/"
        }
      },
      "execution_count": null,
      "outputs": [
        {
          "output_type": "execute_result",
          "data": {
            "text/plain": [
              "(0.8042861354338526,\n",
              " {'boosting': 'dart',\n",
              "  'lambda_l1': 0.07,\n",
              "  'lambda_l2': 0.07,\n",
              "  'learning_rate': 0.1,\n",
              "  'max_depth': 4,\n",
              "  'n_estimators': 300,\n",
              "  'objective': 'binary',\n",
              "  'random_state': 42})"
            ]
          },
          "metadata": {},
          "execution_count": 40
        }
      ]
    },
    {
      "cell_type": "markdown",
      "source": [
        "## Optuna LGBM"
      ],
      "metadata": {
        "id": "mjo7yMckLjqU"
      }
    },
    {
      "cell_type": "code",
      "source": [
        "# instantiate model\n",
        "def objective_lgbm(trial, X_train=X_trainval, y=Y_trainval):\n",
        "\n",
        "  param_grid_lgbm = {\n",
        "      'objective': trial.suggest_categorical('objective', ['binary']),\n",
        "      'boosting_type': trial.suggest_categorical('boosting_type', ['dart']),\n",
        "      'learning_rate': trial.suggest_float('learning_rate', 0.08, 0.15, step=0.005),\n",
        "      'num_leaves': trial.suggest_int('num_leaves', 7, 15, step=1),\n",
        "      'max_depth': trial.suggest_int('max_depth', 5, 15, step=1),\n",
        "      'n_estimators': trial.suggest_int('n_estimators', 475, 525, step=5),\n",
        "      'reg_alpha': trial.suggest_float('reg_alpha', 0.25, 0.75, step=0.05), \n",
        "      'reg_lambda': trial.suggest_float('reg_lambda', 0.85, 1, step=0.01),\n",
        "      'min_child_samples': trial.suggest_int('min_child_samples', 1, 25, step=2)\n",
        "      }\n",
        "\n",
        "  lgbm_classifier = LGBMClassifier(**param_grid_lgbm)\n",
        "\n",
        "  score = cross_val_score(lgbm_classifier, X_train, y, n_jobs=-1, cv=5)\n",
        "  return score.mean()"
      ],
      "metadata": {
        "id": "yCHUgxSuLpty"
      },
      "execution_count": null,
      "outputs": []
    },
    {
      "cell_type": "code",
      "source": [
        "study_lgbm = optuna.create_study(direction='maximize')"
      ],
      "metadata": {
        "id": "H5GIN0I3NjjR"
      },
      "execution_count": null,
      "outputs": []
    },
    {
      "cell_type": "code",
      "source": [
        "%timeit \n",
        "study_lgbm.optimize(objective_lgbm, n_trials=10)"
      ],
      "metadata": {
        "id": "LRP9RzjjNmRE"
      },
      "execution_count": null,
      "outputs": []
    },
    {
      "cell_type": "code",
      "source": [
        "round(study_lgbm.best_value, 4)"
      ],
      "metadata": {
        "colab": {
          "base_uri": "https://localhost:8080/"
        },
        "id": "Y_ZL1PnlNq_f",
        "outputId": "796b5009-25e0-4495-cb9d-36304dea8451"
      },
      "execution_count": null,
      "outputs": [
        {
          "output_type": "execute_result",
          "data": {
            "text/plain": [
              "0.8059"
            ]
          },
          "metadata": {},
          "execution_count": 26
        }
      ]
    },
    {
      "cell_type": "code",
      "source": [
        "optuna_lgbm = LGBMClassifier(**study_lgbm.best_params)\n",
        "optuna_lgbm.fit(X_trainval, Y_trainval)"
      ],
      "metadata": {
        "id": "g0CRXhHmQxo0",
        "outputId": "1cef65a9-fd06-415d-d149-aec0f87db742",
        "colab": {
          "base_uri": "https://localhost:8080/"
        }
      },
      "execution_count": null,
      "outputs": [
        {
          "output_type": "execute_result",
          "data": {
            "text/plain": [
              "LGBMClassifier(boosting_type='dart', learning_rate=0.115, max_depth=12,\n",
              "               min_child_samples=1, n_estimators=475, num_leaves=7,\n",
              "               objective='binary', reg_alpha=0.65, reg_lambda=0.95)"
            ]
          },
          "metadata": {},
          "execution_count": 27
        }
      ]
    },
    {
      "cell_type": "code",
      "source": [
        "optuna_lgbm_results = {'LGBMOptuna': optuna_lgbm}"
      ],
      "metadata": {
        "id": "oh1_Ub76RC5z"
      },
      "execution_count": null,
      "outputs": []
    },
    {
      "cell_type": "markdown",
      "source": [
        "## Optuna LogReg"
      ],
      "metadata": {
        "id": "gKQEjQgdLlOW"
      }
    },
    {
      "cell_type": "code",
      "source": [
        "def objective_logreg(trial, X_train=X_trainval, y=Y_trainval):\n",
        "    params = {\n",
        "        'tol' : trial.suggest_uniform('tol' , 1e-6 , 1e-3),\n",
        "        'C' : trial.suggest_loguniform(\"C\", 1e-2, 1),\n",
        "        'random_state' : trial.suggest_categorical('random_state' , [0, 42, 2021, 555]),\n",
        "        'solver' : trial.suggest_categorical('solver' , ['lbfgs','liblinear']),\n",
        "        \"n_jobs\" : -1\n",
        "    }\n",
        "    logreg_classifier = LogisticRegression(**params)\n",
        "\n",
        "    score = cross_val_score(logreg_classifier, X_train, y, n_jobs=-1, cv=5)\n",
        "    return score.mean()"
      ],
      "metadata": {
        "id": "Qa_Y-eUBNtsA"
      },
      "execution_count": null,
      "outputs": []
    },
    {
      "cell_type": "code",
      "source": [
        "study_logreg = optuna.create_study(direction='maximize')"
      ],
      "metadata": {
        "id": "blnhjeH3OyXO"
      },
      "execution_count": null,
      "outputs": []
    },
    {
      "cell_type": "code",
      "source": [
        "%timeit \n",
        "study_logreg.optimize(objective_logreg, n_trials=10)"
      ],
      "metadata": {
        "colab": {
          "base_uri": "https://localhost:8080/"
        },
        "id": "hhHVlB74OyQP",
        "outputId": "7009cbf5-2b7a-49b8-c65e-371ee83a71df"
      },
      "execution_count": null,
      "outputs": [
        {
          "output_type": "stream",
          "name": "stderr",
          "text": [
            "/usr/local/lib/python3.7/dist-packages/ipykernel_launcher.py:3: FutureWarning: suggest_uniform has been deprecated in v3.0.0. This feature will be removed in v6.0.0. See https://github.com/optuna/optuna/releases/tag/v3.0.0. Use :func:`~optuna.trial.Trial.suggest_float` instead.\n",
            "  This is separate from the ipykernel package so we can avoid doing imports until\n",
            "/usr/local/lib/python3.7/dist-packages/ipykernel_launcher.py:4: FutureWarning: suggest_loguniform has been deprecated in v3.0.0. This feature will be removed in v6.0.0. See https://github.com/optuna/optuna/releases/tag/v3.0.0. Use :func:`~optuna.trial.Trial.suggest_float` instead.\n",
            "  after removing the cwd from sys.path.\n",
            "/usr/local/lib/python3.7/dist-packages/ipykernel_launcher.py:3: FutureWarning: suggest_uniform has been deprecated in v3.0.0. This feature will be removed in v6.0.0. See https://github.com/optuna/optuna/releases/tag/v3.0.0. Use :func:`~optuna.trial.Trial.suggest_float` instead.\n",
            "  This is separate from the ipykernel package so we can avoid doing imports until\n",
            "/usr/local/lib/python3.7/dist-packages/ipykernel_launcher.py:4: FutureWarning: suggest_loguniform has been deprecated in v3.0.0. This feature will be removed in v6.0.0. See https://github.com/optuna/optuna/releases/tag/v3.0.0. Use :func:`~optuna.trial.Trial.suggest_float` instead.\n",
            "  after removing the cwd from sys.path.\n",
            "/usr/local/lib/python3.7/dist-packages/ipykernel_launcher.py:3: FutureWarning: suggest_uniform has been deprecated in v3.0.0. This feature will be removed in v6.0.0. See https://github.com/optuna/optuna/releases/tag/v3.0.0. Use :func:`~optuna.trial.Trial.suggest_float` instead.\n",
            "  This is separate from the ipykernel package so we can avoid doing imports until\n",
            "/usr/local/lib/python3.7/dist-packages/ipykernel_launcher.py:4: FutureWarning: suggest_loguniform has been deprecated in v3.0.0. This feature will be removed in v6.0.0. See https://github.com/optuna/optuna/releases/tag/v3.0.0. Use :func:`~optuna.trial.Trial.suggest_float` instead.\n",
            "  after removing the cwd from sys.path.\n",
            "/usr/local/lib/python3.7/dist-packages/ipykernel_launcher.py:3: FutureWarning: suggest_uniform has been deprecated in v3.0.0. This feature will be removed in v6.0.0. See https://github.com/optuna/optuna/releases/tag/v3.0.0. Use :func:`~optuna.trial.Trial.suggest_float` instead.\n",
            "  This is separate from the ipykernel package so we can avoid doing imports until\n",
            "/usr/local/lib/python3.7/dist-packages/ipykernel_launcher.py:4: FutureWarning: suggest_loguniform has been deprecated in v3.0.0. This feature will be removed in v6.0.0. See https://github.com/optuna/optuna/releases/tag/v3.0.0. Use :func:`~optuna.trial.Trial.suggest_float` instead.\n",
            "  after removing the cwd from sys.path.\n",
            "/usr/local/lib/python3.7/dist-packages/ipykernel_launcher.py:3: FutureWarning: suggest_uniform has been deprecated in v3.0.0. This feature will be removed in v6.0.0. See https://github.com/optuna/optuna/releases/tag/v3.0.0. Use :func:`~optuna.trial.Trial.suggest_float` instead.\n",
            "  This is separate from the ipykernel package so we can avoid doing imports until\n",
            "/usr/local/lib/python3.7/dist-packages/ipykernel_launcher.py:4: FutureWarning: suggest_loguniform has been deprecated in v3.0.0. This feature will be removed in v6.0.0. See https://github.com/optuna/optuna/releases/tag/v3.0.0. Use :func:`~optuna.trial.Trial.suggest_float` instead.\n",
            "  after removing the cwd from sys.path.\n",
            "/usr/local/lib/python3.7/dist-packages/ipykernel_launcher.py:3: FutureWarning: suggest_uniform has been deprecated in v3.0.0. This feature will be removed in v6.0.0. See https://github.com/optuna/optuna/releases/tag/v3.0.0. Use :func:`~optuna.trial.Trial.suggest_float` instead.\n",
            "  This is separate from the ipykernel package so we can avoid doing imports until\n",
            "/usr/local/lib/python3.7/dist-packages/ipykernel_launcher.py:4: FutureWarning: suggest_loguniform has been deprecated in v3.0.0. This feature will be removed in v6.0.0. See https://github.com/optuna/optuna/releases/tag/v3.0.0. Use :func:`~optuna.trial.Trial.suggest_float` instead.\n",
            "  after removing the cwd from sys.path.\n",
            "/usr/local/lib/python3.7/dist-packages/ipykernel_launcher.py:3: FutureWarning: suggest_uniform has been deprecated in v3.0.0. This feature will be removed in v6.0.0. See https://github.com/optuna/optuna/releases/tag/v3.0.0. Use :func:`~optuna.trial.Trial.suggest_float` instead.\n",
            "  This is separate from the ipykernel package so we can avoid doing imports until\n",
            "/usr/local/lib/python3.7/dist-packages/ipykernel_launcher.py:4: FutureWarning: suggest_loguniform has been deprecated in v3.0.0. This feature will be removed in v6.0.0. See https://github.com/optuna/optuna/releases/tag/v3.0.0. Use :func:`~optuna.trial.Trial.suggest_float` instead.\n",
            "  after removing the cwd from sys.path.\n",
            "/usr/local/lib/python3.7/dist-packages/ipykernel_launcher.py:3: FutureWarning: suggest_uniform has been deprecated in v3.0.0. This feature will be removed in v6.0.0. See https://github.com/optuna/optuna/releases/tag/v3.0.0. Use :func:`~optuna.trial.Trial.suggest_float` instead.\n",
            "  This is separate from the ipykernel package so we can avoid doing imports until\n",
            "/usr/local/lib/python3.7/dist-packages/ipykernel_launcher.py:4: FutureWarning: suggest_loguniform has been deprecated in v3.0.0. This feature will be removed in v6.0.0. See https://github.com/optuna/optuna/releases/tag/v3.0.0. Use :func:`~optuna.trial.Trial.suggest_float` instead.\n",
            "  after removing the cwd from sys.path.\n",
            "/usr/local/lib/python3.7/dist-packages/ipykernel_launcher.py:3: FutureWarning: suggest_uniform has been deprecated in v3.0.0. This feature will be removed in v6.0.0. See https://github.com/optuna/optuna/releases/tag/v3.0.0. Use :func:`~optuna.trial.Trial.suggest_float` instead.\n",
            "  This is separate from the ipykernel package so we can avoid doing imports until\n",
            "/usr/local/lib/python3.7/dist-packages/ipykernel_launcher.py:4: FutureWarning: suggest_loguniform has been deprecated in v3.0.0. This feature will be removed in v6.0.0. See https://github.com/optuna/optuna/releases/tag/v3.0.0. Use :func:`~optuna.trial.Trial.suggest_float` instead.\n",
            "  after removing the cwd from sys.path.\n",
            "/usr/local/lib/python3.7/dist-packages/ipykernel_launcher.py:3: FutureWarning: suggest_uniform has been deprecated in v3.0.0. This feature will be removed in v6.0.0. See https://github.com/optuna/optuna/releases/tag/v3.0.0. Use :func:`~optuna.trial.Trial.suggest_float` instead.\n",
            "  This is separate from the ipykernel package so we can avoid doing imports until\n",
            "/usr/local/lib/python3.7/dist-packages/ipykernel_launcher.py:4: FutureWarning: suggest_loguniform has been deprecated in v3.0.0. This feature will be removed in v6.0.0. See https://github.com/optuna/optuna/releases/tag/v3.0.0. Use :func:`~optuna.trial.Trial.suggest_float` instead.\n",
            "  after removing the cwd from sys.path.\n"
          ]
        }
      ]
    },
    {
      "cell_type": "code",
      "source": [
        "round(study_logreg.best_value, 4)"
      ],
      "metadata": {
        "colab": {
          "base_uri": "https://localhost:8080/"
        },
        "id": "9eyQfKYIO8f5",
        "outputId": "a73d11f9-dcf5-4ece-8501-179dd1ed99b9"
      },
      "execution_count": null,
      "outputs": [
        {
          "output_type": "execute_result",
          "data": {
            "text/plain": [
              "0.7908"
            ]
          },
          "metadata": {},
          "execution_count": 58
        }
      ]
    },
    {
      "cell_type": "markdown",
      "source": [
        "## Optuna SVM"
      ],
      "metadata": {
        "id": "HFUD1pBjLn7C"
      }
    },
    {
      "cell_type": "code",
      "source": [
        "def objective_svm(trial, X_train=X_trainval, y=Y_trainval):\n",
        "    params = {\n",
        "        'C' : trial.suggest_loguniform(\"C\", 0.005, 1),\n",
        "        'tol' : trial.suggest_uniform('tol' , 1e-6 , 1e-3),\n",
        "        'kernel': trial.suggest_categorical('kernel', ['linear', 'poly', 'rbf', 'sigmoid']),\n",
        "        'random_state' : trial.suggest_categorical('random_state' , [0, 42, 2021, 555]),\n",
        "    }\n",
        "    classifier = SVC(**params)\n",
        "\n",
        "    score = cross_val_score(classifier, X_train, y, n_jobs=-1, cv=5)\n",
        "    return score.mean()"
      ],
      "metadata": {
        "id": "jUGTh2C-PFgI"
      },
      "execution_count": null,
      "outputs": []
    },
    {
      "cell_type": "code",
      "source": [
        "study_svm = optuna.create_study(direction='maximize')"
      ],
      "metadata": {
        "id": "Z39OWgw2PpJc"
      },
      "execution_count": null,
      "outputs": []
    },
    {
      "cell_type": "code",
      "source": [
        "%timeit \n",
        "study_svm.optimize(objective_svm, n_trials=10)"
      ],
      "metadata": {
        "colab": {
          "base_uri": "https://localhost:8080/"
        },
        "id": "0fEYY81yPtWA",
        "outputId": "c8565c09-083a-45a0-dc64-4622b90afbbe"
      },
      "execution_count": null,
      "outputs": [
        {
          "output_type": "stream",
          "name": "stderr",
          "text": [
            "/usr/local/lib/python3.7/dist-packages/ipykernel_launcher.py:3: FutureWarning: suggest_loguniform has been deprecated in v3.0.0. This feature will be removed in v6.0.0. See https://github.com/optuna/optuna/releases/tag/v3.0.0. Use :func:`~optuna.trial.Trial.suggest_float` instead.\n",
            "  This is separate from the ipykernel package so we can avoid doing imports until\n",
            "/usr/local/lib/python3.7/dist-packages/ipykernel_launcher.py:4: FutureWarning: suggest_uniform has been deprecated in v3.0.0. This feature will be removed in v6.0.0. See https://github.com/optuna/optuna/releases/tag/v3.0.0. Use :func:`~optuna.trial.Trial.suggest_float` instead.\n",
            "  after removing the cwd from sys.path.\n",
            "/usr/local/lib/python3.7/dist-packages/ipykernel_launcher.py:3: FutureWarning: suggest_loguniform has been deprecated in v3.0.0. This feature will be removed in v6.0.0. See https://github.com/optuna/optuna/releases/tag/v3.0.0. Use :func:`~optuna.trial.Trial.suggest_float` instead.\n",
            "  This is separate from the ipykernel package so we can avoid doing imports until\n",
            "/usr/local/lib/python3.7/dist-packages/ipykernel_launcher.py:4: FutureWarning: suggest_uniform has been deprecated in v3.0.0. This feature will be removed in v6.0.0. See https://github.com/optuna/optuna/releases/tag/v3.0.0. Use :func:`~optuna.trial.Trial.suggest_float` instead.\n",
            "  after removing the cwd from sys.path.\n",
            "/usr/local/lib/python3.7/dist-packages/ipykernel_launcher.py:3: FutureWarning: suggest_loguniform has been deprecated in v3.0.0. This feature will be removed in v6.0.0. See https://github.com/optuna/optuna/releases/tag/v3.0.0. Use :func:`~optuna.trial.Trial.suggest_float` instead.\n",
            "  This is separate from the ipykernel package so we can avoid doing imports until\n",
            "/usr/local/lib/python3.7/dist-packages/ipykernel_launcher.py:4: FutureWarning: suggest_uniform has been deprecated in v3.0.0. This feature will be removed in v6.0.0. See https://github.com/optuna/optuna/releases/tag/v3.0.0. Use :func:`~optuna.trial.Trial.suggest_float` instead.\n",
            "  after removing the cwd from sys.path.\n",
            "/usr/local/lib/python3.7/dist-packages/ipykernel_launcher.py:3: FutureWarning: suggest_loguniform has been deprecated in v3.0.0. This feature will be removed in v6.0.0. See https://github.com/optuna/optuna/releases/tag/v3.0.0. Use :func:`~optuna.trial.Trial.suggest_float` instead.\n",
            "  This is separate from the ipykernel package so we can avoid doing imports until\n",
            "/usr/local/lib/python3.7/dist-packages/ipykernel_launcher.py:4: FutureWarning: suggest_uniform has been deprecated in v3.0.0. This feature will be removed in v6.0.0. See https://github.com/optuna/optuna/releases/tag/v3.0.0. Use :func:`~optuna.trial.Trial.suggest_float` instead.\n",
            "  after removing the cwd from sys.path.\n",
            "/usr/local/lib/python3.7/dist-packages/ipykernel_launcher.py:3: FutureWarning: suggest_loguniform has been deprecated in v3.0.0. This feature will be removed in v6.0.0. See https://github.com/optuna/optuna/releases/tag/v3.0.0. Use :func:`~optuna.trial.Trial.suggest_float` instead.\n",
            "  This is separate from the ipykernel package so we can avoid doing imports until\n",
            "/usr/local/lib/python3.7/dist-packages/ipykernel_launcher.py:4: FutureWarning: suggest_uniform has been deprecated in v3.0.0. This feature will be removed in v6.0.0. See https://github.com/optuna/optuna/releases/tag/v3.0.0. Use :func:`~optuna.trial.Trial.suggest_float` instead.\n",
            "  after removing the cwd from sys.path.\n",
            "/usr/local/lib/python3.7/dist-packages/ipykernel_launcher.py:3: FutureWarning: suggest_loguniform has been deprecated in v3.0.0. This feature will be removed in v6.0.0. See https://github.com/optuna/optuna/releases/tag/v3.0.0. Use :func:`~optuna.trial.Trial.suggest_float` instead.\n",
            "  This is separate from the ipykernel package so we can avoid doing imports until\n",
            "/usr/local/lib/python3.7/dist-packages/ipykernel_launcher.py:4: FutureWarning: suggest_uniform has been deprecated in v3.0.0. This feature will be removed in v6.0.0. See https://github.com/optuna/optuna/releases/tag/v3.0.0. Use :func:`~optuna.trial.Trial.suggest_float` instead.\n",
            "  after removing the cwd from sys.path.\n",
            "/usr/local/lib/python3.7/dist-packages/ipykernel_launcher.py:3: FutureWarning: suggest_loguniform has been deprecated in v3.0.0. This feature will be removed in v6.0.0. See https://github.com/optuna/optuna/releases/tag/v3.0.0. Use :func:`~optuna.trial.Trial.suggest_float` instead.\n",
            "  This is separate from the ipykernel package so we can avoid doing imports until\n",
            "/usr/local/lib/python3.7/dist-packages/ipykernel_launcher.py:4: FutureWarning: suggest_uniform has been deprecated in v3.0.0. This feature will be removed in v6.0.0. See https://github.com/optuna/optuna/releases/tag/v3.0.0. Use :func:`~optuna.trial.Trial.suggest_float` instead.\n",
            "  after removing the cwd from sys.path.\n",
            "/usr/local/lib/python3.7/dist-packages/ipykernel_launcher.py:3: FutureWarning: suggest_loguniform has been deprecated in v3.0.0. This feature will be removed in v6.0.0. See https://github.com/optuna/optuna/releases/tag/v3.0.0. Use :func:`~optuna.trial.Trial.suggest_float` instead.\n",
            "  This is separate from the ipykernel package so we can avoid doing imports until\n",
            "/usr/local/lib/python3.7/dist-packages/ipykernel_launcher.py:4: FutureWarning: suggest_uniform has been deprecated in v3.0.0. This feature will be removed in v6.0.0. See https://github.com/optuna/optuna/releases/tag/v3.0.0. Use :func:`~optuna.trial.Trial.suggest_float` instead.\n",
            "  after removing the cwd from sys.path.\n",
            "/usr/local/lib/python3.7/dist-packages/ipykernel_launcher.py:3: FutureWarning: suggest_loguniform has been deprecated in v3.0.0. This feature will be removed in v6.0.0. See https://github.com/optuna/optuna/releases/tag/v3.0.0. Use :func:`~optuna.trial.Trial.suggest_float` instead.\n",
            "  This is separate from the ipykernel package so we can avoid doing imports until\n",
            "/usr/local/lib/python3.7/dist-packages/ipykernel_launcher.py:4: FutureWarning: suggest_uniform has been deprecated in v3.0.0. This feature will be removed in v6.0.0. See https://github.com/optuna/optuna/releases/tag/v3.0.0. Use :func:`~optuna.trial.Trial.suggest_float` instead.\n",
            "  after removing the cwd from sys.path.\n",
            "/usr/local/lib/python3.7/dist-packages/ipykernel_launcher.py:3: FutureWarning: suggest_loguniform has been deprecated in v3.0.0. This feature will be removed in v6.0.0. See https://github.com/optuna/optuna/releases/tag/v3.0.0. Use :func:`~optuna.trial.Trial.suggest_float` instead.\n",
            "  This is separate from the ipykernel package so we can avoid doing imports until\n",
            "/usr/local/lib/python3.7/dist-packages/ipykernel_launcher.py:4: FutureWarning: suggest_uniform has been deprecated in v3.0.0. This feature will be removed in v6.0.0. See https://github.com/optuna/optuna/releases/tag/v3.0.0. Use :func:`~optuna.trial.Trial.suggest_float` instead.\n",
            "  after removing the cwd from sys.path.\n"
          ]
        }
      ]
    },
    {
      "cell_type": "code",
      "source": [
        "round(study_svm.best_value, 4)"
      ],
      "metadata": {
        "colab": {
          "base_uri": "https://localhost:8080/"
        },
        "id": "S32o2pOUQDS2",
        "outputId": "5d9a436a-78a4-47e7-ceb0-116b1e2dcbff"
      },
      "execution_count": null,
      "outputs": [
        {
          "output_type": "execute_result",
          "data": {
            "text/plain": [
              "0.7908"
            ]
          },
          "metadata": {},
          "execution_count": 65
        }
      ]
    },
    {
      "cell_type": "markdown",
      "source": [
        "## Stacking model"
      ],
      "metadata": {
        "id": "8LAXOMNNCbqP"
      }
    },
    {
      "cell_type": "code",
      "source": [
        "CatBoostClassifier(**cat_boost_results['CatBoost'].best_params_)"
      ],
      "metadata": {
        "id": "Qise5i6GEFtI",
        "outputId": "1c21d170-a55a-4ebd-99eb-2ccda46e1bd1",
        "colab": {
          "base_uri": "https://localhost:8080/"
        }
      },
      "execution_count": null,
      "outputs": [
        {
          "output_type": "execute_result",
          "data": {
            "text/plain": [
              "<catboost.core.CatBoostClassifier at 0x7f07325979d0>"
            ]
          },
          "metadata": {},
          "execution_count": 64
        }
      ]
    },
    {
      "cell_type": "code",
      "source": [
        "from sklearn.ensemble import StackingClassifier\n",
        "\n",
        "\n",
        "stacking_model = Model(\n",
        "    StackingClassifier(\n",
        "        estimators = [\n",
        "            ('catboost', CatBoostClassifier(**cat_boost_results['CatBoost'].best_params_)),\n",
        "            ('lgbm', LGBMClassifier(**light_gbm_results['LGBM'].best_params_)),\n",
        "            # ('adaboost', AdaBoostClassifier(**ada_boost_results['AdaBoost'].best_params_))\n",
        "            ('logreg', LogisticRegression())  # (**log_reg_results['LogReg'].best_params_))\n",
        "        ]\n",
        "    ),\n",
        "    'Stacking',\n",
        "    [\n",
        "        {\n",
        "            'cv': [5]\n",
        "        }\n",
        "    ],\n",
        "    []\n",
        ")"
      ],
      "metadata": {
        "id": "_oXoG9QgCdtb"
      },
      "execution_count": null,
      "outputs": []
    },
    {
      "cell_type": "code",
      "source": [
        "stacking_results = fit_grid_search(\n",
        "    {\n",
        "        'Stacking': stacking_model\n",
        "    },\n",
        "    X_=X_trainval,\n",
        "    Y_=Y_trainval,\n",
        "    cv_=5,\n",
        "    scoring_='accuracy'\n",
        ")"
      ],
      "metadata": {
        "id": "9q7lBJVMDc-m",
        "outputId": "6056ff56-c4b1-4c90-b118-05b3437a5c61",
        "colab": {
          "base_uri": "https://localhost:8080/",
          "height": 1000
        }
      },
      "execution_count": null,
      "outputs": [
        {
          "output_type": "stream",
          "name": "stdout",
          "text": [
            "Fitting Stacking\n"
          ]
        },
        {
          "output_type": "stream",
          "name": "stderr",
          "text": [
            "/usr/local/lib/python3.7/dist-packages/sklearn/linear_model/_logistic.py:818: ConvergenceWarning: lbfgs failed to converge (status=1):\n",
            "STOP: TOTAL NO. of ITERATIONS REACHED LIMIT.\n",
            "\n",
            "Increase the number of iterations (max_iter) or scale the data as shown in:\n",
            "    https://scikit-learn.org/stable/modules/preprocessing.html\n",
            "Please also refer to the documentation for alternative solver options:\n",
            "    https://scikit-learn.org/stable/modules/linear_model.html#logistic-regression\n",
            "  extra_warning_msg=_LOGISTIC_SOLVER_CONVERGENCE_MSG,\n",
            "/usr/local/lib/python3.7/dist-packages/sklearn/linear_model/_logistic.py:818: ConvergenceWarning: lbfgs failed to converge (status=1):\n",
            "STOP: TOTAL NO. of ITERATIONS REACHED LIMIT.\n",
            "\n",
            "Increase the number of iterations (max_iter) or scale the data as shown in:\n",
            "    https://scikit-learn.org/stable/modules/preprocessing.html\n",
            "Please also refer to the documentation for alternative solver options:\n",
            "    https://scikit-learn.org/stable/modules/linear_model.html#logistic-regression\n",
            "  extra_warning_msg=_LOGISTIC_SOLVER_CONVERGENCE_MSG,\n",
            "/usr/local/lib/python3.7/dist-packages/sklearn/linear_model/_logistic.py:818: ConvergenceWarning: lbfgs failed to converge (status=1):\n",
            "STOP: TOTAL NO. of ITERATIONS REACHED LIMIT.\n",
            "\n",
            "Increase the number of iterations (max_iter) or scale the data as shown in:\n",
            "    https://scikit-learn.org/stable/modules/preprocessing.html\n",
            "Please also refer to the documentation for alternative solver options:\n",
            "    https://scikit-learn.org/stable/modules/linear_model.html#logistic-regression\n",
            "  extra_warning_msg=_LOGISTIC_SOLVER_CONVERGENCE_MSG,\n",
            "/usr/local/lib/python3.7/dist-packages/sklearn/linear_model/_logistic.py:818: ConvergenceWarning: lbfgs failed to converge (status=1):\n",
            "STOP: TOTAL NO. of ITERATIONS REACHED LIMIT.\n",
            "\n",
            "Increase the number of iterations (max_iter) or scale the data as shown in:\n",
            "    https://scikit-learn.org/stable/modules/preprocessing.html\n",
            "Please also refer to the documentation for alternative solver options:\n",
            "    https://scikit-learn.org/stable/modules/linear_model.html#logistic-regression\n",
            "  extra_warning_msg=_LOGISTIC_SOLVER_CONVERGENCE_MSG,\n",
            "/usr/local/lib/python3.7/dist-packages/sklearn/linear_model/_logistic.py:818: ConvergenceWarning: lbfgs failed to converge (status=1):\n",
            "STOP: TOTAL NO. of ITERATIONS REACHED LIMIT.\n",
            "\n",
            "Increase the number of iterations (max_iter) or scale the data as shown in:\n",
            "    https://scikit-learn.org/stable/modules/preprocessing.html\n",
            "Please also refer to the documentation for alternative solver options:\n",
            "    https://scikit-learn.org/stable/modules/linear_model.html#logistic-regression\n",
            "  extra_warning_msg=_LOGISTIC_SOLVER_CONVERGENCE_MSG,\n",
            "/usr/local/lib/python3.7/dist-packages/sklearn/linear_model/_logistic.py:818: ConvergenceWarning: lbfgs failed to converge (status=1):\n",
            "STOP: TOTAL NO. of ITERATIONS REACHED LIMIT.\n",
            "\n",
            "Increase the number of iterations (max_iter) or scale the data as shown in:\n",
            "    https://scikit-learn.org/stable/modules/preprocessing.html\n",
            "Please also refer to the documentation for alternative solver options:\n",
            "    https://scikit-learn.org/stable/modules/linear_model.html#logistic-regression\n",
            "  extra_warning_msg=_LOGISTIC_SOLVER_CONVERGENCE_MSG,\n",
            "/usr/local/lib/python3.7/dist-packages/sklearn/linear_model/_logistic.py:818: ConvergenceWarning: lbfgs failed to converge (status=1):\n",
            "STOP: TOTAL NO. of ITERATIONS REACHED LIMIT.\n",
            "\n",
            "Increase the number of iterations (max_iter) or scale the data as shown in:\n",
            "    https://scikit-learn.org/stable/modules/preprocessing.html\n",
            "Please also refer to the documentation for alternative solver options:\n",
            "    https://scikit-learn.org/stable/modules/linear_model.html#logistic-regression\n",
            "  extra_warning_msg=_LOGISTIC_SOLVER_CONVERGENCE_MSG,\n",
            "/usr/local/lib/python3.7/dist-packages/sklearn/linear_model/_logistic.py:818: ConvergenceWarning: lbfgs failed to converge (status=1):\n",
            "STOP: TOTAL NO. of ITERATIONS REACHED LIMIT.\n",
            "\n",
            "Increase the number of iterations (max_iter) or scale the data as shown in:\n",
            "    https://scikit-learn.org/stable/modules/preprocessing.html\n",
            "Please also refer to the documentation for alternative solver options:\n",
            "    https://scikit-learn.org/stable/modules/linear_model.html#logistic-regression\n",
            "  extra_warning_msg=_LOGISTIC_SOLVER_CONVERGENCE_MSG,\n",
            "/usr/local/lib/python3.7/dist-packages/sklearn/linear_model/_logistic.py:818: ConvergenceWarning: lbfgs failed to converge (status=1):\n",
            "STOP: TOTAL NO. of ITERATIONS REACHED LIMIT.\n",
            "\n",
            "Increase the number of iterations (max_iter) or scale the data as shown in:\n",
            "    https://scikit-learn.org/stable/modules/preprocessing.html\n",
            "Please also refer to the documentation for alternative solver options:\n",
            "    https://scikit-learn.org/stable/modules/linear_model.html#logistic-regression\n",
            "  extra_warning_msg=_LOGISTIC_SOLVER_CONVERGENCE_MSG,\n",
            "/usr/local/lib/python3.7/dist-packages/sklearn/linear_model/_logistic.py:818: ConvergenceWarning: lbfgs failed to converge (status=1):\n",
            "STOP: TOTAL NO. of ITERATIONS REACHED LIMIT.\n",
            "\n",
            "Increase the number of iterations (max_iter) or scale the data as shown in:\n",
            "    https://scikit-learn.org/stable/modules/preprocessing.html\n",
            "Please also refer to the documentation for alternative solver options:\n",
            "    https://scikit-learn.org/stable/modules/linear_model.html#logistic-regression\n",
            "  extra_warning_msg=_LOGISTIC_SOLVER_CONVERGENCE_MSG,\n",
            "/usr/local/lib/python3.7/dist-packages/sklearn/linear_model/_logistic.py:818: ConvergenceWarning: lbfgs failed to converge (status=1):\n",
            "STOP: TOTAL NO. of ITERATIONS REACHED LIMIT.\n",
            "\n",
            "Increase the number of iterations (max_iter) or scale the data as shown in:\n",
            "    https://scikit-learn.org/stable/modules/preprocessing.html\n",
            "Please also refer to the documentation for alternative solver options:\n",
            "    https://scikit-learn.org/stable/modules/linear_model.html#logistic-regression\n",
            "  extra_warning_msg=_LOGISTIC_SOLVER_CONVERGENCE_MSG,\n",
            "/usr/local/lib/python3.7/dist-packages/sklearn/linear_model/_logistic.py:818: ConvergenceWarning: lbfgs failed to converge (status=1):\n",
            "STOP: TOTAL NO. of ITERATIONS REACHED LIMIT.\n",
            "\n",
            "Increase the number of iterations (max_iter) or scale the data as shown in:\n",
            "    https://scikit-learn.org/stable/modules/preprocessing.html\n",
            "Please also refer to the documentation for alternative solver options:\n",
            "    https://scikit-learn.org/stable/modules/linear_model.html#logistic-regression\n",
            "  extra_warning_msg=_LOGISTIC_SOLVER_CONVERGENCE_MSG,\n",
            "/usr/local/lib/python3.7/dist-packages/sklearn/linear_model/_logistic.py:818: ConvergenceWarning: lbfgs failed to converge (status=1):\n",
            "STOP: TOTAL NO. of ITERATIONS REACHED LIMIT.\n",
            "\n",
            "Increase the number of iterations (max_iter) or scale the data as shown in:\n",
            "    https://scikit-learn.org/stable/modules/preprocessing.html\n",
            "Please also refer to the documentation for alternative solver options:\n",
            "    https://scikit-learn.org/stable/modules/linear_model.html#logistic-regression\n",
            "  extra_warning_msg=_LOGISTIC_SOLVER_CONVERGENCE_MSG,\n",
            "/usr/local/lib/python3.7/dist-packages/sklearn/linear_model/_logistic.py:818: ConvergenceWarning: lbfgs failed to converge (status=1):\n",
            "STOP: TOTAL NO. of ITERATIONS REACHED LIMIT.\n",
            "\n",
            "Increase the number of iterations (max_iter) or scale the data as shown in:\n",
            "    https://scikit-learn.org/stable/modules/preprocessing.html\n",
            "Please also refer to the documentation for alternative solver options:\n",
            "    https://scikit-learn.org/stable/modules/linear_model.html#logistic-regression\n",
            "  extra_warning_msg=_LOGISTIC_SOLVER_CONVERGENCE_MSG,\n",
            "/usr/local/lib/python3.7/dist-packages/sklearn/linear_model/_logistic.py:818: ConvergenceWarning: lbfgs failed to converge (status=1):\n",
            "STOP: TOTAL NO. of ITERATIONS REACHED LIMIT.\n",
            "\n",
            "Increase the number of iterations (max_iter) or scale the data as shown in:\n",
            "    https://scikit-learn.org/stable/modules/preprocessing.html\n",
            "Please also refer to the documentation for alternative solver options:\n",
            "    https://scikit-learn.org/stable/modules/linear_model.html#logistic-regression\n",
            "  extra_warning_msg=_LOGISTIC_SOLVER_CONVERGENCE_MSG,\n",
            "/usr/local/lib/python3.7/dist-packages/sklearn/linear_model/_logistic.py:818: ConvergenceWarning: lbfgs failed to converge (status=1):\n",
            "STOP: TOTAL NO. of ITERATIONS REACHED LIMIT.\n",
            "\n",
            "Increase the number of iterations (max_iter) or scale the data as shown in:\n",
            "    https://scikit-learn.org/stable/modules/preprocessing.html\n",
            "Please also refer to the documentation for alternative solver options:\n",
            "    https://scikit-learn.org/stable/modules/linear_model.html#logistic-regression\n",
            "  extra_warning_msg=_LOGISTIC_SOLVER_CONVERGENCE_MSG,\n",
            "/usr/local/lib/python3.7/dist-packages/sklearn/linear_model/_logistic.py:818: ConvergenceWarning: lbfgs failed to converge (status=1):\n",
            "STOP: TOTAL NO. of ITERATIONS REACHED LIMIT.\n",
            "\n",
            "Increase the number of iterations (max_iter) or scale the data as shown in:\n",
            "    https://scikit-learn.org/stable/modules/preprocessing.html\n",
            "Please also refer to the documentation for alternative solver options:\n",
            "    https://scikit-learn.org/stable/modules/linear_model.html#logistic-regression\n",
            "  extra_warning_msg=_LOGISTIC_SOLVER_CONVERGENCE_MSG,\n",
            "/usr/local/lib/python3.7/dist-packages/sklearn/linear_model/_logistic.py:818: ConvergenceWarning: lbfgs failed to converge (status=1):\n",
            "STOP: TOTAL NO. of ITERATIONS REACHED LIMIT.\n",
            "\n",
            "Increase the number of iterations (max_iter) or scale the data as shown in:\n",
            "    https://scikit-learn.org/stable/modules/preprocessing.html\n",
            "Please also refer to the documentation for alternative solver options:\n",
            "    https://scikit-learn.org/stable/modules/linear_model.html#logistic-regression\n",
            "  extra_warning_msg=_LOGISTIC_SOLVER_CONVERGENCE_MSG,\n",
            "/usr/local/lib/python3.7/dist-packages/sklearn/linear_model/_logistic.py:818: ConvergenceWarning: lbfgs failed to converge (status=1):\n",
            "STOP: TOTAL NO. of ITERATIONS REACHED LIMIT.\n",
            "\n",
            "Increase the number of iterations (max_iter) or scale the data as shown in:\n",
            "    https://scikit-learn.org/stable/modules/preprocessing.html\n",
            "Please also refer to the documentation for alternative solver options:\n",
            "    https://scikit-learn.org/stable/modules/linear_model.html#logistic-regression\n",
            "  extra_warning_msg=_LOGISTIC_SOLVER_CONVERGENCE_MSG,\n",
            "/usr/local/lib/python3.7/dist-packages/sklearn/linear_model/_logistic.py:818: ConvergenceWarning: lbfgs failed to converge (status=1):\n",
            "STOP: TOTAL NO. of ITERATIONS REACHED LIMIT.\n",
            "\n",
            "Increase the number of iterations (max_iter) or scale the data as shown in:\n",
            "    https://scikit-learn.org/stable/modules/preprocessing.html\n",
            "Please also refer to the documentation for alternative solver options:\n",
            "    https://scikit-learn.org/stable/modules/linear_model.html#logistic-regression\n",
            "  extra_warning_msg=_LOGISTIC_SOLVER_CONVERGENCE_MSG,\n",
            "/usr/local/lib/python3.7/dist-packages/sklearn/linear_model/_logistic.py:818: ConvergenceWarning: lbfgs failed to converge (status=1):\n",
            "STOP: TOTAL NO. of ITERATIONS REACHED LIMIT.\n",
            "\n",
            "Increase the number of iterations (max_iter) or scale the data as shown in:\n",
            "    https://scikit-learn.org/stable/modules/preprocessing.html\n",
            "Please also refer to the documentation for alternative solver options:\n",
            "    https://scikit-learn.org/stable/modules/linear_model.html#logistic-regression\n",
            "  extra_warning_msg=_LOGISTIC_SOLVER_CONVERGENCE_MSG,\n",
            "/usr/local/lib/python3.7/dist-packages/sklearn/linear_model/_logistic.py:818: ConvergenceWarning: lbfgs failed to converge (status=1):\n",
            "STOP: TOTAL NO. of ITERATIONS REACHED LIMIT.\n",
            "\n",
            "Increase the number of iterations (max_iter) or scale the data as shown in:\n",
            "    https://scikit-learn.org/stable/modules/preprocessing.html\n",
            "Please also refer to the documentation for alternative solver options:\n",
            "    https://scikit-learn.org/stable/modules/linear_model.html#logistic-regression\n",
            "  extra_warning_msg=_LOGISTIC_SOLVER_CONVERGENCE_MSG,\n",
            "/usr/local/lib/python3.7/dist-packages/sklearn/linear_model/_logistic.py:818: ConvergenceWarning: lbfgs failed to converge (status=1):\n",
            "STOP: TOTAL NO. of ITERATIONS REACHED LIMIT.\n",
            "\n",
            "Increase the number of iterations (max_iter) or scale the data as shown in:\n",
            "    https://scikit-learn.org/stable/modules/preprocessing.html\n",
            "Please also refer to the documentation for alternative solver options:\n",
            "    https://scikit-learn.org/stable/modules/linear_model.html#logistic-regression\n",
            "  extra_warning_msg=_LOGISTIC_SOLVER_CONVERGENCE_MSG,\n",
            "/usr/local/lib/python3.7/dist-packages/sklearn/linear_model/_logistic.py:818: ConvergenceWarning: lbfgs failed to converge (status=1):\n",
            "STOP: TOTAL NO. of ITERATIONS REACHED LIMIT.\n",
            "\n",
            "Increase the number of iterations (max_iter) or scale the data as shown in:\n",
            "    https://scikit-learn.org/stable/modules/preprocessing.html\n",
            "Please also refer to the documentation for alternative solver options:\n",
            "    https://scikit-learn.org/stable/modules/linear_model.html#logistic-regression\n",
            "  extra_warning_msg=_LOGISTIC_SOLVER_CONVERGENCE_MSG,\n",
            "/usr/local/lib/python3.7/dist-packages/sklearn/linear_model/_logistic.py:818: ConvergenceWarning: lbfgs failed to converge (status=1):\n",
            "STOP: TOTAL NO. of ITERATIONS REACHED LIMIT.\n",
            "\n",
            "Increase the number of iterations (max_iter) or scale the data as shown in:\n",
            "    https://scikit-learn.org/stable/modules/preprocessing.html\n",
            "Please also refer to the documentation for alternative solver options:\n",
            "    https://scikit-learn.org/stable/modules/linear_model.html#logistic-regression\n",
            "  extra_warning_msg=_LOGISTIC_SOLVER_CONVERGENCE_MSG,\n",
            "/usr/local/lib/python3.7/dist-packages/sklearn/linear_model/_logistic.py:818: ConvergenceWarning: lbfgs failed to converge (status=1):\n",
            "STOP: TOTAL NO. of ITERATIONS REACHED LIMIT.\n",
            "\n",
            "Increase the number of iterations (max_iter) or scale the data as shown in:\n",
            "    https://scikit-learn.org/stable/modules/preprocessing.html\n",
            "Please also refer to the documentation for alternative solver options:\n",
            "    https://scikit-learn.org/stable/modules/linear_model.html#logistic-regression\n",
            "  extra_warning_msg=_LOGISTIC_SOLVER_CONVERGENCE_MSG,\n",
            "/usr/local/lib/python3.7/dist-packages/sklearn/linear_model/_logistic.py:818: ConvergenceWarning: lbfgs failed to converge (status=1):\n",
            "STOP: TOTAL NO. of ITERATIONS REACHED LIMIT.\n",
            "\n",
            "Increase the number of iterations (max_iter) or scale the data as shown in:\n",
            "    https://scikit-learn.org/stable/modules/preprocessing.html\n",
            "Please also refer to the documentation for alternative solver options:\n",
            "    https://scikit-learn.org/stable/modules/linear_model.html#logistic-regression\n",
            "  extra_warning_msg=_LOGISTIC_SOLVER_CONVERGENCE_MSG,\n",
            "/usr/local/lib/python3.7/dist-packages/sklearn/linear_model/_logistic.py:818: ConvergenceWarning: lbfgs failed to converge (status=1):\n",
            "STOP: TOTAL NO. of ITERATIONS REACHED LIMIT.\n",
            "\n",
            "Increase the number of iterations (max_iter) or scale the data as shown in:\n",
            "    https://scikit-learn.org/stable/modules/preprocessing.html\n",
            "Please also refer to the documentation for alternative solver options:\n",
            "    https://scikit-learn.org/stable/modules/linear_model.html#logistic-regression\n",
            "  extra_warning_msg=_LOGISTIC_SOLVER_CONVERGENCE_MSG,\n",
            "/usr/local/lib/python3.7/dist-packages/sklearn/linear_model/_logistic.py:818: ConvergenceWarning: lbfgs failed to converge (status=1):\n",
            "STOP: TOTAL NO. of ITERATIONS REACHED LIMIT.\n",
            "\n",
            "Increase the number of iterations (max_iter) or scale the data as shown in:\n",
            "    https://scikit-learn.org/stable/modules/preprocessing.html\n",
            "Please also refer to the documentation for alternative solver options:\n",
            "    https://scikit-learn.org/stable/modules/linear_model.html#logistic-regression\n",
            "  extra_warning_msg=_LOGISTIC_SOLVER_CONVERGENCE_MSG,\n",
            "/usr/local/lib/python3.7/dist-packages/sklearn/linear_model/_logistic.py:818: ConvergenceWarning: lbfgs failed to converge (status=1):\n",
            "STOP: TOTAL NO. of ITERATIONS REACHED LIMIT.\n",
            "\n",
            "Increase the number of iterations (max_iter) or scale the data as shown in:\n",
            "    https://scikit-learn.org/stable/modules/preprocessing.html\n",
            "Please also refer to the documentation for alternative solver options:\n",
            "    https://scikit-learn.org/stable/modules/linear_model.html#logistic-regression\n",
            "  extra_warning_msg=_LOGISTIC_SOLVER_CONVERGENCE_MSG,\n",
            "/usr/local/lib/python3.7/dist-packages/sklearn/linear_model/_logistic.py:818: ConvergenceWarning: lbfgs failed to converge (status=1):\n",
            "STOP: TOTAL NO. of ITERATIONS REACHED LIMIT.\n",
            "\n",
            "Increase the number of iterations (max_iter) or scale the data as shown in:\n",
            "    https://scikit-learn.org/stable/modules/preprocessing.html\n",
            "Please also refer to the documentation for alternative solver options:\n",
            "    https://scikit-learn.org/stable/modules/linear_model.html#logistic-regression\n",
            "  extra_warning_msg=_LOGISTIC_SOLVER_CONVERGENCE_MSG,\n",
            "/usr/local/lib/python3.7/dist-packages/sklearn/linear_model/_logistic.py:818: ConvergenceWarning: lbfgs failed to converge (status=1):\n",
            "STOP: TOTAL NO. of ITERATIONS REACHED LIMIT.\n",
            "\n",
            "Increase the number of iterations (max_iter) or scale the data as shown in:\n",
            "    https://scikit-learn.org/stable/modules/preprocessing.html\n",
            "Please also refer to the documentation for alternative solver options:\n",
            "    https://scikit-learn.org/stable/modules/linear_model.html#logistic-regression\n",
            "  extra_warning_msg=_LOGISTIC_SOLVER_CONVERGENCE_MSG,\n",
            "/usr/local/lib/python3.7/dist-packages/sklearn/linear_model/_logistic.py:818: ConvergenceWarning: lbfgs failed to converge (status=1):\n",
            "STOP: TOTAL NO. of ITERATIONS REACHED LIMIT.\n",
            "\n",
            "Increase the number of iterations (max_iter) or scale the data as shown in:\n",
            "    https://scikit-learn.org/stable/modules/preprocessing.html\n",
            "Please also refer to the documentation for alternative solver options:\n",
            "    https://scikit-learn.org/stable/modules/linear_model.html#logistic-regression\n",
            "  extra_warning_msg=_LOGISTIC_SOLVER_CONVERGENCE_MSG,\n",
            "/usr/local/lib/python3.7/dist-packages/sklearn/linear_model/_logistic.py:818: ConvergenceWarning: lbfgs failed to converge (status=1):\n",
            "STOP: TOTAL NO. of ITERATIONS REACHED LIMIT.\n",
            "\n",
            "Increase the number of iterations (max_iter) or scale the data as shown in:\n",
            "    https://scikit-learn.org/stable/modules/preprocessing.html\n",
            "Please also refer to the documentation for alternative solver options:\n",
            "    https://scikit-learn.org/stable/modules/linear_model.html#logistic-regression\n",
            "  extra_warning_msg=_LOGISTIC_SOLVER_CONVERGENCE_MSG,\n",
            "/usr/local/lib/python3.7/dist-packages/sklearn/linear_model/_logistic.py:818: ConvergenceWarning: lbfgs failed to converge (status=1):\n",
            "STOP: TOTAL NO. of ITERATIONS REACHED LIMIT.\n",
            "\n",
            "Increase the number of iterations (max_iter) or scale the data as shown in:\n",
            "    https://scikit-learn.org/stable/modules/preprocessing.html\n",
            "Please also refer to the documentation for alternative solver options:\n",
            "    https://scikit-learn.org/stable/modules/linear_model.html#logistic-regression\n",
            "  extra_warning_msg=_LOGISTIC_SOLVER_CONVERGENCE_MSG,\n",
            "/usr/local/lib/python3.7/dist-packages/sklearn/linear_model/_logistic.py:818: ConvergenceWarning: lbfgs failed to converge (status=1):\n",
            "STOP: TOTAL NO. of ITERATIONS REACHED LIMIT.\n",
            "\n",
            "Increase the number of iterations (max_iter) or scale the data as shown in:\n",
            "    https://scikit-learn.org/stable/modules/preprocessing.html\n",
            "Please also refer to the documentation for alternative solver options:\n",
            "    https://scikit-learn.org/stable/modules/linear_model.html#logistic-regression\n",
            "  extra_warning_msg=_LOGISTIC_SOLVER_CONVERGENCE_MSG,\n"
          ]
        },
        {
          "output_type": "display_data",
          "data": {
            "text/plain": [
              "<Figure size 432x288 with 1 Axes>"
            ],
            "image/png": "[encoded data removed]"
          },
          "metadata": {
            "needs_background": "light"
          }
        }
      ]
    },
    {
      "cell_type": "code",
      "source": [
        "stacking_results['Stacking'].best_score_"
      ],
      "metadata": {
        "id": "zh12VkO6Ewms",
        "outputId": "94ebd2bc-d73a-425d-9fd2-05ac7a14d6e4",
        "colab": {
          "base_uri": "https://localhost:8080/"
        }
      },
      "execution_count": null,
      "outputs": [
        {
          "output_type": "execute_result",
          "data": {
            "text/plain": [
              "0.7995407268721327"
            ]
          },
          "metadata": {},
          "execution_count": 42
        }
      ]
    },
    {
      "cell_type": "markdown",
      "source": [
        "## Voting classifier"
      ],
      "metadata": {
        "id": "hXbQcwuhFtQc"
      }
    },
    {
      "cell_type": "code",
      "source": [
        "from sklearn.ensemble import VotingClassifier\n",
        "\n",
        "\n",
        "voting_model = Model(\n",
        "    VotingClassifier(\n",
        "        estimators=[\n",
        "            ('catboost', CatBoostClassifier(**cat_boost_results['CatBoost'].best_params_)),\n",
        "            ('lgbm', LGBMClassifier(**light_gbm_results['LGBM'].best_params_)),\n",
        "            ('adaboost', AdaBoostClassifier(**ada_boost_results['AdaBoost'].best_params_))\n",
        "        ]\n",
        "    ),\n",
        "    'voting',\n",
        "    [\n",
        "        {\n",
        "            'n_jobs': [-1],\n",
        "            'voting': ['hard', 'soft']\n",
        "        }\n",
        "    ],\n",
        "    []\n",
        ")"
      ],
      "metadata": {
        "id": "N1YyXb_UFvBQ"
      },
      "execution_count": null,
      "outputs": []
    },
    {
      "cell_type": "code",
      "source": [
        "voting_results = fit_grid_search(\n",
        "    {'voting': voting_model},\n",
        "    X_=X_trainval,\n",
        "    Y_=Y_trainval,\n",
        "    cv_=5,\n",
        "    scoring_='accuracy',\n",
        "    verbose=3\n",
        ")"
      ],
      "metadata": {
        "id": "8gg8jfTuGKyl",
        "outputId": "05ae570e-1e0e-440e-a2e9-ef68fcca10a2",
        "colab": {
          "base_uri": "https://localhost:8080/",
          "height": 503
        }
      },
      "execution_count": null,
      "outputs": [
        {
          "output_type": "stream",
          "name": "stdout",
          "text": [
            "Fitting voting\n",
            "Fitting 5 folds for each of 2 candidates, totalling 10 fits\n",
            "[CV 1/5] END n_jobs=-1, voting=hard;, score=(train=0.814, test=0.779) total time=   3.7s\n",
            "[CV 2/5] END n_jobs=-1, voting=hard;, score=(train=0.809, test=0.804) total time=   2.0s\n",
            "[CV 3/5] END n_jobs=-1, voting=hard;, score=(train=0.811, test=0.790) total time=   2.3s\n",
            "[CV 4/5] END n_jobs=-1, voting=hard;, score=(train=0.811, test=0.807) total time=   2.1s\n",
            "[CV 5/5] END n_jobs=-1, voting=hard;, score=(train=0.808, test=0.811) total time=   2.4s\n",
            "[CV 1/5] END n_jobs=-1, voting=soft;, score=(train=0.816, test=0.781) total time=   3.6s\n",
            "[CV 2/5] END n_jobs=-1, voting=soft;, score=(train=0.809, test=0.805) total time=   2.1s\n",
            "[CV 3/5] END n_jobs=-1, voting=soft;, score=(train=0.813, test=0.789) total time=   2.1s\n",
            "[CV 4/5] END n_jobs=-1, voting=soft;, score=(train=0.813, test=0.807) total time=   2.1s\n",
            "[CV 5/5] END n_jobs=-1, voting=soft;, score=(train=0.810, test=0.807) total time=   2.1s\n"
          ]
        },
        {
          "output_type": "display_data",
          "data": {
            "text/plain": [
              "<Figure size 432x288 with 1 Axes>"
            ],
            "image/png": "[encoded data removed]"
          },
          "metadata": {
            "needs_background": "light"
          }
        }
      ]
    },
    {
      "cell_type": "code",
      "source": [
        "voting_results['voting'].best_score_"
      ],
      "metadata": {
        "id": "xDJ04HX8Ge8x",
        "outputId": "6a462614-4e4c-4426-c104-782a4b60122c",
        "colab": {
          "base_uri": "https://localhost:8080/"
        }
      },
      "execution_count": null,
      "outputs": [
        {
          "output_type": "execute_result",
          "data": {
            "text/plain": [
              "0.7983911993338471"
            ]
          },
          "metadata": {},
          "execution_count": 74
        }
      ]
    },
    {
      "cell_type": "markdown",
      "source": [
        "# Saving models"
      ],
      "metadata": {
        "id": "CsVOMjbc4I3p"
      }
    },
    {
      "cell_type": "code",
      "source": [
        "res_models = {\n",
        "    # **log_reg_results,\n",
        "    # **xgb_results\n",
        "    # **light_gbm_results\n",
        "    # **cat_boost_results\n",
        "    # **voting_results,\n",
        "    # **stacking_results,\n",
        "    **optuna_lgbm_results,\n",
        "    # **rf_results\n",
        "}\n",
        "res_models"
      ],
      "metadata": {
        "id": "4z_VlVbN4X2_",
        "outputId": "67a31bea-2611-4f06-d0eb-dfc8d0cb5fe4",
        "colab": {
          "base_uri": "https://localhost:8080/"
        }
      },
      "execution_count": null,
      "outputs": [
        {
          "output_type": "execute_result",
          "data": {
            "text/plain": [
              "{'LGBMOptuna': LGBMClassifier(boosting_type='dart', learning_rate=0.115, max_depth=12,\n",
              "                min_child_samples=1, n_estimators=475, num_leaves=7,\n",
              "                objective='binary', reg_alpha=0.65, reg_lambda=0.95)}"
            ]
          },
          "metadata": {},
          "execution_count": 29
        }
      ]
    },
    {
      "cell_type": "code",
      "source": [
        "manager.save_models(\n",
        "    optuna_lgbm_results\n",
        ")"
      ],
      "metadata": {
        "id": "x0Pk2OY5RO6l"
      },
      "execution_count": null,
      "outputs": []
    },
    {
      "cell_type": "code",
      "source": [
        "manager.save_models(\n",
        "    {\n",
        "        f'{model_name}_gridsearch': result.best_estimator_\n",
        "        for model_name, result in res_models.items()\n",
        "    }\n",
        ")"
      ],
      "metadata": {
        "id": "ZWo-2Mmy4Jxk"
      },
      "execution_count": null,
      "outputs": []
    }
  ]
}