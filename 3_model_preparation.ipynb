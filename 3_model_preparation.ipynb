{
  "nbformat": 4,
  "nbformat_minor": 0,
  "metadata": {
    "colab": {
      "provenance": [],
      "toc_visible": true,
      "authorship_tag": "ABX9TyNFN8AGjt/ZvfQjybj8n8ca",
      "include_colab_link": true
    },
    "kernelspec": {
      "name": "python3",
      "display_name": "Python 3"
    },
    "language_info": {
      "name": "python"
    }
  },
  "cells": [
    {
      "cell_type": "markdown",
      "metadata": {
        "id": "view-in-github",
        "colab_type": "text"
      },
      "source": [
        "<a href=\"https://colab.research.google.com/github/PashaIanko/Kaggle.Spaceship-Titanic/blob/main/3_model_preparation.ipynb\" target=\"_parent\"><img src=\"https://colab.research.google.com/assets/colab-badge.svg\" alt=\"Open In Colab\"/></a>"
      ]
    },
    {
      "cell_type": "markdown",
      "source": [
        "# Imports"
      ],
      "metadata": {
        "id": "7yVqYdL2W1JZ"
      }
    },
    {
      "cell_type": "code",
      "execution_count": 76,
      "metadata": {
        "id": "bv1M4eV9Wwab"
      },
      "outputs": [],
      "source": [
        "from google.colab import drive\n",
        "\n",
        "import numpy as np\n",
        "\n",
        "import pandas as pd\n",
        "\n",
        "import os"
      ]
    },
    {
      "cell_type": "code",
      "source": [
        "%%capture\n",
        "!pip install catboost"
      ],
      "metadata": {
        "id": "gVWZSqwFf_jz"
      },
      "execution_count": 77,
      "outputs": []
    },
    {
      "cell_type": "markdown",
      "source": [
        "## PEP8 standard"
      ],
      "metadata": {
        "id": "CTa8zW4wW4RI"
      }
    },
    {
      "cell_type": "code",
      "source": [
        "%%capture\n",
        "!pip install pycodestyle\n",
        "!pip install --index-url https://test.pypi.org/simple/ nbpep8\n",
        "\n",
        "from nbpep8.nbpep8 import pep8"
      ],
      "metadata": {
        "id": "v0gjPO7pW7CV"
      },
      "execution_count": 78,
      "outputs": []
    },
    {
      "cell_type": "markdown",
      "source": [
        "## Importing custom packages"
      ],
      "metadata": {
        "id": "4mQrysTyXCeb"
      }
    },
    {
      "cell_type": "code",
      "source": [
        "%%capture\n",
        "def download_files(url_dict):\n",
        "    for file, url in url_dict.items():\n",
        "        !wget -O {file} {url} {file}\n",
        "\n",
        "\n",
        "git_download_path = \\\n",
        "    'https://raw.githubusercontent.com/PashaIanko/Sklearn-Utils/main/'\n",
        "\n",
        "files = [\n",
        "    'path_manager.py',\n",
        "    'sklearn_transformers.py',\n",
        "    'sklearn_utils.py',\n",
        "    'model.py'\n",
        "]\n",
        "\n",
        "url_dict = {file: git_download_path + file for file in files}\n",
        "download_files(url_dict)"
      ],
      "metadata": {
        "id": "jGf7K3s1W3vW"
      },
      "execution_count": 79,
      "outputs": []
    },
    {
      "cell_type": "code",
      "source": [
        "import importlib\n",
        "import path_manager\n",
        "import sklearn_utils\n",
        "import sklearn_transformers\n",
        "import model\n",
        "\n",
        "\n",
        "def reload_modules(modules):\n",
        "    for module in modules:\n",
        "        importlib.reload(module)\n",
        "\n",
        "\n",
        "reload_modules(\n",
        "    [\n",
        "        path_manager,\n",
        "        sklearn_transformers,\n",
        "        sklearn_utils,\n",
        "        model\n",
        "    ]\n",
        ")\n",
        "\n",
        "from path_manager import PathManager\n",
        "from sklearn_transformers import ColumnDropper\n",
        "from sklearn_utils import inf_statistics\n",
        "from model import Model\n",
        "from sklearn_utils import fit_grid_search\n",
        "from sklearn_utils import dict_subset"
      ],
      "metadata": {
        "id": "nvO2CpAZXW0Z"
      },
      "execution_count": 80,
      "outputs": []
    },
    {
      "cell_type": "markdown",
      "source": [
        "# Set up paths"
      ],
      "metadata": {
        "id": "iMrpxL6zXMez"
      }
    },
    {
      "cell_type": "code",
      "source": [
        "drive.mount('/content/gdrive')\n",
        "gdrive_path = '/content/gdrive/MyDrive/'\n",
        "\n",
        "PREPROC_TRIAL = 4\n",
        "MODELS_TRIAL = 5\n",
        "COMPETITION_PATH = gdrive_path + 'ML/Competitions/6.SpaceshipTitanic/'\n",
        "\n",
        "manager = PathManager(\n",
        "    competition_path=COMPETITION_PATH,\n",
        "    preprocessing_trial=PREPROC_TRIAL,\n",
        "    models_trial=MODELS_TRIAL\n",
        ")\n",
        "manager.setup_paths()"
      ],
      "metadata": {
        "colab": {
          "base_uri": "https://localhost:8080/"
        },
        "id": "A5MRTpfaXKuZ",
        "outputId": "7c111037-f52f-4a85-9f49-5a85225d89d1"
      },
      "execution_count": 81,
      "outputs": [
        {
          "output_type": "stream",
          "name": "stdout",
          "text": [
            "Drive already mounted at /content/gdrive; to attempt to forcibly remount, call drive.mount(\"/content/gdrive\", force_remount=True).\n",
            "/content/gdrive/MyDrive/ML/Competitions/6.SpaceshipTitanic/Data/preproc_trial_4 already exists\n",
            "/content/gdrive/MyDrive/ML/Competitions/6.SpaceshipTitanic/Models/trial_5 already exists\n"
          ]
        }
      ]
    },
    {
      "cell_type": "markdown",
      "source": [
        "# Fixing seed"
      ],
      "metadata": {
        "id": "Dstvp4lxXy86"
      }
    },
    {
      "cell_type": "code",
      "source": [
        "RANDOM_SEED = 42\n",
        "RANDOM_STATE = RANDOM_SEED\n",
        "\n",
        "np.random.seed(42)"
      ],
      "metadata": {
        "id": "7npCPy2jX0NK"
      },
      "execution_count": 82,
      "outputs": []
    },
    {
      "cell_type": "markdown",
      "source": [
        "# Download the data"
      ],
      "metadata": {
        "id": "3_J-YIyxXk3y"
      }
    },
    {
      "cell_type": "code",
      "source": [
        "os.listdir(manager.data_trial_path)"
      ],
      "metadata": {
        "colab": {
          "base_uri": "https://localhost:8080/"
        },
        "id": "Wpf0urw3Xo0D",
        "outputId": "41ae0fef-11d0-4e76-bef5-8128d409766d"
      },
      "execution_count": 83,
      "outputs": [
        {
          "output_type": "execute_result",
          "data": {
            "text/plain": [
              "['trainval_processed.csv', 'test_sample_processed.csv', 'test_processed.csv']"
            ]
          },
          "metadata": {},
          "execution_count": 83
        }
      ]
    },
    {
      "cell_type": "code",
      "source": [
        "df_trainval = pd.read_csv(\n",
        "    os.path.join(\n",
        "        manager.data_trial_path,\n",
        "        'trainval_processed.csv'\n",
        "    )\n",
        ")\n",
        "print(df_trainval.shape)\n",
        "\n",
        "X_trainval = df_trainval.values[:, :-1]\n",
        "Y_trainval = df_trainval.values[:, -1]"
      ],
      "metadata": {
        "id": "26yMwvMeXhan",
        "outputId": "5f39064e-fc3d-4517-d913-0ad0caef4a4e",
        "colab": {
          "base_uri": "https://localhost:8080/"
        }
      },
      "execution_count": 84,
      "outputs": [
        {
          "output_type": "stream",
          "name": "stdout",
          "text": [
            "(6954, 28)\n"
          ]
        }
      ]
    },
    {
      "cell_type": "code",
      "source": [
        "df_test_sample = pd.read_csv(\n",
        "    os.path.join(\n",
        "        manager.data_trial_path,\n",
        "        'test_sample_processed.csv'\n",
        "    )\n",
        ")\n",
        "print(df_test_sample.shape)\n",
        "\n",
        "X_test_sample = df_test_sample.values[:, :-1]\n",
        "Y_test_sample = df_test_sample.values[:, -1]"
      ],
      "metadata": {
        "id": "wuHTCoIqYGak",
        "outputId": "165fd167-28d1-4592-bc9b-ae9d53eeb808",
        "colab": {
          "base_uri": "https://localhost:8080/"
        }
      },
      "execution_count": 85,
      "outputs": [
        {
          "output_type": "stream",
          "name": "stdout",
          "text": [
            "(1739, 28)\n"
          ]
        }
      ]
    },
    {
      "cell_type": "markdown",
      "source": [
        "# Define models"
      ],
      "metadata": {
        "id": "2Kx50_bOYrOA"
      }
    },
    {
      "cell_type": "code",
      "source": [
        "from sklearn.linear_model import LogisticRegression"
      ],
      "metadata": {
        "id": "_6C7zqyxYuZZ"
      },
      "execution_count": 86,
      "outputs": []
    },
    {
      "cell_type": "code",
      "source": [
        "LogReg = Model(\n",
        "    LogisticRegression(),\n",
        "    'LogReg',\n",
        "    [\n",
        "        {\n",
        "            'penalty': ['elasticnet'],\n",
        "            'C': [0.01, 0.05, 0.1],\n",
        "            'random_state': [RANDOM_STATE],\n",
        "            'solver': ['saga'],\n",
        "            'l1_ratio': [0, 0.01, 0.05]\n",
        "        }\n",
        "    ],\n",
        "    [\n",
        "\n",
        "    ]\n",
        ")"
      ],
      "metadata": {
        "id": "ZDIsSHtEYMHU"
      },
      "execution_count": 87,
      "outputs": []
    },
    {
      "cell_type": "code",
      "source": [
        "from sklearn.ensemble import RandomForestClassifier\n",
        "\n",
        "\n",
        "RandomForest = Model(\n",
        "    RandomForestClassifier(),\n",
        "    'RandomForest',\n",
        "    [\n",
        "        {\n",
        "            'n_estimators': [75, 100],\n",
        "            'max_depth': [4, 6],\n",
        "            'bootstrap': [True, False],\n",
        "            'max_features': ['sqrt', 'log2'],\n",
        "            'random_state': [42],\n",
        "            'n_jobs': [-1]\n",
        "        }\n",
        "    ],\n",
        "    [\n",
        "\n",
        "    ]\n",
        ")"
      ],
      "metadata": {
        "id": "p5Yst9VMfi1K"
      },
      "execution_count": 88,
      "outputs": []
    },
    {
      "cell_type": "code",
      "source": [
        "from sklearn.svm import SVC\n",
        "\n",
        "\n",
        "SVM = Model(\n",
        "    SVC(),\n",
        "    'SVM',\n",
        "    [\n",
        "        {\n",
        "            'C': [0.05, 0.1, 0.5, 1.0],\n",
        "            'kernel': ['linear', 'rbf', 'poly'],\n",
        "            'random_state': [RANDOM_STATE]\n",
        "        }\n",
        "    ],\n",
        "    [\n",
        "        \n",
        "    ]\n",
        ")"
      ],
      "metadata": {
        "id": "owyAZXVRfx1G"
      },
      "execution_count": 89,
      "outputs": []
    },
    {
      "cell_type": "code",
      "source": [
        "from lightgbm import LGBMClassifier\n",
        "\n",
        "\n",
        "light_gbm_model = Model(\n",
        "    LGBMClassifier(),\n",
        "    'LGBM',\n",
        "    [\n",
        "        {\n",
        "            'objective': ['binary'],\n",
        "            'random_state': [RANDOM_STATE],\n",
        "            'boosting': ['dart'],\n",
        "            'learning_rate': [0.1, 0.15],\n",
        "            'max_depth': [3, 4],\n",
        "            'n_estimators': [100, 150, 300],\n",
        "            'lambda_l1': [0.07],\n",
        "            'lambda_l2': [0.07]\n",
        "        }\n",
        "    ],\n",
        "    []\n",
        ")"
      ],
      "metadata": {
        "id": "sfzjK8WMtEMO"
      },
      "execution_count": 104,
      "outputs": []
    },
    {
      "cell_type": "code",
      "source": [
        "all_models = {\n",
        "    model.name: model\n",
        "    for model in [\n",
        "        LogReg,\n",
        "        RandomForest,\n",
        "        light_gbm_model\n",
        "        # SVM\n",
        "    ]\n",
        "}"
      ],
      "metadata": {
        "id": "59nL5KL_Y9Ty"
      },
      "execution_count": 105,
      "outputs": []
    },
    {
      "cell_type": "markdown",
      "source": [
        "# Shortlist models based on cross-validation behavior"
      ],
      "metadata": {
        "id": "JdsRgy7afXlI"
      }
    },
    {
      "cell_type": "code",
      "source": [
        "from sklearn_utils import plot_cv_results\n",
        "\n",
        "\n",
        "np.random.seed(RANDOM_SEED)\n",
        "\n",
        "res = plot_cv_results(\n",
        "    sklearn_models_dict_={\n",
        "        model_name: model.model\n",
        "        for model_name, model in all_models.items()\n",
        "    },\n",
        "    X_=X_trainval,\n",
        "    Y_=Y_trainval,\n",
        "    cv_=5,\n",
        "    scoring_='accuracy',  # 'accuracy'\n",
        "    to_put_minus_=False\n",
        ")"
      ],
      "metadata": {
        "id": "B7kMU00dZdP2",
        "outputId": "718b7a6e-3099-48c5-a239-782da0df8c9b",
        "colab": {
          "base_uri": "https://localhost:8080/",
          "height": 1000
        }
      },
      "execution_count": null,
      "outputs": [
        {
          "output_type": "stream",
          "name": "stderr",
          "text": [
            "/usr/local/lib/python3.7/dist-packages/sklearn/linear_model/_logistic.py:818: ConvergenceWarning: lbfgs failed to converge (status=1):\n",
            "STOP: TOTAL NO. of ITERATIONS REACHED LIMIT.\n",
            "\n",
            "Increase the number of iterations (max_iter) or scale the data as shown in:\n",
            "    https://scikit-learn.org/stable/modules/preprocessing.html\n",
            "Please also refer to the documentation for alternative solver options:\n",
            "    https://scikit-learn.org/stable/modules/linear_model.html#logistic-regression\n",
            "  extra_warning_msg=_LOGISTIC_SOLVER_CONVERGENCE_MSG,\n",
            "/usr/local/lib/python3.7/dist-packages/sklearn/linear_model/_logistic.py:818: ConvergenceWarning: lbfgs failed to converge (status=1):\n",
            "STOP: TOTAL NO. of ITERATIONS REACHED LIMIT.\n",
            "\n",
            "Increase the number of iterations (max_iter) or scale the data as shown in:\n",
            "    https://scikit-learn.org/stable/modules/preprocessing.html\n",
            "Please also refer to the documentation for alternative solver options:\n",
            "    https://scikit-learn.org/stable/modules/linear_model.html#logistic-regression\n",
            "  extra_warning_msg=_LOGISTIC_SOLVER_CONVERGENCE_MSG,\n",
            "/usr/local/lib/python3.7/dist-packages/sklearn/linear_model/_logistic.py:818: ConvergenceWarning: lbfgs failed to converge (status=1):\n",
            "STOP: TOTAL NO. of ITERATIONS REACHED LIMIT.\n",
            "\n",
            "Increase the number of iterations (max_iter) or scale the data as shown in:\n",
            "    https://scikit-learn.org/stable/modules/preprocessing.html\n",
            "Please also refer to the documentation for alternative solver options:\n",
            "    https://scikit-learn.org/stable/modules/linear_model.html#logistic-regression\n",
            "  extra_warning_msg=_LOGISTIC_SOLVER_CONVERGENCE_MSG,\n",
            "/usr/local/lib/python3.7/dist-packages/sklearn/linear_model/_logistic.py:818: ConvergenceWarning: lbfgs failed to converge (status=1):\n",
            "STOP: TOTAL NO. of ITERATIONS REACHED LIMIT.\n",
            "\n",
            "Increase the number of iterations (max_iter) or scale the data as shown in:\n",
            "    https://scikit-learn.org/stable/modules/preprocessing.html\n",
            "Please also refer to the documentation for alternative solver options:\n",
            "    https://scikit-learn.org/stable/modules/linear_model.html#logistic-regression\n",
            "  extra_warning_msg=_LOGISTIC_SOLVER_CONVERGENCE_MSG,\n",
            "/usr/local/lib/python3.7/dist-packages/sklearn/linear_model/_logistic.py:818: ConvergenceWarning: lbfgs failed to converge (status=1):\n",
            "STOP: TOTAL NO. of ITERATIONS REACHED LIMIT.\n",
            "\n",
            "Increase the number of iterations (max_iter) or scale the data as shown in:\n",
            "    https://scikit-learn.org/stable/modules/preprocessing.html\n",
            "Please also refer to the documentation for alternative solver options:\n",
            "    https://scikit-learn.org/stable/modules/linear_model.html#logistic-regression\n",
            "  extra_warning_msg=_LOGISTIC_SOLVER_CONVERGENCE_MSG,\n"
          ]
        },
        {
          "output_type": "stream",
          "name": "stdout",
          "text": [
            "Model           Seen folds avg score    Seen folds std    Unseen folds avg score    Unseen folds std\n",
            "------------  ----------------------  ----------------  ------------------------  ------------------\n",
            "LogReg                      0.786058        0.00260711                  0.783435          0.0050447\n",
            "LGBM                        0.913503        0.0021973                   0.78933           0.010607\n",
            "RandomForest                1               0                           0.791777          0.00990004\n"
          ]
        },
        {
          "output_type": "display_data",
          "data": {
            "text/plain": [
              "<Figure size 432x288 with 1 Axes>"
            ],
            "image/png": "[encoded data removed]"
          },
          "metadata": {
            "needs_background": "light"
          }
        },
        {
          "output_type": "display_data",
          "data": {
            "text/plain": [
              "<Figure size 432x288 with 1 Axes>"
            ],
            "image/png": "[encoded data removed]"
          },
          "metadata": {
            "needs_background": "light"
          }
        },
        {
          "output_type": "display_data",
          "data": {
            "text/plain": [
              "<Figure size 432x288 with 1 Axes>"
            ],
            "image/png": "[encoded data removed]"
          },
          "metadata": {
            "needs_background": "light"
          }
        }
      ]
    },
    {
      "cell_type": "code",
      "source": [
        "shortlisted_models = {\n",
        "    model.name: model\n",
        "    for model in [\n",
        "        LogReg,\n",
        "        SVM,\n",
        "        RandomForest,\n",
        "        light_gbm_model\n",
        "    ]\n",
        "}"
      ],
      "metadata": {
        "id": "r9x-2htUfb6W"
      },
      "execution_count": null,
      "outputs": []
    },
    {
      "cell_type": "markdown",
      "source": [
        "# Fine tune shortlisted models with grid search"
      ],
      "metadata": {
        "id": "rOAf8XEAgPxS"
      }
    },
    {
      "cell_type": "markdown",
      "source": [
        "## Random forest"
      ],
      "metadata": {
        "id": "Wr0F5QIqiegq"
      }
    },
    {
      "cell_type": "code",
      "source": [
        "rf_results = fit_grid_search(\n",
        "    models_dict_=dict_subset(\n",
        "        shortlisted_models,\n",
        "        ['RandomForest']\n",
        "    ),\n",
        "    X_=X_trainval,\n",
        "    Y_=Y_trainval,\n",
        "    cv_=5,\n",
        "    scoring_='accuracy',\n",
        "    verbose=1\n",
        ")"
      ],
      "metadata": {
        "id": "P-091VIbgX6y",
        "outputId": "1851de1c-76cf-4a7d-d79f-a2ef85a257c4",
        "colab": {
          "base_uri": "https://localhost:8080/",
          "height": 331
        }
      },
      "execution_count": null,
      "outputs": [
        {
          "output_type": "stream",
          "name": "stdout",
          "text": [
            "Fitting RandomForest\n",
            "Fitting 5 folds for each of 16 candidates, totalling 80 fits\n"
          ]
        },
        {
          "output_type": "display_data",
          "data": {
            "text/plain": [
              "<Figure size 432x288 with 1 Axes>"
            ],
            "image/png": "[encoded data removed]"
          },
          "metadata": {
            "needs_background": "light"
          }
        }
      ]
    },
    {
      "cell_type": "code",
      "source": [
        "rf_results['RandomForest'].best_score_, \\\n",
        "    rf_results['RandomForest'].best_params_"
      ],
      "metadata": {
        "id": "TtTMSwS_igZl",
        "outputId": "7e86b7c4-1111-408a-db25-d4cbc13c4bac",
        "colab": {
          "base_uri": "https://localhost:8080/"
        }
      },
      "execution_count": null,
      "outputs": [
        {
          "output_type": "execute_result",
          "data": {
            "text/plain": [
              "(0.7750938458435265,\n",
              " {'bootstrap': True,\n",
              "  'max_depth': 6,\n",
              "  'max_features': 'sqrt',\n",
              "  'n_estimators': 75,\n",
              "  'n_jobs': -1,\n",
              "  'random_state': 42})"
            ]
          },
          "metadata": {},
          "execution_count": 24
        }
      ]
    },
    {
      "cell_type": "markdown",
      "source": [
        "## SVM"
      ],
      "metadata": {
        "id": "8ldwrJyCilfV"
      }
    },
    {
      "cell_type": "code",
      "source": [
        "from sklearn.svm import SVC\n",
        "\n",
        "svm_model = Model(\n",
        "    SVC(),\n",
        "    'SVM',\n",
        "    [\n",
        "        {\n",
        "            'random_state': [42],\n",
        "            'kernel': ['linear']\n",
        "        },\n",
        "    ],\n",
        "    []\n",
        ")"
      ],
      "metadata": {
        "id": "8zKTgiAKXJha"
      },
      "execution_count": null,
      "outputs": []
    },
    {
      "cell_type": "code",
      "source": [
        "from sklearn_utils import fit_grid_search\n",
        "\n",
        "\n",
        "svm_results = fit_grid_search(\n",
        "    {'SVM': svm_model},\n",
        "    X_=X_trainval,\n",
        "    Y_=Y_trainval,\n",
        "    cv_=5,\n",
        "    scoring_='accuracy',\n",
        "    verbose=5\n",
        ")"
      ],
      "metadata": {
        "id": "mFD_jd0Cxirj",
        "outputId": "058f429b-1087-42e3-c4ba-fc9357b43f40",
        "colab": {
          "base_uri": "https://localhost:8080/"
        }
      },
      "execution_count": null,
      "outputs": [
        {
          "output_type": "stream",
          "name": "stdout",
          "text": [
            "Fitting SVM\n",
            "Fitting 5 folds for each of 1 candidates, totalling 5 fits\n"
          ]
        }
      ]
    },
    {
      "cell_type": "code",
      "source": [
        "# svm_results.best_score_"
      ],
      "metadata": {
        "id": "zai4My6mfA8u"
      },
      "execution_count": null,
      "outputs": []
    },
    {
      "cell_type": "markdown",
      "source": [
        "## Gradient boosting"
      ],
      "metadata": {
        "id": "nxslrJY7Xttz"
      }
    },
    {
      "cell_type": "code",
      "source": [
        "from sklearn.ensemble import GradientBoostingClassifier\n",
        "\n",
        "\n",
        "xgb_model = Model(\n",
        "    GradientBoostingClassifier(),\n",
        "    'XGB',\n",
        "    [\n",
        "        {\n",
        "            'n_estimators': [100, 150],\n",
        "            'random_state': [42],\n",
        "            'learning_rate': [0.05],\n",
        "            'max_depth': [3],\n",
        "            'max_features': [None, 'sqrt', 'log2']\n",
        "        }\n",
        "    ],\n",
        "    []\n",
        ")"
      ],
      "metadata": {
        "id": "dMPiUNjyXwNM"
      },
      "execution_count": null,
      "outputs": []
    },
    {
      "cell_type": "code",
      "source": [
        "xgb_results = fit_grid_search(\n",
        "    models_dict_={'XGB': xgb_model},\n",
        "    X_=X_trainval,\n",
        "    Y_=Y_trainval,\n",
        "    cv_=5,\n",
        "    scoring_='accuracy',\n",
        "    verbose=2\n",
        ")"
      ],
      "metadata": {
        "id": "r_fO9n0PYLdn",
        "outputId": "da60ba39-1012-40a4-89f6-43610b824c5a",
        "colab": {
          "base_uri": "https://localhost:8080/",
          "height": 870
        }
      },
      "execution_count": null,
      "outputs": [
        {
          "output_type": "stream",
          "name": "stdout",
          "text": [
            "Fitting XGB\n",
            "Fitting 5 folds for each of 6 candidates, totalling 30 fits\n",
            "[CV] END learning_rate=0.05, max_depth=3, max_features=None, n_estimators=100, random_state=42; total time=   1.3s\n",
            "[CV] END learning_rate=0.05, max_depth=3, max_features=None, n_estimators=100, random_state=42; total time=   1.3s\n",
            "[CV] END learning_rate=0.05, max_depth=3, max_features=None, n_estimators=100, random_state=42; total time=   1.3s\n",
            "[CV] END learning_rate=0.05, max_depth=3, max_features=None, n_estimators=100, random_state=42; total time=   1.3s\n",
            "[CV] END learning_rate=0.05, max_depth=3, max_features=None, n_estimators=100, random_state=42; total time=   1.3s\n",
            "[CV] END learning_rate=0.05, max_depth=3, max_features=None, n_estimators=150, random_state=42; total time=   2.0s\n",
            "[CV] END learning_rate=0.05, max_depth=3, max_features=None, n_estimators=150, random_state=42; total time=   2.0s\n",
            "[CV] END learning_rate=0.05, max_depth=3, max_features=None, n_estimators=150, random_state=42; total time=   2.1s\n",
            "[CV] END learning_rate=0.05, max_depth=3, max_features=None, n_estimators=150, random_state=42; total time=   2.0s\n",
            "[CV] END learning_rate=0.05, max_depth=3, max_features=None, n_estimators=150, random_state=42; total time=   2.0s\n",
            "[CV] END learning_rate=0.05, max_depth=3, max_features=sqrt, n_estimators=100, random_state=42; total time=   0.4s\n",
            "[CV] END learning_rate=0.05, max_depth=3, max_features=sqrt, n_estimators=100, random_state=42; total time=   0.4s\n",
            "[CV] END learning_rate=0.05, max_depth=3, max_features=sqrt, n_estimators=100, random_state=42; total time=   0.4s\n",
            "[CV] END learning_rate=0.05, max_depth=3, max_features=sqrt, n_estimators=100, random_state=42; total time=   0.4s\n",
            "[CV] END learning_rate=0.05, max_depth=3, max_features=sqrt, n_estimators=100, random_state=42; total time=   0.4s\n",
            "[CV] END learning_rate=0.05, max_depth=3, max_features=sqrt, n_estimators=150, random_state=42; total time=   0.6s\n",
            "[CV] END learning_rate=0.05, max_depth=3, max_features=sqrt, n_estimators=150, random_state=42; total time=   0.6s\n",
            "[CV] END learning_rate=0.05, max_depth=3, max_features=sqrt, n_estimators=150, random_state=42; total time=   0.8s\n",
            "[CV] END learning_rate=0.05, max_depth=3, max_features=sqrt, n_estimators=150, random_state=42; total time=   0.9s\n",
            "[CV] END learning_rate=0.05, max_depth=3, max_features=sqrt, n_estimators=150, random_state=42; total time=   0.8s\n",
            "[CV] END learning_rate=0.05, max_depth=3, max_features=log2, n_estimators=100, random_state=42; total time=   0.4s\n",
            "[CV] END learning_rate=0.05, max_depth=3, max_features=log2, n_estimators=100, random_state=42; total time=   0.4s\n",
            "[CV] END learning_rate=0.05, max_depth=3, max_features=log2, n_estimators=100, random_state=42; total time=   0.4s\n",
            "[CV] END learning_rate=0.05, max_depth=3, max_features=log2, n_estimators=100, random_state=42; total time=   0.4s\n",
            "[CV] END learning_rate=0.05, max_depth=3, max_features=log2, n_estimators=100, random_state=42; total time=   0.4s\n",
            "[CV] END learning_rate=0.05, max_depth=3, max_features=log2, n_estimators=150, random_state=42; total time=   0.6s\n",
            "[CV] END learning_rate=0.05, max_depth=3, max_features=log2, n_estimators=150, random_state=42; total time=   0.6s\n",
            "[CV] END learning_rate=0.05, max_depth=3, max_features=log2, n_estimators=150, random_state=42; total time=   0.6s\n",
            "[CV] END learning_rate=0.05, max_depth=3, max_features=log2, n_estimators=150, random_state=42; total time=   0.6s\n",
            "[CV] END learning_rate=0.05, max_depth=3, max_features=log2, n_estimators=150, random_state=42; total time=   0.6s\n"
          ]
        },
        {
          "output_type": "display_data",
          "data": {
            "text/plain": [
              "<Figure size 432x288 with 1 Axes>"
            ],
            "image/png": "[encoded data removed]"
          },
          "metadata": {
            "needs_background": "light"
          }
        }
      ]
    },
    {
      "cell_type": "code",
      "source": [
        "xgb_results['XGB'].best_score_, \\\n",
        "    xgb_results['XGB'].best_params_"
      ],
      "metadata": {
        "id": "E7aC1FT9YqY0",
        "outputId": "08838ffe-3eaa-4156-a982-4d91571c3578",
        "colab": {
          "base_uri": "https://localhost:8080/"
        }
      },
      "execution_count": null,
      "outputs": [
        {
          "output_type": "execute_result",
          "data": {
            "text/plain": [
              "(0.7877470273960558,\n",
              " {'learning_rate': 0.05,\n",
              "  'max_depth': 3,\n",
              "  'max_features': None,\n",
              "  'n_estimators': 100,\n",
              "  'random_state': 42})"
            ]
          },
          "metadata": {},
          "execution_count": 27
        }
      ]
    },
    {
      "cell_type": "markdown",
      "source": [
        "## Adaptive boosting"
      ],
      "metadata": {
        "id": "hcp_NEdyeRBS"
      }
    },
    {
      "cell_type": "code",
      "source": [
        "from sklearn.ensemble import AdaBoostClassifier\n",
        "from sklearn.tree import DecisionTreeClassifier\n",
        "\n",
        "\n",
        "ada_boost = Model(\n",
        "    AdaBoostClassifier(),\n",
        "    'AdaBoost',\n",
        "    [\n",
        "        {\n",
        "            'n_estimators': [50],\n",
        "            'random_state': [42],\n",
        "            'base_estimator': [\n",
        "                DecisionTreeClassifier(max_depth=2),\n",
        "                # DecisionTreeClassifier(max_depth=3)\n",
        "            ],\n",
        "            'learning_rate': [0.01, 0.05]\n",
        "        }\n",
        "    ],\n",
        "    [\n",
        "\n",
        "    ]\n",
        ")"
      ],
      "metadata": {
        "id": "guJM_z-WeS9b"
      },
      "execution_count": null,
      "outputs": []
    },
    {
      "cell_type": "code",
      "source": [
        "ada_boost_results = fit_grid_search(\n",
        "    models_dict_={'AdaBoost': ada_boost},\n",
        "    X_=X_trainval,\n",
        "    Y_=Y_trainval,\n",
        "    cv_=5,\n",
        "    scoring_='accuracy',\n",
        "    verbose=2\n",
        ")"
      ],
      "metadata": {
        "colab": {
          "base_uri": "https://localhost:8080/"
        },
        "id": "MtOpii-EenN0",
        "outputId": "3cd569a0-a9fe-4ead-ea91-f7bb3d6c56eb"
      },
      "execution_count": null,
      "outputs": [
        {
          "output_type": "stream",
          "name": "stdout",
          "text": [
            "Fitting AdaBoost\n",
            "Fitting 5 folds for each of 2 candidates, totalling 10 fits\n",
            "[CV] END base_estimator=DecisionTreeClassifier(max_depth=2), learning_rate=0.01, n_estimators=50, random_state=42; total time=   0.7s\n",
            "[CV] END base_estimator=DecisionTreeClassifier(max_depth=2), learning_rate=0.01, n_estimators=50, random_state=42; total time=   0.7s\n",
            "[CV] END base_estimator=DecisionTreeClassifier(max_depth=2), learning_rate=0.01, n_estimators=50, random_state=42; total time=   0.7s\n",
            "[CV] END base_estimator=DecisionTreeClassifier(max_depth=2), learning_rate=0.01, n_estimators=50, random_state=42; total time=   0.7s\n",
            "[CV] END base_estimator=DecisionTreeClassifier(max_depth=2), learning_rate=0.01, n_estimators=50, random_state=42; total time=   0.6s\n",
            "[CV] END base_estimator=DecisionTreeClassifier(max_depth=2), learning_rate=0.05, n_estimators=50, random_state=42; total time=   0.6s\n",
            "[CV] END base_estimator=DecisionTreeClassifier(max_depth=2), learning_rate=0.05, n_estimators=50, random_state=42; total time=   0.7s\n",
            "[CV] END base_estimator=DecisionTreeClassifier(max_depth=2), learning_rate=0.05, n_estimators=50, random_state=42; total time=   0.6s\n",
            "[CV] END base_estimator=DecisionTreeClassifier(max_depth=2), learning_rate=0.05, n_estimators=50, random_state=42; total time=   0.6s\n",
            "[CV] END base_estimator=DecisionTreeClassifier(max_depth=2), learning_rate=0.05, n_estimators=50, random_state=42; total time=   0.6s\n"
          ]
        },
        {
          "output_type": "display_data",
          "data": {
            "text/plain": [
              "<Figure size 432x288 with 1 Axes>"
            ],
            "image/png": "[encoded data removed]"
          },
          "metadata": {
            "needs_background": "light"
          }
        }
      ]
    },
    {
      "cell_type": "code",
      "source": [
        "ada_boost_results['AdaBoost'].best_score_, \\\n",
        "    ada_boost_results['AdaBoost'].best_params_"
      ],
      "metadata": {
        "colab": {
          "base_uri": "https://localhost:8080/"
        },
        "id": "gsMwbqTIfFEt",
        "outputId": "a27b1df1-6b5c-45bb-846f-0b11d783a11c"
      },
      "execution_count": null,
      "outputs": [
        {
          "output_type": "execute_result",
          "data": {
            "text/plain": [
              "(0.7676165896901458,\n",
              " {'base_estimator': DecisionTreeClassifier(max_depth=2),\n",
              "  'learning_rate': 0.05,\n",
              "  'n_estimators': 50,\n",
              "  'random_state': 42})"
            ]
          },
          "metadata": {},
          "execution_count": 30
        }
      ]
    },
    {
      "cell_type": "markdown",
      "source": [
        "## CatBoost"
      ],
      "metadata": {
        "id": "F4853AF4fvE9"
      }
    },
    {
      "cell_type": "code",
      "source": [
        "from catboost import CatBoostClassifier\n",
        "\n",
        "\n",
        "cat_boost_model = Model(\n",
        "    CatBoostClassifier(),\n",
        "    'CatBoost',\n",
        "    [\n",
        "        {\n",
        "            'n_estimators': [150],\n",
        "            'depth': [5],\n",
        "            'reg_lambda': [0.01],\n",
        "            'verbose': [0],\n",
        "            'random_state': [42]\n",
        "        }\n",
        "    ],\n",
        "    []\n",
        ")"
      ],
      "metadata": {
        "id": "Ytaa6DFPfwjN"
      },
      "execution_count": null,
      "outputs": []
    },
    {
      "cell_type": "code",
      "source": [
        "cat_boost_results = fit_grid_search(\n",
        "    {'CatBoost': cat_boost_model},\n",
        "    X_=X_trainval,\n",
        "    Y_=Y_trainval,\n",
        "    cv_=5,\n",
        "    scoring_='accuracy',\n",
        "    verbose=2\n",
        ")"
      ],
      "metadata": {
        "colab": {
          "base_uri": "https://localhost:8080/",
          "height": 421
        },
        "id": "wxlPjdXRgZLC",
        "outputId": "bd51c1fa-5a70-4236-fcd6-9c338cc1fdb4"
      },
      "execution_count": null,
      "outputs": [
        {
          "output_type": "stream",
          "name": "stdout",
          "text": [
            "Fitting CatBoost\n",
            "Fitting 5 folds for each of 1 candidates, totalling 5 fits\n",
            "[CV] END depth=5, n_estimators=150, random_state=42, reg_lambda=0.01, verbose=0; total time=   0.7s\n",
            "[CV] END depth=5, n_estimators=150, random_state=42, reg_lambda=0.01, verbose=0; total time=   0.6s\n",
            "[CV] END depth=5, n_estimators=150, random_state=42, reg_lambda=0.01, verbose=0; total time=   0.6s\n",
            "[CV] END depth=5, n_estimators=150, random_state=42, reg_lambda=0.01, verbose=0; total time=   0.6s\n",
            "[CV] END depth=5, n_estimators=150, random_state=42, reg_lambda=0.01, verbose=0; total time=   0.6s\n"
          ]
        },
        {
          "output_type": "display_data",
          "data": {
            "text/plain": [
              "<Figure size 432x288 with 1 Axes>"
            ],
            "image/png": "[encoded data removed]"
          },
          "metadata": {
            "needs_background": "light"
          }
        }
      ]
    },
    {
      "cell_type": "code",
      "source": [
        "cat_boost_results['CatBoost'].best_score_, \\\n",
        "    cat_boost_results['CatBoost'].best_params_"
      ],
      "metadata": {
        "colab": {
          "base_uri": "https://localhost:8080/"
        },
        "id": "FPJrkD4LgyhR",
        "outputId": "cc7077fc-6c56-43c9-f629-cc8f933e24c4"
      },
      "execution_count": null,
      "outputs": [
        {
          "output_type": "execute_result",
          "data": {
            "text/plain": [
              "(0.793930043599915,\n",
              " {'depth': 5,\n",
              "  'n_estimators': 150,\n",
              "  'random_state': 42,\n",
              "  'reg_lambda': 0.01,\n",
              "  'verbose': 0})"
            ]
          },
          "metadata": {},
          "execution_count": 33
        }
      ]
    },
    {
      "cell_type": "markdown",
      "source": [
        "## LogReg"
      ],
      "metadata": {
        "id": "GiFIDbXixwCC"
      }
    },
    {
      "cell_type": "code",
      "source": [
        "from sklearn_utils import fit_grid_search\n",
        "\n",
        "\n",
        "log_reg_results = fit_grid_search(\n",
        "    dict_subset(\n",
        "        shortlisted_models,\n",
        "        ['LogReg']\n",
        "    ),\n",
        "    X_=X_trainval,\n",
        "    Y_=Y_trainval,\n",
        "    cv_=5,\n",
        "    scoring_='accuracy',\n",
        "    verbose=1\n",
        ")"
      ],
      "metadata": {
        "id": "IYkSMdzzxyUo",
        "outputId": "54bbb071-447e-450f-a5fa-46fb85600e9e",
        "colab": {
          "base_uri": "https://localhost:8080/",
          "height": 1000
        }
      },
      "execution_count": null,
      "outputs": [
        {
          "output_type": "stream",
          "name": "stdout",
          "text": [
            "Fitting LogReg\n",
            "Fitting 5 folds for each of 9 candidates, totalling 45 fits\n"
          ]
        },
        {
          "output_type": "stream",
          "name": "stderr",
          "text": [
            "/usr/local/lib/python3.7/dist-packages/sklearn/linear_model/_sag.py:354: ConvergenceWarning: The max_iter was reached which means the coef_ did not converge\n",
            "  ConvergenceWarning,\n",
            "/usr/local/lib/python3.7/dist-packages/sklearn/linear_model/_sag.py:354: ConvergenceWarning: The max_iter was reached which means the coef_ did not converge\n",
            "  ConvergenceWarning,\n",
            "/usr/local/lib/python3.7/dist-packages/sklearn/linear_model/_sag.py:354: ConvergenceWarning: The max_iter was reached which means the coef_ did not converge\n",
            "  ConvergenceWarning,\n",
            "/usr/local/lib/python3.7/dist-packages/sklearn/linear_model/_sag.py:354: ConvergenceWarning: The max_iter was reached which means the coef_ did not converge\n",
            "  ConvergenceWarning,\n",
            "/usr/local/lib/python3.7/dist-packages/sklearn/linear_model/_sag.py:354: ConvergenceWarning: The max_iter was reached which means the coef_ did not converge\n",
            "  ConvergenceWarning,\n",
            "/usr/local/lib/python3.7/dist-packages/sklearn/linear_model/_sag.py:354: ConvergenceWarning: The max_iter was reached which means the coef_ did not converge\n",
            "  ConvergenceWarning,\n",
            "/usr/local/lib/python3.7/dist-packages/sklearn/linear_model/_sag.py:354: ConvergenceWarning: The max_iter was reached which means the coef_ did not converge\n",
            "  ConvergenceWarning,\n",
            "/usr/local/lib/python3.7/dist-packages/sklearn/linear_model/_sag.py:354: ConvergenceWarning: The max_iter was reached which means the coef_ did not converge\n",
            "  ConvergenceWarning,\n",
            "/usr/local/lib/python3.7/dist-packages/sklearn/linear_model/_sag.py:354: ConvergenceWarning: The max_iter was reached which means the coef_ did not converge\n",
            "  ConvergenceWarning,\n",
            "/usr/local/lib/python3.7/dist-packages/sklearn/linear_model/_sag.py:354: ConvergenceWarning: The max_iter was reached which means the coef_ did not converge\n",
            "  ConvergenceWarning,\n",
            "/usr/local/lib/python3.7/dist-packages/sklearn/linear_model/_sag.py:354: ConvergenceWarning: The max_iter was reached which means the coef_ did not converge\n",
            "  ConvergenceWarning,\n",
            "/usr/local/lib/python3.7/dist-packages/sklearn/linear_model/_sag.py:354: ConvergenceWarning: The max_iter was reached which means the coef_ did not converge\n",
            "  ConvergenceWarning,\n",
            "/usr/local/lib/python3.7/dist-packages/sklearn/linear_model/_sag.py:354: ConvergenceWarning: The max_iter was reached which means the coef_ did not converge\n",
            "  ConvergenceWarning,\n",
            "/usr/local/lib/python3.7/dist-packages/sklearn/linear_model/_sag.py:354: ConvergenceWarning: The max_iter was reached which means the coef_ did not converge\n",
            "  ConvergenceWarning,\n",
            "/usr/local/lib/python3.7/dist-packages/sklearn/linear_model/_sag.py:354: ConvergenceWarning: The max_iter was reached which means the coef_ did not converge\n",
            "  ConvergenceWarning,\n",
            "/usr/local/lib/python3.7/dist-packages/sklearn/linear_model/_sag.py:354: ConvergenceWarning: The max_iter was reached which means the coef_ did not converge\n",
            "  ConvergenceWarning,\n",
            "/usr/local/lib/python3.7/dist-packages/sklearn/linear_model/_sag.py:354: ConvergenceWarning: The max_iter was reached which means the coef_ did not converge\n",
            "  ConvergenceWarning,\n",
            "/usr/local/lib/python3.7/dist-packages/sklearn/linear_model/_sag.py:354: ConvergenceWarning: The max_iter was reached which means the coef_ did not converge\n",
            "  ConvergenceWarning,\n",
            "/usr/local/lib/python3.7/dist-packages/sklearn/linear_model/_sag.py:354: ConvergenceWarning: The max_iter was reached which means the coef_ did not converge\n",
            "  ConvergenceWarning,\n",
            "/usr/local/lib/python3.7/dist-packages/sklearn/linear_model/_sag.py:354: ConvergenceWarning: The max_iter was reached which means the coef_ did not converge\n",
            "  ConvergenceWarning,\n",
            "/usr/local/lib/python3.7/dist-packages/sklearn/linear_model/_sag.py:354: ConvergenceWarning: The max_iter was reached which means the coef_ did not converge\n",
            "  ConvergenceWarning,\n",
            "/usr/local/lib/python3.7/dist-packages/sklearn/linear_model/_sag.py:354: ConvergenceWarning: The max_iter was reached which means the coef_ did not converge\n",
            "  ConvergenceWarning,\n",
            "/usr/local/lib/python3.7/dist-packages/sklearn/linear_model/_sag.py:354: ConvergenceWarning: The max_iter was reached which means the coef_ did not converge\n",
            "  ConvergenceWarning,\n",
            "/usr/local/lib/python3.7/dist-packages/sklearn/linear_model/_sag.py:354: ConvergenceWarning: The max_iter was reached which means the coef_ did not converge\n",
            "  ConvergenceWarning,\n",
            "/usr/local/lib/python3.7/dist-packages/sklearn/linear_model/_sag.py:354: ConvergenceWarning: The max_iter was reached which means the coef_ did not converge\n",
            "  ConvergenceWarning,\n",
            "/usr/local/lib/python3.7/dist-packages/sklearn/linear_model/_sag.py:354: ConvergenceWarning: The max_iter was reached which means the coef_ did not converge\n",
            "  ConvergenceWarning,\n",
            "/usr/local/lib/python3.7/dist-packages/sklearn/linear_model/_sag.py:354: ConvergenceWarning: The max_iter was reached which means the coef_ did not converge\n",
            "  ConvergenceWarning,\n",
            "/usr/local/lib/python3.7/dist-packages/sklearn/linear_model/_sag.py:354: ConvergenceWarning: The max_iter was reached which means the coef_ did not converge\n",
            "  ConvergenceWarning,\n",
            "/usr/local/lib/python3.7/dist-packages/sklearn/linear_model/_sag.py:354: ConvergenceWarning: The max_iter was reached which means the coef_ did not converge\n",
            "  ConvergenceWarning,\n",
            "/usr/local/lib/python3.7/dist-packages/sklearn/linear_model/_sag.py:354: ConvergenceWarning: The max_iter was reached which means the coef_ did not converge\n",
            "  ConvergenceWarning,\n",
            "/usr/local/lib/python3.7/dist-packages/sklearn/linear_model/_sag.py:354: ConvergenceWarning: The max_iter was reached which means the coef_ did not converge\n",
            "  ConvergenceWarning,\n",
            "/usr/local/lib/python3.7/dist-packages/sklearn/linear_model/_sag.py:354: ConvergenceWarning: The max_iter was reached which means the coef_ did not converge\n",
            "  ConvergenceWarning,\n",
            "/usr/local/lib/python3.7/dist-packages/sklearn/linear_model/_sag.py:354: ConvergenceWarning: The max_iter was reached which means the coef_ did not converge\n",
            "  ConvergenceWarning,\n",
            "/usr/local/lib/python3.7/dist-packages/sklearn/linear_model/_sag.py:354: ConvergenceWarning: The max_iter was reached which means the coef_ did not converge\n",
            "  ConvergenceWarning,\n",
            "/usr/local/lib/python3.7/dist-packages/sklearn/linear_model/_sag.py:354: ConvergenceWarning: The max_iter was reached which means the coef_ did not converge\n",
            "  ConvergenceWarning,\n",
            "/usr/local/lib/python3.7/dist-packages/sklearn/linear_model/_sag.py:354: ConvergenceWarning: The max_iter was reached which means the coef_ did not converge\n",
            "  ConvergenceWarning,\n",
            "/usr/local/lib/python3.7/dist-packages/sklearn/linear_model/_sag.py:354: ConvergenceWarning: The max_iter was reached which means the coef_ did not converge\n",
            "  ConvergenceWarning,\n",
            "/usr/local/lib/python3.7/dist-packages/sklearn/linear_model/_sag.py:354: ConvergenceWarning: The max_iter was reached which means the coef_ did not converge\n",
            "  ConvergenceWarning,\n",
            "/usr/local/lib/python3.7/dist-packages/sklearn/linear_model/_sag.py:354: ConvergenceWarning: The max_iter was reached which means the coef_ did not converge\n",
            "  ConvergenceWarning,\n",
            "/usr/local/lib/python3.7/dist-packages/sklearn/linear_model/_sag.py:354: ConvergenceWarning: The max_iter was reached which means the coef_ did not converge\n",
            "  ConvergenceWarning,\n",
            "/usr/local/lib/python3.7/dist-packages/sklearn/linear_model/_sag.py:354: ConvergenceWarning: The max_iter was reached which means the coef_ did not converge\n",
            "  ConvergenceWarning,\n",
            "/usr/local/lib/python3.7/dist-packages/sklearn/linear_model/_sag.py:354: ConvergenceWarning: The max_iter was reached which means the coef_ did not converge\n",
            "  ConvergenceWarning,\n",
            "/usr/local/lib/python3.7/dist-packages/sklearn/linear_model/_sag.py:354: ConvergenceWarning: The max_iter was reached which means the coef_ did not converge\n",
            "  ConvergenceWarning,\n",
            "/usr/local/lib/python3.7/dist-packages/sklearn/linear_model/_sag.py:354: ConvergenceWarning: The max_iter was reached which means the coef_ did not converge\n",
            "  ConvergenceWarning,\n",
            "/usr/local/lib/python3.7/dist-packages/sklearn/linear_model/_sag.py:354: ConvergenceWarning: The max_iter was reached which means the coef_ did not converge\n",
            "  ConvergenceWarning,\n",
            "/usr/local/lib/python3.7/dist-packages/sklearn/linear_model/_sag.py:354: ConvergenceWarning: The max_iter was reached which means the coef_ did not converge\n",
            "  ConvergenceWarning,\n"
          ]
        },
        {
          "output_type": "display_data",
          "data": {
            "text/plain": [
              "<Figure size 432x288 with 1 Axes>"
            ],
            "image/png": "[encoded data removed]"
          },
          "metadata": {
            "needs_background": "light"
          }
        }
      ]
    },
    {
      "cell_type": "code",
      "source": [
        "log_reg_results['LogReg'].best_score_, \\\n",
        "    log_reg_results['LogReg'].best_params_"
      ],
      "metadata": {
        "id": "rdzTPo6t18CK",
        "outputId": "e7f11bf3-83ab-4e05-dffc-0a4d032357c5",
        "colab": {
          "base_uri": "https://localhost:8080/"
        }
      },
      "execution_count": null,
      "outputs": [
        {
          "output_type": "execute_result",
          "data": {
            "text/plain": [
              "(0.7635858473537489,\n",
              " {'C': 0.01,\n",
              "  'l1_ratio': 0,\n",
              "  'penalty': 'elasticnet',\n",
              "  'random_state': 42,\n",
              "  'solver': 'saga'})"
            ]
          },
          "metadata": {},
          "execution_count": 35
        }
      ]
    },
    {
      "cell_type": "markdown",
      "source": [
        "## Light GBM"
      ],
      "metadata": {
        "id": "8YVwnf0kuVvk"
      }
    },
    {
      "cell_type": "code",
      "source": [
        "from sklearn_utils import fit_grid_search\n",
        "\n",
        "\n",
        "light_gbm_results = fit_grid_search(\n",
        "    dict_subset(\n",
        "        all_models,\n",
        "        ['LGBM']\n",
        "    ),\n",
        "    X_=X_trainval,\n",
        "    Y_=Y_trainval,\n",
        "    cv_=5,\n",
        "    scoring_='accuracy',\n",
        "    verbose=3\n",
        ")"
      ],
      "metadata": {
        "id": "TiiKRrJmuaz6",
        "outputId": "86bf6402-e4c0-4c64-bba7-34a15c01249a",
        "colab": {
          "base_uri": "https://localhost:8080/",
          "height": 1000
        }
      },
      "execution_count": 106,
      "outputs": [
        {
          "output_type": "stream",
          "name": "stdout",
          "text": [
            "Fitting LGBM\n",
            "Fitting 5 folds for each of 12 candidates, totalling 60 fits\n",
            "[CV 1/5] END boosting=dart, lambda_l1=0.07, lambda_l2=0.07, learning_rate=0.1, max_depth=3, n_estimators=100, objective=binary, random_state=42;, score=(train=0.803, test=0.772) total time=   0.2s\n",
            "[CV 2/5] END boosting=dart, lambda_l1=0.07, lambda_l2=0.07, learning_rate=0.1, max_depth=3, n_estimators=100, objective=binary, random_state=42;, score=(train=0.800, test=0.793) total time=   0.2s\n",
            "[CV 3/5] END boosting=dart, lambda_l1=0.07, lambda_l2=0.07, learning_rate=0.1, max_depth=3, n_estimators=100, objective=binary, random_state=42;, score=(train=0.806, test=0.785) total time=   0.2s\n",
            "[CV 4/5] END boosting=dart, lambda_l1=0.07, lambda_l2=0.07, learning_rate=0.1, max_depth=3, n_estimators=100, objective=binary, random_state=42;, score=(train=0.797, test=0.802) total time=   0.2s\n",
            "[CV 5/5] END boosting=dart, lambda_l1=0.07, lambda_l2=0.07, learning_rate=0.1, max_depth=3, n_estimators=100, objective=binary, random_state=42;, score=(train=0.802, test=0.801) total time=   0.2s\n",
            "[CV 1/5] END boosting=dart, lambda_l1=0.07, lambda_l2=0.07, learning_rate=0.1, max_depth=3, n_estimators=150, objective=binary, random_state=42;, score=(train=0.806, test=0.778) total time=   0.4s\n",
            "[CV 2/5] END boosting=dart, lambda_l1=0.07, lambda_l2=0.07, learning_rate=0.1, max_depth=3, n_estimators=150, objective=binary, random_state=42;, score=(train=0.802, test=0.797) total time=   0.4s\n",
            "[CV 3/5] END boosting=dart, lambda_l1=0.07, lambda_l2=0.07, learning_rate=0.1, max_depth=3, n_estimators=150, objective=binary, random_state=42;, score=(train=0.808, test=0.788) total time=   0.5s\n",
            "[CV 4/5] END boosting=dart, lambda_l1=0.07, lambda_l2=0.07, learning_rate=0.1, max_depth=3, n_estimators=150, objective=binary, random_state=42;, score=(train=0.802, test=0.805) total time=   0.5s\n",
            "[CV 5/5] END boosting=dart, lambda_l1=0.07, lambda_l2=0.07, learning_rate=0.1, max_depth=3, n_estimators=150, objective=binary, random_state=42;, score=(train=0.802, test=0.799) total time=   0.4s\n",
            "[CV 1/5] END boosting=dart, lambda_l1=0.07, lambda_l2=0.07, learning_rate=0.1, max_depth=3, n_estimators=300, objective=binary, random_state=42;, score=(train=0.816, test=0.781) total time=   1.4s\n",
            "[CV 2/5] END boosting=dart, lambda_l1=0.07, lambda_l2=0.07, learning_rate=0.1, max_depth=3, n_estimators=300, objective=binary, random_state=42;, score=(train=0.811, test=0.804) total time=   1.3s\n",
            "[CV 3/5] END boosting=dart, lambda_l1=0.07, lambda_l2=0.07, learning_rate=0.1, max_depth=3, n_estimators=300, objective=binary, random_state=42;, score=(train=0.815, test=0.788) total time=   1.3s\n",
            "[CV 4/5] END boosting=dart, lambda_l1=0.07, lambda_l2=0.07, learning_rate=0.1, max_depth=3, n_estimators=300, objective=binary, random_state=42;, score=(train=0.810, test=0.812) total time=   1.3s\n",
            "[CV 5/5] END boosting=dart, lambda_l1=0.07, lambda_l2=0.07, learning_rate=0.1, max_depth=3, n_estimators=300, objective=binary, random_state=42;, score=(train=0.808, test=0.798) total time=   1.3s\n",
            "[CV 1/5] END boosting=dart, lambda_l1=0.07, lambda_l2=0.07, learning_rate=0.1, max_depth=4, n_estimators=100, objective=binary, random_state=42;, score=(train=0.818, test=0.774) total time=   0.3s\n",
            "[CV 2/5] END boosting=dart, lambda_l1=0.07, lambda_l2=0.07, learning_rate=0.1, max_depth=4, n_estimators=100, objective=binary, random_state=42;, score=(train=0.818, test=0.803) total time=   0.3s\n",
            "[CV 3/5] END boosting=dart, lambda_l1=0.07, lambda_l2=0.07, learning_rate=0.1, max_depth=4, n_estimators=100, objective=binary, random_state=42;, score=(train=0.816, test=0.790) total time=   0.3s\n",
            "[CV 4/5] END boosting=dart, lambda_l1=0.07, lambda_l2=0.07, learning_rate=0.1, max_depth=4, n_estimators=100, objective=binary, random_state=42;, score=(train=0.813, test=0.807) total time=   0.3s\n",
            "[CV 5/5] END boosting=dart, lambda_l1=0.07, lambda_l2=0.07, learning_rate=0.1, max_depth=4, n_estimators=100, objective=binary, random_state=42;, score=(train=0.811, test=0.812) total time=   0.3s\n",
            "[CV 1/5] END boosting=dart, lambda_l1=0.07, lambda_l2=0.07, learning_rate=0.1, max_depth=4, n_estimators=150, objective=binary, random_state=42;, score=(train=0.823, test=0.785) total time=   0.6s\n",
            "[CV 2/5] END boosting=dart, lambda_l1=0.07, lambda_l2=0.07, learning_rate=0.1, max_depth=4, n_estimators=150, objective=binary, random_state=42;, score=(train=0.822, test=0.804) total time=   0.6s\n",
            "[CV 3/5] END boosting=dart, lambda_l1=0.07, lambda_l2=0.07, learning_rate=0.1, max_depth=4, n_estimators=150, objective=binary, random_state=42;, score=(train=0.822, test=0.792) total time=   0.6s\n",
            "[CV 4/5] END boosting=dart, lambda_l1=0.07, lambda_l2=0.07, learning_rate=0.1, max_depth=4, n_estimators=150, objective=binary, random_state=42;, score=(train=0.818, test=0.809) total time=   0.6s\n",
            "[CV 5/5] END boosting=dart, lambda_l1=0.07, lambda_l2=0.07, learning_rate=0.1, max_depth=4, n_estimators=150, objective=binary, random_state=42;, score=(train=0.815, test=0.810) total time=   0.6s\n",
            "[CV 1/5] END boosting=dart, lambda_l1=0.07, lambda_l2=0.07, learning_rate=0.1, max_depth=4, n_estimators=300, objective=binary, random_state=42;, score=(train=0.837, test=0.789) total time=   1.7s\n",
            "[CV 2/5] END boosting=dart, lambda_l1=0.07, lambda_l2=0.07, learning_rate=0.1, max_depth=4, n_estimators=300, objective=binary, random_state=42;, score=(train=0.835, test=0.801) total time=   1.7s\n",
            "[CV 3/5] END boosting=dart, lambda_l1=0.07, lambda_l2=0.07, learning_rate=0.1, max_depth=4, n_estimators=300, objective=binary, random_state=42;, score=(train=0.839, test=0.794) total time=   1.6s\n",
            "[CV 4/5] END boosting=dart, lambda_l1=0.07, lambda_l2=0.07, learning_rate=0.1, max_depth=4, n_estimators=300, objective=binary, random_state=42;, score=(train=0.833, test=0.810) total time=   1.7s\n",
            "[CV 5/5] END boosting=dart, lambda_l1=0.07, lambda_l2=0.07, learning_rate=0.1, max_depth=4, n_estimators=300, objective=binary, random_state=42;, score=(train=0.831, test=0.798) total time=   2.4s\n",
            "[CV 1/5] END boosting=dart, lambda_l1=0.07, lambda_l2=0.07, learning_rate=0.15, max_depth=3, n_estimators=100, objective=binary, random_state=42;, score=(train=0.812, test=0.779) total time=   0.2s\n",
            "[CV 2/5] END boosting=dart, lambda_l1=0.07, lambda_l2=0.07, learning_rate=0.15, max_depth=3, n_estimators=100, objective=binary, random_state=42;, score=(train=0.807, test=0.801) total time=   0.5s\n",
            "[CV 3/5] END boosting=dart, lambda_l1=0.07, lambda_l2=0.07, learning_rate=0.15, max_depth=3, n_estimators=100, objective=binary, random_state=42;, score=(train=0.812, test=0.791) total time=   0.2s\n",
            "[CV 4/5] END boosting=dart, lambda_l1=0.07, lambda_l2=0.07, learning_rate=0.15, max_depth=3, n_estimators=100, objective=binary, random_state=42;, score=(train=0.806, test=0.809) total time=   0.2s\n",
            "[CV 5/5] END boosting=dart, lambda_l1=0.07, lambda_l2=0.07, learning_rate=0.15, max_depth=3, n_estimators=100, objective=binary, random_state=42;, score=(train=0.806, test=0.802) total time=   0.2s\n",
            "[CV 1/5] END boosting=dart, lambda_l1=0.07, lambda_l2=0.07, learning_rate=0.15, max_depth=3, n_estimators=150, objective=binary, random_state=42;, score=(train=0.815, test=0.776) total time=   0.5s\n",
            "[CV 2/5] END boosting=dart, lambda_l1=0.07, lambda_l2=0.07, learning_rate=0.15, max_depth=3, n_estimators=150, objective=binary, random_state=42;, score=(train=0.808, test=0.801) total time=   0.4s\n",
            "[CV 3/5] END boosting=dart, lambda_l1=0.07, lambda_l2=0.07, learning_rate=0.15, max_depth=3, n_estimators=150, objective=binary, random_state=42;, score=(train=0.813, test=0.791) total time=   0.4s\n",
            "[CV 4/5] END boosting=dart, lambda_l1=0.07, lambda_l2=0.07, learning_rate=0.15, max_depth=3, n_estimators=150, objective=binary, random_state=42;, score=(train=0.806, test=0.808) total time=   0.4s\n",
            "[CV 5/5] END boosting=dart, lambda_l1=0.07, lambda_l2=0.07, learning_rate=0.15, max_depth=3, n_estimators=150, objective=binary, random_state=42;, score=(train=0.807, test=0.798) total time=   0.4s\n",
            "[CV 1/5] END boosting=dart, lambda_l1=0.07, lambda_l2=0.07, learning_rate=0.15, max_depth=3, n_estimators=300, objective=binary, random_state=42;, score=(train=0.824, test=0.779) total time=   1.3s\n",
            "[CV 2/5] END boosting=dart, lambda_l1=0.07, lambda_l2=0.07, learning_rate=0.15, max_depth=3, n_estimators=300, objective=binary, random_state=42;, score=(train=0.821, test=0.802) total time=   1.3s\n",
            "[CV 3/5] END boosting=dart, lambda_l1=0.07, lambda_l2=0.07, learning_rate=0.15, max_depth=3, n_estimators=300, objective=binary, random_state=42;, score=(train=0.825, test=0.789) total time=   1.3s\n",
            "[CV 4/5] END boosting=dart, lambda_l1=0.07, lambda_l2=0.07, learning_rate=0.15, max_depth=3, n_estimators=300, objective=binary, random_state=42;, score=(train=0.819, test=0.807) total time=   1.3s\n",
            "[CV 5/5] END boosting=dart, lambda_l1=0.07, lambda_l2=0.07, learning_rate=0.15, max_depth=3, n_estimators=300, objective=binary, random_state=42;, score=(train=0.818, test=0.781) total time=   1.3s\n",
            "[CV 1/5] END boosting=dart, lambda_l1=0.07, lambda_l2=0.07, learning_rate=0.15, max_depth=4, n_estimators=100, objective=binary, random_state=42;, score=(train=0.829, test=0.781) total time=   0.3s\n",
            "[CV 2/5] END boosting=dart, lambda_l1=0.07, lambda_l2=0.07, learning_rate=0.15, max_depth=4, n_estimators=100, objective=binary, random_state=42;, score=(train=0.825, test=0.798) total time=   0.3s\n",
            "[CV 3/5] END boosting=dart, lambda_l1=0.07, lambda_l2=0.07, learning_rate=0.15, max_depth=4, n_estimators=100, objective=binary, random_state=42;, score=(train=0.827, test=0.791) total time=   0.3s\n",
            "[CV 4/5] END boosting=dart, lambda_l1=0.07, lambda_l2=0.07, learning_rate=0.15, max_depth=4, n_estimators=100, objective=binary, random_state=42;, score=(train=0.827, test=0.807) total time=   0.3s\n",
            "[CV 5/5] END boosting=dart, lambda_l1=0.07, lambda_l2=0.07, learning_rate=0.15, max_depth=4, n_estimators=100, objective=binary, random_state=42;, score=(train=0.820, test=0.809) total time=   0.3s\n",
            "[CV 1/5] END boosting=dart, lambda_l1=0.07, lambda_l2=0.07, learning_rate=0.15, max_depth=4, n_estimators=150, objective=binary, random_state=42;, score=(train=0.836, test=0.781) total time=   0.6s\n",
            "[CV 2/5] END boosting=dart, lambda_l1=0.07, lambda_l2=0.07, learning_rate=0.15, max_depth=4, n_estimators=150, objective=binary, random_state=42;, score=(train=0.830, test=0.799) total time=   0.6s\n",
            "[CV 3/5] END boosting=dart, lambda_l1=0.07, lambda_l2=0.07, learning_rate=0.15, max_depth=4, n_estimators=150, objective=binary, random_state=42;, score=(train=0.834, test=0.794) total time=   0.6s\n",
            "[CV 4/5] END boosting=dart, lambda_l1=0.07, lambda_l2=0.07, learning_rate=0.15, max_depth=4, n_estimators=150, objective=binary, random_state=42;, score=(train=0.832, test=0.808) total time=   0.6s\n",
            "[CV 5/5] END boosting=dart, lambda_l1=0.07, lambda_l2=0.07, learning_rate=0.15, max_depth=4, n_estimators=150, objective=binary, random_state=42;, score=(train=0.829, test=0.802) total time=   0.6s\n",
            "[CV 1/5] END boosting=dart, lambda_l1=0.07, lambda_l2=0.07, learning_rate=0.15, max_depth=4, n_estimators=300, objective=binary, random_state=42;, score=(train=0.854, test=0.784) total time=   1.8s\n",
            "[CV 2/5] END boosting=dart, lambda_l1=0.07, lambda_l2=0.07, learning_rate=0.15, max_depth=4, n_estimators=300, objective=binary, random_state=42;, score=(train=0.854, test=0.800) total time=   1.6s\n",
            "[CV 3/5] END boosting=dart, lambda_l1=0.07, lambda_l2=0.07, learning_rate=0.15, max_depth=4, n_estimators=300, objective=binary, random_state=42;, score=(train=0.853, test=0.798) total time=   1.7s\n",
            "[CV 4/5] END boosting=dart, lambda_l1=0.07, lambda_l2=0.07, learning_rate=0.15, max_depth=4, n_estimators=300, objective=binary, random_state=42;, score=(train=0.847, test=0.807) total time=   1.6s\n",
            "[CV 5/5] END boosting=dart, lambda_l1=0.07, lambda_l2=0.07, learning_rate=0.15, max_depth=4, n_estimators=300, objective=binary, random_state=42;, score=(train=0.846, test=0.794) total time=   1.7s\n"
          ]
        },
        {
          "output_type": "display_data",
          "data": {
            "text/plain": [
              "<Figure size 432x288 with 1 Axes>"
            ],
            "image/png": "[encoded data removed]"
          },
          "metadata": {
            "needs_background": "light"
          }
        }
      ]
    },
    {
      "cell_type": "code",
      "source": [
        "light_gbm_results['LGBM'].best_score_, \\\n",
        "    light_gbm_results['LGBM'].best_params_"
      ],
      "metadata": {
        "id": "4KLi9utuusZK",
        "outputId": "a3ea03b8-c38a-4161-f791-9a62c6fd9b3c",
        "colab": {
          "base_uri": "https://localhost:8080/"
        }
      },
      "execution_count": 107,
      "outputs": [
        {
          "output_type": "execute_result",
          "data": {
            "text/plain": [
              "(0.7999726918680727,\n",
              " {'boosting': 'dart',\n",
              "  'lambda_l1': 0.07,\n",
              "  'lambda_l2': 0.07,\n",
              "  'learning_rate': 0.1,\n",
              "  'max_depth': 4,\n",
              "  'n_estimators': 150,\n",
              "  'objective': 'binary',\n",
              "  'random_state': 42})"
            ]
          },
          "metadata": {},
          "execution_count": 107
        }
      ]
    },
    {
      "cell_type": "markdown",
      "source": [
        "# Saving models"
      ],
      "metadata": {
        "id": "CsVOMjbc4I3p"
      }
    },
    {
      "cell_type": "code",
      "source": [
        "res_models = {\n",
        "    # **log_reg_results,\n",
        "    # **xgb_results\n",
        "    **light_gbm_results\n",
        "    # **cat_boost_results\n",
        "    \n",
        "    # **rf_results\n",
        "}\n",
        "res_models"
      ],
      "metadata": {
        "id": "4z_VlVbN4X2_",
        "outputId": "b7ff86b8-0e14-487b-f98e-c9e854fe5a04",
        "colab": {
          "base_uri": "https://localhost:8080/"
        }
      },
      "execution_count": 110,
      "outputs": [
        {
          "output_type": "execute_result",
          "data": {
            "text/plain": [
              "{'LGBM': GridSearchCV(cv=5, estimator=LGBMClassifier(),\n",
              "              param_grid=[{'boosting': ['dart'], 'lambda_l1': [0.07],\n",
              "                           'lambda_l2': [0.07], 'learning_rate': [0.1, 0.15],\n",
              "                           'max_depth': [3, 4], 'n_estimators': [100, 150, 300],\n",
              "                           'objective': ['binary'], 'random_state': [42]}],\n",
              "              return_train_score=True, scoring='accuracy', verbose=3)}"
            ]
          },
          "metadata": {},
          "execution_count": 110
        }
      ]
    },
    {
      "cell_type": "code",
      "source": [
        "manager.save_models(\n",
        "    {\n",
        "        f'{model_name}_gridsearch': result.best_estimator_\n",
        "        for model_name, result in res_models.items()\n",
        "    }\n",
        ")"
      ],
      "metadata": {
        "id": "ZWo-2Mmy4Jxk",
        "outputId": "73df87f3-b7d8-4033-f08e-c1416a6da04e",
        "colab": {
          "base_uri": "https://localhost:8080/"
        }
      },
      "execution_count": 111,
      "outputs": [
        {
          "output_type": "stream",
          "name": "stdout",
          "text": [
            "/content/gdrive/MyDrive/ML/Competitions/6.SpaceshipTitanic/Models/trial_5/LGBM_gridsearch already exists\n"
          ]
        }
      ]
    }
  ]
}