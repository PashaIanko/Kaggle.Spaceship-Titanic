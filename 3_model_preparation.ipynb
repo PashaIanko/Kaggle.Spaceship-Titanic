{
  "nbformat": 4,
  "nbformat_minor": 0,
  "metadata": {
    "colab": {
      "provenance": [],
      "authorship_tag": "ABX9TyMPimD5auO5y9bLRph68N9t",
      "include_colab_link": true
    },
    "kernelspec": {
      "name": "python3",
      "display_name": "Python 3"
    },
    "language_info": {
      "name": "python"
    }
  },
  "cells": [
    {
      "cell_type": "markdown",
      "metadata": {
        "id": "view-in-github",
        "colab_type": "text"
      },
      "source": [
        "<a href=\"https://colab.research.google.com/github/PashaIanko/Kaggle.Spaceship-Titanic/blob/main/3_model_preparation.ipynb\" target=\"_parent\"><img src=\"https://colab.research.google.com/assets/colab-badge.svg\" alt=\"Open In Colab\"/></a>"
      ]
    },
    {
      "cell_type": "markdown",
      "source": [
        "# Imports"
      ],
      "metadata": {
        "id": "7yVqYdL2W1JZ"
      }
    },
    {
      "cell_type": "code",
      "execution_count": 1,
      "metadata": {
        "id": "bv1M4eV9Wwab"
      },
      "outputs": [],
      "source": [
        "from google.colab import drive\n",
        "\n",
        "import numpy as np\n",
        "\n",
        "import pandas as pd\n",
        "\n",
        "import os"
      ]
    },
    {
      "cell_type": "markdown",
      "source": [
        "## PEP8 standard"
      ],
      "metadata": {
        "id": "CTa8zW4wW4RI"
      }
    },
    {
      "cell_type": "code",
      "source": [
        "%%capture\n",
        "!pip install pycodestyle\n",
        "!pip install --index-url https://test.pypi.org/simple/ nbpep8\n",
        "\n",
        "from nbpep8.nbpep8 import pep8"
      ],
      "metadata": {
        "id": "v0gjPO7pW7CV"
      },
      "execution_count": 2,
      "outputs": []
    },
    {
      "cell_type": "markdown",
      "source": [
        "## Importing custom packages"
      ],
      "metadata": {
        "id": "4mQrysTyXCeb"
      }
    },
    {
      "cell_type": "code",
      "source": [
        "%%capture\n",
        "def download_files(url_dict):\n",
        "    for file, url in url_dict.items():\n",
        "        !wget -O {file} {url} {file}\n",
        "\n",
        "\n",
        "git_download_path = \\\n",
        "    'https://raw.githubusercontent.com/PashaIanko/Sklearn-Utils/main/'\n",
        "\n",
        "files = [\n",
        "    'path_manager.py',\n",
        "    'sklearn_transformers.py',\n",
        "    'sklearn_utils.py',\n",
        "    'model.py'\n",
        "]\n",
        "\n",
        "url_dict = {file: git_download_path + file for file in files}\n",
        "download_files(url_dict)"
      ],
      "metadata": {
        "id": "jGf7K3s1W3vW"
      },
      "execution_count": 3,
      "outputs": []
    },
    {
      "cell_type": "code",
      "source": [
        "import importlib\n",
        "import path_manager\n",
        "import sklearn_utils\n",
        "import sklearn_transformers\n",
        "import model\n",
        "\n",
        "\n",
        "def reload_modules(modules):\n",
        "    for module in modules:\n",
        "        importlib.reload(module)\n",
        "\n",
        "\n",
        "reload_modules(\n",
        "    [\n",
        "        path_manager,\n",
        "        sklearn_transformers,\n",
        "        sklearn_utils,\n",
        "        model\n",
        "    ]\n",
        ")\n",
        "\n",
        "from path_manager import PathManager\n",
        "from sklearn_transformers import ColumnDropper\n",
        "from sklearn_utils import inf_statistics\n",
        "from model import Model"
      ],
      "metadata": {
        "id": "nvO2CpAZXW0Z"
      },
      "execution_count": 4,
      "outputs": []
    },
    {
      "cell_type": "markdown",
      "source": [
        "# Set up paths"
      ],
      "metadata": {
        "id": "iMrpxL6zXMez"
      }
    },
    {
      "cell_type": "code",
      "source": [
        "drive.mount('/content/gdrive', force_remount=True)\n",
        "gdrive_path = '/content/gdrive/MyDrive/'\n",
        "\n",
        "PREPROC_TRIAL = 1\n",
        "MODELS_TRIAL = 1\n",
        "COMPETITION_PATH = gdrive_path + 'ML/Competitions/6.SpaceshipTitanic/'\n",
        "\n",
        "manager = PathManager(\n",
        "    competition_path=COMPETITION_PATH,\n",
        "    preprocessing_trial=PREPROC_TRIAL,\n",
        "    models_trial=MODELS_TRIAL\n",
        ")\n",
        "manager.setup_paths()"
      ],
      "metadata": {
        "colab": {
          "base_uri": "https://localhost:8080/"
        },
        "id": "A5MRTpfaXKuZ",
        "outputId": "82032d7b-d62c-422a-f07b-16e43c51d2ef"
      },
      "execution_count": 5,
      "outputs": [
        {
          "output_type": "stream",
          "name": "stdout",
          "text": [
            "Mounted at /content/gdrive\n",
            "/content/gdrive/MyDrive/ML/Competitions/6.SpaceshipTitanic/Data/preproc_trial_1 already exists\n",
            "/content/gdrive/MyDrive/ML/Competitions/6.SpaceshipTitanic/Models/trial_1 already exists\n"
          ]
        }
      ]
    },
    {
      "cell_type": "markdown",
      "source": [
        "# Fixing seed"
      ],
      "metadata": {
        "id": "Dstvp4lxXy86"
      }
    },
    {
      "cell_type": "code",
      "source": [
        "RANDOM_SEED = 42\n",
        "\n",
        "np.random.seed(42)"
      ],
      "metadata": {
        "id": "7npCPy2jX0NK"
      },
      "execution_count": 6,
      "outputs": []
    },
    {
      "cell_type": "markdown",
      "source": [
        "# Download the data"
      ],
      "metadata": {
        "id": "3_J-YIyxXk3y"
      }
    },
    {
      "cell_type": "code",
      "source": [
        "os.listdir(manager.data_trial_path)"
      ],
      "metadata": {
        "colab": {
          "base_uri": "https://localhost:8080/"
        },
        "id": "Wpf0urw3Xo0D",
        "outputId": "4e72f3ed-845a-4c24-8b70-c5b58010804b"
      },
      "execution_count": 7,
      "outputs": [
        {
          "output_type": "execute_result",
          "data": {
            "text/plain": [
              "['train_processed.csv',\n",
              " 'trainval_processed.csv',\n",
              " 'test_sample_processed.csv',\n",
              " 'test_processed.csv']"
            ]
          },
          "metadata": {},
          "execution_count": 7
        }
      ]
    },
    {
      "cell_type": "code",
      "source": [
        "df_trainval = pd.read_csv(\n",
        "    os.path.join(\n",
        "        manager.data_trial_path,\n",
        "        'trainval_processed.csv'\n",
        "    )\n",
        ")\n",
        "df_trainval.shape\n",
        "\n",
        "X_trainval = df_trainval.values[:, :-1]\n",
        "Y_trainval = df_trainval.values[:, -1]"
      ],
      "metadata": {
        "id": "26yMwvMeXhan"
      },
      "execution_count": 30,
      "outputs": []
    },
    {
      "cell_type": "code",
      "source": [
        "df_test_sample = pd.read_csv(\n",
        "    os.path.join(\n",
        "        manager.data_trial_path,\n",
        "        'test_sample_processed.csv'\n",
        "    )\n",
        ")\n",
        "df_test_sample.shape\n",
        "\n",
        "X_test_sample = df_test_sample.values[:, :-1]\n",
        "Y_test_sample = df_test_sample.values[:, -1]"
      ],
      "metadata": {
        "id": "wuHTCoIqYGak"
      },
      "execution_count": 31,
      "outputs": []
    },
    {
      "cell_type": "markdown",
      "source": [
        "# Define models"
      ],
      "metadata": {
        "id": "2Kx50_bOYrOA"
      }
    },
    {
      "cell_type": "code",
      "source": [
        "from sklearn.linear_model import LogisticRegression"
      ],
      "metadata": {
        "id": "_6C7zqyxYuZZ"
      },
      "execution_count": 10,
      "outputs": []
    },
    {
      "cell_type": "code",
      "source": [
        "LogReg = Model(\n",
        "    LogisticRegression(),\n",
        "    'LogReg',\n",
        "    [\n",
        "        \n",
        "    ],\n",
        "    [\n",
        "\n",
        "    ]\n",
        ")"
      ],
      "metadata": {
        "id": "ZDIsSHtEYMHU"
      },
      "execution_count": 17,
      "outputs": []
    },
    {
      "cell_type": "code",
      "source": [
        "from sklearn.ensemble import RandomForestClassifier\n",
        "\n",
        "\n",
        "RandomForest = Model(\n",
        "    RandomForestClassifier(),\n",
        "    'RandomForest',\n",
        "    [\n",
        "        {\n",
        "            'n_estimators': [1, 5, 10, 50, 75],\n",
        "            'max_depth': [2, 4, 6],\n",
        "            'max_features': ['sqrt', 'log2'],\n",
        "            'random_state': [42],\n",
        "            'n_jobs': [-1]\n",
        "        }\n",
        "    ],\n",
        "    [\n",
        "\n",
        "    ]\n",
        ")"
      ],
      "metadata": {
        "id": "p5Yst9VMfi1K"
      },
      "execution_count": 39,
      "outputs": []
    },
    {
      "cell_type": "code",
      "source": [
        "from sklearn.svm import SVC\n",
        "\n",
        "\n",
        "SVM = Model(\n",
        "    SVC(),\n",
        "    'SVM',\n",
        "    [\n",
        "\n",
        "    ],\n",
        "    [\n",
        "        \n",
        "    ]\n",
        ")"
      ],
      "metadata": {
        "id": "owyAZXVRfx1G"
      },
      "execution_count": 20,
      "outputs": []
    },
    {
      "cell_type": "code",
      "source": [
        "all_models = {\n",
        "    model.name: model\n",
        "    for model in [\n",
        "        LogReg,\n",
        "        RandomForest,\n",
        "        SVM\n",
        "    ]\n",
        "}"
      ],
      "metadata": {
        "id": "59nL5KL_Y9Ty"
      },
      "execution_count": 21,
      "outputs": []
    },
    {
      "cell_type": "markdown",
      "source": [
        "# Shortlist models based on cross-validation behavior"
      ],
      "metadata": {
        "id": "JdsRgy7afXlI"
      }
    },
    {
      "cell_type": "code",
      "source": [
        "from sklearn_utils import plot_cv_results\n",
        "\n",
        "\n",
        "np.random.seed(RANDOM_SEED)\n",
        "\n",
        "res = plot_cv_results(\n",
        "    sklearn_models_dict_={\n",
        "        model_name: model.model\n",
        "        for model_name, model in all_models.items()\n",
        "    },\n",
        "    X_=X_trainval,\n",
        "    Y_=Y_trainval,\n",
        "    cv_=5,\n",
        "    scoring_='accuracy',  # 'accuracy'\n",
        "    to_put_minus_=False\n",
        ")"
      ],
      "metadata": {
        "id": "B7kMU00dZdP2",
        "outputId": "07bc9cbd-d139-47bd-dc66-28194ecee0d1",
        "colab": {
          "base_uri": "https://localhost:8080/",
          "height": 1000
        }
      },
      "execution_count": 22,
      "outputs": [
        {
          "output_type": "stream",
          "name": "stderr",
          "text": [
            "/usr/local/lib/python3.7/dist-packages/sklearn/linear_model/_logistic.py:818: ConvergenceWarning: lbfgs failed to converge (status=1):\n",
            "STOP: TOTAL NO. of ITERATIONS REACHED LIMIT.\n",
            "\n",
            "Increase the number of iterations (max_iter) or scale the data as shown in:\n",
            "    https://scikit-learn.org/stable/modules/preprocessing.html\n",
            "Please also refer to the documentation for alternative solver options:\n",
            "    https://scikit-learn.org/stable/modules/linear_model.html#logistic-regression\n",
            "  extra_warning_msg=_LOGISTIC_SOLVER_CONVERGENCE_MSG,\n",
            "/usr/local/lib/python3.7/dist-packages/sklearn/linear_model/_logistic.py:818: ConvergenceWarning: lbfgs failed to converge (status=1):\n",
            "STOP: TOTAL NO. of ITERATIONS REACHED LIMIT.\n",
            "\n",
            "Increase the number of iterations (max_iter) or scale the data as shown in:\n",
            "    https://scikit-learn.org/stable/modules/preprocessing.html\n",
            "Please also refer to the documentation for alternative solver options:\n",
            "    https://scikit-learn.org/stable/modules/linear_model.html#logistic-regression\n",
            "  extra_warning_msg=_LOGISTIC_SOLVER_CONVERGENCE_MSG,\n",
            "/usr/local/lib/python3.7/dist-packages/sklearn/linear_model/_logistic.py:818: ConvergenceWarning: lbfgs failed to converge (status=1):\n",
            "STOP: TOTAL NO. of ITERATIONS REACHED LIMIT.\n",
            "\n",
            "Increase the number of iterations (max_iter) or scale the data as shown in:\n",
            "    https://scikit-learn.org/stable/modules/preprocessing.html\n",
            "Please also refer to the documentation for alternative solver options:\n",
            "    https://scikit-learn.org/stable/modules/linear_model.html#logistic-regression\n",
            "  extra_warning_msg=_LOGISTIC_SOLVER_CONVERGENCE_MSG,\n",
            "/usr/local/lib/python3.7/dist-packages/sklearn/linear_model/_logistic.py:818: ConvergenceWarning: lbfgs failed to converge (status=1):\n",
            "STOP: TOTAL NO. of ITERATIONS REACHED LIMIT.\n",
            "\n",
            "Increase the number of iterations (max_iter) or scale the data as shown in:\n",
            "    https://scikit-learn.org/stable/modules/preprocessing.html\n",
            "Please also refer to the documentation for alternative solver options:\n",
            "    https://scikit-learn.org/stable/modules/linear_model.html#logistic-regression\n",
            "  extra_warning_msg=_LOGISTIC_SOLVER_CONVERGENCE_MSG,\n"
          ]
        },
        {
          "output_type": "stream",
          "name": "stdout",
          "text": [
            "Model           Seen folds avg score    Seen folds std    Unseen folds avg score    Unseen folds std\n",
            "------------  ----------------------  ----------------  ------------------------  ------------------\n",
            "SVM                         0.77912        0.00187455                   0.772647          0.0104669\n",
            "RandomForest                0.999964       7.19036e-05                  0.779841          0.0104659\n",
            "LogReg                      0.781744       0.00133021                   0.780557          0.00598339\n"
          ]
        },
        {
          "output_type": "display_data",
          "data": {
            "text/plain": [
              "<Figure size 432x288 with 1 Axes>"
            ],
            "image/png": "[encoded data removed]"
          },
          "metadata": {
            "needs_background": "light"
          }
        },
        {
          "output_type": "display_data",
          "data": {
            "text/plain": [
              "<Figure size 432x288 with 1 Axes>"
            ],
            "image/png": "[encoded data removed]"
          },
          "metadata": {
            "needs_background": "light"
          }
        },
        {
          "output_type": "display_data",
          "data": {
            "text/plain": [
              "<Figure size 432x288 with 1 Axes>"
            ],
            "image/png": "[encoded data removed]"
          },
          "metadata": {
            "needs_background": "light"
          }
        }
      ]
    },
    {
      "cell_type": "code",
      "source": [
        "shortlisted_models = {\n",
        "    model.name: model\n",
        "    for model in [\n",
        "        LogReg,\n",
        "        SVM,\n",
        "        RandomForest\n",
        "    ]\n",
        "}"
      ],
      "metadata": {
        "id": "r9x-2htUfb6W"
      },
      "execution_count": 41,
      "outputs": []
    },
    {
      "cell_type": "markdown",
      "source": [
        "# Fine tune shortlisted models with grid search"
      ],
      "metadata": {
        "id": "rOAf8XEAgPxS"
      }
    },
    {
      "cell_type": "code",
      "source": [
        "from sklearn_utils import fit_grid_search\n",
        "from sklearn_utils import dict_subset"
      ],
      "metadata": {
        "id": "EgX5pz16febX"
      },
      "execution_count": 28,
      "outputs": []
    },
    {
      "cell_type": "markdown",
      "source": [
        "## Random forest"
      ],
      "metadata": {
        "id": "Wr0F5QIqiegq"
      }
    },
    {
      "cell_type": "code",
      "source": [
        "rf_results = fit_grid_search(\n",
        "    models_dict_=dict_subset(\n",
        "        shortlisted_models,\n",
        "        ['RandomForest']\n",
        "    ),\n",
        "    X_=X_trainval,\n",
        "    Y_=Y_trainval,\n",
        "    cv_=5,\n",
        "    scoring_='accuracy'\n",
        ")"
      ],
      "metadata": {
        "id": "P-091VIbgX6y",
        "outputId": "4989abea-5969-4839-986f-2b6bfc2b7c1d",
        "colab": {
          "base_uri": "https://localhost:8080/"
        }
      },
      "execution_count": 42,
      "outputs": [
        {
          "output_type": "stream",
          "name": "stdout",
          "text": [
            "Fitting RandomForest\n"
          ]
        }
      ]
    },
    {
      "cell_type": "code",
      "source": [
        "rf_results['RandomForest'].best_score_, \\\n",
        "    rf_results['RandomForest'].best_estimator_"
      ],
      "metadata": {
        "id": "TtTMSwS_igZl",
        "outputId": "4c83efa0-996e-429c-d62f-a1c409a15d3d",
        "colab": {
          "base_uri": "https://localhost:8080/"
        }
      },
      "execution_count": 46,
      "outputs": [
        {
          "output_type": "execute_result",
          "data": {
            "text/plain": [
              "(0.7832902161376577,\n",
              " RandomForestClassifier(max_depth=6, max_features='sqrt', n_estimators=75,\n",
              "                        n_jobs=-1, random_state=42))"
            ]
          },
          "metadata": {},
          "execution_count": 46
        }
      ]
    },
    {
      "cell_type": "markdown",
      "source": [
        "## SVM"
      ],
      "metadata": {
        "id": "8ldwrJyCilfV"
      }
    },
    {
      "cell_type": "code",
      "source": [
        "log_reg_results = fit_grid_search(\n",
        "    dict_subset(\n",
        "        shortlisted_models,\n",
        "        ['SVM']\n",
        "    ),\n",
        "    X_=X_trainval,\n",
        "    Y_=Y_trainval,\n",
        "    cv_=5,\n",
        "    scoring_='accuracy'\n",
        ")"
      ],
      "metadata": {
        "id": "IlFgufIYiUFg"
      },
      "execution_count": null,
      "outputs": []
    }
  ]
}